{
 "cells": [
  {
   "cell_type": "code",
   "execution_count": 1,
   "id": "47ddc593-335a-4c95-925d-a1aef161033f",
   "metadata": {},
   "outputs": [
    {
     "name": "stdout",
     "output_type": "stream",
     "text": [
      "Using device: cuda\n",
      "\n",
      "NVIDIA GeForce RTX 2080 Ti\n",
      "Memory Usage:\n",
      "Allocated: 0.0 GB\n",
      "Cached:    0.0 GB\n"
     ]
    }
   ],
   "source": [
    "# setting device on GPU if available, else CPU\n",
    "import torch\n",
    "\n",
    "device = torch.device(\"cuda\" if torch.cuda.is_available() else \"cpu\")\n",
    "print(\"Using device:\", device)\n",
    "print()\n",
    "\n",
    "# Additional Info when using cuda\n",
    "if device.type == \"cuda\":\n",
    "    print(torch.cuda.get_device_name(0))\n",
    "    print(\"Memory Usage:\")\n",
    "    print(\"Allocated:\", round(torch.cuda.memory_allocated(0) / 1024**3, 1), \"GB\")\n",
    "    print(\"Cached:   \", round(torch.cuda.memory_reserved(0) / 1024**3, 1), \"GB\")"
   ]
  },
  {
   "cell_type": "code",
   "execution_count": 2,
   "id": "c473c419-8c66-4f10-9467-f1f15b5bb7d4",
   "metadata": {},
   "outputs": [],
   "source": [
    "%load_ext autoreload\n",
    "%autoreload 2\n",
    "%matplotlib inline"
   ]
  },
  {
   "cell_type": "code",
   "execution_count": 3,
   "id": "9785cf10-ca24-45fe-b6d7-726c1bf59178",
   "metadata": {},
   "outputs": [],
   "source": [
    "import torch\n",
    "import torch.nn.functional as F\n",
    "import torch.nn as nn\n",
    "\n",
    "from torch.utils.data import DataLoader\n",
    "\n",
    "from torch.utils import data\n",
    "\n",
    "\n",
    "import copy\n",
    "import os\n",
    "import random\n",
    "import cv2\n",
    "import numpy as np\n",
    "from PIL import Image\n",
    "import pandas as pd\n",
    "import matplotlib.pyplot as plt\n",
    "from glob import glob\n",
    "import functools\n",
    "from tqdm import tqdm\n",
    "from datetime import datetime\n",
    "import numpy as np\n",
    "from functools import partial\n",
    "# from core.datasets.vqa_motion_dataset import VQMotionDataset,DATALoader,VQVarLenMotionDataset,MotionCollator\n",
    "from einops import rearrange, reduce, pack, unpack\n",
    "import sys"
   ]
  },
  {
   "cell_type": "code",
   "execution_count": 4,
   "id": "1843bcc6-d85b-4286-b267-eca5d4c06502",
   "metadata": {},
   "outputs": [],
   "source": [
    "def findAllFile(base):\n",
    "    \"\"\"\n",
    "    Recursively find all files in the specified directory.\n",
    "\n",
    "    Args:\n",
    "        base (str): The base directory to start the search.\n",
    "\n",
    "    Returns:\n",
    "        list: A list of file paths found in the directory and its subdirectories.\n",
    "    \"\"\"\n",
    "    file_path = []\n",
    "    for root, ds, fs in os.walk(base, followlinks=True):\n",
    "        for f in fs:\n",
    "            fullname = os.path.join(root, f)\n",
    "            file_path.append(fullname)\n",
    "    return file_path"
   ]
  },
  {
   "cell_type": "code",
   "execution_count": 5,
   "id": "f6ed2250-2a08-4fec-beb3-2738486b89a9",
   "metadata": {},
   "outputs": [
    {
     "data": {
      "text/plain": [
       "'/coc/scratch/sanisetty3/music_motion/ATCMG'"
      ]
     },
     "execution_count": 5,
     "metadata": {},
     "output_type": "execute_result"
    }
   ],
   "source": [
    "pwd"
   ]
  },
  {
   "cell_type": "code",
   "execution_count": null,
   "id": "4c32d6c7-2dbe-46c0-9f78-8062584c2294",
   "metadata": {
    "scrolled": true
   },
   "outputs": [],
   "source": []
  },
  {
   "cell_type": "code",
   "execution_count": null,
   "id": "e9e839cf-38d1-4bac-822d-25f5619424b5",
   "metadata": {},
   "outputs": [],
   "source": []
  },
  {
   "cell_type": "code",
   "execution_count": 5,
   "id": "709bd178-a73f-498d-ab8e-4885ccef4220",
   "metadata": {},
   "outputs": [],
   "source": [
    "# from configs.config_t2m import cfg, get_cfg_defaults\n",
    "# from yacs.config import CfgNode as CN\n"
   ]
  },
  {
   "cell_type": "code",
   "execution_count": 6,
   "id": "7ebc50b4-d801-4d02-b64e-14d5004712a3",
   "metadata": {},
   "outputs": [],
   "source": [
    "# body_cfg = get_cfg_defaults()\n",
    "# body_cfg.merge_from_file(\"/srv/hays-lab/scratch/sanisetty3/music_motion/ATCMG/checkpoints/motion_muse_body_hands/motion_muse_body_hands.yaml\")"
   ]
  },
  {
   "cell_type": "code",
   "execution_count": 7,
   "id": "a68e0bc4-bf95-42e6-9581-8e72554c632a",
   "metadata": {},
   "outputs": [],
   "source": [
    "# pkg = torch.load(\"/srv/hays-lab/scratch/sanisetty3/music_motion/ATCMG/checkpoints/motion_muse_body_hands/motion_muse.pt\")"
   ]
  },
  {
   "cell_type": "code",
   "execution_count": 8,
   "id": "e1e6d00e-6deb-4089-87aa-34290ceb698b",
   "metadata": {},
   "outputs": [],
   "source": [
    "# pkg[\"config\"] = dict(body_cfg)"
   ]
  },
  {
   "cell_type": "code",
   "execution_count": null,
   "id": "5f33f0e7-964d-48e5-a114-b2133fb62cfd",
   "metadata": {},
   "outputs": [],
   "source": []
  },
  {
   "cell_type": "code",
   "execution_count": null,
   "id": "43d17eb5-3195-4e85-8ff1-4ac4def518af",
   "metadata": {},
   "outputs": [],
   "source": []
  },
  {
   "cell_type": "code",
   "execution_count": 9,
   "id": "b268b5d7-502f-428f-899b-f2470587299f",
   "metadata": {},
   "outputs": [],
   "source": [
    "from utils.motion_processing.hml_process import recover_from_ric, recover_root_rot_pos\n",
    "import utils.vis_utils.plot_3d_global as plot_3d\n",
    "import matplotlib.pyplot as plt"
   ]
  },
  {
   "cell_type": "code",
   "execution_count": null,
   "id": "8a36f7a2-c271-4998-9647-d89951a2bbea",
   "metadata": {},
   "outputs": [],
   "source": []
  },
  {
   "cell_type": "markdown",
   "id": "54003cfb-544e-419b-b143-315c7a832876",
   "metadata": {},
   "source": [
    "## VQVAE"
   ]
  },
  {
   "cell_type": "code",
   "execution_count": null,
   "id": "abdf13d1-9fe5-4a0b-9f48-039763e9a6c9",
   "metadata": {},
   "outputs": [],
   "source": []
  },
  {
   "cell_type": "code",
   "execution_count": 6,
   "id": "2803dc9a-5276-4e3f-bfef-a12c919b6600",
   "metadata": {},
   "outputs": [
    {
     "name": "stderr",
     "output_type": "stream",
     "text": [
      "/srv/hays-lab/flash5/sanisetty3/miniconda3/envs/tgm3d/lib/python3.9/site-packages/tqdm/auto.py:21: TqdmWarning: IProgress not found. Please update jupyter and ipywidgets. See https://ipywidgets.readthedocs.io/en/stable/user_install.html\n",
      "  from .autonotebook import tqdm as notebook_tqdm\n"
     ]
    }
   ],
   "source": [
    "from core.datasets.vq_dataset import VQSMPLXMotionDataset\n",
    "from core.datasets.vq_dataset import load_dataset, simple_collate\n",
    "from configs.config import cfg, get_cfg_defaults\n",
    "from core.datasets.conditioner import ConditionProvider\n",
    "from core import MotionRep\n",
    "from core.models.utils import instantiate_from_config, get_obj_from_str\n",
    "from core.models.loss import ReConsLoss\n",
    "from core.models.resnetVQ.rq_vqvae import HumanRVQVAE"
   ]
  },
  {
   "cell_type": "code",
   "execution_count": 7,
   "id": "c9c5eeeb-5648-4e6a-9fc9-000d083d2b08",
   "metadata": {},
   "outputs": [],
   "source": [
    "def get_decoded(model , motion):\n",
    "    encs = []\n",
    "    inds = []\n",
    "    for i in range(0 , motion.shape[1] , 120 ):\n",
    "        if i + 240 >= motion.shape[1]:\n",
    "            enc_b = model(motion[: , i:, :].to(device))\n",
    "            encs.append(enc_b.decoded_motion)\n",
    "            inds.append(enc_b.indices)\n",
    "            break\n",
    "        else:\n",
    "            enc_b = model(motion[: , i:i + 120, :].to(device))\n",
    "            encs.append(enc_b.decoded_motion)\n",
    "            inds.append(enc_b.indices)\n",
    "    return torch.cat(encs , 1), torch.cat(inds , -1)"
   ]
  },
  {
   "cell_type": "code",
   "execution_count": null,
   "id": "6bfa9eb6-bebd-44b2-aae6-f14335230ec7",
   "metadata": {},
   "outputs": [],
   "source": []
  },
  {
   "cell_type": "code",
   "execution_count": null,
   "id": "359ff182-863e-4745-b0fe-a1aa11b3cfd8",
   "metadata": {},
   "outputs": [],
   "source": []
  },
  {
   "cell_type": "code",
   "execution_count": null,
   "id": "b07d3a8c-2389-4eb0-b051-3ccae88ac4c8",
   "metadata": {},
   "outputs": [],
   "source": []
  },
  {
   "cell_type": "code",
   "execution_count": null,
   "id": "212a8735-6a05-4795-9050-3284c089b8bf",
   "metadata": {},
   "outputs": [],
   "source": []
  },
  {
   "cell_type": "code",
   "execution_count": 7,
   "id": "3842b9ed-bb4b-418c-ada7-9f4680f4d333",
   "metadata": {},
   "outputs": [],
   "source": [
    "def motion_dim(hml_rep, motion_rep, joints = 52, remove_trans=False):\n",
    "    dim = 0\n",
    "\n",
    "    if \"g\" in hml_rep:\n",
    "        if remove_trans:\n",
    "            dim += 2\n",
    "        else:\n",
    "            dim += 4\n",
    "    if \"p\" in hml_rep:\n",
    "        if motion_rep == MotionRep.BODY or motion_rep == MotionRep.FULL:\n",
    "            dim += (joints - 1) * 3\n",
    "        else:\n",
    "            dim += (joints) * 3\n",
    "    if \"r\" in hml_rep:\n",
    "        if motion_rep == MotionRep.BODY or motion_rep == MotionRep.FULL:\n",
    "            dim += (joints - 1) * 6\n",
    "        else:\n",
    "            dim += (joints) * 6\n",
    "    if \"v\" in hml_rep:\n",
    "        dim += joints * 3\n",
    "    if \"c\" in hml_rep:\n",
    "        dim += 4\n",
    "\n",
    "    return dim"
   ]
  },
  {
   "cell_type": "code",
   "execution_count": 8,
   "id": "46362b75-4932-41ad-b180-aa1fdefc093b",
   "metadata": {},
   "outputs": [
    {
     "data": {
      "text/plain": [
       "317"
      ]
     },
     "execution_count": 8,
     "metadata": {},
     "output_type": "execute_result"
    }
   ],
   "source": [
    "motion_dim(\"gpvc\" , MotionRep.FULL , 52)"
   ]
  },
  {
   "cell_type": "code",
   "execution_count": 10,
   "id": "45ce439e-d87a-4029-a939-8c13a36393cd",
   "metadata": {},
   "outputs": [],
   "source": [
    "body_cfg = get_cfg_defaults()\n",
    "body_cfg.merge_from_file(\"/srv/hays-lab/scratch/sanisetty3/music_motion/ATCMG/checkpoints/vqvae/vqvae_body_gpvc_1024/vqvae_body_gpvc_1024.yaml\")\n",
    "dataset_args = body_cfg.dataset\n",
    "model_args = body_cfg.vqvae"
   ]
  },
  {
   "cell_type": "code",
   "execution_count": 11,
   "id": "6e9673f8-2e13-413c-897d-54e66828ed4a",
   "metadata": {},
   "outputs": [
    {
     "name": "stdout",
     "output_type": "stream",
     "text": [
      "Sync is turned on False\n",
      "loaded model with  0.036310043185949326 tensor([100000.], device='cuda:0') steps\n"
     ]
    }
   ],
   "source": [
    "body_model = instantiate_from_config(body_cfg.vqvae).to(device)\n",
    "body_model.load(os.path.join(body_cfg.output_dir, \"vqvae_motion.pt\"))"
   ]
  },
  {
   "cell_type": "code",
   "execution_count": 25,
   "id": "a9060b4d-d0f4-4dd4-9779-ed91a2a8c26d",
   "metadata": {},
   "outputs": [],
   "source": [
    "from core.models.loss import ReConsLoss\n",
    "\n",
    "loss_fnc = ReConsLoss(\n",
    "            recons_loss=model_args.recons_loss,\n",
    "            use_geodesic_loss=model_args.use_geodesic_loss,\n",
    "            nb_joints=model_args.nb_joints,\n",
    "            hml_rep=dataset_args.hml_rep,\n",
    "            motion_rep=MotionRep(dataset_args.motion_rep),\n",
    "            use_simple_loss = False,\n",
    "            # remove_translation=True\n",
    "        )"
   ]
  },
  {
   "cell_type": "code",
   "execution_count": null,
   "id": "30c6ec83-b268-464f-b368-3d3eab2ec1b6",
   "metadata": {},
   "outputs": [],
   "source": []
  },
  {
   "cell_type": "code",
   "execution_count": null,
   "id": "c3e7dcd7-a19f-4e74-90c2-4b77231b69e4",
   "metadata": {},
   "outputs": [],
   "source": []
  },
  {
   "cell_type": "code",
   "execution_count": null,
   "id": "6306da5c-95aa-45b3-a43e-7473580ec3ea",
   "metadata": {},
   "outputs": [],
   "source": []
  },
  {
   "cell_type": "code",
   "execution_count": 19,
   "id": "578c9260-27c8-4de5-89e7-285667ecf24f",
   "metadata": {},
   "outputs": [],
   "source": [
    "# full_model = HumanRVQVAE(body_cfg.vqvae).to(device)"
   ]
  },
  {
   "cell_type": "code",
   "execution_count": null,
   "id": "41931680-cee8-44f4-86d0-b5d2fb5a6570",
   "metadata": {},
   "outputs": [],
   "source": []
  },
  {
   "cell_type": "code",
   "execution_count": 14,
   "id": "0923a18a-0fe4-4635-8792-489b255184c6",
   "metadata": {},
   "outputs": [],
   "source": [
    "dataset_names_default = [\n",
    "    \"animation\",\n",
    "    \"humanml\",\n",
    "    \"perform\",\n",
    "    \"GRAB\",\n",
    "    \"idea400\",\n",
    "    \"humman\",\n",
    "    \"beat\",\n",
    "    \"game_motion\",\n",
    "    \"music\",\n",
    "    \"aist\",\n",
    "    \"fitness\",\n",
    "    \"moyo\",\n",
    "    \"choreomaster\",\n",
    "    \"dance\",\n",
    "    \"kungfu\",\n",
    "    \"EgoBody\",\n",
    "    # \"HAA500\",\n",
    "]"
   ]
  },
  {
   "cell_type": "code",
   "execution_count": 11,
   "id": "02bcdb79-e6fc-4c84-8729-676ce32525d0",
   "metadata": {},
   "outputs": [],
   "source": [
    "dataset_args.window_size = -1"
   ]
  },
  {
   "cell_type": "code",
   "execution_count": 15,
   "id": "4a7fd60c-c052-4e26-a206-7d2101f75c4c",
   "metadata": {},
   "outputs": [
    {
     "name": "stdout",
     "output_type": "stream",
     "text": [
      "Total number of motions animation: 2\n",
      "Total number of motions humanml: 2944\n",
      "Total number of motions perform: 16\n",
      "Total number of motions GRAB: 67\n",
      "Total number of motions idea400: 577\n",
      "Total number of motions humman: 19\n",
      "Total number of motions beat: 162\n",
      "Total number of motions game_motion: 130\n",
      "Total number of motions music: 148\n",
      "Total number of motions aist: 61\n",
      "Total number of motions fitness: 572\n",
      "Total number of motions moyo: 9\n",
      "Total number of motions choreomaster: 2\n",
      "Total number of motions dance: 7\n",
      "Total number of motions kungfu: 42\n",
      "Total number of motions EgoBody: 49\n"
     ]
    }
   ],
   "source": [
    "train_ds, sampler_train, weights_train = load_dataset(\n",
    "            dataset_names=dataset_names_default,\n",
    "            dataset_args=body_cfg.dataset,\n",
    "            split=\"test\",\n",
    "        )"
   ]
  },
  {
   "cell_type": "code",
   "execution_count": null,
   "id": "c9e327c2-99ae-4398-ba1c-9aabd1115f6d",
   "metadata": {},
   "outputs": [],
   "source": []
  },
  {
   "cell_type": "code",
   "execution_count": null,
   "id": "aacbcf29-13be-4002-89af-f05573fa2f2e",
   "metadata": {},
   "outputs": [],
   "source": []
  },
  {
   "cell_type": "code",
   "execution_count": 16,
   "id": "5744bd23-da74-47e0-91e9-3f4406d6301d",
   "metadata": {},
   "outputs": [],
   "source": [
    "\n",
    "condition_provider = ConditionProvider(\n",
    "            motion_rep=MotionRep(body_cfg.dataset.motion_rep),\n",
    "            only_motion=True\n",
    "        )\n",
    "train_loader = torch.utils.data.DataLoader(\n",
    "        train_ds,\n",
    "        200,\n",
    "        # sampler=sampler_train,\n",
    "        collate_fn=partial(simple_collate , conditioner = condition_provider),\n",
    "    )"
   ]
  },
  {
   "cell_type": "code",
   "execution_count": 21,
   "id": "52ca5509-1ede-49fb-b39b-222774663ad5",
   "metadata": {
    "scrolled": true
   },
   "outputs": [],
   "source": [
    "@torch.no_grad()\n",
    "def compute_perplexity(code_idx):\n",
    "    # Calculate new centres\n",
    "    code_onehot = torch.zeros(\n",
    "        model_args.codebook_size, code_idx.shape[0], device=code_idx.device\n",
    "    )  # nb_code, N * L\n",
    "    code_onehot.scatter_(0, code_idx.view(1, code_idx.shape[0]), 1)\n",
    "\n",
    "    code_count = code_onehot.sum(dim=-1)  # nb_code\n",
    "    prob = code_count / torch.sum(code_count)\n",
    "    perplexity = torch.exp(-torch.sum(prob * torch.log(prob + 1e-7)))\n",
    "    return perplexity\n",
    "def validation_step():\n",
    "    val_loss_ae = {}\n",
    "    \n",
    "    cnt = 0\n",
    "    \n",
    "    with torch.no_grad():\n",
    "        for batch in tqdm(train_loader):\n",
    "            gt_motion = batch[\"motion\"][0].to(device)\n",
    "            \n",
    "            vqvae_output = body_model(\n",
    "                motion=gt_motion,\n",
    "                # mask=mask,\n",
    "            )\n",
    "    \n",
    "            loss_motion = loss_fnc(\n",
    "                vqvae_output.decoded_motion, gt_motion, mask=None\n",
    "            )\n",
    "    \n",
    "            loss = model_args.loss_motion * loss_motion+ model_args.commit * vqvae_output.commit_loss\n",
    "            perplexity = compute_perplexity(vqvae_output.indices.flatten())\n",
    "    \n",
    "            loss_dict = {\n",
    "                \"total_loss\": loss.detach().cpu(),\n",
    "                \"loss_motion\": loss_motion.detach().cpu(),\n",
    "                \"commit_loss\": vqvae_output.commit_loss.detach().cpu(),\n",
    "                \"perplexity\": perplexity,\n",
    "            }\n",
    "    \n",
    "            for key, value in loss_dict.items():\n",
    "                if key in val_loss_ae:\n",
    "                    val_loss_ae[key] += value\n",
    "                else:\n",
    "                    val_loss_ae[key] = value\n",
    "    \n",
    "            cnt += 1\n",
    "    \n",
    "    for key in val_loss_ae.keys():\n",
    "        val_loss_ae[key] = val_loss_ae[key] / cnt\n",
    "        print(key , val_loss_ae[key])"
   ]
  },
  {
   "cell_type": "code",
   "execution_count": 27,
   "id": "41055e27-9595-4a15-904f-5954db4e44e8",
   "metadata": {},
   "outputs": [
    {
     "name": "stdout",
     "output_type": "stream",
     "text": [
      "Sync is turned on False\n",
      "loaded model with  0.036310043185949326 tensor([100000.], device='cuda:0') steps\n"
     ]
    }
   ],
   "source": [
    "body_model = instantiate_from_config(body_cfg.vqvae).to(device)\n",
    "body_model.load(\"/srv/hays-lab/scratch/sanisetty3/music_motion/ATCMG/checkpoints/vqvae/vqvae_body_gpvc_1024/checkpoints/vqvae_motion.100000.pt\")"
   ]
  },
  {
   "cell_type": "code",
   "execution_count": 28,
   "id": "c211abfb-3216-46f0-b8c6-4fcf477f6a9b",
   "metadata": {},
   "outputs": [
    {
     "name": "stderr",
     "output_type": "stream",
     "text": [
      "100%|██████████████████████████████████████████████████████████████████| 25/25 [00:08<00:00,  2.92it/s]"
     ]
    },
    {
     "name": "stdout",
     "output_type": "stream",
     "text": [
      "total_loss tensor(0.3089)\n",
      "loss_motion tensor(0.1443)\n",
      "commit_loss tensor(0.0815)\n",
      "perplexity tensor(476.7220, device='cuda:0')\n"
     ]
    },
    {
     "name": "stderr",
     "output_type": "stream",
     "text": [
      "\n"
     ]
    }
   ],
   "source": [
    "validation_step()"
   ]
  },
  {
   "cell_type": "code",
   "execution_count": null,
   "id": "7bcfd3c2-32db-469a-9320-6279d96438fa",
   "metadata": {},
   "outputs": [],
   "source": [
    "total_loss tensor(0.3134)\n",
    "loss_motion tensor(0.1180)\n",
    "commit_loss tensor(0.3095)\n",
    "perplexity tensor(456.9408, device='cuda:0')"
   ]
  },
  {
   "cell_type": "code",
   "execution_count": null,
   "id": "8f172cfa-02fc-4365-bebb-431b983e5e1c",
   "metadata": {},
   "outputs": [],
   "source": []
  },
  {
   "cell_type": "code",
   "execution_count": null,
   "id": "4f221193-5e7c-40a1-a10e-80b3adc842cd",
   "metadata": {},
   "outputs": [],
   "source": []
  },
  {
   "cell_type": "code",
   "execution_count": null,
   "id": "931e1bed-82a4-4e4a-a7e9-dff47bbb91c8",
   "metadata": {},
   "outputs": [],
   "source": []
  },
  {
   "cell_type": "code",
   "execution_count": 41,
   "id": "2d64c68a-7f26-4466-9fe9-92405d6f2b5e",
   "metadata": {},
   "outputs": [],
   "source": []
  },
  {
   "cell_type": "code",
   "execution_count": null,
   "id": "871fa42d-de6f-4210-b239-277c2d8f4708",
   "metadata": {},
   "outputs": [],
   "source": []
  },
  {
   "cell_type": "code",
   "execution_count": null,
   "id": "158e6fda-4f96-4801-9376-3f0360364017",
   "metadata": {},
   "outputs": [],
   "source": []
  },
  {
   "cell_type": "code",
   "execution_count": 23,
   "id": "d6343e75-8f82-4d09-9393-9ec0d4d548ef",
   "metadata": {},
   "outputs": [],
   "source": [
    "def remtrans(mot):\n",
    "    l = list(range(0, mot.shape[-1]))\n",
    "    ohprvc = l[:1] + l[3:]\n",
    "    mot = mot[..., ohprvc]\n",
    "    return mot\n",
    "\n",
    "def addtrans(mot):\n",
    "    z = torch.zeros(\n",
    "        mot.shape[:-1] + (2,),\n",
    "        dtype=mot.dtype,\n",
    "        device=mot.device,\n",
    "    )\n",
    "\n",
    "    mot = torch.cat(\n",
    "        [mot[..., 0:1], z, mot[..., 1:]], -1\n",
    "    )\n",
    "    return mot"
   ]
  },
  {
   "cell_type": "code",
   "execution_count": 15,
   "id": "0d5724bc-7fa7-438a-b719-9e2f754dd653",
   "metadata": {},
   "outputs": [
    {
     "data": {
      "text/plain": [
       "array(['idea400/subset_0049/Put_On_The_Jacket_And_Standing_At_The_Same_Time_clip_1.npy',\n",
       "       'idea400/subset_0015/Selfie_And_Walking_At_The_Same_Time.npy',\n",
       "       'idea400/subset_0020/Walking_While_Spread_Your_Hands.npy',\n",
       "       'idea400/subset_0040/Riding_The_Ferris_Wheel_During_Sitting.npy'],\n",
       "      dtype='<U78')"
      ]
     },
     "execution_count": 15,
     "metadata": {},
     "output_type": "execute_result"
    }
   ],
   "source": [
    "for batch in train_loader:\n",
    "    break\n",
    "batch[\"names\"]"
   ]
  },
  {
   "cell_type": "code",
   "execution_count": 16,
   "id": "03cedac5-1663-4b1f-8ada-079fe438df81",
   "metadata": {},
   "outputs": [
    {
     "data": {
      "text/plain": [
       "array(['idea400/subset_0049/Put_On_The_Jacket_And_Standing_At_The_Same_Time_clip_1.npy',\n",
       "       'idea400/subset_0015/Selfie_And_Walking_At_The_Same_Time.npy',\n",
       "       'idea400/subset_0020/Walking_While_Spread_Your_Hands.npy',\n",
       "       'idea400/subset_0040/Riding_The_Ferris_Wheel_During_Sitting.npy'],\n",
       "      dtype='<U78')"
      ]
     },
     "execution_count": 16,
     "metadata": {},
     "output_type": "execute_result"
    }
   ],
   "source": [
    "batch[\"names\"]"
   ]
  },
  {
   "cell_type": "code",
   "execution_count": 17,
   "id": "28a9791e-0a4d-433e-b383-ae803e138ba3",
   "metadata": {},
   "outputs": [],
   "source": [
    "gt_motion = batch[\"motion\"][0].to(device)"
   ]
  },
  {
   "cell_type": "code",
   "execution_count": 18,
   "id": "f60238ee-0f24-4565-9438-1b21878b8349",
   "metadata": {},
   "outputs": [],
   "source": [
    "out = body_model(gt_motion) "
   ]
  },
  {
   "cell_type": "code",
   "execution_count": 19,
   "id": "561264b9-22da-41a8-801e-b0246517939d",
   "metadata": {},
   "outputs": [],
   "source": [
    "motion_pred = out.decoded_motion"
   ]
  },
  {
   "cell_type": "code",
   "execution_count": 20,
   "id": "a2c9a2ea-9f7d-403d-8f60-5e487f8e289b",
   "metadata": {
    "scrolled": true
   },
   "outputs": [],
   "source": [
    "loss = loss_fnc(motion_pred , gt_motion)"
   ]
  },
  {
   "cell_type": "code",
   "execution_count": 25,
   "id": "ae2b982f-1f95-432a-ac3b-4c3cf21b8bf9",
   "metadata": {},
   "outputs": [],
   "source": []
  },
  {
   "cell_type": "code",
   "execution_count": null,
   "id": "e2edffc4-5bf0-4023-85bd-36385ed65883",
   "metadata": {},
   "outputs": [],
   "source": []
  },
  {
   "cell_type": "code",
   "execution_count": null,
   "id": "bfec0a7f-02f9-45f4-8428-f032ec24f898",
   "metadata": {
    "scrolled": true
   },
   "outputs": [],
   "source": []
  },
  {
   "cell_type": "code",
   "execution_count": null,
   "id": "042dbc0e-f38d-48ff-8beb-912738f69753",
   "metadata": {},
   "outputs": [],
   "source": []
  },
  {
   "cell_type": "code",
   "execution_count": 256,
   "id": "9ca2d77c-4a16-43f0-83c4-1a48da4c2a9a",
   "metadata": {},
   "outputs": [],
   "source": [
    "params_pred = torch.split(motion_pred, [4, 153, 156, 4], -1)\n",
    "params_gt = torch.split(gt_motion, [4, 153, 156, 4], -1)\n",
    "fid_r, fid_l = [8, 11], [7, 10]\n",
    "vel_param = params_gt[-2]\n",
    "vel = vel_param.contiguous().view(vel_param.shape[:2] + (52, 3))\n",
    "pred_c = loss_fnc.get_c_from_v(params_pred[-2])"
   ]
  },
  {
   "cell_type": "code",
   "execution_count": 200,
   "id": "2cbeee7b-c6fa-4490-8476-833fe116af4f",
   "metadata": {},
   "outputs": [],
   "source": [
    "vl = vel[:, :, fid_l]\n",
    "vr = vel[:, :, fid_r]\n"
   ]
  },
  {
   "cell_type": "code",
   "execution_count": null,
   "id": "6e818fb3-6a56-4a23-89ad-1f9d2cbbabeb",
   "metadata": {},
   "outputs": [],
   "source": []
  },
  {
   "cell_type": "code",
   "execution_count": null,
   "id": "fb3283f3-446b-42a3-b4e9-4c5757d75683",
   "metadata": {},
   "outputs": [],
   "source": []
  },
  {
   "cell_type": "code",
   "execution_count": null,
   "id": "776b262a-f233-4928-934f-f3dc38ed59fe",
   "metadata": {},
   "outputs": [],
   "source": []
  },
  {
   "cell_type": "code",
   "execution_count": null,
   "id": "ae65e440-bbd2-4dfc-8b29-95dbcb026656",
   "metadata": {},
   "outputs": [],
   "source": []
  },
  {
   "cell_type": "code",
   "execution_count": 190,
   "id": "d2d54483-269a-45fa-ac24-e0ecc17c4eba",
   "metadata": {},
   "outputs": [],
   "source": [
    "gt_c = 2*gt_motion[...,-4:] - 1\n",
    "prm_pred_c = 2*params_pred[-1][...,-4:] - 1"
   ]
  },
  {
   "cell_type": "code",
   "execution_count": 191,
   "id": "bc1e23e3-10c1-4bef-bb41-45de939fec3c",
   "metadata": {},
   "outputs": [
    {
     "data": {
      "text/plain": [
       "tensor(1.9972, device='cuda:0', grad_fn=<MeanBackward0>)"
      ]
     },
     "execution_count": 191,
     "metadata": {},
     "output_type": "execute_result"
    }
   ],
   "source": [
    "_binary_hinge_loss(pred_c , gt_c ).mean()"
   ]
  },
  {
   "cell_type": "code",
   "execution_count": 157,
   "id": "38f04f7b-3606-4659-8579-e42c16f731f1",
   "metadata": {},
   "outputs": [
    {
     "data": {
      "text/plain": [
       "tensor(293.7635, device='cuda:0', grad_fn=<MeanBackward0>)"
      ]
     },
     "execution_count": 157,
     "metadata": {},
     "output_type": "execute_result"
    }
   ],
   "source": [
    "nn.functional.hinge_embedding_loss(pred_c , gt_c)"
   ]
  },
  {
   "cell_type": "code",
   "execution_count": 171,
   "id": "e87d573f-8912-45b8-97f7-c29ba4be1ebe",
   "metadata": {},
   "outputs": [
    {
     "data": {
      "text/plain": [
       "tensor(0.9995, device='cuda:0', grad_fn=<RsubBackward1>)"
      ]
     },
     "execution_count": 171,
     "metadata": {},
     "output_type": "execute_result"
    }
   ],
   "source": [
    "1 - ((pred_c).reshape(-1) * gt_c.reshape(-1)).mean()"
   ]
  },
  {
   "cell_type": "code",
   "execution_count": 194,
   "id": "a8a9e712-582e-4414-89fa-557e76e017c8",
   "metadata": {},
   "outputs": [
    {
     "data": {
      "text/plain": [
       "tensor(1.0014, device='cuda:0', grad_fn=<RsubBackward1>)"
      ]
     },
     "execution_count": 194,
     "metadata": {},
     "output_type": "execute_result"
    }
   ],
   "source": [
    "1 - ((pred_c).reshape(-1) * prm_pred_c.reshape(-1)).mean()"
   ]
  },
  {
   "cell_type": "code",
   "execution_count": 144,
   "id": "1cfdb0ef-785f-4dbe-974a-92083f8ebaef",
   "metadata": {},
   "outputs": [
    {
     "data": {
      "text/plain": [
       "tensor(30.9476, device='cuda:0', grad_fn=<LinalgVectorNormBackward0>)"
      ]
     },
     "execution_count": 144,
     "metadata": {},
     "output_type": "execute_result"
    }
   ],
   "source": [
    "losses = 1 - (torch.mul(pred_c, gt_c))\n",
    "torch.norm(nn.functional.relu(losses))"
   ]
  },
  {
   "cell_type": "code",
   "execution_count": 149,
   "id": "19c77ff0-5b96-4705-b02a-dc2f32df5dfb",
   "metadata": {},
   "outputs": [
    {
     "data": {
      "text/plain": [
       "tensor(28.9765, device='cuda:0', grad_fn=<LinalgVectorNormBackward0>)"
      ]
     },
     "execution_count": 149,
     "metadata": {},
     "output_type": "execute_result"
    }
   ],
   "source": [
    "losses = 1 - (torch.mul(pred_c, gt_c))\n",
    "torch.norm(nn.functional.relu(losses))"
   ]
  },
  {
   "cell_type": "code",
   "execution_count": null,
   "id": "ae5cf41d-0fbd-4ef9-b664-54b8e1d9dc83",
   "metadata": {},
   "outputs": [],
   "source": []
  },
  {
   "cell_type": "code",
   "execution_count": null,
   "id": "8ff9dc11-fc89-4030-8dfa-a01ab3a37516",
   "metadata": {},
   "outputs": [],
   "source": []
  },
  {
   "cell_type": "code",
   "execution_count": null,
   "id": "d4a89e75-5d7b-4d4f-944a-76ecf9e52952",
   "metadata": {},
   "outputs": [],
   "source": []
  },
  {
   "cell_type": "code",
   "execution_count": 202,
   "id": "bf659e45-a80b-4824-ae98-ea370f625416",
   "metadata": {},
   "outputs": [],
   "source": [
    "fid_r, fid_l = [8, 11], [7, 10]\n",
    "params_gt = torch.split(gt_motion, [2, 63, 66, 4], -1)"
   ]
  },
  {
   "cell_type": "code",
   "execution_count": 172,
   "id": "57663ea3-e8ee-43b6-b7ff-acb38c9ebe53",
   "metadata": {},
   "outputs": [],
   "source": [
    "pos = params_gt[1].reshape((4,120,21,3))\n",
    "vel = params_gt[2].reshape((4,120,22,3))"
   ]
  },
  {
   "cell_type": "code",
   "execution_count": 142,
   "id": "dfbb79de-90d2-497f-bde7-69602857b22a",
   "metadata": {},
   "outputs": [],
   "source": [
    "pos[:,:,[1, 4, 7, 10, 0, 3, 6, 9]] =0 \n",
    "# vel[:,:,[2, 5, 8, 11, 1, 4, 7, 10]] =0 "
   ]
  },
  {
   "cell_type": "code",
   "execution_count": 114,
   "id": "07d87535-ec15-4a0a-b865-f696e692923e",
   "metadata": {},
   "outputs": [
    {
     "ename": "NameError",
     "evalue": "name 'vel' is not defined",
     "output_type": "error",
     "traceback": [
      "\u001b[0;31m---------------------------------------------------------------------------\u001b[0m",
      "\u001b[0;31mNameError\u001b[0m                                 Traceback (most recent call last)",
      "Cell \u001b[0;32mIn[114], line 1\u001b[0m\n\u001b[0;32m----> 1\u001b[0m pred_c \u001b[38;5;241m=\u001b[39m loss_fnc\u001b[38;5;241m.\u001b[39mget_c_from_v(\u001b[43mvel\u001b[49m)\n",
      "\u001b[0;31mNameError\u001b[0m: name 'vel' is not defined"
     ]
    }
   ],
   "source": [
    "pred_c = loss_fnc.get_c_from_v(vel)"
   ]
  },
  {
   "cell_type": "code",
   "execution_count": null,
   "id": "a1ee95fc-f611-46ad-ac67-e57c925a6dac",
   "metadata": {},
   "outputs": [],
   "source": []
  },
  {
   "cell_type": "code",
   "execution_count": 143,
   "id": "d8d939bf-46e0-4178-983f-60236738eae0",
   "metadata": {},
   "outputs": [],
   "source": [
    "new_mot = torch.cat([params_gt[0] , pos.reshape(4,120,-1) , vel.reshape(4,120,-1), params_gt[-1] ] , -1)"
   ]
  },
  {
   "cell_type": "code",
   "execution_count": 104,
   "id": "90cf15eb-db7f-4cdc-952f-1ed88e58bf2f",
   "metadata": {},
   "outputs": [
    {
     "data": {
      "text/plain": [
       "torch.Size([4, 120, 135])"
      ]
     },
     "execution_count": 104,
     "metadata": {},
     "output_type": "execute_result"
    }
   ],
   "source": [
    "new_mot.shape"
   ]
  },
  {
   "cell_type": "code",
   "execution_count": null,
   "id": "c7f5a660-ed1d-4570-88ed-ed22d48b7cab",
   "metadata": {},
   "outputs": [],
   "source": []
  },
  {
   "cell_type": "code",
   "execution_count": null,
   "id": "ff96d51e-02ad-4f5a-9987-595eb1ec2e50",
   "metadata": {},
   "outputs": [],
   "source": []
  },
  {
   "cell_type": "code",
   "execution_count": 203,
   "id": "c87ae675-d619-41aa-8fd9-ae7c0ef679c1",
   "metadata": {},
   "outputs": [],
   "source": [
    "vqvae_output = body_model(gt_motion)\n",
    "pred_motion = vqvae_output.decoded_motion\n",
    "params_pred = torch.split(pred_motion, [2, 63, 66, 4], -1)"
   ]
  },
  {
   "cell_type": "code",
   "execution_count": null,
   "id": "214c287b-9a8f-45f3-8d23-3719724bfedf",
   "metadata": {},
   "outputs": [],
   "source": []
  },
  {
   "cell_type": "code",
   "execution_count": 190,
   "id": "add2816d-c312-4be1-ac42-4d5797a469ec",
   "metadata": {},
   "outputs": [
    {
     "data": {
      "text/plain": [
       "torch.Size([4, 120, 135])"
      ]
     },
     "execution_count": 190,
     "metadata": {},
     "output_type": "execute_result"
    }
   ],
   "source": [
    "gt_motion.shape"
   ]
  },
  {
   "cell_type": "code",
   "execution_count": 211,
   "id": "31948e8a-deb6-4f4b-97da-546f6d1a4b2c",
   "metadata": {
    "scrolled": true
   },
   "outputs": [
    {
     "data": {
      "text/plain": [
       "tensor(2.7267, device='cuda:0', grad_fn=<AddBackward0>)"
      ]
     },
     "execution_count": 211,
     "metadata": {},
     "output_type": "execute_result"
    }
   ],
   "source": [
    "loss_fnc(gt_motion , pred_motion)"
   ]
  },
  {
   "cell_type": "code",
   "execution_count": null,
   "id": "ca3089a3-d334-429a-986a-412c65dde7d7",
   "metadata": {},
   "outputs": [],
   "source": []
  },
  {
   "cell_type": "code",
   "execution_count": 152,
   "id": "2fde5f03-40db-4ecc-a068-e152652b4935",
   "metadata": {},
   "outputs": [],
   "source": [
    "pred_c_pred = loss_fnc.get_c_from_v(params_pred[2].reshape((4,120,22,3)))"
   ]
  },
  {
   "cell_type": "code",
   "execution_count": null,
   "id": "03367fa0-6bad-4fdf-a442-e29829899dd0",
   "metadata": {},
   "outputs": [],
   "source": []
  },
  {
   "cell_type": "code",
   "execution_count": null,
   "id": "d55d31ea-3cc4-4d44-a794-01eb02ba957b",
   "metadata": {},
   "outputs": [],
   "source": []
  },
  {
   "cell_type": "code",
   "execution_count": 156,
   "id": "7d235c37-7e1d-41ba-a6a0-875d0aa25c43",
   "metadata": {},
   "outputs": [
    {
     "data": {
      "text/plain": [
       "tensor(-123.6793, device='cuda:0',\n",
       "       grad_fn=<BinaryCrossEntropyWithLogitsBackward0>)"
      ]
     },
     "execution_count": 156,
     "metadata": {},
     "output_type": "execute_result"
    }
   ],
   "source": [
    "nn.functional.binary_cross_entropy_with_logits(pred_c_pred , pred_c )"
   ]
  },
  {
   "cell_type": "code",
   "execution_count": null,
   "id": "df00240f-38a6-4702-8c5b-bf6889099da8",
   "metadata": {},
   "outputs": [],
   "source": []
  },
  {
   "cell_type": "code",
   "execution_count": 145,
   "id": "0d0c1f62-6c14-4267-bd82-75a3c58e812a",
   "metadata": {},
   "outputs": [],
   "source": [
    "pred_motion = addtrans(pred_motion)"
   ]
  },
  {
   "cell_type": "code",
   "execution_count": 146,
   "id": "77357ebc-3e4f-4bc2-866c-6884f902caa9",
   "metadata": {},
   "outputs": [],
   "source": [
    "gt_motion = addtrans(gt_motion)"
   ]
  },
  {
   "cell_type": "code",
   "execution_count": null,
   "id": "45cdf865-7ba3-4c4e-a0ed-d3bfb4072d45",
   "metadata": {},
   "outputs": [],
   "source": []
  },
  {
   "cell_type": "code",
   "execution_count": null,
   "id": "741e7cd0-4145-4d50-bb71-b7580839a572",
   "metadata": {},
   "outputs": [],
   "source": []
  },
  {
   "cell_type": "code",
   "execution_count": null,
   "id": "b1f6c499-38f7-46e6-aaad-6ac4499b97dd",
   "metadata": {},
   "outputs": [],
   "source": []
  },
  {
   "cell_type": "code",
   "execution_count": null,
   "id": "7b110a33-03d7-49b8-82d8-438be9d33deb",
   "metadata": {},
   "outputs": [],
   "source": []
  },
  {
   "cell_type": "code",
   "execution_count": 109,
   "id": "ede40a87-4f96-4221-ad0b-3366606fe437",
   "metadata": {},
   "outputs": [],
   "source": [
    "train_ds.datasets[0].render_hml(\n",
    "                    pred_motion[1].detach().cpu(),\n",
    "                    \"/srv/hays-lab/scratch/sanisetty3/music_motion/ATCMG/render/render_test.gif\", zero_trans=True , zero_orient=True )"
   ]
  },
  {
   "cell_type": "code",
   "execution_count": null,
   "id": "e45d6faf-f049-4253-9d4d-91bb6c4a9131",
   "metadata": {},
   "outputs": [],
   "source": []
  },
  {
   "cell_type": "code",
   "execution_count": null,
   "id": "4adcf997-87f4-4428-bdeb-6cc35b5c5a30",
   "metadata": {},
   "outputs": [],
   "source": []
  },
  {
   "cell_type": "code",
   "execution_count": null,
   "id": "a6209e26-d97f-4d1d-a08f-faf1ddd68d64",
   "metadata": {},
   "outputs": [],
   "source": []
  },
  {
   "cell_type": "code",
   "execution_count": null,
   "id": "33eea6a6-ac6b-4bef-802e-1bb2305a61a7",
   "metadata": {},
   "outputs": [],
   "source": []
  },
  {
   "cell_type": "code",
   "execution_count": null,
   "id": "4c8ecb85-61bb-4035-9872-52be87cc63b1",
   "metadata": {},
   "outputs": [],
   "source": []
  },
  {
   "cell_type": "code",
   "execution_count": null,
   "id": "cfe34f2b-0866-4833-941b-06feb4c50ade",
   "metadata": {},
   "outputs": [],
   "source": []
  },
  {
   "cell_type": "markdown",
   "id": "bde31577-231e-4af9-8985-d983cfa96a47",
   "metadata": {
    "jp-MarkdownHeadingCollapsed": true
   },
   "source": [
    "## Loss stuff"
   ]
  },
  {
   "cell_type": "code",
   "execution_count": null,
   "id": "3e4bf5ef-ddc2-4640-b6a4-36cab60ef250",
   "metadata": {},
   "outputs": [],
   "source": []
  },
  {
   "cell_type": "code",
   "execution_count": null,
   "id": "78c114e8-5d73-450a-8ce7-1a6558b71a51",
   "metadata": {},
   "outputs": [],
   "source": []
  },
  {
   "cell_type": "code",
   "execution_count": null,
   "id": "5bf1781c-0f58-4b03-864f-7c7647360ce0",
   "metadata": {},
   "outputs": [],
   "source": []
  },
  {
   "cell_type": "code",
   "execution_count": 183,
   "id": "ec383c69-368f-413b-986a-3065e0a63a2e",
   "metadata": {
    "scrolled": true
   },
   "outputs": [
    {
     "ename": "RuntimeError",
     "evalue": "split_with_sizes expects split_sizes to sum exactly to 135 (input tensor's size at dimension -1), but got split_sizes=[4, 63, 66, 4]",
     "output_type": "error",
     "traceback": [
      "\u001b[0;31m---------------------------------------------------------------------------\u001b[0m",
      "\u001b[0;31mRuntimeError\u001b[0m                              Traceback (most recent call last)",
      "Cell \u001b[0;32mIn[183], line 1\u001b[0m\n\u001b[0;32m----> 1\u001b[0m \u001b[43mloss_fnc\u001b[49m\u001b[43m(\u001b[49m\u001b[43mgt_motion\u001b[49m\u001b[43m \u001b[49m\u001b[43m,\u001b[49m\u001b[43m \u001b[49m\u001b[43mpred_motion\u001b[49m\u001b[43m)\u001b[49m\n",
      "File \u001b[0;32m/srv/hays-lab/flash5/sanisetty3/miniconda3/envs/tgm3d/lib/python3.9/site-packages/torch/nn/modules/module.py:1511\u001b[0m, in \u001b[0;36mModule._wrapped_call_impl\u001b[0;34m(self, *args, **kwargs)\u001b[0m\n\u001b[1;32m   1509\u001b[0m     \u001b[38;5;28;01mreturn\u001b[39;00m \u001b[38;5;28mself\u001b[39m\u001b[38;5;241m.\u001b[39m_compiled_call_impl(\u001b[38;5;241m*\u001b[39margs, \u001b[38;5;241m*\u001b[39m\u001b[38;5;241m*\u001b[39mkwargs)  \u001b[38;5;66;03m# type: ignore[misc]\u001b[39;00m\n\u001b[1;32m   1510\u001b[0m \u001b[38;5;28;01melse\u001b[39;00m:\n\u001b[0;32m-> 1511\u001b[0m     \u001b[38;5;28;01mreturn\u001b[39;00m \u001b[38;5;28;43mself\u001b[39;49m\u001b[38;5;241;43m.\u001b[39;49m\u001b[43m_call_impl\u001b[49m\u001b[43m(\u001b[49m\u001b[38;5;241;43m*\u001b[39;49m\u001b[43margs\u001b[49m\u001b[43m,\u001b[49m\u001b[43m \u001b[49m\u001b[38;5;241;43m*\u001b[39;49m\u001b[38;5;241;43m*\u001b[39;49m\u001b[43mkwargs\u001b[49m\u001b[43m)\u001b[49m\n",
      "File \u001b[0;32m/srv/hays-lab/flash5/sanisetty3/miniconda3/envs/tgm3d/lib/python3.9/site-packages/torch/nn/modules/module.py:1520\u001b[0m, in \u001b[0;36mModule._call_impl\u001b[0;34m(self, *args, **kwargs)\u001b[0m\n\u001b[1;32m   1515\u001b[0m \u001b[38;5;66;03m# If we don't have any hooks, we want to skip the rest of the logic in\u001b[39;00m\n\u001b[1;32m   1516\u001b[0m \u001b[38;5;66;03m# this function, and just call forward.\u001b[39;00m\n\u001b[1;32m   1517\u001b[0m \u001b[38;5;28;01mif\u001b[39;00m \u001b[38;5;129;01mnot\u001b[39;00m (\u001b[38;5;28mself\u001b[39m\u001b[38;5;241m.\u001b[39m_backward_hooks \u001b[38;5;129;01mor\u001b[39;00m \u001b[38;5;28mself\u001b[39m\u001b[38;5;241m.\u001b[39m_backward_pre_hooks \u001b[38;5;129;01mor\u001b[39;00m \u001b[38;5;28mself\u001b[39m\u001b[38;5;241m.\u001b[39m_forward_hooks \u001b[38;5;129;01mor\u001b[39;00m \u001b[38;5;28mself\u001b[39m\u001b[38;5;241m.\u001b[39m_forward_pre_hooks\n\u001b[1;32m   1518\u001b[0m         \u001b[38;5;129;01mor\u001b[39;00m _global_backward_pre_hooks \u001b[38;5;129;01mor\u001b[39;00m _global_backward_hooks\n\u001b[1;32m   1519\u001b[0m         \u001b[38;5;129;01mor\u001b[39;00m _global_forward_hooks \u001b[38;5;129;01mor\u001b[39;00m _global_forward_pre_hooks):\n\u001b[0;32m-> 1520\u001b[0m     \u001b[38;5;28;01mreturn\u001b[39;00m \u001b[43mforward_call\u001b[49m\u001b[43m(\u001b[49m\u001b[38;5;241;43m*\u001b[39;49m\u001b[43margs\u001b[49m\u001b[43m,\u001b[49m\u001b[43m \u001b[49m\u001b[38;5;241;43m*\u001b[39;49m\u001b[38;5;241;43m*\u001b[39;49m\u001b[43mkwargs\u001b[49m\u001b[43m)\u001b[49m\n\u001b[1;32m   1522\u001b[0m \u001b[38;5;28;01mtry\u001b[39;00m:\n\u001b[1;32m   1523\u001b[0m     result \u001b[38;5;241m=\u001b[39m \u001b[38;5;28;01mNone\u001b[39;00m\n",
      "File \u001b[0;32m/coc/scratch/sanisetty3/music_motion/ATCMG/core/models/loss.py:78\u001b[0m, in \u001b[0;36mReConsLoss.forward\u001b[0;34m(self, motion_pred, motion_gt, mask)\u001b[0m\n\u001b[1;32m     75\u001b[0m hml_rep \u001b[38;5;241m=\u001b[39m \u001b[38;5;28mself\u001b[39m\u001b[38;5;241m.\u001b[39mhml_rep\n\u001b[1;32m     77\u001b[0m loss \u001b[38;5;241m=\u001b[39m \u001b[38;5;241m0\u001b[39m\n\u001b[0;32m---> 78\u001b[0m params_pred \u001b[38;5;241m=\u001b[39m \u001b[43mtorch\u001b[49m\u001b[38;5;241;43m.\u001b[39;49m\u001b[43msplit\u001b[49m\u001b[43m(\u001b[49m\u001b[43mmotion_pred\u001b[49m\u001b[43m,\u001b[49m\u001b[43m \u001b[49m\u001b[38;5;28;43mself\u001b[39;49m\u001b[38;5;241;43m.\u001b[39;49m\u001b[43msplit_seq\u001b[49m\u001b[43m,\u001b[49m\u001b[43m \u001b[49m\u001b[38;5;241;43m-\u001b[39;49m\u001b[38;5;241;43m1\u001b[39;49m\u001b[43m)\u001b[49m\n\u001b[1;32m     79\u001b[0m params_gt \u001b[38;5;241m=\u001b[39m torch\u001b[38;5;241m.\u001b[39msplit(motion_gt, \u001b[38;5;28mself\u001b[39m\u001b[38;5;241m.\u001b[39msplit_seq, \u001b[38;5;241m-\u001b[39m\u001b[38;5;241m1\u001b[39m)\n\u001b[1;32m     81\u001b[0m \u001b[38;5;28;01mif\u001b[39;00m mask \u001b[38;5;129;01mis\u001b[39;00m \u001b[38;5;129;01mnot\u001b[39;00m \u001b[38;5;28;01mNone\u001b[39;00m:\n",
      "File \u001b[0;32m/srv/hays-lab/flash5/sanisetty3/miniconda3/envs/tgm3d/lib/python3.9/site-packages/torch/functional.py:190\u001b[0m, in \u001b[0;36msplit\u001b[0;34m(tensor, split_size_or_sections, dim)\u001b[0m\n\u001b[1;32m    184\u001b[0m     \u001b[38;5;28;01mreturn\u001b[39;00m handle_torch_function(\n\u001b[1;32m    185\u001b[0m         split, (tensor,), tensor, split_size_or_sections, dim\u001b[38;5;241m=\u001b[39mdim)\n\u001b[1;32m    186\u001b[0m \u001b[38;5;66;03m# Overwriting reason:\u001b[39;00m\n\u001b[1;32m    187\u001b[0m \u001b[38;5;66;03m# This dispatches to two ATen functions depending on the type of\u001b[39;00m\n\u001b[1;32m    188\u001b[0m \u001b[38;5;66;03m# split_size_or_sections. The branching code is in _tensor.py, which we\u001b[39;00m\n\u001b[1;32m    189\u001b[0m \u001b[38;5;66;03m# call here.\u001b[39;00m\n\u001b[0;32m--> 190\u001b[0m \u001b[38;5;28;01mreturn\u001b[39;00m \u001b[43mtensor\u001b[49m\u001b[38;5;241;43m.\u001b[39;49m\u001b[43msplit\u001b[49m\u001b[43m(\u001b[49m\u001b[43msplit_size_or_sections\u001b[49m\u001b[43m,\u001b[49m\u001b[43m \u001b[49m\u001b[43mdim\u001b[49m\u001b[43m)\u001b[49m\n",
      "File \u001b[0;32m/srv/hays-lab/flash5/sanisetty3/miniconda3/envs/tgm3d/lib/python3.9/site-packages/torch/_tensor.py:896\u001b[0m, in \u001b[0;36mTensor.split\u001b[0;34m(self, split_size, dim)\u001b[0m\n\u001b[1;32m    894\u001b[0m     \u001b[38;5;28;01mreturn\u001b[39;00m torch\u001b[38;5;241m.\u001b[39m_VF\u001b[38;5;241m.\u001b[39msplit(\u001b[38;5;28mself\u001b[39m, split_size, dim)  \u001b[38;5;66;03m# type: ignore[attr-defined]\u001b[39;00m\n\u001b[1;32m    895\u001b[0m \u001b[38;5;28;01melse\u001b[39;00m:\n\u001b[0;32m--> 896\u001b[0m     \u001b[38;5;28;01mreturn\u001b[39;00m \u001b[43mtorch\u001b[49m\u001b[38;5;241;43m.\u001b[39;49m\u001b[43m_VF\u001b[49m\u001b[38;5;241;43m.\u001b[39;49m\u001b[43msplit_with_sizes\u001b[49m\u001b[43m(\u001b[49m\u001b[38;5;28;43mself\u001b[39;49m\u001b[43m,\u001b[49m\u001b[43m \u001b[49m\u001b[43msplit_size\u001b[49m\u001b[43m,\u001b[49m\u001b[43m \u001b[49m\u001b[43mdim\u001b[49m\u001b[43m)\u001b[49m\n",
      "\u001b[0;31mRuntimeError\u001b[0m: split_with_sizes expects split_sizes to sum exactly to 135 (input tensor's size at dimension -1), but got split_sizes=[4, 63, 66, 4]"
     ]
    }
   ],
   "source": [
    "loss_fnc(gt_motion , pred_motion)"
   ]
  },
  {
   "cell_type": "code",
   "execution_count": null,
   "id": "01f23ca6-bbdb-48f9-babc-fdda3a19b96f",
   "metadata": {},
   "outputs": [],
   "source": []
  },
  {
   "cell_type": "code",
   "execution_count": 26,
   "id": "e0aa3ec3-0dfe-4dbc-bc85-69b0fadae77a",
   "metadata": {
    "scrolled": true
   },
   "outputs": [],
   "source": [
    "params_gt = torch.split(gt_motion, [4, 153, 156, 4], -1)"
   ]
  },
  {
   "cell_type": "code",
   "execution_count": 72,
   "id": "5ec7cec8-67cc-4650-9c22-7738751c6023",
   "metadata": {},
   "outputs": [],
   "source": [
    "params_pred = torch.split(pred_motion, [4, 153, 156, 4], -1)"
   ]
  },
  {
   "cell_type": "code",
   "execution_count": 37,
   "id": "19dd2940-8d6c-46b2-a84c-63a0fd79097b",
   "metadata": {
    "scrolled": true
   },
   "outputs": [
    {
     "data": {
      "text/plain": [
       "tensor([[1., 1.],\n",
       "        [1., 1.],\n",
       "        [1., 1.],\n",
       "        [1., 1.],\n",
       "        [1., 1.],\n",
       "        [1., 1.],\n",
       "        [1., 1.],\n",
       "        [1., 1.],\n",
       "        [1., 1.],\n",
       "        [1., 1.],\n",
       "        [1., 1.],\n",
       "        [1., 1.],\n",
       "        [1., 1.],\n",
       "        [1., 1.],\n",
       "        [1., 1.],\n",
       "        [1., 1.],\n",
       "        [1., 1.],\n",
       "        [1., 1.],\n",
       "        [1., 1.],\n",
       "        [1., 1.],\n",
       "        [1., 1.],\n",
       "        [1., 1.],\n",
       "        [1., 1.],\n",
       "        [1., 1.],\n",
       "        [1., 1.],\n",
       "        [1., 1.],\n",
       "        [1., 1.],\n",
       "        [1., 1.],\n",
       "        [1., 1.],\n",
       "        [1., 1.],\n",
       "        [1., 1.],\n",
       "        [1., 1.],\n",
       "        [1., 1.],\n",
       "        [1., 1.],\n",
       "        [1., 1.],\n",
       "        [1., 1.],\n",
       "        [1., 1.],\n",
       "        [1., 1.],\n",
       "        [1., 1.],\n",
       "        [1., 1.],\n",
       "        [1., 1.],\n",
       "        [1., 1.],\n",
       "        [1., 1.],\n",
       "        [1., 1.],\n",
       "        [1., 1.],\n",
       "        [1., 1.],\n",
       "        [1., 1.],\n",
       "        [1., 1.],\n",
       "        [1., 1.],\n",
       "        [1., 1.],\n",
       "        [1., 1.],\n",
       "        [1., 1.],\n",
       "        [1., 1.],\n",
       "        [1., 1.],\n",
       "        [1., 1.],\n",
       "        [1., 1.],\n",
       "        [1., 1.],\n",
       "        [1., 1.],\n",
       "        [1., 1.],\n",
       "        [1., 1.],\n",
       "        [1., 1.],\n",
       "        [1., 1.],\n",
       "        [1., 1.],\n",
       "        [1., 1.],\n",
       "        [0., 0.],\n",
       "        [0., 0.],\n",
       "        [0., 0.],\n",
       "        [0., 0.],\n",
       "        [0., 0.],\n",
       "        [0., 0.],\n",
       "        [0., 0.],\n",
       "        [0., 0.],\n",
       "        [0., 0.],\n",
       "        [1., 0.],\n",
       "        [1., 1.],\n",
       "        [1., 1.],\n",
       "        [1., 1.],\n",
       "        [1., 1.],\n",
       "        [1., 1.],\n",
       "        [1., 1.],\n",
       "        [1., 1.],\n",
       "        [1., 1.],\n",
       "        [1., 1.],\n",
       "        [1., 1.],\n",
       "        [1., 1.],\n",
       "        [1., 1.],\n",
       "        [1., 1.],\n",
       "        [1., 1.],\n",
       "        [1., 1.],\n",
       "        [1., 1.],\n",
       "        [1., 1.],\n",
       "        [1., 1.],\n",
       "        [1., 1.],\n",
       "        [1., 1.],\n",
       "        [1., 1.],\n",
       "        [1., 1.],\n",
       "        [1., 1.],\n",
       "        [1., 1.],\n",
       "        [1., 1.],\n",
       "        [1., 1.],\n",
       "        [1., 1.],\n",
       "        [1., 1.],\n",
       "        [1., 1.],\n",
       "        [0., 0.],\n",
       "        [0., 0.],\n",
       "        [0., 0.],\n",
       "        [0., 0.],\n",
       "        [0., 0.],\n",
       "        [0., 0.],\n",
       "        [0., 0.],\n",
       "        [0., 0.],\n",
       "        [0., 0.],\n",
       "        [0., 0.],\n",
       "        [0., 0.],\n",
       "        [1., 1.],\n",
       "        [1., 1.],\n",
       "        [1., 1.],\n",
       "        [1., 1.],\n",
       "        [1., 1.],\n",
       "        [1., 1.]], device='cuda:0')"
      ]
     },
     "execution_count": 37,
     "metadata": {},
     "output_type": "execute_result"
    }
   ],
   "source": [
    "params_gt[-1][2][:,:2]"
   ]
  },
  {
   "cell_type": "code",
   "execution_count": 29,
   "id": "55e0bbc0-999e-4b31-b05c-34810d39361d",
   "metadata": {},
   "outputs": [],
   "source": []
  },
  {
   "cell_type": "code",
   "execution_count": 48,
   "id": "9f26296d-fcd3-47d3-b83b-ad07ebb42a5b",
   "metadata": {},
   "outputs": [
    {
     "data": {
      "text/plain": [
       "torch.Size([4, 120, 52, 3])"
      ]
     },
     "execution_count": 48,
     "metadata": {},
     "output_type": "execute_result"
    }
   ],
   "source": []
  },
  {
   "cell_type": "code",
   "execution_count": 93,
   "id": "c1f2c070-6263-435e-9254-372d921815d2",
   "metadata": {},
   "outputs": [],
   "source": [
    "fid_r, fid_l = [8, 11], [7, 10]\n",
    "vel = params_gt[-2].contiguous().view(params_gt[-2].shape[:2] + (52 , 3))\n",
    "pred_cl = (torch.sum(vel[: , : , fid_l]**2 , dim = -1)  - 0.002)\n",
    "pred_cr = (torch.sum(vel[: , : , fid_r]**2 , dim = -1)   - 0.002 )\n",
    "pred_c = torch.cat([pred_cl , pred_cr] , -1) "
   ]
  },
  {
   "cell_type": "code",
   "execution_count": 94,
   "id": "ce411107-6815-4775-9d32-313ab9ef0d51",
   "metadata": {},
   "outputs": [],
   "source": [
    "vel2 = params_pred[-2].contiguous().view(params_pred[-2].shape[:2] + (52 , 3))\n",
    "pred_cl2 = (torch.sum(vel2[: , : , fid_l]**2 , dim = -1)  - 0.002)\n",
    "pred_cr2 = (torch.sum(vel2[: , : , fid_r]**2 , dim = -1)   - 0.002 )\n",
    "pred_c2 = torch.cat([pred_cl2 , pred_cr2] , -1) "
   ]
  },
  {
   "cell_type": "code",
   "execution_count": 90,
   "id": "e7afe496-21af-41fe-8a8e-5825f86ee90b",
   "metadata": {},
   "outputs": [
    {
     "data": {
      "text/plain": [
       "torch.Size([4, 120, 4])"
      ]
     },
     "execution_count": 90,
     "metadata": {},
     "output_type": "execute_result"
    }
   ],
   "source": [
    "pred_c.shape"
   ]
  },
  {
   "cell_type": "code",
   "execution_count": 92,
   "id": "8a684c36-54aa-417a-b688-7755e0828f0f",
   "metadata": {},
   "outputs": [
    {
     "data": {
      "text/plain": [
       "tensor([[0.1362, 0.1337, 0.1417, 0.1486],\n",
       "        [0.1257, 0.1235, 0.1333, 0.1287],\n",
       "        [0.1212, 0.1203, 0.1368, 0.1244],\n",
       "        [0.1205, 0.1205, 0.2200, 0.1857],\n",
       "        [0.1227, 0.1211, 0.5022, 0.4564],\n",
       "        [0.1243, 0.1220, 0.7181, 0.7111],\n",
       "        [0.1297, 0.1231, 0.8875, 0.9029],\n",
       "        [0.1262, 0.1220, 0.9042, 0.9424],\n",
       "        [0.1218, 0.1212, 0.9466, 0.9769],\n",
       "        [0.1228, 0.1199, 0.9726, 0.9917],\n",
       "        [0.1261, 0.1198, 0.9896, 0.9977],\n",
       "        [0.1254, 0.1202, 0.9889, 0.9973],\n",
       "        [0.1250, 0.1213, 0.9884, 0.9969],\n",
       "        [0.1224, 0.1206, 0.9422, 0.9743],\n",
       "        [0.1200, 0.1202, 0.7925, 0.8594],\n",
       "        [0.1210, 0.1205, 0.6797, 0.7429],\n",
       "        [0.1223, 0.1214, 0.5596, 0.6007],\n",
       "        [0.1225, 0.1295, 0.2403, 0.2365],\n",
       "        [0.1314, 0.1492, 0.1412, 0.1275],\n",
       "        [0.1254, 0.1372, 0.1253, 0.1219],\n",
       "        [0.1217, 0.1282, 0.1207, 0.1242],\n",
       "        [0.1323, 0.1215, 0.1313, 0.1201],\n",
       "        [0.1897, 0.1448, 0.1773, 0.1306],\n",
       "        [0.1626, 0.1378, 0.1313, 0.1200],\n",
       "        [0.1664, 0.1608, 0.1193, 0.1364],\n",
       "        [0.1896, 0.1805, 0.1194, 0.1254],\n",
       "        [0.2288, 0.2226, 0.1198, 0.1207],\n",
       "        [0.2153, 0.2025, 0.1196, 0.1210],\n",
       "        [0.2037, 0.1872, 0.1196, 0.1216],\n",
       "        [0.2157, 0.2008, 0.1199, 0.1211],\n",
       "        [0.2308, 0.2174, 0.1207, 0.1208],\n",
       "        [0.1678, 0.1565, 0.1201, 0.1202],\n",
       "        [0.1360, 0.1281, 0.1197, 0.1201],\n",
       "        [0.1430, 0.1318, 0.1200, 0.1206],\n",
       "        [0.1531, 0.1372, 0.1212, 0.1209],\n",
       "        [0.1311, 0.1237, 0.1217, 0.1193],\n",
       "        [0.1216, 0.1201, 0.1233, 0.1197],\n",
       "        [0.1201, 0.1219, 0.1264, 0.1196],\n",
       "        [0.1197, 0.1264, 0.1339, 0.1211],\n",
       "        [0.1200, 0.1232, 0.1408, 0.1261],\n",
       "        [0.1217, 0.1236, 0.1531, 0.1350],\n",
       "        [0.1198, 0.1218, 0.1904, 0.1667],\n",
       "        [0.1201, 0.1211, 0.2523, 0.2279],\n",
       "        [0.1209, 0.1209, 0.2948, 0.2963],\n",
       "        [0.1226, 0.1205, 0.3595, 0.4028],\n",
       "        [0.1233, 0.1202, 0.4341, 0.4992],\n",
       "        [0.1237, 0.1204, 0.5137, 0.5995],\n",
       "        [0.1237, 0.1201, 0.6411, 0.7776],\n",
       "        [0.1236, 0.1203, 0.7723, 0.9066],\n",
       "        [0.1226, 0.1206, 0.7632, 0.8937],\n",
       "        [0.1225, 0.1209, 0.7628, 0.8847],\n",
       "        [0.1235, 0.1199, 0.7708, 0.8988],\n",
       "        [0.1247, 0.1197, 0.7983, 0.9197],\n",
       "        [0.1239, 0.1197, 0.6027, 0.7679],\n",
       "        [0.1226, 0.1200, 0.4038, 0.5399],\n",
       "        [0.1206, 0.1198, 0.2088, 0.2456],\n",
       "        [0.1218, 0.1229, 0.1343, 0.1381],\n",
       "        [0.1255, 0.1228, 0.1258, 0.1278],\n",
       "        [0.1365, 0.1261, 0.1211, 0.1216],\n",
       "        [0.1499, 0.1303, 0.1201, 0.1196],\n",
       "        [0.1986, 0.1626, 0.1203, 0.1196],\n",
       "        [0.2186, 0.1991, 0.1197, 0.1192],\n",
       "        [0.2529, 0.2541, 0.1192, 0.1193],\n",
       "        [0.3721, 0.4112, 0.1193, 0.1194],\n",
       "        [0.5563, 0.6473, 0.1197, 0.1196],\n",
       "        [0.8043, 0.8825, 0.1201, 0.1194],\n",
       "        [0.9480, 0.9773, 0.1213, 0.1203],\n",
       "        [0.8894, 0.9407, 0.1206, 0.1199],\n",
       "        [0.7940, 0.8656, 0.1204, 0.1197],\n",
       "        [0.9067, 0.9522, 0.1207, 0.1198],\n",
       "        [0.9658, 0.9864, 0.1220, 0.1195],\n",
       "        [0.9231, 0.9581, 0.1217, 0.1198],\n",
       "        [0.8468, 0.8929, 0.1222, 0.1200],\n",
       "        [0.4750, 0.5093, 0.1220, 0.1195],\n",
       "        [0.2139, 0.2158, 0.1216, 0.1196],\n",
       "        [0.1627, 0.1620, 0.1253, 0.1237],\n",
       "        [0.1351, 0.1339, 0.1383, 0.1367],\n",
       "        [0.1243, 0.1243, 0.1384, 0.1288],\n",
       "        [0.1203, 0.1213, 0.1472, 0.1299],\n",
       "        [0.1202, 0.1219, 0.1444, 0.1306],\n",
       "        [0.1214, 0.1239, 0.1498, 0.1372],\n",
       "        [0.1200, 0.1224, 0.2452, 0.2101],\n",
       "        [0.1200, 0.1212, 0.4706, 0.3957],\n",
       "        [0.1198, 0.1202, 0.5567, 0.5219],\n",
       "        [0.1195, 0.1199, 0.6924, 0.7019],\n",
       "        [0.1196, 0.1202, 0.8245, 0.8729],\n",
       "        [0.1202, 0.1204, 0.9211, 0.9622],\n",
       "        [0.1204, 0.1199, 0.9526, 0.9837],\n",
       "        [0.1206, 0.1199, 0.9770, 0.9942],\n",
       "        [0.1205, 0.1202, 0.9775, 0.9946],\n",
       "        [0.1207, 0.1203, 0.9781, 0.9951],\n",
       "        [0.1209, 0.1199, 0.9457, 0.9817],\n",
       "        [0.1209, 0.1199, 0.8769, 0.9390],\n",
       "        [0.1218, 0.1195, 0.7478, 0.8516],\n",
       "        [0.1226, 0.1193, 0.5813, 0.7072],\n",
       "        [0.1230, 0.1226, 0.2745, 0.3139],\n",
       "        [0.1299, 0.1326, 0.1514, 0.1521],\n",
       "        [0.1297, 0.1262, 0.1300, 0.1306],\n",
       "        [0.1352, 0.1250, 0.1208, 0.1212],\n",
       "        [0.1451, 0.1274, 0.1202, 0.1206],\n",
       "        [0.1676, 0.1407, 0.1226, 0.1244],\n",
       "        [0.2666, 0.2345, 0.1205, 0.1216],\n",
       "        [0.4893, 0.4902, 0.1222, 0.1212],\n",
       "        [0.6212, 0.6695, 0.1215, 0.1209],\n",
       "        [0.7644, 0.8382, 0.1212, 0.1210],\n",
       "        [0.8479, 0.9134, 0.1217, 0.1203],\n",
       "        [0.9115, 0.9589, 0.1233, 0.1204],\n",
       "        [0.9712, 0.9915, 0.1234, 0.1194],\n",
       "        [0.9935, 0.9987, 0.1241, 0.1194],\n",
       "        [0.9872, 0.9966, 0.1221, 0.1197],\n",
       "        [0.9777, 0.9920, 0.1211, 0.1201],\n",
       "        [0.9744, 0.9904, 0.1230, 0.1196],\n",
       "        [0.9710, 0.9885, 0.1262, 0.1195],\n",
       "        [0.8081, 0.8664, 0.1234, 0.1197],\n",
       "        [0.4665, 0.4984, 0.1224, 0.1199],\n",
       "        [0.3338, 0.3396, 0.1259, 0.1201],\n",
       "        [0.2511, 0.2485, 0.1315, 0.1226],\n",
       "        [0.1467, 0.1478, 0.1327, 0.1237],\n",
       "        [0.1207, 0.1238, 0.1364, 0.1275],\n",
       "        [0.1209, 0.1231, 0.1440, 0.1288]], device='cuda:0')"
      ]
     },
     "execution_count": 92,
     "metadata": {},
     "output_type": "execute_result"
    }
   ],
   "source": [
    "nn.functional.sigmoid(1e3*pred_c)[2]"
   ]
  },
  {
   "cell_type": "code",
   "execution_count": 81,
   "id": "48bb3b7e-a010-42a4-b5c4-e9286d4e38b7",
   "metadata": {},
   "outputs": [
    {
     "data": {
      "text/plain": [
       "tensor([[1., 1., 1., 1.],\n",
       "        [1., 1., 1., 1.],\n",
       "        [1., 1., 1., 1.],\n",
       "        [1., 1., 1., 1.],\n",
       "        [1., 1., 0., 1.],\n",
       "        [1., 1., 0., 0.],\n",
       "        [1., 1., 0., 0.],\n",
       "        [1., 1., 0., 0.],\n",
       "        [1., 1., 0., 0.],\n",
       "        [1., 1., 0., 0.],\n",
       "        [1., 1., 0., 0.],\n",
       "        [1., 1., 0., 0.],\n",
       "        [1., 1., 0., 0.],\n",
       "        [1., 1., 0., 0.],\n",
       "        [1., 1., 0., 0.],\n",
       "        [1., 1., 0., 0.],\n",
       "        [1., 1., 0., 0.],\n",
       "        [1., 1., 1., 1.],\n",
       "        [1., 1., 1., 1.],\n",
       "        [1., 1., 1., 1.],\n",
       "        [1., 1., 1., 1.],\n",
       "        [1., 1., 1., 1.],\n",
       "        [1., 1., 1., 1.],\n",
       "        [1., 1., 1., 1.],\n",
       "        [1., 1., 1., 1.],\n",
       "        [1., 1., 1., 1.],\n",
       "        [1., 1., 1., 1.],\n",
       "        [1., 1., 1., 1.],\n",
       "        [1., 1., 1., 1.],\n",
       "        [1., 1., 1., 1.],\n",
       "        [1., 1., 1., 1.],\n",
       "        [1., 1., 1., 1.],\n",
       "        [1., 1., 1., 1.],\n",
       "        [1., 1., 1., 1.],\n",
       "        [1., 1., 1., 1.],\n",
       "        [1., 1., 1., 1.],\n",
       "        [1., 1., 1., 1.],\n",
       "        [1., 1., 1., 1.],\n",
       "        [1., 1., 1., 1.],\n",
       "        [1., 1., 1., 1.],\n",
       "        [1., 1., 1., 1.],\n",
       "        [1., 1., 1., 1.],\n",
       "        [1., 1., 1., 1.],\n",
       "        [1., 1., 1., 1.],\n",
       "        [1., 1., 1., 1.],\n",
       "        [1., 1., 1., 1.],\n",
       "        [1., 1., 0., 0.],\n",
       "        [1., 1., 0., 0.],\n",
       "        [1., 1., 0., 0.],\n",
       "        [1., 1., 0., 0.],\n",
       "        [1., 1., 0., 0.],\n",
       "        [1., 1., 0., 0.],\n",
       "        [1., 1., 0., 0.],\n",
       "        [1., 1., 0., 0.],\n",
       "        [1., 1., 1., 0.],\n",
       "        [1., 1., 1., 1.],\n",
       "        [1., 1., 1., 1.],\n",
       "        [1., 1., 1., 1.],\n",
       "        [1., 1., 1., 1.],\n",
       "        [1., 1., 1., 1.],\n",
       "        [1., 1., 1., 1.],\n",
       "        [1., 1., 1., 1.],\n",
       "        [1., 1., 1., 1.],\n",
       "        [1., 1., 1., 1.],\n",
       "        [0., 0., 1., 1.],\n",
       "        [0., 0., 1., 1.],\n",
       "        [0., 0., 1., 1.],\n",
       "        [0., 0., 1., 1.],\n",
       "        [0., 0., 1., 1.],\n",
       "        [0., 0., 1., 1.],\n",
       "        [0., 0., 1., 1.],\n",
       "        [0., 0., 1., 1.],\n",
       "        [0., 0., 1., 1.],\n",
       "        [1., 0., 1., 1.],\n",
       "        [1., 1., 1., 1.],\n",
       "        [1., 1., 1., 1.],\n",
       "        [1., 1., 1., 1.],\n",
       "        [1., 1., 1., 1.],\n",
       "        [1., 1., 1., 1.],\n",
       "        [1., 1., 1., 1.],\n",
       "        [1., 1., 1., 1.],\n",
       "        [1., 1., 1., 1.],\n",
       "        [1., 1., 1., 1.],\n",
       "        [1., 1., 0., 0.],\n",
       "        [1., 1., 0., 0.],\n",
       "        [1., 1., 0., 0.],\n",
       "        [1., 1., 0., 0.],\n",
       "        [1., 1., 0., 0.],\n",
       "        [1., 1., 0., 0.],\n",
       "        [1., 1., 0., 0.],\n",
       "        [1., 1., 0., 0.],\n",
       "        [1., 1., 0., 0.],\n",
       "        [1., 1., 0., 0.],\n",
       "        [1., 1., 0., 0.],\n",
       "        [1., 1., 0., 0.],\n",
       "        [1., 1., 1., 1.],\n",
       "        [1., 1., 1., 1.],\n",
       "        [1., 1., 1., 1.],\n",
       "        [1., 1., 1., 1.],\n",
       "        [1., 1., 1., 1.],\n",
       "        [1., 1., 1., 1.],\n",
       "        [1., 1., 1., 1.],\n",
       "        [1., 1., 1., 1.],\n",
       "        [0., 0., 1., 1.],\n",
       "        [0., 0., 1., 1.],\n",
       "        [0., 0., 1., 1.],\n",
       "        [0., 0., 1., 1.],\n",
       "        [0., 0., 1., 1.],\n",
       "        [0., 0., 1., 1.],\n",
       "        [0., 0., 1., 1.],\n",
       "        [0., 0., 1., 1.],\n",
       "        [0., 0., 1., 1.],\n",
       "        [0., 0., 1., 1.],\n",
       "        [0., 0., 1., 1.],\n",
       "        [1., 1., 1., 1.],\n",
       "        [1., 1., 1., 1.],\n",
       "        [1., 1., 1., 1.],\n",
       "        [1., 1., 1., 1.],\n",
       "        [1., 1., 1., 1.],\n",
       "        [1., 1., 1., 1.]], device='cuda:0')"
      ]
     },
     "execution_count": 81,
     "metadata": {},
     "output_type": "execute_result"
    }
   ],
   "source": [
    "params_gt[-1][2]"
   ]
  },
  {
   "cell_type": "code",
   "execution_count": 96,
   "id": "f32f458e-b28f-4172-8e2e-7e2b25858006",
   "metadata": {},
   "outputs": [
    {
     "data": {
      "text/plain": [
       "tensor([[0.1678, 0.1771, 0.2791, 0.1244],\n",
       "        [0.1665, 0.1632, 0.3834, 0.1200],\n",
       "        [0.1500, 0.1980, 0.3479, 0.1198],\n",
       "        [0.1480, 0.2139, 0.3985, 0.1206],\n",
       "        [0.1514, 0.2388, 0.4308, 0.1201],\n",
       "        [0.1593, 0.2427, 0.4499, 0.1199],\n",
       "        [0.1589, 0.2473, 0.4625, 0.1198],\n",
       "        [0.1608, 0.2481, 0.4487, 0.1198],\n",
       "        [0.1615, 0.2526, 0.4556, 0.1199],\n",
       "        [0.1597, 0.2612, 0.4654, 0.1203],\n",
       "        [0.1584, 0.2675, 0.4587, 0.1205],\n",
       "        [0.1579, 0.2590, 0.4684, 0.1199],\n",
       "        [0.1597, 0.2693, 0.4740, 0.1201],\n",
       "        [0.1605, 0.2606, 0.4666, 0.1197],\n",
       "        [0.1612, 0.2565, 0.4705, 0.1195],\n",
       "        [0.1591, 0.2685, 0.4773, 0.1207],\n",
       "        [0.1561, 0.2635, 0.4763, 0.1206],\n",
       "        [0.1530, 0.2780, 0.4933, 0.1202],\n",
       "        [0.1549, 0.2664, 0.5009, 0.1204],\n",
       "        [0.1530, 0.2598, 0.4861, 0.1202],\n",
       "        [0.1552, 0.2629, 0.4779, 0.1203],\n",
       "        [0.1529, 0.2580, 0.4669, 0.1199],\n",
       "        [0.1516, 0.2604, 0.4516, 0.1198],\n",
       "        [0.1506, 0.2609, 0.4679, 0.1199],\n",
       "        [0.1491, 0.2606, 0.4730, 0.1199],\n",
       "        [0.1512, 0.2644, 0.4893, 0.1198],\n",
       "        [0.1519, 0.2577, 0.4910, 0.1199],\n",
       "        [0.1516, 0.2598, 0.4804, 0.1198],\n",
       "        [0.1531, 0.2580, 0.4847, 0.1196],\n",
       "        [0.1524, 0.2565, 0.4849, 0.1197],\n",
       "        [0.1530, 0.2601, 0.4889, 0.1197],\n",
       "        [0.1552, 0.2603, 0.5017, 0.1197],\n",
       "        [0.1549, 0.2623, 0.5006, 0.1199],\n",
       "        [0.1523, 0.2658, 0.4995, 0.1200],\n",
       "        [0.1511, 0.2671, 0.5048, 0.1203],\n",
       "        [0.1511, 0.2604, 0.5101, 0.1202],\n",
       "        [0.1490, 0.2619, 0.5157, 0.1201],\n",
       "        [0.1493, 0.2530, 0.5071, 0.1203],\n",
       "        [0.1530, 0.2487, 0.4966, 0.1200],\n",
       "        [0.1527, 0.2555, 0.5013, 0.1203],\n",
       "        [0.1531, 0.2528, 0.4888, 0.1202],\n",
       "        [0.1548, 0.2536, 0.4863, 0.1202],\n",
       "        [0.1547, 0.2560, 0.5019, 0.1202],\n",
       "        [0.1550, 0.2540, 0.4976, 0.1199],\n",
       "        [0.1559, 0.2502, 0.4992, 0.1200],\n",
       "        [0.1544, 0.2480, 0.5045, 0.1200],\n",
       "        [0.1536, 0.2510, 0.5013, 0.1200],\n",
       "        [0.1538, 0.2485, 0.5015, 0.1199],\n",
       "        [0.1537, 0.2498, 0.5025, 0.1202],\n",
       "        [0.1558, 0.2481, 0.5053, 0.1200],\n",
       "        [0.1569, 0.2460, 0.4967, 0.1198],\n",
       "        [0.1558, 0.2484, 0.4948, 0.1198],\n",
       "        [0.1556, 0.2453, 0.4995, 0.1197],\n",
       "        [0.1506, 0.2448, 0.5035, 0.1199],\n",
       "        [0.1484, 0.2484, 0.4979, 0.1202],\n",
       "        [0.1477, 0.2385, 0.4817, 0.1204],\n",
       "        [0.1474, 0.2348, 0.4728, 0.1206],\n",
       "        [0.1483, 0.2343, 0.4765, 0.1204],\n",
       "        [0.1505, 0.2321, 0.4714, 0.1205],\n",
       "        [0.1510, 0.2345, 0.4732, 0.1202],\n",
       "        [0.1510, 0.2365, 0.4694, 0.1202],\n",
       "        [0.1519, 0.2319, 0.4699, 0.1203],\n",
       "        [0.1509, 0.2344, 0.4702, 0.1202],\n",
       "        [0.1527, 0.2363, 0.4709, 0.1203],\n",
       "        [0.1524, 0.2357, 0.4715, 0.1206],\n",
       "        [0.1533, 0.2367, 0.4919, 0.1210],\n",
       "        [0.1518, 0.2371, 0.4921, 0.1218],\n",
       "        [0.1515, 0.2413, 0.4921, 0.1224],\n",
       "        [0.1490, 0.2487, 0.4970, 0.1221],\n",
       "        [0.1482, 0.2494, 0.4805, 0.1220],\n",
       "        [0.1494, 0.2484, 0.4814, 0.1224],\n",
       "        [0.1486, 0.2581, 0.4892, 0.1225],\n",
       "        [0.1508, 0.2531, 0.4778, 0.1222],\n",
       "        [0.1524, 0.2527, 0.4765, 0.1226],\n",
       "        [0.1525, 0.2522, 0.4769, 0.1221],\n",
       "        [0.1534, 0.2431, 0.4541, 0.1218],\n",
       "        [0.1538, 0.2453, 0.4588, 0.1218],\n",
       "        [0.1495, 0.2497, 0.4650, 0.1215],\n",
       "        [0.1464, 0.2495, 0.4593, 0.1213],\n",
       "        [0.1474, 0.2488, 0.4695, 0.1211],\n",
       "        [0.1482, 0.2418, 0.4596, 0.1215],\n",
       "        [0.1499, 0.2382, 0.4661, 0.1216],\n",
       "        [0.1528, 0.2359, 0.4813, 0.1222],\n",
       "        [0.1509, 0.2412, 0.4888, 0.1234],\n",
       "        [0.1467, 0.2424, 0.4817, 0.1238],\n",
       "        [0.1460, 0.2399, 0.4803, 0.1234],\n",
       "        [0.1468, 0.2376, 0.4790, 0.1233],\n",
       "        [0.1470, 0.2481, 0.4957, 0.1228],\n",
       "        [0.1535, 0.2458, 0.4732, 0.1219],\n",
       "        [0.1571, 0.2519, 0.4607, 0.1225],\n",
       "        [0.1556, 0.2510, 0.4645, 0.1226],\n",
       "        [0.1596, 0.2321, 0.4381, 0.1221],\n",
       "        [0.1572, 0.2239, 0.4603, 0.1235],\n",
       "        [0.1535, 0.2227, 0.4561, 0.1237],\n",
       "        [0.1522, 0.2303, 0.4458, 0.1226],\n",
       "        [0.1527, 0.2370, 0.4564, 0.1227],\n",
       "        [0.1537, 0.2410, 0.4473, 0.1227],\n",
       "        [0.1545, 0.2383, 0.4582, 0.1225],\n",
       "        [0.1537, 0.2388, 0.4609, 0.1231],\n",
       "        [0.1543, 0.2401, 0.4552, 0.1232],\n",
       "        [0.1527, 0.2409, 0.4812, 0.1232],\n",
       "        [0.1517, 0.2507, 0.4922, 0.1230],\n",
       "        [0.1515, 0.2511, 0.4926, 0.1224],\n",
       "        [0.1512, 0.2493, 0.4759, 0.1224],\n",
       "        [0.1530, 0.2508, 0.4726, 0.1219],\n",
       "        [0.1569, 0.2470, 0.4544, 0.1227],\n",
       "        [0.1566, 0.2440, 0.4648, 0.1236],\n",
       "        [0.1564, 0.2539, 0.4780, 0.1242],\n",
       "        [0.1564, 0.2480, 0.4759, 0.1249],\n",
       "        [0.1539, 0.2461, 0.4772, 0.1251],\n",
       "        [0.1539, 0.2432, 0.4762, 0.1242],\n",
       "        [0.1556, 0.2420, 0.4613, 0.1244],\n",
       "        [0.1552, 0.2416, 0.4704, 0.1245],\n",
       "        [0.1514, 0.2566, 0.4781, 0.1266],\n",
       "        [0.1528, 0.2533, 0.4675, 0.1276],\n",
       "        [0.1518, 0.2627, 0.4479, 0.1298],\n",
       "        [0.1558, 0.2484, 0.4006, 0.1306],\n",
       "        [0.1396, 0.2522, 0.4550, 0.1304],\n",
       "        [0.1399, 0.1874, 0.3352, 0.1284],\n",
       "        [0.1615, 0.1789, 0.2703, 0.1529]], device='cuda:0',\n",
       "       grad_fn=<SelectBackward0>)"
      ]
     },
     "execution_count": 96,
     "metadata": {},
     "output_type": "execute_result"
    }
   ],
   "source": [
    "nn.functional.sigmoid(1e3*pred_c2)[2]"
   ]
  },
  {
   "cell_type": "code",
   "execution_count": 95,
   "id": "5b8faa84-ac7e-43bf-bd99-2426159044ae",
   "metadata": {},
   "outputs": [
    {
     "data": {
      "text/plain": [
       "tensor(1.4711, device='cuda:0',\n",
       "       grad_fn=<BinaryCrossEntropyWithLogitsBackward0>)"
      ]
     },
     "execution_count": 95,
     "metadata": {},
     "output_type": "execute_result"
    }
   ],
   "source": [
    "nn.functional.binary_cross_entropy_with_logits(1e3*pred_c2 , params_gt[-1] )"
   ]
  },
  {
   "cell_type": "code",
   "execution_count": null,
   "id": "d7f1d816-bf78-40ef-85fe-91f4126ca2bc",
   "metadata": {},
   "outputs": [],
   "source": []
  },
  {
   "cell_type": "code",
   "execution_count": null,
   "id": "29465e0b-93b9-408d-b14b-bab58369c616",
   "metadata": {},
   "outputs": [],
   "source": []
  },
  {
   "cell_type": "code",
   "execution_count": null,
   "id": "b4acfe2e-a24f-4699-a8a6-f997171fd9e0",
   "metadata": {},
   "outputs": [],
   "source": []
  },
  {
   "cell_type": "code",
   "execution_count": null,
   "id": "2d0db6e9-4893-4ca4-b358-3f7cb24cfa65",
   "metadata": {},
   "outputs": [],
   "source": []
  },
  {
   "cell_type": "code",
   "execution_count": null,
   "id": "97659733-ba6c-441e-a739-15a7cec8c502",
   "metadata": {},
   "outputs": [],
   "source": []
  },
  {
   "cell_type": "code",
   "execution_count": null,
   "id": "ca9069a5-8627-4c88-afe3-9aa0dec7a7ed",
   "metadata": {},
   "outputs": [],
   "source": []
  },
  {
   "cell_type": "code",
   "execution_count": null,
   "id": "79fc2692-aaa6-41d0-8329-aaee498d3a8b",
   "metadata": {},
   "outputs": [],
   "source": []
  },
  {
   "cell_type": "code",
   "execution_count": 62,
   "id": "ba2d0ec9-8da4-42b4-bd54-327ec9f0898d",
   "metadata": {},
   "outputs": [],
   "source": []
  },
  {
   "cell_type": "code",
   "execution_count": null,
   "id": "6ac2044c-eae7-444b-b8b3-34d2cab75749",
   "metadata": {},
   "outputs": [],
   "source": []
  },
  {
   "cell_type": "code",
   "execution_count": 59,
   "id": "e1e2c9ab-f509-45d7-adde-1b1733f9f7ba",
   "metadata": {
    "scrolled": true
   },
   "outputs": [],
   "source": [
    "# !python train_vqvae.py"
   ]
  },
  {
   "cell_type": "code",
   "execution_count": null,
   "id": "1800494d-6df8-4218-b1aa-a01ce8cb13ef",
   "metadata": {},
   "outputs": [],
   "source": []
  },
  {
   "cell_type": "code",
   "execution_count": null,
   "id": "1cfe833a-6934-406d-8081-bdae7065f807",
   "metadata": {},
   "outputs": [],
   "source": []
  },
  {
   "cell_type": "code",
   "execution_count": null,
   "id": "3921e614-d9f0-40e7-99fa-485783a09f55",
   "metadata": {},
   "outputs": [],
   "source": []
  },
  {
   "cell_type": "code",
   "execution_count": null,
   "id": "19553381-57f2-4b41-a422-f8f67e208839",
   "metadata": {},
   "outputs": [],
   "source": []
  },
  {
   "cell_type": "markdown",
   "id": "7ec65c91-e4e2-441b-a77c-91156d4bbde6",
   "metadata": {},
   "source": [
    "## Get indices"
   ]
  },
  {
   "cell_type": "code",
   "execution_count": 5,
   "id": "814ef76a-dff1-461f-afe0-ada984f50449",
   "metadata": {},
   "outputs": [
    {
     "name": "stderr",
     "output_type": "stream",
     "text": [
      "/srv/hays-lab/flash5/sanisetty3/miniconda3/envs/tgm3d/lib/python3.9/site-packages/tqdm/auto.py:21: TqdmWarning: IProgress not found. Please update jupyter and ipywidgets. See https://ipywidgets.readthedocs.io/en/stable/user_install.html\n",
      "  from .autonotebook import tqdm as notebook_tqdm\n"
     ]
    }
   ],
   "source": [
    "from core.datasets.vq_dataset import VQSMPLXMotionDataset\n",
    "from core.datasets.vq_dataset import load_dataset, simple_collate\n",
    "from configs.config import cfg, get_cfg_defaults\n",
    "from core.datasets.conditioner import ConditionProvider\n",
    "from core import MotionRep\n",
    "from core.models.utils import instantiate_from_config, get_obj_from_str\n",
    "from core.models.loss import ReConsLoss\n",
    "from core.models.resnetVQ.rq_vqvae import HumanRVQVAE"
   ]
  },
  {
   "cell_type": "code",
   "execution_count": 6,
   "id": "b79cdcf9-c6ed-43bd-93d7-57b0a4120003",
   "metadata": {},
   "outputs": [],
   "source": [
    "def get_decoded(model , motion):\n",
    "    encs = []\n",
    "    inds = []\n",
    "    seq = motion.shape[1]\n",
    "    motion = motion[: , :(seq//4)*4] \n",
    "    for i in range(0 , motion.shape[1] , 120 ):\n",
    "        if i + 240 >= motion.shape[1]:\n",
    "            enc_b = model(motion[: , i:, :].to(device))\n",
    "            encs.append(enc_b.decoded_motion)\n",
    "            inds.append(enc_b.indices)\n",
    "            break\n",
    "        else:\n",
    "            enc_b = model(motion[: , i:i + 120, :].to(device))\n",
    "            encs.append(enc_b.decoded_motion)\n",
    "            inds.append(enc_b.indices)\n",
    "    return torch.cat(encs , 1), torch.cat(inds , -1)"
   ]
  },
  {
   "cell_type": "code",
   "execution_count": 7,
   "id": "562c0ac5-0ce3-43b1-b259-65a1dc20751b",
   "metadata": {},
   "outputs": [],
   "source": [
    "body_cfg = get_cfg_defaults()\n",
    "body_cfg.merge_from_file(\"/srv/hays-lab/scratch/sanisetty3/music_motion/ATCMG/checkpoints/vqvae/vqvae_body_gprvc/vqvae_body_gprvc.yaml\")\n",
    "\n",
    "dataset_args = body_cfg.dataset\n",
    "model_args = body_cfg.vqvae"
   ]
  },
  {
   "cell_type": "code",
   "execution_count": 8,
   "id": "e4a8422f-4e8a-4416-864b-a2232e7c4e9f",
   "metadata": {},
   "outputs": [
    {
     "data": {
      "text/plain": [
       "'/srv/hays-lab/scratch/sanisetty3/music_motion/ATCMG/checkpoints/vqvae/vqvae_body_gprvc'"
      ]
     },
     "execution_count": 8,
     "metadata": {},
     "output_type": "execute_result"
    }
   ],
   "source": [
    "body_cfg.output_dir"
   ]
  },
  {
   "cell_type": "code",
   "execution_count": 9,
   "id": "a71db166-53dc-41fe-8fe8-2fc019d524b6",
   "metadata": {},
   "outputs": [
    {
     "name": "stdout",
     "output_type": "stream",
     "text": [
      "Sync is turned on False\n",
      "loaded model with  1.1994400024414062 tensor([110000.], device='cuda:0') steps\n"
     ]
    }
   ],
   "source": [
    "body_model = instantiate_from_config(body_cfg.vqvae).to(device).eval()\n",
    "body_model.load(\"/srv/hays-lab/scratch/sanisetty3/music_motion/ATCMG/checkpoints/vqvae/vqvae_body_gprvc/vqvae_motion.pt\")\n",
    "body_model.freeze()"
   ]
  },
  {
   "cell_type": "code",
   "execution_count": null,
   "id": "f5e1bb2d-1aaa-4b5f-838e-ff4e5cac3a16",
   "metadata": {},
   "outputs": [],
   "source": []
  },
  {
   "cell_type": "code",
   "execution_count": null,
   "id": "657d3373-7427-4618-b091-773068d3a738",
   "metadata": {},
   "outputs": [],
   "source": []
  },
  {
   "cell_type": "code",
   "execution_count": null,
   "id": "75bc38eb-c03b-4987-a2f4-1cf1a17f7c78",
   "metadata": {},
   "outputs": [],
   "source": []
  },
  {
   "cell_type": "code",
   "execution_count": null,
   "id": "93d3eb2f-c432-4ab3-b77e-47561954e839",
   "metadata": {},
   "outputs": [],
   "source": []
  },
  {
   "cell_type": "code",
   "execution_count": 10,
   "id": "a8497b4e-db83-4645-a0b5-81dc0e83b416",
   "metadata": {},
   "outputs": [],
   "source": [
    "dataset_args.window_size = -1"
   ]
  },
  {
   "cell_type": "code",
   "execution_count": 20,
   "id": "99ad160e-a583-4f66-a3a5-74dd015500c3",
   "metadata": {},
   "outputs": [
    {
     "name": "stdout",
     "output_type": "stream",
     "text": [
      "Total number of motions animation: 17\n",
      "Total number of motions humanml: 3546\n",
      "Total number of motions perform: 24\n",
      "Total number of motions GRAB: 67\n",
      "Total number of motions idea400: 626\n",
      "Total number of motions humman: 38\n",
      "Total number of motions beat: 162\n",
      "Total number of motions game_motion: 511\n",
      "Total number of motions music: 179\n",
      "Total number of motions aist: 74\n",
      "Total number of motions fitness: 837\n",
      "Total number of motions moyo: 9\n",
      "Total number of motions choreomaster: 2\n",
      "Total number of motions dance: 9\n",
      "Total number of motions kungfu: 52\n",
      "Total number of motions EgoBody: 49\n",
      "Total number of motions HAA500: 262\n"
     ]
    }
   ],
   "source": [
    "train_ds, sampler_train, weights_train = load_dataset(\n",
    "            # dataset_names=[\"moyo\"],\n",
    "            dataset_args=dataset_args,\n",
    "            split=\"test\",\n",
    "        )"
   ]
  },
  {
   "cell_type": "code",
   "execution_count": null,
   "id": "5fefab02-dace-41f2-824c-4e9410e668ae",
   "metadata": {},
   "outputs": [],
   "source": []
  },
  {
   "cell_type": "code",
   "execution_count": 22,
   "id": "fcb680f4-abeb-4351-b04e-41057f5f1e71",
   "metadata": {},
   "outputs": [],
   "source": [
    "\n",
    "condition_provider = ConditionProvider(\n",
    "            motion_rep=MotionRep(dataset_args.motion_rep),\n",
    "            only_motion=True\n",
    "        )\n",
    "dl = torch.utils.data.DataLoader(\n",
    "        train_ds,\n",
    "        1,\n",
    "        collate_fn=partial(simple_collate , conditioner = condition_provider),\n",
    "    )"
   ]
  },
  {
   "cell_type": "code",
   "execution_count": 23,
   "id": "768c1cc8-a1e8-4518-a1d2-ec3f380c2e07",
   "metadata": {},
   "outputs": [],
   "source": [
    "# for batch in dl:\n",
    "#     break\n",
    "# batch[\"names\"]"
   ]
  },
  {
   "cell_type": "code",
   "execution_count": 19,
   "id": "94b1489f-502a-4ccc-b7a0-dadefc36ab2c",
   "metadata": {},
   "outputs": [
    {
     "data": {
      "text/plain": [
       "torch.Size([1, 116, 263])"
      ]
     },
     "execution_count": 19,
     "metadata": {},
     "output_type": "execute_result"
    }
   ],
   "source": [
    "batch[\"motion\"][0].shape"
   ]
  },
  {
   "cell_type": "code",
   "execution_count": 79,
   "id": "9b2d1a29-c7ee-46ba-a427-33b10340a64e",
   "metadata": {},
   "outputs": [],
   "source": [
    "out = body_model(batch[\"motion\"][0] , temperature = 0)"
   ]
  },
  {
   "cell_type": "code",
   "execution_count": 17,
   "id": "58f568fb-8860-4019-b60b-5e41c502fbdd",
   "metadata": {},
   "outputs": [],
   "source": [
    "enc , ind = get_decoded(body_model , batch[\"motion\"][0])"
   ]
  },
  {
   "cell_type": "code",
   "execution_count": 16,
   "id": "726967b8-3105-4c78-a67c-cabf27f6742f",
   "metadata": {},
   "outputs": [],
   "source": [
    "indl = np.load(\"/srv/hays-lab/scratch/sanisetty3/motionx/indices/body_gprvc/moyo/220923_yogi_body_hands_03596_Boat_Pose_or_Paripurna_Navasana_-a_stageii.npy\")"
   ]
  },
  {
   "cell_type": "code",
   "execution_count": 19,
   "id": "bafeeb14-42c8-400b-a947-d8ffa33a6627",
   "metadata": {
    "scrolled": true
   },
   "outputs": [],
   "source": [
    "# body_model.decode(torch.LongTensor(indl).to(device))"
   ]
  },
  {
   "cell_type": "code",
   "execution_count": null,
   "id": "ec921ed8-a95b-4c39-a3df-f1b1a44884c9",
   "metadata": {
    "scrolled": true
   },
   "outputs": [],
   "source": []
  },
  {
   "cell_type": "code",
   "execution_count": null,
   "id": "c98d7e44-f2dc-4e2f-bbb3-4e7b07ee4a18",
   "metadata": {},
   "outputs": [],
   "source": []
  },
  {
   "cell_type": "code",
   "execution_count": 18,
   "id": "d947d08f-5b16-4384-a40a-4612a354abc5",
   "metadata": {},
   "outputs": [],
   "source": [
    "train_ds.datasets[0].render_hml(\n",
    "                    body_model.decode(torch.LongTensor(indl).to(device)).squeeze().cpu(),\n",
    "                    \"/srv/hays-lab/scratch/sanisetty3/music_motion/ATCMG/render/gen_full_gprvc.gif\",\n",
    "    # zero_orient = True,\n",
    "    # zero_trans=  True,\n",
    "                )"
   ]
  },
  {
   "cell_type": "code",
   "execution_count": null,
   "id": "c9178642-0d3f-4e15-990f-cf647d07b819",
   "metadata": {},
   "outputs": [],
   "source": []
  },
  {
   "cell_type": "code",
   "execution_count": null,
   "id": "83f8dc5a-e816-435f-b184-b3a22089af6d",
   "metadata": {},
   "outputs": [],
   "source": []
  },
  {
   "cell_type": "code",
   "execution_count": null,
   "id": "be6b2cf2-af49-4a0f-9a6f-fb524b0bb69d",
   "metadata": {},
   "outputs": [],
   "source": []
  },
  {
   "cell_type": "code",
   "execution_count": 24,
   "id": "c4cdbd76-0735-4505-b246-2efbdea7a8cd",
   "metadata": {},
   "outputs": [
    {
     "name": "stderr",
     "output_type": "stream",
     "text": [
      "100%|███████████████████████████████████████████████████████████████| 6464/6464 [08:42<00:00, 12.36it/s]\n"
     ]
    }
   ],
   "source": [
    "errors = []\n",
    "for input in tqdm(dl):\n",
    "    sve = os.path.join(\"/srv/hays-lab/scratch/sanisetty3/motionx/indices/body_gprvc\" , input[\"names\"][0] )\n",
    "    if os.path.exists(sve):\n",
    "        continue\n",
    "    os.makedirs(os.path.dirname(sve) , exist_ok=True)\n",
    "    try:\n",
    "        # if \"g\" in body_cfg.dataset.hml_rep:\n",
    "        #     l = list(range(0, batch[\"motion\"][0].shape[-1]))\n",
    "        #     ohprvc = l[:1] + l[3:]\n",
    "        #     gt_motion = batch[\"motion\"][0][..., ohprvc]\n",
    "        enc_b, inb = get_decoded(body_model ,  input[\"motion\"][0].to(device))\n",
    "        np.save(sve , inb.cpu().numpy())\n",
    "    except:\n",
    "        errors.append(input[\"names\"][0])\n",
    "    "
   ]
  },
  {
   "cell_type": "code",
   "execution_count": 29,
   "id": "3fe123c5-8890-4255-b5e5-ecbb30c9c202",
   "metadata": {},
   "outputs": [
    {
     "data": {
      "text/plain": [
       "0"
      ]
     },
     "execution_count": 29,
     "metadata": {},
     "output_type": "execute_result"
    }
   ],
   "source": [
    "len(errors)"
   ]
  },
  {
   "cell_type": "code",
   "execution_count": null,
   "id": "4e917424-5362-4d7c-b2f0-6c5e8fffaf4b",
   "metadata": {},
   "outputs": [],
   "source": []
  },
  {
   "cell_type": "code",
   "execution_count": null,
   "id": "a1739fab-af55-491f-b7f9-db6ef4fbca7e",
   "metadata": {},
   "outputs": [],
   "source": []
  },
  {
   "cell_type": "code",
   "execution_count": null,
   "id": "4a6ff969-7466-4753-a547-b666685318b2",
   "metadata": {},
   "outputs": [],
   "source": []
  },
  {
   "cell_type": "code",
   "execution_count": null,
   "id": "7a60f753-8497-4786-be1e-da13ad7f8db6",
   "metadata": {},
   "outputs": [],
   "source": []
  },
  {
   "cell_type": "markdown",
   "id": "8c0a5d54-1292-45ae-81f4-88c7493c226c",
   "metadata": {},
   "source": [
    "## Translation"
   ]
  },
  {
   "cell_type": "code",
   "execution_count": 133,
   "id": "3242abfb-7b2f-4518-b29f-59c8b5c23484",
   "metadata": {},
   "outputs": [],
   "source": [
    "from core.datasets.translation_dataset import load_dataset,simple_collate\n",
    "from configs.config import cfg, get_cfg_defaults\n",
    "from core.datasets.conditioner import ConditionProvider\n",
    "from core import MotionRep\n",
    "from core.models.utils import instantiate_from_config, get_obj_from_str\n",
    "import utils.rotation_conversions as geometry\n"
   ]
  },
  {
   "cell_type": "code",
   "execution_count": 134,
   "id": "01fcb21c-8e45-47fb-a2de-15e12f23cf7c",
   "metadata": {},
   "outputs": [],
   "source": [
    "from configs.config_t2o import cfg, get_cfg_defaults"
   ]
  },
  {
   "cell_type": "code",
   "execution_count": 135,
   "id": "a8917607-f65a-46fd-9f6e-206548df10a6",
   "metadata": {},
   "outputs": [],
   "source": [
    "body_cfg = get_cfg_defaults()\n",
    "body_cfg.merge_from_file(\"/srv/hays-lab/scratch/sanisetty3/music_motion/ATCMG/checkpoints/simple_motion_translation/simple_motion_translation.yaml\")"
   ]
  },
  {
   "cell_type": "code",
   "execution_count": 136,
   "id": "6bb750ea-4fe3-4dde-b800-0de77017e33e",
   "metadata": {},
   "outputs": [],
   "source": [
    "dataset_args = body_cfg.dataset\n",
    "model_args = body_cfg.vqvae"
   ]
  },
  {
   "cell_type": "code",
   "execution_count": 137,
   "id": "4534aa3e-75b8-4d58-8d78-30098c02d48e",
   "metadata": {},
   "outputs": [
    {
     "name": "stdout",
     "output_type": "stream",
     "text": [
      "Sync is turned on False\n",
      "loaded model with  0.06821402907371521 tensor([40000.], device='cuda:0') steps\n"
     ]
    }
   ],
   "source": [
    "trans_model = instantiate_from_config(model_args).to(device).eval()\n",
    "trans_model.load(os.path.join(body_cfg.output_dir, \"tcn_model.pt\"))"
   ]
  },
  {
   "cell_type": "code",
   "execution_count": null,
   "id": "54af67f3-8543-4461-9cf5-eae86d693938",
   "metadata": {},
   "outputs": [],
   "source": []
  },
  {
   "cell_type": "code",
   "execution_count": null,
   "id": "190dde18-ce4a-46fc-93ff-49cba75b7dd9",
   "metadata": {},
   "outputs": [],
   "source": []
  },
  {
   "cell_type": "code",
   "execution_count": 132,
   "id": "cb22a12c-bfd8-48f9-ac81-8edefdd3a7cb",
   "metadata": {},
   "outputs": [
    {
     "name": "stdout",
     "output_type": "stream",
     "text": [
      "Total number of motions choreomaster: 34\n",
      "Total number of motions idea400: 10946\n"
     ]
    }
   ],
   "source": [
    "train_ds, sampler_train, weights_train = load_dataset(\n",
    "            dataset_names=[\"choreomaster\" , \"idea400\"],\n",
    "            dataset_args=body_cfg.dataset,\n",
    "            split=\"train\",\n",
    "        )"
   ]
  },
  {
   "cell_type": "code",
   "execution_count": 121,
   "id": "5f66a315-051b-43d5-bef0-de759b7f5fc0",
   "metadata": {},
   "outputs": [],
   "source": [
    "\n",
    "condition_provider = ConditionProvider(\n",
    "            motion_rep=MotionRep(body_cfg.dataset.motion_rep),\n",
    "            only_motion=True\n",
    "        )\n",
    "train_loader = torch.utils.data.DataLoader(\n",
    "        train_ds,\n",
    "        4,\n",
    "        sampler=sampler_train,\n",
    "        collate_fn=partial(simple_collate , conditioner = condition_provider),\n",
    "    )"
   ]
  },
  {
   "cell_type": "code",
   "execution_count": 22,
   "id": "7c10997f-f43f-4282-a100-f030f7f92dc4",
   "metadata": {},
   "outputs": [],
   "source": [
    "def cossin2quat(r_rot):\n",
    "    mat = torch.zeros(\n",
    "        (\n",
    "            r_rot.shape[:-1]\n",
    "            + (\n",
    "                3,\n",
    "                3,\n",
    "            )\n",
    "        )\n",
    "    ).to(r_rot.device)\n",
    "    mat[..., 1, 1] = 1\n",
    "    mat[..., 0, 0] = r_rot[..., 0]\n",
    "    mat[..., 0, 2] = r_rot[..., 1]\n",
    "    mat[..., 2, 0] = -r_rot[..., 1]\n",
    "    mat[..., 2, 2] = r_rot[..., 0]\n",
    "    r_rot_quat = geometry.matrix_to_quaternion(mat)\n",
    "    return r_rot_quat"
   ]
  },
  {
   "cell_type": "code",
   "execution_count": 23,
   "id": "83d029c2-1af0-4200-b584-96cdba6412d0",
   "metadata": {},
   "outputs": [],
   "source": [
    "for batch in train_loader:\n",
    "    break\n"
   ]
  },
  {
   "cell_type": "code",
   "execution_count": 24,
   "id": "b81b7d2b-3ac6-480c-afa5-6a6c5b16aae8",
   "metadata": {},
   "outputs": [
    {
     "data": {
      "text/plain": [
       "array(['choreomaster/1138.npy', 'choreomaster/1072.npy',\n",
       "       'idea400/subset_0044/Simultaneously_Sitting_And_Both_Wrists_Touch.npy',\n",
       "       'idea400/subset_0020/Simultaneously_Standing_And_Spread_Your_Hands.npy'],\n",
       "      dtype='<U69')"
      ]
     },
     "execution_count": 24,
     "metadata": {},
     "output_type": "execute_result"
    }
   ],
   "source": [
    "batch[\"names\"]"
   ]
  },
  {
   "cell_type": "code",
   "execution_count": 122,
   "id": "94405c10-7287-44c5-b80b-5796d1ef8509",
   "metadata": {},
   "outputs": [],
   "source": [
    "gt_motion = batch[\"motion\"][0].to(device)\n"
   ]
  },
  {
   "cell_type": "code",
   "execution_count": 123,
   "id": "7be15373-4791-4ef8-abc5-eefb8e47242e",
   "metadata": {},
   "outputs": [
    {
     "data": {
      "text/plain": [
       "torch.Size([4, 120, 7])"
      ]
     },
     "execution_count": 123,
     "metadata": {},
     "output_type": "execute_result"
    }
   ],
   "source": [
    "gt_motion.shape"
   ]
  },
  {
   "cell_type": "code",
   "execution_count": 124,
   "id": "ec947d95-7287-4209-9501-50a6f0ec3b04",
   "metadata": {},
   "outputs": [],
   "source": [
    "rel_pos = gt_motion[..., 4:][..., [0, 2]]"
   ]
  },
  {
   "cell_type": "code",
   "execution_count": 125,
   "id": "5ab10cca-000d-4b38-be5f-d81ec9be509d",
   "metadata": {},
   "outputs": [],
   "source": [
    "r_rot = gt_motion[..., :4]\n",
    "r_rot2 = geometry.quaternion_to_matrix(r_rot)[..., [0, 0], [0, 2]]"
   ]
  },
  {
   "cell_type": "code",
   "execution_count": 126,
   "id": "4952877e-6f74-42f9-b977-1d73a7add05d",
   "metadata": {},
   "outputs": [],
   "source": [
    "r_rot_rec = cossin2quat(r_rot2)"
   ]
  },
  {
   "cell_type": "code",
   "execution_count": null,
   "id": "4f033046-3710-4d66-b496-fe02b4958ef8",
   "metadata": {
    "scrolled": true
   },
   "outputs": [],
   "source": []
  },
  {
   "cell_type": "code",
   "execution_count": null,
   "id": "aa9ed9ed-ba6f-490f-9b58-d3511d75be94",
   "metadata": {},
   "outputs": [],
   "source": []
  },
  {
   "cell_type": "code",
   "execution_count": null,
   "id": "afefce92-acd4-40a2-989f-bfb9e3f7cd00",
   "metadata": {},
   "outputs": [],
   "source": []
  },
  {
   "cell_type": "code",
   "execution_count": 45,
   "id": "528c8ed6-93ff-46e5-9d5c-52d63c5048b8",
   "metadata": {},
   "outputs": [],
   "source": [
    "from scipy.ndimage import gaussian_filter1d\n"
   ]
  },
  {
   "cell_type": "code",
   "execution_count": 142,
   "id": "1a74e044-b787-4b28-9a2e-3635961d5200",
   "metadata": {},
   "outputs": [],
   "source": [
    "with torch.no_grad():\n",
    "    out = trans_model(gt_motion)\n",
    "    pred_traj = out.decoded_motion[...,:2].cpu().numpy()\n",
    "    pred_orient = out.decoded_motion[...,2:].cpu().clamp(min = -1, max = 1).numpy()\n",
    "    pred_orient[:,0,0] = 1\n",
    "    pred_orient[:,0,1] = 0"
   ]
  },
  {
   "cell_type": "code",
   "execution_count": 138,
   "id": "e2dfd90f-dcc2-45e9-95b3-48f8ed493c0b",
   "metadata": {},
   "outputs": [],
   "source": [
    "with torch.no_grad():\n",
    "    pred_quat = trans_model.predict(rel_pos).cpu().numpy()"
   ]
  },
  {
   "cell_type": "code",
   "execution_count": 88,
   "id": "44211602-d0bb-4169-be1e-c9af809f471b",
   "metadata": {},
   "outputs": [],
   "source": [
    "pred_orient[...,:] = gaussian_filter1d(pred_orient[...,:], 10, axis=-1, mode=\"nearest\")"
   ]
  },
  {
   "cell_type": "code",
   "execution_count": 139,
   "id": "e0850a30-c70c-4884-9bcc-4cc4980633ab",
   "metadata": {
    "scrolled": true
   },
   "outputs": [
    {
     "data": {
      "text/plain": [
       "array([[ 1.00000000e+00,  0.00000000e+00,  0.00000000e+00,\n",
       "         0.00000000e+00],\n",
       "       [ 9.33320701e-01,  0.00000000e+00, -3.59043777e-01,\n",
       "         0.00000000e+00],\n",
       "       [ 8.56353641e-01,  0.00000000e+00, -5.16389787e-01,\n",
       "         0.00000000e+00],\n",
       "       [ 7.86286116e-01,  6.10351562e-05, -6.17862582e-01,\n",
       "         0.00000000e+00],\n",
       "       [ 6.92203879e-01,  0.00000000e+00, -7.21701980e-01,\n",
       "         6.10351562e-05],\n",
       "       [ 5.93849599e-01,  0.00000000e+00, -8.04576099e-01,\n",
       "         0.00000000e+00],\n",
       "       [ 5.13015866e-01,  0.00000000e+00, -8.58379126e-01,\n",
       "         0.00000000e+00],\n",
       "       [ 4.22106087e-01,  0.00000000e+00, -9.06546474e-01,\n",
       "         1.22070312e-04],\n",
       "       [ 3.37551773e-01,  0.00000000e+00, -9.41306949e-01,\n",
       "         1.22070312e-04],\n",
       "       [ 2.60546684e-01,  0.00000000e+00, -9.65461254e-01,\n",
       "         1.22070312e-04],\n",
       "       [ 2.06858397e-01,  0.00000000e+00, -9.78370905e-01,\n",
       "         0.00000000e+00],\n",
       "       [ 1.73941880e-01,  0.00000000e+00, -9.84755933e-01,\n",
       "         0.00000000e+00],\n",
       "       [ 1.54852867e-01,  0.00000000e+00, -9.87937510e-01,\n",
       "         0.00000000e+00],\n",
       "       [ 1.37995780e-01,  0.00000000e+00, -9.90432799e-01,\n",
       "         0.00000000e+00],\n",
       "       [ 1.22132249e-01,  0.00000000e+00, -9.92513835e-01,\n",
       "         0.00000000e+00],\n",
       "       [ 1.20049745e-01,  0.00000000e+00, -9.92767870e-01,\n",
       "         1.22070312e-04],\n",
       "       [ 1.41260251e-01,  0.00000000e+00, -9.89972532e-01,\n",
       "         1.22070312e-04],\n",
       "       [ 1.16350301e-01,  0.00000000e+00, -9.93208230e-01,\n",
       "         0.00000000e+00],\n",
       "       [ 1.18482366e-01,  0.00000000e+00, -9.92956161e-01,\n",
       "         0.00000000e+00],\n",
       "       [ 1.01870067e-01,  0.00000000e+00, -9.94797707e-01,\n",
       "         0.00000000e+00],\n",
       "       [ 1.33879855e-01,  0.00000000e+00, -9.90997553e-01,\n",
       "         0.00000000e+00],\n",
       "       [ 1.75416738e-01,  0.00000000e+00, -9.84494269e-01,\n",
       "         1.22070312e-04],\n",
       "       [ 1.90664023e-01,  0.00000000e+00,  9.81655359e-01,\n",
       "         1.22070312e-04],\n",
       "       [ 2.06791252e-01,  0.00000000e+00,  9.78385091e-01,\n",
       "         0.00000000e+00],\n",
       "       [ 2.23935425e-01,  0.00000000e+00,  9.74604011e-01,\n",
       "         1.22070312e-04],\n",
       "       [ 2.40790769e-01,  0.00000000e+00,  9.70577061e-01,\n",
       "         1.22070312e-04],\n",
       "       [ 3.04042041e-01,  0.00000000e+00,  9.52658594e-01,\n",
       "         0.00000000e+00],\n",
       "       [ 3.40921193e-01,  0.00000000e+00,  9.40091848e-01,\n",
       "         0.00000000e+00],\n",
       "       [ 3.76477897e-01,  0.00000000e+00,  9.26425636e-01,\n",
       "         0.00000000e+00],\n",
       "       [ 3.94128948e-01,  0.00000000e+00,  9.19055164e-01,\n",
       "         0.00000000e+00],\n",
       "       [ 3.59774917e-01,  0.00000000e+00,  9.33039188e-01,\n",
       "         0.00000000e+00],\n",
       "       [ 3.50049287e-01,  0.00000000e+00,  9.36731279e-01,\n",
       "         0.00000000e+00],\n",
       "       [ 3.71176153e-01,  0.00000000e+00,  9.28562462e-01,\n",
       "         1.22070312e-04],\n",
       "       [ 4.43090081e-01,  0.00000000e+00,  8.96477044e-01,\n",
       "         0.00000000e+00],\n",
       "       [ 5.48313022e-01,  0.00000000e+00,  8.36273193e-01,\n",
       "         0.00000000e+00],\n",
       "       [ 6.51433885e-01,  6.10351562e-05,  7.58705378e-01,\n",
       "         1.05715990e-04],\n",
       "       [ 7.55709827e-01,  1.05715990e-04,  6.54906571e-01,\n",
       "         6.10351562e-05],\n",
       "       [ 8.49513531e-01,  0.00000000e+00,  5.27566791e-01,\n",
       "         0.00000000e+00],\n",
       "       [ 8.96509767e-01,  1.22070312e-04,  4.43023980e-01,\n",
       "         0.00000000e+00],\n",
       "       [ 9.28154051e-01,  0.00000000e+00,  3.72196198e-01,\n",
       "         0.00000000e+00],\n",
       "       [ 9.48179305e-01,  1.22070312e-04,  3.17735702e-01,\n",
       "         0.00000000e+00],\n",
       "       [ 9.61561441e-01,  0.00000000e+00,  2.74590045e-01,\n",
       "         0.00000000e+00],\n",
       "       [ 9.77317929e-01,  0.00000000e+00,  2.11777285e-01,\n",
       "         0.00000000e+00],\n",
       "       [ 9.89232719e-01,  0.00000000e+00,  1.46351054e-01,\n",
       "         0.00000000e+00],\n",
       "       [ 9.96307850e-01,  0.00000000e+00,  8.58524963e-02,\n",
       "         0.00000000e+00],\n",
       "       [ 9.99392569e-01,  1.22070312e-04,  3.48499529e-02,\n",
       "         0.00000000e+00],\n",
       "       [ 1.00000000e+00,  0.00000000e+00,  0.00000000e+00,\n",
       "         0.00000000e+00],\n",
       "       [ 9.97503757e-01,  1.22070312e-04,  7.06137419e-02,\n",
       "         0.00000000e+00],\n",
       "       [ 9.99271035e-01,  0.00000000e+00,  3.81764062e-02,\n",
       "         0.00000000e+00],\n",
       "       [ 9.99997139e-01,  0.00000000e+00,  2.37958855e-03,\n",
       "         0.00000000e+00],\n",
       "       [ 1.00000000e+00,  0.00000000e+00,  0.00000000e+00,\n",
       "         0.00000000e+00],\n",
       "       [ 1.00000000e+00,  0.00000000e+00,  0.00000000e+00,\n",
       "         0.00000000e+00],\n",
       "       [ 9.99852180e-01,  0.00000000e+00,  1.71937235e-02,\n",
       "         0.00000000e+00],\n",
       "       [ 1.00000000e+00,  0.00000000e+00,  0.00000000e+00,\n",
       "         0.00000000e+00],\n",
       "       [ 9.99298751e-01,  1.22070312e-04,  3.74437608e-02,\n",
       "         0.00000000e+00],\n",
       "       [ 1.00000000e+00,  0.00000000e+00,  0.00000000e+00,\n",
       "         0.00000000e+00],\n",
       "       [ 9.99951303e-01,  1.22070312e-04,  9.86959413e-03,\n",
       "         0.00000000e+00],\n",
       "       [ 9.99060571e-01,  0.00000000e+00,  4.33354750e-02,\n",
       "         0.00000000e+00],\n",
       "       [ 1.00000000e+00,  0.00000000e+00,  0.00000000e+00,\n",
       "         0.00000000e+00],\n",
       "       [ 9.98314679e-01,  0.00000000e+00,  5.80325909e-02,\n",
       "         0.00000000e+00],\n",
       "       [ 9.99787748e-01,  0.00000000e+00,  2.06035022e-02,\n",
       "         0.00000000e+00],\n",
       "       [ 1.00000000e+00,  0.00000000e+00,  0.00000000e+00,\n",
       "         0.00000000e+00],\n",
       "       [ 9.99873638e-01,  1.22070312e-04,  1.58977546e-02,\n",
       "         0.00000000e+00],\n",
       "       [ 9.99875784e-01,  0.00000000e+00,  1.57612581e-02,\n",
       "         0.00000000e+00],\n",
       "       [ 9.97699261e-01,  0.00000000e+00,  6.77959621e-02,\n",
       "         0.00000000e+00],\n",
       "       [ 9.99247313e-01,  0.00000000e+00,  3.87912877e-02,\n",
       "         0.00000000e+00],\n",
       "       [ 9.98613358e-01,  0.00000000e+00,  5.26433103e-02,\n",
       "         0.00000000e+00],\n",
       "       [ 9.98413742e-01,  1.22070312e-04,  5.63030057e-02,\n",
       "         0.00000000e+00],\n",
       "       [ 9.98155773e-01,  0.00000000e+00,  6.07040562e-02,\n",
       "         0.00000000e+00],\n",
       "       [ 9.98890877e-01,  0.00000000e+00,  4.70849723e-02,\n",
       "         0.00000000e+00],\n",
       "       [ 9.98515129e-01,  0.00000000e+00,  5.44755086e-02,\n",
       "         0.00000000e+00],\n",
       "       [ 9.97266412e-01,  0.00000000e+00,  7.38894567e-02,\n",
       "         0.00000000e+00],\n",
       "       [ 9.97131288e-01,  0.00000000e+00,  7.56910741e-02,\n",
       "         0.00000000e+00],\n",
       "       [ 9.97166336e-01,  0.00000000e+00,  7.52284974e-02,\n",
       "         0.00000000e+00],\n",
       "       [ 9.98488367e-01,  0.00000000e+00,  5.49641848e-02,\n",
       "         0.00000000e+00],\n",
       "       [ 9.98226464e-01,  0.00000000e+00, -5.95312789e-02,\n",
       "         0.00000000e+00],\n",
       "       [ 9.97348368e-01,  0.00000000e+00, -7.27756098e-02,\n",
       "         0.00000000e+00],\n",
       "       [ 9.98182535e-01,  1.22070312e-04, -6.02628142e-02,\n",
       "         0.00000000e+00],\n",
       "       [ 9.98559058e-01,  1.22070312e-04, -5.36644459e-02,\n",
       "         0.00000000e+00],\n",
       "       [ 9.99148965e-01,  0.00000000e+00, -4.12473045e-02,\n",
       "         0.00000000e+00],\n",
       "       [ 1.00000000e+00,  0.00000000e+00,  0.00000000e+00,\n",
       "         0.00000000e+00],\n",
       "       [ 9.99858081e-01,  0.00000000e+00,  1.68470293e-02,\n",
       "         0.00000000e+00],\n",
       "       [ 9.99115765e-01,  0.00000000e+00,  4.20432575e-02,\n",
       "         0.00000000e+00],\n",
       "       [ 9.99192894e-01,  0.00000000e+00,  4.01696675e-02,\n",
       "         0.00000000e+00],\n",
       "       [ 9.99616385e-01,  0.00000000e+00,  2.76965145e-02,\n",
       "         0.00000000e+00],\n",
       "       [ 1.00000000e+00,  0.00000000e+00, -0.00000000e+00,\n",
       "         0.00000000e+00],\n",
       "       [ 1.00000000e+00,  0.00000000e+00, -0.00000000e+00,\n",
       "         0.00000000e+00],\n",
       "       [ 1.00000000e+00,  0.00000000e+00, -0.00000000e+00,\n",
       "         0.00000000e+00],\n",
       "       [ 1.00000000e+00,  0.00000000e+00, -0.00000000e+00,\n",
       "         0.00000000e+00],\n",
       "       [ 9.99531984e-01,  0.00000000e+00, -3.05904895e-02,\n",
       "         0.00000000e+00],\n",
       "       [ 1.00000000e+00,  0.00000000e+00, -0.00000000e+00,\n",
       "         0.00000000e+00],\n",
       "       [ 9.98700142e-01,  0.00000000e+00,  5.09710424e-02,\n",
       "         0.00000000e+00],\n",
       "       [ 9.98296857e-01,  0.00000000e+00,  5.83393946e-02,\n",
       "         0.00000000e+00],\n",
       "       [ 9.99603152e-01,  0.00000000e+00, -2.81704850e-02,\n",
       "         0.00000000e+00],\n",
       "       [ 9.97619510e-01,  0.00000000e+00, -6.89579472e-02,\n",
       "         0.00000000e+00],\n",
       "       [ 1.00000000e+00,  0.00000000e+00, -0.00000000e+00,\n",
       "         0.00000000e+00],\n",
       "       [ 9.96216416e-01,  0.00000000e+00, -8.69071186e-02,\n",
       "         0.00000000e+00],\n",
       "       [ 9.96086240e-01,  1.22070312e-04,  8.83870795e-02,\n",
       "         0.00000000e+00],\n",
       "       [ 9.97936487e-01,  0.00000000e+00,  6.42084032e-02,\n",
       "         0.00000000e+00],\n",
       "       [ 9.95544910e-01,  0.00000000e+00,  9.42885503e-02,\n",
       "         0.00000000e+00],\n",
       "       [ 9.99368608e-01,  0.00000000e+00,  3.55314799e-02,\n",
       "         0.00000000e+00],\n",
       "       [ 9.96505976e-01,  1.22070312e-04,  8.35218802e-02,\n",
       "         0.00000000e+00],\n",
       "       [ 9.94937718e-01,  0.00000000e+00,  1.00493751e-01,\n",
       "         0.00000000e+00],\n",
       "       [ 9.94730294e-01,  0.00000000e+00,  1.02526560e-01,\n",
       "         0.00000000e+00],\n",
       "       [ 9.92906928e-01,  0.00000000e+00,  1.18894167e-01,\n",
       "         0.00000000e+00],\n",
       "       [ 9.97335911e-01,  1.22070312e-04,  7.29454607e-02,\n",
       "         0.00000000e+00],\n",
       "       [ 9.98240471e-01,  0.00000000e+00,  5.92960231e-02,\n",
       "         0.00000000e+00],\n",
       "       [ 9.95740533e-01,  0.00000000e+00,  9.22001824e-02,\n",
       "         0.00000000e+00],\n",
       "       [ 1.00000000e+00,  0.00000000e+00,  0.00000000e+00,\n",
       "         0.00000000e+00],\n",
       "       [ 1.00000000e+00,  0.00000000e+00,  0.00000000e+00,\n",
       "         0.00000000e+00],\n",
       "       [ 9.99682486e-01,  0.00000000e+00,  2.51973942e-02,\n",
       "         0.00000000e+00],\n",
       "       [ 1.00000000e+00,  0.00000000e+00,  0.00000000e+00,\n",
       "         0.00000000e+00],\n",
       "       [ 1.00000000e+00,  0.00000000e+00,  0.00000000e+00,\n",
       "         0.00000000e+00],\n",
       "       [ 9.99431014e-01,  0.00000000e+00,  3.37283164e-02,\n",
       "         0.00000000e+00],\n",
       "       [ 1.00000000e+00,  0.00000000e+00,  0.00000000e+00,\n",
       "         0.00000000e+00],\n",
       "       [ 9.97413099e-01,  0.00000000e+00,  7.18827322e-02,\n",
       "         0.00000000e+00],\n",
       "       [ 1.00000000e+00,  0.00000000e+00,  0.00000000e+00,\n",
       "         0.00000000e+00],\n",
       "       [ 1.00000000e+00,  0.00000000e+00,  0.00000000e+00,\n",
       "         0.00000000e+00],\n",
       "       [ 1.00000000e+00,  0.00000000e+00,  0.00000000e+00,\n",
       "         0.00000000e+00],\n",
       "       [ 9.97899115e-01,  0.00000000e+00,  6.47874922e-02,\n",
       "         0.00000000e+00]], dtype=float32)"
      ]
     },
     "execution_count": 139,
     "metadata": {},
     "output_type": "execute_result"
    }
   ],
   "source": [
    "pred_quat[0]"
   ]
  },
  {
   "cell_type": "code",
   "execution_count": 140,
   "id": "0176ef02-33a9-4b39-b8a5-ac8a003fe64e",
   "metadata": {
    "scrolled": true
   },
   "outputs": [
    {
     "data": {
      "text/plain": [
       "tensor([[ 1.0000,  0.0000,  0.0000,  0.0000],\n",
       "        [ 1.0000,  0.0000, -0.0022,  0.0000],\n",
       "        [ 1.0000,  0.0000, -0.0045,  0.0000],\n",
       "        [ 1.0000,  0.0000, -0.0070,  0.0000],\n",
       "        [ 1.0000,  0.0000, -0.0096,  0.0000],\n",
       "        [ 0.9999,  0.0000, -0.0123,  0.0000],\n",
       "        [ 0.9999,  0.0000, -0.0152,  0.0000],\n",
       "        [ 0.9998,  0.0000, -0.0183,  0.0000],\n",
       "        [ 0.9998,  0.0000, -0.0215,  0.0000],\n",
       "        [ 0.9997,  0.0000, -0.0248,  0.0000],\n",
       "        [ 0.9996,  0.0000, -0.0283,  0.0000],\n",
       "        [ 0.9995,  0.0000, -0.0319,  0.0000],\n",
       "        [ 0.9994,  0.0000, -0.0357,  0.0000],\n",
       "        [ 0.9992,  0.0000, -0.0395,  0.0000],\n",
       "        [ 0.9991,  0.0000, -0.0436,  0.0000],\n",
       "        [ 0.9989,  0.0000, -0.0477,  0.0000],\n",
       "        [ 0.9987,  0.0000, -0.0519,  0.0000],\n",
       "        [ 0.9984,  0.0000, -0.0563,  0.0000],\n",
       "        [ 0.9982,  0.0000, -0.0607,  0.0000],\n",
       "        [ 0.9979,  0.0000, -0.0652,  0.0000],\n",
       "        [ 0.9976,  0.0000, -0.0698,  0.0000],\n",
       "        [ 0.9972,  0.0000, -0.0744,  0.0000],\n",
       "        [ 0.9969,  0.0000, -0.0791,  0.0000],\n",
       "        [ 0.9965,  0.0000, -0.0839,  0.0000],\n",
       "        [ 0.9961,  0.0000, -0.0886,  0.0000],\n",
       "        [ 0.9956,  0.0000, -0.0933,  0.0000],\n",
       "        [ 0.9952,  0.0000, -0.0980,  0.0000],\n",
       "        [ 0.9947,  0.0000, -0.1027,  0.0000],\n",
       "        [ 0.9942,  0.0000, -0.1074,  0.0000],\n",
       "        [ 0.9937,  0.0000, -0.1120,  0.0000],\n",
       "        [ 0.9932,  0.0000, -0.1165,  0.0000],\n",
       "        [ 0.9927,  0.0000, -0.1210,  0.0000],\n",
       "        [ 0.9921,  0.0000, -0.1253,  0.0000],\n",
       "        [ 0.9916,  0.0000, -0.1295,  0.0000],\n",
       "        [ 0.9910,  0.0000, -0.1336,  0.0000],\n",
       "        [ 0.9905,  0.0000, -0.1376,  0.0000],\n",
       "        [ 0.9900,  0.0000, -0.1414,  0.0000],\n",
       "        [ 0.9894,  0.0000, -0.1450,  0.0000],\n",
       "        [ 0.9889,  0.0000, -0.1485,  0.0000],\n",
       "        [ 0.9884,  0.0000, -0.1518,  0.0000],\n",
       "        [ 0.9879,  0.0000, -0.1549,  0.0000],\n",
       "        [ 0.9875,  0.0000, -0.1578,  0.0000],\n",
       "        [ 0.9870,  0.0000, -0.1605,  0.0000],\n",
       "        [ 0.9866,  0.0000, -0.1630,  0.0000],\n",
       "        [ 0.9862,  0.0000, -0.1653,  0.0000],\n",
       "        [ 0.9859,  0.0000, -0.1673,  0.0000],\n",
       "        [ 0.9856,  0.0000, -0.1691,  0.0000],\n",
       "        [ 0.9853,  0.0000, -0.1707,  0.0000],\n",
       "        [ 0.9851,  0.0000, -0.1721,  0.0000],\n",
       "        [ 0.9849,  0.0000, -0.1732,  0.0000],\n",
       "        [ 0.9847,  0.0000, -0.1741,  0.0000],\n",
       "        [ 0.9846,  0.0000, -0.1747,  0.0000],\n",
       "        [ 0.9846,  0.0000, -0.1751,  0.0000],\n",
       "        [ 0.9845,  0.0000, -0.1752,  0.0000],\n",
       "        [ 0.9846,  0.0000, -0.1751,  0.0000],\n",
       "        [ 0.9846,  0.0000, -0.1747,  0.0000],\n",
       "        [ 0.9847,  0.0000, -0.1740,  0.0000],\n",
       "        [ 0.9849,  0.0000, -0.1731,  0.0000],\n",
       "        [ 0.9851,  0.0000, -0.1720,  0.0000],\n",
       "        [ 0.9853,  0.0000, -0.1706,  0.0000],\n",
       "        [ 0.9856,  0.0000, -0.1689,  0.0000],\n",
       "        [ 0.9860,  0.0000, -0.1669,  0.0000],\n",
       "        [ 0.9863,  0.0000, -0.1647,  0.0000],\n",
       "        [ 0.9867,  0.0000, -0.1623,  0.0000],\n",
       "        [ 0.9872,  0.0000, -0.1595,  0.0000],\n",
       "        [ 0.9877,  0.0000, -0.1565,  0.0000],\n",
       "        [ 0.9882,  0.0000, -0.1533,  0.0000],\n",
       "        [ 0.9887,  0.0000, -0.1498,  0.0000],\n",
       "        [ 0.9893,  0.0000, -0.1460,  0.0000],\n",
       "        [ 0.9899,  0.0000, -0.1420,  0.0000],\n",
       "        [ 0.9905,  0.0000, -0.1377,  0.0000],\n",
       "        [ 0.9911,  0.0000, -0.1332,  0.0000],\n",
       "        [ 0.9917,  0.0000, -0.1285,  0.0000],\n",
       "        [ 0.9923,  0.0000, -0.1235,  0.0000],\n",
       "        [ 0.9930,  0.0000, -0.1183,  0.0000],\n",
       "        [ 0.9936,  0.0000, -0.1129,  0.0000],\n",
       "        [ 0.9942,  0.0000, -0.1073,  0.0000],\n",
       "        [ 0.9948,  0.0000, -0.1015,  0.0000],\n",
       "        [ 0.9954,  0.0000, -0.0955,  0.0000],\n",
       "        [ 0.9960,  0.0000, -0.0894,  0.0000],\n",
       "        [ 0.9965,  0.0000, -0.0831,  0.0000],\n",
       "        [ 0.9971,  0.0000, -0.0767,  0.0000],\n",
       "        [ 0.9975,  0.0000, -0.0702,  0.0000],\n",
       "        [ 0.9980,  0.0000, -0.0636,  0.0000],\n",
       "        [ 0.9984,  0.0000, -0.0569,  0.0000],\n",
       "        [ 0.9987,  0.0000, -0.0501,  0.0000],\n",
       "        [ 0.9991,  0.0000, -0.0433,  0.0000],\n",
       "        [ 0.9993,  0.0000, -0.0365,  0.0000],\n",
       "        [ 0.9996,  0.0000, -0.0297,  0.0000],\n",
       "        [ 0.9997,  0.0000, -0.0229,  0.0000],\n",
       "        [ 0.9999,  0.0000, -0.0162,  0.0000],\n",
       "        [ 1.0000,  0.0000, -0.0094,  0.0000],\n",
       "        [ 1.0000,  0.0000, -0.0028,  0.0000],\n",
       "        [ 1.0000,  0.0000,  0.0037,  0.0000],\n",
       "        [ 0.9999,  0.0000,  0.0102,  0.0000],\n",
       "        [ 0.9999,  0.0000,  0.0165,  0.0000],\n",
       "        [ 0.9997,  0.0000,  0.0227,  0.0000],\n",
       "        [ 0.9996,  0.0000,  0.0288,  0.0000],\n",
       "        [ 0.9994,  0.0000,  0.0347,  0.0000],\n",
       "        [ 0.9992,  0.0000,  0.0405,  0.0000],\n",
       "        [ 0.9989,  0.0000,  0.0461,  0.0000],\n",
       "        [ 0.9987,  0.0000,  0.0515,  0.0000],\n",
       "        [ 0.9984,  0.0000,  0.0568,  0.0000],\n",
       "        [ 0.9981,  0.0000,  0.0619,  0.0000],\n",
       "        [ 0.9978,  0.0000,  0.0668,  0.0000],\n",
       "        [ 0.9974,  0.0000,  0.0715,  0.0000],\n",
       "        [ 0.9971,  0.0000,  0.0761,  0.0000],\n",
       "        [ 0.9968,  0.0000,  0.0804,  0.0000],\n",
       "        [ 0.9964,  0.0000,  0.0846,  0.0000],\n",
       "        [ 0.9961,  0.0000,  0.0887,  0.0000],\n",
       "        [ 0.9957,  0.0000,  0.0925,  0.0000],\n",
       "        [ 0.9954,  0.0000,  0.0962,  0.0000],\n",
       "        [ 0.9950,  0.0000,  0.0997,  0.0000],\n",
       "        [ 0.9947,  0.0000,  0.1031,  0.0000],\n",
       "        [ 0.9943,  0.0000,  0.1063,  0.0000],\n",
       "        [ 0.9940,  0.0000,  0.1093,  0.0000],\n",
       "        [ 0.9937,  0.0000,  0.1122,  0.0000],\n",
       "        [ 0.9934,  0.0000,  0.1150,  0.0000],\n",
       "        [ 0.9931,  0.0000,  0.1177,  0.0000],\n",
       "        [ 0.9927,  0.0000,  0.1202,  0.0000]], device='cuda:0')"
      ]
     },
     "execution_count": 140,
     "metadata": {},
     "output_type": "execute_result"
    }
   ],
   "source": [
    "r_rot[0]"
   ]
  },
  {
   "cell_type": "code",
   "execution_count": 79,
   "id": "d0fcd74f-9b7f-406b-a4fa-3e44a9cb1739",
   "metadata": {
    "scrolled": true
   },
   "outputs": [
    {
     "data": {
      "text/plain": [
       "[<matplotlib.lines.Line2D at 0x7febc84c4d90>]"
      ]
     },
     "execution_count": 79,
     "metadata": {},
     "output_type": "execute_result"
    },
    {
     "data": {
      "image/png": "[encoded data removed]",
      "text/plain": [
       "<Figure size 640x480 with 1 Axes>"
      ]
     },
     "metadata": {},
     "output_type": "display_data"
    }
   ],
   "source": [
    "plt.plot(rel_pos[0].cpu()[: , 0] , rel_pos[0].cpu()[: , 1] )"
   ]
  },
  {
   "cell_type": "code",
   "execution_count": 80,
   "id": "8154cd10-7ffd-47b2-b89a-bd17d8e84978",
   "metadata": {},
   "outputs": [
    {
     "data": {
      "text/plain": [
       "[<matplotlib.lines.Line2D at 0x7febc8436b20>]"
      ]
     },
     "execution_count": 80,
     "metadata": {},
     "output_type": "execute_result"
    },
    {
     "data": {
      "image/png": "[encoded data removed]",
      "text/plain": [
       "<Figure size 640x480 with 1 Axes>"
      ]
     },
     "metadata": {},
     "output_type": "display_data"
    }
   ],
   "source": [
    "plt.plot(pred_traj[0][: , 0] , pred_traj[0][: , 1] )"
   ]
  },
  {
   "cell_type": "code",
   "execution_count": null,
   "id": "15de214e-0191-4cfe-a21c-04e51af1af3c",
   "metadata": {},
   "outputs": [],
   "source": []
  },
  {
   "cell_type": "code",
   "execution_count": 77,
   "id": "1e9afc55-0223-4366-9e7a-fdaecb9c300f",
   "metadata": {},
   "outputs": [
    {
     "data": {
      "text/plain": [
       "[<matplotlib.lines.Line2D at 0x7febce063dc0>]"
      ]
     },
     "execution_count": 77,
     "metadata": {},
     "output_type": "execute_result"
    },
    {
     "data": {
      "image/png": "[encoded data removed]",
      "text/plain": [
       "<Figure size 640x480 with 1 Axes>"
      ]
     },
     "metadata": {},
     "output_type": "display_data"
    }
   ],
   "source": [
    "plt.plot(r_rot2[0].cpu()[: , 0] , r_rot2[0].cpu()[: , 1] )"
   ]
  },
  {
   "cell_type": "code",
   "execution_count": 78,
   "id": "71fc5b07-b757-4b4b-b7a1-ade5375629e1",
   "metadata": {},
   "outputs": [
    {
     "data": {
      "text/plain": [
       "[<matplotlib.lines.Line2D at 0x7febce03d9a0>]"
      ]
     },
     "execution_count": 78,
     "metadata": {},
     "output_type": "execute_result"
    },
    {
     "data": {
      "image/png": "[encoded data removed]",
      "text/plain": [
       "<Figure size 640x480 with 1 Axes>"
      ]
     },
     "metadata": {},
     "output_type": "display_data"
    }
   ],
   "source": [
    "plt.plot(pred_orient[0][: , 0] , pred_orient[0][: , 1] )"
   ]
  },
  {
   "cell_type": "code",
   "execution_count": null,
   "id": "50882cf3-4627-40af-b211-6483ac360ca1",
   "metadata": {},
   "outputs": [],
   "source": []
  }
 ],
 "metadata": {
  "kernelspec": {
   "display_name": "Python 3 (ipykernel)",
   "language": "python",
   "name": "python3"
  },
  "language_info": {
   "codemirror_mode": {
    "name": "ipython",
    "version": 3
   },
   "file_extension": ".py",
   "mimetype": "text/x-python",
   "name": "python",
   "nbconvert_exporter": "python",
   "pygments_lexer": "ipython3",
   "version": "3.9.18"
  }
 },
 "nbformat": 4,
 "nbformat_minor": 5
}
