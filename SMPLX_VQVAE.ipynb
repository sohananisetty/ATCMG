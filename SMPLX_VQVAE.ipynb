{
 "cells": [
  {
   "cell_type": "code",
   "execution_count": 3,
   "id": "47ddc593-335a-4c95-925d-a1aef161033f",
   "metadata": {},
   "outputs": [
    {
     "name": "stdout",
     "output_type": "stream",
     "text": [
      "Using device: cuda\n",
      "\n",
      "NVIDIA GeForce RTX 2080 Ti\n",
      "Memory Usage:\n",
      "Allocated: 0.0 GB\n",
      "Cached:    0.0 GB\n"
     ]
    }
   ],
   "source": [
    "# setting device on GPU if available, else CPU\n",
    "import torch\n",
    "\n",
    "device = torch.device(\"cuda\" if torch.cuda.is_available() else \"cpu\")\n",
    "print(\"Using device:\", device)\n",
    "print()\n",
    "\n",
    "# Additional Info when using cuda\n",
    "if device.type == \"cuda\":\n",
    "    print(torch.cuda.get_device_name(0))\n",
    "    print(\"Memory Usage:\")\n",
    "    print(\"Allocated:\", round(torch.cuda.memory_allocated(0) / 1024**3, 1), \"GB\")\n",
    "    print(\"Cached:   \", round(torch.cuda.memory_reserved(0) / 1024**3, 1), \"GB\")"
   ]
  },
  {
   "cell_type": "code",
   "execution_count": 4,
   "id": "c473c419-8c66-4f10-9467-f1f15b5bb7d4",
   "metadata": {},
   "outputs": [],
   "source": [
    "%load_ext autoreload\n",
    "%autoreload 2\n",
    "%matplotlib inline"
   ]
  },
  {
   "cell_type": "code",
   "execution_count": 5,
   "id": "9785cf10-ca24-45fe-b6d7-726c1bf59178",
   "metadata": {},
   "outputs": [],
   "source": [
    "import torch\n",
    "import torch.nn.functional as F\n",
    "import torch.nn as nn\n",
    "\n",
    "from torch.utils.data import DataLoader\n",
    "\n",
    "from torch.utils import data\n",
    "\n",
    "\n",
    "import copy\n",
    "import os\n",
    "import random\n",
    "import cv2\n",
    "import numpy as np\n",
    "from PIL import Image\n",
    "import pandas as pd\n",
    "import matplotlib.pyplot as plt\n",
    "from glob import glob\n",
    "import functools\n",
    "from tqdm import tqdm\n",
    "from datetime import datetime\n",
    "import numpy as np\n",
    "from functools import partial\n",
    "# from core.datasets.vqa_motion_dataset import VQMotionDataset,DATALoader,VQVarLenMotionDataset,MotionCollator\n",
    "from einops import rearrange, reduce, pack, unpack\n",
    "import sys"
   ]
  },
  {
   "cell_type": "code",
   "execution_count": null,
   "id": "1843bcc6-d85b-4286-b267-eca5d4c06502",
   "metadata": {},
   "outputs": [],
   "source": []
  },
  {
   "cell_type": "markdown",
   "id": "9f95e286-bc5c-4f51-9416-080935ab6087",
   "metadata": {},
   "source": [
    "## test rendering"
   ]
  },
  {
   "cell_type": "code",
   "execution_count": 6,
   "id": "f6ed2250-2a08-4fec-beb3-2738486b89a9",
   "metadata": {},
   "outputs": [],
   "source": [
    "def findAllFile(base):\n",
    "    \"\"\"\n",
    "    Recursively find all files in the specified directory.\n",
    "\n",
    "    Args:\n",
    "        base (str): The base directory to start the search.\n",
    "\n",
    "    Returns:\n",
    "        list: A list of file paths found in the directory and its subdirectories.\n",
    "    \"\"\"\n",
    "    file_path = []\n",
    "    for root, ds, fs in os.walk(base, followlinks=True):\n",
    "        for f in fs:\n",
    "            fullname = os.path.join(root, f)\n",
    "            file_path.append(fullname)\n",
    "    return file_path"
   ]
  },
  {
   "cell_type": "code",
   "execution_count": 5,
   "id": "b268b5d7-502f-428f-899b-f2470587299f",
   "metadata": {},
   "outputs": [],
   "source": [
    "from utils.motion_processing.hml_process import recover_from_ric, recover_root_rot_pos\n",
    "import utils.vis_utils.plot_3d_global as plot_3d\n",
    "import matplotlib.pyplot as plt"
   ]
  },
  {
   "cell_type": "code",
   "execution_count": 6,
   "id": "5f856a3f-bd13-492a-9f13-402643349384",
   "metadata": {
    "scrolled": true
   },
   "outputs": [
    {
     "name": "stderr",
     "output_type": "stream",
     "text": [
      "/srv/hays-lab/flash5/sanisetty3/miniconda3/envs/tgm3d/lib/python3.9/site-packages/tqdm/auto.py:21: TqdmWarning: IProgress not found. Please update jupyter and ipywidgets. See https://ipywidgets.readthedocs.io/en/stable/user_install.html\n",
      "  from .autonotebook import tqdm as notebook_tqdm\n"
     ]
    }
   ],
   "source": [
    "from core.param_dataclasses import pattern_providers\n",
    "from core.datasets.multimodal_dataset import MotionIndicesAudioTextDataset, load_dataset_gen, simple_collate\n",
    "from core.models.utils import instantiate_from_config, get_obj_from_str\n",
    "from core import MotionRep, AudioRep, TextRep\n",
    "from core.datasets.conditioner import ConditionProvider,ConditionFuser\n",
    "\n",
    "from configs.config import cfg, get_cfg_defaults\n",
    "from configs.config_streaming import get_cfg_defaults as strm_get_cfg_defaults\n"
   ]
  },
  {
   "cell_type": "code",
   "execution_count": null,
   "id": "51578303-4e64-4ecc-b605-36868fe00e3d",
   "metadata": {},
   "outputs": [],
   "source": []
  },
  {
   "cell_type": "code",
   "execution_count": null,
   "id": "d4879bf7-3898-41f6-84ae-92ca96477033",
   "metadata": {},
   "outputs": [],
   "source": []
  },
  {
   "cell_type": "code",
   "execution_count": null,
   "id": "4b9701a6-f501-43e2-b93b-db96d8a1f016",
   "metadata": {},
   "outputs": [],
   "source": []
  },
  {
   "cell_type": "code",
   "execution_count": null,
   "id": "588fe43b-a893-429a-9c89-56bf15b2293e",
   "metadata": {},
   "outputs": [],
   "source": []
  },
  {
   "cell_type": "code",
   "execution_count": 7,
   "id": "701ef95c-1211-4f80-82d1-2c59aaf4db7d",
   "metadata": {},
   "outputs": [],
   "source": [
    "gen_cfg = strm_get_cfg_defaults()\n",
    "gen_cfg.merge_from_file(\"/srv/hays-lab/scratch/sanisetty3/music_motion/ATCMG/checkpoints/motion_streaming/motion_streaming.yaml\")\n",
    "gen_cfg.freeze()"
   ]
  },
  {
   "cell_type": "code",
   "execution_count": 8,
   "id": "d8daa247-ea5b-45f5-9a71-39026d265693",
   "metadata": {},
   "outputs": [],
   "source": [
    "\n",
    "body_cfg = get_cfg_defaults()\n",
    "body_cfg.merge_from_file(gen_cfg.vqvae.body_config)\n",
    "# left_cfg = get_cfg_defaults()\n",
    "# left_cfg.merge_from_file(gen_cfg.vqvae.left_hand_config)\n",
    "# right_cfg = get_cfg_defaults()\n",
    "# right_cfg.merge_from_file(gen_cfg.vqvae.right_hand_config)"
   ]
  },
  {
   "cell_type": "code",
   "execution_count": 9,
   "id": "8c7ed910-46ab-4f39-94d7-13c4e525a2f0",
   "metadata": {},
   "outputs": [],
   "source": [
    "from core.models.resnetVQ.vqvae import HumanVQVAE\n"
   ]
  },
  {
   "cell_type": "code",
   "execution_count": null,
   "id": "f87359b5-80b1-45a6-afcd-2bff0f3180a1",
   "metadata": {},
   "outputs": [],
   "source": []
  },
  {
   "cell_type": "code",
   "execution_count": 10,
   "id": "5ca6f05f-505b-42dc-a7c2-6c7a2309ca21",
   "metadata": {},
   "outputs": [],
   "source": [
    "# left_hand_model = HumanVQVAE(left_cfg.vqvae).to(device).eval()\n",
    "# left_hand_model.load(os.path.join(left_cfg.output_dir, \"vqvae_motion.pt\"))\n",
    "\n",
    "# right_hand_model = HumanVQVAE(right_cfg.vqvae).to(device).eval()\n",
    "# right_hand_model.load(os.path.join(right_cfg.output_dir, \"vqvae_motion.pt\"))\n",
    "\n",
    "body_model = HumanVQVAE(body_cfg.vqvae).to(device).eval()\n",
    "body_model.load(os.path.join(body_cfg.output_dir, \"vqvae_motion.pt\"))\n",
    "\n"
   ]
  },
  {
   "cell_type": "code",
   "execution_count": null,
   "id": "840f8407-7045-4cd3-a0c9-a4ebae3ca54f",
   "metadata": {},
   "outputs": [],
   "source": []
  },
  {
   "cell_type": "code",
   "execution_count": null,
   "id": "8a36f7a2-c271-4998-9647-d89951a2bbea",
   "metadata": {},
   "outputs": [],
   "source": []
  },
  {
   "cell_type": "markdown",
   "id": "54003cfb-544e-419b-b143-315c7a832876",
   "metadata": {},
   "source": [
    "### VQVAE"
   ]
  },
  {
   "cell_type": "code",
   "execution_count": null,
   "id": "abdf13d1-9fe5-4a0b-9f48-039763e9a6c9",
   "metadata": {},
   "outputs": [],
   "source": []
  },
  {
   "cell_type": "code",
   "execution_count": 11,
   "id": "2803dc9a-5276-4e3f-bfef-a12c919b6600",
   "metadata": {},
   "outputs": [],
   "source": [
    "from core.datasets.vq_dataset import VQSMPLXMotionDataset\n",
    "from core.datasets.vq_dataset import load_dataset as load_dataset_vq\n",
    "from core.datasets.vq_dataset import simple_collate as simple_collate_vq\n"
   ]
  },
  {
   "cell_type": "code",
   "execution_count": 12,
   "id": "c9c5eeeb-5648-4e6a-9fc9-000d083d2b08",
   "metadata": {},
   "outputs": [],
   "source": [
    "def get_decoded(model , motion):\n",
    "    encs = []\n",
    "    inds = []\n",
    "    for i in range(0 , motion.shape[1] , 120 ):\n",
    "        if i + 240 >= motion.shape[1]:\n",
    "            enc_b = model(motion[: , i:, :].to(device))\n",
    "            encs.append(enc_b.decoded_motion)\n",
    "            inds.append(enc_b.indices)\n",
    "            break\n",
    "        else:\n",
    "            enc_b = model(motion[: , i:i + 120, :].to(device))\n",
    "            encs.append(enc_b.decoded_motion)\n",
    "            inds.append(enc_b.indices)\n",
    "    return torch.cat(encs , 1), torch.cat(inds , -1)"
   ]
  },
  {
   "cell_type": "code",
   "execution_count": 13,
   "id": "6bfa9eb6-bebd-44b2-aae6-f14335230ec7",
   "metadata": {},
   "outputs": [
    {
     "name": "stderr",
     "output_type": "stream",
     "text": [
      "/srv/hays-lab/flash5/sanisetty3/miniconda3/envs/tgm3d/lib/python3.9/site-packages/torch/nn/utils/weight_norm.py:28: UserWarning: torch.nn.utils.weight_norm is deprecated in favor of torch.nn.utils.parametrizations.weight_norm.\n",
      "  warnings.warn(\"torch.nn.utils.weight_norm is deprecated in favor of torch.nn.utils.parametrizations.weight_norm.\")\n",
      "Could not find image processor class in the image processor config or the model config. Loading based on pattern matching with the model's feature extractor configuration. Please open a PR/issue to update `preprocessor_config.json` to use `image_processor_type` instead of `feature_extractor_type`. This warning will be removed in v4.40.\n"
     ]
    }
   ],
   "source": [
    "condition_provider2 = ConditionProvider(\n",
    "            motion_rep=MotionRep(\"body\"),\n",
    "            motion_padding=\"max_length\",\n",
    "\n",
    "        )"
   ]
  },
  {
   "cell_type": "code",
   "execution_count": 14,
   "id": "359ff182-863e-4745-b0fe-a1aa11b3cfd8",
   "metadata": {},
   "outputs": [],
   "source": [
    "body_cfg.dataset.window_size = -1"
   ]
  },
  {
   "cell_type": "code",
   "execution_count": null,
   "id": "b07d3a8c-2389-4eb0-b051-3ccae88ac4c8",
   "metadata": {},
   "outputs": [],
   "source": []
  },
  {
   "cell_type": "code",
   "execution_count": 15,
   "id": "212a8735-6a05-4795-9050-3284c089b8bf",
   "metadata": {},
   "outputs": [],
   "source": [
    "dataset_names_default = [\n",
    "    # \"animation\",\n",
    "    \"humanml\",\n",
    "    # \"perform\",\n",
    "    # \"GRAB\",\n",
    "    # \"idea400\",\n",
    "    # \"humman\",\n",
    "    # \"beat\",\n",
    "    # \"game_motion\",\n",
    "    # \"music\",\n",
    "    # \"aist\",\n",
    "    # \"fitness\",\n",
    "    # \"moyo\",\n",
    "    # \"choreomaster\",\n",
    "    # \"dance\",\n",
    "    # \"kungfu\",\n",
    "    # \"EgoBody\",\n",
    "    # \"HAA500\",\n",
    "]"
   ]
  },
  {
   "cell_type": "code",
   "execution_count": 16,
   "id": "4a7fd60c-c052-4e26-a206-7d2101f75c4c",
   "metadata": {},
   "outputs": [
    {
     "name": "stdout",
     "output_type": "stream",
     "text": [
      "Total number of motions humanml: 19984\n"
     ]
    }
   ],
   "source": [
    "test_ds, _, _ = load_dataset_vq(\n",
    "            dataset_names=dataset_names_default,\n",
    "            dataset_args=body_cfg.dataset,\n",
    "            split=\"train\",\n",
    "        )"
   ]
  },
  {
   "cell_type": "code",
   "execution_count": 17,
   "id": "5744bd23-da74-47e0-91e9-3f4406d6301d",
   "metadata": {},
   "outputs": [],
   "source": [
    "dl = torch.utils.data.DataLoader(\n",
    "            test_ds,\n",
    "            batch_size=1,\n",
    "            sampler=None,\n",
    "            shuffle=False,\n",
    "            collate_fn=partial(simple_collate_vq , conditioner = condition_provider2),\n",
    "            \n",
    "        )"
   ]
  },
  {
   "cell_type": "code",
   "execution_count": null,
   "id": "0d5724bc-7fa7-438a-b719-9e2f754dd653",
   "metadata": {},
   "outputs": [],
   "source": []
  },
  {
   "cell_type": "code",
   "execution_count": 18,
   "id": "c4cdbd76-0735-4505-b246-2efbdea7a8cd",
   "metadata": {},
   "outputs": [
    {
     "name": "stderr",
     "output_type": "stream",
     "text": [
      "100%|████████████████████████████████████████████████████████████████████████████████| 19984/19984 [1:02:28<00:00,  5.33it/s]\n"
     ]
    }
   ],
   "source": [
    "errors = []\n",
    "for batch in tqdm(dl):\n",
    "    sve = os.path.join(\"/srv/hays-lab/scratch/sanisetty3/motionx/indices/body\" , batch[\"names\"][0] )\n",
    "    if os.path.exists(sve):\n",
    "        continue\n",
    "    os.makedirs(os.path.dirname(sve) , exist_ok=True)\n",
    "    try:\n",
    "        enc_b, inb = get_decoded(body_model , batch[\"motion\"][0].to(device))\n",
    "        np.save(sve , inb.cpu().numpy())\n",
    "    except:\n",
    "        errors.append(batch[\"names\"][0])\n",
    "    "
   ]
  },
  {
   "cell_type": "code",
   "execution_count": 19,
   "id": "3fe123c5-8890-4255-b5e5-ecbb30c9c202",
   "metadata": {},
   "outputs": [
    {
     "data": {
      "text/plain": [
       "0"
      ]
     },
     "execution_count": 19,
     "metadata": {},
     "output_type": "execute_result"
    }
   ],
   "source": [
    "len(errors)"
   ]
  },
  {
   "cell_type": "code",
   "execution_count": 7,
   "id": "22455084-bc73-4c57-b4ed-729435c5dd51",
   "metadata": {},
   "outputs": [],
   "source": [
    "fles = findAllFile(\"/srv/hays-lab/scratch/sanisetty3/motionx/indices/body/humanml/\")"
   ]
  },
  {
   "cell_type": "code",
   "execution_count": 13,
   "id": "4ef69507-52b3-4315-8f53-d7ccb7289be1",
   "metadata": {
    "scrolled": true
   },
   "outputs": [
    {
     "name": "stdout",
     "output_type": "stream",
     "text": [
      "/srv/hays-lab/scratch/sanisetty3/motionx/indices/body/humanml/006859.npy (1, 9)\n",
      "/srv/hays-lab/scratch/sanisetty3/motionx/indices/body/humanml/013180.npy (1, 6)\n",
      "/srv/hays-lab/scratch/sanisetty3/motionx/indices/body/humanml/M005024.npy (1, 9)\n",
      "/srv/hays-lab/scratch/sanisetty3/motionx/indices/body/humanml/M006988.npy (1, 6)\n",
      "/srv/hays-lab/scratch/sanisetty3/motionx/indices/body/humanml/008362.npy (1, 8)\n",
      "/srv/hays-lab/scratch/sanisetty3/motionx/indices/body/humanml/M011994.npy (1, 8)\n",
      "/srv/hays-lab/scratch/sanisetty3/motionx/indices/body/humanml/010908.npy (1, 6)\n",
      "/srv/hays-lab/scratch/sanisetty3/motionx/indices/body/humanml/009136.npy (1, 7)\n",
      "/srv/hays-lab/scratch/sanisetty3/motionx/indices/body/humanml/013310.npy (1, 6)\n",
      "/srv/hays-lab/scratch/sanisetty3/motionx/indices/body/humanml/M006950.npy (1, 6)\n",
      "/srv/hays-lab/scratch/sanisetty3/motionx/indices/body/humanml/003216.npy (1, 6)\n",
      "/srv/hays-lab/scratch/sanisetty3/motionx/indices/body/humanml/011011.npy (1, 8)\n",
      "/srv/hays-lab/scratch/sanisetty3/motionx/indices/body/humanml/M005928.npy (1, 6)\n",
      "/srv/hays-lab/scratch/sanisetty3/motionx/indices/body/humanml/M004294.npy (1, 9)\n",
      "/srv/hays-lab/scratch/sanisetty3/motionx/indices/body/humanml/M003544.npy (1, 9)\n",
      "/srv/hays-lab/scratch/sanisetty3/motionx/indices/body/humanml/M012941.npy (1, 2)\n",
      "/srv/hays-lab/scratch/sanisetty3/motionx/indices/body/humanml/013096.npy (1, 8)\n",
      "/srv/hays-lab/scratch/sanisetty3/motionx/indices/body/humanml/005821.npy (1, 8)\n",
      "/srv/hays-lab/scratch/sanisetty3/motionx/indices/body/humanml/M010908.npy (1, 6)\n",
      "/srv/hays-lab/scratch/sanisetty3/motionx/indices/body/humanml/011994.npy (1, 8)\n",
      "/srv/hays-lab/scratch/sanisetty3/motionx/indices/body/humanml/M008362.npy (1, 8)\n",
      "/srv/hays-lab/scratch/sanisetty3/motionx/indices/body/humanml/006988.npy (1, 6)\n",
      "/srv/hays-lab/scratch/sanisetty3/motionx/indices/body/humanml/005024.npy (1, 9)\n",
      "/srv/hays-lab/scratch/sanisetty3/motionx/indices/body/humanml/M006859.npy (1, 9)\n",
      "/srv/hays-lab/scratch/sanisetty3/motionx/indices/body/humanml/M013180.npy (1, 6)\n",
      "/srv/hays-lab/scratch/sanisetty3/motionx/indices/body/humanml/006950.npy (1, 6)\n",
      "/srv/hays-lab/scratch/sanisetty3/motionx/indices/body/humanml/M009136.npy (1, 7)\n",
      "/srv/hays-lab/scratch/sanisetty3/motionx/indices/body/humanml/M013310.npy (1, 6)\n",
      "/srv/hays-lab/scratch/sanisetty3/motionx/indices/body/humanml/003544.npy (1, 9)\n",
      "/srv/hays-lab/scratch/sanisetty3/motionx/indices/body/humanml/004294.npy (1, 9)\n",
      "/srv/hays-lab/scratch/sanisetty3/motionx/indices/body/humanml/005928.npy (1, 6)\n",
      "/srv/hays-lab/scratch/sanisetty3/motionx/indices/body/humanml/M003216.npy (1, 6)\n",
      "/srv/hays-lab/scratch/sanisetty3/motionx/indices/body/humanml/M011011.npy (1, 8)\n",
      "/srv/hays-lab/scratch/sanisetty3/motionx/indices/body/humanml/M005821.npy (1, 8)\n",
      "/srv/hays-lab/scratch/sanisetty3/motionx/indices/body/humanml/012941.npy (1, 2)\n",
      "/srv/hays-lab/scratch/sanisetty3/motionx/indices/body/humanml/M013096.npy (1, 8)\n",
      "/srv/hays-lab/scratch/sanisetty3/motionx/indices/body/humanml/000254.npy (1, 9)\n",
      "/srv/hays-lab/scratch/sanisetty3/motionx/indices/body/humanml/M005529.npy (1, 6)\n",
      "/srv/hays-lab/scratch/sanisetty3/motionx/indices/body/humanml/005117.npy (1, 8)\n",
      "/srv/hays-lab/scratch/sanisetty3/motionx/indices/body/humanml/M000908.npy (1, 8)\n",
      "/srv/hays-lab/scratch/sanisetty3/motionx/indices/body/humanml/M005289.npy (1, 8)\n",
      "/srv/hays-lab/scratch/sanisetty3/motionx/indices/body/humanml/011224.npy (1, 8)\n",
      "/srv/hays-lab/scratch/sanisetty3/motionx/indices/body/humanml/009757.npy (1, 7)\n",
      "/srv/hays-lab/scratch/sanisetty3/motionx/indices/body/humanml/M013920.npy (1, 9)\n",
      "/srv/hays-lab/scratch/sanisetty3/motionx/indices/body/humanml/M010564.npy (1, 9)\n",
      "/srv/hays-lab/scratch/sanisetty3/motionx/indices/body/humanml/M004292.npy (1, 8)\n",
      "/srv/hays-lab/scratch/sanisetty3/motionx/indices/body/humanml/000696.npy (1, 9)\n",
      "/srv/hays-lab/scratch/sanisetty3/motionx/indices/body/humanml/M013025.npy (1, 8)\n",
      "/srv/hays-lab/scratch/sanisetty3/motionx/indices/body/humanml/011216.npy (1, 7)\n",
      "/srv/hays-lab/scratch/sanisetty3/motionx/indices/body/humanml/011211.npy (1, 8)\n",
      "/srv/hays-lab/scratch/sanisetty3/motionx/indices/body/humanml/007050.npy (1, 6)\n",
      "/srv/hays-lab/scratch/sanisetty3/motionx/indices/body/humanml/M002393.npy (1, 8)\n",
      "/srv/hays-lab/scratch/sanisetty3/motionx/indices/body/humanml/M010194.npy (1, 9)\n",
      "/srv/hays-lab/scratch/sanisetty3/motionx/indices/body/humanml/M008391.npy (1, 8)\n",
      "/srv/hays-lab/scratch/sanisetty3/motionx/indices/body/humanml/003928.npy (1, 8)\n",
      "/srv/hays-lab/scratch/sanisetty3/motionx/indices/body/humanml/M001250.npy (1, 9)\n",
      "/srv/hays-lab/scratch/sanisetty3/motionx/indices/body/humanml/001505.npy (1, 6)\n",
      "/srv/hays-lab/scratch/sanisetty3/motionx/indices/body/humanml/003196.npy (1, 8)\n",
      "/srv/hays-lab/scratch/sanisetty3/motionx/indices/body/humanml/005289.npy (1, 8)\n",
      "/srv/hays-lab/scratch/sanisetty3/motionx/indices/body/humanml/000908.npy (1, 8)\n",
      "/srv/hays-lab/scratch/sanisetty3/motionx/indices/body/humanml/M005117.npy (1, 8)\n",
      "/srv/hays-lab/scratch/sanisetty3/motionx/indices/body/humanml/M000254.npy (1, 9)\n",
      "/srv/hays-lab/scratch/sanisetty3/motionx/indices/body/humanml/005529.npy (1, 6)\n",
      "/srv/hays-lab/scratch/sanisetty3/motionx/indices/body/humanml/M000696.npy (1, 9)\n",
      "/srv/hays-lab/scratch/sanisetty3/motionx/indices/body/humanml/004292.npy (1, 8)\n",
      "/srv/hays-lab/scratch/sanisetty3/motionx/indices/body/humanml/010564.npy (1, 9)\n",
      "/srv/hays-lab/scratch/sanisetty3/motionx/indices/body/humanml/M011224.npy (1, 8)\n",
      "/srv/hays-lab/scratch/sanisetty3/motionx/indices/body/humanml/013920.npy (1, 9)\n",
      "/srv/hays-lab/scratch/sanisetty3/motionx/indices/body/humanml/M009757.npy (1, 7)\n",
      "/srv/hays-lab/scratch/sanisetty3/motionx/indices/body/humanml/M011211.npy (1, 8)\n",
      "/srv/hays-lab/scratch/sanisetty3/motionx/indices/body/humanml/M007050.npy (1, 6)\n",
      "/srv/hays-lab/scratch/sanisetty3/motionx/indices/body/humanml/M011216.npy (1, 7)\n",
      "/srv/hays-lab/scratch/sanisetty3/motionx/indices/body/humanml/013025.npy (1, 8)\n",
      "/srv/hays-lab/scratch/sanisetty3/motionx/indices/body/humanml/001250.npy (1, 9)\n",
      "/srv/hays-lab/scratch/sanisetty3/motionx/indices/body/humanml/M003196.npy (1, 8)\n",
      "/srv/hays-lab/scratch/sanisetty3/motionx/indices/body/humanml/M001505.npy (1, 6)\n",
      "/srv/hays-lab/scratch/sanisetty3/motionx/indices/body/humanml/M003928.npy (1, 8)\n",
      "/srv/hays-lab/scratch/sanisetty3/motionx/indices/body/humanml/002393.npy (1, 8)\n",
      "/srv/hays-lab/scratch/sanisetty3/motionx/indices/body/humanml/010194.npy (1, 9)\n",
      "/srv/hays-lab/scratch/sanisetty3/motionx/indices/body/humanml/008391.npy (1, 8)\n",
      "/srv/hays-lab/scratch/sanisetty3/motionx/indices/body/humanml/M007641.npy (1, 8)\n",
      "/srv/hays-lab/scratch/sanisetty3/motionx/indices/body/humanml/008066.npy (1, 5)\n",
      "/srv/hays-lab/scratch/sanisetty3/motionx/indices/body/humanml/006728.npy (1, 9)\n",
      "/srv/hays-lab/scratch/sanisetty3/motionx/indices/body/humanml/008194.npy (1, 3)\n",
      "/srv/hays-lab/scratch/sanisetty3/motionx/indices/body/humanml/007320.npy (1, 6)\n",
      "/srv/hays-lab/scratch/sanisetty3/motionx/indices/body/humanml/M012838.npy (1, 9)\n",
      "/srv/hays-lab/scratch/sanisetty3/motionx/indices/body/humanml/009653.npy (1, 7)\n",
      "/srv/hays-lab/scratch/sanisetty3/motionx/indices/body/humanml/003948.npy (1, 1)\n",
      "/srv/hays-lab/scratch/sanisetty3/motionx/indices/body/humanml/001441.npy (1, 6)\n",
      "/srv/hays-lab/scratch/sanisetty3/motionx/indices/body/humanml/M006992.npy (1, 8)\n",
      "/srv/hays-lab/scratch/sanisetty3/motionx/indices/body/humanml/M004173.npy (1, 8)\n",
      "/srv/hays-lab/scratch/sanisetty3/motionx/indices/body/humanml/M000553.npy (1, 8)\n",
      "/srv/hays-lab/scratch/sanisetty3/motionx/indices/body/humanml/M001031.npy (1, 9)\n",
      "/srv/hays-lab/scratch/sanisetty3/motionx/indices/body/humanml/007864.npy (1, 8)\n",
      "/srv/hays-lab/scratch/sanisetty3/motionx/indices/body/humanml/M011491.npy (1, 8)\n",
      "/srv/hays-lab/scratch/sanisetty3/motionx/indices/body/humanml/M003226.npy (1, 8)\n",
      "/srv/hays-lab/scratch/sanisetty3/motionx/indices/body/humanml/M007432.npy (1, 7)\n",
      "/srv/hays-lab/scratch/sanisetty3/motionx/indices/body/humanml/M006389.npy (1, 7)\n",
      "/srv/hays-lab/scratch/sanisetty3/motionx/indices/body/humanml/M010356.npy (1, 8)\n",
      "/srv/hays-lab/scratch/sanisetty3/motionx/indices/body/humanml/012041.npy (1, 9)\n",
      "/srv/hays-lab/scratch/sanisetty3/motionx/indices/body/humanml/010714.npy (1, 8)\n",
      "/srv/hays-lab/scratch/sanisetty3/motionx/indices/body/humanml/M010976.npy (1, 7)\n",
      "/srv/hays-lab/scratch/sanisetty3/motionx/indices/body/humanml/014348.npy (1, 9)\n",
      "/srv/hays-lab/scratch/sanisetty3/motionx/indices/body/humanml/M002365.npy (1, 7)\n",
      "/srv/hays-lab/scratch/sanisetty3/motionx/indices/body/humanml/M003873.npy (1, 9)\n",
      "/srv/hays-lab/scratch/sanisetty3/motionx/indices/body/humanml/012838.npy (1, 9)\n",
      "/srv/hays-lab/scratch/sanisetty3/motionx/indices/body/humanml/M007320.npy (1, 6)\n",
      "/srv/hays-lab/scratch/sanisetty3/motionx/indices/body/humanml/M008194.npy (1, 3)\n",
      "/srv/hays-lab/scratch/sanisetty3/motionx/indices/body/humanml/M006728.npy (1, 9)\n",
      "/srv/hays-lab/scratch/sanisetty3/motionx/indices/body/humanml/007641.npy (1, 8)\n",
      "/srv/hays-lab/scratch/sanisetty3/motionx/indices/body/humanml/M008066.npy (1, 5)\n",
      "/srv/hays-lab/scratch/sanisetty3/motionx/indices/body/humanml/000553.npy (1, 8)\n",
      "/srv/hays-lab/scratch/sanisetty3/motionx/indices/body/humanml/M003948.npy (1, 1)\n",
      "/srv/hays-lab/scratch/sanisetty3/motionx/indices/body/humanml/004173.npy (1, 8)\n",
      "/srv/hays-lab/scratch/sanisetty3/motionx/indices/body/humanml/006992.npy (1, 8)\n",
      "/srv/hays-lab/scratch/sanisetty3/motionx/indices/body/humanml/M001441.npy (1, 6)\n",
      "/srv/hays-lab/scratch/sanisetty3/motionx/indices/body/humanml/M009653.npy (1, 7)\n",
      "/srv/hays-lab/scratch/sanisetty3/motionx/indices/body/humanml/007432.npy (1, 7)\n",
      "/srv/hays-lab/scratch/sanisetty3/motionx/indices/body/humanml/003226.npy (1, 8)\n",
      "/srv/hays-lab/scratch/sanisetty3/motionx/indices/body/humanml/011491.npy (1, 8)\n",
      "/srv/hays-lab/scratch/sanisetty3/motionx/indices/body/humanml/M007864.npy (1, 8)\n",
      "/srv/hays-lab/scratch/sanisetty3/motionx/indices/body/humanml/001031.npy (1, 9)\n",
      "/srv/hays-lab/scratch/sanisetty3/motionx/indices/body/humanml/003873.npy (1, 9)\n",
      "/srv/hays-lab/scratch/sanisetty3/motionx/indices/body/humanml/M014348.npy (1, 9)\n",
      "/srv/hays-lab/scratch/sanisetty3/motionx/indices/body/humanml/002365.npy (1, 7)\n",
      "/srv/hays-lab/scratch/sanisetty3/motionx/indices/body/humanml/010976.npy (1, 7)\n",
      "/srv/hays-lab/scratch/sanisetty3/motionx/indices/body/humanml/010356.npy (1, 8)\n",
      "/srv/hays-lab/scratch/sanisetty3/motionx/indices/body/humanml/006389.npy (1, 7)\n",
      "/srv/hays-lab/scratch/sanisetty3/motionx/indices/body/humanml/M012041.npy (1, 9)\n",
      "/srv/hays-lab/scratch/sanisetty3/motionx/indices/body/humanml/M010714.npy (1, 8)\n",
      "/srv/hays-lab/scratch/sanisetty3/motionx/indices/body/humanml/012274.npy (1, 9)\n",
      "/srv/hays-lab/scratch/sanisetty3/motionx/indices/body/humanml/M014188.npy (1, 9)\n",
      "/srv/hays-lab/scratch/sanisetty3/motionx/indices/body/humanml/006644.npy (1, 9)\n",
      "/srv/hays-lab/scratch/sanisetty3/motionx/indices/body/humanml/M010118.npy (1, 6)\n",
      "/srv/hays-lab/scratch/sanisetty3/motionx/indices/body/humanml/M008076.npy (1, 9)\n",
      "/srv/hays-lab/scratch/sanisetty3/motionx/indices/body/humanml/M001161.npy (1, 6)\n",
      "/srv/hays-lab/scratch/sanisetty3/motionx/indices/body/humanml/011810.npy (1, 8)\n",
      "/srv/hays-lab/scratch/sanisetty3/motionx/indices/body/humanml/003790.npy (1, 2)\n",
      "/srv/hays-lab/scratch/sanisetty3/motionx/indices/body/humanml/M013120.npy (1, 8)\n",
      "/srv/hays-lab/scratch/sanisetty3/motionx/indices/body/humanml/001556.npy (1, 8)\n",
      "/srv/hays-lab/scratch/sanisetty3/motionx/indices/body/humanml/004778.npy (1, 6)\n",
      "/srv/hays-lab/scratch/sanisetty3/motionx/indices/body/humanml/M009445.npy (1, 9)\n",
      "/srv/hays-lab/scratch/sanisetty3/motionx/indices/body/humanml/M004966.npy (1, 8)\n",
      "/srv/hays-lab/scratch/sanisetty3/motionx/indices/body/humanml/M009561.npy (1, 8)\n",
      "/srv/hays-lab/scratch/sanisetty3/motionx/indices/body/humanml/M011012.npy (1, 9)\n",
      "/srv/hays-lab/scratch/sanisetty3/motionx/indices/body/humanml/M009671.npy (1, 7)\n",
      "/srv/hays-lab/scratch/sanisetty3/motionx/indices/body/humanml/000745.npy (1, 5)\n",
      "/srv/hays-lab/scratch/sanisetty3/motionx/indices/body/humanml/005254.npy (1, 2)\n",
      "/srv/hays-lab/scratch/sanisetty3/motionx/indices/body/humanml/007044.npy (1, 6)\n",
      "/srv/hays-lab/scratch/sanisetty3/motionx/indices/body/humanml/M003021.npy (1, 5)\n",
      "/srv/hays-lab/scratch/sanisetty3/motionx/indices/body/humanml/013226.npy (1, 9)\n",
      "/srv/hays-lab/scratch/sanisetty3/motionx/indices/body/humanml/012414.npy (1, 9)\n",
      "/srv/hays-lab/scratch/sanisetty3/motionx/indices/body/humanml/010720.npy (1, 7)\n",
      "/srv/hays-lab/scratch/sanisetty3/motionx/indices/body/humanml/M005859.npy (1, 6)\n",
      "/srv/hays-lab/scratch/sanisetty3/motionx/indices/body/humanml/M006299.npy (1, 9)\n",
      "/srv/hays-lab/scratch/sanisetty3/motionx/indices/body/humanml/M013908.npy (1, 2)\n",
      "/srv/hays-lab/scratch/sanisetty3/motionx/indices/body/humanml/000351.npy (1, 8)\n",
      "/srv/hays-lab/scratch/sanisetty3/motionx/indices/body/humanml/000971.npy (1, 8)\n",
      "/srv/hays-lab/scratch/sanisetty3/motionx/indices/body/humanml/008076.npy (1, 9)\n",
      "/srv/hays-lab/scratch/sanisetty3/motionx/indices/body/humanml/001161.npy (1, 6)\n",
      "/srv/hays-lab/scratch/sanisetty3/motionx/indices/body/humanml/010118.npy (1, 6)\n",
      "/srv/hays-lab/scratch/sanisetty3/motionx/indices/body/humanml/M006644.npy (1, 9)\n",
      "/srv/hays-lab/scratch/sanisetty3/motionx/indices/body/humanml/014188.npy (1, 9)\n",
      "/srv/hays-lab/scratch/sanisetty3/motionx/indices/body/humanml/M012274.npy (1, 9)\n",
      "/srv/hays-lab/scratch/sanisetty3/motionx/indices/body/humanml/M001556.npy (1, 8)\n",
      "/srv/hays-lab/scratch/sanisetty3/motionx/indices/body/humanml/013120.npy (1, 8)\n",
      "/srv/hays-lab/scratch/sanisetty3/motionx/indices/body/humanml/M003790.npy (1, 2)\n",
      "/srv/hays-lab/scratch/sanisetty3/motionx/indices/body/humanml/M011810.npy (1, 8)\n",
      "/srv/hays-lab/scratch/sanisetty3/motionx/indices/body/humanml/003021.npy (1, 5)\n",
      "/srv/hays-lab/scratch/sanisetty3/motionx/indices/body/humanml/M007044.npy (1, 6)\n",
      "/srv/hays-lab/scratch/sanisetty3/motionx/indices/body/humanml/M013226.npy (1, 9)\n",
      "/srv/hays-lab/scratch/sanisetty3/motionx/indices/body/humanml/M000745.npy (1, 5)\n",
      "/srv/hays-lab/scratch/sanisetty3/motionx/indices/body/humanml/009671.npy (1, 7)\n",
      "/srv/hays-lab/scratch/sanisetty3/motionx/indices/body/humanml/M005254.npy (1, 2)\n",
      "/srv/hays-lab/scratch/sanisetty3/motionx/indices/body/humanml/009561.npy (1, 8)\n",
      "/srv/hays-lab/scratch/sanisetty3/motionx/indices/body/humanml/011012.npy (1, 9)\n",
      "/srv/hays-lab/scratch/sanisetty3/motionx/indices/body/humanml/004966.npy (1, 8)\n",
      "/srv/hays-lab/scratch/sanisetty3/motionx/indices/body/humanml/009445.npy (1, 9)\n",
      "/srv/hays-lab/scratch/sanisetty3/motionx/indices/body/humanml/M004778.npy (1, 6)\n",
      "/srv/hays-lab/scratch/sanisetty3/motionx/indices/body/humanml/M000971.npy (1, 8)\n",
      "/srv/hays-lab/scratch/sanisetty3/motionx/indices/body/humanml/M000351.npy (1, 8)\n",
      "/srv/hays-lab/scratch/sanisetty3/motionx/indices/body/humanml/013908.npy (1, 2)\n",
      "/srv/hays-lab/scratch/sanisetty3/motionx/indices/body/humanml/005859.npy (1, 6)\n",
      "/srv/hays-lab/scratch/sanisetty3/motionx/indices/body/humanml/006299.npy (1, 9)\n",
      "/srv/hays-lab/scratch/sanisetty3/motionx/indices/body/humanml/M010720.npy (1, 7)\n",
      "/srv/hays-lab/scratch/sanisetty3/motionx/indices/body/humanml/M012414.npy (1, 9)\n"
     ]
    }
   ],
   "source": [
    "err = []\n",
    "for i in fles:\n",
    "    if np.load(i).shape[-1] < 10:\n",
    "        err.append(os.path.basename(i))\n",
    "        print(i, np.load(i).shape)"
   ]
  },
  {
   "cell_type": "code",
   "execution_count": 14,
   "id": "3242abfb-7b2f-4518-b29f-59c8b5c23484",
   "metadata": {},
   "outputs": [
    {
     "data": {
      "text/plain": [
       "['006859.npy',\n",
       " '013180.npy',\n",
       " 'M005024.npy',\n",
       " 'M006988.npy',\n",
       " '008362.npy',\n",
       " 'M011994.npy',\n",
       " '010908.npy',\n",
       " '009136.npy',\n",
       " '013310.npy',\n",
       " 'M006950.npy',\n",
       " '003216.npy',\n",
       " '011011.npy',\n",
       " 'M005928.npy',\n",
       " 'M004294.npy',\n",
       " 'M003544.npy',\n",
       " 'M012941.npy',\n",
       " '013096.npy',\n",
       " '005821.npy',\n",
       " 'M010908.npy',\n",
       " '011994.npy',\n",
       " 'M008362.npy',\n",
       " '006988.npy',\n",
       " '005024.npy',\n",
       " 'M006859.npy',\n",
       " 'M013180.npy',\n",
       " '006950.npy',\n",
       " 'M009136.npy',\n",
       " 'M013310.npy',\n",
       " '003544.npy',\n",
       " '004294.npy',\n",
       " '005928.npy',\n",
       " 'M003216.npy',\n",
       " 'M011011.npy',\n",
       " 'M005821.npy',\n",
       " '012941.npy',\n",
       " 'M013096.npy',\n",
       " '000254.npy',\n",
       " 'M005529.npy',\n",
       " '005117.npy',\n",
       " 'M000908.npy',\n",
       " 'M005289.npy',\n",
       " '011224.npy',\n",
       " '009757.npy',\n",
       " 'M013920.npy',\n",
       " 'M010564.npy',\n",
       " 'M004292.npy',\n",
       " '000696.npy',\n",
       " 'M013025.npy',\n",
       " '011216.npy',\n",
       " '011211.npy',\n",
       " '007050.npy',\n",
       " 'M002393.npy',\n",
       " 'M010194.npy',\n",
       " 'M008391.npy',\n",
       " '003928.npy',\n",
       " 'M001250.npy',\n",
       " '001505.npy',\n",
       " '003196.npy',\n",
       " '005289.npy',\n",
       " '000908.npy',\n",
       " 'M005117.npy',\n",
       " 'M000254.npy',\n",
       " '005529.npy',\n",
       " 'M000696.npy',\n",
       " '004292.npy',\n",
       " '010564.npy',\n",
       " 'M011224.npy',\n",
       " '013920.npy',\n",
       " 'M009757.npy',\n",
       " 'M011211.npy',\n",
       " 'M007050.npy',\n",
       " 'M011216.npy',\n",
       " '013025.npy',\n",
       " '001250.npy',\n",
       " 'M003196.npy',\n",
       " 'M001505.npy',\n",
       " 'M003928.npy',\n",
       " '002393.npy',\n",
       " '010194.npy',\n",
       " '008391.npy',\n",
       " 'M007641.npy',\n",
       " '008066.npy',\n",
       " '006728.npy',\n",
       " '008194.npy',\n",
       " '007320.npy',\n",
       " 'M012838.npy',\n",
       " '009653.npy',\n",
       " '003948.npy',\n",
       " '001441.npy',\n",
       " 'M006992.npy',\n",
       " 'M004173.npy',\n",
       " 'M000553.npy',\n",
       " 'M001031.npy',\n",
       " '007864.npy',\n",
       " 'M011491.npy',\n",
       " 'M003226.npy',\n",
       " 'M007432.npy',\n",
       " 'M006389.npy',\n",
       " 'M010356.npy',\n",
       " '012041.npy',\n",
       " '010714.npy',\n",
       " 'M010976.npy',\n",
       " '014348.npy',\n",
       " 'M002365.npy',\n",
       " 'M003873.npy',\n",
       " '012838.npy',\n",
       " 'M007320.npy',\n",
       " 'M008194.npy',\n",
       " 'M006728.npy',\n",
       " '007641.npy',\n",
       " 'M008066.npy',\n",
       " '000553.npy',\n",
       " 'M003948.npy',\n",
       " '004173.npy',\n",
       " '006992.npy',\n",
       " 'M001441.npy',\n",
       " 'M009653.npy',\n",
       " '007432.npy',\n",
       " '003226.npy',\n",
       " '011491.npy',\n",
       " 'M007864.npy',\n",
       " '001031.npy',\n",
       " '003873.npy',\n",
       " 'M014348.npy',\n",
       " '002365.npy',\n",
       " '010976.npy',\n",
       " '010356.npy',\n",
       " '006389.npy',\n",
       " 'M012041.npy',\n",
       " 'M010714.npy',\n",
       " '012274.npy',\n",
       " 'M014188.npy',\n",
       " '006644.npy',\n",
       " 'M010118.npy',\n",
       " 'M008076.npy',\n",
       " 'M001161.npy',\n",
       " '011810.npy',\n",
       " '003790.npy',\n",
       " 'M013120.npy',\n",
       " '001556.npy',\n",
       " '004778.npy',\n",
       " 'M009445.npy',\n",
       " 'M004966.npy',\n",
       " 'M009561.npy',\n",
       " 'M011012.npy',\n",
       " 'M009671.npy',\n",
       " '000745.npy',\n",
       " '005254.npy',\n",
       " '007044.npy',\n",
       " 'M003021.npy',\n",
       " '013226.npy',\n",
       " '012414.npy',\n",
       " '010720.npy',\n",
       " 'M005859.npy',\n",
       " 'M006299.npy',\n",
       " 'M013908.npy',\n",
       " '000351.npy',\n",
       " '000971.npy',\n",
       " '008076.npy',\n",
       " '001161.npy',\n",
       " '010118.npy',\n",
       " 'M006644.npy',\n",
       " '014188.npy',\n",
       " 'M012274.npy',\n",
       " 'M001556.npy',\n",
       " '013120.npy',\n",
       " 'M003790.npy',\n",
       " 'M011810.npy',\n",
       " '003021.npy',\n",
       " 'M007044.npy',\n",
       " 'M013226.npy',\n",
       " 'M000745.npy',\n",
       " '009671.npy',\n",
       " 'M005254.npy',\n",
       " '009561.npy',\n",
       " '011012.npy',\n",
       " '004966.npy',\n",
       " '009445.npy',\n",
       " 'M004778.npy',\n",
       " 'M000971.npy',\n",
       " 'M000351.npy',\n",
       " '013908.npy',\n",
       " '005859.npy',\n",
       " '006299.npy',\n",
       " 'M010720.npy',\n",
       " 'M012414.npy']"
      ]
     },
     "execution_count": 14,
     "metadata": {},
     "output_type": "execute_result"
    }
   ],
   "source": [
    "err"
   ]
  },
  {
   "cell_type": "code",
   "execution_count": 21,
   "id": "9003df7f-a89c-4bee-8012-9609af5c4828",
   "metadata": {},
   "outputs": [
    {
     "data": {
      "text/plain": [
       "(1, 74)"
      ]
     },
     "execution_count": 21,
     "metadata": {},
     "output_type": "execute_result"
    }
   ],
   "source": [
    "np.load(\"/srv/hays-lab/scratch/sanisetty3/motionx/indices/body/humanml/M012813.npy\").shape"
   ]
  },
  {
   "cell_type": "code",
   "execution_count": 15,
   "id": "ebd8835a-4c8a-4871-a559-2591bb7bf375",
   "metadata": {},
   "outputs": [
    {
     "data": {
      "text/plain": [
       "False"
      ]
     },
     "execution_count": 15,
     "metadata": {},
     "output_type": "execute_result"
    }
   ],
   "source": [
    "\"005485.npy\" in err"
   ]
  },
  {
   "cell_type": "code",
   "execution_count": null,
   "id": "e5989362-b1b3-4d66-aebd-537b89ca9da7",
   "metadata": {},
   "outputs": [],
   "source": []
  },
  {
   "cell_type": "code",
   "execution_count": null,
   "id": "d019bd4b-6842-4817-809f-5f4b0a9403c1",
   "metadata": {},
   "outputs": [],
   "source": [
    "['humanml/005485']\n",
    "['humanml/006501']\n",
    "['humanml/M005485']"
   ]
  },
  {
   "cell_type": "code",
   "execution_count": null,
   "id": "2853e273-cd6c-43c3-9bd3-bb8bff7ebe52",
   "metadata": {},
   "outputs": [],
   "source": []
  },
  {
   "cell_type": "code",
   "execution_count": 20,
   "id": "beea14f0-3280-4331-a467-02b72f4f27f7",
   "metadata": {},
   "outputs": [
    {
     "data": {
      "text/plain": [
       "torch.Size([1, 198, 192])"
      ]
     },
     "execution_count": 20,
     "metadata": {},
     "output_type": "execute_result"
    }
   ],
   "source": [
    "['humanml/M006117']\n",
    "['humanml/012400']\n",
    "  6%|####7                                                                                | 554/9852 [00:11<03:03, 50.70it/s]['humanml/002707']\n",
    "  9%|#######2                                                                             | 840/9852 [00:16<02:52, 52.25it/s]['humanml/M001419']\n",
    " 11%|#########1                                                                          | 1068/9852 [00:20<02:36, 56.17it/s]['humanml/M011284']\n",
    " 13%|###########1                                                                        | 1302/9852 [00:24<02:30, 56.79it/s]['humanml/M013511']\n",
    " 14%|###########5                                                                        | 1356/9852 [00:25<02:30, 56.57it/s]['humanml/008560']\n",
    " 16%|#############3                                                                      | 1561/9852 [00:30<03:20, 41.25it/s]['humanml/002178']\n",
    " 18%|##############7                                                                     | 1731/9852 [00:33<02:40, 50.57it/s]['humanml/M000299']\n",
    " 20%|################8                                                                   | 1977/9852 [00:38<02:35, 50.66it/s]['humanml/M004412']\n",
    " 23%|###################5                                                                | 2294/9852 [00:44<02:30, 50.08it/s]['humanml/M006836']\n",
    " 26%|#####################7                                                              | 2552/9852 [00:49<02:13, 54.52it/s]['humanml/M008371']\n",
    " 28%|#######################4                                                            | 2750/9852 [00:53<02:11, 53.98it/s]['humanml/M014110']\n",
    " 31%|#########################6                                                          | 3011/9852 [00:58<02:31, 45.17it/s]['humanml/005485']\n",
    "\n",
    " 32%|##########################7                                                         | 3141/9852 [01:01<02:32, 44.00it/s]['humanml/007554']\n",
    " 33%|###########################5                                                        | 3236/9852 [01:03<02:30, 43.94it/s]['humanml/009716']\n",
    " 35%|#############################2                                                      | 3426/9852 [01:07<02:29, 43.09it/s]['humanml/M006163']\n",
    " 35%|#############################3                                                      | 3443/9852 [01:08<02:09, 49.57it/s]['humanml/010850']\n",
    " 37%|###############################1                                                    | 3659/9852 [01:12<01:52, 54.85it/s]['humanml/M009402']\n",
    " 38%|################################1                                                   | 3767/9852 [01:14<01:51, 54.46it/s]['humanml/M012250']\n",
    "\n",
    " 44%|#####################################2                                              | 4367/9852 [01:25<01:40, 54.78it/s]\n",
    "['humanml/M012813']\n",
    " 45%|#####################################4                                              | 4397/9852 [01:25<01:39, 54.71it/s]\n",
    "['humanml/004574']\n",
    " 47%|#######################################8                                            | 4673/9852 [01:30<01:34, 54.74it/s]\n",
    "['humanml/009908']\n",
    " 48%|########################################3                                           | 4727/9852 [01:31<01:33, 54.74it/s]\n",
    "['humanml/012791']\n",
    " 51%|##########################################5                                         | 4985/9852 [01:36<01:29, 54.62it/s]\n",
    "['humanml/012813']\n",
    " 58%|################################################7                                   | 5715/9852 [01:51<01:33, 44.21it/s]\n",
    "['humanml/M012791']\n",
    " 59%|#################################################4                                  | 5795/9852 [01:53<01:33, 43.40it/s]\n",
    "['humanml/M009908']\n",
    " 61%|###################################################1                                | 5995/9852 [01:57<01:29, 43.00it/s]\n",
    "['humanml/M004574']\n",
    " 62%|###################################################6                                | 6060/9852 [01:59<01:09, 54.32it/s]['humanml/M007554']\n",
    " 64%|#####################################################4                              | 6270/9852 [02:02<01:05, 54.88it/s]['humanml/M005485']\n",
    "\n",
    "['humanml/014110']\n",
    "['humanml/M006501']\n",
    "['humanml/012250']\n",
    "['humanml/009402']\n",
    "['humanml/M010850']\n",
    "['humanml/006163']\n",
    "['humanml/M009716']\n",
    "['humanml/000299']\n",
    "['humanml/M002178']\n",
    "['humanml/M008560']\n",
    "['humanml/013511']\n",
    "['humanml/008371']\n",
    "['humanml/006836']\n",
    "['humanml/004412']\n",
    "['humanml/M002707']\n",
    "['humanml/M012400']\n",
    "['humanml/006117']\n",
    "['humanml/011284']\n",
    "['humanml/001419']\n",
    "\n"
   ]
  },
  {
   "cell_type": "code",
   "execution_count": null,
   "id": "b5dcdc78-91f5-4c18-ad10-543f32fe3655",
   "metadata": {},
   "outputs": [],
   "source": [
    "90"
   ]
  },
  {
   "cell_type": "code",
   "execution_count": 26,
   "id": "f21e57bd-3bb3-4ba4-b7aa-aa83724b36e0",
   "metadata": {},
   "outputs": [
    {
     "name": "stderr",
     "output_type": "stream",
     "text": [
      "100%|████████████████████████████████████████████████████████████████████████████████████████| 33/33 [10:38<00:00, 19.34s/it]\n"
     ]
    }
   ],
   "source": [
    "for batch in tqdm(dl):\n",
    "    test_ds.datasets[0].render_hml(batch[\"motion\"][0][0][:300] , save_path = f\"/srv/hays-lab/scratch/sanisetty3/music_motion/ATCMG/render/true_all/{os.path.basename(batch['names'][0])}.gif\" )"
   ]
  },
  {
   "cell_type": "code",
   "execution_count": 38,
   "id": "86eaedbf-4bee-475b-8c4b-6c874e9f97a5",
   "metadata": {},
   "outputs": [
    {
     "data": {
      "text/plain": [
       "dict_keys(['names', 'motion'])"
      ]
     },
     "execution_count": 38,
     "metadata": {},
     "output_type": "execute_result"
    }
   ],
   "source": [
    "batch.keys()"
   ]
  },
  {
   "cell_type": "code",
   "execution_count": null,
   "id": "0ab6191f-f316-401f-b76a-955074b96d41",
   "metadata": {},
   "outputs": [],
   "source": []
  },
  {
   "cell_type": "code",
   "execution_count": 23,
   "id": "2b5b5150-388c-4ec0-9d88-f56bc1a40769",
   "metadata": {},
   "outputs": [
    {
     "data": {
      "text/plain": [
       "torch.Size([1, 299, 462])"
      ]
     },
     "execution_count": 23,
     "metadata": {},
     "output_type": "execute_result"
    }
   ],
   "source": [
    "batch[\"motion\"][0].shape"
   ]
  },
  {
   "cell_type": "code",
   "execution_count": 41,
   "id": "99d23f0e-c882-4679-a835-2c8ab1da1c5b",
   "metadata": {},
   "outputs": [],
   "source": [
    "test_ds.datasets[0].render_hml(batch[\"motion\"][0][0][:300] , save_path = \"/srv/hays-lab/scratch/sanisetty3/music_motion/ATCMG/checkpoints/motion_streaming/samples/0/beatgtgt.gif\" )"
   ]
  },
  {
   "cell_type": "code",
   "execution_count": null,
   "id": "01fcb21c-8e45-47fb-a2de-15e12f23cf7c",
   "metadata": {},
   "outputs": [],
   "source": []
  }
 ],
 "metadata": {
  "kernelspec": {
   "display_name": "Python 3 (ipykernel)",
   "language": "python",
   "name": "python3"
  },
  "language_info": {
   "codemirror_mode": {
    "name": "ipython",
    "version": 3
   },
   "file_extension": ".py",
   "mimetype": "text/x-python",
   "name": "python",
   "nbconvert_exporter": "python",
   "pygments_lexer": "ipython3",
   "version": "3.9.18"
  }
 },
 "nbformat": 4,
 "nbformat_minor": 5
}
