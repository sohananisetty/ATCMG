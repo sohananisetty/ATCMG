{
 "cells": [
  {
   "cell_type": "code",
   "execution_count": 1,
   "id": "47ddc593-335a-4c95-925d-a1aef161033f",
   "metadata": {},
   "outputs": [
    {
     "name": "stdout",
     "output_type": "stream",
     "text": [
      "Using device: cuda\n",
      "\n",
      "NVIDIA GeForce RTX 2080 Ti\n",
      "Memory Usage:\n",
      "Allocated: 0.0 GB\n",
      "Cached:    0.0 GB\n"
     ]
    }
   ],
   "source": [
    "# setting device on GPU if available, else CPU\n",
    "import torch\n",
    "\n",
    "device = torch.device(\"cuda\" if torch.cuda.is_available() else \"cpu\")\n",
    "print(\"Using device:\", device)\n",
    "print()\n",
    "\n",
    "# Additional Info when using cuda\n",
    "if device.type == \"cuda\":\n",
    "    print(torch.cuda.get_device_name(0))\n",
    "    print(\"Memory Usage:\")\n",
    "    print(\"Allocated:\", round(torch.cuda.memory_allocated(0) / 1024**3, 1), \"GB\")\n",
    "    print(\"Cached:   \", round(torch.cuda.memory_reserved(0) / 1024**3, 1), \"GB\")"
   ]
  },
  {
   "cell_type": "code",
   "execution_count": 2,
   "id": "c473c419-8c66-4f10-9467-f1f15b5bb7d4",
   "metadata": {},
   "outputs": [],
   "source": [
    "%load_ext autoreload\n",
    "%autoreload 2\n",
    "%matplotlib inline"
   ]
  },
  {
   "cell_type": "code",
   "execution_count": 3,
   "id": "9785cf10-ca24-45fe-b6d7-726c1bf59178",
   "metadata": {},
   "outputs": [],
   "source": [
    "import torch\n",
    "import torch.nn.functional as F\n",
    "import torch.nn as nn\n",
    "\n",
    "from torch.utils.data import DataLoader\n",
    "\n",
    "from torch.utils import data\n",
    "\n",
    "\n",
    "import copy\n",
    "import os\n",
    "import random\n",
    "import cv2\n",
    "import numpy as np\n",
    "from PIL import Image\n",
    "import pandas as pd\n",
    "import matplotlib.pyplot as plt\n",
    "from glob import glob\n",
    "import functools\n",
    "from tqdm import tqdm\n",
    "from datetime import datetime\n",
    "import numpy as np\n",
    "from functools import partial\n",
    "# from core.datasets.vqa_motion_dataset import VQMotionDataset,DATALoader,VQVarLenMotionDataset,MotionCollator\n",
    "from einops import rearrange, reduce, pack, unpack\n",
    "import sys"
   ]
  },
  {
   "cell_type": "code",
   "execution_count": null,
   "id": "1843bcc6-d85b-4286-b267-eca5d4c06502",
   "metadata": {},
   "outputs": [],
   "source": []
  },
  {
   "cell_type": "markdown",
   "id": "9f95e286-bc5c-4f51-9416-080935ab6087",
   "metadata": {},
   "source": [
    "## test rendering"
   ]
  },
  {
   "cell_type": "code",
   "execution_count": 4,
   "id": "f6ed2250-2a08-4fec-beb3-2738486b89a9",
   "metadata": {},
   "outputs": [],
   "source": [
    "def findAllFile(base):\n",
    "    \"\"\"\n",
    "    Recursively find all files in the specified directory.\n",
    "\n",
    "    Args:\n",
    "        base (str): The base directory to start the search.\n",
    "\n",
    "    Returns:\n",
    "        list: A list of file paths found in the directory and its subdirectories.\n",
    "    \"\"\"\n",
    "    file_path = []\n",
    "    for root, ds, fs in os.walk(base, followlinks=True):\n",
    "        for f in fs:\n",
    "            fullname = os.path.join(root, f)\n",
    "            file_path.append(fullname)\n",
    "    return file_path"
   ]
  },
  {
   "cell_type": "code",
   "execution_count": 5,
   "id": "b268b5d7-502f-428f-899b-f2470587299f",
   "metadata": {},
   "outputs": [],
   "source": [
    "from utils.motion_processing.hml_process import recover_from_ric, recover_root_rot_pos\n",
    "import utils.vis_utils.plot_3d_global as plot_3d\n",
    "import matplotlib.pyplot as plt"
   ]
  },
  {
   "cell_type": "code",
   "execution_count": 6,
   "id": "5f856a3f-bd13-492a-9f13-402643349384",
   "metadata": {
    "scrolled": true
   },
   "outputs": [
    {
     "name": "stderr",
     "output_type": "stream",
     "text": [
      "/srv/hays-lab/flash5/sanisetty3/miniconda3/envs/tgm3d/lib/python3.9/site-packages/tqdm/auto.py:21: TqdmWarning: IProgress not found. Please update jupyter and ipywidgets. See https://ipywidgets.readthedocs.io/en/stable/user_install.html\n",
      "  from .autonotebook import tqdm as notebook_tqdm\n"
     ]
    }
   ],
   "source": [
    "from core.param_dataclasses import pattern_providers\n",
    "from core.datasets.multimodal_dataset import MotionIndicesAudioTextDataset, load_dataset_gen, simple_collate\n",
    "from core.models.utils import instantiate_from_config, get_obj_from_str\n",
    "from core import MotionRep, AudioRep, TextRep\n",
    "from core.datasets.conditioner import ConditionProvider,ConditionFuser\n",
    "\n",
    "from configs.config import cfg, get_cfg_defaults\n",
    "from configs.config_streaming import get_cfg_defaults as strm_get_cfg_defaults\n"
   ]
  },
  {
   "cell_type": "code",
   "execution_count": null,
   "id": "51578303-4e64-4ecc-b605-36868fe00e3d",
   "metadata": {},
   "outputs": [],
   "source": []
  },
  {
   "cell_type": "code",
   "execution_count": null,
   "id": "d4879bf7-3898-41f6-84ae-92ca96477033",
   "metadata": {},
   "outputs": [],
   "source": []
  },
  {
   "cell_type": "code",
   "execution_count": null,
   "id": "4b9701a6-f501-43e2-b93b-db96d8a1f016",
   "metadata": {},
   "outputs": [],
   "source": []
  },
  {
   "cell_type": "code",
   "execution_count": null,
   "id": "588fe43b-a893-429a-9c89-56bf15b2293e",
   "metadata": {},
   "outputs": [],
   "source": []
  },
  {
   "cell_type": "code",
   "execution_count": 7,
   "id": "701ef95c-1211-4f80-82d1-2c59aaf4db7d",
   "metadata": {},
   "outputs": [],
   "source": [
    "gen_cfg = strm_get_cfg_defaults()\n",
    "gen_cfg.merge_from_file(\"/srv/hays-lab/scratch/sanisetty3/music_motion/ATCMG/checkpoints/motion_streaming/motion_streaming.yaml\")\n",
    "gen_cfg.freeze()"
   ]
  },
  {
   "cell_type": "code",
   "execution_count": 8,
   "id": "d8daa247-ea5b-45f5-9a71-39026d265693",
   "metadata": {},
   "outputs": [],
   "source": [
    "\n",
    "body_cfg = get_cfg_defaults()\n",
    "body_cfg.merge_from_file(gen_cfg.vqvae.body_config)\n",
    "# left_cfg = get_cfg_defaults()\n",
    "# left_cfg.merge_from_file(gen_cfg.vqvae.left_hand_config)\n",
    "# right_cfg = get_cfg_defaults()\n",
    "# right_cfg.merge_from_file(gen_cfg.vqvae.right_hand_config)"
   ]
  },
  {
   "cell_type": "code",
   "execution_count": 9,
   "id": "8c7ed910-46ab-4f39-94d7-13c4e525a2f0",
   "metadata": {},
   "outputs": [],
   "source": [
    "from core.models.resnetVQ.vqvae import HumanVQVAE\n"
   ]
  },
  {
   "cell_type": "code",
   "execution_count": null,
   "id": "f87359b5-80b1-45a6-afcd-2bff0f3180a1",
   "metadata": {},
   "outputs": [],
   "source": []
  },
  {
   "cell_type": "code",
   "execution_count": 10,
   "id": "5ca6f05f-505b-42dc-a7c2-6c7a2309ca21",
   "metadata": {},
   "outputs": [],
   "source": [
    "# left_hand_model = HumanVQVAE(left_cfg.vqvae).to(device).eval()\n",
    "# left_hand_model.load(os.path.join(left_cfg.output_dir, \"vqvae_motion.pt\"))\n",
    "\n",
    "# right_hand_model = HumanVQVAE(right_cfg.vqvae).to(device).eval()\n",
    "# right_hand_model.load(os.path.join(right_cfg.output_dir, \"vqvae_motion.pt\"))\n",
    "\n",
    "body_model = HumanVQVAE(body_cfg.vqvae).to(device).eval()\n",
    "body_model.load(os.path.join(body_cfg.output_dir, \"vqvae_motion.pt\"))\n",
    "\n"
   ]
  },
  {
   "cell_type": "code",
   "execution_count": null,
   "id": "840f8407-7045-4cd3-a0c9-a4ebae3ca54f",
   "metadata": {},
   "outputs": [],
   "source": []
  },
  {
   "cell_type": "code",
   "execution_count": null,
   "id": "8a36f7a2-c271-4998-9647-d89951a2bbea",
   "metadata": {},
   "outputs": [],
   "source": []
  },
  {
   "cell_type": "markdown",
   "id": "54003cfb-544e-419b-b143-315c7a832876",
   "metadata": {},
   "source": [
    "### VQVAE"
   ]
  },
  {
   "cell_type": "code",
   "execution_count": null,
   "id": "abdf13d1-9fe5-4a0b-9f48-039763e9a6c9",
   "metadata": {},
   "outputs": [],
   "source": []
  },
  {
   "cell_type": "code",
   "execution_count": 10,
   "id": "2803dc9a-5276-4e3f-bfef-a12c919b6600",
   "metadata": {},
   "outputs": [],
   "source": [
    "from core.datasets.vq_dataset import VQSMPLXMotionDataset\n",
    "from core.datasets.vq_dataset import load_dataset as load_dataset_vq\n",
    "from core.datasets.vq_dataset import simple_collate as simple_collate_vq\n"
   ]
  },
  {
   "cell_type": "code",
   "execution_count": 11,
   "id": "c9c5eeeb-5648-4e6a-9fc9-000d083d2b08",
   "metadata": {},
   "outputs": [],
   "source": [
    "def get_decoded(model , motion):\n",
    "    encs = []\n",
    "    inds = []\n",
    "    for i in range(0 , motion.shape[1] , 120 ):\n",
    "        if i + 240 >= motion.shape[1]:\n",
    "            enc_b = model(motion[: , i:, :].to(device))\n",
    "            encs.append(enc_b.decoded_motion)\n",
    "            inds.append(enc_b.indices)\n",
    "            break\n",
    "        else:\n",
    "            enc_b = model(motion[: , i:i + 120, :].to(device))\n",
    "            encs.append(enc_b.decoded_motion)\n",
    "            inds.append(enc_b.indices)\n",
    "    return torch.cat(encs , 1), torch.cat(inds , -1)"
   ]
  },
  {
   "cell_type": "code",
   "execution_count": 12,
   "id": "6bfa9eb6-bebd-44b2-aae6-f14335230ec7",
   "metadata": {},
   "outputs": [
    {
     "name": "stderr",
     "output_type": "stream",
     "text": [
      "/srv/hays-lab/flash5/sanisetty3/miniconda3/envs/tgm3d/lib/python3.9/site-packages/torch/nn/utils/weight_norm.py:28: UserWarning: torch.nn.utils.weight_norm is deprecated in favor of torch.nn.utils.parametrizations.weight_norm.\n",
      "  warnings.warn(\"torch.nn.utils.weight_norm is deprecated in favor of torch.nn.utils.parametrizations.weight_norm.\")\n",
      "Could not find image processor class in the image processor config or the model config. Loading based on pattern matching with the model's feature extractor configuration. Please open a PR/issue to update `preprocessor_config.json` to use `image_processor_type` instead of `feature_extractor_type`. This warning will be removed in v4.40.\n"
     ]
    }
   ],
   "source": [
    "condition_provider2 = ConditionProvider(\n",
    "            motion_rep=MotionRep(\"body\"),\n",
    "            motion_padding=\"max_length\",\n",
    "\n",
    "        )"
   ]
  },
  {
   "cell_type": "code",
   "execution_count": null,
   "id": "359ff182-863e-4745-b0fe-a1aa11b3cfd8",
   "metadata": {},
   "outputs": [],
   "source": []
  },
  {
   "cell_type": "code",
   "execution_count": null,
   "id": "b07d3a8c-2389-4eb0-b051-3ccae88ac4c8",
   "metadata": {},
   "outputs": [],
   "source": []
  },
  {
   "cell_type": "code",
   "execution_count": 47,
   "id": "212a8735-6a05-4795-9050-3284c089b8bf",
   "metadata": {},
   "outputs": [],
   "source": [
    "dataset_names_default = [\n",
    "    # \"animation\",\n",
    "    # \"humanml\",\n",
    "    # \"perform\",\n",
    "    # \"GRAB\",\n",
    "    \"idea400\",\n",
    "    # \"humman\",\n",
    "    # \"beat\",\n",
    "    # \"game_motion\",\n",
    "    # \"music\",\n",
    "    # \"aist\",\n",
    "    # \"fitness\",\n",
    "    # \"moyo\",\n",
    "    # \"choreomaster\",\n",
    "    # \"dance\",\n",
    "    # \"kungfu\",\n",
    "    # \"EgoBody\",\n",
    "    # \"HAA500\",\n",
    "]"
   ]
  },
  {
   "cell_type": "code",
   "execution_count": 204,
   "id": "45ce439e-d87a-4029-a939-8c13a36393cd",
   "metadata": {},
   "outputs": [],
   "source": [
    "body_cfg = get_cfg_defaults()\n",
    "body_cfg.merge_from_file(gen_cfg.vqvae.body_config)"
   ]
  },
  {
   "cell_type": "code",
   "execution_count": 205,
   "id": "0923a18a-0fe4-4635-8792-489b255184c6",
   "metadata": {},
   "outputs": [],
   "source": [
    "body_cfg.dataset.hml_rep = \"gprv\"\n",
    "body_cfg.dataset.window_size = -1"
   ]
  },
  {
   "cell_type": "code",
   "execution_count": 206,
   "id": "4a7fd60c-c052-4e26-a206-7d2101f75c4c",
   "metadata": {},
   "outputs": [
    {
     "name": "stdout",
     "output_type": "stream",
     "text": [
      "Total number of motions idea400: 2\n"
     ]
    }
   ],
   "source": [
    "test_ds, _, _ = load_dataset_vq(\n",
    "            dataset_names=dataset_names_default,\n",
    "            dataset_args=body_cfg.dataset,\n",
    "            split=\"render\",\n",
    "        )"
   ]
  },
  {
   "cell_type": "code",
   "execution_count": 207,
   "id": "5744bd23-da74-47e0-91e9-3f4406d6301d",
   "metadata": {},
   "outputs": [],
   "source": [
    "dl = torch.utils.data.DataLoader(\n",
    "            test_ds,\n",
    "            batch_size=1,\n",
    "            sampler=None,\n",
    "            shuffle=False,\n",
    "            collate_fn=partial(simple_collate_vq , conditioner = condition_provider2),\n",
    "            \n",
    "        )"
   ]
  },
  {
   "cell_type": "code",
   "execution_count": 208,
   "id": "0d5724bc-7fa7-438a-b719-9e2f754dd653",
   "metadata": {},
   "outputs": [
    {
     "name": "stderr",
     "output_type": "stream",
     "text": [
      "100%|████████████████████████████████████████████| 2/2 [00:00<00:00, 106.76it/s]\n"
     ]
    }
   ],
   "source": [
    "for batch in tqdm(dl):\n",
    "    continue\n"
   ]
  },
  {
   "cell_type": "code",
   "execution_count": 233,
   "id": "03cedac5-1663-4b1f-8ada-079fe438df81",
   "metadata": {},
   "outputs": [],
   "source": [
    "mot = batch[\"motion\"][0][0]"
   ]
  },
  {
   "cell_type": "code",
   "execution_count": 89,
   "id": "c87ae675-d619-41aa-8fd9-ae7c0ef679c1",
   "metadata": {},
   "outputs": [
    {
     "data": {
      "text/plain": [
       "torch.Size([239, 259])"
      ]
     },
     "execution_count": 89,
     "metadata": {},
     "output_type": "execute_result"
    }
   ],
   "source": [
    "mot.shape"
   ]
  },
  {
   "cell_type": "code",
   "execution_count": 69,
   "id": "b377ff15-65f9-423e-b57f-0094b41c17ff",
   "metadata": {},
   "outputs": [],
   "source": [
    "# "
   ]
  },
  {
   "cell_type": "code",
   "execution_count": 144,
   "id": "d5bf5219-6aba-4988-b63f-e62687525ca5",
   "metadata": {},
   "outputs": [],
   "source": [
    "# mot[:,1:4] = 0"
   ]
  },
  {
   "cell_type": "code",
   "execution_count": 90,
   "id": "f04a740b-ec89-4a29-bcc2-bf25b9d7f009",
   "metadata": {},
   "outputs": [],
   "source": []
  },
  {
   "cell_type": "code",
   "execution_count": 229,
   "id": "a062d871-b72b-4971-8e10-5d1c4f9aa487",
   "metadata": {},
   "outputs": [],
   "source": [
    "from utils.motion_processing.quaternion import qinv, qrot, qmul, quaternion_to_cont6d, qeuler, euler_to_quaternion, euler2quat\n",
    "import utils.rotation_conversions as geometry\n",
    "from core.datasets.kinematics import getSkeleton\n"
   ]
  },
  {
   "cell_type": "code",
   "execution_count": 194,
   "id": "944dc317-7166-488e-82a0-76fd646e244b",
   "metadata": {},
   "outputs": [],
   "source": [
    "mot[:,0] = 0"
   ]
  },
  {
   "cell_type": "code",
   "execution_count": 234,
   "id": "30688897-15eb-467b-9155-212fd065b748",
   "metadata": {},
   "outputs": [],
   "source": [
    "Motion = test_ds.datasets[0].toMotion(mot)\n",
    "r_rot_quat, r_pos = test_ds.datasets[0].mot2pos.recover_root_rot_pos(Motion)"
   ]
  },
  {
   "cell_type": "code",
   "execution_count": 215,
   "id": "e2611edd-1344-4b17-97af-0b59ed6560b8",
   "metadata": {},
   "outputs": [],
   "source": [
    "r_pos[:] = 0"
   ]
  },
  {
   "cell_type": "code",
   "execution_count": null,
   "id": "c420126a-e993-4281-a083-1f54b16aa4be",
   "metadata": {},
   "outputs": [],
   "source": []
  },
  {
   "cell_type": "code",
   "execution_count": 179,
   "id": "d01638c5-7bc8-4d2a-86bb-97b74c21c920",
   "metadata": {},
   "outputs": [],
   "source": [
    "inv_r_rot_quat = qinv(r_rot_quat)\n"
   ]
  },
  {
   "cell_type": "code",
   "execution_count": 180,
   "id": "3658de28-e396-4360-ae97-72b4e83192be",
   "metadata": {},
   "outputs": [],
   "source": [
    "inv_r_rot_quat = inv_r_rot_quat[:,None,:].repeat(1, 21 , 1)"
   ]
  },
  {
   "cell_type": "code",
   "execution_count": 181,
   "id": "96ef47c9-229e-4401-9b69-81dc34953b1a",
   "metadata": {},
   "outputs": [],
   "source": [
    "cont6d_params = Motion.rotations"
   ]
  },
  {
   "cell_type": "code",
   "execution_count": 182,
   "id": "3dd7a837-9c72-40ae-a9ff-5aa861c2adaf",
   "metadata": {},
   "outputs": [],
   "source": [
    "quat_params = geometry.matrix_to_quaternion(geometry.rotation_6d_to_matrix(cont6d_params.reshape(239 , -1, 6)))"
   ]
  },
  {
   "cell_type": "code",
   "execution_count": null,
   "id": "a9713e10-8b43-4220-af81-8a89598491d3",
   "metadata": {},
   "outputs": [],
   "source": []
  },
  {
   "cell_type": "code",
   "execution_count": null,
   "id": "20116c2b-a0e7-42b0-99ed-a435029d3461",
   "metadata": {},
   "outputs": [],
   "source": []
  },
  {
   "cell_type": "code",
   "execution_count": 183,
   "id": "15425155-abca-49d9-927e-3d4e09b691bf",
   "metadata": {},
   "outputs": [],
   "source": [
    "inv_root_rot_quat_params = qmul(quat_params , inv_r_rot_quat)\n",
    "inv_root_rot_6d_params = quaternion_to_cont6d(inv_root_rot_quat_params).reshape(-1 , 126)"
   ]
  },
  {
   "cell_type": "code",
   "execution_count": null,
   "id": "8b39b791-a75e-4523-ac50-8c41fdaecde6",
   "metadata": {},
   "outputs": [],
   "source": []
  },
  {
   "cell_type": "code",
   "execution_count": 216,
   "id": "13794276-45c9-430d-b4fb-dd3d2a3cd6fb",
   "metadata": {},
   "outputs": [
    {
     "name": "stdout",
     "output_type": "stream",
     "text": [
      "A_rotated: [2.82842712 4.24264069 1.41421356 1.41421356]\n"
     ]
    }
   ],
   "source": [
    "def remove_y_rotation(A, B):\n",
    "    \"\"\"Remove rotation around the y-axis from A using B.\"\"\"\n",
    "    _, _, yaw = quaternion_to_euler(B)\n",
    "    B_yaw_only = euler_to_quaternion(0, 0, yaw)\n",
    "    B_conjugate = quaternion_conjugate(B_yaw_only)\n",
    "    A_rotated = quaternion_multiply(A, B_conjugate)\n",
    "    return A_rotated\n"
   ]
  },
  {
   "cell_type": "code",
   "execution_count": 236,
   "id": "976eb446-0907-4726-b2c2-887ca42566e4",
   "metadata": {},
   "outputs": [],
   "source": [
    "e = qeuler(r_rot_quat , \"xyz\")\n",
    "e[: , [0,2]] = 0\n",
    "q = euler2quat(e, \"xyz\", deg=True)"
   ]
  },
  {
   "cell_type": "code",
   "execution_count": null,
   "id": "b14502d9-b34c-48f9-b8f9-1a2e0b32f296",
   "metadata": {},
   "outputs": [],
   "source": []
  },
  {
   "cell_type": "code",
   "execution_count": null,
   "id": "1705d907-f115-4902-bf83-535600dc6c14",
   "metadata": {},
   "outputs": [],
   "source": []
  },
  {
   "cell_type": "code",
   "execution_count": null,
   "id": "2736c424-4040-45a4-9e75-da36e53c131a",
   "metadata": {},
   "outputs": [],
   "source": []
  },
  {
   "cell_type": "code",
   "execution_count": null,
   "id": "be0d44bf-109b-453a-9577-58e4f96660bc",
   "metadata": {},
   "outputs": [],
   "source": []
  },
  {
   "cell_type": "code",
   "execution_count": null,
   "id": "7e527af7-92a3-4c1d-887c-14ecdb4c19af",
   "metadata": {},
   "outputs": [],
   "source": []
  },
  {
   "cell_type": "code",
   "execution_count": 189,
   "id": "b51423d1-0a30-4370-846f-dea6e0673e35",
   "metadata": {},
   "outputs": [],
   "source": [
    "data = test_ds.datasets[0].toMotion(inv_root_rot_6d_params , hml_rep = \"r\")"
   ]
  },
  {
   "cell_type": "code",
   "execution_count": null,
   "id": "97f9d178-3872-4a2e-8909-902596cb9d0a",
   "metadata": {},
   "outputs": [],
   "source": []
  },
  {
   "cell_type": "code",
   "execution_count": null,
   "id": "7139b1e2-24a0-47b9-b06a-44c7814797a2",
   "metadata": {},
   "outputs": [],
   "source": []
  },
  {
   "cell_type": "code",
   "execution_count": null,
   "id": "2ec282ad-323b-4ef1-ab92-0d049db12895",
   "metadata": {},
   "outputs": [],
   "source": []
  },
  {
   "cell_type": "code",
   "execution_count": 185,
   "id": "8aec7464-cbb1-4daf-bb7c-2f79dbc48aef",
   "metadata": {},
   "outputs": [],
   "source": [
    "data.root_params = torch.zeros((data.rotations.shape[:-1] + (4,)))"
   ]
  },
  {
   "cell_type": "code",
   "execution_count": 188,
   "id": "214b703a-059f-4d9f-8397-9109b2965ee1",
   "metadata": {},
   "outputs": [],
   "source": [
    "skeleton = getSkeleton(\n",
    "            os.path.join(test_ds.datasets[0].mot2pos.data_root, \"motion_data/000021_pos.npy\"),\n",
    "            motion_rep=data.motion_rep.value,\n",
    "        )"
   ]
  },
  {
   "cell_type": "code",
   "execution_count": null,
   "id": "a3347194-0982-4ef7-9f05-d95ebfcd7dea",
   "metadata": {},
   "outputs": [],
   "source": [
    "cont6d_params = data.rotations\n",
    "cont6d_params = torch.cat([r_rot_cont6d, cont6d_params], dim=-1)\n",
    "cont6d_params = cont6d_params.view(-1, joints_num, 6)"
   ]
  },
  {
   "cell_type": "code",
   "execution_count": null,
   "id": "3472887d-c960-4e8e-ae07-69d53c1b5747",
   "metadata": {},
   "outputs": [],
   "source": [
    "positions = skeleton.forward_kinematics_cont6d(cont6d_params, r_pos )"
   ]
  },
  {
   "cell_type": "code",
   "execution_count": null,
   "id": "45ccef99-4583-4837-8c7b-da666ce2ca32",
   "metadata": {},
   "outputs": [],
   "source": []
  },
  {
   "cell_type": "code",
   "execution_count": null,
   "id": "edc22a52-55a2-4f7c-a6b3-b4d2d8ccc24d",
   "metadata": {},
   "outputs": [],
   "source": []
  },
  {
   "cell_type": "code",
   "execution_count": null,
   "id": "1d313123-0ca7-4ad0-8af1-7477a29a5e1b",
   "metadata": {},
   "outputs": [],
   "source": []
  },
  {
   "cell_type": "code",
   "execution_count": null,
   "id": "4bc4137f-840a-4c32-9ae1-efbb90f3d4d6",
   "metadata": {},
   "outputs": [],
   "source": []
  },
  {
   "cell_type": "code",
   "execution_count": 191,
   "id": "d9cf74ab-1139-4578-8610-b217ee3b8c74",
   "metadata": {},
   "outputs": [],
   "source": [
    "test_ds.datasets[0].render_hml(data , save_path = \"/srv/hays-lab/scratch/sanisetty3/music_motion/ATCMG/render/idea400_r.gif\" )\n"
   ]
  },
  {
   "cell_type": "code",
   "execution_count": 212,
   "id": "eb753f89-c6d4-4d95-9d24-ae1bf72faefa",
   "metadata": {},
   "outputs": [],
   "source": [
    "Motion = test_ds.datasets[0].toMotion(mot)\n",
    "Motion.hml_rep = \"gr\"\n",
    "test_ds.datasets[0].render_hml(Motion , save_path = \"/srv/hays-lab/scratch/sanisetty3/music_motion/ATCMG/render/idea400_r.gif\" )\n"
   ]
  },
  {
   "cell_type": "code",
   "execution_count": 131,
   "id": "d5f0db11-1a83-4d85-9d00-8193adb15aaa",
   "metadata": {},
   "outputs": [],
   "source": []
  },
  {
   "cell_type": "code",
   "execution_count": 217,
   "id": "b11644f3-55d8-471b-b908-d53571cbac02",
   "metadata": {},
   "outputs": [
    {
     "name": "stdout",
     "output_type": "stream",
     "text": [
      "A_rotated: [2.82842712 4.24264069 1.41421356 1.41421356]\n"
     ]
    }
   ],
   "source": [
    "import numpy as np\n",
    "\n",
    "def quaternion_multiply(q1, q2):\n",
    "    \"\"\"Multiply two quaternions.\"\"\"\n",
    "    w1, x1, y1, z1 = q1\n",
    "    w2, x2, y2, z2 = q2\n",
    "    w = w1 * w2 - x1 * x2 - y1 * y2 - z1 * z2\n",
    "    x = w1 * x2 + x1 * w2 + y1 * z2 - z1 * y2\n",
    "    y = w1 * y2 - x1 * z2 + y1 * w2 + z1 * x2\n",
    "    z = w1 * z2 + x1 * y2 - y1 * x2 + z1 * w2\n",
    "    return np.array([w, x, y, z])\n",
    "\n",
    "def quaternion_conjugate(q):\n",
    "    \"\"\"Compute the conjugate of a quaternion.\"\"\"\n",
    "    w, x, y, z = q\n",
    "    return np.array([w, -x, -y, -z])\n",
    "\n",
    "def euler_to_quaternion(roll, pitch, yaw):\n",
    "    \"\"\"Convert Euler angles to quaternion.\"\"\"\n",
    "    cy = np.cos(yaw * 0.5)\n",
    "    sy = np.sin(yaw * 0.5)\n",
    "    cp = np.cos(pitch * 0.5)\n",
    "    sp = np.sin(pitch * 0.5)\n",
    "    cr = np.cos(roll * 0.5)\n",
    "    sr = np.sin(roll * 0.5)\n",
    "\n",
    "    w = cy * cp * cr + sy * sp * sr\n",
    "    x = cy * cp * sr - sy * sp * cr\n",
    "    y = sy * cp * cr + cy * sp * sr\n",
    "    z = cy * sp * cr - sy * cp * sr\n",
    "\n",
    "    return np.array([w, x, y, z])\n",
    "\n",
    "def quaternion_to_euler(q):\n",
    "    \"\"\"Convert quaternion to Euler angles.\"\"\"\n",
    "    w, x, y, z = q\n",
    "    ysqr = y * y\n",
    "\n",
    "    # roll (x-axis rotation)\n",
    "    t0 = +2.0 * (w * x + y * z)\n",
    "    t1 = +1.0 - 2.0 * (x * x + ysqr)\n",
    "    roll = np.arctan2(t0, t1)\n",
    "\n",
    "    # pitch (y-axis rotation)\n",
    "    t2 = +2.0 * (w * y - z * x)\n",
    "    t2 = np.where(t2 > 1.0, 1.0, t2)\n",
    "    t2 = np.where(t2 < -1.0, -1.0, t2)\n",
    "    pitch = np.arcsin(t2)\n",
    "\n",
    "    # yaw (z-axis rotation)\n",
    "    t3 = +2.0 * (w * z + x * y)\n",
    "    t4 = +1.0 - 2.0 * (ysqr + z * z)\n",
    "    yaw = np.arctan2(t3, t4)\n",
    "\n",
    "    return roll, pitch, yaw\n",
    "\n",
    "def remove_y_rotation(A, B):\n",
    "    \"\"\"Remove rotation around the y-axis from A using B.\"\"\"\n",
    "    _, _, yaw = quaternion_to_euler(B)\n",
    "    B_yaw_only = euler_to_quaternion(0, 0, yaw)\n",
    "    B_conjugate = quaternion_conjugate(B_yaw_only)\n",
    "    A_rotated = quaternion_multiply(A, B_conjugate)\n",
    "    return A_rotated\n",
    "\n",
    "# Example usage:\n",
    "A = np.array([1, 2, 3, 4])  # Example quaternion A\n",
    "B = euler_to_quaternion(0, np.pi / 2, 0)  # Example quaternion B with rotation around y-axis\n",
    "A_rotated = remove_y_rotation(A, B)\n",
    "print(\"A_rotated:\", A_rotated)\n"
   ]
  },
  {
   "cell_type": "code",
   "execution_count": null,
   "id": "e9fe4e7b-7add-4699-ba3b-ebe0064f6e8e",
   "metadata": {},
   "outputs": [],
   "source": []
  },
  {
   "cell_type": "code",
   "execution_count": 141,
   "id": "79d04260-4a10-483d-8b7d-e613856fe172",
   "metadata": {},
   "outputs": [],
   "source": []
  },
  {
   "cell_type": "code",
   "execution_count": null,
   "id": "2a77c396-6602-4105-bd01-d0b6daa9eb4b",
   "metadata": {},
   "outputs": [],
   "source": []
  },
  {
   "cell_type": "code",
   "execution_count": null,
   "id": "c0974cbe-b204-4c33-bbd2-4c65de193cc9",
   "metadata": {},
   "outputs": [],
   "source": []
  },
  {
   "cell_type": "code",
   "execution_count": 41,
   "id": "9472ba84-888c-4616-9c47-231d1756a673",
   "metadata": {},
   "outputs": [],
   "source": []
  },
  {
   "cell_type": "code",
   "execution_count": null,
   "id": "a58a1528-d940-472d-93b9-2d2028cabe42",
   "metadata": {},
   "outputs": [],
   "source": []
  },
  {
   "cell_type": "code",
   "execution_count": null,
   "id": "37afd953-37c1-4059-8ae5-1ca5aef713f4",
   "metadata": {},
   "outputs": [],
   "source": []
  },
  {
   "cell_type": "code",
   "execution_count": 71,
   "id": "d5a4aba1-1e88-4211-ae7d-4946b98edc48",
   "metadata": {},
   "outputs": [
    {
     "name": "stderr",
     "output_type": "stream",
     "text": [
      "100%|█████████████████████████████████████████| 238/238 [00:22<00:00, 10.42it/s]\n"
     ]
    },
    {
     "name": "stdout",
     "output_type": "stream",
     "text": [
      "closing\n"
     ]
    }
   ],
   "source": [
    "# import imageio\n",
    "# import numpy as np    \n",
    "# from PIL import Image\n",
    "# #Create reader object for the gif\n",
    "# gif1 = imageio.get_reader(\"/srv/hays-lab/scratch/sanisetty3/music_motion/ATCMG/render/idea400_rv.gif\")\n",
    "# gif2 = imageio.get_reader(\"/srv/hays-lab/scratch/sanisetty3/music_motion/ATCMG/render/idea400_grv.gif\")\n",
    "\n",
    "# #If they don't have the same number of frame take the shorter\n",
    "# number_of_frames = min(gif1.get_length(), gif2.get_length()) - 1\n",
    "\n",
    "# #Create writer object\n",
    "# new_gif = imageio.get_writer(\"/srv/hays-lab/scratch/sanisetty3/music_motion/ATCMG/render/idea400_comb.gif\")\n",
    "\n",
    "# for frame_number in tqdm(range(number_of_frames)):\n",
    "#     img1 = gif1.get_next_data()\n",
    "#     img2 = gif2.get_next_data()\n",
    "#     #here is the magic\n",
    "#     new_image = np.hstack((img1, img2))\n",
    "#     new_gif.append_data(new_image)\n",
    "\n",
    "# print(\"closing\")\n",
    "\n",
    "\n",
    "# gif1.close()\n",
    "# gif2.close()    \n",
    "# new_gif.close()"
   ]
  },
  {
   "cell_type": "code",
   "execution_count": null,
   "id": "d1a94028-35e2-4cf9-bcae-925d4123c060",
   "metadata": {},
   "outputs": [],
   "source": []
  },
  {
   "cell_type": "code",
   "execution_count": null,
   "id": "332035dd-57c4-455d-ae3a-dedb4abe7dea",
   "metadata": {},
   "outputs": [],
   "source": []
  },
  {
   "cell_type": "code",
   "execution_count": null,
   "id": "2308c185-64f8-4c69-8fa0-382982e1f8b6",
   "metadata": {},
   "outputs": [],
   "source": []
  },
  {
   "cell_type": "code",
   "execution_count": null,
   "id": "25a6a8dc-ded2-46d6-8f41-4778389bb54b",
   "metadata": {},
   "outputs": [],
   "source": []
  },
  {
   "cell_type": "code",
   "execution_count": 18,
   "id": "c4cdbd76-0735-4505-b246-2efbdea7a8cd",
   "metadata": {},
   "outputs": [
    {
     "name": "stderr",
     "output_type": "stream",
     "text": [
      "100%|████████████████████████████████████████████████████████████████████████████████| 19984/19984 [1:02:28<00:00,  5.33it/s]\n"
     ]
    }
   ],
   "source": [
    "# errors = []\n",
    "# for batch in tqdm(dl):\n",
    "#     sve = os.path.join(\"/srv/hays-lab/scratch/sanisetty3/motionx/indices/body\" , batch[\"names\"][0] )\n",
    "#     if os.path.exists(sve):\n",
    "#         continue\n",
    "#     os.makedirs(os.path.dirname(sve) , exist_ok=True)\n",
    "#     try:\n",
    "#         enc_b, inb = get_decoded(body_model , batch[\"motion\"][0].to(device))\n",
    "#         np.save(sve , inb.cpu().numpy())\n",
    "#     except:\n",
    "#         errors.append(batch[\"names\"][0])\n",
    "    "
   ]
  },
  {
   "cell_type": "code",
   "execution_count": 19,
   "id": "3fe123c5-8890-4255-b5e5-ecbb30c9c202",
   "metadata": {},
   "outputs": [
    {
     "data": {
      "text/plain": [
       "0"
      ]
     },
     "execution_count": 19,
     "metadata": {},
     "output_type": "execute_result"
    }
   ],
   "source": [
    "len(errors)"
   ]
  },
  {
   "cell_type": "code",
   "execution_count": 7,
   "id": "22455084-bc73-4c57-b4ed-729435c5dd51",
   "metadata": {},
   "outputs": [],
   "source": [
    "fles = findAllFile(\"/srv/hays-lab/scratch/sanisetty3/motionx/indices/body/humanml/\")"
   ]
  },
  {
   "cell_type": "code",
   "execution_count": 13,
   "id": "4ef69507-52b3-4315-8f53-d7ccb7289be1",
   "metadata": {
    "scrolled": true
   },
   "outputs": [
    {
     "name": "stdout",
     "output_type": "stream",
     "text": [
      "/srv/hays-lab/scratch/sanisetty3/motionx/indices/body/humanml/006859.npy (1, 9)\n",
      "/srv/hays-lab/scratch/sanisetty3/motionx/indices/body/humanml/013180.npy (1, 6)\n",
      "/srv/hays-lab/scratch/sanisetty3/motionx/indices/body/humanml/M005024.npy (1, 9)\n",
      "/srv/hays-lab/scratch/sanisetty3/motionx/indices/body/humanml/M006988.npy (1, 6)\n",
      "/srv/hays-lab/scratch/sanisetty3/motionx/indices/body/humanml/008362.npy (1, 8)\n",
      "/srv/hays-lab/scratch/sanisetty3/motionx/indices/body/humanml/M011994.npy (1, 8)\n",
      "/srv/hays-lab/scratch/sanisetty3/motionx/indices/body/humanml/010908.npy (1, 6)\n",
      "/srv/hays-lab/scratch/sanisetty3/motionx/indices/body/humanml/009136.npy (1, 7)\n",
      "/srv/hays-lab/scratch/sanisetty3/motionx/indices/body/humanml/013310.npy (1, 6)\n",
      "/srv/hays-lab/scratch/sanisetty3/motionx/indices/body/humanml/M006950.npy (1, 6)\n",
      "/srv/hays-lab/scratch/sanisetty3/motionx/indices/body/humanml/003216.npy (1, 6)\n",
      "/srv/hays-lab/scratch/sanisetty3/motionx/indices/body/humanml/011011.npy (1, 8)\n",
      "/srv/hays-lab/scratch/sanisetty3/motionx/indices/body/humanml/M005928.npy (1, 6)\n",
      "/srv/hays-lab/scratch/sanisetty3/motionx/indices/body/humanml/M004294.npy (1, 9)\n",
      "/srv/hays-lab/scratch/sanisetty3/motionx/indices/body/humanml/M003544.npy (1, 9)\n",
      "/srv/hays-lab/scratch/sanisetty3/motionx/indices/body/humanml/M012941.npy (1, 2)\n",
      "/srv/hays-lab/scratch/sanisetty3/motionx/indices/body/humanml/013096.npy (1, 8)\n",
      "/srv/hays-lab/scratch/sanisetty3/motionx/indices/body/humanml/005821.npy (1, 8)\n",
      "/srv/hays-lab/scratch/sanisetty3/motionx/indices/body/humanml/M010908.npy (1, 6)\n",
      "/srv/hays-lab/scratch/sanisetty3/motionx/indices/body/humanml/011994.npy (1, 8)\n",
      "/srv/hays-lab/scratch/sanisetty3/motionx/indices/body/humanml/M008362.npy (1, 8)\n",
      "/srv/hays-lab/scratch/sanisetty3/motionx/indices/body/humanml/006988.npy (1, 6)\n",
      "/srv/hays-lab/scratch/sanisetty3/motionx/indices/body/humanml/005024.npy (1, 9)\n",
      "/srv/hays-lab/scratch/sanisetty3/motionx/indices/body/humanml/M006859.npy (1, 9)\n",
      "/srv/hays-lab/scratch/sanisetty3/motionx/indices/body/humanml/M013180.npy (1, 6)\n",
      "/srv/hays-lab/scratch/sanisetty3/motionx/indices/body/humanml/006950.npy (1, 6)\n",
      "/srv/hays-lab/scratch/sanisetty3/motionx/indices/body/humanml/M009136.npy (1, 7)\n",
      "/srv/hays-lab/scratch/sanisetty3/motionx/indices/body/humanml/M013310.npy (1, 6)\n",
      "/srv/hays-lab/scratch/sanisetty3/motionx/indices/body/humanml/003544.npy (1, 9)\n",
      "/srv/hays-lab/scratch/sanisetty3/motionx/indices/body/humanml/004294.npy (1, 9)\n",
      "/srv/hays-lab/scratch/sanisetty3/motionx/indices/body/humanml/005928.npy (1, 6)\n",
      "/srv/hays-lab/scratch/sanisetty3/motionx/indices/body/humanml/M003216.npy (1, 6)\n",
      "/srv/hays-lab/scratch/sanisetty3/motionx/indices/body/humanml/M011011.npy (1, 8)\n",
      "/srv/hays-lab/scratch/sanisetty3/motionx/indices/body/humanml/M005821.npy (1, 8)\n",
      "/srv/hays-lab/scratch/sanisetty3/motionx/indices/body/humanml/012941.npy (1, 2)\n",
      "/srv/hays-lab/scratch/sanisetty3/motionx/indices/body/humanml/M013096.npy (1, 8)\n",
      "/srv/hays-lab/scratch/sanisetty3/motionx/indices/body/humanml/000254.npy (1, 9)\n",
      "/srv/hays-lab/scratch/sanisetty3/motionx/indices/body/humanml/M005529.npy (1, 6)\n",
      "/srv/hays-lab/scratch/sanisetty3/motionx/indices/body/humanml/005117.npy (1, 8)\n",
      "/srv/hays-lab/scratch/sanisetty3/motionx/indices/body/humanml/M000908.npy (1, 8)\n",
      "/srv/hays-lab/scratch/sanisetty3/motionx/indices/body/humanml/M005289.npy (1, 8)\n",
      "/srv/hays-lab/scratch/sanisetty3/motionx/indices/body/humanml/011224.npy (1, 8)\n",
      "/srv/hays-lab/scratch/sanisetty3/motionx/indices/body/humanml/009757.npy (1, 7)\n",
      "/srv/hays-lab/scratch/sanisetty3/motionx/indices/body/humanml/M013920.npy (1, 9)\n",
      "/srv/hays-lab/scratch/sanisetty3/motionx/indices/body/humanml/M010564.npy (1, 9)\n",
      "/srv/hays-lab/scratch/sanisetty3/motionx/indices/body/humanml/M004292.npy (1, 8)\n",
      "/srv/hays-lab/scratch/sanisetty3/motionx/indices/body/humanml/000696.npy (1, 9)\n",
      "/srv/hays-lab/scratch/sanisetty3/motionx/indices/body/humanml/M013025.npy (1, 8)\n",
      "/srv/hays-lab/scratch/sanisetty3/motionx/indices/body/humanml/011216.npy (1, 7)\n",
      "/srv/hays-lab/scratch/sanisetty3/motionx/indices/body/humanml/011211.npy (1, 8)\n",
      "/srv/hays-lab/scratch/sanisetty3/motionx/indices/body/humanml/007050.npy (1, 6)\n",
      "/srv/hays-lab/scratch/sanisetty3/motionx/indices/body/humanml/M002393.npy (1, 8)\n",
      "/srv/hays-lab/scratch/sanisetty3/motionx/indices/body/humanml/M010194.npy (1, 9)\n",
      "/srv/hays-lab/scratch/sanisetty3/motionx/indices/body/humanml/M008391.npy (1, 8)\n",
      "/srv/hays-lab/scratch/sanisetty3/motionx/indices/body/humanml/003928.npy (1, 8)\n",
      "/srv/hays-lab/scratch/sanisetty3/motionx/indices/body/humanml/M001250.npy (1, 9)\n",
      "/srv/hays-lab/scratch/sanisetty3/motionx/indices/body/humanml/001505.npy (1, 6)\n",
      "/srv/hays-lab/scratch/sanisetty3/motionx/indices/body/humanml/003196.npy (1, 8)\n",
      "/srv/hays-lab/scratch/sanisetty3/motionx/indices/body/humanml/005289.npy (1, 8)\n",
      "/srv/hays-lab/scratch/sanisetty3/motionx/indices/body/humanml/000908.npy (1, 8)\n",
      "/srv/hays-lab/scratch/sanisetty3/motionx/indices/body/humanml/M005117.npy (1, 8)\n",
      "/srv/hays-lab/scratch/sanisetty3/motionx/indices/body/humanml/M000254.npy (1, 9)\n",
      "/srv/hays-lab/scratch/sanisetty3/motionx/indices/body/humanml/005529.npy (1, 6)\n",
      "/srv/hays-lab/scratch/sanisetty3/motionx/indices/body/humanml/M000696.npy (1, 9)\n",
      "/srv/hays-lab/scratch/sanisetty3/motionx/indices/body/humanml/004292.npy (1, 8)\n",
      "/srv/hays-lab/scratch/sanisetty3/motionx/indices/body/humanml/010564.npy (1, 9)\n",
      "/srv/hays-lab/scratch/sanisetty3/motionx/indices/body/humanml/M011224.npy (1, 8)\n",
      "/srv/hays-lab/scratch/sanisetty3/motionx/indices/body/humanml/013920.npy (1, 9)\n",
      "/srv/hays-lab/scratch/sanisetty3/motionx/indices/body/humanml/M009757.npy (1, 7)\n",
      "/srv/hays-lab/scratch/sanisetty3/motionx/indices/body/humanml/M011211.npy (1, 8)\n",
      "/srv/hays-lab/scratch/sanisetty3/motionx/indices/body/humanml/M007050.npy (1, 6)\n",
      "/srv/hays-lab/scratch/sanisetty3/motionx/indices/body/humanml/M011216.npy (1, 7)\n",
      "/srv/hays-lab/scratch/sanisetty3/motionx/indices/body/humanml/013025.npy (1, 8)\n",
      "/srv/hays-lab/scratch/sanisetty3/motionx/indices/body/humanml/001250.npy (1, 9)\n",
      "/srv/hays-lab/scratch/sanisetty3/motionx/indices/body/humanml/M003196.npy (1, 8)\n",
      "/srv/hays-lab/scratch/sanisetty3/motionx/indices/body/humanml/M001505.npy (1, 6)\n",
      "/srv/hays-lab/scratch/sanisetty3/motionx/indices/body/humanml/M003928.npy (1, 8)\n",
      "/srv/hays-lab/scratch/sanisetty3/motionx/indices/body/humanml/002393.npy (1, 8)\n",
      "/srv/hays-lab/scratch/sanisetty3/motionx/indices/body/humanml/010194.npy (1, 9)\n",
      "/srv/hays-lab/scratch/sanisetty3/motionx/indices/body/humanml/008391.npy (1, 8)\n",
      "/srv/hays-lab/scratch/sanisetty3/motionx/indices/body/humanml/M007641.npy (1, 8)\n",
      "/srv/hays-lab/scratch/sanisetty3/motionx/indices/body/humanml/008066.npy (1, 5)\n",
      "/srv/hays-lab/scratch/sanisetty3/motionx/indices/body/humanml/006728.npy (1, 9)\n",
      "/srv/hays-lab/scratch/sanisetty3/motionx/indices/body/humanml/008194.npy (1, 3)\n",
      "/srv/hays-lab/scratch/sanisetty3/motionx/indices/body/humanml/007320.npy (1, 6)\n",
      "/srv/hays-lab/scratch/sanisetty3/motionx/indices/body/humanml/M012838.npy (1, 9)\n",
      "/srv/hays-lab/scratch/sanisetty3/motionx/indices/body/humanml/009653.npy (1, 7)\n",
      "/srv/hays-lab/scratch/sanisetty3/motionx/indices/body/humanml/003948.npy (1, 1)\n",
      "/srv/hays-lab/scratch/sanisetty3/motionx/indices/body/humanml/001441.npy (1, 6)\n",
      "/srv/hays-lab/scratch/sanisetty3/motionx/indices/body/humanml/M006992.npy (1, 8)\n",
      "/srv/hays-lab/scratch/sanisetty3/motionx/indices/body/humanml/M004173.npy (1, 8)\n",
      "/srv/hays-lab/scratch/sanisetty3/motionx/indices/body/humanml/M000553.npy (1, 8)\n",
      "/srv/hays-lab/scratch/sanisetty3/motionx/indices/body/humanml/M001031.npy (1, 9)\n",
      "/srv/hays-lab/scratch/sanisetty3/motionx/indices/body/humanml/007864.npy (1, 8)\n",
      "/srv/hays-lab/scratch/sanisetty3/motionx/indices/body/humanml/M011491.npy (1, 8)\n",
      "/srv/hays-lab/scratch/sanisetty3/motionx/indices/body/humanml/M003226.npy (1, 8)\n",
      "/srv/hays-lab/scratch/sanisetty3/motionx/indices/body/humanml/M007432.npy (1, 7)\n",
      "/srv/hays-lab/scratch/sanisetty3/motionx/indices/body/humanml/M006389.npy (1, 7)\n",
      "/srv/hays-lab/scratch/sanisetty3/motionx/indices/body/humanml/M010356.npy (1, 8)\n",
      "/srv/hays-lab/scratch/sanisetty3/motionx/indices/body/humanml/012041.npy (1, 9)\n",
      "/srv/hays-lab/scratch/sanisetty3/motionx/indices/body/humanml/010714.npy (1, 8)\n",
      "/srv/hays-lab/scratch/sanisetty3/motionx/indices/body/humanml/M010976.npy (1, 7)\n",
      "/srv/hays-lab/scratch/sanisetty3/motionx/indices/body/humanml/014348.npy (1, 9)\n",
      "/srv/hays-lab/scratch/sanisetty3/motionx/indices/body/humanml/M002365.npy (1, 7)\n",
      "/srv/hays-lab/scratch/sanisetty3/motionx/indices/body/humanml/M003873.npy (1, 9)\n",
      "/srv/hays-lab/scratch/sanisetty3/motionx/indices/body/humanml/012838.npy (1, 9)\n",
      "/srv/hays-lab/scratch/sanisetty3/motionx/indices/body/humanml/M007320.npy (1, 6)\n",
      "/srv/hays-lab/scratch/sanisetty3/motionx/indices/body/humanml/M008194.npy (1, 3)\n",
      "/srv/hays-lab/scratch/sanisetty3/motionx/indices/body/humanml/M006728.npy (1, 9)\n",
      "/srv/hays-lab/scratch/sanisetty3/motionx/indices/body/humanml/007641.npy (1, 8)\n",
      "/srv/hays-lab/scratch/sanisetty3/motionx/indices/body/humanml/M008066.npy (1, 5)\n",
      "/srv/hays-lab/scratch/sanisetty3/motionx/indices/body/humanml/000553.npy (1, 8)\n",
      "/srv/hays-lab/scratch/sanisetty3/motionx/indices/body/humanml/M003948.npy (1, 1)\n",
      "/srv/hays-lab/scratch/sanisetty3/motionx/indices/body/humanml/004173.npy (1, 8)\n",
      "/srv/hays-lab/scratch/sanisetty3/motionx/indices/body/humanml/006992.npy (1, 8)\n",
      "/srv/hays-lab/scratch/sanisetty3/motionx/indices/body/humanml/M001441.npy (1, 6)\n",
      "/srv/hays-lab/scratch/sanisetty3/motionx/indices/body/humanml/M009653.npy (1, 7)\n",
      "/srv/hays-lab/scratch/sanisetty3/motionx/indices/body/humanml/007432.npy (1, 7)\n",
      "/srv/hays-lab/scratch/sanisetty3/motionx/indices/body/humanml/003226.npy (1, 8)\n",
      "/srv/hays-lab/scratch/sanisetty3/motionx/indices/body/humanml/011491.npy (1, 8)\n",
      "/srv/hays-lab/scratch/sanisetty3/motionx/indices/body/humanml/M007864.npy (1, 8)\n",
      "/srv/hays-lab/scratch/sanisetty3/motionx/indices/body/humanml/001031.npy (1, 9)\n",
      "/srv/hays-lab/scratch/sanisetty3/motionx/indices/body/humanml/003873.npy (1, 9)\n",
      "/srv/hays-lab/scratch/sanisetty3/motionx/indices/body/humanml/M014348.npy (1, 9)\n",
      "/srv/hays-lab/scratch/sanisetty3/motionx/indices/body/humanml/002365.npy (1, 7)\n",
      "/srv/hays-lab/scratch/sanisetty3/motionx/indices/body/humanml/010976.npy (1, 7)\n",
      "/srv/hays-lab/scratch/sanisetty3/motionx/indices/body/humanml/010356.npy (1, 8)\n",
      "/srv/hays-lab/scratch/sanisetty3/motionx/indices/body/humanml/006389.npy (1, 7)\n",
      "/srv/hays-lab/scratch/sanisetty3/motionx/indices/body/humanml/M012041.npy (1, 9)\n",
      "/srv/hays-lab/scratch/sanisetty3/motionx/indices/body/humanml/M010714.npy (1, 8)\n",
      "/srv/hays-lab/scratch/sanisetty3/motionx/indices/body/humanml/012274.npy (1, 9)\n",
      "/srv/hays-lab/scratch/sanisetty3/motionx/indices/body/humanml/M014188.npy (1, 9)\n",
      "/srv/hays-lab/scratch/sanisetty3/motionx/indices/body/humanml/006644.npy (1, 9)\n",
      "/srv/hays-lab/scratch/sanisetty3/motionx/indices/body/humanml/M010118.npy (1, 6)\n",
      "/srv/hays-lab/scratch/sanisetty3/motionx/indices/body/humanml/M008076.npy (1, 9)\n",
      "/srv/hays-lab/scratch/sanisetty3/motionx/indices/body/humanml/M001161.npy (1, 6)\n",
      "/srv/hays-lab/scratch/sanisetty3/motionx/indices/body/humanml/011810.npy (1, 8)\n",
      "/srv/hays-lab/scratch/sanisetty3/motionx/indices/body/humanml/003790.npy (1, 2)\n",
      "/srv/hays-lab/scratch/sanisetty3/motionx/indices/body/humanml/M013120.npy (1, 8)\n",
      "/srv/hays-lab/scratch/sanisetty3/motionx/indices/body/humanml/001556.npy (1, 8)\n",
      "/srv/hays-lab/scratch/sanisetty3/motionx/indices/body/humanml/004778.npy (1, 6)\n",
      "/srv/hays-lab/scratch/sanisetty3/motionx/indices/body/humanml/M009445.npy (1, 9)\n",
      "/srv/hays-lab/scratch/sanisetty3/motionx/indices/body/humanml/M004966.npy (1, 8)\n",
      "/srv/hays-lab/scratch/sanisetty3/motionx/indices/body/humanml/M009561.npy (1, 8)\n",
      "/srv/hays-lab/scratch/sanisetty3/motionx/indices/body/humanml/M011012.npy (1, 9)\n",
      "/srv/hays-lab/scratch/sanisetty3/motionx/indices/body/humanml/M009671.npy (1, 7)\n",
      "/srv/hays-lab/scratch/sanisetty3/motionx/indices/body/humanml/000745.npy (1, 5)\n",
      "/srv/hays-lab/scratch/sanisetty3/motionx/indices/body/humanml/005254.npy (1, 2)\n",
      "/srv/hays-lab/scratch/sanisetty3/motionx/indices/body/humanml/007044.npy (1, 6)\n",
      "/srv/hays-lab/scratch/sanisetty3/motionx/indices/body/humanml/M003021.npy (1, 5)\n",
      "/srv/hays-lab/scratch/sanisetty3/motionx/indices/body/humanml/013226.npy (1, 9)\n",
      "/srv/hays-lab/scratch/sanisetty3/motionx/indices/body/humanml/012414.npy (1, 9)\n",
      "/srv/hays-lab/scratch/sanisetty3/motionx/indices/body/humanml/010720.npy (1, 7)\n",
      "/srv/hays-lab/scratch/sanisetty3/motionx/indices/body/humanml/M005859.npy (1, 6)\n",
      "/srv/hays-lab/scratch/sanisetty3/motionx/indices/body/humanml/M006299.npy (1, 9)\n",
      "/srv/hays-lab/scratch/sanisetty3/motionx/indices/body/humanml/M013908.npy (1, 2)\n",
      "/srv/hays-lab/scratch/sanisetty3/motionx/indices/body/humanml/000351.npy (1, 8)\n",
      "/srv/hays-lab/scratch/sanisetty3/motionx/indices/body/humanml/000971.npy (1, 8)\n",
      "/srv/hays-lab/scratch/sanisetty3/motionx/indices/body/humanml/008076.npy (1, 9)\n",
      "/srv/hays-lab/scratch/sanisetty3/motionx/indices/body/humanml/001161.npy (1, 6)\n",
      "/srv/hays-lab/scratch/sanisetty3/motionx/indices/body/humanml/010118.npy (1, 6)\n",
      "/srv/hays-lab/scratch/sanisetty3/motionx/indices/body/humanml/M006644.npy (1, 9)\n",
      "/srv/hays-lab/scratch/sanisetty3/motionx/indices/body/humanml/014188.npy (1, 9)\n",
      "/srv/hays-lab/scratch/sanisetty3/motionx/indices/body/humanml/M012274.npy (1, 9)\n",
      "/srv/hays-lab/scratch/sanisetty3/motionx/indices/body/humanml/M001556.npy (1, 8)\n",
      "/srv/hays-lab/scratch/sanisetty3/motionx/indices/body/humanml/013120.npy (1, 8)\n",
      "/srv/hays-lab/scratch/sanisetty3/motionx/indices/body/humanml/M003790.npy (1, 2)\n",
      "/srv/hays-lab/scratch/sanisetty3/motionx/indices/body/humanml/M011810.npy (1, 8)\n",
      "/srv/hays-lab/scratch/sanisetty3/motionx/indices/body/humanml/003021.npy (1, 5)\n",
      "/srv/hays-lab/scratch/sanisetty3/motionx/indices/body/humanml/M007044.npy (1, 6)\n",
      "/srv/hays-lab/scratch/sanisetty3/motionx/indices/body/humanml/M013226.npy (1, 9)\n",
      "/srv/hays-lab/scratch/sanisetty3/motionx/indices/body/humanml/M000745.npy (1, 5)\n",
      "/srv/hays-lab/scratch/sanisetty3/motionx/indices/body/humanml/009671.npy (1, 7)\n",
      "/srv/hays-lab/scratch/sanisetty3/motionx/indices/body/humanml/M005254.npy (1, 2)\n",
      "/srv/hays-lab/scratch/sanisetty3/motionx/indices/body/humanml/009561.npy (1, 8)\n",
      "/srv/hays-lab/scratch/sanisetty3/motionx/indices/body/humanml/011012.npy (1, 9)\n",
      "/srv/hays-lab/scratch/sanisetty3/motionx/indices/body/humanml/004966.npy (1, 8)\n",
      "/srv/hays-lab/scratch/sanisetty3/motionx/indices/body/humanml/009445.npy (1, 9)\n",
      "/srv/hays-lab/scratch/sanisetty3/motionx/indices/body/humanml/M004778.npy (1, 6)\n",
      "/srv/hays-lab/scratch/sanisetty3/motionx/indices/body/humanml/M000971.npy (1, 8)\n",
      "/srv/hays-lab/scratch/sanisetty3/motionx/indices/body/humanml/M000351.npy (1, 8)\n",
      "/srv/hays-lab/scratch/sanisetty3/motionx/indices/body/humanml/013908.npy (1, 2)\n",
      "/srv/hays-lab/scratch/sanisetty3/motionx/indices/body/humanml/005859.npy (1, 6)\n",
      "/srv/hays-lab/scratch/sanisetty3/motionx/indices/body/humanml/006299.npy (1, 9)\n",
      "/srv/hays-lab/scratch/sanisetty3/motionx/indices/body/humanml/M010720.npy (1, 7)\n",
      "/srv/hays-lab/scratch/sanisetty3/motionx/indices/body/humanml/M012414.npy (1, 9)\n"
     ]
    }
   ],
   "source": [
    "err = []\n",
    "for i in fles:\n",
    "    if np.load(i).shape[-1] < 10:\n",
    "        err.append(os.path.basename(i))\n",
    "        print(i, np.load(i).shape)"
   ]
  },
  {
   "cell_type": "code",
   "execution_count": null,
   "id": "3242abfb-7b2f-4518-b29f-59c8b5c23484",
   "metadata": {},
   "outputs": [],
   "source": []
  },
  {
   "cell_type": "code",
   "execution_count": 21,
   "id": "9003df7f-a89c-4bee-8012-9609af5c4828",
   "metadata": {},
   "outputs": [
    {
     "data": {
      "text/plain": [
       "(1, 74)"
      ]
     },
     "execution_count": 21,
     "metadata": {},
     "output_type": "execute_result"
    }
   ],
   "source": [
    "np.load(\"/srv/hays-lab/scratch/sanisetty3/motionx/indices/body/humanml/M012813.npy\").shape"
   ]
  },
  {
   "cell_type": "code",
   "execution_count": 15,
   "id": "ebd8835a-4c8a-4871-a559-2591bb7bf375",
   "metadata": {},
   "outputs": [
    {
     "data": {
      "text/plain": [
       "False"
      ]
     },
     "execution_count": 15,
     "metadata": {},
     "output_type": "execute_result"
    }
   ],
   "source": [
    "\"005485.npy\" in err"
   ]
  },
  {
   "cell_type": "code",
   "execution_count": 27,
   "id": "e5989362-b1b3-4d66-aebd-537b89ca9da7",
   "metadata": {},
   "outputs": [
    {
     "name": "stderr",
     "output_type": "stream",
     "text": [
      "100%|████████████████████████████████████████████| 2/2 [00:00<00:00, 115.37it/s]\n"
     ]
    }
   ],
   "source": []
  },
  {
   "cell_type": "code",
   "execution_count": 26,
   "id": "f21e57bd-3bb3-4ba4-b7aa-aa83724b36e0",
   "metadata": {},
   "outputs": [
    {
     "name": "stderr",
     "output_type": "stream",
     "text": [
      "100%|████████████████████████████████████████████████████████████████████████████████████████| 33/33 [10:38<00:00, 19.34s/it]\n"
     ]
    }
   ],
   "source": [
    "for batch in tqdm(dl):\n",
    "    test_ds.datasets[0].render_hml(batch[\"motion\"][0][0][:300] , save_path = f\"/srv/hays-lab/scratch/sanisetty3/music_motion/ATCMG/render/true_all/{os.path.basename(batch['names'][0])}.gif\" )"
   ]
  },
  {
   "cell_type": "code",
   "execution_count": 38,
   "id": "86eaedbf-4bee-475b-8c4b-6c874e9f97a5",
   "metadata": {},
   "outputs": [
    {
     "data": {
      "text/plain": [
       "dict_keys(['names', 'motion'])"
      ]
     },
     "execution_count": 38,
     "metadata": {},
     "output_type": "execute_result"
    }
   ],
   "source": [
    "batch.keys()"
   ]
  },
  {
   "cell_type": "code",
   "execution_count": 29,
   "id": "0ab6191f-f316-401f-b76a-955074b96d41",
   "metadata": {},
   "outputs": [
    {
     "data": {
      "text/plain": [
       "array(['idea400/subset_0056/Walking_And_Snapping_At_The_Same_Time.npy'],\n",
       "      dtype='<U61')"
      ]
     },
     "execution_count": 29,
     "metadata": {},
     "output_type": "execute_result"
    }
   ],
   "source": [
    "batch[\"names\"]"
   ]
  },
  {
   "cell_type": "code",
   "execution_count": 28,
   "id": "2b5b5150-388c-4ec0-9d88-f56bc1a40769",
   "metadata": {},
   "outputs": [
    {
     "data": {
      "text/plain": [
       "torch.Size([1, 120, 196])"
      ]
     },
     "execution_count": 28,
     "metadata": {},
     "output_type": "execute_result"
    }
   ],
   "source": [
    "batch[\"motion\"][0].shape"
   ]
  },
  {
   "cell_type": "code",
   "execution_count": 30,
   "id": "99d23f0e-c882-4679-a835-2c8ab1da1c5b",
   "metadata": {},
   "outputs": [],
   "source": []
  },
  {
   "cell_type": "code",
   "execution_count": null,
   "id": "01fcb21c-8e45-47fb-a2de-15e12f23cf7c",
   "metadata": {},
   "outputs": [],
   "source": []
  }
 ],
 "metadata": {
  "kernelspec": {
   "display_name": "Python 3 (ipykernel)",
   "language": "python",
   "name": "python3"
  },
  "language_info": {
   "codemirror_mode": {
    "name": "ipython",
    "version": 3
   },
   "file_extension": ".py",
   "mimetype": "text/x-python",
   "name": "python",
   "nbconvert_exporter": "python",
   "pygments_lexer": "ipython3",
   "version": "3.9.18"
  }
 },
 "nbformat": 4,
 "nbformat_minor": 5
}
