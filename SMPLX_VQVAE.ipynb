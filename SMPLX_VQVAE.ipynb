{
 "cells": [
  {
   "cell_type": "code",
   "execution_count": 1,
   "id": "47ddc593-335a-4c95-925d-a1aef161033f",
   "metadata": {},
   "outputs": [
    {
     "name": "stdout",
     "output_type": "stream",
     "text": [
      "Using device: cuda\n",
      "\n",
      "NVIDIA GeForce RTX 2080 Ti\n",
      "Memory Usage:\n",
      "Allocated: 0.0 GB\n",
      "Cached:    0.0 GB\n"
     ]
    }
   ],
   "source": [
    "# setting device on GPU if available, else CPU\n",
    "import torch\n",
    "\n",
    "device = torch.device(\"cuda\" if torch.cuda.is_available() else \"cpu\")\n",
    "print(\"Using device:\", device)\n",
    "print()\n",
    "\n",
    "# Additional Info when using cuda\n",
    "if device.type == \"cuda\":\n",
    "    print(torch.cuda.get_device_name(0))\n",
    "    print(\"Memory Usage:\")\n",
    "    print(\"Allocated:\", round(torch.cuda.memory_allocated(0) / 1024**3, 1), \"GB\")\n",
    "    print(\"Cached:   \", round(torch.cuda.memory_reserved(0) / 1024**3, 1), \"GB\")"
   ]
  },
  {
   "cell_type": "code",
   "execution_count": 2,
   "id": "c473c419-8c66-4f10-9467-f1f15b5bb7d4",
   "metadata": {},
   "outputs": [],
   "source": [
    "%load_ext autoreload\n",
    "%autoreload 2\n",
    "%matplotlib inline"
   ]
  },
  {
   "cell_type": "code",
   "execution_count": 3,
   "id": "9785cf10-ca24-45fe-b6d7-726c1bf59178",
   "metadata": {},
   "outputs": [],
   "source": [
    "import torch\n",
    "import torch.nn.functional as F\n",
    "import torch.nn as nn\n",
    "\n",
    "from torch.utils.data import DataLoader\n",
    "\n",
    "from torch.utils import data\n",
    "\n",
    "\n",
    "import copy\n",
    "import os\n",
    "import random\n",
    "import cv2\n",
    "import numpy as np\n",
    "from PIL import Image\n",
    "import pandas as pd\n",
    "import matplotlib.pyplot as plt\n",
    "from glob import glob\n",
    "import functools\n",
    "from tqdm import tqdm\n",
    "from datetime import datetime\n",
    "import numpy as np\n",
    "from functools import partial\n",
    "# from core.datasets.vqa_motion_dataset import VQMotionDataset,DATALoader,VQVarLenMotionDataset,MotionCollator\n",
    "from einops import rearrange, reduce, pack, unpack\n",
    "import sys"
   ]
  },
  {
   "cell_type": "code",
   "execution_count": null,
   "id": "1843bcc6-d85b-4286-b267-eca5d4c06502",
   "metadata": {},
   "outputs": [],
   "source": []
  },
  {
   "cell_type": "markdown",
   "id": "9f95e286-bc5c-4f51-9416-080935ab6087",
   "metadata": {},
   "source": [
    "## test rendering"
   ]
  },
  {
   "cell_type": "code",
   "execution_count": 4,
   "id": "f6ed2250-2a08-4fec-beb3-2738486b89a9",
   "metadata": {},
   "outputs": [],
   "source": [
    "def findAllFile(base):\n",
    "    \"\"\"\n",
    "    Recursively find all files in the specified directory.\n",
    "\n",
    "    Args:\n",
    "        base (str): The base directory to start the search.\n",
    "\n",
    "    Returns:\n",
    "        list: A list of file paths found in the directory and its subdirectories.\n",
    "    \"\"\"\n",
    "    file_path = []\n",
    "    for root, ds, fs in os.walk(base, followlinks=True):\n",
    "        for f in fs:\n",
    "            fullname = os.path.join(root, f)\n",
    "            file_path.append(fullname)\n",
    "    return file_path"
   ]
  },
  {
   "cell_type": "code",
   "execution_count": 5,
   "id": "b268b5d7-502f-428f-899b-f2470587299f",
   "metadata": {},
   "outputs": [],
   "source": [
    "from utils.motion_processing.hml_process import recover_from_ric, recover_root_rot_pos\n",
    "import utils.vis_utils.plot_3d_global as plot_3d\n",
    "import matplotlib.pyplot as plt"
   ]
  },
  {
   "cell_type": "code",
   "execution_count": 6,
   "id": "5f856a3f-bd13-492a-9f13-402643349384",
   "metadata": {
    "scrolled": true
   },
   "outputs": [
    {
     "name": "stderr",
     "output_type": "stream",
     "text": [
      "/srv/hays-lab/flash5/sanisetty3/miniconda3/envs/tgm3d/lib/python3.9/site-packages/tqdm/auto.py:21: TqdmWarning: IProgress not found. Please update jupyter and ipywidgets. See https://ipywidgets.readthedocs.io/en/stable/user_install.html\n",
      "  from .autonotebook import tqdm as notebook_tqdm\n"
     ]
    }
   ],
   "source": [
    "from core.param_dataclasses import pattern_providers\n",
    "from core.datasets.multimodal_dataset import MotionIndicesAudioTextDataset, load_dataset_gen, simple_collate\n",
    "from core.models.utils import instantiate_from_config, get_obj_from_str\n",
    "from core import MotionRep, AudioRep, TextRep\n",
    "from core.datasets.conditioner import ConditionProvider,ConditionFuser\n",
    "\n",
    "from configs.config import cfg, get_cfg_defaults\n",
    "from configs.config_streaming import get_cfg_defaults as strm_get_cfg_defaults\n"
   ]
  },
  {
   "cell_type": "code",
   "execution_count": 33,
   "id": "51578303-4e64-4ecc-b605-36868fe00e3d",
   "metadata": {},
   "outputs": [
    {
     "data": {
      "text/plain": [
       "10355"
      ]
     },
     "execution_count": 33,
     "metadata": {},
     "output_type": "execute_result"
    }
   ],
   "source": [
    "len(findAllFile(\"/srv/hays-lab/scratch/sanisetty3/motionx/indices/tmp/beat\"))"
   ]
  },
  {
   "cell_type": "code",
   "execution_count": 27,
   "id": "d4879bf7-3898-41f6-84ae-92ca96477033",
   "metadata": {},
   "outputs": [],
   "source": [
    "choreo = findAllFile(\"/srv/hays-lab/scratch/sanisetty3/motionx/indices/body_gpvc/choreomaster\")"
   ]
  },
  {
   "cell_type": "code",
   "execution_count": 28,
   "id": "05fff283-3df2-4e1a-adab-e399aab4426b",
   "metadata": {},
   "outputs": [
    {
     "data": {
      "text/plain": [
       "'/srv/hays-lab/scratch/sanisetty3/motionx/indices/body_gpvc/beat/7_sophie_0_26_26.npy'"
      ]
     },
     "execution_count": 28,
     "metadata": {},
     "output_type": "execute_result"
    }
   ],
   "source": [
    "beat[0]"
   ]
  },
  {
   "cell_type": "code",
   "execution_count": 29,
   "id": "d7fbe111-22a5-476c-b393-64f0bd813027",
   "metadata": {},
   "outputs": [
    {
     "data": {
      "text/plain": [
       "(1, 553)"
      ]
     },
     "execution_count": 29,
     "metadata": {},
     "output_type": "execute_result"
    }
   ],
   "source": [
    "np.load(beat[0]).shape"
   ]
  },
  {
   "cell_type": "code",
   "execution_count": 21,
   "id": "00bb6283-d161-4582-8695-d64640b19de6",
   "metadata": {},
   "outputs": [],
   "source": []
  },
  {
   "cell_type": "code",
   "execution_count": 30,
   "id": "afe19908-568f-4702-97a6-4ab411eccf05",
   "metadata": {},
   "outputs": [
    {
     "name": "stderr",
     "output_type": "stream",
     "text": [
      "100%|██████████████████████████████████████████████████████████████████████████████████████| 1620/1620 [08:13<00:00,  3.28it/s]\n"
     ]
    }
   ],
   "source": [
    "for pth in tqdm(beat):\n",
    "    name = os.path.basename(pth).split(\".\")[0]\n",
    "    mot = np.load(pth)\n",
    "    for i, b in enumerate(range(0 , mot.shape[-1] , 150 )):\n",
    "        new_name= name + f\"_clip{i}.npy\"\n",
    "        new_mot= mot[:,b:b+150]\n",
    "        np.save(f\"/srv/hays-lab/scratch/sanisetty3/motionx/indices/tmp/beat/{new_name}\", new_mot)"
   ]
  },
  {
   "cell_type": "code",
   "execution_count": null,
   "id": "97382f6b-efb6-44fd-a1bd-cf5c2dd2f584",
   "metadata": {},
   "outputs": [],
   "source": []
  },
  {
   "cell_type": "code",
   "execution_count": 25,
   "id": "4b9701a6-f501-43e2-b93b-db96d8a1f016",
   "metadata": {},
   "outputs": [
    {
     "data": {
      "text/plain": [
       "5.866666666666666"
      ]
     },
     "execution_count": 25,
     "metadata": {},
     "output_type": "execute_result"
    }
   ],
   "source": [
    "44/7.5"
   ]
  },
  {
   "cell_type": "code",
   "execution_count": null,
   "id": "588fe43b-a893-429a-9c89-56bf15b2293e",
   "metadata": {},
   "outputs": [],
   "source": []
  },
  {
   "cell_type": "code",
   "execution_count": 7,
   "id": "701ef95c-1211-4f80-82d1-2c59aaf4db7d",
   "metadata": {},
   "outputs": [],
   "source": [
    "gen_cfg = strm_get_cfg_defaults()\n",
    "gen_cfg.merge_from_file(\"/srv/hays-lab/scratch/sanisetty3/music_motion/ATCMG/checkpoints/motion_streaming/motion_streaming.yaml\")\n",
    "gen_cfg.freeze()"
   ]
  },
  {
   "cell_type": "code",
   "execution_count": 8,
   "id": "d8daa247-ea5b-45f5-9a71-39026d265693",
   "metadata": {},
   "outputs": [],
   "source": [
    "\n",
    "body_cfg = get_cfg_defaults()\n",
    "body_cfg.merge_from_file(gen_cfg.vqvae.body_config)\n",
    "# left_cfg = get_cfg_defaults()\n",
    "# left_cfg.merge_from_file(gen_cfg.vqvae.left_hand_config)\n",
    "# right_cfg = get_cfg_defaults()\n",
    "# right_cfg.merge_from_file(gen_cfg.vqvae.right_hand_config)"
   ]
  },
  {
   "cell_type": "code",
   "execution_count": 9,
   "id": "8c7ed910-46ab-4f39-94d7-13c4e525a2f0",
   "metadata": {},
   "outputs": [],
   "source": []
  },
  {
   "cell_type": "code",
   "execution_count": null,
   "id": "f87359b5-80b1-45a6-afcd-2bff0f3180a1",
   "metadata": {},
   "outputs": [],
   "source": [
    "from core.models.resnetVQ.vqvae import HumanVQVAE\n"
   ]
  },
  {
   "cell_type": "code",
   "execution_count": 10,
   "id": "5ca6f05f-505b-42dc-a7c2-6c7a2309ca21",
   "metadata": {},
   "outputs": [],
   "source": [
    "# left_hand_model = HumanVQVAE(left_cfg.vqvae).to(device).eval()\n",
    "# left_hand_model.load(os.path.join(left_cfg.output_dir, \"vqvae_motion.pt\"))\n",
    "\n",
    "# right_hand_model = HumanVQVAE(right_cfg.vqvae).to(device).eval()\n",
    "# right_hand_model.load(os.path.join(right_cfg.output_dir, \"vqvae_motion.pt\"))\n",
    "\n",
    "body_model = HumanVQVAE(body_cfg.vqvae).to(device).eval()\n",
    "body_model.load(os.path.join(body_cfg.output_dir, \"vqvae_motion.pt\"))\n",
    "\n"
   ]
  },
  {
   "cell_type": "code",
   "execution_count": null,
   "id": "840f8407-7045-4cd3-a0c9-a4ebae3ca54f",
   "metadata": {},
   "outputs": [],
   "source": []
  },
  {
   "cell_type": "code",
   "execution_count": null,
   "id": "8a36f7a2-c271-4998-9647-d89951a2bbea",
   "metadata": {},
   "outputs": [],
   "source": []
  },
  {
   "cell_type": "markdown",
   "id": "54003cfb-544e-419b-b143-315c7a832876",
   "metadata": {},
   "source": [
    "### VQVAE"
   ]
  },
  {
   "cell_type": "code",
   "execution_count": null,
   "id": "abdf13d1-9fe5-4a0b-9f48-039763e9a6c9",
   "metadata": {},
   "outputs": [],
   "source": []
  },
  {
   "cell_type": "code",
   "execution_count": 8,
   "id": "2803dc9a-5276-4e3f-bfef-a12c919b6600",
   "metadata": {},
   "outputs": [],
   "source": [
    "from core.datasets.vq_dataset import VQSMPLXMotionDataset\n",
    "from core.datasets.vq_dataset import load_dataset as load_dataset_vq\n",
    "from core.datasets.vq_dataset import simple_collate as simple_collate_vq\n"
   ]
  },
  {
   "cell_type": "code",
   "execution_count": 9,
   "id": "c9c5eeeb-5648-4e6a-9fc9-000d083d2b08",
   "metadata": {},
   "outputs": [],
   "source": [
    "def get_decoded(model , motion):\n",
    "    encs = []\n",
    "    inds = []\n",
    "    for i in range(0 , motion.shape[1] , 120 ):\n",
    "        if i + 240 >= motion.shape[1]:\n",
    "            enc_b = model(motion[: , i:, :].to(device))\n",
    "            encs.append(enc_b.decoded_motion)\n",
    "            inds.append(enc_b.indices)\n",
    "            break\n",
    "        else:\n",
    "            enc_b = model(motion[: , i:i + 120, :].to(device))\n",
    "            encs.append(enc_b.decoded_motion)\n",
    "            inds.append(enc_b.indices)\n",
    "    return torch.cat(encs , 1), torch.cat(inds , -1)"
   ]
  },
  {
   "cell_type": "code",
   "execution_count": null,
   "id": "6bfa9eb6-bebd-44b2-aae6-f14335230ec7",
   "metadata": {},
   "outputs": [],
   "source": []
  },
  {
   "cell_type": "code",
   "execution_count": null,
   "id": "359ff182-863e-4745-b0fe-a1aa11b3cfd8",
   "metadata": {},
   "outputs": [],
   "source": []
  },
  {
   "cell_type": "code",
   "execution_count": null,
   "id": "b07d3a8c-2389-4eb0-b051-3ccae88ac4c8",
   "metadata": {},
   "outputs": [],
   "source": []
  },
  {
   "cell_type": "code",
   "execution_count": 10,
   "id": "212a8735-6a05-4795-9050-3284c089b8bf",
   "metadata": {},
   "outputs": [],
   "source": [
    "dataset_names_default = [\n",
    "    \"animation\",\n",
    "    \"humanml\",\n",
    "    \"perform\",\n",
    "    \"GRAB\",\n",
    "    \"idea400\",\n",
    "    \"humman\",\n",
    "    \"beat\",\n",
    "    \"game_motion\",\n",
    "    \"music\",\n",
    "    \"aist\",\n",
    "    \"fitness\",\n",
    "    \"moyo\",\n",
    "    \"choreomaster\",\n",
    "    \"dance\",\n",
    "    \"kungfu\",\n",
    "    \"EgoBody\",\n",
    "    \"HAA500\",\n",
    "]"
   ]
  },
  {
   "cell_type": "code",
   "execution_count": 11,
   "id": "45ce439e-d87a-4029-a939-8c13a36393cd",
   "metadata": {},
   "outputs": [],
   "source": [
    "body_cfg = get_cfg_defaults()\n",
    "body_cfg.merge_from_file(\"/srv/hays-lab/scratch/sanisetty3/music_motion/ATCMG/checkpoints/vqvae/vqvae_body_gpvc/vqvae_body_gpvc.yaml\")"
   ]
  },
  {
   "cell_type": "code",
   "execution_count": 12,
   "id": "c3e7dcd7-a19f-4e74-90c2-4b77231b69e4",
   "metadata": {},
   "outputs": [
    {
     "name": "stdout",
     "output_type": "stream",
     "text": [
      "Sync is turned on False\n",
      "loaded model with  0.03015906736254692 tensor([110000.], device='cuda:0') steps\n"
     ]
    }
   ],
   "source": [
    "from core.models.resnetVQ.vqvae import HumanVQVAE2\n",
    "\n",
    "body_model = HumanVQVAE2(body_cfg.vqvae).to(device).eval()\n",
    "body_model.load(os.path.join(body_cfg.output_dir, \"vqvae_motion.pt\"))\n",
    "\n"
   ]
  },
  {
   "cell_type": "code",
   "execution_count": null,
   "id": "578c9260-27c8-4de5-89e7-285667ecf24f",
   "metadata": {},
   "outputs": [],
   "source": []
  },
  {
   "cell_type": "code",
   "execution_count": null,
   "id": "41931680-cee8-44f4-86d0-b5d2fb5a6570",
   "metadata": {},
   "outputs": [],
   "source": []
  },
  {
   "cell_type": "code",
   "execution_count": 13,
   "id": "0923a18a-0fe4-4635-8792-489b255184c6",
   "metadata": {},
   "outputs": [],
   "source": [
    "# body_cfg.dataset.hml_rep = \"gprv\"\n",
    "body_cfg.dataset.window_size = -1"
   ]
  },
  {
   "cell_type": "code",
   "execution_count": 18,
   "id": "4a7fd60c-c052-4e26-a206-7d2101f75c4c",
   "metadata": {},
   "outputs": [
    {
     "name": "stdout",
     "output_type": "stream",
     "text": [
      "Total number of motions animation: 17\n",
      "Total number of motions humanml: 3546\n",
      "Total number of motions perform: 24\n",
      "Total number of motions GRAB: 67\n",
      "Total number of motions idea400: 626\n",
      "Total number of motions humman: 38\n",
      "Total number of motions beat: 162\n",
      "Total number of motions game_motion: 511\n",
      "Total number of motions music: 179\n",
      "Total number of motions aist: 74\n",
      "Total number of motions fitness: 837\n",
      "Total number of motions moyo: 9\n",
      "Total number of motions choreomaster: 2\n",
      "Total number of motions dance: 9\n",
      "Total number of motions kungfu: 52\n",
      "Total number of motions EgoBody: 49\n",
      "Total number of motions HAA500: 262\n"
     ]
    }
   ],
   "source": [
    "test_ds, _, _ = load_dataset_vq(\n",
    "            dataset_names=dataset_names_default,\n",
    "            dataset_args=body_cfg.dataset,\n",
    "            split=\"test\",\n",
    "        )"
   ]
  },
  {
   "cell_type": "code",
   "execution_count": 19,
   "id": "aacbcf29-13be-4002-89af-f05573fa2f2e",
   "metadata": {},
   "outputs": [
    {
     "name": "stderr",
     "output_type": "stream",
     "text": [
      "/srv/hays-lab/flash5/sanisetty3/miniconda3/envs/tgm3d/lib/python3.9/site-packages/torch/nn/utils/weight_norm.py:28: UserWarning: torch.nn.utils.weight_norm is deprecated in favor of torch.nn.utils.parametrizations.weight_norm.\n",
      "  warnings.warn(\"torch.nn.utils.weight_norm is deprecated in favor of torch.nn.utils.parametrizations.weight_norm.\")\n",
      "Could not find image processor class in the image processor config or the model config. Loading based on pattern matching with the model's feature extractor configuration. Please open a PR/issue to update `preprocessor_config.json` to use `image_processor_type` instead of `feature_extractor_type`. This warning will be removed in v4.40.\n"
     ]
    }
   ],
   "source": [
    "condition_provider2 = ConditionProvider(\n",
    "            motion_rep=MotionRep(\"body\"),\n",
    "            motion_padding=\"max_length\",\n",
    "\n",
    "        )"
   ]
  },
  {
   "cell_type": "code",
   "execution_count": 20,
   "id": "5744bd23-da74-47e0-91e9-3f4406d6301d",
   "metadata": {},
   "outputs": [],
   "source": [
    "dl = torch.utils.data.DataLoader(\n",
    "            test_ds,\n",
    "            batch_size=1,\n",
    "            sampler=None,\n",
    "            shuffle=False,\n",
    "            collate_fn=partial(simple_collate_vq , conditioner = condition_provider2),\n",
    "            \n",
    "        )"
   ]
  },
  {
   "cell_type": "code",
   "execution_count": null,
   "id": "d6343e75-8f82-4d09-9393-9ec0d4d548ef",
   "metadata": {},
   "outputs": [],
   "source": []
  },
  {
   "cell_type": "code",
   "execution_count": 57,
   "id": "0d5724bc-7fa7-438a-b719-9e2f754dd653",
   "metadata": {},
   "outputs": [
    {
     "name": "stderr",
     "output_type": "stream",
     "text": [
      "  0%|                                                                                                  | 0/312 [00:00<?, ?it/s]\n"
     ]
    }
   ],
   "source": [
    "for batch in tqdm(dl):\n",
    "    break\n"
   ]
  },
  {
   "cell_type": "code",
   "execution_count": null,
   "id": "03cedac5-1663-4b1f-8ada-079fe438df81",
   "metadata": {},
   "outputs": [],
   "source": []
  },
  {
   "cell_type": "code",
   "execution_count": null,
   "id": "c87ae675-d619-41aa-8fd9-ae7c0ef679c1",
   "metadata": {},
   "outputs": [],
   "source": []
  },
  {
   "cell_type": "code",
   "execution_count": null,
   "id": "25a6a8dc-ded2-46d6-8f41-4778389bb54b",
   "metadata": {},
   "outputs": [],
   "source": []
  },
  {
   "cell_type": "code",
   "execution_count": 21,
   "id": "c4cdbd76-0735-4505-b246-2efbdea7a8cd",
   "metadata": {},
   "outputs": [
    {
     "name": "stderr",
     "output_type": "stream",
     "text": [
      "100%|██████████████████████████████████████████████████████████████████████████████████████| 6464/6464 [11:57<00:00,  9.01it/s]\n"
     ]
    }
   ],
   "source": [
    "errors = []\n",
    "for batch in tqdm(dl):\n",
    "    sve = os.path.join(\"/srv/hays-lab/scratch/sanisetty3/motionx/indices/body_gpvc\" , batch[\"names\"][0] )\n",
    "    if os.path.exists(sve):\n",
    "        continue\n",
    "    os.makedirs(os.path.dirname(sve) , exist_ok=True)\n",
    "    try:\n",
    "        if \"g\" in body_cfg.dataset.hml_rep:\n",
    "            l = list(range(0, batch[\"motion\"][0].shape[-1]))\n",
    "            ohprvc = l[:1] + l[3:]\n",
    "            gt_motion = batch[\"motion\"][0][..., ohprvc]\n",
    "        enc_b, inb = get_decoded(body_model , gt_motion.to(device))\n",
    "        np.save(sve , inb.cpu().numpy())\n",
    "    except:\n",
    "        errors.append(batch[\"names\"][0])\n",
    "    "
   ]
  },
  {
   "cell_type": "code",
   "execution_count": 22,
   "id": "3fe123c5-8890-4255-b5e5-ecbb30c9c202",
   "metadata": {},
   "outputs": [
    {
     "data": {
      "text/plain": [
       "9"
      ]
     },
     "execution_count": 22,
     "metadata": {},
     "output_type": "execute_result"
    }
   ],
   "source": [
    "len(errors)"
   ]
  },
  {
   "cell_type": "code",
   "execution_count": null,
   "id": "4e917424-5362-4d7c-b2f0-6c5e8fffaf4b",
   "metadata": {},
   "outputs": [],
   "source": []
  },
  {
   "cell_type": "code",
   "execution_count": null,
   "id": "a1739fab-af55-491f-b7f9-db6ef4fbca7e",
   "metadata": {},
   "outputs": [],
   "source": []
  },
  {
   "cell_type": "code",
   "execution_count": null,
   "id": "4a6ff969-7466-4753-a547-b666685318b2",
   "metadata": {},
   "outputs": [],
   "source": []
  },
  {
   "cell_type": "code",
   "execution_count": null,
   "id": "7a60f753-8497-4786-be1e-da13ad7f8db6",
   "metadata": {},
   "outputs": [],
   "source": []
  },
  {
   "cell_type": "markdown",
   "id": "8c0a5d54-1292-45ae-81f4-88c7493c226c",
   "metadata": {},
   "source": [
    "## Translation"
   ]
  },
  {
   "cell_type": "code",
   "execution_count": 4,
   "id": "3242abfb-7b2f-4518-b29f-59c8b5c23484",
   "metadata": {},
   "outputs": [
    {
     "name": "stderr",
     "output_type": "stream",
     "text": [
      "/srv/hays-lab/flash5/sanisetty3/miniconda3/envs/tgm3d/lib/python3.9/site-packages/tqdm/auto.py:21: TqdmWarning: IProgress not found. Please update jupyter and ipywidgets. See https://ipywidgets.readthedocs.io/en/stable/user_install.html\n",
      "  from .autonotebook import tqdm as notebook_tqdm\n"
     ]
    }
   ],
   "source": [
    "from core.datasets.vq_dataset import VQSMPLXMotionDataset\n",
    "from core.datasets.vq_dataset import load_dataset as load_dataset_vq\n",
    "from core.datasets.vq_dataset import simple_collate as simple_collate_vq"
   ]
  },
  {
   "cell_type": "code",
   "execution_count": 5,
   "id": "01fcb21c-8e45-47fb-a2de-15e12f23cf7c",
   "metadata": {},
   "outputs": [
    {
     "name": "stdout",
     "output_type": "stream",
     "text": [
      "Total number of motions animation: 120\n"
     ]
    }
   ],
   "source": [
    "dset = VQSMPLXMotionDataset(\"animation\" , \"/srv/hays-lab/scratch/sanisetty3/motionx\" ,hml_rep = \"gc\" , window_size=120, motion_rep = \"body\", split = \"train\" , fps = 30  )\n"
   ]
  },
  {
   "cell_type": "code",
   "execution_count": 6,
   "id": "a8917607-f65a-46fd-9f6e-206548df10a6",
   "metadata": {},
   "outputs": [
    {
     "data": {
      "text/plain": [
       "{'name': 'animation/subset_0000/Ways_To_Catch_Coin_Toss.npy',\n",
       " 'motion': <core.datasets.motion_class.Motion at 0x7f7609fcfa90>}"
      ]
     },
     "execution_count": 6,
     "metadata": {},
     "output_type": "execute_result"
    }
   ],
   "source": [
    "dset[0]"
   ]
  },
  {
   "cell_type": "code",
   "execution_count": null,
   "id": "6bb750ea-4fe3-4dde-b800-0de77017e33e",
   "metadata": {},
   "outputs": [],
   "source": []
  }
 ],
 "metadata": {
  "kernelspec": {
   "display_name": "Python 3 (ipykernel)",
   "language": "python",
   "name": "python3"
  },
  "language_info": {
   "codemirror_mode": {
    "name": "ipython",
    "version": 3
   },
   "file_extension": ".py",
   "mimetype": "text/x-python",
   "name": "python",
   "nbconvert_exporter": "python",
   "pygments_lexer": "ipython3",
   "version": "3.9.18"
  }
 },
 "nbformat": 4,
 "nbformat_minor": 5
}
