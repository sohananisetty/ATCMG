{
 "cells": [
  {
   "cell_type": "code",
   "execution_count": 1,
   "id": "47ddc593-335a-4c95-925d-a1aef161033f",
   "metadata": {},
   "outputs": [
    {
     "name": "stdout",
     "output_type": "stream",
     "text": [
      "Using device: cuda\n",
      "\n",
      "NVIDIA GeForce RTX 2080 Ti\n",
      "Memory Usage:\n",
      "Allocated: 0.0 GB\n",
      "Cached:    0.0 GB\n"
     ]
    }
   ],
   "source": [
    "# setting device on GPU if available, else CPU\n",
    "import torch\n",
    "\n",
    "device = torch.device(\"cuda\" if torch.cuda.is_available() else \"cpu\")\n",
    "print(\"Using device:\", device)\n",
    "print()\n",
    "\n",
    "# Additional Info when using cuda\n",
    "if device.type == \"cuda\":\n",
    "    print(torch.cuda.get_device_name(0))\n",
    "    print(\"Memory Usage:\")\n",
    "    print(\"Allocated:\", round(torch.cuda.memory_allocated(0) / 1024**3, 1), \"GB\")\n",
    "    print(\"Cached:   \", round(torch.cuda.memory_reserved(0) / 1024**3, 1), \"GB\")"
   ]
  },
  {
   "cell_type": "code",
   "execution_count": 2,
   "id": "c473c419-8c66-4f10-9467-f1f15b5bb7d4",
   "metadata": {},
   "outputs": [],
   "source": [
    "%load_ext autoreload\n",
    "%autoreload 2\n",
    "%matplotlib inline"
   ]
  },
  {
   "cell_type": "code",
   "execution_count": 3,
   "id": "9785cf10-ca24-45fe-b6d7-726c1bf59178",
   "metadata": {},
   "outputs": [],
   "source": [
    "import torch\n",
    "import torch.nn.functional as F\n",
    "import torch.nn as nn\n",
    "\n",
    "from torch.utils.data import DataLoader\n",
    "\n",
    "from torch.utils import data\n",
    "\n",
    "\n",
    "import copy\n",
    "import os\n",
    "import random\n",
    "import cv2\n",
    "import numpy as np\n",
    "from PIL import Image\n",
    "import pandas as pd\n",
    "import matplotlib.pyplot as plt\n",
    "from glob import glob\n",
    "import functools\n",
    "from tqdm import tqdm\n",
    "from datetime import datetime\n",
    "import numpy as np\n",
    "from functools import partial\n",
    "# from core.datasets.vqa_motion_dataset import VQMotionDataset,DATALoader,VQVarLenMotionDataset,MotionCollator\n",
    "from einops import rearrange, reduce, pack, unpack\n",
    "import sys"
   ]
  },
  {
   "cell_type": "code",
   "execution_count": 4,
   "id": "1843bcc6-d85b-4286-b267-eca5d4c06502",
   "metadata": {},
   "outputs": [],
   "source": [
    "def findAllFile(base):\n",
    "    \"\"\"\n",
    "    Recursively find all files in the specified directory.\n",
    "\n",
    "    Args:\n",
    "        base (str): The base directory to start the search.\n",
    "\n",
    "    Returns:\n",
    "        list: A list of file paths found in the directory and its subdirectories.\n",
    "    \"\"\"\n",
    "    file_path = []\n",
    "    for root, ds, fs in os.walk(base, followlinks=True):\n",
    "        for f in fs:\n",
    "            fullname = os.path.join(root, f)\n",
    "            file_path.append(fullname)\n",
    "    return file_path"
   ]
  },
  {
   "cell_type": "code",
   "execution_count": null,
   "id": "f6ed2250-2a08-4fec-beb3-2738486b89a9",
   "metadata": {},
   "outputs": [],
   "source": []
  },
  {
   "cell_type": "code",
   "execution_count": 5,
   "id": "b268b5d7-502f-428f-899b-f2470587299f",
   "metadata": {},
   "outputs": [],
   "source": [
    "from utils.motion_processing.hml_process import recover_from_ric, recover_root_rot_pos\n",
    "import utils.vis_utils.plot_3d_global as plot_3d\n",
    "import matplotlib.pyplot as plt"
   ]
  },
  {
   "cell_type": "code",
   "execution_count": null,
   "id": "8a36f7a2-c271-4998-9647-d89951a2bbea",
   "metadata": {},
   "outputs": [],
   "source": []
  },
  {
   "cell_type": "markdown",
   "id": "54003cfb-544e-419b-b143-315c7a832876",
   "metadata": {},
   "source": [
    "## VQVAE"
   ]
  },
  {
   "cell_type": "code",
   "execution_count": null,
   "id": "abdf13d1-9fe5-4a0b-9f48-039763e9a6c9",
   "metadata": {},
   "outputs": [],
   "source": []
  },
  {
   "cell_type": "code",
   "execution_count": 6,
   "id": "2803dc9a-5276-4e3f-bfef-a12c919b6600",
   "metadata": {},
   "outputs": [
    {
     "name": "stderr",
     "output_type": "stream",
     "text": [
      "/srv/hays-lab/flash5/sanisetty3/miniconda3/envs/tgm3d/lib/python3.9/site-packages/tqdm/auto.py:21: TqdmWarning: IProgress not found. Please update jupyter and ipywidgets. See https://ipywidgets.readthedocs.io/en/stable/user_install.html\n",
      "  from .autonotebook import tqdm as notebook_tqdm\n"
     ]
    }
   ],
   "source": [
    "from core.datasets.vq_dataset import VQSMPLXMotionDataset\n",
    "from core.datasets.vq_dataset import load_dataset, simple_collate\n",
    "from configs.config import cfg, get_cfg_defaults\n",
    "from core.datasets.conditioner import ConditionProvider\n",
    "from core import MotionRep\n",
    "from core.models.utils import instantiate_from_config, get_obj_from_str\n",
    "from core.models.loss import ReConsLoss\n"
   ]
  },
  {
   "cell_type": "code",
   "execution_count": 7,
   "id": "c9c5eeeb-5648-4e6a-9fc9-000d083d2b08",
   "metadata": {},
   "outputs": [],
   "source": [
    "def get_decoded(model , motion):\n",
    "    encs = []\n",
    "    inds = []\n",
    "    for i in range(0 , motion.shape[1] , 120 ):\n",
    "        if i + 240 >= motion.shape[1]:\n",
    "            enc_b = model(motion[: , i:, :].to(device))\n",
    "            encs.append(enc_b.decoded_motion)\n",
    "            inds.append(enc_b.indices)\n",
    "            break\n",
    "        else:\n",
    "            enc_b = model(motion[: , i:i + 120, :].to(device))\n",
    "            encs.append(enc_b.decoded_motion)\n",
    "            inds.append(enc_b.indices)\n",
    "    return torch.cat(encs , 1), torch.cat(inds , -1)"
   ]
  },
  {
   "cell_type": "code",
   "execution_count": null,
   "id": "6bfa9eb6-bebd-44b2-aae6-f14335230ec7",
   "metadata": {},
   "outputs": [],
   "source": []
  },
  {
   "cell_type": "code",
   "execution_count": null,
   "id": "359ff182-863e-4745-b0fe-a1aa11b3cfd8",
   "metadata": {},
   "outputs": [],
   "source": []
  },
  {
   "cell_type": "code",
   "execution_count": null,
   "id": "b07d3a8c-2389-4eb0-b051-3ccae88ac4c8",
   "metadata": {},
   "outputs": [],
   "source": []
  },
  {
   "cell_type": "code",
   "execution_count": 8,
   "id": "212a8735-6a05-4795-9050-3284c089b8bf",
   "metadata": {},
   "outputs": [],
   "source": [
    "dataset_names_default = [\n",
    "    # \"animation\",\n",
    "    # \"humanml\",\n",
    "    # \"perform\",\n",
    "    # \"GRAB\",\n",
    "    \"idea400\",\n",
    "    # \"humman\",\n",
    "    # \"beat\",\n",
    "    # \"game_motion\",\n",
    "    # \"music\",\n",
    "    # \"aist\",\n",
    "    # \"fitness\",\n",
    "    # \"moyo\",\n",
    "    \"choreomaster\",\n",
    "    # \"dance\",\n",
    "    # \"kungfu\",\n",
    "    # \"EgoBody\",\n",
    "    # \"HAA500\",\n",
    "]"
   ]
  },
  {
   "cell_type": "code",
   "execution_count": 9,
   "id": "3842b9ed-bb4b-418c-ada7-9f4680f4d333",
   "metadata": {},
   "outputs": [],
   "source": [
    "def motion_dim(hml_rep, motion_rep, joints = 52, remove_trans=False):\n",
    "    dim = 0\n",
    "\n",
    "    if \"g\" in hml_rep:\n",
    "        if remove_trans:\n",
    "            dim += 2\n",
    "        else:\n",
    "            dim += 4\n",
    "    if \"p\" in hml_rep:\n",
    "        if motion_rep == MotionRep.BODY or motion_rep == MotionRep.FULL:\n",
    "            dim += (joints - 1) * 3\n",
    "        else:\n",
    "            dim += (joints) * 3\n",
    "    if \"r\" in hml_rep:\n",
    "        if motion_rep == MotionRep.BODY or motion_rep == MotionRep.FULL:\n",
    "            dim += (joints - 1) * 6\n",
    "        else:\n",
    "            dim += (joints) * 6\n",
    "    if \"v\" in hml_rep:\n",
    "        dim += joints * 3\n",
    "    if \"c\" in hml_rep:\n",
    "        dim += 4\n",
    "\n",
    "    return dim"
   ]
  },
  {
   "cell_type": "code",
   "execution_count": 10,
   "id": "46362b75-4932-41ad-b180-aa1fdefc093b",
   "metadata": {},
   "outputs": [
    {
     "data": {
      "text/plain": [
       "263"
      ]
     },
     "execution_count": 10,
     "metadata": {},
     "output_type": "execute_result"
    }
   ],
   "source": [
    "motion_dim(\"gprvc\" , MotionRep.BODY , 22)"
   ]
  },
  {
   "cell_type": "code",
   "execution_count": 11,
   "id": "45ce439e-d87a-4029-a939-8c13a36393cd",
   "metadata": {},
   "outputs": [],
   "source": [
    "body_cfg = get_cfg_defaults()\n",
    "body_cfg.merge_from_file(\"/srv/hays-lab/scratch/sanisetty3/music_motion/ATCMG/checkpoints/vqvae/vqvae_full_gpvc/vqvae_full_gpvc.yaml\")"
   ]
  },
  {
   "cell_type": "code",
   "execution_count": 12,
   "id": "6e9673f8-2e13-413c-897d-54e66828ed4a",
   "metadata": {},
   "outputs": [],
   "source": [
    "dataset_args = body_cfg.dataset\n",
    "model_args = body_cfg.vqvae"
   ]
  },
  {
   "cell_type": "code",
   "execution_count": 97,
   "id": "a9060b4d-d0f4-4dd4-9779-ed91a2a8c26d",
   "metadata": {},
   "outputs": [],
   "source": [
    "loss_fnc = ReConsLoss(\n",
    "            recons_loss=model_args.recons_loss,\n",
    "            use_geodesic_loss=model_args.use_geodesic_loss,\n",
    "            nb_joints=model_args.nb_joints,\n",
    "            hml_rep=dataset_args.hml_rep,\n",
    "            motion_rep=MotionRep(dataset_args.motion_rep),\n",
    "        )"
   ]
  },
  {
   "cell_type": "code",
   "execution_count": null,
   "id": "30c6ec83-b268-464f-b368-3d3eab2ec1b6",
   "metadata": {},
   "outputs": [],
   "source": []
  },
  {
   "cell_type": "code",
   "execution_count": 14,
   "id": "c3e7dcd7-a19f-4e74-90c2-4b77231b69e4",
   "metadata": {},
   "outputs": [
    {
     "name": "stdout",
     "output_type": "stream",
     "text": [
      "Sync is turned on False\n"
     ]
    }
   ],
   "source": [
    "body_model = instantiate_from_config(body_cfg.vqvae).to(device)\n",
    "# body_model.load(os.path.join(body_cfg.output_dir, \"vqvae_motion.pt\"))"
   ]
  },
  {
   "cell_type": "code",
   "execution_count": null,
   "id": "578c9260-27c8-4de5-89e7-285667ecf24f",
   "metadata": {},
   "outputs": [],
   "source": []
  },
  {
   "cell_type": "code",
   "execution_count": null,
   "id": "41931680-cee8-44f4-86d0-b5d2fb5a6570",
   "metadata": {},
   "outputs": [],
   "source": []
  },
  {
   "cell_type": "code",
   "execution_count": 15,
   "id": "0923a18a-0fe4-4635-8792-489b255184c6",
   "metadata": {},
   "outputs": [],
   "source": [
    "# body_cfg.dataset.hml_rep = \"gprv\"\n",
    "# body_cfg.dataset.window_size = -1"
   ]
  },
  {
   "cell_type": "code",
   "execution_count": 16,
   "id": "4a7fd60c-c052-4e26-a206-7d2101f75c4c",
   "metadata": {},
   "outputs": [
    {
     "name": "stdout",
     "output_type": "stream",
     "text": [
      "Total number of motions idea400: 577\n",
      "Total number of motions choreomaster: 2\n"
     ]
    }
   ],
   "source": [
    "train_ds, sampler_train, weights_train = load_dataset(\n",
    "            dataset_names=dataset_names_default,\n",
    "            dataset_args=body_cfg.dataset,\n",
    "            split=\"test\",\n",
    "        )"
   ]
  },
  {
   "cell_type": "code",
   "execution_count": null,
   "id": "c9e327c2-99ae-4398-ba1c-9aabd1115f6d",
   "metadata": {},
   "outputs": [],
   "source": []
  },
  {
   "cell_type": "code",
   "execution_count": null,
   "id": "aacbcf29-13be-4002-89af-f05573fa2f2e",
   "metadata": {},
   "outputs": [],
   "source": []
  },
  {
   "cell_type": "code",
   "execution_count": 17,
   "id": "5744bd23-da74-47e0-91e9-3f4406d6301d",
   "metadata": {},
   "outputs": [],
   "source": [
    "\n",
    "condition_provider = ConditionProvider(\n",
    "            motion_rep=MotionRep(body_cfg.dataset.motion_rep),\n",
    "            only_motion=True\n",
    "        )\n",
    "train_loader = torch.utils.data.DataLoader(\n",
    "        train_ds,\n",
    "        4,\n",
    "        sampler=sampler_train,\n",
    "        collate_fn=partial(simple_collate , conditioner = condition_provider),\n",
    "    )"
   ]
  },
  {
   "cell_type": "code",
   "execution_count": null,
   "id": "d6343e75-8f82-4d09-9393-9ec0d4d548ef",
   "metadata": {},
   "outputs": [],
   "source": []
  },
  {
   "cell_type": "code",
   "execution_count": 18,
   "id": "0d5724bc-7fa7-438a-b719-9e2f754dd653",
   "metadata": {},
   "outputs": [],
   "source": [
    "for batch in train_loader:\n",
    "    break\n"
   ]
  },
  {
   "cell_type": "code",
   "execution_count": 19,
   "id": "03cedac5-1663-4b1f-8ada-079fe438df81",
   "metadata": {},
   "outputs": [
    {
     "data": {
      "text/plain": [
       "array(['idea400/subset_0034/Simultaneously_Drawing_And_Sitting.npy',\n",
       "       'idea400/subset_0047/Dislike_And_Sitting_At_The_Same_Time.npy',\n",
       "       'idea400/subset_0053/Simultaneously_Walking_And_Cooking_Rice_clip_1.npy',\n",
       "       'idea400/subset_0040/Driving_During_Sitting.npy'], dtype='<U70')"
      ]
     },
     "execution_count": 19,
     "metadata": {},
     "output_type": "execute_result"
    }
   ],
   "source": [
    "batch[\"names\"]"
   ]
  },
  {
   "cell_type": "code",
   "execution_count": 20,
   "id": "28a9791e-0a4d-433e-b383-ae803e138ba3",
   "metadata": {},
   "outputs": [],
   "source": [
    "gt_motion = batch[\"motion\"][0].to(device)"
   ]
  },
  {
   "cell_type": "code",
   "execution_count": 21,
   "id": "bfec0a7f-02f9-45f4-8428-f032ec24f898",
   "metadata": {
    "scrolled": true
   },
   "outputs": [
    {
     "data": {
      "text/plain": [
       "torch.Size([120, 317])"
      ]
     },
     "execution_count": 21,
     "metadata": {},
     "output_type": "execute_result"
    }
   ],
   "source": [
    "gt_motion[0].shape"
   ]
  },
  {
   "cell_type": "code",
   "execution_count": null,
   "id": "c7f5a660-ed1d-4570-88ed-ed22d48b7cab",
   "metadata": {},
   "outputs": [],
   "source": []
  },
  {
   "cell_type": "code",
   "execution_count": 22,
   "id": "c87ae675-d619-41aa-8fd9-ae7c0ef679c1",
   "metadata": {},
   "outputs": [],
   "source": [
    "vqvae_output = body_model(gt_motion)"
   ]
  },
  {
   "cell_type": "code",
   "execution_count": null,
   "id": "087bd7c7-1145-4755-aded-b4dc3389039f",
   "metadata": {},
   "outputs": [],
   "source": []
  },
  {
   "cell_type": "code",
   "execution_count": 23,
   "id": "25a6a8dc-ded2-46d6-8f41-4778389bb54b",
   "metadata": {},
   "outputs": [],
   "source": [
    "pred_motion = vqvae_output.decoded_motion"
   ]
  },
  {
   "cell_type": "code",
   "execution_count": 24,
   "id": "0d0c1f62-6c14-4267-bd82-75a3c58e812a",
   "metadata": {},
   "outputs": [
    {
     "data": {
      "text/plain": [
       "torch.Size([4, 120, 317])"
      ]
     },
     "execution_count": 24,
     "metadata": {},
     "output_type": "execute_result"
    }
   ],
   "source": [
    "pred_motion.shape"
   ]
  },
  {
   "cell_type": "code",
   "execution_count": null,
   "id": "77357ebc-3e4f-4bc2-866c-6884f902caa9",
   "metadata": {},
   "outputs": [],
   "source": []
  },
  {
   "cell_type": "code",
   "execution_count": null,
   "id": "45cdf865-7ba3-4c4e-a0ed-d3bfb4072d45",
   "metadata": {},
   "outputs": [],
   "source": []
  },
  {
   "cell_type": "code",
   "execution_count": null,
   "id": "ede40a87-4f96-4221-ad0b-3366606fe437",
   "metadata": {},
   "outputs": [],
   "source": []
  },
  {
   "cell_type": "code",
   "execution_count": null,
   "id": "e45d6faf-f049-4253-9d4d-91bb6c4a9131",
   "metadata": {},
   "outputs": [],
   "source": []
  },
  {
   "cell_type": "code",
   "execution_count": null,
   "id": "4adcf997-87f4-4428-bdeb-6cc35b5c5a30",
   "metadata": {},
   "outputs": [],
   "source": []
  },
  {
   "cell_type": "code",
   "execution_count": null,
   "id": "a6209e26-d97f-4d1d-a08f-faf1ddd68d64",
   "metadata": {},
   "outputs": [],
   "source": []
  },
  {
   "cell_type": "code",
   "execution_count": null,
   "id": "33eea6a6-ac6b-4bef-802e-1bb2305a61a7",
   "metadata": {},
   "outputs": [],
   "source": []
  },
  {
   "cell_type": "code",
   "execution_count": null,
   "id": "4c8ecb85-61bb-4035-9872-52be87cc63b1",
   "metadata": {},
   "outputs": [],
   "source": []
  },
  {
   "cell_type": "code",
   "execution_count": null,
   "id": "cfe34f2b-0866-4833-941b-06feb4c50ade",
   "metadata": {},
   "outputs": [],
   "source": []
  },
  {
   "cell_type": "markdown",
   "id": "bde31577-231e-4af9-8985-d983cfa96a47",
   "metadata": {},
   "source": [
    "## Loss stuff"
   ]
  },
  {
   "cell_type": "code",
   "execution_count": null,
   "id": "3e4bf5ef-ddc2-4640-b6a4-36cab60ef250",
   "metadata": {},
   "outputs": [],
   "source": []
  },
  {
   "cell_type": "code",
   "execution_count": null,
   "id": "78c114e8-5d73-450a-8ce7-1a6558b71a51",
   "metadata": {},
   "outputs": [],
   "source": []
  },
  {
   "cell_type": "code",
   "execution_count": null,
   "id": "5bf1781c-0f58-4b03-864f-7c7647360ce0",
   "metadata": {},
   "outputs": [],
   "source": []
  },
  {
   "cell_type": "code",
   "execution_count": 98,
   "id": "ec383c69-368f-413b-986a-3065e0a63a2e",
   "metadata": {
    "scrolled": true
   },
   "outputs": [
    {
     "data": {
      "text/plain": [
       "tensor(0.0797, device='cuda:0', grad_fn=<SmoothL1LossBackward0>)"
      ]
     },
     "execution_count": 98,
     "metadata": {},
     "output_type": "execute_result"
    }
   ],
   "source": [
    "loss_fnc(gt_motion , pred_motion)"
   ]
  },
  {
   "cell_type": "code",
   "execution_count": 99,
   "id": "01f23ca6-bbdb-48f9-babc-fdda3a19b96f",
   "metadata": {},
   "outputs": [
    {
     "data": {
      "text/plain": [
       "tensor(0.9561, device='cuda:0', grad_fn=<AddBackward0>)"
      ]
     },
     "execution_count": 99,
     "metadata": {},
     "output_type": "execute_result"
    }
   ],
   "source": [
    "loss_fnc(gt_motion , pred_motion , simple = False)"
   ]
  },
  {
   "cell_type": "code",
   "execution_count": 26,
   "id": "e0aa3ec3-0dfe-4dbc-bc85-69b0fadae77a",
   "metadata": {
    "scrolled": true
   },
   "outputs": [],
   "source": [
    "params_gt = torch.split(gt_motion, [4, 153, 156, 4], -1)"
   ]
  },
  {
   "cell_type": "code",
   "execution_count": 72,
   "id": "5ec7cec8-67cc-4650-9c22-7738751c6023",
   "metadata": {},
   "outputs": [],
   "source": [
    "params_pred = torch.split(pred_motion, [4, 153, 156, 4], -1)"
   ]
  },
  {
   "cell_type": "code",
   "execution_count": 37,
   "id": "19dd2940-8d6c-46b2-a84c-63a0fd79097b",
   "metadata": {
    "scrolled": true
   },
   "outputs": [
    {
     "data": {
      "text/plain": [
       "tensor([[1., 1.],\n",
       "        [1., 1.],\n",
       "        [1., 1.],\n",
       "        [1., 1.],\n",
       "        [1., 1.],\n",
       "        [1., 1.],\n",
       "        [1., 1.],\n",
       "        [1., 1.],\n",
       "        [1., 1.],\n",
       "        [1., 1.],\n",
       "        [1., 1.],\n",
       "        [1., 1.],\n",
       "        [1., 1.],\n",
       "        [1., 1.],\n",
       "        [1., 1.],\n",
       "        [1., 1.],\n",
       "        [1., 1.],\n",
       "        [1., 1.],\n",
       "        [1., 1.],\n",
       "        [1., 1.],\n",
       "        [1., 1.],\n",
       "        [1., 1.],\n",
       "        [1., 1.],\n",
       "        [1., 1.],\n",
       "        [1., 1.],\n",
       "        [1., 1.],\n",
       "        [1., 1.],\n",
       "        [1., 1.],\n",
       "        [1., 1.],\n",
       "        [1., 1.],\n",
       "        [1., 1.],\n",
       "        [1., 1.],\n",
       "        [1., 1.],\n",
       "        [1., 1.],\n",
       "        [1., 1.],\n",
       "        [1., 1.],\n",
       "        [1., 1.],\n",
       "        [1., 1.],\n",
       "        [1., 1.],\n",
       "        [1., 1.],\n",
       "        [1., 1.],\n",
       "        [1., 1.],\n",
       "        [1., 1.],\n",
       "        [1., 1.],\n",
       "        [1., 1.],\n",
       "        [1., 1.],\n",
       "        [1., 1.],\n",
       "        [1., 1.],\n",
       "        [1., 1.],\n",
       "        [1., 1.],\n",
       "        [1., 1.],\n",
       "        [1., 1.],\n",
       "        [1., 1.],\n",
       "        [1., 1.],\n",
       "        [1., 1.],\n",
       "        [1., 1.],\n",
       "        [1., 1.],\n",
       "        [1., 1.],\n",
       "        [1., 1.],\n",
       "        [1., 1.],\n",
       "        [1., 1.],\n",
       "        [1., 1.],\n",
       "        [1., 1.],\n",
       "        [1., 1.],\n",
       "        [0., 0.],\n",
       "        [0., 0.],\n",
       "        [0., 0.],\n",
       "        [0., 0.],\n",
       "        [0., 0.],\n",
       "        [0., 0.],\n",
       "        [0., 0.],\n",
       "        [0., 0.],\n",
       "        [0., 0.],\n",
       "        [1., 0.],\n",
       "        [1., 1.],\n",
       "        [1., 1.],\n",
       "        [1., 1.],\n",
       "        [1., 1.],\n",
       "        [1., 1.],\n",
       "        [1., 1.],\n",
       "        [1., 1.],\n",
       "        [1., 1.],\n",
       "        [1., 1.],\n",
       "        [1., 1.],\n",
       "        [1., 1.],\n",
       "        [1., 1.],\n",
       "        [1., 1.],\n",
       "        [1., 1.],\n",
       "        [1., 1.],\n",
       "        [1., 1.],\n",
       "        [1., 1.],\n",
       "        [1., 1.],\n",
       "        [1., 1.],\n",
       "        [1., 1.],\n",
       "        [1., 1.],\n",
       "        [1., 1.],\n",
       "        [1., 1.],\n",
       "        [1., 1.],\n",
       "        [1., 1.],\n",
       "        [1., 1.],\n",
       "        [1., 1.],\n",
       "        [1., 1.],\n",
       "        [1., 1.],\n",
       "        [0., 0.],\n",
       "        [0., 0.],\n",
       "        [0., 0.],\n",
       "        [0., 0.],\n",
       "        [0., 0.],\n",
       "        [0., 0.],\n",
       "        [0., 0.],\n",
       "        [0., 0.],\n",
       "        [0., 0.],\n",
       "        [0., 0.],\n",
       "        [0., 0.],\n",
       "        [1., 1.],\n",
       "        [1., 1.],\n",
       "        [1., 1.],\n",
       "        [1., 1.],\n",
       "        [1., 1.],\n",
       "        [1., 1.]], device='cuda:0')"
      ]
     },
     "execution_count": 37,
     "metadata": {},
     "output_type": "execute_result"
    }
   ],
   "source": [
    "params_gt[-1][2][:,:2]"
   ]
  },
  {
   "cell_type": "code",
   "execution_count": 29,
   "id": "55e0bbc0-999e-4b31-b05c-34810d39361d",
   "metadata": {},
   "outputs": [],
   "source": []
  },
  {
   "cell_type": "code",
   "execution_count": 48,
   "id": "9f26296d-fcd3-47d3-b83b-ad07ebb42a5b",
   "metadata": {},
   "outputs": [
    {
     "data": {
      "text/plain": [
       "torch.Size([4, 120, 52, 3])"
      ]
     },
     "execution_count": 48,
     "metadata": {},
     "output_type": "execute_result"
    }
   ],
   "source": []
  },
  {
   "cell_type": "code",
   "execution_count": 93,
   "id": "c1f2c070-6263-435e-9254-372d921815d2",
   "metadata": {},
   "outputs": [],
   "source": [
    "fid_r, fid_l = [8, 11], [7, 10]\n",
    "vel = params_gt[-2].contiguous().view(params_gt[-2].shape[:2] + (52 , 3))\n",
    "pred_cl = (torch.sum(vel[: , : , fid_l]**2 , dim = -1)  - 0.002)\n",
    "pred_cr = (torch.sum(vel[: , : , fid_r]**2 , dim = -1)   - 0.002 )\n",
    "pred_c = torch.cat([pred_cl , pred_cr] , -1) "
   ]
  },
  {
   "cell_type": "code",
   "execution_count": 94,
   "id": "ce411107-6815-4775-9d32-313ab9ef0d51",
   "metadata": {},
   "outputs": [],
   "source": [
    "vel2 = params_pred[-2].contiguous().view(params_pred[-2].shape[:2] + (52 , 3))\n",
    "pred_cl2 = (torch.sum(vel2[: , : , fid_l]**2 , dim = -1)  - 0.002)\n",
    "pred_cr2 = (torch.sum(vel2[: , : , fid_r]**2 , dim = -1)   - 0.002 )\n",
    "pred_c2 = torch.cat([pred_cl2 , pred_cr2] , -1) "
   ]
  },
  {
   "cell_type": "code",
   "execution_count": 90,
   "id": "e7afe496-21af-41fe-8a8e-5825f86ee90b",
   "metadata": {},
   "outputs": [
    {
     "data": {
      "text/plain": [
       "torch.Size([4, 120, 4])"
      ]
     },
     "execution_count": 90,
     "metadata": {},
     "output_type": "execute_result"
    }
   ],
   "source": [
    "pred_c.shape"
   ]
  },
  {
   "cell_type": "code",
   "execution_count": 92,
   "id": "8a684c36-54aa-417a-b688-7755e0828f0f",
   "metadata": {},
   "outputs": [
    {
     "data": {
      "text/plain": [
       "tensor([[0.1362, 0.1337, 0.1417, 0.1486],\n",
       "        [0.1257, 0.1235, 0.1333, 0.1287],\n",
       "        [0.1212, 0.1203, 0.1368, 0.1244],\n",
       "        [0.1205, 0.1205, 0.2200, 0.1857],\n",
       "        [0.1227, 0.1211, 0.5022, 0.4564],\n",
       "        [0.1243, 0.1220, 0.7181, 0.7111],\n",
       "        [0.1297, 0.1231, 0.8875, 0.9029],\n",
       "        [0.1262, 0.1220, 0.9042, 0.9424],\n",
       "        [0.1218, 0.1212, 0.9466, 0.9769],\n",
       "        [0.1228, 0.1199, 0.9726, 0.9917],\n",
       "        [0.1261, 0.1198, 0.9896, 0.9977],\n",
       "        [0.1254, 0.1202, 0.9889, 0.9973],\n",
       "        [0.1250, 0.1213, 0.9884, 0.9969],\n",
       "        [0.1224, 0.1206, 0.9422, 0.9743],\n",
       "        [0.1200, 0.1202, 0.7925, 0.8594],\n",
       "        [0.1210, 0.1205, 0.6797, 0.7429],\n",
       "        [0.1223, 0.1214, 0.5596, 0.6007],\n",
       "        [0.1225, 0.1295, 0.2403, 0.2365],\n",
       "        [0.1314, 0.1492, 0.1412, 0.1275],\n",
       "        [0.1254, 0.1372, 0.1253, 0.1219],\n",
       "        [0.1217, 0.1282, 0.1207, 0.1242],\n",
       "        [0.1323, 0.1215, 0.1313, 0.1201],\n",
       "        [0.1897, 0.1448, 0.1773, 0.1306],\n",
       "        [0.1626, 0.1378, 0.1313, 0.1200],\n",
       "        [0.1664, 0.1608, 0.1193, 0.1364],\n",
       "        [0.1896, 0.1805, 0.1194, 0.1254],\n",
       "        [0.2288, 0.2226, 0.1198, 0.1207],\n",
       "        [0.2153, 0.2025, 0.1196, 0.1210],\n",
       "        [0.2037, 0.1872, 0.1196, 0.1216],\n",
       "        [0.2157, 0.2008, 0.1199, 0.1211],\n",
       "        [0.2308, 0.2174, 0.1207, 0.1208],\n",
       "        [0.1678, 0.1565, 0.1201, 0.1202],\n",
       "        [0.1360, 0.1281, 0.1197, 0.1201],\n",
       "        [0.1430, 0.1318, 0.1200, 0.1206],\n",
       "        [0.1531, 0.1372, 0.1212, 0.1209],\n",
       "        [0.1311, 0.1237, 0.1217, 0.1193],\n",
       "        [0.1216, 0.1201, 0.1233, 0.1197],\n",
       "        [0.1201, 0.1219, 0.1264, 0.1196],\n",
       "        [0.1197, 0.1264, 0.1339, 0.1211],\n",
       "        [0.1200, 0.1232, 0.1408, 0.1261],\n",
       "        [0.1217, 0.1236, 0.1531, 0.1350],\n",
       "        [0.1198, 0.1218, 0.1904, 0.1667],\n",
       "        [0.1201, 0.1211, 0.2523, 0.2279],\n",
       "        [0.1209, 0.1209, 0.2948, 0.2963],\n",
       "        [0.1226, 0.1205, 0.3595, 0.4028],\n",
       "        [0.1233, 0.1202, 0.4341, 0.4992],\n",
       "        [0.1237, 0.1204, 0.5137, 0.5995],\n",
       "        [0.1237, 0.1201, 0.6411, 0.7776],\n",
       "        [0.1236, 0.1203, 0.7723, 0.9066],\n",
       "        [0.1226, 0.1206, 0.7632, 0.8937],\n",
       "        [0.1225, 0.1209, 0.7628, 0.8847],\n",
       "        [0.1235, 0.1199, 0.7708, 0.8988],\n",
       "        [0.1247, 0.1197, 0.7983, 0.9197],\n",
       "        [0.1239, 0.1197, 0.6027, 0.7679],\n",
       "        [0.1226, 0.1200, 0.4038, 0.5399],\n",
       "        [0.1206, 0.1198, 0.2088, 0.2456],\n",
       "        [0.1218, 0.1229, 0.1343, 0.1381],\n",
       "        [0.1255, 0.1228, 0.1258, 0.1278],\n",
       "        [0.1365, 0.1261, 0.1211, 0.1216],\n",
       "        [0.1499, 0.1303, 0.1201, 0.1196],\n",
       "        [0.1986, 0.1626, 0.1203, 0.1196],\n",
       "        [0.2186, 0.1991, 0.1197, 0.1192],\n",
       "        [0.2529, 0.2541, 0.1192, 0.1193],\n",
       "        [0.3721, 0.4112, 0.1193, 0.1194],\n",
       "        [0.5563, 0.6473, 0.1197, 0.1196],\n",
       "        [0.8043, 0.8825, 0.1201, 0.1194],\n",
       "        [0.9480, 0.9773, 0.1213, 0.1203],\n",
       "        [0.8894, 0.9407, 0.1206, 0.1199],\n",
       "        [0.7940, 0.8656, 0.1204, 0.1197],\n",
       "        [0.9067, 0.9522, 0.1207, 0.1198],\n",
       "        [0.9658, 0.9864, 0.1220, 0.1195],\n",
       "        [0.9231, 0.9581, 0.1217, 0.1198],\n",
       "        [0.8468, 0.8929, 0.1222, 0.1200],\n",
       "        [0.4750, 0.5093, 0.1220, 0.1195],\n",
       "        [0.2139, 0.2158, 0.1216, 0.1196],\n",
       "        [0.1627, 0.1620, 0.1253, 0.1237],\n",
       "        [0.1351, 0.1339, 0.1383, 0.1367],\n",
       "        [0.1243, 0.1243, 0.1384, 0.1288],\n",
       "        [0.1203, 0.1213, 0.1472, 0.1299],\n",
       "        [0.1202, 0.1219, 0.1444, 0.1306],\n",
       "        [0.1214, 0.1239, 0.1498, 0.1372],\n",
       "        [0.1200, 0.1224, 0.2452, 0.2101],\n",
       "        [0.1200, 0.1212, 0.4706, 0.3957],\n",
       "        [0.1198, 0.1202, 0.5567, 0.5219],\n",
       "        [0.1195, 0.1199, 0.6924, 0.7019],\n",
       "        [0.1196, 0.1202, 0.8245, 0.8729],\n",
       "        [0.1202, 0.1204, 0.9211, 0.9622],\n",
       "        [0.1204, 0.1199, 0.9526, 0.9837],\n",
       "        [0.1206, 0.1199, 0.9770, 0.9942],\n",
       "        [0.1205, 0.1202, 0.9775, 0.9946],\n",
       "        [0.1207, 0.1203, 0.9781, 0.9951],\n",
       "        [0.1209, 0.1199, 0.9457, 0.9817],\n",
       "        [0.1209, 0.1199, 0.8769, 0.9390],\n",
       "        [0.1218, 0.1195, 0.7478, 0.8516],\n",
       "        [0.1226, 0.1193, 0.5813, 0.7072],\n",
       "        [0.1230, 0.1226, 0.2745, 0.3139],\n",
       "        [0.1299, 0.1326, 0.1514, 0.1521],\n",
       "        [0.1297, 0.1262, 0.1300, 0.1306],\n",
       "        [0.1352, 0.1250, 0.1208, 0.1212],\n",
       "        [0.1451, 0.1274, 0.1202, 0.1206],\n",
       "        [0.1676, 0.1407, 0.1226, 0.1244],\n",
       "        [0.2666, 0.2345, 0.1205, 0.1216],\n",
       "        [0.4893, 0.4902, 0.1222, 0.1212],\n",
       "        [0.6212, 0.6695, 0.1215, 0.1209],\n",
       "        [0.7644, 0.8382, 0.1212, 0.1210],\n",
       "        [0.8479, 0.9134, 0.1217, 0.1203],\n",
       "        [0.9115, 0.9589, 0.1233, 0.1204],\n",
       "        [0.9712, 0.9915, 0.1234, 0.1194],\n",
       "        [0.9935, 0.9987, 0.1241, 0.1194],\n",
       "        [0.9872, 0.9966, 0.1221, 0.1197],\n",
       "        [0.9777, 0.9920, 0.1211, 0.1201],\n",
       "        [0.9744, 0.9904, 0.1230, 0.1196],\n",
       "        [0.9710, 0.9885, 0.1262, 0.1195],\n",
       "        [0.8081, 0.8664, 0.1234, 0.1197],\n",
       "        [0.4665, 0.4984, 0.1224, 0.1199],\n",
       "        [0.3338, 0.3396, 0.1259, 0.1201],\n",
       "        [0.2511, 0.2485, 0.1315, 0.1226],\n",
       "        [0.1467, 0.1478, 0.1327, 0.1237],\n",
       "        [0.1207, 0.1238, 0.1364, 0.1275],\n",
       "        [0.1209, 0.1231, 0.1440, 0.1288]], device='cuda:0')"
      ]
     },
     "execution_count": 92,
     "metadata": {},
     "output_type": "execute_result"
    }
   ],
   "source": [
    "nn.functional.sigmoid(1e3*pred_c)[2]"
   ]
  },
  {
   "cell_type": "code",
   "execution_count": 81,
   "id": "48bb3b7e-a010-42a4-b5c4-e9286d4e38b7",
   "metadata": {},
   "outputs": [
    {
     "data": {
      "text/plain": [
       "tensor([[1., 1., 1., 1.],\n",
       "        [1., 1., 1., 1.],\n",
       "        [1., 1., 1., 1.],\n",
       "        [1., 1., 1., 1.],\n",
       "        [1., 1., 0., 1.],\n",
       "        [1., 1., 0., 0.],\n",
       "        [1., 1., 0., 0.],\n",
       "        [1., 1., 0., 0.],\n",
       "        [1., 1., 0., 0.],\n",
       "        [1., 1., 0., 0.],\n",
       "        [1., 1., 0., 0.],\n",
       "        [1., 1., 0., 0.],\n",
       "        [1., 1., 0., 0.],\n",
       "        [1., 1., 0., 0.],\n",
       "        [1., 1., 0., 0.],\n",
       "        [1., 1., 0., 0.],\n",
       "        [1., 1., 0., 0.],\n",
       "        [1., 1., 1., 1.],\n",
       "        [1., 1., 1., 1.],\n",
       "        [1., 1., 1., 1.],\n",
       "        [1., 1., 1., 1.],\n",
       "        [1., 1., 1., 1.],\n",
       "        [1., 1., 1., 1.],\n",
       "        [1., 1., 1., 1.],\n",
       "        [1., 1., 1., 1.],\n",
       "        [1., 1., 1., 1.],\n",
       "        [1., 1., 1., 1.],\n",
       "        [1., 1., 1., 1.],\n",
       "        [1., 1., 1., 1.],\n",
       "        [1., 1., 1., 1.],\n",
       "        [1., 1., 1., 1.],\n",
       "        [1., 1., 1., 1.],\n",
       "        [1., 1., 1., 1.],\n",
       "        [1., 1., 1., 1.],\n",
       "        [1., 1., 1., 1.],\n",
       "        [1., 1., 1., 1.],\n",
       "        [1., 1., 1., 1.],\n",
       "        [1., 1., 1., 1.],\n",
       "        [1., 1., 1., 1.],\n",
       "        [1., 1., 1., 1.],\n",
       "        [1., 1., 1., 1.],\n",
       "        [1., 1., 1., 1.],\n",
       "        [1., 1., 1., 1.],\n",
       "        [1., 1., 1., 1.],\n",
       "        [1., 1., 1., 1.],\n",
       "        [1., 1., 1., 1.],\n",
       "        [1., 1., 0., 0.],\n",
       "        [1., 1., 0., 0.],\n",
       "        [1., 1., 0., 0.],\n",
       "        [1., 1., 0., 0.],\n",
       "        [1., 1., 0., 0.],\n",
       "        [1., 1., 0., 0.],\n",
       "        [1., 1., 0., 0.],\n",
       "        [1., 1., 0., 0.],\n",
       "        [1., 1., 1., 0.],\n",
       "        [1., 1., 1., 1.],\n",
       "        [1., 1., 1., 1.],\n",
       "        [1., 1., 1., 1.],\n",
       "        [1., 1., 1., 1.],\n",
       "        [1., 1., 1., 1.],\n",
       "        [1., 1., 1., 1.],\n",
       "        [1., 1., 1., 1.],\n",
       "        [1., 1., 1., 1.],\n",
       "        [1., 1., 1., 1.],\n",
       "        [0., 0., 1., 1.],\n",
       "        [0., 0., 1., 1.],\n",
       "        [0., 0., 1., 1.],\n",
       "        [0., 0., 1., 1.],\n",
       "        [0., 0., 1., 1.],\n",
       "        [0., 0., 1., 1.],\n",
       "        [0., 0., 1., 1.],\n",
       "        [0., 0., 1., 1.],\n",
       "        [0., 0., 1., 1.],\n",
       "        [1., 0., 1., 1.],\n",
       "        [1., 1., 1., 1.],\n",
       "        [1., 1., 1., 1.],\n",
       "        [1., 1., 1., 1.],\n",
       "        [1., 1., 1., 1.],\n",
       "        [1., 1., 1., 1.],\n",
       "        [1., 1., 1., 1.],\n",
       "        [1., 1., 1., 1.],\n",
       "        [1., 1., 1., 1.],\n",
       "        [1., 1., 1., 1.],\n",
       "        [1., 1., 0., 0.],\n",
       "        [1., 1., 0., 0.],\n",
       "        [1., 1., 0., 0.],\n",
       "        [1., 1., 0., 0.],\n",
       "        [1., 1., 0., 0.],\n",
       "        [1., 1., 0., 0.],\n",
       "        [1., 1., 0., 0.],\n",
       "        [1., 1., 0., 0.],\n",
       "        [1., 1., 0., 0.],\n",
       "        [1., 1., 0., 0.],\n",
       "        [1., 1., 0., 0.],\n",
       "        [1., 1., 0., 0.],\n",
       "        [1., 1., 1., 1.],\n",
       "        [1., 1., 1., 1.],\n",
       "        [1., 1., 1., 1.],\n",
       "        [1., 1., 1., 1.],\n",
       "        [1., 1., 1., 1.],\n",
       "        [1., 1., 1., 1.],\n",
       "        [1., 1., 1., 1.],\n",
       "        [1., 1., 1., 1.],\n",
       "        [0., 0., 1., 1.],\n",
       "        [0., 0., 1., 1.],\n",
       "        [0., 0., 1., 1.],\n",
       "        [0., 0., 1., 1.],\n",
       "        [0., 0., 1., 1.],\n",
       "        [0., 0., 1., 1.],\n",
       "        [0., 0., 1., 1.],\n",
       "        [0., 0., 1., 1.],\n",
       "        [0., 0., 1., 1.],\n",
       "        [0., 0., 1., 1.],\n",
       "        [0., 0., 1., 1.],\n",
       "        [1., 1., 1., 1.],\n",
       "        [1., 1., 1., 1.],\n",
       "        [1., 1., 1., 1.],\n",
       "        [1., 1., 1., 1.],\n",
       "        [1., 1., 1., 1.],\n",
       "        [1., 1., 1., 1.]], device='cuda:0')"
      ]
     },
     "execution_count": 81,
     "metadata": {},
     "output_type": "execute_result"
    }
   ],
   "source": [
    "params_gt[-1][2]"
   ]
  },
  {
   "cell_type": "code",
   "execution_count": 96,
   "id": "f32f458e-b28f-4172-8e2e-7e2b25858006",
   "metadata": {},
   "outputs": [
    {
     "data": {
      "text/plain": [
       "tensor([[0.1678, 0.1771, 0.2791, 0.1244],\n",
       "        [0.1665, 0.1632, 0.3834, 0.1200],\n",
       "        [0.1500, 0.1980, 0.3479, 0.1198],\n",
       "        [0.1480, 0.2139, 0.3985, 0.1206],\n",
       "        [0.1514, 0.2388, 0.4308, 0.1201],\n",
       "        [0.1593, 0.2427, 0.4499, 0.1199],\n",
       "        [0.1589, 0.2473, 0.4625, 0.1198],\n",
       "        [0.1608, 0.2481, 0.4487, 0.1198],\n",
       "        [0.1615, 0.2526, 0.4556, 0.1199],\n",
       "        [0.1597, 0.2612, 0.4654, 0.1203],\n",
       "        [0.1584, 0.2675, 0.4587, 0.1205],\n",
       "        [0.1579, 0.2590, 0.4684, 0.1199],\n",
       "        [0.1597, 0.2693, 0.4740, 0.1201],\n",
       "        [0.1605, 0.2606, 0.4666, 0.1197],\n",
       "        [0.1612, 0.2565, 0.4705, 0.1195],\n",
       "        [0.1591, 0.2685, 0.4773, 0.1207],\n",
       "        [0.1561, 0.2635, 0.4763, 0.1206],\n",
       "        [0.1530, 0.2780, 0.4933, 0.1202],\n",
       "        [0.1549, 0.2664, 0.5009, 0.1204],\n",
       "        [0.1530, 0.2598, 0.4861, 0.1202],\n",
       "        [0.1552, 0.2629, 0.4779, 0.1203],\n",
       "        [0.1529, 0.2580, 0.4669, 0.1199],\n",
       "        [0.1516, 0.2604, 0.4516, 0.1198],\n",
       "        [0.1506, 0.2609, 0.4679, 0.1199],\n",
       "        [0.1491, 0.2606, 0.4730, 0.1199],\n",
       "        [0.1512, 0.2644, 0.4893, 0.1198],\n",
       "        [0.1519, 0.2577, 0.4910, 0.1199],\n",
       "        [0.1516, 0.2598, 0.4804, 0.1198],\n",
       "        [0.1531, 0.2580, 0.4847, 0.1196],\n",
       "        [0.1524, 0.2565, 0.4849, 0.1197],\n",
       "        [0.1530, 0.2601, 0.4889, 0.1197],\n",
       "        [0.1552, 0.2603, 0.5017, 0.1197],\n",
       "        [0.1549, 0.2623, 0.5006, 0.1199],\n",
       "        [0.1523, 0.2658, 0.4995, 0.1200],\n",
       "        [0.1511, 0.2671, 0.5048, 0.1203],\n",
       "        [0.1511, 0.2604, 0.5101, 0.1202],\n",
       "        [0.1490, 0.2619, 0.5157, 0.1201],\n",
       "        [0.1493, 0.2530, 0.5071, 0.1203],\n",
       "        [0.1530, 0.2487, 0.4966, 0.1200],\n",
       "        [0.1527, 0.2555, 0.5013, 0.1203],\n",
       "        [0.1531, 0.2528, 0.4888, 0.1202],\n",
       "        [0.1548, 0.2536, 0.4863, 0.1202],\n",
       "        [0.1547, 0.2560, 0.5019, 0.1202],\n",
       "        [0.1550, 0.2540, 0.4976, 0.1199],\n",
       "        [0.1559, 0.2502, 0.4992, 0.1200],\n",
       "        [0.1544, 0.2480, 0.5045, 0.1200],\n",
       "        [0.1536, 0.2510, 0.5013, 0.1200],\n",
       "        [0.1538, 0.2485, 0.5015, 0.1199],\n",
       "        [0.1537, 0.2498, 0.5025, 0.1202],\n",
       "        [0.1558, 0.2481, 0.5053, 0.1200],\n",
       "        [0.1569, 0.2460, 0.4967, 0.1198],\n",
       "        [0.1558, 0.2484, 0.4948, 0.1198],\n",
       "        [0.1556, 0.2453, 0.4995, 0.1197],\n",
       "        [0.1506, 0.2448, 0.5035, 0.1199],\n",
       "        [0.1484, 0.2484, 0.4979, 0.1202],\n",
       "        [0.1477, 0.2385, 0.4817, 0.1204],\n",
       "        [0.1474, 0.2348, 0.4728, 0.1206],\n",
       "        [0.1483, 0.2343, 0.4765, 0.1204],\n",
       "        [0.1505, 0.2321, 0.4714, 0.1205],\n",
       "        [0.1510, 0.2345, 0.4732, 0.1202],\n",
       "        [0.1510, 0.2365, 0.4694, 0.1202],\n",
       "        [0.1519, 0.2319, 0.4699, 0.1203],\n",
       "        [0.1509, 0.2344, 0.4702, 0.1202],\n",
       "        [0.1527, 0.2363, 0.4709, 0.1203],\n",
       "        [0.1524, 0.2357, 0.4715, 0.1206],\n",
       "        [0.1533, 0.2367, 0.4919, 0.1210],\n",
       "        [0.1518, 0.2371, 0.4921, 0.1218],\n",
       "        [0.1515, 0.2413, 0.4921, 0.1224],\n",
       "        [0.1490, 0.2487, 0.4970, 0.1221],\n",
       "        [0.1482, 0.2494, 0.4805, 0.1220],\n",
       "        [0.1494, 0.2484, 0.4814, 0.1224],\n",
       "        [0.1486, 0.2581, 0.4892, 0.1225],\n",
       "        [0.1508, 0.2531, 0.4778, 0.1222],\n",
       "        [0.1524, 0.2527, 0.4765, 0.1226],\n",
       "        [0.1525, 0.2522, 0.4769, 0.1221],\n",
       "        [0.1534, 0.2431, 0.4541, 0.1218],\n",
       "        [0.1538, 0.2453, 0.4588, 0.1218],\n",
       "        [0.1495, 0.2497, 0.4650, 0.1215],\n",
       "        [0.1464, 0.2495, 0.4593, 0.1213],\n",
       "        [0.1474, 0.2488, 0.4695, 0.1211],\n",
       "        [0.1482, 0.2418, 0.4596, 0.1215],\n",
       "        [0.1499, 0.2382, 0.4661, 0.1216],\n",
       "        [0.1528, 0.2359, 0.4813, 0.1222],\n",
       "        [0.1509, 0.2412, 0.4888, 0.1234],\n",
       "        [0.1467, 0.2424, 0.4817, 0.1238],\n",
       "        [0.1460, 0.2399, 0.4803, 0.1234],\n",
       "        [0.1468, 0.2376, 0.4790, 0.1233],\n",
       "        [0.1470, 0.2481, 0.4957, 0.1228],\n",
       "        [0.1535, 0.2458, 0.4732, 0.1219],\n",
       "        [0.1571, 0.2519, 0.4607, 0.1225],\n",
       "        [0.1556, 0.2510, 0.4645, 0.1226],\n",
       "        [0.1596, 0.2321, 0.4381, 0.1221],\n",
       "        [0.1572, 0.2239, 0.4603, 0.1235],\n",
       "        [0.1535, 0.2227, 0.4561, 0.1237],\n",
       "        [0.1522, 0.2303, 0.4458, 0.1226],\n",
       "        [0.1527, 0.2370, 0.4564, 0.1227],\n",
       "        [0.1537, 0.2410, 0.4473, 0.1227],\n",
       "        [0.1545, 0.2383, 0.4582, 0.1225],\n",
       "        [0.1537, 0.2388, 0.4609, 0.1231],\n",
       "        [0.1543, 0.2401, 0.4552, 0.1232],\n",
       "        [0.1527, 0.2409, 0.4812, 0.1232],\n",
       "        [0.1517, 0.2507, 0.4922, 0.1230],\n",
       "        [0.1515, 0.2511, 0.4926, 0.1224],\n",
       "        [0.1512, 0.2493, 0.4759, 0.1224],\n",
       "        [0.1530, 0.2508, 0.4726, 0.1219],\n",
       "        [0.1569, 0.2470, 0.4544, 0.1227],\n",
       "        [0.1566, 0.2440, 0.4648, 0.1236],\n",
       "        [0.1564, 0.2539, 0.4780, 0.1242],\n",
       "        [0.1564, 0.2480, 0.4759, 0.1249],\n",
       "        [0.1539, 0.2461, 0.4772, 0.1251],\n",
       "        [0.1539, 0.2432, 0.4762, 0.1242],\n",
       "        [0.1556, 0.2420, 0.4613, 0.1244],\n",
       "        [0.1552, 0.2416, 0.4704, 0.1245],\n",
       "        [0.1514, 0.2566, 0.4781, 0.1266],\n",
       "        [0.1528, 0.2533, 0.4675, 0.1276],\n",
       "        [0.1518, 0.2627, 0.4479, 0.1298],\n",
       "        [0.1558, 0.2484, 0.4006, 0.1306],\n",
       "        [0.1396, 0.2522, 0.4550, 0.1304],\n",
       "        [0.1399, 0.1874, 0.3352, 0.1284],\n",
       "        [0.1615, 0.1789, 0.2703, 0.1529]], device='cuda:0',\n",
       "       grad_fn=<SelectBackward0>)"
      ]
     },
     "execution_count": 96,
     "metadata": {},
     "output_type": "execute_result"
    }
   ],
   "source": [
    "nn.functional.sigmoid(1e3*pred_c2)[2]"
   ]
  },
  {
   "cell_type": "code",
   "execution_count": 95,
   "id": "5b8faa84-ac7e-43bf-bd99-2426159044ae",
   "metadata": {},
   "outputs": [
    {
     "data": {
      "text/plain": [
       "tensor(1.4711, device='cuda:0',\n",
       "       grad_fn=<BinaryCrossEntropyWithLogitsBackward0>)"
      ]
     },
     "execution_count": 95,
     "metadata": {},
     "output_type": "execute_result"
    }
   ],
   "source": [
    "nn.functional.binary_cross_entropy_with_logits(1e3*pred_c2 , params_gt[-1] )"
   ]
  },
  {
   "cell_type": "code",
   "execution_count": null,
   "id": "d7f1d816-bf78-40ef-85fe-91f4126ca2bc",
   "metadata": {},
   "outputs": [],
   "source": []
  },
  {
   "cell_type": "code",
   "execution_count": null,
   "id": "29465e0b-93b9-408d-b14b-bab58369c616",
   "metadata": {},
   "outputs": [],
   "source": []
  },
  {
   "cell_type": "code",
   "execution_count": null,
   "id": "b4acfe2e-a24f-4699-a8a6-f997171fd9e0",
   "metadata": {},
   "outputs": [],
   "source": []
  },
  {
   "cell_type": "code",
   "execution_count": null,
   "id": "2d0db6e9-4893-4ca4-b358-3f7cb24cfa65",
   "metadata": {},
   "outputs": [],
   "source": []
  },
  {
   "cell_type": "code",
   "execution_count": null,
   "id": "97659733-ba6c-441e-a739-15a7cec8c502",
   "metadata": {},
   "outputs": [],
   "source": []
  },
  {
   "cell_type": "code",
   "execution_count": null,
   "id": "ca9069a5-8627-4c88-afe3-9aa0dec7a7ed",
   "metadata": {},
   "outputs": [],
   "source": []
  },
  {
   "cell_type": "code",
   "execution_count": null,
   "id": "79fc2692-aaa6-41d0-8329-aaee498d3a8b",
   "metadata": {},
   "outputs": [],
   "source": []
  },
  {
   "cell_type": "code",
   "execution_count": 62,
   "id": "ba2d0ec9-8da4-42b4-bd54-327ec9f0898d",
   "metadata": {},
   "outputs": [],
   "source": [
    "train_ds.datasets[0].render_hml(\n",
    "                    pred_motion[0].detach().cpu(),\n",
    "                    \"/srv/hays-lab/scratch/sanisetty3/music_motion/ATCMG/render/render_test.gif\", from_rotation=True )"
   ]
  },
  {
   "cell_type": "code",
   "execution_count": null,
   "id": "6ac2044c-eae7-444b-b8b3-34d2cab75749",
   "metadata": {},
   "outputs": [],
   "source": []
  },
  {
   "cell_type": "code",
   "execution_count": 59,
   "id": "e1e2c9ab-f509-45d7-adde-1b1733f9f7ba",
   "metadata": {
    "scrolled": true
   },
   "outputs": [],
   "source": [
    "# !python train_vqvae.py"
   ]
  },
  {
   "cell_type": "code",
   "execution_count": null,
   "id": "1800494d-6df8-4218-b1aa-a01ce8cb13ef",
   "metadata": {},
   "outputs": [],
   "source": []
  },
  {
   "cell_type": "code",
   "execution_count": null,
   "id": "1cfe833a-6934-406d-8081-bdae7065f807",
   "metadata": {},
   "outputs": [],
   "source": []
  },
  {
   "cell_type": "code",
   "execution_count": null,
   "id": "3921e614-d9f0-40e7-99fa-485783a09f55",
   "metadata": {},
   "outputs": [],
   "source": []
  },
  {
   "cell_type": "code",
   "execution_count": null,
   "id": "19553381-57f2-4b41-a422-f8f67e208839",
   "metadata": {},
   "outputs": [],
   "source": []
  },
  {
   "cell_type": "markdown",
   "id": "7ec65c91-e4e2-441b-a77c-91156d4bbde6",
   "metadata": {},
   "source": [
    "## Get indices"
   ]
  },
  {
   "cell_type": "code",
   "execution_count": 21,
   "id": "c4cdbd76-0735-4505-b246-2efbdea7a8cd",
   "metadata": {},
   "outputs": [
    {
     "name": "stderr",
     "output_type": "stream",
     "text": [
      "100%|██████████████████████████████████████████████████████████████████████████████████████| 6464/6464 [11:57<00:00,  9.01it/s]\n"
     ]
    }
   ],
   "source": [
    "errors = []\n",
    "for batch in tqdm(dl):\n",
    "    sve = os.path.join(\"/srv/hays-lab/scratch/sanisetty3/motionx/indices/body_gpvc\" , batch[\"names\"][0] )\n",
    "    if os.path.exists(sve):\n",
    "        continue\n",
    "    os.makedirs(os.path.dirname(sve) , exist_ok=True)\n",
    "    try:\n",
    "        if \"g\" in body_cfg.dataset.hml_rep:\n",
    "            l = list(range(0, batch[\"motion\"][0].shape[-1]))\n",
    "            ohprvc = l[:1] + l[3:]\n",
    "            gt_motion = batch[\"motion\"][0][..., ohprvc]\n",
    "        enc_b, inb = get_decoded(body_model , gt_motion.to(device))\n",
    "        np.save(sve , inb.cpu().numpy())\n",
    "    except:\n",
    "        errors.append(batch[\"names\"][0])\n",
    "    "
   ]
  },
  {
   "cell_type": "code",
   "execution_count": 22,
   "id": "3fe123c5-8890-4255-b5e5-ecbb30c9c202",
   "metadata": {},
   "outputs": [
    {
     "data": {
      "text/plain": [
       "9"
      ]
     },
     "execution_count": 22,
     "metadata": {},
     "output_type": "execute_result"
    }
   ],
   "source": [
    "len(errors)"
   ]
  },
  {
   "cell_type": "code",
   "execution_count": null,
   "id": "4e917424-5362-4d7c-b2f0-6c5e8fffaf4b",
   "metadata": {},
   "outputs": [],
   "source": []
  },
  {
   "cell_type": "code",
   "execution_count": null,
   "id": "a1739fab-af55-491f-b7f9-db6ef4fbca7e",
   "metadata": {},
   "outputs": [],
   "source": []
  },
  {
   "cell_type": "code",
   "execution_count": null,
   "id": "4a6ff969-7466-4753-a547-b666685318b2",
   "metadata": {},
   "outputs": [],
   "source": []
  },
  {
   "cell_type": "code",
   "execution_count": null,
   "id": "7a60f753-8497-4786-be1e-da13ad7f8db6",
   "metadata": {},
   "outputs": [],
   "source": []
  },
  {
   "cell_type": "markdown",
   "id": "8c0a5d54-1292-45ae-81f4-88c7493c226c",
   "metadata": {
    "jp-MarkdownHeadingCollapsed": true
   },
   "source": [
    "## Translation"
   ]
  },
  {
   "cell_type": "code",
   "execution_count": 25,
   "id": "3242abfb-7b2f-4518-b29f-59c8b5c23484",
   "metadata": {},
   "outputs": [],
   "source": [
    "from core.datasets.translation_dataset import load_dataset,simple_collate\n",
    "from configs.config import cfg, get_cfg_defaults\n",
    "from core.datasets.conditioner import ConditionProvider\n",
    "from core import MotionRep\n",
    "from core.models.utils import instantiate_from_config, get_obj_from_str\n",
    "import utils.rotation_conversions as geometry\n"
   ]
  },
  {
   "cell_type": "code",
   "execution_count": 7,
   "id": "01fcb21c-8e45-47fb-a2de-15e12f23cf7c",
   "metadata": {},
   "outputs": [],
   "source": [
    "from configs.config_t2o import cfg, get_cfg_defaults"
   ]
  },
  {
   "cell_type": "code",
   "execution_count": 8,
   "id": "a8917607-f65a-46fd-9f6e-206548df10a6",
   "metadata": {},
   "outputs": [],
   "source": [
    "body_cfg = get_cfg_defaults()\n",
    "body_cfg.merge_from_file(\"/srv/hays-lab/scratch/sanisetty3/music_motion/ATCMG/checkpoints/simple_motion_translation/simple_motion_translation.yaml\")"
   ]
  },
  {
   "cell_type": "code",
   "execution_count": 9,
   "id": "6bb750ea-4fe3-4dde-b800-0de77017e33e",
   "metadata": {},
   "outputs": [],
   "source": [
    "dataset_args = body_cfg.dataset\n",
    "model_args = body_cfg.vqvae"
   ]
  },
  {
   "cell_type": "code",
   "execution_count": 16,
   "id": "4534aa3e-75b8-4d58-8d78-30098c02d48e",
   "metadata": {},
   "outputs": [
    {
     "name": "stdout",
     "output_type": "stream",
     "text": [
      "Sync is turned on False\n",
      "loaded model with  0.0796232670545578 tensor([40000.], device='cuda:0') steps\n"
     ]
    }
   ],
   "source": [
    "trans_model = instantiate_from_config(model_args).to(device).eval()\n",
    "trans_model.load(os.path.join(body_cfg.output_dir, \"tcn_model.pt\"))"
   ]
  },
  {
   "cell_type": "code",
   "execution_count": 74,
   "id": "cb22a12c-bfd8-48f9-ac81-8edefdd3a7cb",
   "metadata": {},
   "outputs": [
    {
     "name": "stdout",
     "output_type": "stream",
     "text": [
      "Total number of motions aist: 1140\n",
      "Total number of motions beat: 1454\n"
     ]
    }
   ],
   "source": [
    "train_ds, sampler_train, weights_train = load_dataset(\n",
    "            dataset_names=[\"aist\" , \"beat\"],\n",
    "            dataset_args=body_cfg.dataset,\n",
    "            split=\"train\",\n",
    "        )"
   ]
  },
  {
   "cell_type": "code",
   "execution_count": 76,
   "id": "5f66a315-051b-43d5-bef0-de759b7f5fc0",
   "metadata": {},
   "outputs": [],
   "source": [
    "\n",
    "condition_provider = ConditionProvider(\n",
    "            motion_rep=MotionRep(body_cfg.dataset.motion_rep),\n",
    "            only_motion=True\n",
    "        )\n",
    "train_loader = torch.utils.data.DataLoader(\n",
    "        train_ds,\n",
    "        4,\n",
    "        sampler=sampler_train,\n",
    "        collate_fn=partial(simple_collate , conditioner = condition_provider),\n",
    "    )"
   ]
  },
  {
   "cell_type": "code",
   "execution_count": 65,
   "id": "7c10997f-f43f-4282-a100-f030f7f92dc4",
   "metadata": {},
   "outputs": [],
   "source": [
    "def cossin2quat(r_rot):\n",
    "    mat = torch.zeros(\n",
    "        (\n",
    "            r_rot.shape[:-1]\n",
    "            + (\n",
    "                3,\n",
    "                3,\n",
    "            )\n",
    "        )\n",
    "    ).to(r_rot.device)\n",
    "    mat[..., 1, 1] = 1\n",
    "    mat[..., 0, 0] = r_rot[..., 0]\n",
    "    mat[..., 0, 2] = r_rot[..., 1]\n",
    "    mat[..., 2, 0] = -r_rot[..., 1]\n",
    "    mat[..., 2, 2] = r_rot[..., 0]\n",
    "    r_rot_quat = geometry.matrix_to_quaternion(mat)\n",
    "    return r_rot_quat"
   ]
  },
  {
   "cell_type": "code",
   "execution_count": 77,
   "id": "83d029c2-1af0-4200-b584-96cdba6412d0",
   "metadata": {},
   "outputs": [],
   "source": [
    "for batch in train_loader:\n",
    "    break\n"
   ]
  },
  {
   "cell_type": "code",
   "execution_count": 98,
   "id": "b81b7d2b-3ac6-480c-afa5-6a6c5b16aae8",
   "metadata": {},
   "outputs": [
    {
     "data": {
      "text/plain": [
       "array(['aist/subset_0008/Dance_Middle_Hip-hop_Club_clip_2.npy',\n",
       "       'beat/25_goto_0_81_81.npy',\n",
       "       'aist/subset_0008/Dance_Middle_Hip-hop_Charleston_clip_5.npy',\n",
       "       'beat/1_wayne_0_87_87.npy'], dtype='<U59')"
      ]
     },
     "execution_count": 98,
     "metadata": {},
     "output_type": "execute_result"
    }
   ],
   "source": [
    "batch[\"names\"]"
   ]
  },
  {
   "cell_type": "code",
   "execution_count": 78,
   "id": "94405c10-7287-44c5-b80b-5796d1ef8509",
   "metadata": {},
   "outputs": [],
   "source": [
    "gt_motion = batch[\"motion\"][0].to(device)\n"
   ]
  },
  {
   "cell_type": "code",
   "execution_count": 79,
   "id": "7be15373-4791-4ef8-abc5-eefb8e47242e",
   "metadata": {},
   "outputs": [
    {
     "data": {
      "text/plain": [
       "torch.Size([4, 120, 7])"
      ]
     },
     "execution_count": 79,
     "metadata": {},
     "output_type": "execute_result"
    }
   ],
   "source": [
    "gt_motion.shape"
   ]
  },
  {
   "cell_type": "code",
   "execution_count": 80,
   "id": "ec947d95-7287-4209-9501-50a6f0ec3b04",
   "metadata": {},
   "outputs": [],
   "source": [
    "rel_pos = gt_motion[..., 4:][..., [0, 2]]"
   ]
  },
  {
   "cell_type": "code",
   "execution_count": 81,
   "id": "5ab10cca-000d-4b38-be5f-d81ec9be509d",
   "metadata": {},
   "outputs": [],
   "source": [
    "r_rot = gt_motion[..., :4]\n",
    "r_rot2 = geometry.quaternion_to_matrix(r_rot)[..., [0, 0], [0, 2]]"
   ]
  },
  {
   "cell_type": "code",
   "execution_count": 82,
   "id": "4952877e-6f74-42f9-b977-1d73a7add05d",
   "metadata": {},
   "outputs": [],
   "source": [
    "r_rot_rec = cossin2quat(r_rot2)"
   ]
  },
  {
   "cell_type": "code",
   "execution_count": null,
   "id": "4f033046-3710-4d66-b496-fe02b4958ef8",
   "metadata": {
    "scrolled": true
   },
   "outputs": [],
   "source": []
  },
  {
   "cell_type": "code",
   "execution_count": 101,
   "id": "aa9ed9ed-ba6f-490f-9b58-d3511d75be94",
   "metadata": {},
   "outputs": [],
   "source": []
  },
  {
   "cell_type": "code",
   "execution_count": null,
   "id": "afefce92-acd4-40a2-989f-bfb9e3f7cd00",
   "metadata": {},
   "outputs": [],
   "source": []
  },
  {
   "cell_type": "code",
   "execution_count": null,
   "id": "528c8ed6-93ff-46e5-9d5c-52d63c5048b8",
   "metadata": {},
   "outputs": [],
   "source": []
  },
  {
   "cell_type": "code",
   "execution_count": 94,
   "id": "1a74e044-b787-4b28-9a2e-3635961d5200",
   "metadata": {},
   "outputs": [],
   "source": [
    "with torch.no_grad():\n",
    "    out = trans_model(gt_motion)\n",
    "    pred_traj = out.decoded_motion[...,:2]\n",
    "    pred_orient = out.decoded_motion[...,2:]"
   ]
  },
  {
   "cell_type": "code",
   "execution_count": 91,
   "id": "e2dfd90f-dcc2-45e9-95b3-48f8ed493c0b",
   "metadata": {},
   "outputs": [
    {
     "data": {
      "text/plain": [
       "torch.Size([120, 2])"
      ]
     },
     "execution_count": 91,
     "metadata": {},
     "output_type": "execute_result"
    }
   ],
   "source": [
    "with torch.no_grad():\n",
    "    pred_quat = trans_model.predict(rel_pos)"
   ]
  },
  {
   "cell_type": "code",
   "execution_count": 97,
   "id": "d0fcd74f-9b7f-406b-a4fa-3e44a9cb1739",
   "metadata": {
    "scrolled": true
   },
   "outputs": [
    {
     "data": {
      "text/plain": [
       "[<matplotlib.lines.Line2D at 0x7fda1224e7f0>]"
      ]
     },
     "execution_count": 97,
     "metadata": {},
     "output_type": "execute_result"
    },
    {
     "data": {
      "image/png": "[encoded data removed]",
      "text/plain": [
       "<Figure size 640x480 with 1 Axes>"
      ]
     },
     "metadata": {},
     "output_type": "display_data"
    }
   ],
   "source": [
    "plt.plot(r_rot2[0].cpu()[: , 0] , r_rot2[0].cpu()[: , 1] )"
   ]
  },
  {
   "cell_type": "code",
   "execution_count": 96,
   "id": "8154cd10-7ffd-47b2-b89a-bd17d8e84978",
   "metadata": {},
   "outputs": [
    {
     "data": {
      "text/plain": [
       "[<matplotlib.lines.Line2D at 0x7fda121cab20>]"
      ]
     },
     "execution_count": 96,
     "metadata": {},
     "output_type": "execute_result"
    },
    {
     "data": {
      "image/png": "[encoded data removed]",
      "text/plain": [
       "<Figure size 640x480 with 1 Axes>"
      ]
     },
     "metadata": {},
     "output_type": "display_data"
    }
   ],
   "source": [
    "plt.plot(pred_orient[0].cpu()[: , 0] , pred_orient[0].cpu()[: , 1] )"
   ]
  },
  {
   "cell_type": "code",
   "execution_count": null,
   "id": "15de214e-0191-4cfe-a21c-04e51af1af3c",
   "metadata": {},
   "outputs": [],
   "source": []
  },
  {
   "cell_type": "code",
   "execution_count": null,
   "id": "1e9afc55-0223-4366-9e7a-fdaecb9c300f",
   "metadata": {},
   "outputs": [],
   "source": []
  },
  {
   "cell_type": "code",
   "execution_count": null,
   "id": "71fc5b07-b757-4b4b-b7a1-ade5375629e1",
   "metadata": {},
   "outputs": [],
   "source": []
  }
 ],
 "metadata": {
  "kernelspec": {
   "display_name": "Python 3 (ipykernel)",
   "language": "python",
   "name": "python3"
  },
  "language_info": {
   "codemirror_mode": {
    "name": "ipython",
    "version": 3
   },
   "file_extension": ".py",
   "mimetype": "text/x-python",
   "name": "python",
   "nbconvert_exporter": "python",
   "pygments_lexer": "ipython3",
   "version": "3.9.18"
  }
 },
 "nbformat": 4,
 "nbformat_minor": 5
}
