{
 "cells": [
  {
   "cell_type": "code",
   "execution_count": 1,
   "id": "6c8138b8-714c-4bd5-bc6b-97cc9afa7a3e",
   "metadata": {},
   "outputs": [
    {
     "name": "stdout",
     "output_type": "stream",
     "text": [
      "Using device: cuda\n",
      "\n",
      "NVIDIA GeForce RTX 2080 Ti\n",
      "Memory Usage:\n",
      "Allocated: 0.0 GB\n",
      "Cached:    0.0 GB\n"
     ]
    }
   ],
   "source": [
    "# setting device on GPU if available, else CPU\n",
    "import torch\n",
    "device = torch.device('cuda' if torch.cuda.is_available() else 'cpu')\n",
    "print('Using device:', device)\n",
    "print()\n",
    "\n",
    "#Additional Info when using cuda\n",
    "if device.type == 'cuda':\n",
    "    print(torch.cuda.get_device_name(0))\n",
    "    print('Memory Usage:')\n",
    "    print('Allocated:', round(torch.cuda.memory_allocated(0)/1024**3,1), 'GB')\n",
    "    print('Cached:   ', round(torch.cuda.memory_reserved(0)/1024**3,1), 'GB')\n"
   ]
  },
  {
   "cell_type": "code",
   "execution_count": 2,
   "id": "42e9292e-e925-4197-9b6d-c67ec0534a87",
   "metadata": {},
   "outputs": [],
   "source": [
    "%load_ext autoreload\n",
    "%autoreload 2\n",
    "%matplotlib inline"
   ]
  },
  {
   "cell_type": "code",
   "execution_count": 3,
   "id": "d9e3b77a-d030-46b2-b0cf-8908bb4890fb",
   "metadata": {},
   "outputs": [],
   "source": [
    "from IPython.display import Image\n"
   ]
  },
  {
   "cell_type": "code",
   "execution_count": 4,
   "id": "c5b4be21-bd73-456d-9c1e-a74aa6f2c6e7",
   "metadata": {},
   "outputs": [],
   "source": [
    "import torch\n",
    "import numpy as np\n",
    "import os\n",
    "import torch.nn as nn\n",
    "from tqdm import tqdm\n",
    "import json\n",
    "from functools import partial\n",
    "from torch import einsum, nn\n",
    "import torch.nn.functional as F\n",
    "import matplotlib.pyplot as plt\n",
    "from einops import pack, rearrange, reduce, repeat, unpack\n"
   ]
  },
  {
   "cell_type": "code",
   "execution_count": 8,
   "id": "4d3eec76-3888-498f-9e2e-65946d093030",
   "metadata": {},
   "outputs": [
    {
     "name": "stderr",
     "output_type": "stream",
     "text": [
      "/srv/hays-lab/flash5/sanisetty3/miniconda3/envs/tgm3d/lib/python3.9/site-packages/tqdm/auto.py:21: TqdmWarning: IProgress not found. Please update jupyter and ipywidgets. See https://ipywidgets.readthedocs.io/en/stable/user_install.html\n",
      "  from .autonotebook import tqdm as notebook_tqdm\n"
     ]
    }
   ],
   "source": [
    "from core.datasets.text_encoders import T5Conditioner"
   ]
  },
  {
   "cell_type": "code",
   "execution_count": null,
   "id": "f0786b50-ecf1-4e97-93fc-40f1a878549d",
   "metadata": {},
   "outputs": [],
   "source": [
    "t5 = T5Conditioner(\"t5-large\")"
   ]
  },
  {
   "cell_type": "code",
   "execution_count": null,
   "id": "7741619d-4368-4673-a08a-dc6ef75792f9",
   "metadata": {},
   "outputs": [],
   "source": [
    "sent = \" a man walks forward, to the end of the platform, then turns counterclockwise on his heel, before walking back to his starting point.\""
   ]
  },
  {
   "cell_type": "code",
   "execution_count": null,
   "id": "f2c18b90-2a69-459b-8947-465e3a26e060",
   "metadata": {},
   "outputs": [],
   "source": []
  },
  {
   "cell_type": "code",
   "execution_count": 18,
   "id": "7c1e8a0a-72d5-4ffd-be1e-a30e8cb10d98",
   "metadata": {},
   "outputs": [],
   "source": [
    "tokn = t5.tokenize(sent)\n",
    "embed, msk = t5.get_text_embedding(tokn)"
   ]
  },
  {
   "cell_type": "code",
   "execution_count": null,
   "id": "2fba97d2-2214-4dc9-a716-c7d5cd0791f8",
   "metadata": {},
   "outputs": [],
   "source": []
  },
  {
   "cell_type": "code",
   "execution_count": null,
   "id": "7967e07f-6d65-481c-a0ee-2937b7209891",
   "metadata": {},
   "outputs": [],
   "source": []
  }
 ],
 "metadata": {
  "kernelspec": {
   "display_name": "Python 3 (ipykernel)",
   "language": "python",
   "name": "python3"
  },
  "language_info": {
   "codemirror_mode": {
    "name": "ipython",
    "version": 3
   },
   "file_extension": ".py",
   "mimetype": "text/x-python",
   "name": "python",
   "nbconvert_exporter": "python",
   "pygments_lexer": "ipython3",
   "version": "3.9.18"
  }
 },
 "nbformat": 4,
 "nbformat_minor": 5
}
