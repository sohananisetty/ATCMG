{
 "cells": [
  {
   "cell_type": "code",
   "execution_count": 1,
   "id": "c2a3417b-6e2f-44a9-9c3e-e3dd2a5d82e1",
   "metadata": {},
   "outputs": [
    {
     "name": "stdout",
     "output_type": "stream",
     "text": [
      "Using device: cuda\n",
      "\n",
      "NVIDIA GeForce RTX 2080 Ti\n",
      "Memory Usage:\n",
      "Allocated: 0.0 GB\n",
      "Cached:    0.0 GB\n"
     ]
    }
   ],
   "source": [
    "# setting device on GPU if available, else CPU\n",
    "import torch\n",
    "device = torch.device('cuda' if torch.cuda.is_available() else 'cpu')\n",
    "print('Using device:', device)\n",
    "print()\n",
    "\n",
    "#Additional Info when using cuda\n",
    "if device.type == 'cuda':\n",
    "    print(torch.cuda.get_device_name(0))\n",
    "    print('Memory Usage:')\n",
    "    print('Allocated:', round(torch.cuda.memory_allocated(0)/1024**3,1), 'GB')\n",
    "    print('Cached:   ', round(torch.cuda.memory_reserved(0)/1024**3,1), 'GB')\n",
    "\n",
    "torch.cuda.empty_cache()"
   ]
  },
  {
   "cell_type": "code",
   "execution_count": 2,
   "id": "933ca61c-710c-426e-97ce-b8bb81672fc2",
   "metadata": {},
   "outputs": [],
   "source": [
    "%load_ext autoreload\n",
    "%autoreload 2\n",
    "%matplotlib inline"
   ]
  },
  {
   "cell_type": "code",
   "execution_count": 3,
   "id": "e01cf803-cdec-48e7-a51e-09baaa325b76",
   "metadata": {},
   "outputs": [],
   "source": [
    "import torch\n",
    "import numpy as np\n",
    "import os\n",
    "import torch.nn as nn\n",
    "from tqdm import tqdm\n",
    "import json\n",
    "from functools import partial\n",
    "from torch import einsum, nn\n",
    "import torch.nn.functional as F\n",
    "import matplotlib.pyplot as plt\n",
    "from einops import pack, rearrange, reduce, repeat, unpack\n"
   ]
  },
  {
   "cell_type": "code",
   "execution_count": 4,
   "id": "fa6d16d8-352a-4076-a353-ccfac043df06",
   "metadata": {},
   "outputs": [],
   "source": [
    "def findAllFile(base):\n",
    "    file_path = []\n",
    "    for root, ds, fs in os.walk(base, followlinks=True):\n",
    "        for f in fs:\n",
    "            fullname = os.path.join(root, f)\n",
    "            file_path.append(fullname)\n",
    "    return file_path\n",
    "\n"
   ]
  },
  {
   "cell_type": "code",
   "execution_count": 5,
   "id": "022506c3-96ed-4fab-b714-8841c378d1f4",
   "metadata": {},
   "outputs": [],
   "source": [
    "import scipy.ndimage.filters as filters\n",
    "from utils.motion_processing.quaternion import (\n",
    "    cont6d_to_matrix,\n",
    "    cont6d_to_matrix_np,\n",
    "    qbetween_np,\n",
    "    qinv_np,\n",
    "    qmul,\n",
    "    qmul_np,\n",
    "    qrot,\n",
    "    qrot_np,\n",
    ")\n"
   ]
  },
  {
   "cell_type": "code",
   "execution_count": 6,
   "id": "6d96ada3-bbf7-4fea-933a-71a5e92737d2",
   "metadata": {},
   "outputs": [],
   "source": [
    "\n",
    "smplx_raw_body_offsets = np.array(\n",
    "    [\n",
    "        [0, 0, 0],  # pelvis\n",
    "        [1, 0, 0],  # left_hip\n",
    "        [-1, 0, 0],  # right_hip\n",
    "        [0, 1, 0],  # spine1\n",
    "        [0, -1, 0],  # left_knee\n",
    "        [0, -1, 0],  # right_knee\n",
    "        [0, 1, 0],  # spine2\n",
    "        [0, -1, 0],  # left_ankle\n",
    "        [0, -1, 0],  # right_ankle\n",
    "        [0, 1, 0],  # spine3\n",
    "        [0, 0, 1],  # left_foot\n",
    "        [0, 0, 1],  # right_foot\n",
    "        [0, 1, 0],  # neck\n",
    "        [1, 0, 0],  # left_collar\n",
    "        [-1, 0, 0],  # right_collar\n",
    "        [0, 0, 1],  # head\n",
    "        [0, -1, 0],  # left_shoulder\n",
    "        [0, -1, 0],  # right_shoulder\n",
    "        [0, -1, 0],  # left_elbow\n",
    "        [0, -1, 0],  # right_elbow\n",
    "        [0, -1, 0],  # left_wrist\n",
    "        [0, -1, 0],  # right_wrist\n",
    "    ]\n",
    ")\n",
    "\n",
    "l_idx1, l_idx2 = 5, 8\n",
    "# Right/Left foot\n",
    "fid_r, fid_l = [8, 11], [7, 10]\n",
    "# Face direction, r_hip, l_hip, sdr_r, sdr_l\n",
    "face_joint_indx = [2, 1, 17, 16]\n",
    "r_hip, l_hip = 2, 1"
   ]
  },
  {
   "cell_type": "code",
   "execution_count": 7,
   "id": "39aa716d-7519-464e-95c0-150bd0597aab",
   "metadata": {},
   "outputs": [
    {
     "name": "stderr",
     "output_type": "stream",
     "text": [
      "/srv/hays-lab/flash5/sanisetty3/miniconda3/envs/tgm3d/lib/python3.9/site-packages/tqdm/auto.py:21: TqdmWarning: IProgress not found. Please update jupyter and ipywidgets. See https://ipywidgets.readthedocs.io/en/stable/user_install.html\n",
      "  from .autonotebook import tqdm as notebook_tqdm\n"
     ]
    }
   ],
   "source": [
    "from core.datasets.vq_dataset import VQSMPLXMotionDataset\n",
    "from core.datasets.vq_dataset import load_dataset, simple_collate\n"
   ]
  },
  {
   "cell_type": "code",
   "execution_count": 9,
   "id": "ab1f2f09-a7e6-42c0-b668-5429a97ce8e7",
   "metadata": {},
   "outputs": [
    {
     "name": "stdout",
     "output_type": "stream",
     "text": [
      "Total number of motions choreomaster: 34\n"
     ]
    }
   ],
   "source": [
    "dset = VQSMPLXMotionDataset(\"choreomaster\" , \"/srv/hays-lab/scratch/sanisetty3/motionx\" ,hml_rep = \"gpvrc\" , window_size_s=4, motion_rep = \"body\", split = \"train\" , fps = 30  )\n"
   ]
  },
  {
   "cell_type": "code",
   "execution_count": null,
   "id": "96d83eb8-22c5-46da-ab4b-b1174bac196c",
   "metadata": {},
   "outputs": [],
   "source": []
  },
  {
   "cell_type": "code",
   "execution_count": null,
   "id": "e336a6d5-5646-4021-9a38-49a38b27db7c",
   "metadata": {},
   "outputs": [],
   "source": []
  },
  {
   "cell_type": "code",
   "execution_count": 46,
   "id": "42c1942c-efe6-4c7b-9bd9-d4409fa22137",
   "metadata": {},
   "outputs": [],
   "source": [
    "from core.datasets.kinematics import smplx_full_kinematic_chain"
   ]
  },
  {
   "cell_type": "code",
   "execution_count": 49,
   "id": "77829e0d-da2a-41cb-8eb6-e113aeffd5cf",
   "metadata": {},
   "outputs": [
    {
     "data": {
      "text/plain": [
       "[[0, 1, 4, 7, 10],\n",
       " [0, 2, 5, 8, 11],\n",
       " [0, 3, 6, 9, 12, 15],\n",
       " [9, 13, 16, 18, 20],\n",
       " [9, 14, 17, 19, 21],\n",
       " [20, 22, 23, 24],\n",
       " [20, 25, 26, 27],\n",
       " [20, 28, 29, 30],\n",
       " [20, 31, 32, 33],\n",
       " [20, 34, 35, 36],\n",
       " [21, 37, 38, 39],\n",
       " [21, 40, 41, 42],\n",
       " [21, 43, 44, 45],\n",
       " [21, 46, 47, 48],\n",
       " [21, 49, 50, 51]]"
      ]
     },
     "execution_count": 49,
     "metadata": {},
     "output_type": "execute_result"
    }
   ],
   "source": [
    "(smplx_full_kinematic_chain)"
   ]
  },
  {
   "cell_type": "code",
   "execution_count": 85,
   "id": "7a63f55f-9428-48b3-9be0-9630dc42810a",
   "metadata": {
    "scrolled": true
   },
   "outputs": [],
   "source": [
    "re_order = [0]\n",
    "for i in smplx_full_kinematic_chain:\n",
    "    re_order.extend(i[1:])"
   ]
  },
  {
   "cell_type": "code",
   "execution_count": 86,
   "id": "e7e292e8-bc56-4a9c-8189-6c7a88c4b2ea",
   "metadata": {
    "scrolled": true
   },
   "outputs": [
    {
     "data": {
      "text/plain": [
       "{0: -1,\n",
       " 1: 0,\n",
       " 4: 1,\n",
       " 7: 2,\n",
       " 10: 3,\n",
       " 2: 0,\n",
       " 5: 5,\n",
       " 8: 6,\n",
       " 11: 7,\n",
       " 3: 0,\n",
       " 6: 9,\n",
       " 9: 10,\n",
       " 12: 11,\n",
       " 15: 12,\n",
       " 13: 11,\n",
       " 16: 14,\n",
       " 18: 15,\n",
       " 20: 16,\n",
       " 14: 17,\n",
       " 17: 18,\n",
       " 19: 19,\n",
       " 21: 17,\n",
       " 22: 21,\n",
       " 23: 22,\n",
       " 24: 17,\n",
       " 25: 24,\n",
       " 26: 25,\n",
       " 27: 17,\n",
       " 28: 27,\n",
       " 29: 28,\n",
       " 30: 17,\n",
       " 31: 30,\n",
       " 32: 31,\n",
       " 33: 11,\n",
       " 34: 33,\n",
       " 35: 34,\n",
       " 36: 35,\n",
       " 37: 36,\n",
       " 38: 37,\n",
       " 39: 38,\n",
       " 40: 36,\n",
       " 41: 40,\n",
       " 42: 41,\n",
       " 43: 36,\n",
       " 44: 43,\n",
       " 45: 44,\n",
       " 46: 36,\n",
       " 47: 46,\n",
       " 48: 47,\n",
       " 49: 36,\n",
       " 50: 49,\n",
       " 51: 50}"
      ]
     },
     "execution_count": 86,
     "metadata": {},
     "output_type": "execute_result"
    }
   ],
   "source": [
    "dict(zip(re_order , template.parents))"
   ]
  },
  {
   "cell_type": "code",
   "execution_count": 75,
   "id": "7e504fa6-a61e-44ad-a214-be061588cf23",
   "metadata": {},
   "outputs": [
    {
     "data": {
      "text/plain": [
       "52"
      ]
     },
     "execution_count": 75,
     "metadata": {},
     "output_type": "execute_result"
    }
   ],
   "source": [
    "len(re_order)"
   ]
  },
  {
   "cell_type": "code",
   "execution_count": 76,
   "id": "6915b227-3d3f-4310-91f5-8c79920d35ad",
   "metadata": {},
   "outputs": [
    {
     "data": {
      "text/plain": [
       "52"
      ]
     },
     "execution_count": 76,
     "metadata": {},
     "output_type": "execute_result"
    }
   ],
   "source": [
    "len(template.parents)"
   ]
  },
  {
   "cell_type": "code",
   "execution_count": 78,
   "id": "571bdf55-69c3-4a5d-bb69-44a113258bf0",
   "metadata": {},
   "outputs": [
    {
     "data": {
      "text/plain": [
       "array([-1,  0,  1,  2,  3,  0,  5,  6,  7,  0,  9, 10, 11, 12, 11, 14, 15,\n",
       "       16, 17, 18, 19, 17, 21, 22, 17, 24, 25, 17, 27, 28, 17, 30, 31, 11,\n",
       "       33, 34, 35, 36, 37, 38, 36, 40, 41, 36, 43, 44, 36, 46, 47, 36, 49,\n",
       "       50])"
      ]
     },
     "execution_count": 78,
     "metadata": {},
     "output_type": "execute_result"
    }
   ],
   "source": [
    "template.parents"
   ]
  },
  {
   "cell_type": "code",
   "execution_count": 84,
   "id": "ec1978b9-5833-4e80-8d24-c6bbfdafcf3c",
   "metadata": {
    "scrolled": true
   },
   "outputs": [
    {
     "data": {
      "text/plain": [
       "{0: -1,\n",
       " 1: 0,\n",
       " 4: 1,\n",
       " 7: 2,\n",
       " 10: 3,\n",
       " 2: 0,\n",
       " 5: 5,\n",
       " 8: 6,\n",
       " 11: 7,\n",
       " 3: 0,\n",
       " 6: 9,\n",
       " 9: 10,\n",
       " 12: 11,\n",
       " 15: 12,\n",
       " 13: 11,\n",
       " 16: 14,\n",
       " 18: 15,\n",
       " 20: 16,\n",
       " 14: 17,\n",
       " 17: 18,\n",
       " 19: 19,\n",
       " 21: 17,\n",
       " 22: 21,\n",
       " 23: 22,\n",
       " 24: 17,\n",
       " 25: 24,\n",
       " 26: 25,\n",
       " 27: 17,\n",
       " 28: 27,\n",
       " 29: 28,\n",
       " 30: 17,\n",
       " 31: 30,\n",
       " 32: 31,\n",
       " 33: 11,\n",
       " 34: 33,\n",
       " 35: 34,\n",
       " 36: 35,\n",
       " 37: 36,\n",
       " 38: 37,\n",
       " 39: 38,\n",
       " 40: 36,\n",
       " 41: 40,\n",
       " 42: 41,\n",
       " 43: 36,\n",
       " 44: 43,\n",
       " 45: 44,\n",
       " 46: 36,\n",
       " 47: 46,\n",
       " 48: 47,\n",
       " 49: 36,\n",
       " 50: 49,\n",
       " 51: 50}"
      ]
     },
     "execution_count": 84,
     "metadata": {},
     "output_type": "execute_result"
    }
   ],
   "source": []
  },
  {
   "cell_type": "code",
   "execution_count": null,
   "id": "dd9b965f-fde1-491a-a5af-f8fc8c15f87c",
   "metadata": {},
   "outputs": [],
   "source": [
    "0,1,4,7,19,2, 5, 8, 11,3, 6, 9, 12, 15,13, 16, 18, 20,22, 23, 24, 25, 26, 27, 28, 29, 30, 31,32,33,34,35,36,14, 17, 19, 21,37, 38, 39,40,41,42,43,44,45,46,47,48,49,50,51"
   ]
  },
  {
   "cell_type": "code",
   "execution_count": null,
   "id": "3df183e3-e079-4485-931e-8188947fe9c2",
   "metadata": {},
   "outputs": [],
   "source": [
    "# pelvis ---> left_hip ---> left_knee ---> left_ankle ---> left_foot 0, 1, 4, 7, 10\n",
    "# pelvis --> right_hip ---> right_knee ---> right_ankle ---> right_foot 0, 2, 5, 8, 11\n",
    "# pelvis ---> spine1 ---> spine2 ---> spine3 ---> neck ---> head 0, 3, 6, 9, 12, 15\n",
    "# spine3 ---> left_collar ---> left_shoulder --->  left_elbow ---> left_wrist 9, 13, 16, 18, 20\n",
    "# spine3 ---> right_collar ---> right_shoulder --->  right_elbow ---> right_wrist  9, 14, 17, 19, 21\n",
    "\n",
    "smplx_kinematic_chain = [\n",
    "    [0, 1, 4, 7, 10],\n",
    "    [0, 2, 5, 8, 11],\n",
    "    [0, 3, 6, 9, 12, 15],\n",
    "    [9, 13, 16, 18, 20],\n",
    "    [9, 14, 17, 19, 21],\n",
    "]\n",
    "\n",
    "# left_wrist ---> left_index1 ---> left_index2 --->left_index3\n",
    "# left_wrist ---> left_middle1 ---> left_middle2 --->left_middle3\n",
    "# left_wrist ---> left_pinky1 ---> left_pinky2 --->left_pinky3\n",
    "# left_wrist ---> left_ring1 ---> left_ring2 --->left_ring3\n",
    "# left_wrist ---> left_thumb1 ---> left_thumb2 --->left_thumb3\n",
    "\n",
    "\n",
    "smplx_left_hand_chain = [\n",
    "    [20, 22, 23, 24],\n",
    "    [20, 25, 26, 27],\n",
    "    [20, 28, 29, 30],\n",
    "    [20, 31, 32, 33],\n",
    "    [20, 34, 35, 36],\n",
    "]\n",
    "\n",
    "# right_wrist ---> right_index1 ---> right_index2 --->right_index3\n",
    "# right_wrist ---> right_middle1 ---> right_middle2 --->right_middle3\n",
    "# right_wrist ---> right_pinky1 ---> right_pinky2 --->right_pinky3\n",
    "# right_wrist ---> right_ring1 ---> right_ring2 --->right_ring3\n",
    "# right_wrist ---> right_thumb1 ---> right_thumb2 --->right_thumb3\n",
    "smplx_right_hand_chain = [\n",
    "    [21, 37, 38, 39],\n",
    "    [21, 40, 41, 42],\n",
    "    [21, 43, 44, 45],\n",
    "    [21, 46, 47, 48],\n",
    "    [21, 49, 50, 51],\n",
    "]\n"
   ]
  },
  {
   "cell_type": "code",
   "execution_count": null,
   "id": "53dc2aa7-df88-44cf-9c36-a826de286239",
   "metadata": {},
   "outputs": [],
   "source": []
  },
  {
   "cell_type": "code",
   "execution_count": null,
   "id": "3623f46a-adb1-4306-8704-c88e922124af",
   "metadata": {},
   "outputs": [],
   "source": []
  },
  {
   "cell_type": "code",
   "execution_count": null,
   "id": "8961b2bd-af57-46ef-bb16-a6d785f85876",
   "metadata": {},
   "outputs": [],
   "source": []
  },
  {
   "cell_type": "code",
   "execution_count": 9,
   "id": "d231714a-de29-4061-b119-94144239cb25",
   "metadata": {},
   "outputs": [
    {
     "name": "stdout",
     "output_type": "stream",
     "text": [
      "The autoreload extension is already loaded. To reload it, use:\n",
      "  %reload_ext autoreload\n"
     ]
    }
   ],
   "source": [
    "%load_ext autoreload\n",
    "%autoreload 2\n",
    "%matplotlib inline"
   ]
  },
  {
   "cell_type": "code",
   "execution_count": 6,
   "id": "fcb63ed3-b40e-4f35-8190-4f18cacc9695",
   "metadata": {},
   "outputs": [],
   "source": [
    "import render_bvh.BVH_mod as BVH\n",
    "from render_bvh.joints2bvh2 import Joint2BVHConvertor"
   ]
  },
  {
   "cell_type": "code",
   "execution_count": 150,
   "id": "e8579db6-d662-441e-8267-03ebefa610b2",
   "metadata": {},
   "outputs": [],
   "source": [
    "from render_bvh.joints2bvh2 import Joint2BVHConvertor\n",
    "converter = Joint2BVHConvertor()\n",
    "template = BVH.load(\"./render_bvh/data/smplx_eulerxyz2.bvh\", need_quater=True)\n"
   ]
  },
  {
   "cell_type": "code",
   "execution_count": 106,
   "id": "2e3633fb-dc44-4a1b-b08a-91637da0af60",
   "metadata": {},
   "outputs": [],
   "source": [
    "re_order = [0]\n",
    "for i in smplx_full_kinematic_chain:\n",
    "    re_order.extend(i[1:])"
   ]
  },
  {
   "cell_type": "code",
   "execution_count": 124,
   "id": "2a9ecc55-1a63-470a-add3-90ddd207d097",
   "metadata": {
    "scrolled": true
   },
   "outputs": [
    {
     "name": "stdout",
     "output_type": "stream",
     "text": [
      "[0, 1, 4, 7, 10, 2, 5, 8, 11, 3, 6, 9, 12, 15, 13, 16, 18, 20, 14, 17, 19, 21, 22, 23, 24, 25, 26, 27, 28, 29, 30, 31, 32, 33, 34, 35, 36, 37, 38, 39, 40, 41, 42, 43, 44, 45, 46, 47, 48, 49, 50, 51]\n"
     ]
    }
   ],
   "source": [
    "print(re_order)"
   ]
  },
  {
   "cell_type": "code",
   "execution_count": 123,
   "id": "e5c6d750-ee38-4b9c-92c9-9c407db0ad4f",
   "metadata": {},
   "outputs": [
    {
     "data": {
      "text/plain": [
       "array([-1,  0,  1,  2,  3,  0,  5,  6,  7,  0,  9, 10, 11, 12, 11, 14, 15,\n",
       "       16, 17, 18, 19, 17, 21, 22, 17, 24, 25, 17, 27, 28, 17, 30, 31, 11,\n",
       "       33, 34, 35, 36, 37, 38, 36, 40, 41, 36, 43, 44, 36, 46, 47, 36, 49,\n",
       "       50])"
      ]
     },
     "execution_count": 123,
     "metadata": {},
     "output_type": "execute_result"
    }
   ],
   "source": [
    "template.parents"
   ]
  },
  {
   "cell_type": "code",
   "execution_count": 125,
   "id": "26851127-5d13-4328-8f03-a71c89bfa073",
   "metadata": {
    "scrolled": true
   },
   "outputs": [
    {
     "name": "stdout",
     "output_type": "stream",
     "text": [
      "[0, 1, 5, 9, 2, 6, 10, 3, 7, 11, 4, 8, 12, 14, 18, 13, 15, 19, 16, 20, 17, 21, 22, 23, 24, 25, 26, 27, 28, 29, 30, 31, 32, 33, 34, 35, 36, 37, 38, 39, 40, 41, 42, 43, 44, 45, 46, 47, 48, 49, 50, 51]\n"
     ]
    }
   ],
   "source": [
    "re_order_inv = list(\n",
    "            dict(sorted(dict(zip(re_order, np.arange(0, 52))).items())).values()\n",
    "        )\n",
    "print(re_order_inv)"
   ]
  },
  {
   "cell_type": "code",
   "execution_count": 149,
   "id": "0aa80741-96d0-4a38-84a1-7f8d41f91b0c",
   "metadata": {},
   "outputs": [],
   "source": [
    "template_og = BVH.load(\"./render_bvh/data/template.bvh\", need_quater=True)"
   ]
  },
  {
   "cell_type": "code",
   "execution_count": 128,
   "id": "b031256f-17cd-43a5-aa7b-376b5e30a4d6",
   "metadata": {},
   "outputs": [
    {
     "data": {
      "text/plain": [
       "[-1, 0, 1, 2, 3, 0, 5, 6, 7, 0, 9, 10, 11, 12, 11, 14, 15, 16, 11, 18, 19, 20]"
      ]
     },
     "execution_count": 128,
     "metadata": {},
     "output_type": "execute_result"
    }
   ],
   "source": [
    "list(template_og.parents)"
   ]
  },
  {
   "cell_type": "code",
   "execution_count": null,
   "id": "8441ddc4-d538-4f95-9f92-bc67171a4724",
   "metadata": {},
   "outputs": [],
   "source": []
  },
  {
   "cell_type": "code",
   "execution_count": 138,
   "id": "382696ee-a2b4-41db-b61e-e399425a9edd",
   "metadata": {},
   "outputs": [],
   "source": [
    "smpl_chain = [0, 1, 4, 7, 10, 0, 2, 5, 8, 11, 0, 3, 6, 9, 12, 15, 9, 13, 16, 18, 20, 9, 14, 17, 19, 21] ##chain"
   ]
  },
  {
   "cell_type": "code",
   "execution_count": 139,
   "id": "a8b69a03-0a5c-4272-9def-457d0a9b98a9",
   "metadata": {},
   "outputs": [],
   "source": [
    "reorder = [0, 1, 4, 7, 10, 2, 5, 8, 11, 3, 6, 9, 12, 15, 13, 16, 18, 20, 14, 17, 19, 21] ##reorder"
   ]
  },
  {
   "cell_type": "code",
   "execution_count": 147,
   "id": "fd213995-7365-4610-b2e3-0038ca9be479",
   "metadata": {},
   "outputs": [
    {
     "name": "stdout",
     "output_type": "stream",
     "text": [
      "['pelvis', 'left_hip', 'left_knee', 'left_ankle', 'left_foot', 'right_hip', 'right_knee', 'right_ankle', 'right_foot', 'spine1', 'spine2', 'spine3', 'neck', 'head', 'left_collar', 'left_shoulder', 'left_elbow', 'left_wrist', 'left_index1', 'left_index2', 'left_index3', 'left_middle1', 'left_middle2', 'left_middle3', 'left_pinky1', 'left_pinky2', 'left_pinky3', 'left_ring1', 'left_ring2', 'left_ring3', 'left_thumb1', 'left_thumb2', 'left_thumb3', 'right_collar', 'right_shoulder', 'right_elbow', 'right_wrist', 'right_index1', 'right_index2', 'right_index3', 'right_middle1', 'right_middle2', 'right_middle3', 'right_pinky1', 'right_pinky2', 'right_pinky3', 'right_ring1', 'right_ring2', 'right_ring3', 'right_thumb1', 'right_thumb2', 'right_thumb3']\n"
     ]
    }
   ],
   "source": [
    "print(template.names)"
   ]
  },
  {
   "cell_type": "code",
   "execution_count": 69,
   "id": "f9f3099c-a112-4b2e-be2e-192cb57b0de7",
   "metadata": {},
   "outputs": [
    {
     "data": {
      "text/plain": [
       "array([-1,  0,  1,  2,  3,  0,  5,  6,  7,  0,  9, 10, 11, 12, 11, 14, 15,\n",
       "       16, 17, 18, 19, 17, 21, 22, 17, 24, 25, 17, 27, 28, 17, 30, 31, 11,\n",
       "       33, 34, 35, 36, 37, 38, 36, 40, 41, 36, 43, 44, 36, 46, 47, 36, 49,\n",
       "       50])"
      ]
     },
     "execution_count": 69,
     "metadata": {},
     "output_type": "execute_result"
    }
   ],
   "source": [
    "template.parents"
   ]
  },
  {
   "cell_type": "code",
   "execution_count": null,
   "id": "3508fe2d-950c-4377-b087-850116ebb0de",
   "metadata": {},
   "outputs": [],
   "source": [
    "# pelvis --> right_hip ---> right_knee ---> right_ankle ---> right_foot 0, 2, 5, 8, 11\n",
    "# pelvis ---> left_hip ---> left_knee ---> left_ankle ---> left_foot 0, 1, 4, 7, 10\n",
    "# pelvis ---> spine1 ---> spine2 ---> spine3 ---> neck ---> head 0, 3, 6, 9, 12, 15\n",
    "# spine3 ---> right_collar ---> right_shoulder --->  right_elbow ---> right_wrist  9, 14, 17, 19, 21\n",
    "# spine3 ---> left_collar ---> left_shoulder --->  left_elbow ---> left_wrist 9, 13, 16, 18, 20\n",
    "\n",
    "smplx_kinematic_chain = [\n",
    "    [0, 1, 4, 7, 10],\n",
    "    [0, 2, 5, 8, 11],\n",
    "    [0, 3, 6, 9, 12, 15],\n",
    "    [9, 13, 16, 18, 20],\n",
    "    [9, 14, 17, 19, 21],\n",
    "]"
   ]
  },
  {
   "cell_type": "code",
   "execution_count": null,
   "id": "b790959a-955d-491e-909d-789359eb86c4",
   "metadata": {},
   "outputs": [],
   "source": []
  },
  {
   "cell_type": "code",
   "execution_count": null,
   "id": "921f8e7b-4b78-45e9-a12c-e91cde63f043",
   "metadata": {},
   "outputs": [],
   "source": []
  },
  {
   "cell_type": "code",
   "execution_count": 15,
   "id": "d6078598-6211-4cdf-b0b0-b302a7ecd4ce",
   "metadata": {},
   "outputs": [],
   "source": [
    "from core.datasets.vq_dataset import VQSMPLXMotionDataset\n",
    "from core.datasets.vq_dataset import load_dataset, simple_collate\n",
    "import render_bvh.BVH_mod as BVH\n"
   ]
  },
  {
   "cell_type": "code",
   "execution_count": 62,
   "id": "33b35df2-b758-4025-80a0-24e4f012e1a6",
   "metadata": {},
   "outputs": [
    {
     "name": "stdout",
     "output_type": "stream",
     "text": [
      "Total number of motions choreomaster: 34\n"
     ]
    }
   ],
   "source": [
    "dset = VQSMPLXMotionDataset(\"choreomaster\" , \"/srv/hays-lab/scratch/sanisetty3/motionx\" ,hml_rep = \"gpvc\" , window_size=-1, motion_rep = \"body\", split = \"train\" , fps = 30  )\n"
   ]
  },
  {
   "cell_type": "code",
   "execution_count": 63,
   "id": "ea766ca3-88cd-4c46-9f32-4f6214cf8656",
   "metadata": {},
   "outputs": [
    {
     "name": "stdout",
     "output_type": "stream",
     "text": [
      "choreomaster/5034.npy\n"
     ]
    }
   ],
   "source": [
    "\n",
    "motion  = dset[12][\"motion\"]\n",
    "print(dset[12][\"name\"])\n",
    "motion_inv = dset.inv_transform(motion)\n",
    "motion_xyz = dset.to_xyz(motion_inv)[:300]"
   ]
  },
  {
   "cell_type": "code",
   "execution_count": 64,
   "id": "17e9310e-2dbc-4acd-9dd5-d2ba5a146377",
   "metadata": {},
   "outputs": [
    {
     "data": {
      "text/plain": [
       "torch.Size([300, 22, 3])"
      ]
     },
     "execution_count": 64,
     "metadata": {},
     "output_type": "execute_result"
    }
   ],
   "source": [
    "motion_xyz.shape"
   ]
  },
  {
   "cell_type": "code",
   "execution_count": 65,
   "id": "1d95b188-f8e0-4e2e-b98a-aa9af9d9666b",
   "metadata": {},
   "outputs": [],
   "source": [
    "\n",
    "\n",
    "from render_bvh.joints2bvh import Joint2BVHConvertor\n",
    "converter = Joint2BVHConvertor()\n",
    "template = BVH.load(\"./render_bvh/data/template.bvh\", need_quater=True)\n"
   ]
  },
  {
   "cell_type": "code",
   "execution_count": 66,
   "id": "a26a2df5-af18-4c7f-a92c-156d65cdb383",
   "metadata": {},
   "outputs": [],
   "source": [
    " _, ik_joint = converter.convert(motion_xyz.cpu().numpy(), filename=\"/srv/hays-lab/scratch/sanisetty3/music_motion/ATCMG/render_bvh/data/template_render.bvh\", iterations=10, foot_ik = False)"
   ]
  },
  {
   "cell_type": "code",
   "execution_count": 79,
   "id": "49a5b3b8-8137-43e1-926e-1a4fb8cc1132",
   "metadata": {},
   "outputs": [],
   "source": [
    "\n",
    "\n",
    "from render_bvh.joints2bvh import Joint2BVHConvertor\n",
    "converter = Joint2BVHConvertor(\"./render_bvh/data/smplx_body.bvh\")\n",
    "# template = BVH.load(\"./render_bvh/data/smplx_body.bvh\", need_quater=True)\n"
   ]
  },
  {
   "cell_type": "code",
   "execution_count": 80,
   "id": "142a7ce7-502f-4556-b543-7cebc5a83a13",
   "metadata": {},
   "outputs": [],
   "source": [
    "_, ik_joint = converter.convert(motion_xyz.cpu().numpy(), filename=\"/srv/hays-lab/scratch/sanisetty3/music_motion/ATCMG/render_bvh/data/smplx_body_render.bvh\", iterations=10, foot_ik = False)"
   ]
  },
  {
   "cell_type": "code",
   "execution_count": null,
   "id": "53b8d313-b3c0-4f59-b017-b934b07ce5ea",
   "metadata": {},
   "outputs": [],
   "source": []
  },
  {
   "cell_type": "code",
   "execution_count": null,
   "id": "a71a4606-5b4b-4dbb-9e80-b77b721fb519",
   "metadata": {},
   "outputs": [],
   "source": []
  },
  {
   "cell_type": "code",
   "execution_count": 69,
   "id": "c55e2565-1f41-4fd1-8777-a4d0f93a16d9",
   "metadata": {},
   "outputs": [
    {
     "ename": "IndexError",
     "evalue": "index 22 is out of bounds for axis 1 with size 22",
     "output_type": "error",
     "traceback": [
      "\u001b[0;31m---------------------------------------------------------------------------\u001b[0m",
      "\u001b[0;31mIndexError\u001b[0m                                Traceback (most recent call last)",
      "Cell \u001b[0;32mIn[69], line 4\u001b[0m\n\u001b[1;32m      2\u001b[0m converter \u001b[38;5;241m=\u001b[39m Joint2BVHConvertor()\n\u001b[1;32m      3\u001b[0m template \u001b[38;5;241m=\u001b[39m BVH\u001b[38;5;241m.\u001b[39mload(\u001b[38;5;124m\"\u001b[39m\u001b[38;5;124m./render_bvh/data/smplx_body.bvh\u001b[39m\u001b[38;5;124m\"\u001b[39m, need_quater\u001b[38;5;241m=\u001b[39m\u001b[38;5;28;01mTrue\u001b[39;00m)\n\u001b[0;32m----> 4\u001b[0m _, ik_joint \u001b[38;5;241m=\u001b[39m \u001b[43mconverter\u001b[49m\u001b[38;5;241;43m.\u001b[39;49m\u001b[43mconvert\u001b[49m\u001b[43m(\u001b[49m\u001b[43mmotion_xyz\u001b[49m\u001b[38;5;241;43m.\u001b[39;49m\u001b[43mcpu\u001b[49m\u001b[43m(\u001b[49m\u001b[43m)\u001b[49m\u001b[38;5;241;43m.\u001b[39;49m\u001b[43mnumpy\u001b[49m\u001b[43m(\u001b[49m\u001b[43m)\u001b[49m\u001b[43m,\u001b[49m\u001b[43m \u001b[49m\u001b[43mfilename\u001b[49m\u001b[38;5;241;43m=\u001b[39;49m\u001b[38;5;124;43m\"\u001b[39;49m\u001b[38;5;124;43m/srv/hays-lab/scratch/sanisetty3/music_motion/ATCMG/render/smplx_only_body.bvh\u001b[39;49m\u001b[38;5;124;43m\"\u001b[39;49m\u001b[43m,\u001b[49m\u001b[43m \u001b[49m\u001b[43miterations\u001b[49m\u001b[38;5;241;43m=\u001b[39;49m\u001b[38;5;241;43m10\u001b[39;49m\u001b[43m,\u001b[49m\u001b[43m \u001b[49m\u001b[43mfoot_ik\u001b[49m\u001b[43m \u001b[49m\u001b[38;5;241;43m=\u001b[39;49m\u001b[43m \u001b[49m\u001b[38;5;28;43;01mFalse\u001b[39;49;00m\u001b[43m)\u001b[49m\n",
      "File \u001b[0;32m/coc/scratch/sanisetty3/music_motion/ATCMG/render_bvh/joints2bvh2.py:194\u001b[0m, in \u001b[0;36mJoint2BVHConvertor.convert\u001b[0;34m(self, positions, filename, iterations, foot_ik)\u001b[0m\n\u001b[1;32m    185\u001b[0m \u001b[38;5;28;01mdef\u001b[39;00m \u001b[38;5;21mconvert\u001b[39m(\u001b[38;5;28mself\u001b[39m, positions, filename, iterations\u001b[38;5;241m=\u001b[39m\u001b[38;5;241m10\u001b[39m, foot_ik\u001b[38;5;241m=\u001b[39m\u001b[38;5;28;01mTrue\u001b[39;00m):\n\u001b[1;32m    186\u001b[0m \u001b[38;5;250m    \u001b[39m\u001b[38;5;124;03m\"\"\"\u001b[39;00m\n\u001b[1;32m    187\u001b[0m \u001b[38;5;124;03m    Convert the SMPL joint positions to Mocap BVH\u001b[39;00m\n\u001b[1;32m    188\u001b[0m \u001b[38;5;124;03m    :param positions: (N, 22, 3)\u001b[39;00m\n\u001b[0;32m   (...)\u001b[0m\n\u001b[1;32m    192\u001b[0m \u001b[38;5;124;03m    :return:\u001b[39;00m\n\u001b[1;32m    193\u001b[0m \u001b[38;5;124;03m    \"\"\"\u001b[39;00m\n\u001b[0;32m--> 194\u001b[0m     positions \u001b[38;5;241m=\u001b[39m \u001b[43mpositions\u001b[49m\u001b[43m[\u001b[49m\u001b[43m:\u001b[49m\u001b[43m,\u001b[49m\u001b[43m \u001b[49m\u001b[38;5;28;43mself\u001b[39;49m\u001b[38;5;241;43m.\u001b[39;49m\u001b[43mre_order\u001b[49m\u001b[43m]\u001b[49m\n\u001b[1;32m    195\u001b[0m     new_anim \u001b[38;5;241m=\u001b[39m \u001b[38;5;28mself\u001b[39m\u001b[38;5;241m.\u001b[39mtemplate\u001b[38;5;241m.\u001b[39mcopy()\n\u001b[1;32m    196\u001b[0m     new_anim\u001b[38;5;241m.\u001b[39mrotations \u001b[38;5;241m=\u001b[39m Quaternions\u001b[38;5;241m.\u001b[39mid(positions\u001b[38;5;241m.\u001b[39mshape[:\u001b[38;5;241m-\u001b[39m\u001b[38;5;241m1\u001b[39m])\n",
      "\u001b[0;31mIndexError\u001b[0m: index 22 is out of bounds for axis 1 with size 22"
     ]
    }
   ],
   "source": [
    "from render_bvh.joints2bvh2 import Joint2BVHConvertor\n",
    "converter = Joint2BVHConvertor()\n",
    "template = BVH.load(\"./render_bvh/data/smplx_body.bvh\", need_quater=True)\n",
    "_, ik_joint = converter.convert(motion_xyz.cpu().numpy(), filename=\"/srv/hays-lab/scratch/sanisetty3/music_motion/ATCMG/render/smplx_body_render.bvh\", iterations=10, foot_ik = False)"
   ]
  },
  {
   "cell_type": "code",
   "execution_count": null,
   "id": "ac8974b5-e1f8-4bb1-a577-f3698810579c",
   "metadata": {},
   "outputs": [],
   "source": []
  }
 ],
 "metadata": {
  "kernelspec": {
   "display_name": "Python 3 (ipykernel)",
   "language": "python",
   "name": "python3"
  },
  "language_info": {
   "codemirror_mode": {
    "name": "ipython",
    "version": 3
   },
   "file_extension": ".py",
   "mimetype": "text/x-python",
   "name": "python",
   "nbconvert_exporter": "python",
   "pygments_lexer": "ipython3",
   "version": "3.9.18"
  }
 },
 "nbformat": 4,
 "nbformat_minor": 5
}
