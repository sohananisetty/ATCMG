{
 "cells": [
  {
   "cell_type": "code",
   "execution_count": null,
   "id": "9231a3e8-9e24-4990-b940-00cdc6b15e24",
   "metadata": {},
   "outputs": [],
   "source": []
  },
  {
   "cell_type": "code",
   "execution_count": 1,
   "id": "7c44eef0-cea4-4ac9-b924-1327280f235f",
   "metadata": {},
   "outputs": [
    {
     "name": "stdout",
     "output_type": "stream",
     "text": [
      "Using device: cuda\n",
      "\n",
      "NVIDIA GeForce RTX 2080 Ti\n",
      "Memory Usage:\n",
      "Allocated: 0.0 GB\n",
      "Cached:    0.0 GB\n"
     ]
    }
   ],
   "source": [
    "# setting device on GPU if available, else CPU\n",
    "import torch\n",
    "device = torch.device('cuda' if torch.cuda.is_available() else 'cpu')\n",
    "print('Using device:', device)\n",
    "print()\n",
    "\n",
    "#Additional Info when using cuda\n",
    "if device.type == 'cuda':\n",
    "    print(torch.cuda.get_device_name(0))\n",
    "    print('Memory Usage:')\n",
    "    print('Allocated:', round(torch.cuda.memory_allocated(0)/1024**3,1), 'GB')\n",
    "    print('Cached:   ', round(torch.cuda.memory_reserved(0)/1024**3,1), 'GB')\n"
   ]
  },
  {
   "cell_type": "code",
   "execution_count": 2,
   "id": "5d81025f-b2fd-4067-9c7a-5c21f74f8ab5",
   "metadata": {},
   "outputs": [],
   "source": [
    "%load_ext autoreload\n",
    "%autoreload 2\n",
    "%matplotlib inline"
   ]
  },
  {
   "cell_type": "code",
   "execution_count": 3,
   "id": "13d36d72-1eba-4fd0-ba1e-69a4e714339b",
   "metadata": {},
   "outputs": [],
   "source": [
    "import torch\n",
    "import numpy as np\n",
    "import os\n",
    "import torch.nn as nn\n",
    "from tqdm import tqdm\n",
    "import json\n",
    "from functools import partial\n",
    "from torch import einsum, nn\n",
    "import torch.nn.functional as F\n",
    "import matplotlib.pyplot as plt\n",
    "from einops import pack, rearrange, reduce, repeat, unpack\n"
   ]
  },
  {
   "cell_type": "code",
   "execution_count": 4,
   "id": "70de7dab-5b08-4278-872f-ca3885ac3bbd",
   "metadata": {},
   "outputs": [],
   "source": [
    "def findAllFile(base):\n",
    "    file_path = []\n",
    "    for root, ds, fs in os.walk(base, followlinks=True):\n",
    "        for f in fs:\n",
    "            fullname = os.path.join(root, f)\n",
    "            file_path.append(fullname)\n",
    "    return file_path\n",
    "\n"
   ]
  },
  {
   "cell_type": "code",
   "execution_count": 5,
   "id": "395afd96-a4f7-45e3-b006-57abc3191800",
   "metadata": {},
   "outputs": [],
   "source": [
    "# from utils.motion_processing.hml_process import recover_from_ric, recover_root_rot_pos,recover_from_rot\n",
    "import utils.vis_utils.plot_3d_global as plot_3d\n",
    "import matplotlib.pyplot as plt\n",
    "\n",
    "def vis(mot , dset , name = \"motion\"):\n",
    "\n",
    "    if isinstance(mot , torch.Tensor):\n",
    "        mot = dset.toMotion(mot)\n",
    "    mot =dset.inv_transform(mot)\n",
    "\n",
    "\n",
    "\n",
    "    xyz = np.array(dset.to_xyz(mot).cpu())\n",
    "\n",
    "    print(xyz.shape)\n",
    "\n",
    "    \n",
    "    plot_3d.render(xyz , f\"/srv/hays-lab/scratch/sanisetty3/music_motion/ATCMG/render/{name}.gif\")"
   ]
  },
  {
   "cell_type": "code",
   "execution_count": null,
   "id": "b61f8324-7df7-471e-9832-56b3e3c4c9d4",
   "metadata": {},
   "outputs": [],
   "source": []
  },
  {
   "cell_type": "code",
   "execution_count": null,
   "id": "1774b40d-c90d-4ec3-a9fa-6c901473eb7e",
   "metadata": {
    "scrolled": true
   },
   "outputs": [],
   "source": []
  },
  {
   "cell_type": "code",
   "execution_count": null,
   "id": "027419bb-c6be-4b00-af51-c9fac0086386",
   "metadata": {},
   "outputs": [],
   "source": []
  },
  {
   "cell_type": "code",
   "execution_count": null,
   "id": "7b474f6b-0049-4b20-b32c-1171e3d839f4",
   "metadata": {},
   "outputs": [],
   "source": []
  },
  {
   "cell_type": "markdown",
   "id": "39d412fc-a32b-413d-8975-bd7300e1f256",
   "metadata": {
    "jp-MarkdownHeadingCollapsed": true
   },
   "source": [
    "## VQVAE"
   ]
  },
  {
   "cell_type": "code",
   "execution_count": 110,
   "id": "ba58dbf4-e5be-4e12-a0a7-c0349927c44c",
   "metadata": {},
   "outputs": [],
   "source": [
    "from core.models.resnetVQ.vqvae import HumanVQVAE\n",
    "from core.models.resnetVQ.vqvae import HumanVQVAE2\n",
    "\n",
    "from configs.config import cfg, get_cfg_defaults\n"
   ]
  },
  {
   "cell_type": "code",
   "execution_count": 111,
   "id": "c3dfb6d8-fef1-4e6c-8af1-dbe9e8e3b929",
   "metadata": {},
   "outputs": [],
   "source": [
    "def load_vqvae(gen_cfg):\n",
    "    \n",
    "    body_cfg = get_cfg_defaults()\n",
    "    body_cfg.merge_from_file(gen_cfg.vqvae.body_config)\n",
    "    left_cfg = get_cfg_defaults()\n",
    "    left_cfg.merge_from_file(gen_cfg.vqvae.left_hand_config)\n",
    "    right_cfg = get_cfg_defaults()\n",
    "    right_cfg.merge_from_file(gen_cfg.vqvae.right_hand_config)\n",
    "    # left_hand_model = HumanVQVAE(left_cfg.vqvae).to(\"cuda\").eval()\n",
    "    # left_hand_model.load(os.path.join(left_cfg.output_dir, \"vqvae_motion.pt\"))\n",
    "    \n",
    "    # right_hand_model = HumanVQVAE(right_cfg.vqvae).to(\"cuda\").eval()\n",
    "    # right_hand_model.load(os.path.join(right_cfg.output_dir, \"vqvae_motion.pt\"))\n",
    "    \n",
    "    body_model = HumanVQVAE(body_cfg.vqvae).to(\"cuda\").eval()\n",
    "    body_model.load(os.path.join(body_cfg.output_dir, \"vqvae_motion.pt\"))\n",
    "\n",
    "    return body_model, body_cfg\n",
    "    \n"
   ]
  },
  {
   "cell_type": "code",
   "execution_count": 112,
   "id": "99f3ff44-3e94-48bb-a0db-f2dd1a0cc536",
   "metadata": {},
   "outputs": [],
   "source": [
    "def load_vqvae2(gen_cfg):\n",
    "    \n",
    "    body_cfg = get_cfg_defaults()\n",
    "    body_cfg.merge_from_file(gen_cfg.vqvae.body_config)\n",
    "    left_cfg = get_cfg_defaults()\n",
    "    left_cfg.merge_from_file(gen_cfg.vqvae.left_hand_config)\n",
    "    right_cfg = get_cfg_defaults()\n",
    "    right_cfg.merge_from_file(gen_cfg.vqvae.right_hand_config)\n",
    "    # left_hand_model = HumanVQVAE(left_cfg.vqvae).to(\"cuda\").eval()\n",
    "    # left_hand_model.load(os.path.join(left_cfg.output_dir, \"vqvae_motion.pt\"))\n",
    "    \n",
    "    # right_hand_model = HumanVQVAE(right_cfg.vqvae).to(\"cuda\").eval()\n",
    "    # right_hand_model.load(os.path.join(right_cfg.output_dir, \"vqvae_motion.pt\"))\n",
    "    \n",
    "    body_model = HumanVQVAE2(body_cfg.vqvae).to(\"cuda\").eval()\n",
    "    body_model.load(os.path.join(body_cfg.output_dir, \"vqvae_motion.pt\"))\n",
    "\n",
    "    return body_model, body_cfg\n",
    "    \n"
   ]
  },
  {
   "cell_type": "code",
   "execution_count": 113,
   "id": "974ed84f-4fb4-4c59-ae89-7e9e6caae0c2",
   "metadata": {},
   "outputs": [],
   "source": [
    "\n",
    "\n",
    "def bkn_to_motion(codes, dset):\n",
    "        # codes b k n\n",
    "        body_inds = codes[:, 0]\n",
    "    \n",
    "        body_motion = body_model.decode(body_inds[0:1]).detach().cpu()\n",
    "\n",
    "        if \"g\" in dset.hml_rep:\n",
    "            z = torch.zeros(\n",
    "                body_motion.shape[:-1] + (2,),\n",
    "                dtype=body_motion.dtype,\n",
    "                device=body_motion.device,\n",
    "            )\n",
    "            body_motion = torch.cat(\n",
    "                [body_motion[..., 0:1], z, body_motion[..., 1:]], -1\n",
    "            )\n",
    "        \n",
    "        body_M = dset.toMotion(\n",
    "            body_motion[0],\n",
    "            motion_rep=MotionRep(body_cfg.dataset.motion_rep),\n",
    "            hml_rep=body_cfg.dataset.hml_rep,\n",
    "        )\n",
    "        \n",
    "\n",
    "        return body_M\n",
    "\n"
   ]
  },
  {
   "cell_type": "markdown",
   "id": "12a89bfa-687b-44dd-b498-a43e0ef7b816",
   "metadata": {
    "jp-MarkdownHeadingCollapsed": true
   },
   "source": [
    "## Motion Gen"
   ]
  },
  {
   "cell_type": "code",
   "execution_count": null,
   "id": "a735ceed-be47-460e-96c0-da344db04f0f",
   "metadata": {},
   "outputs": [],
   "source": [
    "from core import MotionRep, AudioRep, TextRep\n",
    "from core.datasets.conditioner import ConditionProvider, ConditionFuser\n",
    "from core.datasets.multimodal_dataset import MotionIndicesAudioTextDataset, load_dataset_gen, simple_collate\n",
    "from core.models.generation.motion_generator import Transformer, MotionMuse\n",
    "from core.models.utils import instantiate_from_config, get_obj_from_str\n"
   ]
  },
  {
   "cell_type": "code",
   "execution_count": null,
   "id": "8dad8049-a4a0-4612-97ae-06e6e22ffb25",
   "metadata": {},
   "outputs": [],
   "source": [
    "from configs.config_t2m import cfg, get_cfg_defaults\n",
    "from configs.config import get_cfg_defaults as get_cfg_defaults3\n",
    "\n",
    "cfg = get_cfg_defaults()\n",
    "cfg.merge_from_file(\"/srv/hays-lab/scratch/sanisetty3/music_motion/ATCMG/checkpoints/motion_generation/motion_generation.yaml\")\n",
    "cfg.freeze()\n",
    "mmuse_args = cfg.motion_generator\n",
    "dataset_args = cfg.dataset\n"
   ]
  },
  {
   "cell_type": "code",
   "execution_count": null,
   "id": "2c174676-b3a5-424c-a6a7-212b1960263d",
   "metadata": {},
   "outputs": [],
   "source": [
    "target = mmuse_args.pop(\"target\")\n",
    "motion_muse = MotionMuse(mmuse_args).to(device).eval()"
   ]
  },
  {
   "cell_type": "code",
   "execution_count": null,
   "id": "8441fb76-675e-4500-ab2f-2d528507c33d",
   "metadata": {},
   "outputs": [],
   "source": [
    "from core.models.resnetVQ.vqvae import HumanVQVAE"
   ]
  },
  {
   "cell_type": "code",
   "execution_count": null,
   "id": "8e17fa70-7497-441b-bfc2-6f80c4315101",
   "metadata": {},
   "outputs": [],
   "source": [
    "\n",
    "vcfg = get_cfg_defaults3()\n",
    "vcfg.merge_from_file(\"/srv/hays-lab/scratch/sanisetty3/music_motion/ATCMG/checkpoints/vqvae/vqvae_body_gprvc/vqvae_body_gprvc.yaml\")\n",
    "vqvae_args = vcfg.vqvae\n",
    "vqvae_args.nb_joints = 22\n",
    "vqvae_args.motion_dim = 263"
   ]
  },
  {
   "cell_type": "code",
   "execution_count": null,
   "id": "b9a2fcee-d2d4-4428-b66e-da75989882f6",
   "metadata": {
    "scrolled": true
   },
   "outputs": [],
   "source": []
  },
  {
   "cell_type": "code",
   "execution_count": null,
   "id": "153aab1a-472c-4f32-9477-7cef6c60c13d",
   "metadata": {},
   "outputs": [],
   "source": [
    "np.split(np.cusum)"
   ]
  },
  {
   "cell_type": "code",
   "execution_count": null,
   "id": "e5fb8d3b-a01c-4d29-8c2b-635e1daf80fd",
   "metadata": {},
   "outputs": [],
   "source": [
    "vqvae_model = HumanVQVAE(vqvae_args).to(device).eval()\n",
    "vqvae_model.load(\"/srv/hays-lab/scratch/sanisetty3/music_motion/ACMG/checkpoints/smplx_resnet/vqvae_motion.pt\")"
   ]
  },
  {
   "cell_type": "code",
   "execution_count": null,
   "id": "510ab9d2-a089-48ef-b155-7b58f558ddae",
   "metadata": {},
   "outputs": [],
   "source": []
  },
  {
   "cell_type": "code",
   "execution_count": null,
   "id": "57a1f7b4-6181-4bbf-be86-53f21f954486",
   "metadata": {},
   "outputs": [],
   "source": [
    "condition_provider = ConditionProvider(\n",
    "            motion_rep=MotionRep(dataset_args.motion_rep),\n",
    "            audio_rep=AudioRep(dataset_args.audio_rep),\n",
    "            text_rep=TextRep(dataset_args.text_rep),\n",
    "            motion_padding=dataset_args.motion_padding,\n",
    "            audio_padding=dataset_args.audio_padding,\n",
    "            motion_max_length_s=10,\n",
    "            audio_max_length_s=10,\n",
    "            pad_id = motion_muse.transformer.pad_token_id,\n",
    "            fps=30/4\n",
    "        )"
   ]
  },
  {
   "cell_type": "code",
   "execution_count": null,
   "id": "b646cf7c-5536-43f8-98dc-335c8791ac23",
   "metadata": {},
   "outputs": [],
   "source": [
    "# bod_ind = np.load(\"/srv/hays-lab/scratch/sanisetty3/motionx/indices/body/aist/subset_0000/Dance_Break_3_Step_clip_1.npy\")\n",
    "# lh_ind = np.load(\"/srv/hays-lab/scratch/sanisetty3/motionx/indices/left_hand/aist/subset_0000/Dance_Break_3_Step_clip_1.npy\")\n",
    "# rh_ind = np.load(\"/srv/hays-lab/scratch/sanisetty3/motionx/indices/right_hand/aist/subset_0000/Dance_Break_3_Step_clip_1.npy\")"
   ]
  },
  {
   "cell_type": "code",
   "execution_count": null,
   "id": "97e52a53-c80a-44cc-b2d3-c89a18eb081b",
   "metadata": {},
   "outputs": [],
   "source": []
  },
  {
   "cell_type": "code",
   "execution_count": null,
   "id": "59e30407-e8e1-4e05-8fe1-28f95c5eec4b",
   "metadata": {},
   "outputs": [],
   "source": []
  },
  {
   "cell_type": "code",
   "execution_count": null,
   "id": "916a0df4-f265-41b5-9577-5162b7e262f6",
   "metadata": {},
   "outputs": [],
   "source": []
  },
  {
   "cell_type": "code",
   "execution_count": null,
   "id": "31e4d76d-6cc5-4fe2-bd4b-7b5984f591eb",
   "metadata": {},
   "outputs": [],
   "source": []
  },
  {
   "cell_type": "code",
   "execution_count": null,
   "id": "e44106b1-f9a2-45cb-9a2e-e20773e110f3",
   "metadata": {},
   "outputs": [],
   "source": [
    "from core.datasets.multimodal_dataset import MotionIndicesAudioTextDataset, load_dataset_gen, simple_collate\n",
    "\n",
    "dset = MotionIndicesAudioTextDataset(\"animation\" , \"/srv/hays-lab/scratch/sanisetty3/motionx\" ,motion_rep = \"full\", split = \"train\" , fps = 30/4  )"
   ]
  },
  {
   "cell_type": "code",
   "execution_count": null,
   "id": "3f05f6af-6eec-4961-a203-8e3ec4d07d94",
   "metadata": {},
   "outputs": [],
   "source": [
    "inpss  = next(iter(dset))"
   ]
  },
  {
   "cell_type": "code",
   "execution_count": null,
   "id": "67996729-7f6f-4f75-a95f-adda0b498f2c",
   "metadata": {},
   "outputs": [],
   "source": [
    "train_ds, sampler_train, weights_train  = load_dataset_gen(dataset_args=dataset_args, split = \"train\" , dataset_names = [\"animation\" , \"choreomaster\" ] )"
   ]
  },
  {
   "cell_type": "code",
   "execution_count": null,
   "id": "7c4dc88a-d090-4ebf-831e-b0054072e83b",
   "metadata": {},
   "outputs": [],
   "source": []
  },
  {
   "cell_type": "code",
   "execution_count": null,
   "id": "29b1d3c1-2084-4c57-bd85-b391f57e418c",
   "metadata": {},
   "outputs": [],
   "source": [
    "train_loader = torch.utils.data.DataLoader(\n",
    "        dset,\n",
    "        4,\n",
    "        # sampler=sampler_train,\n",
    "        # shuffle = False,\n",
    "        collate_fn=partial(simple_collate , conditioner = condition_provider),\n",
    "        drop_last=True,\n",
    "    )"
   ]
  },
  {
   "cell_type": "code",
   "execution_count": null,
   "id": "ce18ef6b-8c40-4b3e-b4b4-704d756b863d",
   "metadata": {
    "scrolled": true
   },
   "outputs": [],
   "source": [
    "for inputs, conditions in train_loader:\n",
    "    break\n",
    "    "
   ]
  },
  {
   "cell_type": "code",
   "execution_count": null,
   "id": "1c08cbf2-99c4-4355-8c0f-e1cb331e32b0",
   "metadata": {},
   "outputs": [],
   "source": [
    "inputs[\"motion\"][0].shape"
   ]
  },
  {
   "cell_type": "code",
   "execution_count": null,
   "id": "c7693e02-e1e4-4840-b20f-2ab6a0cddd0e",
   "metadata": {},
   "outputs": [],
   "source": [
    "inputs[\"motion\"][1].shape"
   ]
  },
  {
   "cell_type": "code",
   "execution_count": null,
   "id": "6a017d85-0ab0-4542-8338-93e66c6efd71",
   "metadata": {},
   "outputs": [],
   "source": [
    "conditions[\"audio\"][0].shape"
   ]
  },
  {
   "cell_type": "code",
   "execution_count": null,
   "id": "22949664-9e06-41e8-9368-c533a5a445a5",
   "metadata": {},
   "outputs": [],
   "source": [
    "conditions[\"text\"][0].shape"
   ]
  },
  {
   "cell_type": "code",
   "execution_count": null,
   "id": "eb4cb22e-4566-4f10-95a4-d3b6e62d3ee7",
   "metadata": {},
   "outputs": [],
   "source": [
    "motions = inputs[\"motion\"][0].squeeze().to(torch.long)\n",
    "motion_mask = inputs[\"motion\"][1]"
   ]
  },
  {
   "cell_type": "code",
   "execution_count": null,
   "id": "d6f90a96-5765-4831-a80a-6a4bb12e2179",
   "metadata": {},
   "outputs": [],
   "source": [
    "fuse_method = {\"cross\": [\"audio\"], \"prepend\": [\"text\"]}\n",
    "condition_fuser = ConditionFuser(fuse_method)"
   ]
  },
  {
   "cell_type": "code",
   "execution_count": null,
   "id": "41376d0a-fdff-4503-a5fb-38167a369969",
   "metadata": {},
   "outputs": [],
   "source": [
    "audio_embed = self.project_audio(conditions[\"audio\"][0])\n",
    "text_embed = self.project_text(conditions[\"text\"][0])\n",
    "\n",
    "inputs_, cross_inputs = self.condition_fuser(\n",
    "    input,\n",
    "    {\n",
    "        \"text\": (text_embed, conditions[\"text\"][1]),\n",
    "        \"audio\": (audio_embed, conditions[\"audio\"][1]),\n",
    "    },\n",
    ")"
   ]
  },
  {
   "cell_type": "code",
   "execution_count": null,
   "id": "4c3c731b-4240-4537-a4b7-0baff3c201e9",
   "metadata": {},
   "outputs": [],
   "source": []
  },
  {
   "cell_type": "code",
   "execution_count": null,
   "id": "e47ed176-a935-4fbd-93d6-b004c5768f1d",
   "metadata": {},
   "outputs": [],
   "source": []
  },
  {
   "cell_type": "code",
   "execution_count": null,
   "id": "2af848aa-93f8-487b-ad27-83c6ea2ec1ab",
   "metadata": {},
   "outputs": [],
   "source": []
  },
  {
   "cell_type": "code",
   "execution_count": null,
   "id": "e4261c42-9d36-49ee-b4de-b47996f33721",
   "metadata": {},
   "outputs": [],
   "source": []
  },
  {
   "cell_type": "code",
   "execution_count": null,
   "id": "8da28d2c-8543-4356-8644-37db1a506519",
   "metadata": {},
   "outputs": [],
   "source": []
  },
  {
   "cell_type": "code",
   "execution_count": null,
   "id": "b227c9af-4388-4331-b300-38aa8c292b39",
   "metadata": {},
   "outputs": [],
   "source": []
  },
  {
   "cell_type": "code",
   "execution_count": null,
   "id": "fe478ffa-20be-4503-a905-c3d7e3105b5d",
   "metadata": {},
   "outputs": [],
   "source": []
  },
  {
   "cell_type": "code",
   "execution_count": null,
   "id": "1a196780-a1fe-4c89-bf60-c7ab3b7570c3",
   "metadata": {},
   "outputs": [],
   "source": []
  },
  {
   "cell_type": "code",
   "execution_count": null,
   "id": "23380439-deef-4902-9bbe-2febb34cd6d5",
   "metadata": {},
   "outputs": [],
   "source": []
  },
  {
   "cell_type": "code",
   "execution_count": null,
   "id": "bb4f0adb-e11e-4660-b6b1-1c3f4c35777d",
   "metadata": {},
   "outputs": [],
   "source": []
  },
  {
   "cell_type": "markdown",
   "id": "883ccc94-7e5d-4bfe-b8e0-9d8338450255",
   "metadata": {
    "jp-MarkdownHeadingCollapsed": true
   },
   "source": [
    "## Muse gen"
   ]
  },
  {
   "cell_type": "code",
   "execution_count": 6,
   "id": "de613707-a14b-4aff-a7fb-6544d896f789",
   "metadata": {},
   "outputs": [
    {
     "name": "stderr",
     "output_type": "stream",
     "text": [
      "/srv/hays-lab/flash5/sanisetty3/miniconda3/envs/tgm3d/lib/python3.9/site-packages/tqdm/auto.py:21: TqdmWarning: IProgress not found. Please update jupyter and ipywidgets. See https://ipywidgets.readthedocs.io/en/stable/user_install.html\n",
      "  from .autonotebook import tqdm as notebook_tqdm\n"
     ]
    }
   ],
   "source": [
    "from core import MotionTokenizerParams, pattern_providers\n",
    "\n",
    "from core.param_dataclasses import pattern_providers\n",
    "from core.datasets.multimodal_dataset import MotionIndicesAudioTextDataset, load_dataset_gen, simple_collate\n",
    "from core.models.utils import instantiate_from_config, get_obj_from_str\n",
    "from core import MotionRep, AudioRep, TextRep\n",
    "from core.datasets.conditioner import ConditionProvider,ConditionFuser\n",
    "from core.models.generation.muse import MLMModel, MotionMuse\n",
    "import einops\n",
    "from configs.config_t2m import get_cfg_defaults as muse_get_cfg_defaults\n",
    "\n",
    "from core.datasets.text_encoders import BERTConditioner, ClipConditioner, T5Conditioner, parse_prompt_attention\n",
    "from core.datasets.audio_encoders import EncodecConditioner, LibrosaConditioner"
   ]
  },
  {
   "cell_type": "code",
   "execution_count": 7,
   "id": "d570e458-7804-480a-8a7e-847094d03cff",
   "metadata": {
    "scrolled": true
   },
   "outputs": [
    {
     "ename": "KeyError",
     "evalue": "'Non-existent config key: motion_generator.causal'",
     "output_type": "error",
     "traceback": [
      "\u001b[0;31m---------------------------------------------------------------------------\u001b[0m",
      "\u001b[0;31mKeyError\u001b[0m                                  Traceback (most recent call last)",
      "Cell \u001b[0;32mIn[7], line 2\u001b[0m\n\u001b[1;32m      1\u001b[0m gen_cfg \u001b[38;5;241m=\u001b[39m muse_get_cfg_defaults()\n\u001b[0;32m----> 2\u001b[0m \u001b[43mgen_cfg\u001b[49m\u001b[38;5;241;43m.\u001b[39;49m\u001b[43mmerge_from_file\u001b[49m\u001b[43m(\u001b[49m\u001b[38;5;124;43m\"\u001b[39;49m\u001b[38;5;124;43m/srv/hays-lab/scratch/sanisetty3/music_motion/ATCMG/checkpoints/motion_muse/motion_muse.yaml\u001b[39;49m\u001b[38;5;124;43m\"\u001b[39;49m\u001b[43m)\u001b[49m\n\u001b[1;32m      3\u001b[0m gen_cfg\u001b[38;5;241m.\u001b[39mfreeze()\n",
      "File \u001b[0;32m/srv/hays-lab/flash5/sanisetty3/miniconda3/envs/tgm3d/lib/python3.9/site-packages/yacs/config.py:213\u001b[0m, in \u001b[0;36mCfgNode.merge_from_file\u001b[0;34m(self, cfg_filename)\u001b[0m\n\u001b[1;32m    211\u001b[0m \u001b[38;5;28;01mwith\u001b[39;00m \u001b[38;5;28mopen\u001b[39m(cfg_filename, \u001b[38;5;124m\"\u001b[39m\u001b[38;5;124mr\u001b[39m\u001b[38;5;124m\"\u001b[39m) \u001b[38;5;28;01mas\u001b[39;00m f:\n\u001b[1;32m    212\u001b[0m     cfg \u001b[38;5;241m=\u001b[39m \u001b[38;5;28mself\u001b[39m\u001b[38;5;241m.\u001b[39mload_cfg(f)\n\u001b[0;32m--> 213\u001b[0m \u001b[38;5;28;43mself\u001b[39;49m\u001b[38;5;241;43m.\u001b[39;49m\u001b[43mmerge_from_other_cfg\u001b[49m\u001b[43m(\u001b[49m\u001b[43mcfg\u001b[49m\u001b[43m)\u001b[49m\n",
      "File \u001b[0;32m/srv/hays-lab/flash5/sanisetty3/miniconda3/envs/tgm3d/lib/python3.9/site-packages/yacs/config.py:217\u001b[0m, in \u001b[0;36mCfgNode.merge_from_other_cfg\u001b[0;34m(self, cfg_other)\u001b[0m\n\u001b[1;32m    215\u001b[0m \u001b[38;5;28;01mdef\u001b[39;00m \u001b[38;5;21mmerge_from_other_cfg\u001b[39m(\u001b[38;5;28mself\u001b[39m, cfg_other):\n\u001b[1;32m    216\u001b[0m \u001b[38;5;250m    \u001b[39m\u001b[38;5;124;03m\"\"\"Merge `cfg_other` into this CfgNode.\"\"\"\u001b[39;00m\n\u001b[0;32m--> 217\u001b[0m     \u001b[43m_merge_a_into_b\u001b[49m\u001b[43m(\u001b[49m\u001b[43mcfg_other\u001b[49m\u001b[43m,\u001b[49m\u001b[43m \u001b[49m\u001b[38;5;28;43mself\u001b[39;49m\u001b[43m,\u001b[49m\u001b[43m \u001b[49m\u001b[38;5;28;43mself\u001b[39;49m\u001b[43m,\u001b[49m\u001b[43m \u001b[49m\u001b[43m[\u001b[49m\u001b[43m]\u001b[49m\u001b[43m)\u001b[49m\n",
      "File \u001b[0;32m/srv/hays-lab/flash5/sanisetty3/miniconda3/envs/tgm3d/lib/python3.9/site-packages/yacs/config.py:478\u001b[0m, in \u001b[0;36m_merge_a_into_b\u001b[0;34m(a, b, root, key_list)\u001b[0m\n\u001b[1;32m    476\u001b[0m \u001b[38;5;28;01mif\u001b[39;00m \u001b[38;5;28misinstance\u001b[39m(v, CfgNode):\n\u001b[1;32m    477\u001b[0m     \u001b[38;5;28;01mtry\u001b[39;00m:\n\u001b[0;32m--> 478\u001b[0m         \u001b[43m_merge_a_into_b\u001b[49m\u001b[43m(\u001b[49m\u001b[43mv\u001b[49m\u001b[43m,\u001b[49m\u001b[43m \u001b[49m\u001b[43mb\u001b[49m\u001b[43m[\u001b[49m\u001b[43mk\u001b[49m\u001b[43m]\u001b[49m\u001b[43m,\u001b[49m\u001b[43m \u001b[49m\u001b[43mroot\u001b[49m\u001b[43m,\u001b[49m\u001b[43m \u001b[49m\u001b[43mkey_list\u001b[49m\u001b[43m \u001b[49m\u001b[38;5;241;43m+\u001b[39;49m\u001b[43m \u001b[49m\u001b[43m[\u001b[49m\u001b[43mk\u001b[49m\u001b[43m]\u001b[49m\u001b[43m)\u001b[49m\n\u001b[1;32m    479\u001b[0m     \u001b[38;5;28;01mexcept\u001b[39;00m \u001b[38;5;167;01mBaseException\u001b[39;00m:\n\u001b[1;32m    480\u001b[0m         \u001b[38;5;28;01mraise\u001b[39;00m\n",
      "File \u001b[0;32m/srv/hays-lab/flash5/sanisetty3/miniconda3/envs/tgm3d/lib/python3.9/site-packages/yacs/config.py:491\u001b[0m, in \u001b[0;36m_merge_a_into_b\u001b[0;34m(a, b, root, key_list)\u001b[0m\n\u001b[1;32m    489\u001b[0m     root\u001b[38;5;241m.\u001b[39mraise_key_rename_error(full_key)\n\u001b[1;32m    490\u001b[0m \u001b[38;5;28;01melse\u001b[39;00m:\n\u001b[0;32m--> 491\u001b[0m     \u001b[38;5;28;01mraise\u001b[39;00m \u001b[38;5;167;01mKeyError\u001b[39;00m(\u001b[38;5;124m\"\u001b[39m\u001b[38;5;124mNon-existent config key: \u001b[39m\u001b[38;5;132;01m{}\u001b[39;00m\u001b[38;5;124m\"\u001b[39m\u001b[38;5;241m.\u001b[39mformat(full_key))\n",
      "\u001b[0;31mKeyError\u001b[0m: 'Non-existent config key: motion_generator.causal'"
     ]
    }
   ],
   "source": [
    "gen_cfg = muse_get_cfg_defaults()\n",
    "gen_cfg.merge_from_file(\"/srv/hays-lab/scratch/sanisetty3/music_motion/ATCMG/checkpoints/motion_muse/motion_muse.yaml\")\n",
    "gen_cfg.freeze()"
   ]
  },
  {
   "cell_type": "code",
   "execution_count": null,
   "id": "0ecf960f-8a44-44eb-8624-0275a4c36980",
   "metadata": {},
   "outputs": [],
   "source": [
    "tranformer_config = gen_cfg.motion_generator\n",
    "fuse_config = gen_cfg.fuser\n",
    "pattern_config = gen_cfg.codebooks_pattern\n",
    "dataset_args = gen_cfg.dataset\n",
    "\n",
    "target = tranformer_config.pop(\"targe\n",
    "motion_gen = MotionMuse(tranformer_config , fuse_config , pattern_config).to(device)\n",
    "# motion_gen = torch.compile(motion_gen)\n",
    "# pkg = torch.load(\"/srv/hays-lab/scratch/sanisetty3/music_motion/ATCMG/checkpoints/motion_muse_constant/checkpoints/motion_muse.70000.pt\", map_location=\"cuda\")\n",
    "# motion_gen.load_state_dict(pkg[\"model\"])"
   ]
  },
  {
   "cell_type": "code",
   "execution_count": null,
   "id": "5beb4024-3adc-41de-ac16-f0d9c1643fd0",
   "metadata": {},
   "outputs": [],
   "source": []
  },
  {
   "cell_type": "code",
   "execution_count": null,
   "id": "fea929c6-f273-437c-8cd9-e19448ca417d",
   "metadata": {},
   "outputs": [],
   "source": []
  },
  {
   "cell_type": "code",
   "execution_count": null,
   "id": "226c094f-4893-489e-9557-b081788d3dee",
   "metadata": {},
   "outputs": [],
   "source": []
  },
  {
   "cell_type": "code",
   "execution_count": null,
   "id": "85349652-3f19-42b7-9907-d1cd223accdf",
   "metadata": {},
   "outputs": [],
   "source": []
  },
  {
   "cell_type": "code",
   "execution_count": 8,
   "id": "8cec5516-e2e6-45a3-84a4-6cec03e0dc27",
   "metadata": {},
   "outputs": [],
   "source": [
    "# ds, _, _  = load_dataset_gen(dataset_names = [\"animation\"] , dataset_args=dataset_args, split = \"render\")\n"
   ]
  },
  {
   "cell_type": "code",
   "execution_count": 9,
   "id": "efa4c1e5-0f8c-4ab4-b93e-502756ca765e",
   "metadata": {},
   "outputs": [
    {
     "ename": "NameError",
     "evalue": "name 'tranformer_config' is not defined",
     "output_type": "error",
     "traceback": [
      "\u001b[0;31m---------------------------------------------------------------------------\u001b[0m",
      "\u001b[0;31mNameError\u001b[0m                                 Traceback (most recent call last)",
      "Cell \u001b[0;32mIn[9], line 1\u001b[0m\n\u001b[0;32m----> 1\u001b[0m motion_gen \u001b[38;5;241m=\u001b[39m MotionMuse(\u001b[43mtranformer_config\u001b[49m , fuse_config , pattern_config)\u001b[38;5;241m.\u001b[39mto(device)\n\u001b[1;32m      2\u001b[0m \u001b[38;5;66;03m# pkg = torch.load(\"/srv/hays-lab/scratch/sanisetty3/music_motion/ATCMG/checkpoints/motion_muse/motion_muse.pt\", map_location=\"cuda\")\u001b[39;00m\n\u001b[1;32m      3\u001b[0m \u001b[38;5;66;03m# motion_gen.load_state_dict(pkg[\"model\"])\u001b[39;00m\n",
      "\u001b[0;31mNameError\u001b[0m: name 'tranformer_config' is not defined"
     ]
    }
   ],
   "source": [
    "motion_gen = MotionMuse(tranformer_config , fuse_config , pattern_config).to(device)\n",
    "# pkg = torch.load(\"/srv/hays-lab/scratch/sanisetty3/music_motion/ATCMG/checkpoints/motion_muse/motion_muse.pt\", map_location=\"cuda\")\n",
    "# motion_gen.load_state_dict(pkg[\"model\"])"
   ]
  },
  {
   "cell_type": "code",
   "execution_count": null,
   "id": "55fb1df5-07a4-41bb-9ccd-84fb15a4738e",
   "metadata": {},
   "outputs": [],
   "source": [
    "_, conditions = condition_provider(raw_audio= None, raw_text=\"a person doing kung fu kick and then jumping\")\n",
    "_, neg_conditions = condition_provider(raw_text=\"\")\n",
    "gen_ids = motion_gen.generate(conditions =conditions, neg_conditions = None, duration_s = 30, temperature = 0.2 ,timesteps=18, cond_scale = 8)\n"
   ]
  },
  {
   "cell_type": "code",
   "execution_count": null,
   "id": "0d65ec6d-48d5-4d86-97dd-ca6e02475436",
   "metadata": {},
   "outputs": [],
   "source": []
  },
  {
   "cell_type": "code",
   "execution_count": null,
   "id": "e99c9878-2a8f-4f62-a0cb-498e163864e6",
   "metadata": {},
   "outputs": [],
   "source": []
  },
  {
   "cell_type": "markdown",
   "id": "832689e8-645f-4e2a-8fda-b696a57edee2",
   "metadata": {
    "jp-MarkdownHeadingCollapsed": true
   },
   "source": [
    "## MotionMuse"
   ]
  },
  {
   "cell_type": "code",
   "execution_count": 6,
   "id": "55c3c301-4a10-40d5-948e-a9c1722e491e",
   "metadata": {},
   "outputs": [
    {
     "name": "stderr",
     "output_type": "stream",
     "text": [
      "/srv/hays-lab/flash5/sanisetty3/miniconda3/envs/tgm3d/lib/python3.9/site-packages/tqdm/auto.py:21: TqdmWarning: IProgress not found. Please update jupyter and ipywidgets. See https://ipywidgets.readthedocs.io/en/stable/user_install.html\n",
      "  from .autonotebook import tqdm as notebook_tqdm\n"
     ]
    }
   ],
   "source": [
    "from core import MotionTokenizerParams, pattern_providers\n",
    "\n",
    "from core.param_dataclasses import pattern_providers\n",
    "from core.datasets.multimodal_dataset import MotionIndicesAudioTextDataset, load_dataset_gen, simple_collate\n",
    "from core.models.utils import instantiate_from_config, get_obj_from_str\n",
    "from core import MotionRep, AudioRep, TextRep\n",
    "from core.datasets.conditioner import ConditionProvider,ConditionFuser\n",
    "from core.models.generation.muse import MLMModel, MotionMuse\n",
    "import einops\n",
    "from configs.config_t2m import get_cfg_defaults as muse_get_cfg_defaults\n",
    "from core import MotionTokenizerParams\n",
    "\n",
    "from core.datasets.text_encoders import BERTConditioner, ClipConditioner, T5Conditioner, parse_prompt_attention\n",
    "from core.datasets.audio_encoders import EncodecConditioner, LibrosaConditioner"
   ]
  },
  {
   "cell_type": "code",
   "execution_count": null,
   "id": "752e79a3-28e4-49e6-aa9c-51e2b2f944da",
   "metadata": {},
   "outputs": [],
   "source": []
  },
  {
   "cell_type": "code",
   "execution_count": 7,
   "id": "0d1e93a9-3d59-43a2-8451-5771be61a27f",
   "metadata": {},
   "outputs": [],
   "source": [
    "gen_cfg = muse_get_cfg_defaults()\n",
    "gen_cfg.merge_from_file(\"/srv/hays-lab/scratch/sanisetty3/music_motion/ATCMG/checkpoints/motion_muse_constant/motion_muse_constant.yaml\")\n",
    "gen_cfg.freeze()"
   ]
  },
  {
   "cell_type": "code",
   "execution_count": 8,
   "id": "f5bcc224-0fd5-47c0-9f2c-6c0a71d6c241",
   "metadata": {},
   "outputs": [],
   "source": [
    "tranformer_config = gen_cfg.motion_generator\n",
    "fuse_config = gen_cfg.fuser\n",
    "pattern_config = gen_cfg.codebooks_pattern\n",
    "dataset_args = gen_cfg.dataset\n",
    "\n",
    "target = tranformer_config.pop(\"target\")\n"
   ]
  },
  {
   "cell_type": "code",
   "execution_count": 9,
   "id": "fec2ab3b-6017-4e7d-8577-df3316638c74",
   "metadata": {},
   "outputs": [
    {
     "name": "stdout",
     "output_type": "stream",
     "text": [
      "Non-A100 GPU detected, using math or mem efficient attention if input tensor is on cuda\n"
     ]
    }
   ],
   "source": [
    "motion_gen = MotionMuse(tranformer_config , fuse_config , pattern_config).to(device)\n",
    "# motion_gen = torch.compile(motion_gen)\n",
    "# pkg = torch.load(\"/srv/hays-lab/scratch/sanisetty3/music_motion/ATCMG/checkpoints/motion_muse_constant/checkpoints/motion_muse.70000.pt\", map_location=\"cuda\")\n",
    "# motion_gen.load_state_dict(pkg[\"model\"])"
   ]
  },
  {
   "cell_type": "code",
   "execution_count": null,
   "id": "425fb2ea-c2e6-4323-82f9-c81369573ed8",
   "metadata": {},
   "outputs": [],
   "source": []
  },
  {
   "cell_type": "code",
   "execution_count": null,
   "id": "8d4da6a0-0281-4375-8f6c-80a52742d391",
   "metadata": {},
   "outputs": [],
   "source": []
  },
  {
   "cell_type": "code",
   "execution_count": 114,
   "id": "7467431e-81a5-4182-a054-a390e6aa7403",
   "metadata": {},
   "outputs": [
    {
     "name": "stdout",
     "output_type": "stream",
     "text": [
      "Sync is turned on False\n",
      "loaded model with  0.03015906736254692 tensor([110000.], device='cuda:0') steps\n"
     ]
    }
   ],
   "source": [
    "body_model, body_cfg = load_vqvae2(gen_cfg)"
   ]
  },
  {
   "cell_type": "code",
   "execution_count": 10,
   "id": "082250ce-8c3b-40a7-acd1-c5db268fb5b3",
   "metadata": {},
   "outputs": [
    {
     "name": "stderr",
     "output_type": "stream",
     "text": [
      "/srv/hays-lab/flash5/sanisetty3/miniconda3/envs/tgm3d/lib/python3.9/site-packages/torch/nn/utils/weight_norm.py:28: UserWarning: torch.nn.utils.weight_norm is deprecated in favor of torch.nn.utils.parametrizations.weight_norm.\n",
      "  warnings.warn(\"torch.nn.utils.weight_norm is deprecated in favor of torch.nn.utils.parametrizations.weight_norm.\")\n",
      "Could not find image processor class in the image processor config or the model config. Loading based on pattern matching with the model's feature extractor configuration. Please open a PR/issue to update `preprocessor_config.json` to use `image_processor_type` instead of `feature_extractor_type`. This warning will be removed in v4.40.\n"
     ]
    }
   ],
   "source": [
    "condition_provider = ConditionProvider(\n",
    "            text_conditioner_name = dataset_args.text_conditioner_name,\n",
    "            motion_rep=MotionRep(dataset_args.motion_rep),\n",
    "            audio_rep=AudioRep(dataset_args.audio_rep),\n",
    "            text_rep=TextRep(dataset_args.text_rep),\n",
    "            motion_padding=dataset_args.motion_padding,\n",
    "            audio_padding=dataset_args.audio_padding,\n",
    "            motion_max_length_s=dataset_args.motion_max_length_s,\n",
    "            audio_max_length_s=dataset_args.audio_max_length_s,\n",
    "            pad_id = MotionTokenizerParams(tranformer_config.num_tokens).pad_token_id,\n",
    "            fps=30/4,\n",
    "            # device = \"cpu\"\n",
    "        )"
   ]
  },
  {
   "cell_type": "code",
   "execution_count": 97,
   "id": "1ad5de26-b0f3-4d1a-959a-2dd14ba1e9f3",
   "metadata": {},
   "outputs": [],
   "source": [
    "# dset = MotionIndicesAudioTextDataset(\"animation\" , \"/srv/hays-lab/scratch/sanisetty3/motionx\" ,hml_rep = \"gpvc\" , window_size_s=4, motion_rep = \"body\", split = \"train\" , fps = 30/4  )\n"
   ]
  },
  {
   "cell_type": "code",
   "execution_count": 98,
   "id": "4cb951ee-34f5-4eb5-8397-4ba3c52678c5",
   "metadata": {},
   "outputs": [],
   "source": [
    "# dset[0][\"motion\"].shape"
   ]
  },
  {
   "cell_type": "code",
   "execution_count": null,
   "id": "dc396b33-2403-413e-b51b-171af29a7e47",
   "metadata": {},
   "outputs": [],
   "source": []
  },
  {
   "cell_type": "code",
   "execution_count": 11,
   "id": "76b02cf3-ddd9-43ba-bcaf-b2ec0ee7a6f6",
   "metadata": {},
   "outputs": [
    {
     "name": "stdout",
     "output_type": "stream",
     "text": [
      "Total number of motions animation: 120 and texts 120\n",
      "Total number of motions choreomaster: 34 and texts 34\n"
     ]
    }
   ],
   "source": [
    "train_ds, sampler_train, weights_train  = load_dataset_gen(dataset_names = [\"animation\" , \"choreomaster\"] , dataset_args=dataset_args, split = \"train\")\n"
   ]
  },
  {
   "cell_type": "code",
   "execution_count": null,
   "id": "68f6e2e6-119d-4e81-92a8-cffd8580977f",
   "metadata": {},
   "outputs": [],
   "source": []
  },
  {
   "cell_type": "code",
   "execution_count": 12,
   "id": "83026f28-7b18-413d-b0fa-da7b0b9dc4c9",
   "metadata": {},
   "outputs": [],
   "source": [
    "train_loader = torch.utils.data.DataLoader(\n",
    "        train_ds,\n",
    "        4,\n",
    "        sampler=sampler_train,\n",
    "        # shuffle = False,\n",
    "        collate_fn=partial(simple_collate , conditioner = condition_provider , permute = True),\n",
    "        # drop_last=True,\n",
    "    )"
   ]
  },
  {
   "cell_type": "code",
   "execution_count": 13,
   "id": "e8b12b3d-eed4-4bc1-b5fb-2893a504af83",
   "metadata": {},
   "outputs": [],
   "source": [
    "for inputs, conditions in (train_loader):\n",
    "    break\n",
    "    "
   ]
  },
  {
   "cell_type": "code",
   "execution_count": 14,
   "id": "8a41c28d-97f4-40bf-99f1-96a2a564981d",
   "metadata": {},
   "outputs": [
    {
     "data": {
      "text/plain": [
       "array(['choreomaster/1040', 'choreomaster/1093',\n",
       "       'animation/subset_0000/Ways_To_Enter_A_Room_Police',\n",
       "       'choreomaster/0071'], dtype='<U49')"
      ]
     },
     "execution_count": 14,
     "metadata": {},
     "output_type": "execute_result"
    }
   ],
   "source": [
    "inputs[\"names\"]"
   ]
  },
  {
   "cell_type": "code",
   "execution_count": 15,
   "id": "ef2f7105-081f-42ca-b3b6-93e0e91868ee",
   "metadata": {},
   "outputs": [
    {
     "data": {
      "text/plain": [
       "{'text': 'cross', 'audio': 'input_interpolate'}"
      ]
     },
     "execution_count": 15,
     "metadata": {},
     "output_type": "execute_result"
    }
   ],
   "source": [
    "motion_gen.model.condition_fuser.cond2fuse"
   ]
  },
  {
   "cell_type": "code",
   "execution_count": 16,
   "id": "39f49b0f-0414-4b7e-9060-e37fbab45483",
   "metadata": {},
   "outputs": [
    {
     "data": {
      "text/plain": [
       "torch.Size([4, 120, 128])"
      ]
     },
     "execution_count": 16,
     "metadata": {},
     "output_type": "execute_result"
    }
   ],
   "source": [
    "conditions[\"audio\"][0].shape"
   ]
  },
  {
   "cell_type": "code",
   "execution_count": 17,
   "id": "7e3257fb-6c6b-4f01-b666-27a4d2b41940",
   "metadata": {},
   "outputs": [
    {
     "data": {
      "text/plain": [
       "torch.Size([4, 32, 1024])"
      ]
     },
     "execution_count": 17,
     "metadata": {},
     "output_type": "execute_result"
    }
   ],
   "source": [
    "conditions[\"text\"][0].shape"
   ]
  },
  {
   "cell_type": "code",
   "execution_count": 18,
   "id": "83892144-716d-4c5c-80de-bff2c633d4b6",
   "metadata": {},
   "outputs": [
    {
     "data": {
      "text/plain": [
       "torch.Size([4, 1, 30])"
      ]
     },
     "execution_count": 18,
     "metadata": {},
     "output_type": "execute_result"
    }
   ],
   "source": [
    "inputs[\"motion\"][0].shape"
   ]
  },
  {
   "cell_type": "code",
   "execution_count": null,
   "id": "c155de0b-fc94-45c8-ad4d-13e09eeae4c2",
   "metadata": {},
   "outputs": [],
   "source": []
  },
  {
   "cell_type": "code",
   "execution_count": null,
   "id": "b171eec5-d5a5-4aa8-a0e5-8ae146c4f536",
   "metadata": {},
   "outputs": [],
   "source": []
  },
  {
   "cell_type": "code",
   "execution_count": 19,
   "id": "6dee4d6b-d7f7-4b06-b968-006841a920ff",
   "metadata": {},
   "outputs": [],
   "source": [
    "loss , logits = motion_gen(inputs[\"motion\"] , conditions, return_logits=True)"
   ]
  },
  {
   "cell_type": "code",
   "execution_count": null,
   "id": "c15f1ac8-5c76-40e5-a5ef-3ae444d5da60",
   "metadata": {},
   "outputs": [],
   "source": []
  },
  {
   "cell_type": "code",
   "execution_count": null,
   "id": "f418537b-d050-408e-892b-d69a0937398d",
   "metadata": {},
   "outputs": [],
   "source": []
  },
  {
   "cell_type": "code",
   "execution_count": 115,
   "id": "9a6b079c-2df5-4073-8638-4d2f19653cbd",
   "metadata": {},
   "outputs": [],
   "source": [
    "motions_ids = inputs[\"motion\"][0].cuda()\n",
    "B, K, T = motions_ids.shape"
   ]
  },
  {
   "cell_type": "code",
   "execution_count": 116,
   "id": "83a6c625-8c54-4c48-ba53-8ea5f63aa670",
   "metadata": {},
   "outputs": [
    {
     "data": {
      "text/plain": [
       "torch.Size([4, 1, 30])"
      ]
     },
     "execution_count": 116,
     "metadata": {},
     "output_type": "execute_result"
    }
   ],
   "source": [
    "motions_ids.shape"
   ]
  },
  {
   "cell_type": "code",
   "execution_count": 120,
   "id": "675307ab-526e-4e8a-86c1-7dbff52e34e0",
   "metadata": {},
   "outputs": [
    {
     "name": "stdout",
     "output_type": "stream",
     "text": [
      "rpos torch.Size([120, 3])\n",
      "torch.Size([120, 21, 3])\n"
     ]
    }
   ],
   "source": [
    "gen_motion = bkn_to_motion(motions_ids[0:1], train_ds.datasets[0])\n",
    "train_ds.datasets[0].render_hml(\n",
    "                    gen_motion,\n",
    "                    \"/srv/hays-lab/scratch/sanisetty3/music_motion/ATCMG/render/gen_novel.gif\"\n",
    "                )"
   ]
  },
  {
   "cell_type": "code",
   "execution_count": null,
   "id": "8a360a9a-8ee9-4e34-ae83-bfeaf51db640",
   "metadata": {},
   "outputs": [],
   "source": []
  },
  {
   "cell_type": "code",
   "execution_count": null,
   "id": "0a6ef72b-ba57-4bed-9ec7-86dbc2688ee7",
   "metadata": {},
   "outputs": [],
   "source": []
  },
  {
   "cell_type": "code",
   "execution_count": null,
   "id": "65176837-d681-4e83-8e74-03cc80ababd3",
   "metadata": {},
   "outputs": [],
   "source": []
  },
  {
   "cell_type": "code",
   "execution_count": null,
   "id": "96363ec9-7e20-4c27-8a58-0dc09ee5488c",
   "metadata": {},
   "outputs": [],
   "source": []
  },
  {
   "cell_type": "code",
   "execution_count": null,
   "id": "e48e1e60-bda2-41df-9842-042006d2a03b",
   "metadata": {},
   "outputs": [],
   "source": []
  },
  {
   "cell_type": "code",
   "execution_count": null,
   "id": "962edc5f-435c-4948-9bc9-82c574a44e56",
   "metadata": {},
   "outputs": [],
   "source": []
  },
  {
   "cell_type": "code",
   "execution_count": null,
   "id": "0aae0c7c-6c3e-4cd5-b690-6f99b9e63cc2",
   "metadata": {},
   "outputs": [],
   "source": []
  },
  {
   "cell_type": "markdown",
   "id": "77ab000b-0630-4b52-ae63-bac0c6249313",
   "metadata": {},
   "source": [
    "## Translation transformer"
   ]
  },
  {
   "cell_type": "code",
   "execution_count": 6,
   "id": "328680a3-3569-425e-9ed0-ff9046a5a746",
   "metadata": {},
   "outputs": [
    {
     "name": "stderr",
     "output_type": "stream",
     "text": [
      "/srv/hays-lab/flash5/sanisetty3/miniconda3/envs/tgm3d/lib/python3.9/site-packages/tqdm/auto.py:21: TqdmWarning: IProgress not found. Please update jupyter and ipywidgets. See https://ipywidgets.readthedocs.io/en/stable/user_install.html\n",
      "  from .autonotebook import tqdm as notebook_tqdm\n"
     ]
    }
   ],
   "source": [
    "from core import MotionTokenizerParams, pattern_providers\n",
    "\n",
    "from core.param_dataclasses import pattern_providers\n",
    "from core.datasets.translation_dataset import TranslationAudioTextDataset, load_dataset, simple_collate\n",
    "from core.models.utils import instantiate_from_config, get_obj_from_str\n",
    "from core import MotionRep, AudioRep, TextRep\n",
    "from core.datasets.conditioner import ConditionProvider,ConditionFuser\n",
    "import einops\n",
    "from configs.config_t2m import get_cfg_defaults as trans_get_cfg_defaults\n",
    "from core import MotionTokenizerParams\n",
    "\n",
    "from core.datasets.text_encoders import BERTConditioner, ClipConditioner, T5Conditioner, parse_prompt_attention\n",
    "from core.datasets.audio_encoders import EncodecConditioner, LibrosaConditioner\n",
    "\n",
    "from utils.motion_processing.quaternion import qinv, qrot, quaternion_to_cont6d\n",
    "import utils.rotation_conversions as geometry\n",
    "\n",
    "from core.models.generation.translation_transformer import TranslationTransformer"
   ]
  },
  {
   "cell_type": "code",
   "execution_count": 7,
   "id": "e9ee8a0d-b4a2-48a1-a2d8-c03bbc766a9f",
   "metadata": {},
   "outputs": [],
   "source": [
    "def quaternion_to_angle_axis(q):\n",
    "    \"\"\"\n",
    "    Convert quaternion to angle-axis representation.\n",
    "    \"\"\"\n",
    "    q0, q1, q2, q3 = q\n",
    "    angle = 2 * np.arccos(q0)\n",
    "    axis = np.array([q1, q2]) / np.sqrt(1 - q0**2)\n",
    "    return angle, axis\n",
    "\n",
    "def visualize_orientations_2d(points, orientations):\n",
    "    plt.figure(figsize=(8, 6))\n",
    "\n",
    "    # Plot points\n",
    "    plt.scatter(points[:, 0], points[:, 1], c='b', marker='o', label='Points')\n",
    "\n",
    "    # Plot orientation vectors\n",
    "    for i in range(len(points)):\n",
    "        origin = points[i]\n",
    "        orientation_quaternion = orientations[i]\n",
    "        angle, axis = quaternion_to_angle_axis(orientation_quaternion)\n",
    "        dx, dy = axis * angle\n",
    "        plt.quiver(*origin, dx, dy, scale=1, color='r')\n",
    "\n",
    "    plt.xlabel('X')\n",
    "    plt.ylabel('Y')\n",
    "    plt.title('Orientation Visualization in 2D')\n",
    "    plt.legend()\n",
    "    plt.grid()\n",
    "    plt.axis('equal')\n",
    "    plt.show()"
   ]
  },
  {
   "cell_type": "code",
   "execution_count": 8,
   "id": "4719cd41-4fb9-49c9-9ec4-23bca94f9148",
   "metadata": {},
   "outputs": [],
   "source": [
    "t_cfg = trans_get_cfg_defaults()\n",
    "t_cfg.merge_from_file(\"/srv/hays-lab/scratch/sanisetty3/music_motion/ATCMG/checkpoints/motion_translation/motion_translation.yaml\")\n",
    "# t_cfg.freeze()\n",
    "\n",
    "tranformer_config = t_cfg.translation_transformer\n",
    "fuse_config = t_cfg.fuser\n",
    "dataset_args = t_cfg.dataset\n",
    "\n",
    "target = tranformer_config.pop(\"target\")\n"
   ]
  },
  {
   "cell_type": "code",
   "execution_count": 9,
   "id": "3bfb75fe-d85c-440c-b7d8-c717969aa9f7",
   "metadata": {},
   "outputs": [
    {
     "name": "stdout",
     "output_type": "stream",
     "text": [
      "Non-A100 GPU detected, using math or mem efficient attention if input tensor is on cuda\n"
     ]
    }
   ],
   "source": [
    "from core.models.generation.translation_transformer import TranslationTransformer\n",
    "trans_former = TranslationTransformer(tranformer_config, fuse_config).to(device)"
   ]
  },
  {
   "cell_type": "code",
   "execution_count": 10,
   "id": "30da0030-17ce-4836-b184-693d66531256",
   "metadata": {},
   "outputs": [],
   "source": [
    "trans_former.load(\"/srv/hays-lab/scratch/sanisetty3/music_motion/ATCMG/checkpoints/motion_translation/translation_transformer.pt\")"
   ]
  },
  {
   "cell_type": "code",
   "execution_count": 10,
   "id": "a0238212-7d31-4c83-87a0-1e60da4f6f4c",
   "metadata": {},
   "outputs": [],
   "source": [
    "\n",
    "def recover_root_rot_pos(data):\n",
    "    rot_vel = data[..., 0]\n",
    "    r_rot_ang = torch.zeros_like(rot_vel).to(data.device)\n",
    "    \"\"\"Get Y-axis rotation from rotation velocity\"\"\"\n",
    "    r_rot_ang[..., 1:] = rot_vel[..., :-1]\n",
    "    r_rot_ang = torch.cumsum(r_rot_ang, dim=-1)\n",
    "\n",
    "    r_rot_quat = torch.zeros(data.shape[:-1] + (4,)).to(data.device)\n",
    "    r_rot_quat[..., 0] = torch.cos(r_rot_ang)\n",
    "    r_rot_quat[..., 2] = torch.sin(r_rot_ang)\n",
    "\n",
    "    r_pos = torch.zeros(data.shape[:-1] + (3,)).to(data.device)\n",
    "    data = data.to(torch.float)\n",
    "    r_pos[..., 1:, [0, 2]] = data[..., :-1, 1:3]\n",
    "    \"\"\"Add Y-axis rotation to root position\"\"\"\n",
    "    r_pos = qrot(qinv(r_rot_quat), r_pos)\n",
    "\n",
    "    r_pos = torch.cumsum(r_pos, dim=-2)\n",
    "\n",
    "    r_pos[..., 1] = data[..., 3]\n",
    "    return r_rot_quat, r_pos"
   ]
  },
  {
   "cell_type": "code",
   "execution_count": 11,
   "id": "43cb1e06-b842-48ea-8694-128575b8dd13",
   "metadata": {},
   "outputs": [
    {
     "name": "stderr",
     "output_type": "stream",
     "text": [
      "/srv/hays-lab/flash5/sanisetty3/miniconda3/envs/tgm3d/lib/python3.9/site-packages/torch/nn/utils/weight_norm.py:28: UserWarning: torch.nn.utils.weight_norm is deprecated in favor of torch.nn.utils.parametrizations.weight_norm.\n",
      "  warnings.warn(\"torch.nn.utils.weight_norm is deprecated in favor of torch.nn.utils.parametrizations.weight_norm.\")\n",
      "Could not find image processor class in the image processor config or the model config. Loading based on pattern matching with the model's feature extractor configuration. Please open a PR/issue to update `preprocessor_config.json` to use `image_processor_type` instead of `feature_extractor_type`. This warning will be removed in v4.40.\n"
     ]
    }
   ],
   "source": [
    "condition_provider = ConditionProvider(\n",
    "            text_conditioner_name = dataset_args.text_conditioner_name,\n",
    "            motion_rep=MotionRep(dataset_args.motion_rep),\n",
    "            audio_rep=AudioRep(dataset_args.audio_rep),\n",
    "            text_rep=TextRep(dataset_args.text_rep),\n",
    "            motion_padding=dataset_args.motion_padding,\n",
    "            audio_padding=dataset_args.audio_padding,\n",
    "            motion_max_length_s=dataset_args.motion_max_length_s,\n",
    "            audio_max_length_s=dataset_args.audio_max_length_s,\n",
    "            fps=30,\n",
    "            # device = \"cpu\"\n",
    "        )"
   ]
  },
  {
   "cell_type": "code",
   "execution_count": 19,
   "id": "e6801612-b3aa-4f1e-9798-cb50fb11daee",
   "metadata": {},
   "outputs": [],
   "source": [
    "# dataset_args.window_size_s = -1"
   ]
  },
  {
   "cell_type": "code",
   "execution_count": 16,
   "id": "076d047e-ecb4-4d6d-920e-7dbcde33efe8",
   "metadata": {},
   "outputs": [
    {
     "name": "stdout",
     "output_type": "stream",
     "text": [
      "Total number of motions animation: 120 and texts 120\n",
      "Total number of motions choreomaster: 34 and texts 34\n"
     ]
    }
   ],
   "source": [
    "train_ds, sampler_train, weights_train  = load_dataset(dataset_names = [\"animation\" , \"choreomaster\"] , dataset_args=dataset_args, split = \"train\")\n"
   ]
  },
  {
   "cell_type": "code",
   "execution_count": 21,
   "id": "efb9e4fe-d94d-4677-baa5-3e687d33e1d0",
   "metadata": {},
   "outputs": [],
   "source": [
    "mot = train_ds.datasets[0][1][\"motion\"]"
   ]
  },
  {
   "cell_type": "code",
   "execution_count": 22,
   "id": "55529559-a9d3-40c5-b374-f5793ad9c38f",
   "metadata": {},
   "outputs": [
    {
     "data": {
      "text/plain": [
       "(236, 4)"
      ]
     },
     "execution_count": 22,
     "metadata": {},
     "output_type": "execute_result"
    }
   ],
   "source": [
    "mot.shape"
   ]
  },
  {
   "cell_type": "code",
   "execution_count": 17,
   "id": "0ad5b264-6ec0-4b50-be34-679f92a690e1",
   "metadata": {},
   "outputs": [],
   "source": [
    "train_loader = torch.utils.data.DataLoader(\n",
    "        train_ds,\n",
    "        4,\n",
    "        sampler=sampler_train,\n",
    "        # shuffle = False,\n",
    "        collate_fn=partial(simple_collate , conditioner = condition_provider),\n",
    "        # drop_last=True,\n",
    "    )"
   ]
  },
  {
   "cell_type": "code",
   "execution_count": 18,
   "id": "89e38118-175f-4db9-916c-9b76e187c41c",
   "metadata": {},
   "outputs": [],
   "source": [
    "for inputs, conditions in (train_loader):\n",
    "    break\n",
    "    "
   ]
  },
  {
   "cell_type": "code",
   "execution_count": 19,
   "id": "a47afe82-7fb3-46cb-9ed7-76e6f432a088",
   "metadata": {},
   "outputs": [
    {
     "data": {
      "text/plain": [
       "array(['choreomaster/1056',\n",
       "       'animation/subset_0003/Ways_To_Pick_Up_A_Dollar_Dirty_Dollar',\n",
       "       'choreomaster/1166', 'choreomaster/1166'], dtype='<U59')"
      ]
     },
     "execution_count": 19,
     "metadata": {},
     "output_type": "execute_result"
    }
   ],
   "source": [
    "inputs[\"names\"]"
   ]
  },
  {
   "cell_type": "code",
   "execution_count": null,
   "id": "dacd6198-1af7-4229-883e-54fe88cbfec9",
   "metadata": {},
   "outputs": [],
   "source": []
  },
  {
   "cell_type": "code",
   "execution_count": null,
   "id": "8d60c400-7f00-4269-a869-97d14ca01956",
   "metadata": {},
   "outputs": [],
   "source": [
    "all_null[\"text\"][0]"
   ]
  },
  {
   "cell_type": "code",
   "execution_count": 26,
   "id": "0abd0fbe-cf8d-4b3e-a2d9-bdf59bed4e8b",
   "metadata": {},
   "outputs": [
    {
     "data": {
      "text/plain": [
       "torch.Size([2, 120, 4])"
      ]
     },
     "execution_count": 26,
     "metadata": {},
     "output_type": "execute_result"
    }
   ],
   "source": [
    "inputs[\"motion\"][0].shape"
   ]
  },
  {
   "cell_type": "code",
   "execution_count": 28,
   "id": "375457d1-1e2d-4560-82b4-84a8e5aa18bb",
   "metadata": {},
   "outputs": [
    {
     "data": {
      "text/plain": [
       "torch.Size([2, 1, 128])"
      ]
     },
     "execution_count": 28,
     "metadata": {},
     "output_type": "execute_result"
    }
   ],
   "source": [
    "conditions[\"audio\"][0].shape"
   ]
  },
  {
   "cell_type": "code",
   "execution_count": 30,
   "id": "53486a4c-f050-48fb-a11b-6f546ac1a8ad",
   "metadata": {},
   "outputs": [
    {
     "data": {
      "text/plain": [
       "torch.Size([2, 1])"
      ]
     },
     "execution_count": 30,
     "metadata": {},
     "output_type": "execute_result"
    }
   ],
   "source": [
    "conditions[\"audio\"][1].shape"
   ]
  },
  {
   "cell_type": "code",
   "execution_count": 23,
   "id": "bd846452-7e4c-470f-9ab5-665368b0d232",
   "metadata": {},
   "outputs": [],
   "source": [
    "null_conds = trans_former.model.cfg_dropout(conditions)"
   ]
  },
  {
   "cell_type": "code",
   "execution_count": 27,
   "id": "76e272a9-72d8-44c1-a2e1-c74bc0d84fbf",
   "metadata": {
    "scrolled": true
   },
   "outputs": [],
   "source": [
    "loss, embed = trans_former(inputs[\"motion\"] , conditions)\n",
    "# pred_rot = geometry.matrix_to_quaternion(geometry.rotation_6d_to_matrix(embed))"
   ]
  },
  {
   "cell_type": "code",
   "execution_count": 28,
   "id": "a009c7b4-64d3-4caf-b81d-217e8f5f262f",
   "metadata": {},
   "outputs": [
    {
     "data": {
      "text/plain": [
       "torch.Size([4, 120, 4])"
      ]
     },
     "execution_count": 28,
     "metadata": {},
     "output_type": "execute_result"
    }
   ],
   "source": [
    "embed.shape"
   ]
  },
  {
   "cell_type": "code",
   "execution_count": 24,
   "id": "8d2e4183-f417-4223-8573-31feb0cbbe77",
   "metadata": {},
   "outputs": [],
   "source": [
    "loss, embed = trans_former(inputs[\"motion\"] , null_conds)\n"
   ]
  },
  {
   "cell_type": "code",
   "execution_count": 42,
   "id": "6a37c1a6-293c-45ac-bf29-8fee3cec27d4",
   "metadata": {},
   "outputs": [],
   "source": [
    "r_rot, r_pos = trans_former.recover_root_rot_pos(inputs[\"motion\"][0])"
   ]
  },
  {
   "cell_type": "code",
   "execution_count": 40,
   "id": "45fe10c8-b77c-48fb-8a0d-7465f97e36d2",
   "metadata": {},
   "outputs": [
    {
     "data": {
      "text/plain": [
       "tensor([[[ 1.0000e+00,  0.0000e+00, -9.1349e-04, -4.8828e-04],\n",
       "         [ 1.0000e+00,  3.4527e-04, -1.6194e-03, -0.0000e+00],\n",
       "         [ 1.0000e+00,  1.7263e-04, -6.2244e-04,  1.7263e-04],\n",
       "         ...,\n",
       "         [ 1.0000e+00,  2.4414e-04, -2.4414e-04, -0.0000e+00],\n",
       "         [ 1.0000e+00, -6.7966e-04, -1.3757e-03,  2.7296e-04],\n",
       "         [ 1.0000e+00, -0.0000e+00, -8.4573e-04,  0.0000e+00]],\n",
       "\n",
       "        [[ 1.0000e+00,  1.2207e-04, -9.2161e-04, -2.1143e-04],\n",
       "         [ 1.0000e+00,  7.2218e-04, -1.2146e-03, -4.4013e-04],\n",
       "         [ 1.0000e+00,  1.7263e-04, -4.5675e-04,  1.7263e-04],\n",
       "         ...,\n",
       "         [ 1.0000e+00,  4.2286e-04, -6.4594e-04,  0.0000e+00],\n",
       "         [ 1.0000e+00, -2.4414e-04, -1.0642e-03,  0.0000e+00],\n",
       "         [ 1.0000e+00,  2.7296e-04, -7.4252e-04, -2.1143e-04]]],\n",
       "       device='cuda:0')"
      ]
     },
     "execution_count": 40,
     "metadata": {},
     "output_type": "execute_result"
    }
   ],
   "source": [
    "pred_rot"
   ]
  },
  {
   "cell_type": "code",
   "execution_count": 43,
   "id": "cab017d2-caa9-4107-be21-ec69a2bfe590",
   "metadata": {},
   "outputs": [
    {
     "data": {
      "text/plain": [
       "tensor([[ 1.0000e+00,  0.0000e+00,  0.0000e+00,  0.0000e+00],\n",
       "        [ 9.9968e-01,  0.0000e+00, -2.5121e-02,  0.0000e+00],\n",
       "        [ 9.9964e-01,  0.0000e+00, -2.6666e-02,  0.0000e+00],\n",
       "        [ 9.9960e-01,  0.0000e+00, -2.8236e-02,  0.0000e+00],\n",
       "        [ 9.9956e-01,  0.0000e+00, -2.9825e-02,  0.0000e+00],\n",
       "        [ 9.9951e-01,  0.0000e+00, -3.1432e-02,  0.0000e+00],\n",
       "        [ 9.9945e-01,  0.0000e+00, -3.3051e-02,  0.0000e+00],\n",
       "        [ 9.9940e-01,  0.0000e+00, -3.4678e-02,  0.0000e+00],\n",
       "        [ 9.9934e-01,  0.0000e+00, -3.6310e-02,  0.0000e+00],\n",
       "        [ 9.9928e-01,  0.0000e+00, -3.7941e-02,  0.0000e+00],\n",
       "        [ 9.9922e-01,  0.0000e+00, -3.9568e-02,  0.0000e+00],\n",
       "        [ 9.9915e-01,  0.0000e+00, -4.1184e-02,  0.0000e+00],\n",
       "        [ 9.9908e-01,  0.0000e+00, -4.2787e-02,  0.0000e+00],\n",
       "        [ 9.9902e-01,  0.0000e+00, -4.4371e-02,  0.0000e+00],\n",
       "        [ 9.9894e-01,  0.0000e+00, -4.5931e-02,  0.0000e+00],\n",
       "        [ 9.9887e-01,  0.0000e+00, -4.7462e-02,  0.0000e+00],\n",
       "        [ 9.9880e-01,  0.0000e+00, -4.8961e-02,  0.0000e+00],\n",
       "        [ 9.9873e-01,  0.0000e+00, -5.0423e-02,  0.0000e+00],\n",
       "        [ 9.9866e-01,  0.0000e+00, -5.1843e-02,  0.0000e+00],\n",
       "        [ 9.9858e-01,  0.0000e+00, -5.3217e-02,  0.0000e+00],\n",
       "        [ 9.9851e-01,  0.0000e+00, -5.4541e-02,  0.0000e+00],\n",
       "        [ 9.9844e-01,  0.0000e+00, -5.5811e-02,  0.0000e+00],\n",
       "        [ 9.9837e-01,  0.0000e+00, -5.7024e-02,  0.0000e+00],\n",
       "        [ 9.9831e-01,  0.0000e+00, -5.8175e-02,  0.0000e+00],\n",
       "        [ 9.9824e-01,  0.0000e+00, -5.9261e-02,  0.0000e+00],\n",
       "        [ 9.9818e-01,  0.0000e+00, -6.0279e-02,  0.0000e+00],\n",
       "        [ 9.9812e-01,  0.0000e+00, -6.1227e-02,  0.0000e+00],\n",
       "        [ 9.9807e-01,  0.0000e+00, -6.2101e-02,  0.0000e+00],\n",
       "        [ 9.9802e-01,  0.0000e+00, -6.2899e-02,  0.0000e+00],\n",
       "        [ 9.9797e-01,  0.0000e+00, -6.3620e-02,  0.0000e+00],\n",
       "        [ 9.9793e-01,  0.0000e+00, -6.4260e-02,  0.0000e+00],\n",
       "        [ 9.9790e-01,  0.0000e+00, -6.4818e-02,  0.0000e+00],\n",
       "        [ 9.9787e-01,  0.0000e+00, -6.5294e-02,  0.0000e+00],\n",
       "        [ 9.9784e-01,  0.0000e+00, -6.5685e-02,  0.0000e+00],\n",
       "        [ 9.9782e-01,  0.0000e+00, -6.5990e-02,  0.0000e+00],\n",
       "        [ 9.9781e-01,  0.0000e+00, -6.6210e-02,  0.0000e+00],\n",
       "        [ 9.9780e-01,  0.0000e+00, -6.6342e-02,  0.0000e+00],\n",
       "        [ 9.9779e-01,  0.0000e+00, -6.6388e-02,  0.0000e+00],\n",
       "        [ 9.9780e-01,  0.0000e+00, -6.6346e-02,  0.0000e+00],\n",
       "        [ 9.9781e-01,  0.0000e+00, -6.6216e-02,  0.0000e+00],\n",
       "        [ 9.9782e-01,  0.0000e+00, -6.5999e-02,  0.0000e+00],\n",
       "        [ 9.9784e-01,  0.0000e+00, -6.5695e-02,  0.0000e+00],\n",
       "        [ 9.9787e-01,  0.0000e+00, -6.5304e-02,  0.0000e+00],\n",
       "        [ 9.9790e-01,  0.0000e+00, -6.4825e-02,  0.0000e+00],\n",
       "        [ 9.9793e-01,  0.0000e+00, -6.4261e-02,  0.0000e+00],\n",
       "        [ 9.9797e-01,  0.0000e+00, -6.3610e-02,  0.0000e+00],\n",
       "        [ 9.9802e-01,  0.0000e+00, -6.2874e-02,  0.0000e+00],\n",
       "        [ 9.9807e-01,  0.0000e+00, -6.2053e-02,  0.0000e+00],\n",
       "        [ 9.9813e-01,  0.0000e+00, -6.1147e-02,  0.0000e+00],\n",
       "        [ 9.9819e-01,  0.0000e+00, -6.0158e-02,  0.0000e+00],\n",
       "        [ 9.9825e-01,  0.0000e+00, -5.9085e-02,  0.0000e+00],\n",
       "        [ 9.9832e-01,  0.0000e+00, -5.7929e-02,  0.0000e+00],\n",
       "        [ 9.9839e-01,  0.0000e+00, -5.6690e-02,  0.0000e+00],\n",
       "        [ 9.9847e-01,  0.0000e+00, -5.5369e-02,  0.0000e+00],\n",
       "        [ 9.9854e-01,  0.0000e+00, -5.3966e-02,  0.0000e+00],\n",
       "        [ 9.9862e-01,  0.0000e+00, -5.2481e-02,  0.0000e+00],\n",
       "        [ 9.9870e-01,  0.0000e+00, -5.0914e-02,  0.0000e+00],\n",
       "        [ 9.9879e-01,  0.0000e+00, -4.9266e-02,  0.0000e+00],\n",
       "        [ 9.9887e-01,  0.0000e+00, -4.7536e-02,  0.0000e+00],\n",
       "        [ 9.9895e-01,  0.0000e+00, -4.5724e-02,  0.0000e+00],\n",
       "        [ 9.9904e-01,  0.0000e+00, -4.3832e-02,  0.0000e+00],\n",
       "        [ 9.9912e-01,  0.0000e+00, -4.1857e-02,  0.0000e+00],\n",
       "        [ 9.9921e-01,  0.0000e+00, -3.9802e-02,  0.0000e+00],\n",
       "        [ 9.9929e-01,  0.0000e+00, -3.7664e-02,  0.0000e+00],\n",
       "        [ 9.9937e-01,  0.0000e+00, -3.5445e-02,  0.0000e+00],\n",
       "        [ 9.9945e-01,  0.0000e+00, -3.3144e-02,  0.0000e+00],\n",
       "        [ 9.9953e-01,  0.0000e+00, -3.0761e-02,  0.0000e+00],\n",
       "        [ 9.9960e-01,  0.0000e+00, -2.8297e-02,  0.0000e+00],\n",
       "        [ 9.9967e-01,  0.0000e+00, -2.5750e-02,  0.0000e+00],\n",
       "        [ 9.9973e-01,  0.0000e+00, -2.3121e-02,  0.0000e+00],\n",
       "        [ 9.9979e-01,  0.0000e+00, -2.0411e-02,  0.0000e+00],\n",
       "        [ 9.9984e-01,  0.0000e+00, -1.7618e-02,  0.0000e+00],\n",
       "        [ 9.9989e-01,  0.0000e+00, -1.4744e-02,  0.0000e+00],\n",
       "        [ 9.9993e-01,  0.0000e+00, -1.1788e-02,  0.0000e+00],\n",
       "        [ 9.9996e-01,  0.0000e+00, -8.7503e-03,  0.0000e+00],\n",
       "        [ 9.9998e-01,  0.0000e+00, -5.6311e-03,  0.0000e+00],\n",
       "        [ 1.0000e+00,  0.0000e+00, -2.4306e-03,  0.0000e+00],\n",
       "        [ 1.0000e+00,  0.0000e+00,  8.5127e-04,  0.0000e+00],\n",
       "        [ 9.9999e-01,  0.0000e+00,  4.2143e-03,  0.0000e+00],\n",
       "        [ 9.9997e-01,  0.0000e+00,  7.6584e-03,  0.0000e+00],\n",
       "        [ 9.9994e-01,  0.0000e+00,  1.1184e-02,  0.0000e+00],\n",
       "        [ 9.9989e-01,  0.0000e+00,  1.4790e-02,  0.0000e+00],\n",
       "        [ 9.9983e-01,  0.0000e+00,  1.8477e-02,  0.0000e+00],\n",
       "        [ 9.9975e-01,  0.0000e+00,  2.2247e-02,  0.0000e+00],\n",
       "        [ 9.9966e-01,  0.0000e+00,  2.6098e-02,  0.0000e+00],\n",
       "        [ 9.9955e-01,  0.0000e+00,  3.0031e-02,  0.0000e+00],\n",
       "        [ 9.9942e-01,  0.0000e+00,  3.4047e-02,  0.0000e+00],\n",
       "        [ 9.9927e-01,  0.0000e+00,  3.8148e-02,  0.0000e+00],\n",
       "        [ 9.9910e-01,  0.0000e+00,  4.2333e-02,  0.0000e+00],\n",
       "        [ 9.9891e-01,  0.0000e+00,  4.6604e-02,  0.0000e+00],\n",
       "        [ 9.9870e-01,  0.0000e+00,  5.0963e-02,  0.0000e+00],\n",
       "        [ 9.9846e-01,  0.0000e+00,  5.5410e-02,  0.0000e+00],\n",
       "        [ 9.9820e-01,  0.0000e+00,  5.9949e-02,  0.0000e+00],\n",
       "        [ 9.9791e-01,  0.0000e+00,  6.4580e-02,  0.0000e+00],\n",
       "        [ 9.9760e-01,  0.0000e+00,  6.9307e-02,  0.0000e+00],\n",
       "        [ 9.9725e-01,  0.0000e+00,  7.4131e-02,  0.0000e+00],\n",
       "        [ 9.9687e-01,  0.0000e+00,  7.9056e-02,  0.0000e+00],\n",
       "        [ 9.9646e-01,  0.0000e+00,  8.4083e-02,  0.0000e+00],\n",
       "        [ 9.9601e-01,  0.0000e+00,  8.9217e-02,  0.0000e+00],\n",
       "        [ 9.9553e-01,  0.0000e+00,  9.4461e-02,  0.0000e+00],\n",
       "        [ 9.9501e-01,  0.0000e+00,  9.9818e-02,  0.0000e+00],\n",
       "        [ 9.9444e-01,  0.0000e+00,  1.0529e-01,  0.0000e+00],\n",
       "        [ 9.9383e-01,  0.0000e+00,  1.1089e-01,  0.0000e+00],\n",
       "        [ 9.9318e-01,  0.0000e+00,  1.1660e-01,  0.0000e+00],\n",
       "        [ 9.9247e-01,  0.0000e+00,  1.2245e-01,  0.0000e+00],\n",
       "        [ 9.9172e-01,  0.0000e+00,  1.2843e-01,  0.0000e+00],\n",
       "        [ 9.9091e-01,  0.0000e+00,  1.3454e-01,  0.0000e+00],\n",
       "        [ 9.9004e-01,  0.0000e+00,  1.4080e-01,  0.0000e+00],\n",
       "        [ 9.8911e-01,  0.0000e+00,  1.4720e-01,  0.0000e+00],\n",
       "        [ 9.8811e-01,  0.0000e+00,  1.5375e-01,  0.0000e+00],\n",
       "        [ 9.8704e-01,  0.0000e+00,  1.6045e-01,  0.0000e+00],\n",
       "        [ 9.8590e-01,  0.0000e+00,  1.6731e-01,  0.0000e+00],\n",
       "        [ 9.8469e-01,  0.0000e+00,  1.7433e-01,  0.0000e+00],\n",
       "        [ 9.8339e-01,  0.0000e+00,  1.8151e-01,  0.0000e+00],\n",
       "        [ 9.8200e-01,  0.0000e+00,  1.8887e-01,  0.0000e+00],\n",
       "        [ 9.8053e-01,  0.0000e+00,  1.9639e-01,  0.0000e+00],\n",
       "        [ 9.7895e-01,  0.0000e+00,  2.0409e-01,  0.0000e+00],\n",
       "        [ 9.7728e-01,  0.0000e+00,  2.1196e-01,  0.0000e+00],\n",
       "        [ 9.7550e-01,  0.0000e+00,  2.2002e-01,  0.0000e+00],\n",
       "        [ 9.7360e-01,  0.0000e+00,  2.2825e-01,  0.0000e+00]], device='cuda:0')"
      ]
     },
     "execution_count": 43,
     "metadata": {},
     "output_type": "execute_result"
    }
   ],
   "source": [
    "r_rot[1]"
   ]
  },
  {
   "cell_type": "code",
   "execution_count": 46,
   "id": "2fa4fe4c-902c-4acc-a6d1-32904750a84f",
   "metadata": {},
   "outputs": [],
   "source": [
    "aa = geometry.quaternion_to_axis_angle(r_rot)"
   ]
  },
  {
   "cell_type": "code",
   "execution_count": 48,
   "id": "6160ec47-04f3-4aea-b5d2-863982cdce3a",
   "metadata": {},
   "outputs": [
    {
     "data": {
      "text/plain": [
       "tensor([[[ 1.0000e+00,  0.0000e+00,  0.0000e+00,  0.0000e+00],\n",
       "         [ 9.9878e-01,  0.0000e+00,  4.9388e-02,  0.0000e+00],\n",
       "         [ 9.9880e-01,  0.0000e+00,  4.8895e-02,  0.0000e+00],\n",
       "         [ 9.9883e-01,  0.0000e+00,  4.8387e-02,  0.0000e+00],\n",
       "         [ 9.9885e-01,  0.0000e+00,  4.7867e-02,  0.0000e+00],\n",
       "         [ 9.9888e-01,  0.0000e+00,  4.7336e-02,  0.0000e+00],\n",
       "         [ 9.9890e-01,  0.0000e+00,  4.6795e-02,  0.0000e+00],\n",
       "         [ 9.9893e-01,  0.0000e+00,  4.6245e-02,  0.0000e+00],\n",
       "         [ 9.9896e-01,  0.0000e+00,  4.5687e-02,  0.0000e+00],\n",
       "         [ 9.9898e-01,  0.0000e+00,  4.5124e-02,  0.0000e+00],\n",
       "         [ 9.9901e-01,  0.0000e+00,  4.4557e-02,  0.0000e+00],\n",
       "         [ 9.9903e-01,  0.0000e+00,  4.3987e-02,  0.0000e+00],\n",
       "         [ 9.9906e-01,  0.0000e+00,  4.3417e-02,  0.0000e+00],\n",
       "         [ 9.9908e-01,  0.0000e+00,  4.2847e-02,  0.0000e+00],\n",
       "         [ 9.9911e-01,  0.0000e+00,  4.2280e-02,  0.0000e+00],\n",
       "         [ 9.9913e-01,  0.0000e+00,  4.1717e-02,  0.0000e+00],\n",
       "         [ 9.9915e-01,  0.0000e+00,  4.1160e-02,  0.0000e+00],\n",
       "         [ 9.9918e-01,  0.0000e+00,  4.0611e-02,  0.0000e+00],\n",
       "         [ 9.9920e-01,  0.0000e+00,  4.0071e-02,  0.0000e+00],\n",
       "         [ 9.9922e-01,  0.0000e+00,  3.9541e-02,  0.0000e+00],\n",
       "         [ 9.9924e-01,  0.0000e+00,  3.9024e-02,  0.0000e+00],\n",
       "         [ 9.9926e-01,  0.0000e+00,  3.8520e-02,  0.0000e+00],\n",
       "         [ 9.9928e-01,  0.0000e+00,  3.8030e-02,  0.0000e+00],\n",
       "         [ 9.9929e-01,  0.0000e+00,  3.7557e-02,  0.0000e+00],\n",
       "         [ 9.9931e-01,  0.0000e+00,  3.7099e-02,  0.0000e+00],\n",
       "         [ 9.9933e-01,  0.0000e+00,  3.6660e-02,  0.0000e+00],\n",
       "         [ 9.9934e-01,  0.0000e+00,  3.6238e-02,  0.0000e+00],\n",
       "         [ 9.9936e-01,  0.0000e+00,  3.5834e-02,  0.0000e+00],\n",
       "         [ 9.9937e-01,  0.0000e+00,  3.5450e-02,  0.0000e+00],\n",
       "         [ 9.9938e-01,  0.0000e+00,  3.5084e-02,  0.0000e+00],\n",
       "         [ 9.9940e-01,  0.0000e+00,  3.4736e-02,  0.0000e+00],\n",
       "         [ 9.9941e-01,  0.0000e+00,  3.4407e-02,  0.0000e+00],\n",
       "         [ 9.9942e-01,  0.0000e+00,  3.4097e-02,  0.0000e+00],\n",
       "         [ 9.9943e-01,  0.0000e+00,  3.3803e-02,  0.0000e+00],\n",
       "         [ 9.9944e-01,  0.0000e+00,  3.3527e-02,  0.0000e+00],\n",
       "         [ 9.9945e-01,  0.0000e+00,  3.3266e-02,  0.0000e+00],\n",
       "         [ 9.9945e-01,  0.0000e+00,  3.3020e-02,  0.0000e+00],\n",
       "         [ 9.9946e-01,  0.0000e+00,  3.2787e-02,  0.0000e+00],\n",
       "         [ 9.9947e-01,  0.0000e+00,  3.2567e-02,  0.0000e+00],\n",
       "         [ 9.9948e-01,  0.0000e+00,  3.2358e-02,  0.0000e+00],\n",
       "         [ 9.9948e-01,  0.0000e+00,  3.2158e-02,  0.0000e+00],\n",
       "         [ 9.9949e-01,  0.0000e+00,  3.1966e-02,  0.0000e+00],\n",
       "         [ 9.9949e-01,  0.0000e+00,  3.1781e-02,  0.0000e+00],\n",
       "         [ 9.9950e-01,  0.0000e+00,  3.1600e-02,  0.0000e+00],\n",
       "         [ 9.9951e-01,  0.0000e+00,  3.1423e-02,  0.0000e+00],\n",
       "         [ 9.9951e-01,  0.0000e+00,  3.1247e-02,  0.0000e+00],\n",
       "         [ 9.9952e-01,  0.0000e+00,  3.1071e-02,  0.0000e+00],\n",
       "         [ 9.9952e-01,  0.0000e+00,  3.0893e-02,  0.0000e+00],\n",
       "         [ 9.9953e-01,  0.0000e+00,  3.0712e-02,  0.0000e+00],\n",
       "         [ 9.9953e-01,  0.0000e+00,  3.0526e-02,  0.0000e+00],\n",
       "         [ 9.9954e-01,  0.0000e+00,  3.0334e-02,  0.0000e+00],\n",
       "         [ 9.9955e-01,  0.0000e+00,  3.0134e-02,  0.0000e+00],\n",
       "         [ 9.9955e-01,  0.0000e+00,  2.9925e-02,  0.0000e+00],\n",
       "         [ 9.9956e-01,  0.0000e+00,  2.9706e-02,  0.0000e+00],\n",
       "         [ 9.9957e-01,  0.0000e+00,  2.9476e-02,  0.0000e+00],\n",
       "         [ 9.9957e-01,  0.0000e+00,  2.9233e-02,  0.0000e+00],\n",
       "         [ 9.9958e-01,  0.0000e+00,  2.8978e-02,  0.0000e+00],\n",
       "         [ 9.9959e-01,  0.0000e+00,  2.8709e-02,  0.0000e+00],\n",
       "         [ 9.9960e-01,  0.0000e+00,  2.8426e-02,  0.0000e+00],\n",
       "         [ 9.9960e-01,  0.0000e+00,  2.8128e-02,  0.0000e+00],\n",
       "         [ 9.9961e-01,  0.0000e+00,  2.7815e-02,  0.0000e+00],\n",
       "         [ 9.9962e-01,  0.0000e+00,  2.7487e-02,  0.0000e+00],\n",
       "         [ 9.9963e-01,  0.0000e+00,  2.7143e-02,  0.0000e+00],\n",
       "         [ 9.9964e-01,  0.0000e+00,  2.6785e-02,  0.0000e+00],\n",
       "         [ 9.9965e-01,  0.0000e+00,  2.6412e-02,  0.0000e+00],\n",
       "         [ 9.9966e-01,  0.0000e+00,  2.6025e-02,  0.0000e+00],\n",
       "         [ 9.9967e-01,  0.0000e+00,  2.5623e-02,  0.0000e+00],\n",
       "         [ 9.9968e-01,  0.0000e+00,  2.5209e-02,  0.0000e+00],\n",
       "         [ 9.9969e-01,  0.0000e+00,  2.4782e-02,  0.0000e+00],\n",
       "         [ 9.9970e-01,  0.0000e+00,  2.4343e-02,  0.0000e+00],\n",
       "         [ 9.9971e-01,  0.0000e+00,  2.3894e-02,  0.0000e+00],\n",
       "         [ 9.9973e-01,  0.0000e+00,  2.3436e-02,  0.0000e+00],\n",
       "         [ 9.9974e-01,  0.0000e+00,  2.2969e-02,  0.0000e+00],\n",
       "         [ 9.9975e-01,  0.0000e+00,  2.2496e-02,  0.0000e+00],\n",
       "         [ 9.9976e-01,  0.0000e+00,  2.2016e-02,  0.0000e+00],\n",
       "         [ 9.9977e-01,  0.0000e+00,  2.1533e-02,  0.0000e+00],\n",
       "         [ 9.9978e-01,  0.0000e+00,  2.1048e-02,  0.0000e+00],\n",
       "         [ 9.9979e-01,  0.0000e+00,  2.0561e-02,  0.0000e+00],\n",
       "         [ 9.9980e-01,  0.0000e+00,  2.0075e-02,  0.0000e+00],\n",
       "         [ 9.9981e-01,  0.0000e+00,  1.9592e-02,  0.0000e+00],\n",
       "         [ 9.9982e-01,  0.0000e+00,  1.9112e-02,  0.0000e+00],\n",
       "         [ 9.9983e-01,  0.0000e+00,  1.8638e-02,  0.0000e+00],\n",
       "         [ 9.9983e-01,  0.0000e+00,  1.8172e-02,  0.0000e+00],\n",
       "         [ 9.9984e-01,  0.0000e+00,  1.7715e-02,  0.0000e+00],\n",
       "         [ 9.9985e-01,  0.0000e+00,  1.7269e-02,  0.0000e+00],\n",
       "         [ 9.9986e-01,  0.0000e+00,  1.6836e-02,  0.0000e+00],\n",
       "         [ 9.9987e-01,  0.0000e+00,  1.6418e-02,  0.0000e+00],\n",
       "         [ 9.9987e-01,  0.0000e+00,  1.6015e-02,  0.0000e+00],\n",
       "         [ 9.9988e-01,  0.0000e+00,  1.5630e-02,  0.0000e+00],\n",
       "         [ 9.9988e-01,  0.0000e+00,  1.5265e-02,  0.0000e+00],\n",
       "         [ 9.9989e-01,  0.0000e+00,  1.4920e-02,  0.0000e+00],\n",
       "         [ 9.9989e-01,  0.0000e+00,  1.4597e-02,  0.0000e+00],\n",
       "         [ 9.9990e-01,  0.0000e+00,  1.4298e-02,  0.0000e+00],\n",
       "         [ 9.9990e-01,  0.0000e+00,  1.4023e-02,  0.0000e+00],\n",
       "         [ 9.9991e-01,  0.0000e+00,  1.3774e-02,  0.0000e+00],\n",
       "         [ 9.9991e-01,  0.0000e+00,  1.3551e-02,  0.0000e+00],\n",
       "         [ 9.9991e-01,  0.0000e+00,  1.3356e-02,  0.0000e+00],\n",
       "         [ 9.9991e-01,  0.0000e+00,  1.3189e-02,  0.0000e+00],\n",
       "         [ 9.9991e-01,  0.0000e+00,  1.3051e-02,  0.0000e+00],\n",
       "         [ 9.9992e-01,  0.0000e+00,  1.2942e-02,  0.0000e+00],\n",
       "         [ 9.9992e-01,  0.0000e+00,  1.2861e-02,  0.0000e+00],\n",
       "         [ 9.9992e-01,  0.0000e+00,  1.2810e-02,  0.0000e+00],\n",
       "         [ 9.9992e-01,  0.0000e+00,  1.2788e-02,  0.0000e+00],\n",
       "         [ 9.9992e-01,  0.0000e+00,  1.2795e-02,  0.0000e+00],\n",
       "         [ 9.9992e-01,  0.0000e+00,  1.2829e-02,  0.0000e+00],\n",
       "         [ 9.9992e-01,  0.0000e+00,  1.2891e-02,  0.0000e+00],\n",
       "         [ 9.9992e-01,  0.0000e+00,  1.2980e-02,  0.0000e+00],\n",
       "         [ 9.9991e-01,  0.0000e+00,  1.3094e-02,  0.0000e+00],\n",
       "         [ 9.9991e-01,  0.0000e+00,  1.3232e-02,  0.0000e+00],\n",
       "         [ 9.9991e-01,  0.0000e+00,  1.3394e-02,  0.0000e+00],\n",
       "         [ 9.9991e-01,  0.0000e+00,  1.3576e-02,  0.0000e+00],\n",
       "         [ 9.9991e-01,  0.0000e+00,  1.3778e-02,  0.0000e+00],\n",
       "         [ 9.9990e-01,  0.0000e+00,  1.3998e-02,  0.0000e+00],\n",
       "         [ 9.9990e-01,  0.0000e+00,  1.4233e-02,  0.0000e+00],\n",
       "         [ 9.9990e-01,  0.0000e+00,  1.4483e-02,  0.0000e+00],\n",
       "         [ 9.9989e-01,  0.0000e+00,  1.4743e-02,  0.0000e+00],\n",
       "         [ 9.9989e-01,  0.0000e+00,  1.5013e-02,  0.0000e+00],\n",
       "         [ 9.9988e-01,  0.0000e+00,  1.5289e-02,  0.0000e+00],\n",
       "         [ 9.9988e-01,  0.0000e+00,  1.5570e-02,  0.0000e+00],\n",
       "         [ 9.9987e-01,  0.0000e+00,  1.5853e-02,  0.0000e+00]],\n",
       "\n",
       "        [[ 1.0000e+00,  0.0000e+00,  0.0000e+00,  0.0000e+00],\n",
       "         [ 9.9968e-01,  0.0000e+00, -2.5121e-02,  0.0000e+00],\n",
       "         [ 9.9964e-01,  0.0000e+00, -2.6666e-02,  0.0000e+00],\n",
       "         [ 9.9960e-01,  0.0000e+00, -2.8236e-02,  0.0000e+00],\n",
       "         [ 9.9956e-01,  0.0000e+00, -2.9825e-02,  0.0000e+00],\n",
       "         [ 9.9951e-01,  0.0000e+00, -3.1432e-02,  0.0000e+00],\n",
       "         [ 9.9945e-01,  0.0000e+00, -3.3051e-02,  0.0000e+00],\n",
       "         [ 9.9940e-01,  0.0000e+00, -3.4678e-02,  0.0000e+00],\n",
       "         [ 9.9934e-01,  0.0000e+00, -3.6310e-02,  0.0000e+00],\n",
       "         [ 9.9928e-01,  0.0000e+00, -3.7941e-02,  0.0000e+00],\n",
       "         [ 9.9922e-01,  0.0000e+00, -3.9568e-02,  0.0000e+00],\n",
       "         [ 9.9915e-01,  0.0000e+00, -4.1184e-02,  0.0000e+00],\n",
       "         [ 9.9908e-01,  0.0000e+00, -4.2787e-02,  0.0000e+00],\n",
       "         [ 9.9902e-01,  0.0000e+00, -4.4371e-02,  0.0000e+00],\n",
       "         [ 9.9894e-01,  0.0000e+00, -4.5931e-02,  0.0000e+00],\n",
       "         [ 9.9887e-01,  0.0000e+00, -4.7462e-02,  0.0000e+00],\n",
       "         [ 9.9880e-01,  0.0000e+00, -4.8961e-02,  0.0000e+00],\n",
       "         [ 9.9873e-01,  0.0000e+00, -5.0423e-02,  0.0000e+00],\n",
       "         [ 9.9866e-01,  0.0000e+00, -5.1843e-02,  0.0000e+00],\n",
       "         [ 9.9858e-01,  0.0000e+00, -5.3217e-02,  0.0000e+00],\n",
       "         [ 9.9851e-01,  0.0000e+00, -5.4541e-02,  0.0000e+00],\n",
       "         [ 9.9844e-01,  0.0000e+00, -5.5811e-02,  0.0000e+00],\n",
       "         [ 9.9837e-01,  0.0000e+00, -5.7024e-02,  0.0000e+00],\n",
       "         [ 9.9831e-01,  0.0000e+00, -5.8175e-02,  0.0000e+00],\n",
       "         [ 9.9824e-01,  0.0000e+00, -5.9261e-02,  0.0000e+00],\n",
       "         [ 9.9818e-01,  0.0000e+00, -6.0279e-02,  0.0000e+00],\n",
       "         [ 9.9812e-01,  0.0000e+00, -6.1227e-02,  0.0000e+00],\n",
       "         [ 9.9807e-01,  0.0000e+00, -6.2101e-02,  0.0000e+00],\n",
       "         [ 9.9802e-01,  0.0000e+00, -6.2899e-02,  0.0000e+00],\n",
       "         [ 9.9797e-01,  0.0000e+00, -6.3620e-02,  0.0000e+00],\n",
       "         [ 9.9793e-01,  0.0000e+00, -6.4260e-02,  0.0000e+00],\n",
       "         [ 9.9790e-01,  0.0000e+00, -6.4818e-02,  0.0000e+00],\n",
       "         [ 9.9787e-01,  0.0000e+00, -6.5294e-02,  0.0000e+00],\n",
       "         [ 9.9784e-01,  0.0000e+00, -6.5685e-02,  0.0000e+00],\n",
       "         [ 9.9782e-01,  0.0000e+00, -6.5990e-02,  0.0000e+00],\n",
       "         [ 9.9781e-01,  0.0000e+00, -6.6210e-02,  0.0000e+00],\n",
       "         [ 9.9780e-01,  0.0000e+00, -6.6342e-02,  0.0000e+00],\n",
       "         [ 9.9779e-01,  0.0000e+00, -6.6388e-02,  0.0000e+00],\n",
       "         [ 9.9780e-01,  0.0000e+00, -6.6346e-02,  0.0000e+00],\n",
       "         [ 9.9781e-01,  0.0000e+00, -6.6216e-02,  0.0000e+00],\n",
       "         [ 9.9782e-01,  0.0000e+00, -6.5999e-02,  0.0000e+00],\n",
       "         [ 9.9784e-01,  0.0000e+00, -6.5695e-02,  0.0000e+00],\n",
       "         [ 9.9787e-01,  0.0000e+00, -6.5304e-02,  0.0000e+00],\n",
       "         [ 9.9790e-01,  0.0000e+00, -6.4825e-02,  0.0000e+00],\n",
       "         [ 9.9793e-01,  0.0000e+00, -6.4261e-02,  0.0000e+00],\n",
       "         [ 9.9797e-01,  0.0000e+00, -6.3610e-02,  0.0000e+00],\n",
       "         [ 9.9802e-01,  0.0000e+00, -6.2874e-02,  0.0000e+00],\n",
       "         [ 9.9807e-01,  0.0000e+00, -6.2053e-02,  0.0000e+00],\n",
       "         [ 9.9813e-01,  0.0000e+00, -6.1147e-02,  0.0000e+00],\n",
       "         [ 9.9819e-01,  0.0000e+00, -6.0158e-02,  0.0000e+00],\n",
       "         [ 9.9825e-01,  0.0000e+00, -5.9085e-02,  0.0000e+00],\n",
       "         [ 9.9832e-01,  0.0000e+00, -5.7929e-02,  0.0000e+00],\n",
       "         [ 9.9839e-01,  0.0000e+00, -5.6690e-02,  0.0000e+00],\n",
       "         [ 9.9847e-01,  0.0000e+00, -5.5369e-02,  0.0000e+00],\n",
       "         [ 9.9854e-01,  0.0000e+00, -5.3966e-02,  0.0000e+00],\n",
       "         [ 9.9862e-01,  0.0000e+00, -5.2481e-02,  0.0000e+00],\n",
       "         [ 9.9870e-01,  0.0000e+00, -5.0914e-02,  0.0000e+00],\n",
       "         [ 9.9879e-01,  0.0000e+00, -4.9266e-02,  0.0000e+00],\n",
       "         [ 9.9887e-01,  0.0000e+00, -4.7536e-02,  0.0000e+00],\n",
       "         [ 9.9895e-01,  0.0000e+00, -4.5724e-02,  0.0000e+00],\n",
       "         [ 9.9904e-01,  0.0000e+00, -4.3832e-02,  0.0000e+00],\n",
       "         [ 9.9912e-01,  0.0000e+00, -4.1857e-02,  0.0000e+00],\n",
       "         [ 9.9921e-01,  0.0000e+00, -3.9802e-02,  0.0000e+00],\n",
       "         [ 9.9929e-01,  0.0000e+00, -3.7664e-02,  0.0000e+00],\n",
       "         [ 9.9937e-01,  0.0000e+00, -3.5445e-02,  0.0000e+00],\n",
       "         [ 9.9945e-01,  0.0000e+00, -3.3144e-02,  0.0000e+00],\n",
       "         [ 9.9953e-01,  0.0000e+00, -3.0761e-02,  0.0000e+00],\n",
       "         [ 9.9960e-01,  0.0000e+00, -2.8297e-02,  0.0000e+00],\n",
       "         [ 9.9967e-01,  0.0000e+00, -2.5750e-02,  0.0000e+00],\n",
       "         [ 9.9973e-01,  0.0000e+00, -2.3121e-02,  0.0000e+00],\n",
       "         [ 9.9979e-01,  0.0000e+00, -2.0411e-02,  0.0000e+00],\n",
       "         [ 9.9984e-01,  0.0000e+00, -1.7618e-02,  0.0000e+00],\n",
       "         [ 9.9989e-01,  0.0000e+00, -1.4744e-02,  0.0000e+00],\n",
       "         [ 9.9993e-01,  0.0000e+00, -1.1788e-02,  0.0000e+00],\n",
       "         [ 9.9996e-01,  0.0000e+00, -8.7503e-03,  0.0000e+00],\n",
       "         [ 9.9998e-01,  0.0000e+00, -5.6311e-03,  0.0000e+00],\n",
       "         [ 1.0000e+00,  0.0000e+00, -2.4306e-03,  0.0000e+00],\n",
       "         [ 1.0000e+00,  0.0000e+00,  8.5127e-04,  0.0000e+00],\n",
       "         [ 9.9999e-01,  0.0000e+00,  4.2143e-03,  0.0000e+00],\n",
       "         [ 9.9997e-01,  0.0000e+00,  7.6584e-03,  0.0000e+00],\n",
       "         [ 9.9994e-01,  0.0000e+00,  1.1184e-02,  0.0000e+00],\n",
       "         [ 9.9989e-01,  0.0000e+00,  1.4790e-02,  0.0000e+00],\n",
       "         [ 9.9983e-01,  0.0000e+00,  1.8477e-02,  0.0000e+00],\n",
       "         [ 9.9975e-01,  0.0000e+00,  2.2247e-02,  0.0000e+00],\n",
       "         [ 9.9966e-01,  0.0000e+00,  2.6098e-02,  0.0000e+00],\n",
       "         [ 9.9955e-01,  0.0000e+00,  3.0031e-02,  0.0000e+00],\n",
       "         [ 9.9942e-01,  0.0000e+00,  3.4047e-02,  0.0000e+00],\n",
       "         [ 9.9927e-01,  0.0000e+00,  3.8148e-02,  0.0000e+00],\n",
       "         [ 9.9910e-01,  0.0000e+00,  4.2333e-02,  0.0000e+00],\n",
       "         [ 9.9891e-01,  0.0000e+00,  4.6604e-02,  0.0000e+00],\n",
       "         [ 9.9870e-01,  0.0000e+00,  5.0963e-02,  0.0000e+00],\n",
       "         [ 9.9846e-01,  0.0000e+00,  5.5410e-02,  0.0000e+00],\n",
       "         [ 9.9820e-01,  0.0000e+00,  5.9949e-02,  0.0000e+00],\n",
       "         [ 9.9791e-01,  0.0000e+00,  6.4580e-02,  0.0000e+00],\n",
       "         [ 9.9760e-01,  0.0000e+00,  6.9307e-02,  0.0000e+00],\n",
       "         [ 9.9725e-01,  0.0000e+00,  7.4131e-02,  0.0000e+00],\n",
       "         [ 9.9687e-01,  0.0000e+00,  7.9056e-02,  0.0000e+00],\n",
       "         [ 9.9646e-01,  0.0000e+00,  8.4083e-02,  0.0000e+00],\n",
       "         [ 9.9601e-01,  0.0000e+00,  8.9217e-02,  0.0000e+00],\n",
       "         [ 9.9553e-01,  0.0000e+00,  9.4461e-02,  0.0000e+00],\n",
       "         [ 9.9501e-01,  0.0000e+00,  9.9818e-02,  0.0000e+00],\n",
       "         [ 9.9444e-01,  0.0000e+00,  1.0529e-01,  0.0000e+00],\n",
       "         [ 9.9383e-01,  0.0000e+00,  1.1089e-01,  0.0000e+00],\n",
       "         [ 9.9318e-01,  0.0000e+00,  1.1660e-01,  0.0000e+00],\n",
       "         [ 9.9247e-01,  0.0000e+00,  1.2245e-01,  0.0000e+00],\n",
       "         [ 9.9172e-01,  0.0000e+00,  1.2843e-01,  0.0000e+00],\n",
       "         [ 9.9091e-01,  0.0000e+00,  1.3454e-01,  0.0000e+00],\n",
       "         [ 9.9004e-01,  0.0000e+00,  1.4080e-01,  0.0000e+00],\n",
       "         [ 9.8911e-01,  0.0000e+00,  1.4720e-01,  0.0000e+00],\n",
       "         [ 9.8811e-01,  0.0000e+00,  1.5375e-01,  0.0000e+00],\n",
       "         [ 9.8704e-01,  0.0000e+00,  1.6045e-01,  0.0000e+00],\n",
       "         [ 9.8590e-01,  0.0000e+00,  1.6731e-01,  0.0000e+00],\n",
       "         [ 9.8469e-01,  0.0000e+00,  1.7433e-01,  0.0000e+00],\n",
       "         [ 9.8339e-01,  0.0000e+00,  1.8151e-01,  0.0000e+00],\n",
       "         [ 9.8200e-01,  0.0000e+00,  1.8887e-01,  0.0000e+00],\n",
       "         [ 9.8053e-01,  0.0000e+00,  1.9639e-01,  0.0000e+00],\n",
       "         [ 9.7895e-01,  0.0000e+00,  2.0409e-01,  0.0000e+00],\n",
       "         [ 9.7728e-01,  0.0000e+00,  2.1196e-01,  0.0000e+00],\n",
       "         [ 9.7550e-01,  0.0000e+00,  2.2002e-01,  0.0000e+00],\n",
       "         [ 9.7360e-01,  0.0000e+00,  2.2825e-01,  0.0000e+00]]],\n",
       "       device='cuda:0')"
      ]
     },
     "execution_count": 48,
     "metadata": {},
     "output_type": "execute_result"
    }
   ],
   "source": [
    "r_rot"
   ]
  },
  {
   "cell_type": "code",
   "execution_count": 49,
   "id": "b77e3479-0de9-49ad-87ca-1c05af146424",
   "metadata": {},
   "outputs": [],
   "source": [
    "pred = r_rot[...,[0,2]] "
   ]
  },
  {
   "cell_type": "code",
   "execution_count": 50,
   "id": "8f37618b-474d-428f-b3f5-ebe7f4f06ced",
   "metadata": {},
   "outputs": [
    {
     "data": {
      "text/plain": [
       "torch.Size([2, 120, 2])"
      ]
     },
     "execution_count": 50,
     "metadata": {},
     "output_type": "execute_result"
    }
   ],
   "source": [
    "pred.shape"
   ]
  },
  {
   "cell_type": "code",
   "execution_count": 52,
   "id": "7b810780-a503-4e8f-8c99-28a83dccb535",
   "metadata": {},
   "outputs": [],
   "source": [
    "pred_quat = torch.zeros((pred.shape[:-1] + (4,) ) , device  = pred.device , dtype = pred.dtype)\n",
    "pred_quat[...,[0,2]] = r_rot[...,[0,2]] "
   ]
  },
  {
   "cell_type": "code",
   "execution_count": 53,
   "id": "0c18e9ad-742c-4927-8203-8b324db270c1",
   "metadata": {},
   "outputs": [
    {
     "data": {
      "text/plain": [
       "tensor([[[ 1.0000e+00,  0.0000e+00,  0.0000e+00,  0.0000e+00],\n",
       "         [ 9.9878e-01,  0.0000e+00,  4.9388e-02,  0.0000e+00],\n",
       "         [ 9.9880e-01,  0.0000e+00,  4.8895e-02,  0.0000e+00],\n",
       "         [ 9.9883e-01,  0.0000e+00,  4.8387e-02,  0.0000e+00],\n",
       "         [ 9.9885e-01,  0.0000e+00,  4.7867e-02,  0.0000e+00],\n",
       "         [ 9.9888e-01,  0.0000e+00,  4.7336e-02,  0.0000e+00],\n",
       "         [ 9.9890e-01,  0.0000e+00,  4.6795e-02,  0.0000e+00],\n",
       "         [ 9.9893e-01,  0.0000e+00,  4.6245e-02,  0.0000e+00],\n",
       "         [ 9.9896e-01,  0.0000e+00,  4.5687e-02,  0.0000e+00],\n",
       "         [ 9.9898e-01,  0.0000e+00,  4.5124e-02,  0.0000e+00],\n",
       "         [ 9.9901e-01,  0.0000e+00,  4.4557e-02,  0.0000e+00],\n",
       "         [ 9.9903e-01,  0.0000e+00,  4.3987e-02,  0.0000e+00],\n",
       "         [ 9.9906e-01,  0.0000e+00,  4.3417e-02,  0.0000e+00],\n",
       "         [ 9.9908e-01,  0.0000e+00,  4.2847e-02,  0.0000e+00],\n",
       "         [ 9.9911e-01,  0.0000e+00,  4.2280e-02,  0.0000e+00],\n",
       "         [ 9.9913e-01,  0.0000e+00,  4.1717e-02,  0.0000e+00],\n",
       "         [ 9.9915e-01,  0.0000e+00,  4.1160e-02,  0.0000e+00],\n",
       "         [ 9.9918e-01,  0.0000e+00,  4.0611e-02,  0.0000e+00],\n",
       "         [ 9.9920e-01,  0.0000e+00,  4.0071e-02,  0.0000e+00],\n",
       "         [ 9.9922e-01,  0.0000e+00,  3.9541e-02,  0.0000e+00],\n",
       "         [ 9.9924e-01,  0.0000e+00,  3.9024e-02,  0.0000e+00],\n",
       "         [ 9.9926e-01,  0.0000e+00,  3.8520e-02,  0.0000e+00],\n",
       "         [ 9.9928e-01,  0.0000e+00,  3.8030e-02,  0.0000e+00],\n",
       "         [ 9.9929e-01,  0.0000e+00,  3.7557e-02,  0.0000e+00],\n",
       "         [ 9.9931e-01,  0.0000e+00,  3.7099e-02,  0.0000e+00],\n",
       "         [ 9.9933e-01,  0.0000e+00,  3.6660e-02,  0.0000e+00],\n",
       "         [ 9.9934e-01,  0.0000e+00,  3.6238e-02,  0.0000e+00],\n",
       "         [ 9.9936e-01,  0.0000e+00,  3.5834e-02,  0.0000e+00],\n",
       "         [ 9.9937e-01,  0.0000e+00,  3.5450e-02,  0.0000e+00],\n",
       "         [ 9.9938e-01,  0.0000e+00,  3.5084e-02,  0.0000e+00],\n",
       "         [ 9.9940e-01,  0.0000e+00,  3.4736e-02,  0.0000e+00],\n",
       "         [ 9.9941e-01,  0.0000e+00,  3.4407e-02,  0.0000e+00],\n",
       "         [ 9.9942e-01,  0.0000e+00,  3.4097e-02,  0.0000e+00],\n",
       "         [ 9.9943e-01,  0.0000e+00,  3.3803e-02,  0.0000e+00],\n",
       "         [ 9.9944e-01,  0.0000e+00,  3.3527e-02,  0.0000e+00],\n",
       "         [ 9.9945e-01,  0.0000e+00,  3.3266e-02,  0.0000e+00],\n",
       "         [ 9.9945e-01,  0.0000e+00,  3.3020e-02,  0.0000e+00],\n",
       "         [ 9.9946e-01,  0.0000e+00,  3.2787e-02,  0.0000e+00],\n",
       "         [ 9.9947e-01,  0.0000e+00,  3.2567e-02,  0.0000e+00],\n",
       "         [ 9.9948e-01,  0.0000e+00,  3.2358e-02,  0.0000e+00],\n",
       "         [ 9.9948e-01,  0.0000e+00,  3.2158e-02,  0.0000e+00],\n",
       "         [ 9.9949e-01,  0.0000e+00,  3.1966e-02,  0.0000e+00],\n",
       "         [ 9.9949e-01,  0.0000e+00,  3.1781e-02,  0.0000e+00],\n",
       "         [ 9.9950e-01,  0.0000e+00,  3.1600e-02,  0.0000e+00],\n",
       "         [ 9.9951e-01,  0.0000e+00,  3.1423e-02,  0.0000e+00],\n",
       "         [ 9.9951e-01,  0.0000e+00,  3.1247e-02,  0.0000e+00],\n",
       "         [ 9.9952e-01,  0.0000e+00,  3.1071e-02,  0.0000e+00],\n",
       "         [ 9.9952e-01,  0.0000e+00,  3.0893e-02,  0.0000e+00],\n",
       "         [ 9.9953e-01,  0.0000e+00,  3.0712e-02,  0.0000e+00],\n",
       "         [ 9.9953e-01,  0.0000e+00,  3.0526e-02,  0.0000e+00],\n",
       "         [ 9.9954e-01,  0.0000e+00,  3.0334e-02,  0.0000e+00],\n",
       "         [ 9.9955e-01,  0.0000e+00,  3.0134e-02,  0.0000e+00],\n",
       "         [ 9.9955e-01,  0.0000e+00,  2.9925e-02,  0.0000e+00],\n",
       "         [ 9.9956e-01,  0.0000e+00,  2.9706e-02,  0.0000e+00],\n",
       "         [ 9.9957e-01,  0.0000e+00,  2.9476e-02,  0.0000e+00],\n",
       "         [ 9.9957e-01,  0.0000e+00,  2.9233e-02,  0.0000e+00],\n",
       "         [ 9.9958e-01,  0.0000e+00,  2.8978e-02,  0.0000e+00],\n",
       "         [ 9.9959e-01,  0.0000e+00,  2.8709e-02,  0.0000e+00],\n",
       "         [ 9.9960e-01,  0.0000e+00,  2.8426e-02,  0.0000e+00],\n",
       "         [ 9.9960e-01,  0.0000e+00,  2.8128e-02,  0.0000e+00],\n",
       "         [ 9.9961e-01,  0.0000e+00,  2.7815e-02,  0.0000e+00],\n",
       "         [ 9.9962e-01,  0.0000e+00,  2.7487e-02,  0.0000e+00],\n",
       "         [ 9.9963e-01,  0.0000e+00,  2.7143e-02,  0.0000e+00],\n",
       "         [ 9.9964e-01,  0.0000e+00,  2.6785e-02,  0.0000e+00],\n",
       "         [ 9.9965e-01,  0.0000e+00,  2.6412e-02,  0.0000e+00],\n",
       "         [ 9.9966e-01,  0.0000e+00,  2.6025e-02,  0.0000e+00],\n",
       "         [ 9.9967e-01,  0.0000e+00,  2.5623e-02,  0.0000e+00],\n",
       "         [ 9.9968e-01,  0.0000e+00,  2.5209e-02,  0.0000e+00],\n",
       "         [ 9.9969e-01,  0.0000e+00,  2.4782e-02,  0.0000e+00],\n",
       "         [ 9.9970e-01,  0.0000e+00,  2.4343e-02,  0.0000e+00],\n",
       "         [ 9.9971e-01,  0.0000e+00,  2.3894e-02,  0.0000e+00],\n",
       "         [ 9.9973e-01,  0.0000e+00,  2.3436e-02,  0.0000e+00],\n",
       "         [ 9.9974e-01,  0.0000e+00,  2.2969e-02,  0.0000e+00],\n",
       "         [ 9.9975e-01,  0.0000e+00,  2.2496e-02,  0.0000e+00],\n",
       "         [ 9.9976e-01,  0.0000e+00,  2.2016e-02,  0.0000e+00],\n",
       "         [ 9.9977e-01,  0.0000e+00,  2.1533e-02,  0.0000e+00],\n",
       "         [ 9.9978e-01,  0.0000e+00,  2.1048e-02,  0.0000e+00],\n",
       "         [ 9.9979e-01,  0.0000e+00,  2.0561e-02,  0.0000e+00],\n",
       "         [ 9.9980e-01,  0.0000e+00,  2.0075e-02,  0.0000e+00],\n",
       "         [ 9.9981e-01,  0.0000e+00,  1.9592e-02,  0.0000e+00],\n",
       "         [ 9.9982e-01,  0.0000e+00,  1.9112e-02,  0.0000e+00],\n",
       "         [ 9.9983e-01,  0.0000e+00,  1.8638e-02,  0.0000e+00],\n",
       "         [ 9.9983e-01,  0.0000e+00,  1.8172e-02,  0.0000e+00],\n",
       "         [ 9.9984e-01,  0.0000e+00,  1.7715e-02,  0.0000e+00],\n",
       "         [ 9.9985e-01,  0.0000e+00,  1.7269e-02,  0.0000e+00],\n",
       "         [ 9.9986e-01,  0.0000e+00,  1.6836e-02,  0.0000e+00],\n",
       "         [ 9.9987e-01,  0.0000e+00,  1.6418e-02,  0.0000e+00],\n",
       "         [ 9.9987e-01,  0.0000e+00,  1.6015e-02,  0.0000e+00],\n",
       "         [ 9.9988e-01,  0.0000e+00,  1.5630e-02,  0.0000e+00],\n",
       "         [ 9.9988e-01,  0.0000e+00,  1.5265e-02,  0.0000e+00],\n",
       "         [ 9.9989e-01,  0.0000e+00,  1.4920e-02,  0.0000e+00],\n",
       "         [ 9.9989e-01,  0.0000e+00,  1.4597e-02,  0.0000e+00],\n",
       "         [ 9.9990e-01,  0.0000e+00,  1.4298e-02,  0.0000e+00],\n",
       "         [ 9.9990e-01,  0.0000e+00,  1.4023e-02,  0.0000e+00],\n",
       "         [ 9.9991e-01,  0.0000e+00,  1.3774e-02,  0.0000e+00],\n",
       "         [ 9.9991e-01,  0.0000e+00,  1.3551e-02,  0.0000e+00],\n",
       "         [ 9.9991e-01,  0.0000e+00,  1.3356e-02,  0.0000e+00],\n",
       "         [ 9.9991e-01,  0.0000e+00,  1.3189e-02,  0.0000e+00],\n",
       "         [ 9.9991e-01,  0.0000e+00,  1.3051e-02,  0.0000e+00],\n",
       "         [ 9.9992e-01,  0.0000e+00,  1.2942e-02,  0.0000e+00],\n",
       "         [ 9.9992e-01,  0.0000e+00,  1.2861e-02,  0.0000e+00],\n",
       "         [ 9.9992e-01,  0.0000e+00,  1.2810e-02,  0.0000e+00],\n",
       "         [ 9.9992e-01,  0.0000e+00,  1.2788e-02,  0.0000e+00],\n",
       "         [ 9.9992e-01,  0.0000e+00,  1.2795e-02,  0.0000e+00],\n",
       "         [ 9.9992e-01,  0.0000e+00,  1.2829e-02,  0.0000e+00],\n",
       "         [ 9.9992e-01,  0.0000e+00,  1.2891e-02,  0.0000e+00],\n",
       "         [ 9.9992e-01,  0.0000e+00,  1.2980e-02,  0.0000e+00],\n",
       "         [ 9.9991e-01,  0.0000e+00,  1.3094e-02,  0.0000e+00],\n",
       "         [ 9.9991e-01,  0.0000e+00,  1.3232e-02,  0.0000e+00],\n",
       "         [ 9.9991e-01,  0.0000e+00,  1.3394e-02,  0.0000e+00],\n",
       "         [ 9.9991e-01,  0.0000e+00,  1.3576e-02,  0.0000e+00],\n",
       "         [ 9.9991e-01,  0.0000e+00,  1.3778e-02,  0.0000e+00],\n",
       "         [ 9.9990e-01,  0.0000e+00,  1.3998e-02,  0.0000e+00],\n",
       "         [ 9.9990e-01,  0.0000e+00,  1.4233e-02,  0.0000e+00],\n",
       "         [ 9.9990e-01,  0.0000e+00,  1.4483e-02,  0.0000e+00],\n",
       "         [ 9.9989e-01,  0.0000e+00,  1.4743e-02,  0.0000e+00],\n",
       "         [ 9.9989e-01,  0.0000e+00,  1.5013e-02,  0.0000e+00],\n",
       "         [ 9.9988e-01,  0.0000e+00,  1.5289e-02,  0.0000e+00],\n",
       "         [ 9.9988e-01,  0.0000e+00,  1.5570e-02,  0.0000e+00],\n",
       "         [ 9.9987e-01,  0.0000e+00,  1.5853e-02,  0.0000e+00]],\n",
       "\n",
       "        [[ 1.0000e+00,  0.0000e+00,  0.0000e+00,  0.0000e+00],\n",
       "         [ 9.9968e-01,  0.0000e+00, -2.5121e-02,  0.0000e+00],\n",
       "         [ 9.9964e-01,  0.0000e+00, -2.6666e-02,  0.0000e+00],\n",
       "         [ 9.9960e-01,  0.0000e+00, -2.8236e-02,  0.0000e+00],\n",
       "         [ 9.9956e-01,  0.0000e+00, -2.9825e-02,  0.0000e+00],\n",
       "         [ 9.9951e-01,  0.0000e+00, -3.1432e-02,  0.0000e+00],\n",
       "         [ 9.9945e-01,  0.0000e+00, -3.3051e-02,  0.0000e+00],\n",
       "         [ 9.9940e-01,  0.0000e+00, -3.4678e-02,  0.0000e+00],\n",
       "         [ 9.9934e-01,  0.0000e+00, -3.6310e-02,  0.0000e+00],\n",
       "         [ 9.9928e-01,  0.0000e+00, -3.7941e-02,  0.0000e+00],\n",
       "         [ 9.9922e-01,  0.0000e+00, -3.9568e-02,  0.0000e+00],\n",
       "         [ 9.9915e-01,  0.0000e+00, -4.1184e-02,  0.0000e+00],\n",
       "         [ 9.9908e-01,  0.0000e+00, -4.2787e-02,  0.0000e+00],\n",
       "         [ 9.9902e-01,  0.0000e+00, -4.4371e-02,  0.0000e+00],\n",
       "         [ 9.9894e-01,  0.0000e+00, -4.5931e-02,  0.0000e+00],\n",
       "         [ 9.9887e-01,  0.0000e+00, -4.7462e-02,  0.0000e+00],\n",
       "         [ 9.9880e-01,  0.0000e+00, -4.8961e-02,  0.0000e+00],\n",
       "         [ 9.9873e-01,  0.0000e+00, -5.0423e-02,  0.0000e+00],\n",
       "         [ 9.9866e-01,  0.0000e+00, -5.1843e-02,  0.0000e+00],\n",
       "         [ 9.9858e-01,  0.0000e+00, -5.3217e-02,  0.0000e+00],\n",
       "         [ 9.9851e-01,  0.0000e+00, -5.4541e-02,  0.0000e+00],\n",
       "         [ 9.9844e-01,  0.0000e+00, -5.5811e-02,  0.0000e+00],\n",
       "         [ 9.9837e-01,  0.0000e+00, -5.7024e-02,  0.0000e+00],\n",
       "         [ 9.9831e-01,  0.0000e+00, -5.8175e-02,  0.0000e+00],\n",
       "         [ 9.9824e-01,  0.0000e+00, -5.9261e-02,  0.0000e+00],\n",
       "         [ 9.9818e-01,  0.0000e+00, -6.0279e-02,  0.0000e+00],\n",
       "         [ 9.9812e-01,  0.0000e+00, -6.1227e-02,  0.0000e+00],\n",
       "         [ 9.9807e-01,  0.0000e+00, -6.2101e-02,  0.0000e+00],\n",
       "         [ 9.9802e-01,  0.0000e+00, -6.2899e-02,  0.0000e+00],\n",
       "         [ 9.9797e-01,  0.0000e+00, -6.3620e-02,  0.0000e+00],\n",
       "         [ 9.9793e-01,  0.0000e+00, -6.4260e-02,  0.0000e+00],\n",
       "         [ 9.9790e-01,  0.0000e+00, -6.4818e-02,  0.0000e+00],\n",
       "         [ 9.9787e-01,  0.0000e+00, -6.5294e-02,  0.0000e+00],\n",
       "         [ 9.9784e-01,  0.0000e+00, -6.5685e-02,  0.0000e+00],\n",
       "         [ 9.9782e-01,  0.0000e+00, -6.5990e-02,  0.0000e+00],\n",
       "         [ 9.9781e-01,  0.0000e+00, -6.6210e-02,  0.0000e+00],\n",
       "         [ 9.9780e-01,  0.0000e+00, -6.6342e-02,  0.0000e+00],\n",
       "         [ 9.9779e-01,  0.0000e+00, -6.6388e-02,  0.0000e+00],\n",
       "         [ 9.9780e-01,  0.0000e+00, -6.6346e-02,  0.0000e+00],\n",
       "         [ 9.9781e-01,  0.0000e+00, -6.6216e-02,  0.0000e+00],\n",
       "         [ 9.9782e-01,  0.0000e+00, -6.5999e-02,  0.0000e+00],\n",
       "         [ 9.9784e-01,  0.0000e+00, -6.5695e-02,  0.0000e+00],\n",
       "         [ 9.9787e-01,  0.0000e+00, -6.5304e-02,  0.0000e+00],\n",
       "         [ 9.9790e-01,  0.0000e+00, -6.4825e-02,  0.0000e+00],\n",
       "         [ 9.9793e-01,  0.0000e+00, -6.4261e-02,  0.0000e+00],\n",
       "         [ 9.9797e-01,  0.0000e+00, -6.3610e-02,  0.0000e+00],\n",
       "         [ 9.9802e-01,  0.0000e+00, -6.2874e-02,  0.0000e+00],\n",
       "         [ 9.9807e-01,  0.0000e+00, -6.2053e-02,  0.0000e+00],\n",
       "         [ 9.9813e-01,  0.0000e+00, -6.1147e-02,  0.0000e+00],\n",
       "         [ 9.9819e-01,  0.0000e+00, -6.0158e-02,  0.0000e+00],\n",
       "         [ 9.9825e-01,  0.0000e+00, -5.9085e-02,  0.0000e+00],\n",
       "         [ 9.9832e-01,  0.0000e+00, -5.7929e-02,  0.0000e+00],\n",
       "         [ 9.9839e-01,  0.0000e+00, -5.6690e-02,  0.0000e+00],\n",
       "         [ 9.9847e-01,  0.0000e+00, -5.5369e-02,  0.0000e+00],\n",
       "         [ 9.9854e-01,  0.0000e+00, -5.3966e-02,  0.0000e+00],\n",
       "         [ 9.9862e-01,  0.0000e+00, -5.2481e-02,  0.0000e+00],\n",
       "         [ 9.9870e-01,  0.0000e+00, -5.0914e-02,  0.0000e+00],\n",
       "         [ 9.9879e-01,  0.0000e+00, -4.9266e-02,  0.0000e+00],\n",
       "         [ 9.9887e-01,  0.0000e+00, -4.7536e-02,  0.0000e+00],\n",
       "         [ 9.9895e-01,  0.0000e+00, -4.5724e-02,  0.0000e+00],\n",
       "         [ 9.9904e-01,  0.0000e+00, -4.3832e-02,  0.0000e+00],\n",
       "         [ 9.9912e-01,  0.0000e+00, -4.1857e-02,  0.0000e+00],\n",
       "         [ 9.9921e-01,  0.0000e+00, -3.9802e-02,  0.0000e+00],\n",
       "         [ 9.9929e-01,  0.0000e+00, -3.7664e-02,  0.0000e+00],\n",
       "         [ 9.9937e-01,  0.0000e+00, -3.5445e-02,  0.0000e+00],\n",
       "         [ 9.9945e-01,  0.0000e+00, -3.3144e-02,  0.0000e+00],\n",
       "         [ 9.9953e-01,  0.0000e+00, -3.0761e-02,  0.0000e+00],\n",
       "         [ 9.9960e-01,  0.0000e+00, -2.8297e-02,  0.0000e+00],\n",
       "         [ 9.9967e-01,  0.0000e+00, -2.5750e-02,  0.0000e+00],\n",
       "         [ 9.9973e-01,  0.0000e+00, -2.3121e-02,  0.0000e+00],\n",
       "         [ 9.9979e-01,  0.0000e+00, -2.0411e-02,  0.0000e+00],\n",
       "         [ 9.9984e-01,  0.0000e+00, -1.7618e-02,  0.0000e+00],\n",
       "         [ 9.9989e-01,  0.0000e+00, -1.4744e-02,  0.0000e+00],\n",
       "         [ 9.9993e-01,  0.0000e+00, -1.1788e-02,  0.0000e+00],\n",
       "         [ 9.9996e-01,  0.0000e+00, -8.7503e-03,  0.0000e+00],\n",
       "         [ 9.9998e-01,  0.0000e+00, -5.6311e-03,  0.0000e+00],\n",
       "         [ 1.0000e+00,  0.0000e+00, -2.4306e-03,  0.0000e+00],\n",
       "         [ 1.0000e+00,  0.0000e+00,  8.5127e-04,  0.0000e+00],\n",
       "         [ 9.9999e-01,  0.0000e+00,  4.2143e-03,  0.0000e+00],\n",
       "         [ 9.9997e-01,  0.0000e+00,  7.6584e-03,  0.0000e+00],\n",
       "         [ 9.9994e-01,  0.0000e+00,  1.1184e-02,  0.0000e+00],\n",
       "         [ 9.9989e-01,  0.0000e+00,  1.4790e-02,  0.0000e+00],\n",
       "         [ 9.9983e-01,  0.0000e+00,  1.8477e-02,  0.0000e+00],\n",
       "         [ 9.9975e-01,  0.0000e+00,  2.2247e-02,  0.0000e+00],\n",
       "         [ 9.9966e-01,  0.0000e+00,  2.6098e-02,  0.0000e+00],\n",
       "         [ 9.9955e-01,  0.0000e+00,  3.0031e-02,  0.0000e+00],\n",
       "         [ 9.9942e-01,  0.0000e+00,  3.4047e-02,  0.0000e+00],\n",
       "         [ 9.9927e-01,  0.0000e+00,  3.8148e-02,  0.0000e+00],\n",
       "         [ 9.9910e-01,  0.0000e+00,  4.2333e-02,  0.0000e+00],\n",
       "         [ 9.9891e-01,  0.0000e+00,  4.6604e-02,  0.0000e+00],\n",
       "         [ 9.9870e-01,  0.0000e+00,  5.0963e-02,  0.0000e+00],\n",
       "         [ 9.9846e-01,  0.0000e+00,  5.5410e-02,  0.0000e+00],\n",
       "         [ 9.9820e-01,  0.0000e+00,  5.9949e-02,  0.0000e+00],\n",
       "         [ 9.9791e-01,  0.0000e+00,  6.4580e-02,  0.0000e+00],\n",
       "         [ 9.9760e-01,  0.0000e+00,  6.9307e-02,  0.0000e+00],\n",
       "         [ 9.9725e-01,  0.0000e+00,  7.4131e-02,  0.0000e+00],\n",
       "         [ 9.9687e-01,  0.0000e+00,  7.9056e-02,  0.0000e+00],\n",
       "         [ 9.9646e-01,  0.0000e+00,  8.4083e-02,  0.0000e+00],\n",
       "         [ 9.9601e-01,  0.0000e+00,  8.9217e-02,  0.0000e+00],\n",
       "         [ 9.9553e-01,  0.0000e+00,  9.4461e-02,  0.0000e+00],\n",
       "         [ 9.9501e-01,  0.0000e+00,  9.9818e-02,  0.0000e+00],\n",
       "         [ 9.9444e-01,  0.0000e+00,  1.0529e-01,  0.0000e+00],\n",
       "         [ 9.9383e-01,  0.0000e+00,  1.1089e-01,  0.0000e+00],\n",
       "         [ 9.9318e-01,  0.0000e+00,  1.1660e-01,  0.0000e+00],\n",
       "         [ 9.9247e-01,  0.0000e+00,  1.2245e-01,  0.0000e+00],\n",
       "         [ 9.9172e-01,  0.0000e+00,  1.2843e-01,  0.0000e+00],\n",
       "         [ 9.9091e-01,  0.0000e+00,  1.3454e-01,  0.0000e+00],\n",
       "         [ 9.9004e-01,  0.0000e+00,  1.4080e-01,  0.0000e+00],\n",
       "         [ 9.8911e-01,  0.0000e+00,  1.4720e-01,  0.0000e+00],\n",
       "         [ 9.8811e-01,  0.0000e+00,  1.5375e-01,  0.0000e+00],\n",
       "         [ 9.8704e-01,  0.0000e+00,  1.6045e-01,  0.0000e+00],\n",
       "         [ 9.8590e-01,  0.0000e+00,  1.6731e-01,  0.0000e+00],\n",
       "         [ 9.8469e-01,  0.0000e+00,  1.7433e-01,  0.0000e+00],\n",
       "         [ 9.8339e-01,  0.0000e+00,  1.8151e-01,  0.0000e+00],\n",
       "         [ 9.8200e-01,  0.0000e+00,  1.8887e-01,  0.0000e+00],\n",
       "         [ 9.8053e-01,  0.0000e+00,  1.9639e-01,  0.0000e+00],\n",
       "         [ 9.7895e-01,  0.0000e+00,  2.0409e-01,  0.0000e+00],\n",
       "         [ 9.7728e-01,  0.0000e+00,  2.1196e-01,  0.0000e+00],\n",
       "         [ 9.7550e-01,  0.0000e+00,  2.2002e-01,  0.0000e+00],\n",
       "         [ 9.7360e-01,  0.0000e+00,  2.2825e-01,  0.0000e+00]]],\n",
       "       device='cuda:0')"
      ]
     },
     "execution_count": 53,
     "metadata": {},
     "output_type": "execute_result"
    }
   ],
   "source": [
    "r_rot"
   ]
  },
  {
   "cell_type": "code",
   "execution_count": 54,
   "id": "459d827e-fb19-46c6-9064-61a328e351d9",
   "metadata": {},
   "outputs": [
    {
     "data": {
      "text/plain": [
       "tensor([[[ 1.0000e+00,  0.0000e+00,  0.0000e+00,  0.0000e+00],\n",
       "         [ 9.9878e-01,  0.0000e+00,  4.9388e-02,  0.0000e+00],\n",
       "         [ 9.9880e-01,  0.0000e+00,  4.8895e-02,  0.0000e+00],\n",
       "         [ 9.9883e-01,  0.0000e+00,  4.8387e-02,  0.0000e+00],\n",
       "         [ 9.9885e-01,  0.0000e+00,  4.7867e-02,  0.0000e+00],\n",
       "         [ 9.9888e-01,  0.0000e+00,  4.7336e-02,  0.0000e+00],\n",
       "         [ 9.9890e-01,  0.0000e+00,  4.6795e-02,  0.0000e+00],\n",
       "         [ 9.9893e-01,  0.0000e+00,  4.6245e-02,  0.0000e+00],\n",
       "         [ 9.9896e-01,  0.0000e+00,  4.5687e-02,  0.0000e+00],\n",
       "         [ 9.9898e-01,  0.0000e+00,  4.5124e-02,  0.0000e+00],\n",
       "         [ 9.9901e-01,  0.0000e+00,  4.4557e-02,  0.0000e+00],\n",
       "         [ 9.9903e-01,  0.0000e+00,  4.3987e-02,  0.0000e+00],\n",
       "         [ 9.9906e-01,  0.0000e+00,  4.3417e-02,  0.0000e+00],\n",
       "         [ 9.9908e-01,  0.0000e+00,  4.2847e-02,  0.0000e+00],\n",
       "         [ 9.9911e-01,  0.0000e+00,  4.2280e-02,  0.0000e+00],\n",
       "         [ 9.9913e-01,  0.0000e+00,  4.1717e-02,  0.0000e+00],\n",
       "         [ 9.9915e-01,  0.0000e+00,  4.1160e-02,  0.0000e+00],\n",
       "         [ 9.9918e-01,  0.0000e+00,  4.0611e-02,  0.0000e+00],\n",
       "         [ 9.9920e-01,  0.0000e+00,  4.0071e-02,  0.0000e+00],\n",
       "         [ 9.9922e-01,  0.0000e+00,  3.9541e-02,  0.0000e+00],\n",
       "         [ 9.9924e-01,  0.0000e+00,  3.9024e-02,  0.0000e+00],\n",
       "         [ 9.9926e-01,  0.0000e+00,  3.8520e-02,  0.0000e+00],\n",
       "         [ 9.9928e-01,  0.0000e+00,  3.8030e-02,  0.0000e+00],\n",
       "         [ 9.9929e-01,  0.0000e+00,  3.7557e-02,  0.0000e+00],\n",
       "         [ 9.9931e-01,  0.0000e+00,  3.7099e-02,  0.0000e+00],\n",
       "         [ 9.9933e-01,  0.0000e+00,  3.6660e-02,  0.0000e+00],\n",
       "         [ 9.9934e-01,  0.0000e+00,  3.6238e-02,  0.0000e+00],\n",
       "         [ 9.9936e-01,  0.0000e+00,  3.5834e-02,  0.0000e+00],\n",
       "         [ 9.9937e-01,  0.0000e+00,  3.5450e-02,  0.0000e+00],\n",
       "         [ 9.9938e-01,  0.0000e+00,  3.5084e-02,  0.0000e+00],\n",
       "         [ 9.9940e-01,  0.0000e+00,  3.4736e-02,  0.0000e+00],\n",
       "         [ 9.9941e-01,  0.0000e+00,  3.4407e-02,  0.0000e+00],\n",
       "         [ 9.9942e-01,  0.0000e+00,  3.4097e-02,  0.0000e+00],\n",
       "         [ 9.9943e-01,  0.0000e+00,  3.3803e-02,  0.0000e+00],\n",
       "         [ 9.9944e-01,  0.0000e+00,  3.3527e-02,  0.0000e+00],\n",
       "         [ 9.9945e-01,  0.0000e+00,  3.3266e-02,  0.0000e+00],\n",
       "         [ 9.9945e-01,  0.0000e+00,  3.3020e-02,  0.0000e+00],\n",
       "         [ 9.9946e-01,  0.0000e+00,  3.2787e-02,  0.0000e+00],\n",
       "         [ 9.9947e-01,  0.0000e+00,  3.2567e-02,  0.0000e+00],\n",
       "         [ 9.9948e-01,  0.0000e+00,  3.2358e-02,  0.0000e+00],\n",
       "         [ 9.9948e-01,  0.0000e+00,  3.2158e-02,  0.0000e+00],\n",
       "         [ 9.9949e-01,  0.0000e+00,  3.1966e-02,  0.0000e+00],\n",
       "         [ 9.9949e-01,  0.0000e+00,  3.1781e-02,  0.0000e+00],\n",
       "         [ 9.9950e-01,  0.0000e+00,  3.1600e-02,  0.0000e+00],\n",
       "         [ 9.9951e-01,  0.0000e+00,  3.1423e-02,  0.0000e+00],\n",
       "         [ 9.9951e-01,  0.0000e+00,  3.1247e-02,  0.0000e+00],\n",
       "         [ 9.9952e-01,  0.0000e+00,  3.1071e-02,  0.0000e+00],\n",
       "         [ 9.9952e-01,  0.0000e+00,  3.0893e-02,  0.0000e+00],\n",
       "         [ 9.9953e-01,  0.0000e+00,  3.0712e-02,  0.0000e+00],\n",
       "         [ 9.9953e-01,  0.0000e+00,  3.0526e-02,  0.0000e+00],\n",
       "         [ 9.9954e-01,  0.0000e+00,  3.0334e-02,  0.0000e+00],\n",
       "         [ 9.9955e-01,  0.0000e+00,  3.0134e-02,  0.0000e+00],\n",
       "         [ 9.9955e-01,  0.0000e+00,  2.9925e-02,  0.0000e+00],\n",
       "         [ 9.9956e-01,  0.0000e+00,  2.9706e-02,  0.0000e+00],\n",
       "         [ 9.9957e-01,  0.0000e+00,  2.9476e-02,  0.0000e+00],\n",
       "         [ 9.9957e-01,  0.0000e+00,  2.9233e-02,  0.0000e+00],\n",
       "         [ 9.9958e-01,  0.0000e+00,  2.8978e-02,  0.0000e+00],\n",
       "         [ 9.9959e-01,  0.0000e+00,  2.8709e-02,  0.0000e+00],\n",
       "         [ 9.9960e-01,  0.0000e+00,  2.8426e-02,  0.0000e+00],\n",
       "         [ 9.9960e-01,  0.0000e+00,  2.8128e-02,  0.0000e+00],\n",
       "         [ 9.9961e-01,  0.0000e+00,  2.7815e-02,  0.0000e+00],\n",
       "         [ 9.9962e-01,  0.0000e+00,  2.7487e-02,  0.0000e+00],\n",
       "         [ 9.9963e-01,  0.0000e+00,  2.7143e-02,  0.0000e+00],\n",
       "         [ 9.9964e-01,  0.0000e+00,  2.6785e-02,  0.0000e+00],\n",
       "         [ 9.9965e-01,  0.0000e+00,  2.6412e-02,  0.0000e+00],\n",
       "         [ 9.9966e-01,  0.0000e+00,  2.6025e-02,  0.0000e+00],\n",
       "         [ 9.9967e-01,  0.0000e+00,  2.5623e-02,  0.0000e+00],\n",
       "         [ 9.9968e-01,  0.0000e+00,  2.5209e-02,  0.0000e+00],\n",
       "         [ 9.9969e-01,  0.0000e+00,  2.4782e-02,  0.0000e+00],\n",
       "         [ 9.9970e-01,  0.0000e+00,  2.4343e-02,  0.0000e+00],\n",
       "         [ 9.9971e-01,  0.0000e+00,  2.3894e-02,  0.0000e+00],\n",
       "         [ 9.9973e-01,  0.0000e+00,  2.3436e-02,  0.0000e+00],\n",
       "         [ 9.9974e-01,  0.0000e+00,  2.2969e-02,  0.0000e+00],\n",
       "         [ 9.9975e-01,  0.0000e+00,  2.2496e-02,  0.0000e+00],\n",
       "         [ 9.9976e-01,  0.0000e+00,  2.2016e-02,  0.0000e+00],\n",
       "         [ 9.9977e-01,  0.0000e+00,  2.1533e-02,  0.0000e+00],\n",
       "         [ 9.9978e-01,  0.0000e+00,  2.1048e-02,  0.0000e+00],\n",
       "         [ 9.9979e-01,  0.0000e+00,  2.0561e-02,  0.0000e+00],\n",
       "         [ 9.9980e-01,  0.0000e+00,  2.0075e-02,  0.0000e+00],\n",
       "         [ 9.9981e-01,  0.0000e+00,  1.9592e-02,  0.0000e+00],\n",
       "         [ 9.9982e-01,  0.0000e+00,  1.9112e-02,  0.0000e+00],\n",
       "         [ 9.9983e-01,  0.0000e+00,  1.8638e-02,  0.0000e+00],\n",
       "         [ 9.9983e-01,  0.0000e+00,  1.8172e-02,  0.0000e+00],\n",
       "         [ 9.9984e-01,  0.0000e+00,  1.7715e-02,  0.0000e+00],\n",
       "         [ 9.9985e-01,  0.0000e+00,  1.7269e-02,  0.0000e+00],\n",
       "         [ 9.9986e-01,  0.0000e+00,  1.6836e-02,  0.0000e+00],\n",
       "         [ 9.9987e-01,  0.0000e+00,  1.6418e-02,  0.0000e+00],\n",
       "         [ 9.9987e-01,  0.0000e+00,  1.6015e-02,  0.0000e+00],\n",
       "         [ 9.9988e-01,  0.0000e+00,  1.5630e-02,  0.0000e+00],\n",
       "         [ 9.9988e-01,  0.0000e+00,  1.5265e-02,  0.0000e+00],\n",
       "         [ 9.9989e-01,  0.0000e+00,  1.4920e-02,  0.0000e+00],\n",
       "         [ 9.9989e-01,  0.0000e+00,  1.4597e-02,  0.0000e+00],\n",
       "         [ 9.9990e-01,  0.0000e+00,  1.4298e-02,  0.0000e+00],\n",
       "         [ 9.9990e-01,  0.0000e+00,  1.4023e-02,  0.0000e+00],\n",
       "         [ 9.9991e-01,  0.0000e+00,  1.3774e-02,  0.0000e+00],\n",
       "         [ 9.9991e-01,  0.0000e+00,  1.3551e-02,  0.0000e+00],\n",
       "         [ 9.9991e-01,  0.0000e+00,  1.3356e-02,  0.0000e+00],\n",
       "         [ 9.9991e-01,  0.0000e+00,  1.3189e-02,  0.0000e+00],\n",
       "         [ 9.9991e-01,  0.0000e+00,  1.3051e-02,  0.0000e+00],\n",
       "         [ 9.9992e-01,  0.0000e+00,  1.2942e-02,  0.0000e+00],\n",
       "         [ 9.9992e-01,  0.0000e+00,  1.2861e-02,  0.0000e+00],\n",
       "         [ 9.9992e-01,  0.0000e+00,  1.2810e-02,  0.0000e+00],\n",
       "         [ 9.9992e-01,  0.0000e+00,  1.2788e-02,  0.0000e+00],\n",
       "         [ 9.9992e-01,  0.0000e+00,  1.2795e-02,  0.0000e+00],\n",
       "         [ 9.9992e-01,  0.0000e+00,  1.2829e-02,  0.0000e+00],\n",
       "         [ 9.9992e-01,  0.0000e+00,  1.2891e-02,  0.0000e+00],\n",
       "         [ 9.9992e-01,  0.0000e+00,  1.2980e-02,  0.0000e+00],\n",
       "         [ 9.9991e-01,  0.0000e+00,  1.3094e-02,  0.0000e+00],\n",
       "         [ 9.9991e-01,  0.0000e+00,  1.3232e-02,  0.0000e+00],\n",
       "         [ 9.9991e-01,  0.0000e+00,  1.3394e-02,  0.0000e+00],\n",
       "         [ 9.9991e-01,  0.0000e+00,  1.3576e-02,  0.0000e+00],\n",
       "         [ 9.9991e-01,  0.0000e+00,  1.3778e-02,  0.0000e+00],\n",
       "         [ 9.9990e-01,  0.0000e+00,  1.3998e-02,  0.0000e+00],\n",
       "         [ 9.9990e-01,  0.0000e+00,  1.4233e-02,  0.0000e+00],\n",
       "         [ 9.9990e-01,  0.0000e+00,  1.4483e-02,  0.0000e+00],\n",
       "         [ 9.9989e-01,  0.0000e+00,  1.4743e-02,  0.0000e+00],\n",
       "         [ 9.9989e-01,  0.0000e+00,  1.5013e-02,  0.0000e+00],\n",
       "         [ 9.9988e-01,  0.0000e+00,  1.5289e-02,  0.0000e+00],\n",
       "         [ 9.9988e-01,  0.0000e+00,  1.5570e-02,  0.0000e+00],\n",
       "         [ 9.9987e-01,  0.0000e+00,  1.5853e-02,  0.0000e+00]],\n",
       "\n",
       "        [[ 1.0000e+00,  0.0000e+00,  0.0000e+00,  0.0000e+00],\n",
       "         [ 9.9968e-01,  0.0000e+00, -2.5121e-02,  0.0000e+00],\n",
       "         [ 9.9964e-01,  0.0000e+00, -2.6666e-02,  0.0000e+00],\n",
       "         [ 9.9960e-01,  0.0000e+00, -2.8236e-02,  0.0000e+00],\n",
       "         [ 9.9956e-01,  0.0000e+00, -2.9825e-02,  0.0000e+00],\n",
       "         [ 9.9951e-01,  0.0000e+00, -3.1432e-02,  0.0000e+00],\n",
       "         [ 9.9945e-01,  0.0000e+00, -3.3051e-02,  0.0000e+00],\n",
       "         [ 9.9940e-01,  0.0000e+00, -3.4678e-02,  0.0000e+00],\n",
       "         [ 9.9934e-01,  0.0000e+00, -3.6310e-02,  0.0000e+00],\n",
       "         [ 9.9928e-01,  0.0000e+00, -3.7941e-02,  0.0000e+00],\n",
       "         [ 9.9922e-01,  0.0000e+00, -3.9568e-02,  0.0000e+00],\n",
       "         [ 9.9915e-01,  0.0000e+00, -4.1184e-02,  0.0000e+00],\n",
       "         [ 9.9908e-01,  0.0000e+00, -4.2787e-02,  0.0000e+00],\n",
       "         [ 9.9902e-01,  0.0000e+00, -4.4371e-02,  0.0000e+00],\n",
       "         [ 9.9894e-01,  0.0000e+00, -4.5931e-02,  0.0000e+00],\n",
       "         [ 9.9887e-01,  0.0000e+00, -4.7462e-02,  0.0000e+00],\n",
       "         [ 9.9880e-01,  0.0000e+00, -4.8961e-02,  0.0000e+00],\n",
       "         [ 9.9873e-01,  0.0000e+00, -5.0423e-02,  0.0000e+00],\n",
       "         [ 9.9866e-01,  0.0000e+00, -5.1843e-02,  0.0000e+00],\n",
       "         [ 9.9858e-01,  0.0000e+00, -5.3217e-02,  0.0000e+00],\n",
       "         [ 9.9851e-01,  0.0000e+00, -5.4541e-02,  0.0000e+00],\n",
       "         [ 9.9844e-01,  0.0000e+00, -5.5811e-02,  0.0000e+00],\n",
       "         [ 9.9837e-01,  0.0000e+00, -5.7024e-02,  0.0000e+00],\n",
       "         [ 9.9831e-01,  0.0000e+00, -5.8175e-02,  0.0000e+00],\n",
       "         [ 9.9824e-01,  0.0000e+00, -5.9261e-02,  0.0000e+00],\n",
       "         [ 9.9818e-01,  0.0000e+00, -6.0279e-02,  0.0000e+00],\n",
       "         [ 9.9812e-01,  0.0000e+00, -6.1227e-02,  0.0000e+00],\n",
       "         [ 9.9807e-01,  0.0000e+00, -6.2101e-02,  0.0000e+00],\n",
       "         [ 9.9802e-01,  0.0000e+00, -6.2899e-02,  0.0000e+00],\n",
       "         [ 9.9797e-01,  0.0000e+00, -6.3620e-02,  0.0000e+00],\n",
       "         [ 9.9793e-01,  0.0000e+00, -6.4260e-02,  0.0000e+00],\n",
       "         [ 9.9790e-01,  0.0000e+00, -6.4818e-02,  0.0000e+00],\n",
       "         [ 9.9787e-01,  0.0000e+00, -6.5294e-02,  0.0000e+00],\n",
       "         [ 9.9784e-01,  0.0000e+00, -6.5685e-02,  0.0000e+00],\n",
       "         [ 9.9782e-01,  0.0000e+00, -6.5990e-02,  0.0000e+00],\n",
       "         [ 9.9781e-01,  0.0000e+00, -6.6210e-02,  0.0000e+00],\n",
       "         [ 9.9780e-01,  0.0000e+00, -6.6342e-02,  0.0000e+00],\n",
       "         [ 9.9779e-01,  0.0000e+00, -6.6388e-02,  0.0000e+00],\n",
       "         [ 9.9780e-01,  0.0000e+00, -6.6346e-02,  0.0000e+00],\n",
       "         [ 9.9781e-01,  0.0000e+00, -6.6216e-02,  0.0000e+00],\n",
       "         [ 9.9782e-01,  0.0000e+00, -6.5999e-02,  0.0000e+00],\n",
       "         [ 9.9784e-01,  0.0000e+00, -6.5695e-02,  0.0000e+00],\n",
       "         [ 9.9787e-01,  0.0000e+00, -6.5304e-02,  0.0000e+00],\n",
       "         [ 9.9790e-01,  0.0000e+00, -6.4825e-02,  0.0000e+00],\n",
       "         [ 9.9793e-01,  0.0000e+00, -6.4261e-02,  0.0000e+00],\n",
       "         [ 9.9797e-01,  0.0000e+00, -6.3610e-02,  0.0000e+00],\n",
       "         [ 9.9802e-01,  0.0000e+00, -6.2874e-02,  0.0000e+00],\n",
       "         [ 9.9807e-01,  0.0000e+00, -6.2053e-02,  0.0000e+00],\n",
       "         [ 9.9813e-01,  0.0000e+00, -6.1147e-02,  0.0000e+00],\n",
       "         [ 9.9819e-01,  0.0000e+00, -6.0158e-02,  0.0000e+00],\n",
       "         [ 9.9825e-01,  0.0000e+00, -5.9085e-02,  0.0000e+00],\n",
       "         [ 9.9832e-01,  0.0000e+00, -5.7929e-02,  0.0000e+00],\n",
       "         [ 9.9839e-01,  0.0000e+00, -5.6690e-02,  0.0000e+00],\n",
       "         [ 9.9847e-01,  0.0000e+00, -5.5369e-02,  0.0000e+00],\n",
       "         [ 9.9854e-01,  0.0000e+00, -5.3966e-02,  0.0000e+00],\n",
       "         [ 9.9862e-01,  0.0000e+00, -5.2481e-02,  0.0000e+00],\n",
       "         [ 9.9870e-01,  0.0000e+00, -5.0914e-02,  0.0000e+00],\n",
       "         [ 9.9879e-01,  0.0000e+00, -4.9266e-02,  0.0000e+00],\n",
       "         [ 9.9887e-01,  0.0000e+00, -4.7536e-02,  0.0000e+00],\n",
       "         [ 9.9895e-01,  0.0000e+00, -4.5724e-02,  0.0000e+00],\n",
       "         [ 9.9904e-01,  0.0000e+00, -4.3832e-02,  0.0000e+00],\n",
       "         [ 9.9912e-01,  0.0000e+00, -4.1857e-02,  0.0000e+00],\n",
       "         [ 9.9921e-01,  0.0000e+00, -3.9802e-02,  0.0000e+00],\n",
       "         [ 9.9929e-01,  0.0000e+00, -3.7664e-02,  0.0000e+00],\n",
       "         [ 9.9937e-01,  0.0000e+00, -3.5445e-02,  0.0000e+00],\n",
       "         [ 9.9945e-01,  0.0000e+00, -3.3144e-02,  0.0000e+00],\n",
       "         [ 9.9953e-01,  0.0000e+00, -3.0761e-02,  0.0000e+00],\n",
       "         [ 9.9960e-01,  0.0000e+00, -2.8297e-02,  0.0000e+00],\n",
       "         [ 9.9967e-01,  0.0000e+00, -2.5750e-02,  0.0000e+00],\n",
       "         [ 9.9973e-01,  0.0000e+00, -2.3121e-02,  0.0000e+00],\n",
       "         [ 9.9979e-01,  0.0000e+00, -2.0411e-02,  0.0000e+00],\n",
       "         [ 9.9984e-01,  0.0000e+00, -1.7618e-02,  0.0000e+00],\n",
       "         [ 9.9989e-01,  0.0000e+00, -1.4744e-02,  0.0000e+00],\n",
       "         [ 9.9993e-01,  0.0000e+00, -1.1788e-02,  0.0000e+00],\n",
       "         [ 9.9996e-01,  0.0000e+00, -8.7503e-03,  0.0000e+00],\n",
       "         [ 9.9998e-01,  0.0000e+00, -5.6311e-03,  0.0000e+00],\n",
       "         [ 1.0000e+00,  0.0000e+00, -2.4306e-03,  0.0000e+00],\n",
       "         [ 1.0000e+00,  0.0000e+00,  8.5127e-04,  0.0000e+00],\n",
       "         [ 9.9999e-01,  0.0000e+00,  4.2143e-03,  0.0000e+00],\n",
       "         [ 9.9997e-01,  0.0000e+00,  7.6584e-03,  0.0000e+00],\n",
       "         [ 9.9994e-01,  0.0000e+00,  1.1184e-02,  0.0000e+00],\n",
       "         [ 9.9989e-01,  0.0000e+00,  1.4790e-02,  0.0000e+00],\n",
       "         [ 9.9983e-01,  0.0000e+00,  1.8477e-02,  0.0000e+00],\n",
       "         [ 9.9975e-01,  0.0000e+00,  2.2247e-02,  0.0000e+00],\n",
       "         [ 9.9966e-01,  0.0000e+00,  2.6098e-02,  0.0000e+00],\n",
       "         [ 9.9955e-01,  0.0000e+00,  3.0031e-02,  0.0000e+00],\n",
       "         [ 9.9942e-01,  0.0000e+00,  3.4047e-02,  0.0000e+00],\n",
       "         [ 9.9927e-01,  0.0000e+00,  3.8148e-02,  0.0000e+00],\n",
       "         [ 9.9910e-01,  0.0000e+00,  4.2333e-02,  0.0000e+00],\n",
       "         [ 9.9891e-01,  0.0000e+00,  4.6604e-02,  0.0000e+00],\n",
       "         [ 9.9870e-01,  0.0000e+00,  5.0963e-02,  0.0000e+00],\n",
       "         [ 9.9846e-01,  0.0000e+00,  5.5410e-02,  0.0000e+00],\n",
       "         [ 9.9820e-01,  0.0000e+00,  5.9949e-02,  0.0000e+00],\n",
       "         [ 9.9791e-01,  0.0000e+00,  6.4580e-02,  0.0000e+00],\n",
       "         [ 9.9760e-01,  0.0000e+00,  6.9307e-02,  0.0000e+00],\n",
       "         [ 9.9725e-01,  0.0000e+00,  7.4131e-02,  0.0000e+00],\n",
       "         [ 9.9687e-01,  0.0000e+00,  7.9056e-02,  0.0000e+00],\n",
       "         [ 9.9646e-01,  0.0000e+00,  8.4083e-02,  0.0000e+00],\n",
       "         [ 9.9601e-01,  0.0000e+00,  8.9217e-02,  0.0000e+00],\n",
       "         [ 9.9553e-01,  0.0000e+00,  9.4461e-02,  0.0000e+00],\n",
       "         [ 9.9501e-01,  0.0000e+00,  9.9818e-02,  0.0000e+00],\n",
       "         [ 9.9444e-01,  0.0000e+00,  1.0529e-01,  0.0000e+00],\n",
       "         [ 9.9383e-01,  0.0000e+00,  1.1089e-01,  0.0000e+00],\n",
       "         [ 9.9318e-01,  0.0000e+00,  1.1660e-01,  0.0000e+00],\n",
       "         [ 9.9247e-01,  0.0000e+00,  1.2245e-01,  0.0000e+00],\n",
       "         [ 9.9172e-01,  0.0000e+00,  1.2843e-01,  0.0000e+00],\n",
       "         [ 9.9091e-01,  0.0000e+00,  1.3454e-01,  0.0000e+00],\n",
       "         [ 9.9004e-01,  0.0000e+00,  1.4080e-01,  0.0000e+00],\n",
       "         [ 9.8911e-01,  0.0000e+00,  1.4720e-01,  0.0000e+00],\n",
       "         [ 9.8811e-01,  0.0000e+00,  1.5375e-01,  0.0000e+00],\n",
       "         [ 9.8704e-01,  0.0000e+00,  1.6045e-01,  0.0000e+00],\n",
       "         [ 9.8590e-01,  0.0000e+00,  1.6731e-01,  0.0000e+00],\n",
       "         [ 9.8469e-01,  0.0000e+00,  1.7433e-01,  0.0000e+00],\n",
       "         [ 9.8339e-01,  0.0000e+00,  1.8151e-01,  0.0000e+00],\n",
       "         [ 9.8200e-01,  0.0000e+00,  1.8887e-01,  0.0000e+00],\n",
       "         [ 9.8053e-01,  0.0000e+00,  1.9639e-01,  0.0000e+00],\n",
       "         [ 9.7895e-01,  0.0000e+00,  2.0409e-01,  0.0000e+00],\n",
       "         [ 9.7728e-01,  0.0000e+00,  2.1196e-01,  0.0000e+00],\n",
       "         [ 9.7550e-01,  0.0000e+00,  2.2002e-01,  0.0000e+00],\n",
       "         [ 9.7360e-01,  0.0000e+00,  2.2825e-01,  0.0000e+00]]],\n",
       "       device='cuda:0')"
      ]
     },
     "execution_count": 54,
     "metadata": {},
     "output_type": "execute_result"
    }
   ],
   "source": [
    "pred_quat"
   ]
  },
  {
   "cell_type": "code",
   "execution_count": 52,
   "id": "25418079-89a9-4c4b-a6ad-da059cdd4f98",
   "metadata": {},
   "outputs": [
    {
     "data": {
      "text/plain": [
       "tensor([[ 1.0000,  0.0000,  0.0000,  0.0000,  1.0000,  0.0000],\n",
       "        [ 0.9987, -0.0000, -0.0502,  0.0000,  1.0000, -0.0000],\n",
       "        [ 0.9986, -0.0000, -0.0533,  0.0000,  1.0000, -0.0000],\n",
       "        ...,\n",
       "        [-0.9191,  0.0000, -0.3941,  0.0000,  1.0000,  0.0000],\n",
       "        [-0.9128,  0.0000, -0.4084,  0.0000,  1.0000,  0.0000],\n",
       "        [-0.9066,  0.0000, -0.4221,  0.0000,  1.0000,  0.0000]],\n",
       "       device='cuda:0')"
      ]
     },
     "execution_count": 52,
     "metadata": {},
     "output_type": "execute_result"
    }
   ],
   "source": [
    "geometry.matrix_to_rotation_6d(geometry.quaternion_to_matrix(r_rot))[1]"
   ]
  },
  {
   "cell_type": "code",
   "execution_count": 42,
   "id": "9ffd6584-c8a3-4dfe-88a7-886ce73ffc1e",
   "metadata": {},
   "outputs": [
    {
     "data": {
      "text/plain": [
       "tensor([[[ 1.0013e+00,  9.6567e-04, -1.8237e-03,  3.6311e-04,  1.0023e+00,\n",
       "          -1.3318e-04],\n",
       "         [ 1.0014e+00,  6.0344e-05, -3.2515e-03, -5.0076e-04,  1.0026e+00,\n",
       "          -6.6319e-04],\n",
       "         [ 1.0025e+00, -3.0152e-04, -1.2186e-03, -4.8886e-04,  1.0067e+00,\n",
       "          -3.4857e-05],\n",
       "         ...,\n",
       "         [ 1.0010e+00,  9.7318e-05, -4.0954e-04, -1.4819e-03,  1.0046e+00,\n",
       "          -6.3938e-04],\n",
       "         [ 1.0014e+00, -5.6392e-04, -2.7155e-03, -8.3166e-04,  1.0042e+00,\n",
       "           1.3279e-03],\n",
       "         [ 1.0004e+00, -8.8714e-05, -1.6917e-03,  1.9947e-04,  1.0023e+00,\n",
       "           2.7383e-04]],\n",
       "\n",
       "        [[ 1.0007e+00,  4.4161e-04, -1.8360e-03, -1.7425e-04,  1.0012e+00,\n",
       "          -4.1166e-04],\n",
       "         [ 1.0007e+00,  8.9440e-04, -2.3938e-03, -5.6625e-04,  1.0009e+00,\n",
       "          -1.4206e-03],\n",
       "         [ 1.0023e+00, -3.7743e-04, -8.9332e-04, -2.6406e-04,  1.0048e+00,\n",
       "          -2.0790e-04],\n",
       "         ...,\n",
       "         [ 1.0013e+00, -1.4677e-04, -1.2343e-03, -1.3711e-03,  1.0029e+00,\n",
       "          -7.4180e-04],\n",
       "         [ 1.0021e+00, -1.3398e-04, -2.1283e-03, -8.4918e-04,  1.0037e+00,\n",
       "           3.4519e-04],\n",
       "         [ 1.0011e+00,  4.3721e-04, -1.4667e-03, -4.2087e-04,  1.0033e+00,\n",
       "          -3.0672e-04]]], device='cuda:0')"
      ]
     },
     "execution_count": 42,
     "metadata": {},
     "output_type": "execute_result"
    }
   ],
   "source": [
    "embed"
   ]
  },
  {
   "cell_type": "code",
   "execution_count": null,
   "id": "d5165925-3569-4f7d-8378-46aa1519c621",
   "metadata": {},
   "outputs": [],
   "source": []
  },
  {
   "cell_type": "code",
   "execution_count": null,
   "id": "404147b9-a2da-4195-877a-bd537d568e32",
   "metadata": {},
   "outputs": [],
   "source": []
  },
  {
   "cell_type": "code",
   "execution_count": 31,
   "id": "19d38691-a642-4650-9208-b64e41a82b7d",
   "metadata": {},
   "outputs": [
    {
     "data": {
      "image/png": "[encoded data removed]",
      "text/plain": [
       "<Figure size 800x600 with 1 Axes>"
      ]
     },
     "metadata": {},
     "output_type": "display_data"
    }
   ],
   "source": [
    "rp = r_pos[1 ,:30,[0,2]]\n",
    "rp[:,1] = -rp[:,1] \n",
    "visualize_orientations_2d(rp.cpu(), r_rot[1].cpu())"
   ]
  },
  {
   "cell_type": "code",
   "execution_count": 38,
   "id": "dbd7cdcb-314c-4747-ad35-a05197262dbb",
   "metadata": {},
   "outputs": [
    {
     "data": {
      "image/png": "[encoded data removed]",
      "text/plain": [
       "<Figure size 800x600 with 1 Axes>"
      ]
     },
     "metadata": {},
     "output_type": "display_data"
    }
   ],
   "source": [
    "# rp = r_pos[1 ,:30,[0,2]]\n",
    "# rp[:,1] = -rp[:,1] \n",
    "visualize_orientations_2d(rp.cpu(), pred_rot[1].cpu())"
   ]
  },
  {
   "cell_type": "code",
   "execution_count": null,
   "id": "13795ae5-b8a2-4277-94df-210fae34d481",
   "metadata": {},
   "outputs": [],
   "source": []
  },
  {
   "cell_type": "code",
   "execution_count": null,
   "id": "cca4630d-5d07-4dcf-8c1d-25a48a8fcc7a",
   "metadata": {},
   "outputs": [],
   "source": []
  },
  {
   "cell_type": "code",
   "execution_count": null,
   "id": "dfaa5bcc-a8ee-4ad8-a5e8-b6819ae5624a",
   "metadata": {},
   "outputs": [],
   "source": []
  },
  {
   "cell_type": "code",
   "execution_count": null,
   "id": "f91d446a-229f-4d45-8528-866ff79d8af6",
   "metadata": {},
   "outputs": [],
   "source": []
  },
  {
   "cell_type": "code",
   "execution_count": null,
   "id": "08a981dc-8000-469c-99d3-52ac12a0db03",
   "metadata": {},
   "outputs": [],
   "source": []
  },
  {
   "cell_type": "code",
   "execution_count": 82,
   "id": "4731f0d8-d2eb-4f42-b7da-609653f77d3a",
   "metadata": {},
   "outputs": [],
   "source": [
    "pose = torch.Tensor(np.load(\"/srv/hays-lab/scratch/sanisetty3/motionx/motion_data/smplx_322/idea400/subset_0056/Walking_And_Snapping_At_The_Same_Time.npy\"))"
   ]
  },
  {
   "cell_type": "code",
   "execution_count": 30,
   "id": "9d8978e5-9729-4d7c-afb6-d983f4872f8d",
   "metadata": {},
   "outputs": [],
   "source": [
    "mot = np.load(\"/srv/hays-lab/scratch/sanisetty3/motionx/motion_data/new_joint_vecs/idea400/subset_0056/Walking_And_Snapping_At_The_Same_Time.npy\")"
   ]
  },
  {
   "cell_type": "code",
   "execution_count": 124,
   "id": "b18c450b-1dcd-4a6d-8f09-66b5fb7532d7",
   "metadata": {},
   "outputs": [],
   "source": []
  },
  {
   "cell_type": "code",
   "execution_count": 132,
   "id": "bb2963f2-6634-43a6-b279-b54cbc67f72d",
   "metadata": {},
   "outputs": [
    {
     "data": {
      "text/plain": [
       "(239, 623)"
      ]
     },
     "execution_count": 132,
     "metadata": {},
     "output_type": "execute_result"
    }
   ],
   "source": [
    "mot.shape"
   ]
  },
  {
   "cell_type": "code",
   "execution_count": 133,
   "id": "4f787c8e-f4e1-4f62-8166-43190d36d5ff",
   "metadata": {},
   "outputs": [
    {
     "data": {
      "text/plain": [
       "236"
      ]
     },
     "execution_count": 133,
     "metadata": {},
     "output_type": "execute_result"
    }
   ],
   "source": [
    "59*4"
   ]
  },
  {
   "cell_type": "code",
   "execution_count": 134,
   "id": "22c96725-8cc2-4b5a-b59b-566ef6a0af42",
   "metadata": {},
   "outputs": [],
   "source": []
  },
  {
   "cell_type": "code",
   "execution_count": 135,
   "id": "b58c02d8-ae6a-4f59-a745-fd1f42e0cb40",
   "metadata": {},
   "outputs": [],
   "source": [
    "# trans = pose[:, 309 : 309 + 3]\n",
    "# root_pos_init = trans[0]\n",
    "# root_pose_init_xz = root_pos_init * np.array([1, 0, 1])\n",
    "# trans = trans - root_pose_init_xz\n",
    "# root_orient=pose[:, :3]\n",
    "# rq = geometry.axis_angle_to_quaternion(root_orient)"
   ]
  },
  {
   "cell_type": "code",
   "execution_count": 136,
   "id": "8faf89c5-eeb0-463e-8668-277855023b50",
   "metadata": {},
   "outputs": [],
   "source": []
  },
  {
   "cell_type": "code",
   "execution_count": 137,
   "id": "9048246e-b97b-4a54-acaa-993c126d35ce",
   "metadata": {
    "scrolled": true
   },
   "outputs": [
    {
     "data": {
      "text/plain": [
       "torch.Size([236, 4])"
      ]
     },
     "execution_count": 137,
     "metadata": {},
     "output_type": "execute_result"
    }
   ],
   "source": [
    "r_rot_quat.shape"
   ]
  },
  {
   "cell_type": "code",
   "execution_count": null,
   "id": "dfc5708c-5550-42a6-8fd1-3a9f80a107a4",
   "metadata": {
    "scrolled": true
   },
   "outputs": [],
   "source": []
  },
  {
   "cell_type": "code",
   "execution_count": 68,
   "id": "9e1ac226-9a3e-4ca3-bbc3-37879f3670ab",
   "metadata": {},
   "outputs": [],
   "source": [
    "from core.models.resnetVQ.encdec import Encoder, Decoder\n",
    "from core.models.generation.translation_transformer import TranslationTransformer, TransformerBlock\n",
    "from core.models.positional_embeddings import ScaledSinusoidalEmbedding\n",
    "from core import (\n",
    "    PositionalEmbeddingParams,\n",
    "    \n",
    ")"
   ]
  },
  {
   "cell_type": "code",
   "execution_count": null,
   "id": "f24688e9-3154-4bf2-9471-3167d1aad977",
   "metadata": {},
   "outputs": [],
   "source": []
  },
  {
   "cell_type": "code",
   "execution_count": 69,
   "id": "db44622d-21b1-4430-9a14-c353bbf33c4f",
   "metadata": {},
   "outputs": [],
   "source": [
    "transformer = TransformerBlock(512 , depth=2)\n",
    "pos_emb = ScaledSinusoidalEmbedding(\n",
    "            PositionalEmbeddingParams(dim=512)\n",
    "        )"
   ]
  },
  {
   "cell_type": "code",
   "execution_count": 73,
   "id": "525df3fd-23d6-48da-8809-c35fd89019d5",
   "metadata": {},
   "outputs": [],
   "source": [
    "enc = Encoder(2 , 512 , down_t = 2 , depth=1)\n",
    "dec = Decoder(6 , 512 , down_t = 2, depth=1)"
   ]
  },
  {
   "cell_type": "code",
   "execution_count": 74,
   "id": "95942700-e903-4faf-b5cf-edeca7c7405d",
   "metadata": {},
   "outputs": [
    {
     "data": {
      "text/plain": [
       "torch.Size([1, 2, 239])"
      ]
     },
     "execution_count": 74,
     "metadata": {},
     "output_type": "execute_result"
    }
   ],
   "source": []
  },
  {
   "cell_type": "code",
   "execution_count": 141,
   "id": "265ec803-49b9-40a8-a931-824d13192681",
   "metadata": {},
   "outputs": [],
   "source": [
    "r_rot_quat, r_pos = recover_root_rot_pos(torch.Tensor(mot)[:236])\n",
    "traj1 = r_pos[None , :, [0,2]].permute(0,2,1)"
   ]
  },
  {
   "cell_type": "code",
   "execution_count": null,
   "id": "09d5689e-be82-4fb1-8a7c-c9467a8ca916",
   "metadata": {},
   "outputs": [],
   "source": []
  },
  {
   "cell_type": "code",
   "execution_count": null,
   "id": "f4d9cdd8-300b-4a45-8df4-8354ee97486f",
   "metadata": {},
   "outputs": [],
   "source": []
  },
  {
   "cell_type": "code",
   "execution_count": 142,
   "id": "46e8e236-c21b-48a5-8461-8897c4e0fc0f",
   "metadata": {},
   "outputs": [],
   "source": [
    "x = enc(traj1)\n",
    "x = x.permute(0,2,1)\n",
    "x = x + pos_emb(x)\n",
    "x = transformer(x = x, context = x)\n",
    "x = x.permute(0,2,1)\n",
    "x = dec(x)\n",
    "x = x.permute(0,2,1)"
   ]
  },
  {
   "cell_type": "code",
   "execution_count": 143,
   "id": "5e281516-b9cf-463b-b232-591328e617db",
   "metadata": {},
   "outputs": [
    {
     "data": {
      "text/plain": [
       "torch.Size([1, 236, 6])"
      ]
     },
     "execution_count": 143,
     "metadata": {},
     "output_type": "execute_result"
    }
   ],
   "source": [
    "x.shape"
   ]
  },
  {
   "cell_type": "code",
   "execution_count": null,
   "id": "138136bc-6ba4-4e90-a2f0-2fb95558b8a6",
   "metadata": {},
   "outputs": [],
   "source": []
  },
  {
   "cell_type": "code",
   "execution_count": null,
   "id": "76499379-4c95-4fe8-a615-975625eb355d",
   "metadata": {},
   "outputs": [],
   "source": []
  },
  {
   "cell_type": "code",
   "execution_count": null,
   "id": "171637e6-cc8d-4080-9886-da1472aecf4e",
   "metadata": {},
   "outputs": [],
   "source": []
  },
  {
   "cell_type": "markdown",
   "id": "a67e015a-e23f-49bd-bed5-4ed074937598",
   "metadata": {},
   "source": [
    "## TODO:\n",
    "\n",
    "Go from trans to root orient"
   ]
  },
  {
   "cell_type": "code",
   "execution_count": 84,
   "id": "b97bdc03-f916-4ad1-b33e-27c4b270c29d",
   "metadata": {},
   "outputs": [],
   "source": []
  },
  {
   "cell_type": "code",
   "execution_count": 56,
   "id": "d9f072cf-5930-40d5-9fd8-fd9921eaca07",
   "metadata": {},
   "outputs": [],
   "source": [
    "motions = inputs[\"motion\"][0].to(torch.long)\n",
    "gt_motion = bkn_to_motion(motions[1:2], train_ds.datasets[0])\n",
    "train_ds.datasets[0].render_hml(\n",
    "                    gt_motion,\n",
    "                    \"/srv/hays-lab/scratch/sanisetty3/music_motion/ATCMG/render/idea400_ztoe.gif\",\n",
    "    zero_trans=True,\n",
    "    zero_orient=True,\n",
    "    translation_external = trans_ext\n",
    "    \n",
    "                    \n",
    "                )"
   ]
  },
  {
   "cell_type": "code",
   "execution_count": 50,
   "id": "7e6beda5-045b-4b67-be1f-d4e8d534a68a",
   "metadata": {},
   "outputs": [],
   "source": [
    "pose = torch.Tensor(np.load(\"/srv/hays-lab/scratch/sanisetty3/motionx/motion_data/smplx_322/idea400/subset_0056/Walking_And_Snapping_At_The_Same_Time.npy\"))\n",
    "trans = pose[:, 309 : 309 + 3]\n",
    "root_orient=pose[:, :3]\n",
    "trans_ext = trans[:120,[0,2]]\n"
   ]
  },
  {
   "cell_type": "code",
   "execution_count": 54,
   "id": "fb214ba4-fb69-4c1b-b0f1-b409c0b63cb4",
   "metadata": {},
   "outputs": [],
   "source": [
    "trans_ext = torch.zeros((120 , 2))\n",
    "trans_ext[:,0] = torch.linspace(0,5 , 120)"
   ]
  },
  {
   "cell_type": "code",
   "execution_count": 51,
   "id": "ef5308bd-8c27-4003-9adc-eb51a6fc1143",
   "metadata": {},
   "outputs": [
    {
     "data": {
      "text/plain": [
       "[<matplotlib.lines.Line2D at 0x7fa81089f400>]"
      ]
     },
     "execution_count": 51,
     "metadata": {},
     "output_type": "execute_result"
    },
    {
     "data": {
      "image/png": "[encoded data removed]",
      "text/plain": [
       "<Figure size 400x400 with 1 Axes>"
      ]
     },
     "metadata": {},
     "output_type": "display_data"
    }
   ],
   "source": [
    "fig = plt.figure(figsize=(4,4))\n",
    "plt.plot(trans_ext[:,0].numpy(), trans_ext[:,1].numpy())\n"
   ]
  },
  {
   "cell_type": "code",
   "execution_count": 55,
   "id": "a4fd6f42-c4d3-4259-967b-94f655572158",
   "metadata": {},
   "outputs": [
    {
     "data": {
      "text/plain": [
       "[<matplotlib.lines.Line2D at 0x7fa7f4297c70>]"
      ]
     },
     "execution_count": 55,
     "metadata": {},
     "output_type": "execute_result"
    },
    {
     "data": {
      "image/png": "[encoded data removed]",
      "text/plain": [
       "<Figure size 400x400 with 1 Axes>"
      ]
     },
     "metadata": {},
     "output_type": "display_data"
    }
   ],
   "source": [
    "fig = plt.figure(figsize=(4,4))\n",
    "plt.plot(trans_ext[:,0].numpy(), trans_ext[:,1].numpy())\n"
   ]
  },
  {
   "cell_type": "code",
   "execution_count": null,
   "id": "4e3bf8ff-eadc-42d1-82bb-c874f5823adc",
   "metadata": {},
   "outputs": [],
   "source": []
  },
  {
   "cell_type": "code",
   "execution_count": null,
   "id": "d1e80915-5b78-4a90-9876-8efb46b77b3c",
   "metadata": {},
   "outputs": [],
   "source": []
  },
  {
   "cell_type": "code",
   "execution_count": null,
   "id": "4c419ec8-1dc4-4ba5-9479-6557ca621ffc",
   "metadata": {},
   "outputs": [],
   "source": []
  },
  {
   "cell_type": "code",
   "execution_count": null,
   "id": "4bf853ff-0759-4173-b5bc-6527e9604ab5",
   "metadata": {},
   "outputs": [],
   "source": []
  },
  {
   "cell_type": "code",
   "execution_count": 31,
   "id": "d1a5c674-1437-4f6f-a6d9-05f66a31f79c",
   "metadata": {},
   "outputs": [
    {
     "name": "stdout",
     "output_type": "stream",
     "text": [
      "nn attention took 1.8568298816680908 seconds\n"
     ]
    }
   ],
   "source": [
    "import time\n",
    "start = time.time()\n",
    "for i in range(100):\n",
    "    loss , logits = motion_gen(inputs[\"motion\"] , conditions, return_logits=True)\n",
    "end = time.time()\n",
    "print('nn attention took {} seconds'.format(end - start))"
   ]
  },
  {
   "cell_type": "code",
   "execution_count": null,
   "id": "1dab054b-a216-437f-9655-1af9f85b6eec",
   "metadata": {},
   "outputs": [],
   "source": [
    "input_mask = inputs[\"motion\"][1]\n",
    "motions_ids = inputs[\"motion\"][0].cuda()\n",
    "B, K, T = motions_ids.shape"
   ]
  },
  {
   "cell_type": "code",
   "execution_count": null,
   "id": "cbead25f-851b-4bf9-99bb-515a561128c8",
   "metadata": {},
   "outputs": [],
   "source": [
    "motions_ids.shape"
   ]
  },
  {
   "cell_type": "code",
   "execution_count": null,
   "id": "f2656e53-4be5-4fe2-9ef4-cafe9709b30e",
   "metadata": {},
   "outputs": [],
   "source": []
  },
  {
   "cell_type": "code",
   "execution_count": null,
   "id": "48acab27-b494-4432-9330-76f9cfe41d66",
   "metadata": {},
   "outputs": [],
   "source": []
  },
  {
   "cell_type": "code",
   "execution_count": null,
   "id": "b4991fb6-4d68-4949-bf24-691701ac87d0",
   "metadata": {},
   "outputs": [],
   "source": []
  },
  {
   "cell_type": "code",
   "execution_count": 109,
   "id": "e0717e4b-ecfb-4d7c-9492-43cc2369a1c6",
   "metadata": {},
   "outputs": [
    {
     "ename": "NameError",
     "evalue": "name 'bkn_to_motion' is not defined",
     "output_type": "error",
     "traceback": [
      "\u001b[0;31m---------------------------------------------------------------------------\u001b[0m",
      "\u001b[0;31mNameError\u001b[0m                                 Traceback (most recent call last)",
      "Cell \u001b[0;32mIn[109], line 1\u001b[0m\n\u001b[0;32m----> 1\u001b[0m gen_motion \u001b[38;5;241m=\u001b[39m \u001b[43mbkn_to_motion\u001b[49m(motions_ids, train_ds\u001b[38;5;241m.\u001b[39mdatasets[\u001b[38;5;241m0\u001b[39m])\n",
      "\u001b[0;31mNameError\u001b[0m: name 'bkn_to_motion' is not defined"
     ]
    }
   ],
   "source": [
    "gen_motion = bkn_to_motion(motions_ids, train_ds.datasets[0])"
   ]
  },
  {
   "cell_type": "code",
   "execution_count": null,
   "id": "2dbfebef-75f2-43f6-b4cf-9a789beb7444",
   "metadata": {},
   "outputs": [],
   "source": [
    "train_ds.datasets[0].render_hml(\n",
    "                    gt_motion[1].detach().squeeze().cpu(),\n",
    "                    \"/srv/hays-lab/scratch/sanisetty3/music_motion/ATCMG/render/gt_motion_recon.gif\"\n",
    "                )"
   ]
  },
  {
   "cell_type": "code",
   "execution_count": null,
   "id": "ae877a70-ff5b-4017-b1d4-6c14ca9954dc",
   "metadata": {},
   "outputs": [],
   "source": []
  },
  {
   "cell_type": "code",
   "execution_count": null,
   "id": "a078f5e0-bf5e-402b-bdbc-4c5faf49d67a",
   "metadata": {},
   "outputs": [],
   "source": []
  },
  {
   "cell_type": "code",
   "execution_count": 82,
   "id": "aad6759d-cc9e-4cf5-8ce0-2febecf98ebb",
   "metadata": {},
   "outputs": [],
   "source": [
    "raw_audio = \"/srv/hays-lab/scratch/sanisetty3/motionx/audio/wav/beat/1_wayne_0_1_1.wav\"\n",
    "raw_audio2 = \"/srv/hays-lab/scratch/sanisetty3/motionx/audio/wav/choreomaster/0071.wav\""
   ]
  },
  {
   "cell_type": "code",
   "execution_count": 83,
   "id": "29fe7835-0963-46fd-be17-2e6f2b4746d4",
   "metadata": {},
   "outputs": [],
   "source": [
    "_, conditions = condition_provider(raw_audio= raw_audio, raw_text=\"a person speaking\")\n",
    "_, neg_conditions = condition_provider(raw_text=\"\")"
   ]
  },
  {
   "cell_type": "code",
   "execution_count": null,
   "id": "d32a5e9c-4e38-4dfc-a5ad-b8ad05261a1d",
   "metadata": {},
   "outputs": [],
   "source": []
  },
  {
   "cell_type": "code",
   "execution_count": null,
   "id": "5bef09f0-5c75-4070-bb44-b23a7c9e967d",
   "metadata": {},
   "outputs": [],
   "source": []
  },
  {
   "cell_type": "code",
   "execution_count": 84,
   "id": "cdc13298-cfc9-447a-9789-e8d01a4d0f17",
   "metadata": {},
   "outputs": [
    {
     "name": "stderr",
     "output_type": "stream",
     "text": [
      "100%|██████████████████████████████████████████████████████████████████████████████████████████| 18/18 [00:00<00:00, 42.96it/s]\n"
     ]
    }
   ],
   "source": [
    "\n",
    "gen_ids = motion_gen.generate(conditions = conditions, neg_conditions = None, duration_s = 4, temperature = 0.2 ,timesteps=18, cond_scale = 3)\n"
   ]
  },
  {
   "cell_type": "code",
   "execution_count": null,
   "id": "89416158-cb39-46f4-90b2-3f42b64f7b1a",
   "metadata": {},
   "outputs": [],
   "source": []
  },
  {
   "cell_type": "code",
   "execution_count": 85,
   "id": "3dfd4fd3-dc60-494c-b2b9-00979d0bdfc4",
   "metadata": {},
   "outputs": [],
   "source": [
    "# _, conditions = condition_provider(raw_audio= raw_audio2)\n",
    "gen_motion = bkn_to_motion(gen_ids, train_ds.datasets[0])\n",
    "train_ds.datasets[0].render_hml(\n",
    "                    gen_motion,\n",
    "                    \"/srv/hays-lab/scratch/sanisetty3/music_motion/ATCMG/render/gen_novel.gif\"\n",
    "                )"
   ]
  },
  {
   "cell_type": "code",
   "execution_count": null,
   "id": "210bf6d9-5383-4309-b01b-1ca954ba0e1a",
   "metadata": {},
   "outputs": [],
   "source": []
  },
  {
   "cell_type": "code",
   "execution_count": null,
   "id": "19f94269-6b28-4446-b540-2d9a7daebdf7",
   "metadata": {},
   "outputs": [],
   "source": []
  },
  {
   "cell_type": "code",
   "execution_count": 13,
   "id": "7a589255-5ba8-4088-837d-cf91adbcd217",
   "metadata": {},
   "outputs": [],
   "source": [
    "from utils.motion_processing.quaternion import qinv, qrot, quaternion_to_cont6d\n",
    "import utils.rotation_conversions as geometry"
   ]
  },
  {
   "cell_type": "code",
   "execution_count": 33,
   "id": "bea848fa-52b7-4bfb-8b88-beaa57acc991",
   "metadata": {},
   "outputs": [],
   "source": [
    "mot = np.load(\"/srv/hays-lab/scratch/sanisetty3/motionx/motion_data/new_joint_vecs/idea400/subset_0056/Walking_And_Snapping_At_The_Same_Time.npy\")"
   ]
  },
  {
   "cell_type": "code",
   "execution_count": 67,
   "id": "9fa77d4b-75d3-4ce5-b5de-d64339e050de",
   "metadata": {},
   "outputs": [],
   "source": [
    "pose = torch.Tensor(np.load(\"/srv/hays-lab/scratch/sanisetty3/motionx/motion_data/smplx_322/idea400/subset_0056/Walking_And_Snapping_At_The_Same_Time.npy\"))"
   ]
  },
  {
   "cell_type": "code",
   "execution_count": 34,
   "id": "28e381ff-09fa-4955-90e0-8a22a1c520dc",
   "metadata": {},
   "outputs": [],
   "source": [
    "\n",
    "def recover_root_rot_pos(data):\n",
    "    rot_vel = data[..., 0]\n",
    "    r_rot_ang = torch.zeros_like(rot_vel).to(data.device)\n",
    "    \"\"\"Get Y-axis rotation from rotation velocity\"\"\"\n",
    "    r_rot_ang[..., 1:] = rot_vel[..., :-1]\n",
    "    r_rot_ang = torch.cumsum(r_rot_ang, dim=-1)\n",
    "\n",
    "    r_rot_quat = torch.zeros(data.shape[:-1] + (4,)).to(data.device)\n",
    "    r_rot_quat[..., 0] = torch.cos(r_rot_ang)\n",
    "    r_rot_quat[..., 2] = torch.sin(r_rot_ang)\n",
    "\n",
    "    r_pos = torch.zeros(data.shape[:-1] + (3,)).to(data.device)\n",
    "    data = data.to(torch.float)\n",
    "    r_pos[..., 1:, [0, 2]] = data[..., :-1, 1:3]\n",
    "    \"\"\"Add Y-axis rotation to root position\"\"\"\n",
    "    r_pos = qrot(qinv(r_rot_quat), r_pos)\n",
    "\n",
    "    r_pos = torch.cumsum(r_pos, dim=-2)\n",
    "\n",
    "    r_pos[..., 1] = data[..., 3]\n",
    "    return r_rot_quat, r_pos"
   ]
  },
  {
   "cell_type": "code",
   "execution_count": 35,
   "id": "a76ba0e8-a22b-4ea3-b41b-bdc13cd76ae5",
   "metadata": {},
   "outputs": [],
   "source": [
    "r_rot_quat, r_pos = recover_root_rot_pos(torch.Tensor(mot))"
   ]
  },
  {
   "cell_type": "code",
   "execution_count": null,
   "id": "b2c6a6e6-a301-4b3f-9934-c614811e4670",
   "metadata": {},
   "outputs": [],
   "source": []
  },
  {
   "cell_type": "code",
   "execution_count": 70,
   "id": "cf061dc9-7f7e-4f3e-b861-5fb578865346",
   "metadata": {},
   "outputs": [
    {
     "ename": "NameError",
     "evalue": "name 'geometry' is not defined",
     "output_type": "error",
     "traceback": [
      "\u001b[0;31m---------------------------------------------------------------------------\u001b[0m",
      "\u001b[0;31mNameError\u001b[0m                                 Traceback (most recent call last)",
      "Cell \u001b[0;32mIn[70], line 2\u001b[0m\n\u001b[1;32m      1\u001b[0m root_orient\u001b[38;5;241m=\u001b[39mpose[:, :\u001b[38;5;241m3\u001b[39m]\n\u001b[0;32m----> 2\u001b[0m rq \u001b[38;5;241m=\u001b[39m \u001b[43mgeometry\u001b[49m\u001b[38;5;241m.\u001b[39maxis_angle_to_quaternion(root_orient)\n",
      "\u001b[0;31mNameError\u001b[0m: name 'geometry' is not defined"
     ]
    }
   ],
   "source": [
    "root_orient=pose[:, :3]\n",
    "rq = geometry.axis_angle_to_quaternion(root_orient)"
   ]
  },
  {
   "cell_type": "code",
   "execution_count": null,
   "id": "d80b5527-ab0e-4def-807f-91d8718812ef",
   "metadata": {},
   "outputs": [],
   "source": []
  },
  {
   "cell_type": "code",
   "execution_count": 20,
   "id": "045b8528-f387-4bd2-93e5-2602608652b8",
   "metadata": {},
   "outputs": [],
   "source": [
    "rm = geometry.quaternion_to_matrix(r_rot_quat)"
   ]
  },
  {
   "cell_type": "code",
   "execution_count": 21,
   "id": "3ff27b47-a4a2-462b-a753-9215b89fdd9b",
   "metadata": {},
   "outputs": [],
   "source": [
    "points = r_pos[:,[0,2]]\n",
    "orientations = rm"
   ]
  },
  {
   "cell_type": "code",
   "execution_count": 36,
   "id": "5017fb24-8fe2-41a5-8db9-04bdde6b970d",
   "metadata": {},
   "outputs": [],
   "source": [
    "def quaternion_to_angle_axis(q):\n",
    "    \"\"\"\n",
    "    Convert quaternion to angle-axis representation.\n",
    "    \"\"\"\n",
    "    q0, q1, q2, q3 = q\n",
    "    angle = 2 * np.arccos(q0)\n",
    "    axis = np.array([q1, q2]) / np.sqrt(1 - q0**2)\n",
    "    return angle, axis\n",
    "\n",
    "def visualize_orientations_2d(points, orientations):\n",
    "    plt.figure(figsize=(8, 6))\n",
    "\n",
    "    # Plot points\n",
    "    plt.scatter(points[:, 0], points[:, 1], c='b', marker='o', label='Points')\n",
    "\n",
    "    # Plot orientation vectors\n",
    "    for i in range(len(points)):\n",
    "        origin = points[i]\n",
    "        orientation_quaternion = orientations[i]\n",
    "        angle, axis = quaternion_to_angle_axis(orientation_quaternion)\n",
    "        dx, dy = axis * angle\n",
    "        plt.quiver(*origin, dx, dy, scale=1, width = 0.004, color='r')\n",
    "\n",
    "    plt.xlabel('X')\n",
    "    plt.ylabel('Y')\n",
    "    plt.title('Orientation Visualization in 2D')\n",
    "    plt.legend()\n",
    "    plt.grid()\n",
    "    plt.axis('equal')\n",
    "    plt.show()"
   ]
  },
  {
   "cell_type": "code",
   "execution_count": 37,
   "id": "d5de1d59-ee3c-41ce-a74f-50e7f86f230a",
   "metadata": {},
   "outputs": [],
   "source": [
    "rp = r_pos[0:30,[0,2]]\n",
    "rp[:,1] = -rp[:,1] "
   ]
  },
  {
   "cell_type": "code",
   "execution_count": 38,
   "id": "0650d2ac-bf99-44b5-b412-175cb6aae7fb",
   "metadata": {},
   "outputs": [
    {
     "data": {
      "text/plain": [
       "torch.Size([239, 4])"
      ]
     },
     "execution_count": 38,
     "metadata": {},
     "output_type": "execute_result"
    }
   ],
   "source": [
    "r_rot_quat.shape"
   ]
  },
  {
   "cell_type": "code",
   "execution_count": 39,
   "id": "c4d1e3f5-1108-4477-be68-cb6327a34f18",
   "metadata": {},
   "outputs": [
    {
     "data": {
      "image/png": "[encoded data removed]",
      "text/plain": [
       "<Figure size 800x600 with 1 Axes>"
      ]
     },
     "metadata": {},
     "output_type": "display_data"
    }
   ],
   "source": [
    "visualize_orientations_2d(rp, r_rot_quat)"
   ]
  },
  {
   "cell_type": "code",
   "execution_count": 36,
   "id": "9e06dff6-871a-4323-9576-1a08b6a5b27b",
   "metadata": {},
   "outputs": [
    {
     "data": {
      "text/plain": [
       "[<matplotlib.lines.Line2D at 0x7f7bec1d6d90>]"
      ]
     },
     "execution_count": 36,
     "metadata": {},
     "output_type": "execute_result"
    },
    {
     "data": {
      "image/png": "[encoded data removed]",
      "text/plain": [
       "<Figure size 640x480 with 1 Axes>"
      ]
     },
     "metadata": {},
     "output_type": "display_data"
    }
   ],
   "source": [
    "plt.plot(r_pos[:,0] , -r_pos[:,2]) "
   ]
  },
  {
   "cell_type": "code",
   "execution_count": null,
   "id": "0bc25e9a-e123-4189-b0eb-35ea5debb3c6",
   "metadata": {},
   "outputs": [],
   "source": []
  },
  {
   "cell_type": "code",
   "execution_count": null,
   "id": "5a610042-31b6-4079-be9d-4fdbe30eff6f",
   "metadata": {},
   "outputs": [],
   "source": []
  },
  {
   "cell_type": "code",
   "execution_count": null,
   "id": "9498e505-8e95-4cbf-9417-b3debf947c7c",
   "metadata": {},
   "outputs": [],
   "source": []
  },
  {
   "cell_type": "code",
   "execution_count": null,
   "id": "8fbb2a74-aa3f-44bd-90db-3d75fbfb91e3",
   "metadata": {},
   "outputs": [],
   "source": []
  },
  {
   "cell_type": "code",
   "execution_count": null,
   "id": "1b2af9a1-e005-4495-94d1-dcd5d1c89375",
   "metadata": {},
   "outputs": [],
   "source": []
  },
  {
   "cell_type": "code",
   "execution_count": null,
   "id": "38a02dfc-0cf6-420d-849b-f2be04ac772a",
   "metadata": {},
   "outputs": [],
   "source": []
  },
  {
   "cell_type": "code",
   "execution_count": null,
   "id": "aa1eac93-49e7-4937-a232-89b507fb9367",
   "metadata": {},
   "outputs": [],
   "source": [
    "trans = pose[:, 309 : 309 + 3]\n",
    "root_orient=pose[:, :3]"
   ]
  },
  {
   "cell_type": "code",
   "execution_count": null,
   "id": "5a8e8f2d-8115-47e1-9885-e5e134e2ba43",
   "metadata": {},
   "outputs": [],
   "source": [
    "root_pos_init = trans[0]\n",
    "root_pose_init_xz = root_pos_init * np.array([1, 0, 1])\n",
    "trans = trans - root_pose_init_xz"
   ]
  },
  {
   "cell_type": "code",
   "execution_count": null,
   "id": "403485d8-72b9-44f6-a17c-452d429b189a",
   "metadata": {},
   "outputs": [],
   "source": [
    "plt.plot(trans[:,0] , -trans[:,2])"
   ]
  },
  {
   "cell_type": "code",
   "execution_count": null,
   "id": "658f42a7-2bb1-44fe-ac61-5cae3101b559",
   "metadata": {},
   "outputs": [],
   "source": [
    "plt.plot(r_pos[:,0] , -r_pos[:,2]) "
   ]
  },
  {
   "cell_type": "code",
   "execution_count": null,
   "id": "2aa14aaa-bf81-4e08-a6cd-b224e116f5b2",
   "metadata": {},
   "outputs": [],
   "source": []
  },
  {
   "cell_type": "markdown",
   "id": "96faa279-cd67-4942-9f85-b1a3ed8bf2b1",
   "metadata": {},
   "source": [
    "## Translation transformer"
   ]
  },
  {
   "cell_type": "code",
   "execution_count": null,
   "id": "864117d7-4304-4008-8bba-a7774192efd6",
   "metadata": {},
   "outputs": [],
   "source": []
  },
  {
   "cell_type": "code",
   "execution_count": null,
   "id": "7227081d-22e8-455c-9c12-14fdf46322e4",
   "metadata": {},
   "outputs": [],
   "source": []
  },
  {
   "cell_type": "code",
   "execution_count": null,
   "id": "2722dff0-0a42-41b6-b59e-5f92205ec2e2",
   "metadata": {},
   "outputs": [],
   "source": []
  },
  {
   "cell_type": "code",
   "execution_count": null,
   "id": "ed26ffb1-73cc-45ea-b006-1b45aa693717",
   "metadata": {},
   "outputs": [],
   "source": []
  },
  {
   "cell_type": "code",
   "execution_count": null,
   "id": "4b776c07-8cb8-44c0-b07b-f9cf64330786",
   "metadata": {},
   "outputs": [],
   "source": []
  },
  {
   "cell_type": "code",
   "execution_count": null,
   "id": "3f601b75-d429-4f43-96c4-21830a016170",
   "metadata": {},
   "outputs": [],
   "source": []
  },
  {
   "cell_type": "code",
   "execution_count": null,
   "id": "da7814e9-c79f-40d0-87d9-5a6a113be743",
   "metadata": {},
   "outputs": [],
   "source": []
  },
  {
   "cell_type": "code",
   "execution_count": null,
   "id": "0108f372-3213-499b-9b25-b051f5eebc87",
   "metadata": {},
   "outputs": [],
   "source": []
  },
  {
   "cell_type": "markdown",
   "id": "88a8e7ed-a9d6-4fb5-a45a-187c48ce1f72",
   "metadata": {
    "jp-MarkdownHeadingCollapsed": true
   },
   "source": [
    "## Streaming transformer"
   ]
  },
  {
   "cell_type": "code",
   "execution_count": null,
   "id": "7f1e61c8-9de6-4062-a444-aa0c41b2700f",
   "metadata": {},
   "outputs": [],
   "source": [
    "\n",
    "from core.param_dataclasses import pattern_providers\n",
    "from core.datasets.multimodal_dataset import MotionIndicesAudioTextDataset, load_dataset_gen, simple_collate\n",
    "from core.models.utils import instantiate_from_config, get_obj_from_str\n"
   ]
  },
  {
   "cell_type": "code",
   "execution_count": null,
   "id": "7c76b02d-2c79-45aa-a014-dd65ec93cbf2",
   "metadata": {},
   "outputs": [],
   "source": [
    "from core import MotionRep, AudioRep, TextRep\n",
    "from core.datasets.conditioner import ConditionProvider,ConditionFuserStreamer\n",
    "from core.models.generation.lm import LMModel, MotionGen\n",
    "import einops"
   ]
  },
  {
   "cell_type": "code",
   "execution_count": null,
   "id": "eb6d9572-d125-45c7-9892-9383fefc386f",
   "metadata": {},
   "outputs": [],
   "source": []
  },
  {
   "cell_type": "code",
   "execution_count": null,
   "id": "3dec2ab9-311e-46a7-ae4c-262399be4c46",
   "metadata": {},
   "outputs": [],
   "source": [
    "gen_cfg = strm_get_cfg_defaults()\n",
    "gen_cfg.merge_from_file(\"/srv/hays-lab/scratch/sanisetty3/music_motion/ATCMG/checkpoints/motion_streaming/motion_streaming.yaml\")\n",
    "gen_cfg.freeze()"
   ]
  },
  {
   "cell_type": "code",
   "execution_count": null,
   "id": "c3e7b5a3-d60d-4902-8e47-83797a5ed0ec",
   "metadata": {},
   "outputs": [],
   "source": [
    "lm_args = gen_cfg.transformer_lm\n",
    "target = lm_args.pop(\"target\")\n",
    "fuse_config = gen_cfg.fuser\n",
    "pattern_args = gen_cfg.codebooks_pattern\n",
    "dataset_args = gen_cfg.dataset"
   ]
  },
  {
   "cell_type": "code",
   "execution_count": null,
   "id": "00544a2c-cf08-4e84-a84a-8313866c9377",
   "metadata": {},
   "outputs": [],
   "source": [
    "model_gen= MotionGen(lm_args , fuse_config , pattern_args ).to(device)\n",
    "model_gen = model_gen.eval()"
   ]
  },
  {
   "cell_type": "code",
   "execution_count": null,
   "id": "bed1c75f-9eec-478b-8655-a031016e326a",
   "metadata": {},
   "outputs": [],
   "source": []
  },
  {
   "cell_type": "code",
   "execution_count": null,
   "id": "b3749c8e-0eca-48fd-ba1b-3046cb83b6ce",
   "metadata": {},
   "outputs": [],
   "source": [
    "modeling = pattern_args.pop(\"modeling\")\n",
    "pattern_provider = pattern_providers[modeling](lm_args.n_q, delays = pattern_args.delays , flatten_first = pattern_args.flatten_first , empty_initial = pattern_args.empty_initial )"
   ]
  },
  {
   "cell_type": "code",
   "execution_count": null,
   "id": "aabc42ef-4be4-4bd5-8618-6e6681e52706",
   "metadata": {},
   "outputs": [],
   "source": [
    "fuse_method = fuse_config.pop(\"fuse_method\")\n"
   ]
  },
  {
   "cell_type": "code",
   "execution_count": null,
   "id": "6604e8ba-0e24-4722-a13e-78409cd89b7c",
   "metadata": {},
   "outputs": [],
   "source": [
    "fuse_method = {'cross': ['text'], 'input_interpolate': ['audio']}"
   ]
  },
  {
   "cell_type": "code",
   "execution_count": null,
   "id": "33bb9d56-c713-404a-85e5-69c9b4b015a4",
   "metadata": {},
   "outputs": [],
   "source": [
    "if isinstance(fuse_method, list):\n",
    "    fuse_method = fuse_method[0]\n",
    "condition_fuser = ConditionFuserStreamer(fuse_method, **fuse_config)"
   ]
  },
  {
   "cell_type": "code",
   "execution_count": null,
   "id": "7e2a3f9f-3461-4c9d-bf4d-236287f1a6d4",
   "metadata": {},
   "outputs": [],
   "source": []
  },
  {
   "cell_type": "code",
   "execution_count": null,
   "id": "f861be10-8c39-4080-a103-855c3483316f",
   "metadata": {},
   "outputs": [],
   "source": [
    "model = LMModel(\n",
    "            pattern_provider=pattern_provider,\n",
    "            fuser=condition_fuser,\n",
    "            **lm_args\n",
    "        ).to(device)"
   ]
  },
  {
   "cell_type": "code",
   "execution_count": null,
   "id": "417a0493-4f58-478a-a699-02f62d0be73e",
   "metadata": {},
   "outputs": [],
   "source": []
  },
  {
   "cell_type": "code",
   "execution_count": null,
   "id": "c5a49bd9-1160-4181-8512-b6e4b3973a8d",
   "metadata": {},
   "outputs": [],
   "source": []
  },
  {
   "cell_type": "code",
   "execution_count": null,
   "id": "e3493b2d-800b-4c06-a117-c5a81b89ab73",
   "metadata": {},
   "outputs": [],
   "source": []
  },
  {
   "cell_type": "code",
   "execution_count": null,
   "id": "2b40dde6-abbd-41d5-82ec-2835fc4118e5",
   "metadata": {},
   "outputs": [],
   "source": [
    "condition_provider = ConditionProvider(\n",
    "            motion_rep=MotionRep(dataset_args.motion_rep),\n",
    "            audio_rep=AudioRep(dataset_args.audio_rep),\n",
    "            text_rep=TextRep(dataset_args.text_rep),\n",
    "            motion_padding=dataset_args.motion_padding,\n",
    "            audio_padding=dataset_args.audio_padding,\n",
    "            motion_max_length_s=10,\n",
    "            audio_max_length_s=10,\n",
    "            pad_id = model_gen.model.pad_token_id,\n",
    "            fps=30/4,\n",
    "            # device = \"cpu\"\n",
    "        )"
   ]
  },
  {
   "cell_type": "code",
   "execution_count": null,
   "id": "8dc8d1fa-a114-4d34-9deb-77f40e573f18",
   "metadata": {},
   "outputs": [],
   "source": [
    "from core.datasets.multimodal_dataset import MotionIndicesAudioTextDataset, load_dataset_gen, simple_collate\n",
    "# dset = MotionIndicesAudioTextDataset(\"beat\" , \"/srv/hays-lab/scratch/sanisetty3/motionx\" ,motion_rep = \"full\", split = \"render\" , fps = 30/4  )\n"
   ]
  },
  {
   "cell_type": "code",
   "execution_count": null,
   "id": "f678ef65-eb0b-4491-b383-3bc9af5a03ef",
   "metadata": {},
   "outputs": [],
   "source": [
    "train_ds, sampler_train, weights_train  = load_dataset_gen(dataset_names = [\"humanml\"] , dataset_args=dataset_args, split = \"test\")\n",
    "train_loader = torch.utils.data.DataLoader(\n",
    "        train_ds,\n",
    "        1,\n",
    "        # sampler=sampler_train,\n",
    "        # shuffle = False,\n",
    "        collate_fn=partial(simple_collate , conditioner = condition_provider , permute = True),\n",
    "        # drop_last=True,\n",
    "    )"
   ]
  },
  {
   "cell_type": "code",
   "execution_count": null,
   "id": "4cd33baa-e890-42a0-9f5e-2f470b5c9e13",
   "metadata": {},
   "outputs": [],
   "source": [
    "for inputs, conditions in train_loader:\n",
    "    break\n",
    "    "
   ]
  },
  {
   "cell_type": "code",
   "execution_count": null,
   "id": "6ab4620f-c0a6-4d5e-a075-1a097bc2a6bd",
   "metadata": {},
   "outputs": [],
   "source": [
    "train_ds.datasets[0].fps"
   ]
  },
  {
   "cell_type": "code",
   "execution_count": null,
   "id": "52109a38-0e3b-49a5-926b-3cbf7848f7b9",
   "metadata": {},
   "outputs": [],
   "source": []
  },
  {
   "cell_type": "code",
   "execution_count": null,
   "id": "41369c4f-4407-47a6-a9e2-bc0820798cc1",
   "metadata": {},
   "outputs": [],
   "source": []
  },
  {
   "cell_type": "code",
   "execution_count": null,
   "id": "fe674256-814a-44a7-8d56-bf6b243d2632",
   "metadata": {},
   "outputs": [],
   "source": [
    "for inputs, conditions in train_loader:\n",
    "    input_mask = inputs[\"motion\"][1]\n",
    "    motions_or_ids = inputs[\"motion\"][0]\n",
    "    if motions_or_ids.shape[-1] < 1: \n",
    "        print(input_mask.shape , motions_or_ids.shape )\n",
    "    "
   ]
  },
  {
   "cell_type": "code",
   "execution_count": null,
   "id": "05bc814c-aa4f-464e-9d76-471a18a2249e",
   "metadata": {},
   "outputs": [],
   "source": [
    "inputs[\"names\"]"
   ]
  },
  {
   "cell_type": "code",
   "execution_count": null,
   "id": "d2b78ff3-d6c7-423c-b991-8fdeb637d096",
   "metadata": {},
   "outputs": [],
   "source": []
  },
  {
   "cell_type": "code",
   "execution_count": null,
   "id": "8d3ae41f-e73e-4543-814f-a2ce73f0b415",
   "metadata": {},
   "outputs": [],
   "source": [
    "input_mask = inputs[\"motion\"][1]\n",
    "motions_or_ids = inputs[\"motion\"][0].cuda()\n",
    "B, K, T = motions_or_ids.shape"
   ]
  },
  {
   "cell_type": "code",
   "execution_count": null,
   "id": "cda20bc2-4cce-4928-adbb-e537934504e8",
   "metadata": {},
   "outputs": [],
   "source": [
    "motions = inputs[\"motion\"][0].squeeze().to(torch.long)\n",
    "motion_mask = inputs[\"motion\"][1]\n"
   ]
  },
  {
   "cell_type": "code",
   "execution_count": null,
   "id": "2e72a972-691e-4adb-9975-d9058cef37e2",
   "metadata": {},
   "outputs": [],
   "source": [
    "motions.shape"
   ]
  },
  {
   "cell_type": "code",
   "execution_count": null,
   "id": "65a619e0-8c14-4e64-acaa-de047244d59b",
   "metadata": {
    "scrolled": true
   },
   "outputs": [],
   "source": []
  },
  {
   "cell_type": "code",
   "execution_count": null,
   "id": "f33b546b-0225-4bf1-a579-af34eba142c0",
   "metadata": {},
   "outputs": [],
   "source": [
    "conditions[\"text\"][0].shape"
   ]
  },
  {
   "cell_type": "code",
   "execution_count": null,
   "id": "212a21a7-3d15-4cc8-8a51-e283c4edc36b",
   "metadata": {},
   "outputs": [],
   "source": [
    "conditions[\"audio\"][0].shape"
   ]
  },
  {
   "cell_type": "code",
   "execution_count": null,
   "id": "2d5f4c42-e0fb-4c14-88e6-c3b5998417c1",
   "metadata": {},
   "outputs": [],
   "source": [
    "conditions[\"audio\"][1]"
   ]
  },
  {
   "cell_type": "code",
   "execution_count": null,
   "id": "e16ea48a-12a1-4728-adfc-a8b9eaaa26f0",
   "metadata": {},
   "outputs": [],
   "source": []
  },
  {
   "cell_type": "code",
   "execution_count": null,
   "id": "2f0d8a60-d111-4f5b-8891-43893df1a558",
   "metadata": {},
   "outputs": [],
   "source": [
    "cond = conditions[\"audio\"][0]\n",
    "cond_mask = conditions[\"audio\"][1]\n",
    "cond = einops.rearrange(cond, \"b t d -> b d t\")\n",
    "cond = F.interpolate(cond, size=52)\n",
    "cond_mask = (\n",
    "    F.interpolate(\n",
    "        cond_mask.unsqueeze(1).to(torch.float),\n",
    "        size=52,\n",
    "    )\n",
    "    .squeeze(1)\n",
    "    .to(torch.bool)\n",
    ")"
   ]
  },
  {
   "cell_type": "code",
   "execution_count": null,
   "id": "d8cfdddd-0d8b-407e-a539-587692c88ea6",
   "metadata": {},
   "outputs": [],
   "source": []
  },
  {
   "cell_type": "code",
   "execution_count": null,
   "id": "0e1ae6d7-deb4-4e33-92ac-722d1dfd24ea",
   "metadata": {},
   "outputs": [],
   "source": []
  },
  {
   "cell_type": "code",
   "execution_count": null,
   "id": "c59afbaa-ec89-469c-9bc6-3ede8e91c6c9",
   "metadata": {},
   "outputs": [],
   "source": [
    "out = model_gen((motions, motion_mask), conditions)"
   ]
  },
  {
   "cell_type": "code",
   "execution_count": null,
   "id": "aab3354d-d97a-4921-a1bc-76a38edfec80",
   "metadata": {},
   "outputs": [],
   "source": []
  },
  {
   "cell_type": "code",
   "execution_count": null,
   "id": "bc6a4e90-37b9-453b-b7d9-7d1ca9fd9e4b",
   "metadata": {},
   "outputs": [],
   "source": []
  },
  {
   "cell_type": "code",
   "execution_count": null,
   "id": "71844ff0-ff1d-48d4-bac9-693e550e9a1d",
   "metadata": {},
   "outputs": [],
   "source": [
    "B , N , C = conditions[\"audio\"][0].shape"
   ]
  },
  {
   "cell_type": "code",
   "execution_count": null,
   "id": "11627b3c-0670-42d6-8cf7-339080aff996",
   "metadata": {},
   "outputs": [],
   "source": []
  },
  {
   "cell_type": "code",
   "execution_count": null,
   "id": "c5963313-f768-4695-b785-db59931e2451",
   "metadata": {},
   "outputs": [],
   "source": [
    "out = model.compute_predictions(inputs[\"motion\"] , conditions)"
   ]
  },
  {
   "cell_type": "code",
   "execution_count": null,
   "id": "716358b3-c74e-4c13-bf76-7856612b98cc",
   "metadata": {},
   "outputs": [],
   "source": []
  },
  {
   "cell_type": "code",
   "execution_count": null,
   "id": "13b3e160-dc04-412e-a0bc-2365e976cab1",
   "metadata": {},
   "outputs": [],
   "source": []
  },
  {
   "cell_type": "code",
   "execution_count": null,
   "id": "12f58033-d6e5-435f-9839-e0f2268c8292",
   "metadata": {},
   "outputs": [],
   "source": []
  },
  {
   "cell_type": "code",
   "execution_count": null,
   "id": "c38e5f84-95e6-45c6-b610-abd08cc6e9d6",
   "metadata": {},
   "outputs": [],
   "source": []
  },
  {
   "cell_type": "code",
   "execution_count": null,
   "id": "80ca3cc8-6c4a-4d17-910a-816df4dcdf08",
   "metadata": {},
   "outputs": [],
   "source": []
  },
  {
   "cell_type": "code",
   "execution_count": null,
   "id": "3f752773-ff68-4d72-84a2-a27a927d5bec",
   "metadata": {},
   "outputs": [],
   "source": []
  },
  {
   "cell_type": "code",
   "execution_count": null,
   "id": "d71bc5ef-1191-49b3-b4fc-2922d6e0578a",
   "metadata": {},
   "outputs": [],
   "source": [
    "audio_embed = model.project_audio(conditions[\"audio\"][0])\n",
    "text_embed = model.project_text(conditions[\"text\"][0])"
   ]
  },
  {
   "cell_type": "code",
   "execution_count": null,
   "id": "b770ec8b-fb3e-4501-b11f-2e6fca2db741",
   "metadata": {},
   "outputs": [],
   "source": [
    "audio_embed.shape"
   ]
  },
  {
   "cell_type": "code",
   "execution_count": null,
   "id": "13ffb358-c31e-48ac-a229-6bf2d976a712",
   "metadata": {},
   "outputs": [],
   "source": [
    "input_ = sum([model.emb[k](motions_or_ids[:, k]) for k in range(K)])"
   ]
  },
  {
   "cell_type": "code",
   "execution_count": null,
   "id": "5981829a-08da-4d6a-ac68-4c9d6ddb40cd",
   "metadata": {},
   "outputs": [],
   "source": [
    "motions.shape"
   ]
  },
  {
   "cell_type": "code",
   "execution_count": null,
   "id": "e04a5d55-dfb6-4635-a512-09636ab3c613",
   "metadata": {},
   "outputs": [],
   "source": []
  },
  {
   "cell_type": "code",
   "execution_count": null,
   "id": "83474047-5877-4996-aef8-2159b756ccb3",
   "metadata": {},
   "outputs": [],
   "source": []
  },
  {
   "cell_type": "code",
   "execution_count": null,
   "id": "aba86e5f-a77f-46df-80dd-49366cec791b",
   "metadata": {},
   "outputs": [],
   "source": []
  },
  {
   "cell_type": "code",
   "execution_count": null,
   "id": "f2ce92be-036b-4aa0-9024-4b90c4c8ca01",
   "metadata": {},
   "outputs": [],
   "source": []
  },
  {
   "cell_type": "code",
   "execution_count": null,
   "id": "b74f0d70-c2f3-4f7b-bbee-7e97aa6e04d6",
   "metadata": {},
   "outputs": [],
   "source": []
  },
  {
   "cell_type": "markdown",
   "id": "9b0a48f7-9970-454d-88d1-23fa31ae2af0",
   "metadata": {
    "jp-MarkdownHeadingCollapsed": true
   },
   "source": [
    "## VIusalise motions"
   ]
  },
  {
   "cell_type": "code",
   "execution_count": null,
   "id": "ea6f3a6d-60e0-40e7-898a-76d40432de5c",
   "metadata": {},
   "outputs": [],
   "source": [
    "def bkn_to_motion(codes, dset):\n",
    "        # codes b k n\n",
    "        body_inds = codes[:, 0]\n",
    "        left_inds = codes[:, 1]\n",
    "        right_inds = codes[:, 2]\n",
    "        body_motion = body_model.decode(body_inds[0:1]).detach().cpu()\n",
    "        left_motion = left_hand_model.decode(left_inds[0:1]).detach().cpu()\n",
    "        right_motion = right_hand_model.decode(right_inds[0:1]).detach().cpu()\n",
    "        body_M = dset.toMotion(\n",
    "            body_motion[0],\n",
    "            motion_rep=MotionRep(body_cfg.dataset.motion_rep),\n",
    "            hml_rep=body_cfg.dataset.hml_rep,\n",
    "        )\n",
    "        left_M = dset.toMotion(\n",
    "            left_motion[0],\n",
    "            motion_rep=MotionRep(left_cfg.dataset.motion_rep),\n",
    "            hml_rep=left_cfg.dataset.hml_rep,\n",
    "        )\n",
    "        right_M = dset.toMotion(\n",
    "            right_motion[0],\n",
    "            motion_rep=MotionRep(right_cfg.dataset.motion_rep),\n",
    "            hml_rep=right_cfg.dataset.hml_rep,\n",
    "        )\n",
    "        full_M = dset.to_full_joint_representation(body_M, left_M, right_M)\n",
    "\n",
    "        return full_M"
   ]
  },
  {
   "cell_type": "code",
   "execution_count": null,
   "id": "c7f886f9-98ab-4491-929f-134db0aad9eb",
   "metadata": {},
   "outputs": [],
   "source": [
    "for inputs, conditions in train_loader:\n",
    "    break\n",
    "    "
   ]
  },
  {
   "cell_type": "code",
   "execution_count": null,
   "id": "00f9a234-a968-4fa1-bee2-cee51940b89d",
   "metadata": {},
   "outputs": [],
   "source": []
  },
  {
   "cell_type": "code",
   "execution_count": null,
   "id": "d85d7c71-1288-41de-b3d6-aec9dadd3454",
   "metadata": {
    "scrolled": true
   },
   "outputs": [],
   "source": [
    "dset = train_ds.datasets[0]"
   ]
  },
  {
   "cell_type": "code",
   "execution_count": null,
   "id": "726932c6-5d92-4c81-a08a-93ba2dffb1ed",
   "metadata": {},
   "outputs": [],
   "source": []
  },
  {
   "cell_type": "code",
   "execution_count": null,
   "id": "aca365eb-b6bf-430a-a9e0-cf92afe27a2f",
   "metadata": {},
   "outputs": [],
   "source": []
  },
  {
   "cell_type": "code",
   "execution_count": null,
   "id": "37bd1a72-b2c5-4bd6-89fa-c9a78c8c7a7f",
   "metadata": {},
   "outputs": [],
   "source": []
  },
  {
   "cell_type": "code",
   "execution_count": null,
   "id": "b90c34dc-ddc3-4025-ae66-20e924d1c006",
   "metadata": {},
   "outputs": [],
   "source": [
    "body_inds = motions_or_ids[:,0]\n",
    "left_inds = motions_or_ids[:,1]\n",
    "right_inds = motions_or_ids[:,2]\n",
    "body_motion = body_model.decode(body_inds[0:1]).detach()\n",
    "left_motion = left_hand_model.decode(left_inds[0:1]).detach()\n",
    "right_motion = right_hand_model.decode(right_inds[0:1]).detach()\n",
    "body_M = dset.toMotion(body_motion[0] , motion_rep = MotionRep(body_cfg.dataset.motion_rep) , hml_rep = body_cfg.dataset.hml_rep , )\n",
    "left_M = dset.toMotion(left_motion[0] , motion_rep = MotionRep(left_cfg.dataset.motion_rep) , hml_rep = left_cfg.dataset.hml_rep , )\n",
    "right_M = dset.toMotion(right_motion[0] , motion_rep = MotionRep(right_cfg.dataset.motion_rep) , hml_rep = right_cfg.dataset.hml_rep , )\n",
    "full_M = dset.to_full_joint_representation(body_M , left_M , right_M )"
   ]
  },
  {
   "cell_type": "code",
   "execution_count": null,
   "id": "f1bd6e19-edbf-4b5e-ab64-831f4bc8657c",
   "metadata": {},
   "outputs": [],
   "source": []
  },
  {
   "cell_type": "code",
   "execution_count": null,
   "id": "033d957c-d3ec-4451-9610-0dde2e70e61e",
   "metadata": {},
   "outputs": [],
   "source": [
    "motion.device"
   ]
  },
  {
   "cell_type": "code",
   "execution_count": null,
   "id": "21a7657d-7d95-4398-9b05-2a84e4f861f2",
   "metadata": {},
   "outputs": [],
   "source": [
    "motion = inputs[\"motion\"][0]"
   ]
  },
  {
   "cell_type": "code",
   "execution_count": null,
   "id": "66b1ef0a-1f26-4a44-8fe3-fd4f6cdaafb6",
   "metadata": {},
   "outputs": [],
   "source": [
    "gt_motion = bkn_to_motion(motion, dset)"
   ]
  },
  {
   "cell_type": "code",
   "execution_count": null,
   "id": "f3e4c62e-118a-4095-96c2-8ec42b4ef252",
   "metadata": {},
   "outputs": [],
   "source": [
    "gt_motion.velocity.shape"
   ]
  },
  {
   "cell_type": "code",
   "execution_count": null,
   "id": "a603b399-f3c0-44d5-a131-7016920a7b60",
   "metadata": {},
   "outputs": [],
   "source": [
    "# dset.render_hml(gt_motion , \"/srv/hays-lab/scratch/sanisetty3/music_motion/ATCMG/render/full_joined.gif\", from_rotation = True)"
   ]
  },
  {
   "cell_type": "code",
   "execution_count": null,
   "id": "ca4d2846-aa37-4914-8fe1-93038119241b",
   "metadata": {},
   "outputs": [],
   "source": [
    "inputs[\"motion\"][0].shape"
   ]
  },
  {
   "cell_type": "code",
   "execution_count": null,
   "id": "bd95ad50-7c7d-46f2-a12c-97a6970d58d7",
   "metadata": {},
   "outputs": [],
   "source": [
    "body_inds = motions_or_ids[:,0]\n",
    "body_motion = body_model.decode(body_inds[0:1]).detach()\n",
    "body_M = dset.toMotion(body_motion[0] , motion_rep = MotionRep(body_cfg.dataset.motion_rep) , hml_rep = body_cfg.dataset.hml_rep , )\n"
   ]
  },
  {
   "cell_type": "code",
   "execution_count": null,
   "id": "1081399a-65ae-4747-a56d-3802a0e6c144",
   "metadata": {},
   "outputs": [],
   "source": [
    "for inputs, conditions in tqdm(train_loader):\n",
    "    # print(inputs[\"names\"][0])\n",
    "    \n",
    "    motion = inputs[\"motion\"][0][...,:300]\n",
    "    gt_motion = bkn_to_motion(motion, dset)\n",
    "    # body_inds = motion[:,0]\n",
    "    # with torch.no_grad():\n",
    "    #     body_motion = body_model.decode(body_inds[0:1]).cpu()\n",
    "    # body_M = dset.toMotion(body_motion[0] , motion_rep = MotionRep(body_cfg.dataset.motion_rep) , hml_rep = body_cfg.dataset.hml_rep , )\n",
    "\n",
    "    dset.render_hml(gt_motion , f\"/srv/hays-lab/scratch/sanisetty3/music_motion/ATCMG/render/all/{os.path.basename(inputs['names'][0])}.gif\", from_rotation = True)\n",
    "    \n"
   ]
  },
  {
   "cell_type": "code",
   "execution_count": null,
   "id": "5b06d3ea-6ea0-4aa0-a555-3908fad8c480",
   "metadata": {},
   "outputs": [],
   "source": [
    "body_M.hml_rep"
   ]
  },
  {
   "cell_type": "code",
   "execution_count": null,
   "id": "6973207f-d18e-4d3c-ab30-f42f726d3c03",
   "metadata": {},
   "outputs": [],
   "source": [
    "choreo = np.load(\"/srv/hays-lab/scratch/sanisetty3/motionx/motion_data/new_joint_vecs/choreomaster/1160.npy\")\n",
    "full_og = dset.toMotion(choreo , motion_rep = MotionRep(\"full\") , hml_rep = \"gprvc\" )\n",
    "xyz = dset.to_xyz(full_og, from_rotation=True).cpu()"
   ]
  },
  {
   "cell_type": "code",
   "execution_count": null,
   "id": "fcaf8a32-a788-4d08-bb6d-1bb311b4f0fa",
   "metadata": {},
   "outputs": [],
   "source": [
    "import utils.vis_utils.plot_3d_global as plot_3d\n",
    "plot_3d.render(\n",
    "            np.array(xyz)[:300],\n",
    "            \"/srv/hays-lab/scratch/sanisetty3/music_motion/ATCMG/render/full_og.gif\",\n",
    "        )"
   ]
  },
  {
   "cell_type": "code",
   "execution_count": null,
   "id": "1ebaf935-e899-4010-9dfb-7c28416c4f94",
   "metadata": {},
   "outputs": [],
   "source": [
    "choreo.shape"
   ]
  },
  {
   "cell_type": "code",
   "execution_count": null,
   "id": "4538193f-c369-4e1b-9d2a-5b4769cdf846",
   "metadata": {},
   "outputs": [],
   "source": [
    "full_M = dset.inv_transform(full_M)\n",
    "full_M.tensor()\n",
    "full_M.root_params = full_og.root_params[:full_M.rotations.shape[0]]\n",
    "xyz_ = dset.to_xyz(full_M, from_rotation=True).cpu()"
   ]
  },
  {
   "cell_type": "code",
   "execution_count": null,
   "id": "b7585ca9-6488-49a7-8335-8eed85e2ec06",
   "metadata": {},
   "outputs": [],
   "source": [
    "xyz_.shape"
   ]
  },
  {
   "cell_type": "code",
   "execution_count": null,
   "id": "ceec94b8-fadc-449c-97b8-4d8a617d3cdf",
   "metadata": {},
   "outputs": [],
   "source": [
    "\n",
    "plot_3d.render(\n",
    "            np.array(xyz_)[:300],\n",
    "            \"/srv/hays-lab/scratch/sanisetty3/music_motion/ATCMG/render/full_joined.gif\",\n",
    "        )"
   ]
  },
  {
   "cell_type": "code",
   "execution_count": null,
   "id": "9aabe69b-94cd-40fc-bd5f-e53f789116f2",
   "metadata": {},
   "outputs": [],
   "source": []
  },
  {
   "cell_type": "code",
   "execution_count": null,
   "id": "dc27527f-245e-4aa1-b13d-6b2b2bf06849",
   "metadata": {},
   "outputs": [],
   "source": []
  },
  {
   "cell_type": "code",
   "execution_count": null,
   "id": "8976409d-c462-4ee2-b659-7f6628691592",
   "metadata": {},
   "outputs": [],
   "source": [
    "null_conditions = model.cfg_dropout(conditions, 1.0)"
   ]
  },
  {
   "cell_type": "code",
   "execution_count": null,
   "id": "420f1487-6119-4c26-927a-aa2b00f2885d",
   "metadata": {},
   "outputs": [],
   "source": [
    "out = model.compute_predictions(inputs[\"motion\"] , conditions)"
   ]
  },
  {
   "cell_type": "code",
   "execution_count": null,
   "id": "7e0e834b-0d15-409b-a3b9-cea2fb0d50a7",
   "metadata": {
    "scrolled": true
   },
   "outputs": [],
   "source": [
    "model = model.eval()"
   ]
  },
  {
   "cell_type": "code",
   "execution_count": null,
   "id": "6f4568d9-bc05-497c-a1f6-acd5daac1ccc",
   "metadata": {},
   "outputs": [],
   "source": [
    "outt = model.generate(conditions = null_conditions , two_step_cfg =True)"
   ]
  },
  {
   "cell_type": "code",
   "execution_count": null,
   "id": "5bae0039-4a36-4130-ba7a-7974783611bf",
   "metadata": {},
   "outputs": [],
   "source": [
    "outt.shape"
   ]
  },
  {
   "cell_type": "code",
   "execution_count": null,
   "id": "341c369b-96c3-4378-8464-50e639fb022f",
   "metadata": {},
   "outputs": [],
   "source": []
  },
  {
   "cell_type": "code",
   "execution_count": null,
   "id": "16d1663e-84b2-4bac-83f2-c77eda12320e",
   "metadata": {},
   "outputs": [],
   "source": []
  },
  {
   "cell_type": "code",
   "execution_count": null,
   "id": "e9b9d584-1d77-4bac-9e50-6dbc8498e50a",
   "metadata": {},
   "outputs": [],
   "source": []
  },
  {
   "cell_type": "code",
   "execution_count": null,
   "id": "f8470b40-073a-4353-a651-99af8be59f3a",
   "metadata": {},
   "outputs": [],
   "source": [
    "import time\n",
    "start = time.time()\n",
    "for i in range(10):\n",
    "    outt = model.generate(conditions = conditions , two_step_cfg =True)\n",
    "end = time.time()\n",
    "print('custom attention took {} seconds'.format(end - start))"
   ]
  },
  {
   "cell_type": "code",
   "execution_count": null,
   "id": "2a3ff337-f1c2-4297-97e2-9a34bee74329",
   "metadata": {},
   "outputs": [],
   "source": [
    "import time\n",
    "start = time.time()\n",
    "for i in range(10):\n",
    "    outt = model.generate(conditions = conditions , two_step_cfg =True)\n",
    "end = time.time()\n",
    "print('custom attention without flash took {} seconds'.format(end - start))"
   ]
  },
  {
   "cell_type": "code",
   "execution_count": null,
   "id": "562b0f52-c008-408c-a191-222399b388f9",
   "metadata": {},
   "outputs": [],
   "source": []
  },
  {
   "cell_type": "code",
   "execution_count": null,
   "id": "8e66e0dc-d743-4da6-afbd-3aacd5d918d1",
   "metadata": {
    "scrolled": true
   },
   "outputs": [],
   "source": [
    "import time\n",
    "start = time.time()\n",
    "for i in range(10):\n",
    "    outt = model.generate(conditions = conditions , two_step_cfg =True)\n",
    "end = time.time()\n",
    "print('torch attention took {} seconds'.format(end - start))"
   ]
  },
  {
   "cell_type": "code",
   "execution_count": null,
   "id": "00118e07-384d-45b0-b8fc-ecfda0545d3d",
   "metadata": {
    "scrolled": true
   },
   "outputs": [],
   "source": []
  },
  {
   "cell_type": "code",
   "execution_count": null,
   "id": "f7ca6fa3-696e-44fa-a980-9d14e1564e5e",
   "metadata": {},
   "outputs": [],
   "source": []
  },
  {
   "cell_type": "code",
   "execution_count": null,
   "id": "72ecdff3-035e-4de1-a9c7-e071841ffc54",
   "metadata": {},
   "outputs": [],
   "source": []
  },
  {
   "cell_type": "code",
   "execution_count": null,
   "id": "f7b3f30e-3c3f-4c65-aa53-ffab3f9b032c",
   "metadata": {
    "scrolled": true
   },
   "outputs": [],
   "source": []
  },
  {
   "cell_type": "code",
   "execution_count": null,
   "id": "09223a9f-75d1-47d0-a5a8-e95f22bafbab",
   "metadata": {},
   "outputs": [],
   "source": []
  },
  {
   "cell_type": "code",
   "execution_count": null,
   "id": "a8f10cf3-7354-41a4-9387-2cbdc6e0311c",
   "metadata": {},
   "outputs": [],
   "source": []
  },
  {
   "cell_type": "code",
   "execution_count": null,
   "id": "8637bf6a-df0b-4cd8-a5df-93164ea093ba",
   "metadata": {},
   "outputs": [],
   "source": []
  },
  {
   "cell_type": "code",
   "execution_count": null,
   "id": "4feeba5d-cd88-4da8-b3b1-fa6aa37aed62",
   "metadata": {},
   "outputs": [],
   "source": [
    "model_cfg = cfg_s.transformer_lm"
   ]
  },
  {
   "cell_type": "code",
   "execution_count": null,
   "id": "e725d30c-b766-4f13-a77c-c9a6e1a8f56a",
   "metadata": {},
   "outputs": [],
   "source": [
    "params = MotionTokenizerParams(model_cfg.card)"
   ]
  },
  {
   "cell_type": "code",
   "execution_count": null,
   "id": "3de950ca-b389-492b-a5dd-442ffefc7ed5",
   "metadata": {},
   "outputs": [],
   "source": [
    "n_q = 3\n",
    "codes = inputs[\"motion\"][0].permute(0,2,1).to(torch.long)\n",
    "code_mask = inputs[\"motion\"][1]"
   ]
  },
  {
   "cell_type": "code",
   "execution_count": null,
   "id": "91b54732-8ba6-4285-9c9f-9b2f438329f2",
   "metadata": {},
   "outputs": [],
   "source": [
    "B, K, T = codes.shape\n",
    "codes = codes.contiguous()"
   ]
  },
  {
   "cell_type": "code",
   "execution_count": null,
   "id": "315e1a5f-4d3b-469a-be18-acdc7d3653d4",
   "metadata": {},
   "outputs": [],
   "source": [
    "codes.shape"
   ]
  },
  {
   "cell_type": "code",
   "execution_count": null,
   "id": "2bb884ad-ec84-4b05-8932-c879432c1efd",
   "metadata": {},
   "outputs": [],
   "source": [
    "pattern = pattern_provider.get_pattern(T)"
   ]
  },
  {
   "cell_type": "code",
   "execution_count": null,
   "id": "bd4a31af-5302-4ac8-b55f-37ce3d633d53",
   "metadata": {},
   "outputs": [],
   "source": [
    "pattern"
   ]
  },
  {
   "cell_type": "code",
   "execution_count": null,
   "id": "e2affa79-d5a2-4c1a-a109-c0c1a3fc8d42",
   "metadata": {},
   "outputs": [],
   "source": [
    "sequence_codes, sequence_indexes, sequence_mask = (\n",
    "            pattern.build_pattern_sequence(\n",
    "                codes,\n",
    "                1025,\n",
    "                keep_only_valid_steps=True,\n",
    "            )\n",
    ")"
   ]
  },
  {
   "cell_type": "code",
   "execution_count": null,
   "id": "fb69c415-f1c7-4344-bb23-8a71add2b544",
   "metadata": {},
   "outputs": [],
   "source": [
    "sequence_codes.shape"
   ]
  },
  {
   "cell_type": "code",
   "execution_count": null,
   "id": "66154dbc-7ca8-427a-9840-c09f2ea8f3b5",
   "metadata": {},
   "outputs": [],
   "source": [
    "code_mask.shape"
   ]
  },
  {
   "cell_type": "code",
   "execution_count": null,
   "id": "273247a6-8017-423d-8a25-1acd03285ce4",
   "metadata": {},
   "outputs": [],
   "source": [
    "sequence_mask.shape"
   ]
  },
  {
   "cell_type": "code",
   "execution_count": null,
   "id": "0e134f8e-af23-46e1-80f9-9505d5707e5b",
   "metadata": {},
   "outputs": [],
   "source": [
    "new_mask = torch.ones_like(sequence_mask).repeat(B , 1 , 1)\n",
    "for i in range(n_q):\n",
    "    new_mask[:,i,i+1:] = code_mask[:,0:T-i]"
   ]
  },
  {
   "cell_type": "code",
   "execution_count": null,
   "id": "099dd667-48bf-455c-9ead-a85f92113b29",
   "metadata": {},
   "outputs": [],
   "source": []
  },
  {
   "cell_type": "code",
   "execution_count": null,
   "id": "784fe530-6f4d-4dd2-8661-c97222c0da70",
   "metadata": {},
   "outputs": [],
   "source": [
    "new_mask.shape"
   ]
  },
  {
   "cell_type": "code",
   "execution_count": null,
   "id": "d67188e6-85eb-41e4-b513-2cfc605bed54",
   "metadata": {},
   "outputs": [],
   "source": []
  },
  {
   "cell_type": "code",
   "execution_count": null,
   "id": "5a02a6b4-f643-40ec-931c-27be67587d1b",
   "metadata": {},
   "outputs": [],
   "source": [
    "new_new_mask = (new_mask.sum(1) == new_mask.shape[1])"
   ]
  },
  {
   "cell_type": "code",
   "execution_count": null,
   "id": "e9728a38-64b0-4829-a2a9-de1a394e3b83",
   "metadata": {},
   "outputs": [],
   "source": [
    "new_new_mask[0]"
   ]
  },
  {
   "cell_type": "code",
   "execution_count": null,
   "id": "aba620f8-607f-4868-87d1-bdbd8bad7a2d",
   "metadata": {},
   "outputs": [],
   "source": []
  },
  {
   "cell_type": "code",
   "execution_count": null,
   "id": "140792f0-0b9c-435e-88da-375174357c0c",
   "metadata": {},
   "outputs": [],
   "source": [
    "from core.datasets.audio_encoders import EncodecConditioner"
   ]
  },
  {
   "cell_type": "code",
   "execution_count": null,
   "id": "dd45bec8-3c58-4545-9d18-2619f7a4bd94",
   "metadata": {},
   "outputs": [],
   "source": [
    "audio_list = findAllFile(\"/srv/hays-lab/scratch/sanisetty3/motionx/audio/wav/\")"
   ]
  },
  {
   "cell_type": "code",
   "execution_count": null,
   "id": "48afcbc2-375e-4d95-b97a-6ef27a397749",
   "metadata": {},
   "outputs": [],
   "source": [
    "audenc = EncodecConditioner(target_sr = 9600)\n",
    "# audlib = AudioConditionerLibrosa()"
   ]
  },
  {
   "cell_type": "code",
   "execution_count": null,
   "id": "ea049b53-c6df-4606-b859-6f34a96b1dbd",
   "metadata": {},
   "outputs": [],
   "source": [
    "for src in tqdm(audio_list):\n",
    "    embs = audenc(audio_list[0])\n",
    "    np.save(src.replace(\"/wav\" , \"/encodec\").replace(\".wav\" , \".npy\") , embs.detach().cpu().numpy())"
   ]
  },
  {
   "cell_type": "code",
   "execution_count": null,
   "id": "f37c7075-36f4-4f16-a3b5-8f4bcfa86b9b",
   "metadata": {},
   "outputs": [],
   "source": [
    "audio_list[0]"
   ]
  },
  {
   "cell_type": "code",
   "execution_count": null,
   "id": "1746469b-975c-4f4e-a86d-44ea4f646cd6",
   "metadata": {},
   "outputs": [],
   "source": [
    "emb = audenc(audio_list[0])"
   ]
  },
  {
   "cell_type": "code",
   "execution_count": null,
   "id": "4793e041-2272-42cd-92a1-7b708300f9a8",
   "metadata": {},
   "outputs": [],
   "source": [
    "emb.shape"
   ]
  },
  {
   "cell_type": "code",
   "execution_count": null,
   "id": "401c23e5-bbbf-4351-adeb-bc8cb1afe27d",
   "metadata": {},
   "outputs": [],
   "source": [
    "np.load(\"/srv/hays-lab/scratch/sanisetty3/motionx/audio/encodec/aist/mBR0.npy\").shape"
   ]
  },
  {
   "cell_type": "code",
   "execution_count": null,
   "id": "4c17c903-36ce-4813-9cb9-152a4981422e",
   "metadata": {},
   "outputs": [],
   "source": [
    "emb = audenc(\"/srv/hays-lab/scratch/sanisetty3/motionx/audio/wav/choreomaster/0071.wav\")"
   ]
  },
  {
   "cell_type": "code",
   "execution_count": null,
   "id": "19a7f591-a7e0-4722-8dcd-5d1c309e5495",
   "metadata": {
    "scrolled": true
   },
   "outputs": [],
   "source": [
    "emb2 = audlib(\"/srv/hays-lab/scratch/sanisetty3/motionx/audio/wav/choreomaster/0071.wav\")"
   ]
  },
  {
   "cell_type": "code",
   "execution_count": null,
   "id": "c3a77f68-dd04-467d-8c5c-dc32e5dd48cd",
   "metadata": {},
   "outputs": [],
   "source": [
    "emb2.shape"
   ]
  },
  {
   "cell_type": "code",
   "execution_count": null,
   "id": "ef4f8574-6d24-4b59-a0a6-89a98b931161",
   "metadata": {},
   "outputs": [],
   "source": [
    "emb.shape"
   ]
  },
  {
   "cell_type": "code",
   "execution_count": null,
   "id": "2e882bae-0397-4dfc-928e-c8b6573bed81",
   "metadata": {},
   "outputs": [],
   "source": [
    "emb1 = np.load(\"/srv/hays-lab/scratch/sanisetty3/motionx/audio/encodec/choreomaster/0071.npy\")"
   ]
  },
  {
   "cell_type": "code",
   "execution_count": null,
   "id": "a75f834f-ad5b-4cf5-96b0-255d87859e7e",
   "metadata": {},
   "outputs": [],
   "source": [
    "emb1.shape"
   ]
  }
 ],
 "metadata": {
  "kernelspec": {
   "display_name": "Python 3 (ipykernel)",
   "language": "python",
   "name": "python3"
  },
  "language_info": {
   "codemirror_mode": {
    "name": "ipython",
    "version": 3
   },
   "file_extension": ".py",
   "mimetype": "text/x-python",
   "name": "python",
   "nbconvert_exporter": "python",
   "pygments_lexer": "ipython3",
   "version": "3.9.18"
  }
 },
 "nbformat": 4,
 "nbformat_minor": 5
}
