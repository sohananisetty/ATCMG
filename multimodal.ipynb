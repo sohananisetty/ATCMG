{
 "cells": [
  {
   "cell_type": "code",
   "execution_count": null,
   "id": "9231a3e8-9e24-4990-b940-00cdc6b15e24",
   "metadata": {},
   "outputs": [],
   "source": []
  },
  {
   "cell_type": "code",
   "execution_count": 1,
   "id": "7c44eef0-cea4-4ac9-b924-1327280f235f",
   "metadata": {},
   "outputs": [
    {
     "name": "stdout",
     "output_type": "stream",
     "text": [
      "Using device: cuda\n",
      "\n",
      "NVIDIA GeForce RTX 2080 Ti\n",
      "Memory Usage:\n",
      "Allocated: 0.0 GB\n",
      "Cached:    0.0 GB\n"
     ]
    }
   ],
   "source": [
    "# setting device on GPU if available, else CPU\n",
    "import torch\n",
    "device = torch.device('cuda' if torch.cuda.is_available() else 'cpu')\n",
    "print('Using device:', device)\n",
    "print()\n",
    "\n",
    "#Additional Info when using cuda\n",
    "if device.type == 'cuda':\n",
    "    print(torch.cuda.get_device_name(0))\n",
    "    print('Memory Usage:')\n",
    "    print('Allocated:', round(torch.cuda.memory_allocated(0)/1024**3,1), 'GB')\n",
    "    print('Cached:   ', round(torch.cuda.memory_reserved(0)/1024**3,1), 'GB')\n"
   ]
  },
  {
   "cell_type": "code",
   "execution_count": 2,
   "id": "5d81025f-b2fd-4067-9c7a-5c21f74f8ab5",
   "metadata": {},
   "outputs": [],
   "source": [
    "%load_ext autoreload\n",
    "%autoreload 2\n",
    "%matplotlib inline"
   ]
  },
  {
   "cell_type": "code",
   "execution_count": 3,
   "id": "13d36d72-1eba-4fd0-ba1e-69a4e714339b",
   "metadata": {},
   "outputs": [],
   "source": [
    "import torch\n",
    "import numpy as np\n",
    "import os\n",
    "import torch.nn as nn\n",
    "from tqdm import tqdm\n",
    "import json\n",
    "from functools import partial\n",
    "from torch import einsum, nn\n",
    "import torch.nn.functional as F\n",
    "import matplotlib.pyplot as plt\n",
    "from einops import pack, rearrange, reduce, repeat, unpack\n"
   ]
  },
  {
   "cell_type": "code",
   "execution_count": 4,
   "id": "70de7dab-5b08-4278-872f-ca3885ac3bbd",
   "metadata": {},
   "outputs": [],
   "source": [
    "def findAllFile(base):\n",
    "    file_path = []\n",
    "    for root, ds, fs in os.walk(base, followlinks=True):\n",
    "        for f in fs:\n",
    "            fullname = os.path.join(root, f)\n",
    "            file_path.append(fullname)\n",
    "    return file_path\n",
    "\n"
   ]
  },
  {
   "cell_type": "code",
   "execution_count": 5,
   "id": "395afd96-a4f7-45e3-b006-57abc3191800",
   "metadata": {},
   "outputs": [],
   "source": [
    "# from utils.motion_processing.hml_process import recover_from_ric, recover_root_rot_pos,recover_from_rot\n",
    "import utils.vis_utils.plot_3d_global as plot_3d\n",
    "import matplotlib.pyplot as plt\n",
    "\n",
    "def vis(mot , dset , name = \"motion\"):\n",
    "\n",
    "    if isinstance(mot , torch.Tensor):\n",
    "        mot = dset.toMotion(mot)\n",
    "    mot =dset.inv_transform(mot)\n",
    "\n",
    "\n",
    "\n",
    "    xyz = np.array(dset.to_xyz(mot).cpu())\n",
    "\n",
    "    print(xyz.shape)\n",
    "\n",
    "    \n",
    "    plot_3d.render(xyz , f\"/srv/hays-lab/scratch/sanisetty3/music_motion/ATCMG/render/{name}.gif\")"
   ]
  },
  {
   "cell_type": "code",
   "execution_count": null,
   "id": "b61f8324-7df7-471e-9832-56b3e3c4c9d4",
   "metadata": {},
   "outputs": [],
   "source": []
  },
  {
   "cell_type": "code",
   "execution_count": null,
   "id": "1774b40d-c90d-4ec3-a9fa-6c901473eb7e",
   "metadata": {
    "scrolled": true
   },
   "outputs": [],
   "source": []
  },
  {
   "cell_type": "code",
   "execution_count": null,
   "id": "027419bb-c6be-4b00-af51-c9fac0086386",
   "metadata": {},
   "outputs": [],
   "source": []
  },
  {
   "cell_type": "code",
   "execution_count": null,
   "id": "7b474f6b-0049-4b20-b32c-1171e3d839f4",
   "metadata": {},
   "outputs": [],
   "source": []
  },
  {
   "cell_type": "markdown",
   "id": "39d412fc-a32b-413d-8975-bd7300e1f256",
   "metadata": {},
   "source": [
    "## VQVAE"
   ]
  },
  {
   "cell_type": "code",
   "execution_count": 6,
   "id": "9958f001-f721-4301-9e7e-8e9c69ca877a",
   "metadata": {},
   "outputs": [],
   "source": [
    "from configs.config import cfg, get_cfg_defaults\n"
   ]
  },
  {
   "cell_type": "code",
   "execution_count": 7,
   "id": "faaf5265-0476-437e-a6ce-f7bbb5ce933b",
   "metadata": {},
   "outputs": [],
   "source": [
    "def load_vqvae(gen_cfg):\n",
    "\n",
    "    if gen_cfg.vqvae.body_config is not None:\n",
    "\n",
    "        body_cfg = get_cfg_defaults()\n",
    "        body_cfg.merge_from_file(gen_cfg.vqvae.body_config)\n",
    "        body_model = (\n",
    "            instantiate_from_config(body_cfg.vqvae).to(device).eval()\n",
    "        )\n",
    "        body_model.load(os.path.join(body_cfg.output_dir, \"vqvae_motion.pt\"))\n",
    "    else:\n",
    "        body_model = None\n",
    "    \n",
    "    if gen_cfg.vqvae.left_hand_config is not None:\n",
    "        left_cfg = get_cfg_defaults()\n",
    "        left_cfg.merge_from_file(gen_cfg.vqvae.left_hand_config)\n",
    "        left_hand_model = instantiate_from_config(left_cfg.vqvae).to(device).eval()\n",
    "        left_hand_model.load(\n",
    "            os.path.join(left_cfg.output_dir, \"vqvae_motion.pt\")\n",
    "        )\n",
    "    else:\n",
    "        left_hand_model = None\n",
    "        \n",
    "    if gen_cfg.vqvae.right_hand_config is not None:\n",
    "        right_cfg = get_cfg_defaults()\n",
    "        right_cfg.merge_from_file(gen_cfg.vqvae.right_hand_config)\n",
    "        right_hand_model = instantiate_from_config(right_cfg.vqvae).to(device).eval()\n",
    "        right_hand_model.load(\n",
    "            os.path.join(right_cfg.output_dir, \"vqvae_motion.pt\")\n",
    "        )\n",
    "    else:\n",
    "        right_hand_model = None\n",
    "\n",
    "    return body_model, left_hand_model , right_hand_model , body_cfg , left_cfg , right_cfg"
   ]
  },
  {
   "cell_type": "code",
   "execution_count": null,
   "id": "bd600fe2-9478-4490-acd5-1bd2ab46502e",
   "metadata": {},
   "outputs": [],
   "source": []
  },
  {
   "cell_type": "code",
   "execution_count": 26,
   "id": "c778182c-2170-4e86-8965-ff77c6da39cc",
   "metadata": {},
   "outputs": [],
   "source": [
    "def bkn_to_motion(codes, dset):\n",
    "        # codes b k n\n",
    "        \n",
    "        k = codes.shape[1]\n",
    "        if body_model is not None:\n",
    "            body_inds = codes[:, 0]\n",
    "            body_motion = body_model.decode(body_inds[0:1]).detach().cpu()\n",
    "            \n",
    "    \n",
    "            if \"g\" in dataset_args.hml_rep:\n",
    "                z = torch.zeros(\n",
    "                    body_motion.shape[:-1] + (2,),\n",
    "                    dtype=body_motion.dtype,\n",
    "                    device=body_motion.device,\n",
    "                )\n",
    "                body_motion = torch.cat(\n",
    "                    [body_motion[..., 0:1], z, body_motion[..., 1:]], -1\n",
    "                )\n",
    "    \n",
    "            body_M = dset.toMotion(\n",
    "                body_motion[0],\n",
    "                motion_rep=MotionRep(\"body\"),\n",
    "                hml_rep=body_cfg.dataset.hml_rep,\n",
    "            )\n",
    "\n",
    "        if k == 2:\n",
    "            left_inds = codes[:, 0]\n",
    "            right_inds = codes[:, 1]\n",
    "\n",
    "            left_motion = left_hand_model.decode(left_inds[0:1]).detach().cpu()\n",
    "            right_motion = right_hand_model.decode(right_inds[0:1]).detach().cpu()\n",
    "\n",
    "            left_M = dset.toMotion(\n",
    "                left_motion[0],\n",
    "                motion_rep=MotionRep(left_cfg.dataset.motion_rep),\n",
    "                hml_rep=left_cfg.dataset.hml_rep,\n",
    "            )\n",
    "            right_M = dset.toMotion(\n",
    "                right_motion[0],\n",
    "                motion_rep=MotionRep(right_cfg.dataset.motion_rep),\n",
    "                hml_rep=right_cfg.dataset.hml_rep,\n",
    "            )\n",
    "            hand_M = left_M + right_M\n",
    "            hand_M.motion_rep = MotionRep.HAND\n",
    "            hand_M.hml_rep = ''.join(set(left_M.hml_rep).intersection(right_M.hml_rep))\n",
    "            # full_M = dset.to_full_joint_representation(body_M, left_M, right_M)\n",
    "            return hand_M\n",
    "            \n",
    "            \n",
    "        if k == 3:\n",
    "            left_inds = codes[:, 1]\n",
    "            right_inds = codes[:, 2]\n",
    "            \n",
    "            left_motion = left_hand_model.decode(left_inds[0:1]).detach().cpu()\n",
    "            right_motion = right_hand_model.decode(right_inds[0:1]).detach().cpu()\n",
    "        \n",
    "            left_M = dset.toMotion(\n",
    "                left_motion[0],\n",
    "                motion_rep=MotionRep(\"left_hand\"),\n",
    "                hml_rep=left_cfg.dataset.hml_rep,\n",
    "            )\n",
    "            right_M = dset.toMotion(\n",
    "                right_motion[0],\n",
    "                motion_rep=MotionRep(\"right_hand\"),\n",
    "                hml_rep=right_cfg.dataset.hml_rep,\n",
    "            )\n",
    "            full_M = dset.to_full_joint_representation(body_M, left_M, right_M)\n",
    "            return full_M\n",
    "\n",
    "        return body_M"
   ]
  },
  {
   "cell_type": "code",
   "execution_count": 14,
   "id": "7757ecd0-a21e-48c5-ba33-40f84746577c",
   "metadata": {},
   "outputs": [],
   "source": []
  },
  {
   "cell_type": "code",
   "execution_count": null,
   "id": "a9d61f20-b96b-4757-b6ff-97e706f9075f",
   "metadata": {},
   "outputs": [],
   "source": []
  },
  {
   "cell_type": "markdown",
   "id": "12a89bfa-687b-44dd-b498-a43e0ef7b816",
   "metadata": {
    "jp-MarkdownHeadingCollapsed": true
   },
   "source": [
    "## Motion Gen"
   ]
  },
  {
   "cell_type": "code",
   "execution_count": null,
   "id": "a735ceed-be47-460e-96c0-da344db04f0f",
   "metadata": {},
   "outputs": [],
   "source": [
    "from core import MotionRep, AudioRep, TextRep\n",
    "from core.datasets.conditioner import ConditionProvider, ConditionFuser\n",
    "from core.datasets.multimodal_dataset import MotionIndicesAudioTextDataset, load_dataset_gen, simple_collate\n",
    "from core.models.generation.motion_generator import Transformer, MotionMuse\n",
    "from core.models.utils import instantiate_from_config, get_obj_from_str\n"
   ]
  },
  {
   "cell_type": "code",
   "execution_count": null,
   "id": "8dad8049-a4a0-4612-97ae-06e6e22ffb25",
   "metadata": {},
   "outputs": [],
   "source": [
    "from configs.config_t2m import cfg, get_cfg_defaults\n",
    "from configs.config import get_cfg_defaults as get_cfg_defaults3\n",
    "\n",
    "cfg = get_cfg_defaults()\n",
    "cfg.merge_from_file(\"/srv/hays-lab/scratch/sanisetty3/music_motion/ATCMG/checkpoints/motion_generation/motion_generation.yaml\")\n",
    "cfg.freeze()\n",
    "mmuse_args = cfg.motion_generator\n",
    "dataset_args = cfg.dataset\n"
   ]
  },
  {
   "cell_type": "code",
   "execution_count": null,
   "id": "2c174676-b3a5-424c-a6a7-212b1960263d",
   "metadata": {},
   "outputs": [],
   "source": [
    "target = mmuse_args.pop(\"target\")\n",
    "motion_muse = MotionMuse(mmuse_args).to(device).eval()"
   ]
  },
  {
   "cell_type": "code",
   "execution_count": null,
   "id": "8441fb76-675e-4500-ab2f-2d528507c33d",
   "metadata": {},
   "outputs": [],
   "source": [
    "from core.models.resnetVQ.vqvae import HumanVQVAE"
   ]
  },
  {
   "cell_type": "code",
   "execution_count": null,
   "id": "8e17fa70-7497-441b-bfc2-6f80c4315101",
   "metadata": {},
   "outputs": [],
   "source": [
    "\n",
    "vcfg = get_cfg_defaults3()\n",
    "vcfg.merge_from_file(\"/srv/hays-lab/scratch/sanisetty3/music_motion/ATCMG/checkpoints/vqvae/vqvae_body_gprvc/vqvae_body_gprvc.yaml\")\n",
    "vqvae_args = vcfg.vqvae\n",
    "vqvae_args.nb_joints = 22\n",
    "vqvae_args.motion_dim = 263"
   ]
  },
  {
   "cell_type": "code",
   "execution_count": null,
   "id": "b9a2fcee-d2d4-4428-b66e-da75989882f6",
   "metadata": {
    "scrolled": true
   },
   "outputs": [],
   "source": []
  },
  {
   "cell_type": "code",
   "execution_count": null,
   "id": "153aab1a-472c-4f32-9477-7cef6c60c13d",
   "metadata": {},
   "outputs": [],
   "source": [
    "np.split(np.cusum)"
   ]
  },
  {
   "cell_type": "code",
   "execution_count": null,
   "id": "e5fb8d3b-a01c-4d29-8c2b-635e1daf80fd",
   "metadata": {},
   "outputs": [],
   "source": [
    "vqvae_model = HumanVQVAE(vqvae_args).to(device).eval()\n",
    "vqvae_model.load(\"/srv/hays-lab/scratch/sanisetty3/music_motion/ACMG/checkpoints/smplx_resnet/vqvae_motion.pt\")"
   ]
  },
  {
   "cell_type": "code",
   "execution_count": null,
   "id": "510ab9d2-a089-48ef-b155-7b58f558ddae",
   "metadata": {},
   "outputs": [],
   "source": []
  },
  {
   "cell_type": "code",
   "execution_count": null,
   "id": "57a1f7b4-6181-4bbf-be86-53f21f954486",
   "metadata": {},
   "outputs": [],
   "source": [
    "condition_provider = ConditionProvider(\n",
    "            motion_rep=MotionRep(dataset_args.motion_rep),\n",
    "            audio_rep=AudioRep(dataset_args.audio_rep),\n",
    "            text_rep=TextRep(dataset_args.text_rep),\n",
    "            motion_padding=dataset_args.motion_padding,\n",
    "            audio_padding=dataset_args.audio_padding,\n",
    "            motion_max_length_s=10,\n",
    "            audio_max_length_s=10,\n",
    "            pad_id = motion_muse.transformer.pad_token_id,\n",
    "            fps=30/4\n",
    "        )"
   ]
  },
  {
   "cell_type": "code",
   "execution_count": null,
   "id": "b646cf7c-5536-43f8-98dc-335c8791ac23",
   "metadata": {},
   "outputs": [],
   "source": [
    "# bod_ind = np.load(\"/srv/hays-lab/scratch/sanisetty3/motionx/indices/body/aist/subset_0000/Dance_Break_3_Step_clip_1.npy\")\n",
    "# lh_ind = np.load(\"/srv/hays-lab/scratch/sanisetty3/motionx/indices/left_hand/aist/subset_0000/Dance_Break_3_Step_clip_1.npy\")\n",
    "# rh_ind = np.load(\"/srv/hays-lab/scratch/sanisetty3/motionx/indices/right_hand/aist/subset_0000/Dance_Break_3_Step_clip_1.npy\")"
   ]
  },
  {
   "cell_type": "code",
   "execution_count": null,
   "id": "97e52a53-c80a-44cc-b2d3-c89a18eb081b",
   "metadata": {},
   "outputs": [],
   "source": []
  },
  {
   "cell_type": "code",
   "execution_count": null,
   "id": "59e30407-e8e1-4e05-8fe1-28f95c5eec4b",
   "metadata": {},
   "outputs": [],
   "source": []
  },
  {
   "cell_type": "code",
   "execution_count": null,
   "id": "916a0df4-f265-41b5-9577-5162b7e262f6",
   "metadata": {},
   "outputs": [],
   "source": []
  },
  {
   "cell_type": "code",
   "execution_count": null,
   "id": "31e4d76d-6cc5-4fe2-bd4b-7b5984f591eb",
   "metadata": {},
   "outputs": [],
   "source": []
  },
  {
   "cell_type": "code",
   "execution_count": null,
   "id": "e44106b1-f9a2-45cb-9a2e-e20773e110f3",
   "metadata": {},
   "outputs": [],
   "source": [
    "from core.datasets.multimodal_dataset import MotionIndicesAudioTextDataset, load_dataset_gen, simple_collate\n",
    "\n",
    "dset = MotionIndicesAudioTextDataset(\"animation\" , \"/srv/hays-lab/scratch/sanisetty3/motionx\" ,motion_rep = \"full\", split = \"train\" , fps = 30/4  )"
   ]
  },
  {
   "cell_type": "code",
   "execution_count": null,
   "id": "3f05f6af-6eec-4961-a203-8e3ec4d07d94",
   "metadata": {},
   "outputs": [],
   "source": [
    "inpss  = next(iter(dset))"
   ]
  },
  {
   "cell_type": "code",
   "execution_count": null,
   "id": "67996729-7f6f-4f75-a95f-adda0b498f2c",
   "metadata": {},
   "outputs": [],
   "source": [
    "train_ds, sampler_train, weights_train  = load_dataset_gen(dataset_args=dataset_args, split = \"train\" , dataset_names = [\"animation\" , \"choreomaster\" ] )"
   ]
  },
  {
   "cell_type": "code",
   "execution_count": null,
   "id": "7c4dc88a-d090-4ebf-831e-b0054072e83b",
   "metadata": {},
   "outputs": [],
   "source": []
  },
  {
   "cell_type": "code",
   "execution_count": null,
   "id": "29b1d3c1-2084-4c57-bd85-b391f57e418c",
   "metadata": {},
   "outputs": [],
   "source": [
    "train_loader = torch.utils.data.DataLoader(\n",
    "        dset,\n",
    "        4,\n",
    "        # sampler=sampler_train,\n",
    "        # shuffle = False,\n",
    "        collate_fn=partial(simple_collate , conditioner = condition_provider),\n",
    "        drop_last=True,\n",
    "    )"
   ]
  },
  {
   "cell_type": "code",
   "execution_count": null,
   "id": "ce18ef6b-8c40-4b3e-b4b4-704d756b863d",
   "metadata": {
    "scrolled": true
   },
   "outputs": [],
   "source": [
    "for inputs, conditions in train_loader:\n",
    "    break\n",
    "    "
   ]
  },
  {
   "cell_type": "code",
   "execution_count": null,
   "id": "1c08cbf2-99c4-4355-8c0f-e1cb331e32b0",
   "metadata": {},
   "outputs": [],
   "source": [
    "inputs[\"motion\"][0].shape"
   ]
  },
  {
   "cell_type": "code",
   "execution_count": null,
   "id": "c7693e02-e1e4-4840-b20f-2ab6a0cddd0e",
   "metadata": {},
   "outputs": [],
   "source": [
    "inputs[\"motion\"][1].shape"
   ]
  },
  {
   "cell_type": "code",
   "execution_count": null,
   "id": "6a017d85-0ab0-4542-8338-93e66c6efd71",
   "metadata": {},
   "outputs": [],
   "source": [
    "conditions[\"audio\"][0].shape"
   ]
  },
  {
   "cell_type": "code",
   "execution_count": null,
   "id": "22949664-9e06-41e8-9368-c533a5a445a5",
   "metadata": {},
   "outputs": [],
   "source": [
    "conditions[\"text\"][0].shape"
   ]
  },
  {
   "cell_type": "code",
   "execution_count": null,
   "id": "eb4cb22e-4566-4f10-95a4-d3b6e62d3ee7",
   "metadata": {},
   "outputs": [],
   "source": [
    "motions = inputs[\"motion\"][0].squeeze().to(torch.long)\n",
    "motion_mask = inputs[\"motion\"][1]"
   ]
  },
  {
   "cell_type": "code",
   "execution_count": null,
   "id": "d6f90a96-5765-4831-a80a-6a4bb12e2179",
   "metadata": {},
   "outputs": [],
   "source": [
    "fuse_method = {\"cross\": [\"audio\"], \"prepend\": [\"text\"]}\n",
    "condition_fuser = ConditionFuser(fuse_method)"
   ]
  },
  {
   "cell_type": "code",
   "execution_count": null,
   "id": "41376d0a-fdff-4503-a5fb-38167a369969",
   "metadata": {},
   "outputs": [],
   "source": [
    "audio_embed = self.project_audio(conditions[\"audio\"][0])\n",
    "text_embed = self.project_text(conditions[\"text\"][0])\n",
    "\n",
    "inputs_, cross_inputs = self.condition_fuser(\n",
    "    input,\n",
    "    {\n",
    "        \"text\": (text_embed, conditions[\"text\"][1]),\n",
    "        \"audio\": (audio_embed, conditions[\"audio\"][1]),\n",
    "    },\n",
    ")"
   ]
  },
  {
   "cell_type": "code",
   "execution_count": null,
   "id": "4c3c731b-4240-4537-a4b7-0baff3c201e9",
   "metadata": {},
   "outputs": [],
   "source": []
  },
  {
   "cell_type": "code",
   "execution_count": null,
   "id": "e47ed176-a935-4fbd-93d6-b004c5768f1d",
   "metadata": {},
   "outputs": [],
   "source": []
  },
  {
   "cell_type": "code",
   "execution_count": null,
   "id": "2af848aa-93f8-487b-ad27-83c6ea2ec1ab",
   "metadata": {},
   "outputs": [],
   "source": []
  },
  {
   "cell_type": "code",
   "execution_count": null,
   "id": "e4261c42-9d36-49ee-b4de-b47996f33721",
   "metadata": {},
   "outputs": [],
   "source": []
  },
  {
   "cell_type": "code",
   "execution_count": null,
   "id": "8da28d2c-8543-4356-8644-37db1a506519",
   "metadata": {},
   "outputs": [],
   "source": []
  },
  {
   "cell_type": "code",
   "execution_count": null,
   "id": "b227c9af-4388-4331-b300-38aa8c292b39",
   "metadata": {},
   "outputs": [],
   "source": []
  },
  {
   "cell_type": "code",
   "execution_count": null,
   "id": "fe478ffa-20be-4503-a905-c3d7e3105b5d",
   "metadata": {},
   "outputs": [],
   "source": []
  },
  {
   "cell_type": "code",
   "execution_count": null,
   "id": "1a196780-a1fe-4c89-bf60-c7ab3b7570c3",
   "metadata": {},
   "outputs": [],
   "source": []
  },
  {
   "cell_type": "code",
   "execution_count": null,
   "id": "23380439-deef-4902-9bbe-2febb34cd6d5",
   "metadata": {},
   "outputs": [],
   "source": []
  },
  {
   "cell_type": "code",
   "execution_count": null,
   "id": "bb4f0adb-e11e-4660-b6b1-1c3f4c35777d",
   "metadata": {},
   "outputs": [],
   "source": []
  },
  {
   "cell_type": "markdown",
   "id": "883ccc94-7e5d-4bfe-b8e0-9d8338450255",
   "metadata": {
    "jp-MarkdownHeadingCollapsed": true
   },
   "source": [
    "## Muse gen"
   ]
  },
  {
   "cell_type": "code",
   "execution_count": 10,
   "id": "de613707-a14b-4aff-a7fb-6544d896f789",
   "metadata": {},
   "outputs": [
    {
     "name": "stderr",
     "output_type": "stream",
     "text": [
      "/srv/hays-lab/flash5/sanisetty3/miniconda3/envs/tgm3d/lib/python3.9/site-packages/tqdm/auto.py:21: TqdmWarning: IProgress not found. Please update jupyter and ipywidgets. See https://ipywidgets.readthedocs.io/en/stable/user_install.html\n",
      "  from .autonotebook import tqdm as notebook_tqdm\n"
     ]
    }
   ],
   "source": [
    "from core import MotionTokenizerParams, pattern_providers\n",
    "\n",
    "from core.param_dataclasses import pattern_providers\n",
    "from core.datasets.multimodal_dataset import MotionIndicesAudioTextDataset, load_dataset_gen, simple_collate\n",
    "from core.models.utils import instantiate_from_config, get_obj_from_str\n",
    "from core import MotionRep, AudioRep, TextRep\n",
    "from core.datasets.conditioner import ConditionProvider,ConditionFuser\n",
    "from core.models.generation.muse import MLMModel, MotionMuse\n",
    "import einops\n",
    "from configs.config_t2m import get_cfg_defaults as muse_get_cfg_defaults\n",
    "\n",
    "from core.datasets.text_encoders import BERTConditioner, ClipConditioner, T5Conditioner, parse_prompt_attention\n",
    "from core.datasets.audio_encoders import EncodecConditioner, LibrosaConditioner"
   ]
  },
  {
   "cell_type": "code",
   "execution_count": 7,
   "id": "d570e458-7804-480a-8a7e-847094d03cff",
   "metadata": {
    "scrolled": true
   },
   "outputs": [
    {
     "ename": "KeyError",
     "evalue": "'Non-existent config key: motion_generator.causal'",
     "output_type": "error",
     "traceback": [
      "\u001b[0;31m---------------------------------------------------------------------------\u001b[0m",
      "\u001b[0;31mKeyError\u001b[0m                                  Traceback (most recent call last)",
      "Cell \u001b[0;32mIn[7], line 2\u001b[0m\n\u001b[1;32m      1\u001b[0m gen_cfg \u001b[38;5;241m=\u001b[39m muse_get_cfg_defaults()\n\u001b[0;32m----> 2\u001b[0m \u001b[43mgen_cfg\u001b[49m\u001b[38;5;241;43m.\u001b[39;49m\u001b[43mmerge_from_file\u001b[49m\u001b[43m(\u001b[49m\u001b[38;5;124;43m\"\u001b[39;49m\u001b[38;5;124;43m/srv/hays-lab/scratch/sanisetty3/music_motion/ATCMG/checkpoints/motion_muse/motion_muse.yaml\u001b[39;49m\u001b[38;5;124;43m\"\u001b[39;49m\u001b[43m)\u001b[49m\n\u001b[1;32m      3\u001b[0m gen_cfg\u001b[38;5;241m.\u001b[39mfreeze()\n",
      "File \u001b[0;32m/srv/hays-lab/flash5/sanisetty3/miniconda3/envs/tgm3d/lib/python3.9/site-packages/yacs/config.py:213\u001b[0m, in \u001b[0;36mCfgNode.merge_from_file\u001b[0;34m(self, cfg_filename)\u001b[0m\n\u001b[1;32m    211\u001b[0m \u001b[38;5;28;01mwith\u001b[39;00m \u001b[38;5;28mopen\u001b[39m(cfg_filename, \u001b[38;5;124m\"\u001b[39m\u001b[38;5;124mr\u001b[39m\u001b[38;5;124m\"\u001b[39m) \u001b[38;5;28;01mas\u001b[39;00m f:\n\u001b[1;32m    212\u001b[0m     cfg \u001b[38;5;241m=\u001b[39m \u001b[38;5;28mself\u001b[39m\u001b[38;5;241m.\u001b[39mload_cfg(f)\n\u001b[0;32m--> 213\u001b[0m \u001b[38;5;28;43mself\u001b[39;49m\u001b[38;5;241;43m.\u001b[39;49m\u001b[43mmerge_from_other_cfg\u001b[49m\u001b[43m(\u001b[49m\u001b[43mcfg\u001b[49m\u001b[43m)\u001b[49m\n",
      "File \u001b[0;32m/srv/hays-lab/flash5/sanisetty3/miniconda3/envs/tgm3d/lib/python3.9/site-packages/yacs/config.py:217\u001b[0m, in \u001b[0;36mCfgNode.merge_from_other_cfg\u001b[0;34m(self, cfg_other)\u001b[0m\n\u001b[1;32m    215\u001b[0m \u001b[38;5;28;01mdef\u001b[39;00m \u001b[38;5;21mmerge_from_other_cfg\u001b[39m(\u001b[38;5;28mself\u001b[39m, cfg_other):\n\u001b[1;32m    216\u001b[0m \u001b[38;5;250m    \u001b[39m\u001b[38;5;124;03m\"\"\"Merge `cfg_other` into this CfgNode.\"\"\"\u001b[39;00m\n\u001b[0;32m--> 217\u001b[0m     \u001b[43m_merge_a_into_b\u001b[49m\u001b[43m(\u001b[49m\u001b[43mcfg_other\u001b[49m\u001b[43m,\u001b[49m\u001b[43m \u001b[49m\u001b[38;5;28;43mself\u001b[39;49m\u001b[43m,\u001b[49m\u001b[43m \u001b[49m\u001b[38;5;28;43mself\u001b[39;49m\u001b[43m,\u001b[49m\u001b[43m \u001b[49m\u001b[43m[\u001b[49m\u001b[43m]\u001b[49m\u001b[43m)\u001b[49m\n",
      "File \u001b[0;32m/srv/hays-lab/flash5/sanisetty3/miniconda3/envs/tgm3d/lib/python3.9/site-packages/yacs/config.py:478\u001b[0m, in \u001b[0;36m_merge_a_into_b\u001b[0;34m(a, b, root, key_list)\u001b[0m\n\u001b[1;32m    476\u001b[0m \u001b[38;5;28;01mif\u001b[39;00m \u001b[38;5;28misinstance\u001b[39m(v, CfgNode):\n\u001b[1;32m    477\u001b[0m     \u001b[38;5;28;01mtry\u001b[39;00m:\n\u001b[0;32m--> 478\u001b[0m         \u001b[43m_merge_a_into_b\u001b[49m\u001b[43m(\u001b[49m\u001b[43mv\u001b[49m\u001b[43m,\u001b[49m\u001b[43m \u001b[49m\u001b[43mb\u001b[49m\u001b[43m[\u001b[49m\u001b[43mk\u001b[49m\u001b[43m]\u001b[49m\u001b[43m,\u001b[49m\u001b[43m \u001b[49m\u001b[43mroot\u001b[49m\u001b[43m,\u001b[49m\u001b[43m \u001b[49m\u001b[43mkey_list\u001b[49m\u001b[43m \u001b[49m\u001b[38;5;241;43m+\u001b[39;49m\u001b[43m \u001b[49m\u001b[43m[\u001b[49m\u001b[43mk\u001b[49m\u001b[43m]\u001b[49m\u001b[43m)\u001b[49m\n\u001b[1;32m    479\u001b[0m     \u001b[38;5;28;01mexcept\u001b[39;00m \u001b[38;5;167;01mBaseException\u001b[39;00m:\n\u001b[1;32m    480\u001b[0m         \u001b[38;5;28;01mraise\u001b[39;00m\n",
      "File \u001b[0;32m/srv/hays-lab/flash5/sanisetty3/miniconda3/envs/tgm3d/lib/python3.9/site-packages/yacs/config.py:491\u001b[0m, in \u001b[0;36m_merge_a_into_b\u001b[0;34m(a, b, root, key_list)\u001b[0m\n\u001b[1;32m    489\u001b[0m     root\u001b[38;5;241m.\u001b[39mraise_key_rename_error(full_key)\n\u001b[1;32m    490\u001b[0m \u001b[38;5;28;01melse\u001b[39;00m:\n\u001b[0;32m--> 491\u001b[0m     \u001b[38;5;28;01mraise\u001b[39;00m \u001b[38;5;167;01mKeyError\u001b[39;00m(\u001b[38;5;124m\"\u001b[39m\u001b[38;5;124mNon-existent config key: \u001b[39m\u001b[38;5;132;01m{}\u001b[39;00m\u001b[38;5;124m\"\u001b[39m\u001b[38;5;241m.\u001b[39mformat(full_key))\n",
      "\u001b[0;31mKeyError\u001b[0m: 'Non-existent config key: motion_generator.causal'"
     ]
    }
   ],
   "source": [
    "gen_cfg = muse_get_cfg_defaults()\n",
    "gen_cfg.merge_from_file(\"/srv/hays-lab/scratch/sanisetty3/music_motion/ATCMG/checkpoints/motion_muse/motion_muse.yaml\")\n",
    "gen_cfg.freeze()"
   ]
  },
  {
   "cell_type": "code",
   "execution_count": null,
   "id": "0ecf960f-8a44-44eb-8624-0275a4c36980",
   "metadata": {},
   "outputs": [],
   "source": [
    "tranformer_config = gen_cfg.motion_generator\n",
    "fuse_config = gen_cfg.fuser\n",
    "pattern_config = gen_cfg.codebooks_pattern\n",
    "dataset_args = gen_cfg.dataset\n",
    "\n",
    "target = tranformer_config.pop(\"targe\n",
    "motion_gen = MotionMuse(tranformer_config , fuse_config , pattern_config).to(device)\n",
    "# motion_gen = torch.compile(motion_gen)\n",
    "# pkg = torch.load(\"/srv/hays-lab/scratch/sanisetty3/music_motion/ATCMG/checkpoints/motion_muse_constant/checkpoints/motion_muse.70000.pt\", map_location=\"cuda\")\n",
    "# motion_gen.load_state_dict(pkg[\"model\"])"
   ]
  },
  {
   "cell_type": "code",
   "execution_count": null,
   "id": "5beb4024-3adc-41de-ac16-f0d9c1643fd0",
   "metadata": {},
   "outputs": [],
   "source": []
  },
  {
   "cell_type": "code",
   "execution_count": null,
   "id": "fea929c6-f273-437c-8cd9-e19448ca417d",
   "metadata": {},
   "outputs": [],
   "source": []
  },
  {
   "cell_type": "code",
   "execution_count": null,
   "id": "226c094f-4893-489e-9557-b081788d3dee",
   "metadata": {},
   "outputs": [],
   "source": []
  },
  {
   "cell_type": "code",
   "execution_count": null,
   "id": "85349652-3f19-42b7-9907-d1cd223accdf",
   "metadata": {},
   "outputs": [],
   "source": []
  },
  {
   "cell_type": "code",
   "execution_count": 8,
   "id": "8cec5516-e2e6-45a3-84a4-6cec03e0dc27",
   "metadata": {},
   "outputs": [],
   "source": [
    "# ds, _, _  = load_dataset_gen(dataset_names = [\"animation\"] , dataset_args=dataset_args, split = \"render\")\n"
   ]
  },
  {
   "cell_type": "code",
   "execution_count": 9,
   "id": "efa4c1e5-0f8c-4ab4-b93e-502756ca765e",
   "metadata": {},
   "outputs": [
    {
     "ename": "NameError",
     "evalue": "name 'tranformer_config' is not defined",
     "output_type": "error",
     "traceback": [
      "\u001b[0;31m---------------------------------------------------------------------------\u001b[0m",
      "\u001b[0;31mNameError\u001b[0m                                 Traceback (most recent call last)",
      "Cell \u001b[0;32mIn[9], line 1\u001b[0m\n\u001b[0;32m----> 1\u001b[0m motion_gen \u001b[38;5;241m=\u001b[39m MotionMuse(\u001b[43mtranformer_config\u001b[49m , fuse_config , pattern_config)\u001b[38;5;241m.\u001b[39mto(device)\n\u001b[1;32m      2\u001b[0m \u001b[38;5;66;03m# pkg = torch.load(\"/srv/hays-lab/scratch/sanisetty3/music_motion/ATCMG/checkpoints/motion_muse/motion_muse.pt\", map_location=\"cuda\")\u001b[39;00m\n\u001b[1;32m      3\u001b[0m \u001b[38;5;66;03m# motion_gen.load_state_dict(pkg[\"model\"])\u001b[39;00m\n",
      "\u001b[0;31mNameError\u001b[0m: name 'tranformer_config' is not defined"
     ]
    }
   ],
   "source": [
    "motion_gen = MotionMuse(tranformer_config , fuse_config , pattern_config).to(device)\n",
    "# pkg = torch.load(\"/srv/hays-lab/scratch/sanisetty3/music_motion/ATCMG/checkpoints/motion_muse/motion_muse.pt\", map_location=\"cuda\")\n",
    "# motion_gen.load_state_dict(pkg[\"model\"])"
   ]
  },
  {
   "cell_type": "code",
   "execution_count": null,
   "id": "55fb1df5-07a4-41bb-9ccd-84fb15a4738e",
   "metadata": {},
   "outputs": [],
   "source": [
    "_, conditions = condition_provider(raw_audio= None, raw_text=\"a person doing kung fu kick and then jumping\")\n",
    "_, neg_conditions = condition_provider(raw_text=\"\")\n",
    "gen_ids = motion_gen.generate(conditions =conditions, neg_conditions = None, duration_s = 30, temperature = 0.2 ,timesteps=18, cond_scale = 8)\n"
   ]
  },
  {
   "cell_type": "code",
   "execution_count": null,
   "id": "0d65ec6d-48d5-4d86-97dd-ca6e02475436",
   "metadata": {},
   "outputs": [],
   "source": []
  },
  {
   "cell_type": "code",
   "execution_count": null,
   "id": "e99c9878-2a8f-4f62-a0cb-498e163864e6",
   "metadata": {},
   "outputs": [],
   "source": []
  },
  {
   "cell_type": "markdown",
   "id": "832689e8-645f-4e2a-8fda-b696a57edee2",
   "metadata": {},
   "source": [
    "## MotionMuse"
   ]
  },
  {
   "cell_type": "code",
   "execution_count": 9,
   "id": "55c3c301-4a10-40d5-948e-a9c1722e491e",
   "metadata": {},
   "outputs": [
    {
     "name": "stderr",
     "output_type": "stream",
     "text": [
      "/srv/hays-lab/flash5/sanisetty3/miniconda3/envs/tgm3d/lib/python3.9/site-packages/tqdm/auto.py:21: TqdmWarning: IProgress not found. Please update jupyter and ipywidgets. See https://ipywidgets.readthedocs.io/en/stable/user_install.html\n",
      "  from .autonotebook import tqdm as notebook_tqdm\n"
     ]
    }
   ],
   "source": [
    "from core import MotionTokenizerParams, pattern_providers\n",
    "\n",
    "from core.param_dataclasses import pattern_providers\n",
    "from core.datasets.multimodal_dataset import MotionIndicesAudioTextDataset, load_dataset_gen, simple_collate\n",
    "from core.models.utils import instantiate_from_config, get_obj_from_str\n",
    "from core import MotionRep, AudioRep, TextRep\n",
    "from core.datasets.conditioner import ConditionProvider,ConditionFuser\n",
    "from core.models.generation.muse import MLMModel, MotionMuse\n",
    "import einops\n",
    "from configs.config_t2m import get_cfg_defaults as muse_get_cfg_defaults\n",
    "from core import MotionTokenizerParams\n",
    "\n",
    "from core.datasets.text_encoders import BERTConditioner, ClipConditioner, T5Conditioner, parse_prompt_attention\n",
    "from core.datasets.audio_encoders import EncodecConditioner, LibrosaConditioner"
   ]
  },
  {
   "cell_type": "code",
   "execution_count": 10,
   "id": "752e79a3-28e4-49e6-aa9c-51e2b2f944da",
   "metadata": {},
   "outputs": [],
   "source": [
    "def getBodyMuse(nme = \"motion_muse_film\"):\n",
    "    gen_cfg = muse_get_cfg_defaults()\n",
    "    gen_cfg.merge_from_file(f\"/srv/hays-lab/scratch/sanisetty3/music_motion/ATCMG/checkpoints/{nme}/{nme}.yaml\")\n",
    "    gen_cfg.freeze()\n",
    "    \n",
    "    tranformer_config = gen_cfg.motion_generator\n",
    "    fuse_config = gen_cfg.fuser\n",
    "    pattern_config = gen_cfg.codebooks_pattern\n",
    "    \n",
    "    target = tranformer_config.pop(\"target\")\n",
    "    motion_gen = MotionMuse(tranformer_config , fuse_config , pattern_config).to(device).eval()\n",
    "    pkg = torch.load(f\"/srv/hays-lab/scratch/sanisetty3/music_motion/ATCMG/checkpoints/{nme}/motion_muse.pt\", map_location=\"cuda\")\n",
    "    motion_gen.load_state_dict(pkg[\"model\"])\n",
    "    return motion_gen\n"
   ]
  },
  {
   "cell_type": "code",
   "execution_count": 11,
   "id": "0d1e93a9-3d59-43a2-8451-5771be61a27f",
   "metadata": {},
   "outputs": [
    {
     "name": "stdout",
     "output_type": "stream",
     "text": [
      "Non-A100 GPU detected, using math or mem efficient attention if input tensor is on cuda\n"
     ]
    }
   ],
   "source": [
    "gen_cfg = muse_get_cfg_defaults()\n",
    "gen_cfg.merge_from_file(\"/srv/hays-lab/scratch/sanisetty3/music_motion/ATCMG/checkpoints/motion_muse_hands/motion_muse_hands.yaml\")\n",
    "gen_cfg.freeze()\n",
    "\n",
    "tranformer_config = gen_cfg.motion_generator\n",
    "fuse_config = gen_cfg.fuser\n",
    "pattern_config = gen_cfg.codebooks_pattern\n",
    "dataset_args = gen_cfg.dataset\n",
    "\n",
    "target = tranformer_config.pop(\"target\")\n",
    "motion_gen = MotionMuse(tranformer_config , fuse_config , pattern_config).to(device)\n"
   ]
  },
  {
   "cell_type": "code",
   "execution_count": null,
   "id": "f5bcc224-0fd5-47c0-9f2c-6c0a71d6c241",
   "metadata": {},
   "outputs": [],
   "source": []
  },
  {
   "cell_type": "code",
   "execution_count": 30,
   "id": "fec2ab3b-6017-4e7d-8577-df3316638c74",
   "metadata": {},
   "outputs": [],
   "source": [
    "# motion_gen = MotionMuse(tranformer_config , fuse_config , pattern_config).to(device)\n",
    "# motion_gen = torch.compile(motion_gen)\n",
    "# pkg = torch.load(\"/srv/hays-lab/scratch/sanisetty3/music_motion/ATCMG/checkpoints/motion_muse_film/motion_muse.pt\", map_location=\"cuda\")\n",
    "# motion_gen.load_state_dict(pkg[\"model\"])"
   ]
  },
  {
   "cell_type": "code",
   "execution_count": 31,
   "id": "425fb2ea-c2e6-4323-82f9-c81369573ed8",
   "metadata": {},
   "outputs": [],
   "source": [
    "body_muse = getBodyMuse(\"motion_muse_film\")"
   ]
  },
  {
   "cell_type": "code",
   "execution_count": null,
   "id": "46f9264a-00bb-4264-910d-d1d39cb61adf",
   "metadata": {},
   "outputs": [],
   "source": []
  },
  {
   "cell_type": "code",
   "execution_count": 12,
   "id": "8d4da6a0-0281-4375-8f6c-80a52742d391",
   "metadata": {},
   "outputs": [],
   "source": [
    "body_model, left_hand_model , right_hand_model , body_cfg , left_cfg , right_cfg = load_vqvae(gen_cfg)"
   ]
  },
  {
   "cell_type": "code",
   "execution_count": null,
   "id": "7467431e-81a5-4182-a054-a390e6aa7403",
   "metadata": {},
   "outputs": [],
   "source": []
  },
  {
   "cell_type": "code",
   "execution_count": 13,
   "id": "082250ce-8c3b-40a7-acd1-c5db268fb5b3",
   "metadata": {},
   "outputs": [
    {
     "name": "stderr",
     "output_type": "stream",
     "text": [
      "/srv/hays-lab/flash5/sanisetty3/miniconda3/envs/tgm3d/lib/python3.9/site-packages/torch/nn/utils/weight_norm.py:28: UserWarning: torch.nn.utils.weight_norm is deprecated in favor of torch.nn.utils.parametrizations.weight_norm.\n",
      "  warnings.warn(\"torch.nn.utils.weight_norm is deprecated in favor of torch.nn.utils.parametrizations.weight_norm.\")\n",
      "Could not find image processor class in the image processor config or the model config. Loading based on pattern matching with the model's feature extractor configuration. Please open a PR/issue to update `preprocessor_config.json` to use `image_processor_type` instead of `feature_extractor_type`. This warning will be removed in v4.40.\n"
     ]
    }
   ],
   "source": [
    "condition_provider = ConditionProvider(\n",
    "            text_conditioner_name = dataset_args.text_conditioner_name,\n",
    "            motion_rep=MotionRep(dataset_args.motion_rep),\n",
    "            audio_rep=AudioRep(dataset_args.audio_rep),\n",
    "            text_rep=TextRep(dataset_args.text_rep),\n",
    "            motion_padding=dataset_args.motion_padding,\n",
    "            audio_padding=dataset_args.audio_padding,\n",
    "            motion_max_length_s=dataset_args.motion_max_length_s,\n",
    "            audio_max_length_s=dataset_args.audio_max_length_s,\n",
    "            pad_id = MotionTokenizerParams(tranformer_config.num_tokens).pad_token_id,\n",
    "            fps=30/4,\n",
    "            # only_motion = True\n",
    "            # device = \"cpu\"\n",
    "        )"
   ]
  },
  {
   "cell_type": "code",
   "execution_count": 14,
   "id": "1ad5de26-b0f3-4d1a-959a-2dd14ba1e9f3",
   "metadata": {},
   "outputs": [],
   "source": [
    "# dset = MotionIndicesAudioTextDataset(\"animation\" , \"/srv/hays-lab/scratch/sanisetty3/motionx\" ,hml_rep = \"gpvc\" , window_size_s=4, motion_rep = \"body\", split = \"train\" , fps = 30/4  )\n"
   ]
  },
  {
   "cell_type": "code",
   "execution_count": 15,
   "id": "4cb951ee-34f5-4eb5-8397-4ba3c52678c5",
   "metadata": {},
   "outputs": [],
   "source": [
    "# dset[0][\"motion\"].shape"
   ]
  },
  {
   "cell_type": "code",
   "execution_count": null,
   "id": "dc396b33-2403-413e-b51b-171af29a7e47",
   "metadata": {},
   "outputs": [],
   "source": []
  },
  {
   "cell_type": "code",
   "execution_count": 16,
   "id": "76b02cf3-ddd9-43ba-bcaf-b2ec0ee7a6f6",
   "metadata": {},
   "outputs": [
    {
     "name": "stdout",
     "output_type": "stream",
     "text": [
      "Total number of motions animation: 120 and texts 120\n",
      "Total number of motions choreomaster: 34 and texts 34\n"
     ]
    }
   ],
   "source": [
    "train_ds, sampler_train, weights_train  = load_dataset_gen(dataset_names = [\"animation\" , \"choreomaster\"] , dataset_args=dataset_args, split = \"train\")\n"
   ]
  },
  {
   "cell_type": "code",
   "execution_count": null,
   "id": "68f6e2e6-119d-4e81-92a8-cffd8580977f",
   "metadata": {},
   "outputs": [],
   "source": []
  },
  {
   "cell_type": "code",
   "execution_count": 17,
   "id": "83026f28-7b18-413d-b0fa-da7b0b9dc4c9",
   "metadata": {},
   "outputs": [],
   "source": [
    "train_loader = torch.utils.data.DataLoader(\n",
    "        train_ds,\n",
    "        4,\n",
    "        sampler=sampler_train,\n",
    "        # shuffle = False,\n",
    "        collate_fn=partial(simple_collate , conditioner = condition_provider , permute = True),\n",
    "        # drop_last=True,\n",
    "    )"
   ]
  },
  {
   "cell_type": "code",
   "execution_count": 18,
   "id": "e8b12b3d-eed4-4bc1-b5fb-2893a504af83",
   "metadata": {},
   "outputs": [],
   "source": [
    "for inputs, conditions in (train_loader):\n",
    "    break\n",
    "    "
   ]
  },
  {
   "cell_type": "code",
   "execution_count": 19,
   "id": "8a41c28d-97f4-40bf-99f1-96a2a564981d",
   "metadata": {},
   "outputs": [
    {
     "data": {
      "text/plain": [
       "array(['choreomaster/1303', 'animation/subset_0000/Ways_To_Catch_A_Fly',\n",
       "       'animation/subset_0002/Ways_To_Pick_Up_A_Dollar_Pop_And_Lock',\n",
       "       'animation/subset_0002/Ways_To_Open_A_Christmas_Gift_Carefully'],\n",
       "      dtype='<U61')"
      ]
     },
     "execution_count": 19,
     "metadata": {},
     "output_type": "execute_result"
    }
   ],
   "source": [
    "inputs[\"names\"]"
   ]
  },
  {
   "cell_type": "code",
   "execution_count": null,
   "id": "7e4a1c12-c7fa-4e2f-8715-8ac159ed1fb0",
   "metadata": {},
   "outputs": [],
   "source": []
  },
  {
   "cell_type": "code",
   "execution_count": null,
   "id": "ef2f7105-081f-42ca-b3b6-93e0e91868ee",
   "metadata": {},
   "outputs": [],
   "source": []
  },
  {
   "cell_type": "code",
   "execution_count": 20,
   "id": "39f49b0f-0414-4b7e-9060-e37fbab45483",
   "metadata": {},
   "outputs": [
    {
     "data": {
      "text/plain": [
       "torch.Size([4, 120, 128])"
      ]
     },
     "execution_count": 20,
     "metadata": {},
     "output_type": "execute_result"
    }
   ],
   "source": [
    "conditions[\"audio\"][0].shape"
   ]
  },
  {
   "cell_type": "code",
   "execution_count": 21,
   "id": "7e3257fb-6c6b-4f01-b666-27a4d2b41940",
   "metadata": {},
   "outputs": [
    {
     "data": {
      "text/plain": [
       "torch.Size([4, 41, 1024])"
      ]
     },
     "execution_count": 21,
     "metadata": {},
     "output_type": "execute_result"
    }
   ],
   "source": [
    "conditions[\"text\"][0].shape"
   ]
  },
  {
   "cell_type": "code",
   "execution_count": 22,
   "id": "0bc00ecc-2f06-4a41-98cd-e2592370478f",
   "metadata": {},
   "outputs": [
    {
     "data": {
      "text/plain": [
       "torch.Size([4, 2, 30])"
      ]
     },
     "execution_count": 22,
     "metadata": {},
     "output_type": "execute_result"
    }
   ],
   "source": [
    "inputs[\"motion\"][0].shape"
   ]
  },
  {
   "cell_type": "code",
   "execution_count": 23,
   "id": "83892144-716d-4c5c-80de-bff2c633d4b6",
   "metadata": {},
   "outputs": [],
   "source": [
    "mask = inputs[\"motion\"][1]"
   ]
  },
  {
   "cell_type": "code",
   "execution_count": null,
   "id": "7972caee-c724-4b54-814e-c6306319e7b7",
   "metadata": {},
   "outputs": [],
   "source": []
  },
  {
   "cell_type": "code",
   "execution_count": 43,
   "id": "c155de0b-fc94-45c8-ad4d-13e09eeae4c2",
   "metadata": {
    "scrolled": true
   },
   "outputs": [],
   "source": [
    "out2 = body_muse((inputs[\"motion\"][0][:,:1,:] , mask) , conditions , train_critic = False)"
   ]
  },
  {
   "cell_type": "code",
   "execution_count": 44,
   "id": "b171eec5-d5a5-4aa8-a0e5-8ae146c4f536",
   "metadata": {},
   "outputs": [],
   "source": [
    "conditions[\"body\"] = (out2.embed , mask)"
   ]
  },
  {
   "cell_type": "code",
   "execution_count": 45,
   "id": "74a61103-b10c-468a-a98f-96378f2ec78a",
   "metadata": {},
   "outputs": [
    {
     "data": {
      "text/plain": [
       "{'body': 'cross'}"
      ]
     },
     "execution_count": 45,
     "metadata": {},
     "output_type": "execute_result"
    }
   ],
   "source": [
    "motion_gen.model.condition_fuser.cond2fuse"
   ]
  },
  {
   "cell_type": "code",
   "execution_count": 46,
   "id": "70785070-45be-4122-b356-c7f7d04aeb22",
   "metadata": {
    "scrolled": true
   },
   "outputs": [],
   "source": [
    "_ = conditions.pop(\"audio\")\n",
    "_ = conditions.pop(\"text\")"
   ]
  },
  {
   "cell_type": "code",
   "execution_count": 47,
   "id": "af7b8b3e-3086-4e4f-b71e-828d62e66b3c",
   "metadata": {},
   "outputs": [
    {
     "data": {
      "text/plain": [
       "torch.Size([4, 30, 512])"
      ]
     },
     "execution_count": 47,
     "metadata": {},
     "output_type": "execute_result"
    }
   ],
   "source": [
    "conditions[\"body\"][0].shape"
   ]
  },
  {
   "cell_type": "code",
   "execution_count": 24,
   "id": "6dee4d6b-d7f7-4b06-b968-006841a920ff",
   "metadata": {
    "scrolled": true
   },
   "outputs": [],
   "source": [
    "out = motion_gen((inputs[\"motion\"][0] , mask) , conditions)"
   ]
  },
  {
   "cell_type": "code",
   "execution_count": 25,
   "id": "c15f1ac8-5c76-40e5-a5ef-3ae444d5da60",
   "metadata": {},
   "outputs": [
    {
     "data": {
      "text/plain": [
       "torch.Size([4, 2, 30, 512])"
      ]
     },
     "execution_count": 25,
     "metadata": {},
     "output_type": "execute_result"
    }
   ],
   "source": [
    "out.logits.shape"
   ]
  },
  {
   "cell_type": "code",
   "execution_count": 49,
   "id": "f418537b-d050-408e-892b-d69a0937398d",
   "metadata": {},
   "outputs": [
    {
     "name": "stdout",
     "output_type": "stream",
     "text": [
      "['body']\n"
     ]
    },
    {
     "name": "stderr",
     "output_type": "stream",
     "text": [
      "100%|███████████████████████████████████████████████████████████████████| 18/18 [00:00<00:00, 86.36it/s]\n"
     ]
    }
   ],
   "source": [
    "with torch.no_grad():\n",
    "    motion_gen = motion_gen.eval()\n",
    "    gen_ids = motion_gen.generate(conditions =conditions, neg_conditions = None, duration_s = 4, temperature = 0.2 ,timesteps=18, cond_scale = 8)"
   ]
  },
  {
   "cell_type": "code",
   "execution_count": 101,
   "id": "69bc9826-151c-42e5-abd4-10950a4e0990",
   "metadata": {},
   "outputs": [
    {
     "data": {
      "text/plain": [
       "torch.Size([4, 3, 30])"
      ]
     },
     "execution_count": 101,
     "metadata": {},
     "output_type": "execute_result"
    }
   ],
   "source": [
    "gen_ids.shape"
   ]
  },
  {
   "cell_type": "code",
   "execution_count": null,
   "id": "e1cca462-1e7b-4fca-aa3b-031b5344c693",
   "metadata": {},
   "outputs": [],
   "source": []
  },
  {
   "cell_type": "code",
   "execution_count": 57,
   "id": "9a6b079c-2df5-4073-8638-4d2f19653cbd",
   "metadata": {},
   "outputs": [],
   "source": [
    "motions_ids = inputs[\"motion\"][0].cuda()\n",
    "B, K, T = motions_ids.shape"
   ]
  },
  {
   "cell_type": "code",
   "execution_count": 73,
   "id": "78530657-15df-4c92-bf56-6d0912122dd7",
   "metadata": {},
   "outputs": [],
   "source": [
    "hand_ids = motions_ids[: , 1: , :]"
   ]
  },
  {
   "cell_type": "code",
   "execution_count": 74,
   "id": "83a6c625-8c54-4c48-ba53-8ea5f63aa670",
   "metadata": {},
   "outputs": [],
   "source": [
    "gt_motion = bkn_to_motion(hand_ids[0:1], train_ds.datasets[0])"
   ]
  },
  {
   "cell_type": "code",
   "execution_count": 75,
   "id": "a9551831-8b0b-4dd4-b31f-bbc236011531",
   "metadata": {},
   "outputs": [
    {
     "name": "stdout",
     "output_type": "stream",
     "text": [
      "motion representation: hand, type: rpv, num joints: 30, dim: 360\n"
     ]
    }
   ],
   "source": [
    "print(gt_motion)"
   ]
  },
  {
   "cell_type": "code",
   "execution_count": 76,
   "id": "7fc9a40b-1070-4d3b-9209-b21b94036169",
   "metadata": {},
   "outputs": [],
   "source": [
    "gen_motion = bkn_to_motion(gen_ids[0:1], train_ds.datasets[0])"
   ]
  },
  {
   "cell_type": "code",
   "execution_count": 77,
   "id": "7e2ba501-8d84-46ae-a314-0c10517420ba",
   "metadata": {},
   "outputs": [
    {
     "data": {
      "text/plain": [
       "360"
      ]
     },
     "execution_count": 77,
     "metadata": {},
     "output_type": "execute_result"
    }
   ],
   "source": [
    "gen_motion.dim"
   ]
  },
  {
   "cell_type": "code",
   "execution_count": 79,
   "id": "675307ab-526e-4e8a-86c1-7dbff52e34e0",
   "metadata": {},
   "outputs": [],
   "source": [
    "train_ds.datasets[0].render_hml(\n",
    "                    gen_motion,\n",
    "                    \"/srv/hays-lab/scratch/sanisetty3/music_motion/ATCMG/render/gen_hand.gif\",\n",
    "    zero_orient = True,\n",
    "    zero_trans=  True,\n",
    "                )"
   ]
  },
  {
   "cell_type": "code",
   "execution_count": null,
   "id": "962edc5f-435c-4948-9bc9-82c574a44e56",
   "metadata": {},
   "outputs": [],
   "source": []
  },
  {
   "cell_type": "code",
   "execution_count": 31,
   "id": "2145a9e5-489c-4df4-9830-b94856cc3c17",
   "metadata": {},
   "outputs": [],
   "source": []
  },
  {
   "cell_type": "code",
   "execution_count": 45,
   "id": "5fd8706a-90a1-47ce-98ae-25c235bd071b",
   "metadata": {},
   "outputs": [],
   "source": [
    "b = 4\n",
    "d = 2\n",
    "m = torch.randn((b , 100, 4)).to(device)"
   ]
  },
  {
   "cell_type": "code",
   "execution_count": 46,
   "id": "85ba2a28-cd5f-4157-9848-6d2fb14a24a5",
   "metadata": {},
   "outputs": [],
   "source": [
    "num_masked_d = torch.Tensor(np.random.choice([0, 1, 2], size= b , p = [0.5 , 0.3 , 0.2])).to(device)\n"
   ]
  },
  {
   "cell_type": "code",
   "execution_count": 47,
   "id": "fdbb10ea-d639-4ce1-bb42-2751f39c236a",
   "metadata": {},
   "outputs": [
    {
     "data": {
      "text/plain": [
       "tensor([1., 2., 2., 1.], device='cuda:0')"
      ]
     },
     "execution_count": 47,
     "metadata": {},
     "output_type": "execute_result"
    }
   ],
   "source": [
    "num_masked_d"
   ]
  },
  {
   "cell_type": "code",
   "execution_count": 48,
   "id": "ddd290fb-fdff-40a3-9a53-d936aa9abd48",
   "metadata": {},
   "outputs": [],
   "source": [
    "batch_randperm2 = torch.rand((b, d), device=device).argsort(dim=-1)"
   ]
  },
  {
   "cell_type": "code",
   "execution_count": 49,
   "id": "facb3e74-6e11-4dd8-bdb2-ab77cf4d493f",
   "metadata": {},
   "outputs": [],
   "source": [
    "mask2 = ~(batch_randperm2 < rearrange(num_masked_d, \"b -> b 1\"))"
   ]
  },
  {
   "cell_type": "code",
   "execution_count": 50,
   "id": "30060f7b-0089-4c28-9da0-0714ed150404",
   "metadata": {},
   "outputs": [],
   "source": [
    "m[...,2:] = m[...,2:] * mask2[:, None, :]"
   ]
  },
  {
   "cell_type": "code",
   "execution_count": 57,
   "id": "156273fa-a781-42e0-9eb6-351cd395255d",
   "metadata": {},
   "outputs": [
    {
     "data": {
      "text/plain": [
       "tensor([[ 0.5423,  0.0217,  0.0000, -2.3568],\n",
       "        [-1.4833, -0.7582, -0.0000, -0.7991],\n",
       "        [ 1.5539, -0.4067,  0.0000,  1.0742],\n",
       "        [-0.3373,  0.0125,  0.0000,  1.5257],\n",
       "        [ 1.2751, -0.5040, -0.0000,  0.6759],\n",
       "        [ 1.4524,  0.2557, -0.0000, -0.6097],\n",
       "        [-0.3757,  0.5723, -0.0000, -0.2843],\n",
       "        [-0.8842, -0.0878,  0.0000, -0.9985],\n",
       "        [ 0.1491, -0.6671, -0.0000, -1.7118],\n",
       "        [-1.5073,  0.0763,  0.0000,  0.4417],\n",
       "        [-0.4763, -1.4867,  0.0000, -0.8881],\n",
       "        [-1.2453, -0.6286,  0.0000, -0.3653],\n",
       "        [-1.0039, -0.4574,  0.0000, -0.1296],\n",
       "        [-0.9691, -1.8120, -0.0000, -0.9129],\n",
       "        [ 1.6117, -0.2085,  0.0000, -0.5991],\n",
       "        [ 0.7289,  0.1887, -0.0000,  1.5866],\n",
       "        [ 1.0475,  1.3273,  0.0000,  2.0945],\n",
       "        [ 0.5280, -0.3461, -0.0000, -1.0705],\n",
       "        [-1.1033,  0.4504,  0.0000, -0.3862],\n",
       "        [ 0.7701, -0.9985,  0.0000, -0.1028],\n",
       "        [ 0.7797, -0.1886, -0.0000, -0.8403],\n",
       "        [ 0.3608, -1.3319,  0.0000,  0.0775],\n",
       "        [-0.9568, -0.4341, -0.0000, -0.3085],\n",
       "        [ 0.5821,  1.3424, -0.0000, -0.6560],\n",
       "        [-2.4405, -1.7260,  0.0000,  0.4900],\n",
       "        [ 2.0216, -0.2342, -0.0000, -2.4896],\n",
       "        [-0.3086,  0.7135, -0.0000,  0.0362],\n",
       "        [ 0.9238, -1.5973, -0.0000,  1.2933],\n",
       "        [-0.8412, -1.1846, -0.0000, -0.0900],\n",
       "        [-0.2165, -0.9503,  0.0000,  0.8563],\n",
       "        [ 1.6818,  1.9051,  0.0000, -0.8051],\n",
       "        [-0.3534, -1.1819, -0.0000, -0.9725],\n",
       "        [ 0.9952, -1.2729, -0.0000, -2.0765],\n",
       "        [ 0.2052, -0.5542,  0.0000,  1.0265],\n",
       "        [ 0.0970, -1.7297, -0.0000,  0.0433],\n",
       "        [-0.5725, -0.0082, -0.0000, -0.8604],\n",
       "        [-0.7448, -1.0819, -0.0000, -0.5570],\n",
       "        [-0.4652,  0.7506,  0.0000,  0.2964],\n",
       "        [ 0.1487,  0.6192, -0.0000,  0.5265],\n",
       "        [-1.4730, -0.0517, -0.0000, -0.0784],\n",
       "        [-0.5550, -0.8180,  0.0000, -1.2950],\n",
       "        [ 1.6095, -1.2107,  0.0000, -0.9111],\n",
       "        [-0.9859, -0.6685,  0.0000,  1.2684],\n",
       "        [-2.4263, -0.7881, -0.0000, -0.3208],\n",
       "        [ 1.2845, -0.7036, -0.0000,  1.2941],\n",
       "        [-0.5422,  0.2608, -0.0000,  1.4797],\n",
       "        [-1.2129, -0.2421,  0.0000,  1.1686],\n",
       "        [ 0.0470, -1.7878,  0.0000,  0.7133],\n",
       "        [ 1.3597,  0.1712, -0.0000,  0.4305],\n",
       "        [-0.2865, -1.3429,  0.0000,  0.4751],\n",
       "        [ 1.3110,  0.5611, -0.0000, -0.9069],\n",
       "        [-0.8685,  0.9157,  0.0000, -1.3185],\n",
       "        [-0.9400, -0.7100, -0.0000,  0.1680],\n",
       "        [-1.2854, -0.7364,  0.0000, -0.3132],\n",
       "        [-0.5618,  1.0081, -0.0000, -1.3139],\n",
       "        [ 0.6123,  1.5465,  0.0000,  0.7036],\n",
       "        [ 0.5528,  1.0048, -0.0000, -0.9792],\n",
       "        [ 0.7486, -0.3019, -0.0000,  0.1376],\n",
       "        [ 0.1832, -0.7351,  0.0000,  2.0503],\n",
       "        [-2.2188, -0.3604, -0.0000,  0.1053],\n",
       "        [ 0.3267,  1.2013,  0.0000, -0.6809],\n",
       "        [-1.5453,  0.7702, -0.0000, -0.6782],\n",
       "        [ 0.1893,  0.0870,  0.0000,  0.8120],\n",
       "        [ 0.2713,  0.1565,  0.0000, -0.4461],\n",
       "        [-0.9515, -0.1514,  0.0000, -0.6928],\n",
       "        [ 0.1230, -0.9815, -0.0000,  0.7956],\n",
       "        [-0.6857,  0.5441,  0.0000,  1.8164],\n",
       "        [-1.2284,  1.1452, -0.0000,  0.1476],\n",
       "        [ 0.0110,  1.3793,  0.0000,  0.1556],\n",
       "        [-0.5992,  0.1229, -0.0000, -0.2659],\n",
       "        [-0.0259,  0.4278, -0.0000,  2.4211],\n",
       "        [ 0.1367, -1.5987,  0.0000,  1.1476],\n",
       "        [ 2.0888,  2.0365,  0.0000, -1.3822],\n",
       "        [-1.4694, -0.1330, -0.0000,  0.2178],\n",
       "        [-0.4099,  0.2146,  0.0000, -0.7082],\n",
       "        [ 1.0733, -1.1134, -0.0000, -1.6350],\n",
       "        [-2.1192, -0.3850,  0.0000,  0.3672],\n",
       "        [ 0.6497, -0.6463, -0.0000,  0.5541],\n",
       "        [-0.5087,  1.3385, -0.0000,  2.0483],\n",
       "        [ 0.8396,  0.0916,  0.0000, -1.8363],\n",
       "        [ 2.2311,  0.0982,  0.0000,  0.1507],\n",
       "        [ 0.1834, -1.6980, -0.0000, -0.9354],\n",
       "        [-0.5809, -2.5116,  0.0000, -0.1985],\n",
       "        [ 0.6711, -0.9657, -0.0000, -0.1325],\n",
       "        [ 0.3068, -0.7356,  0.0000,  0.5946],\n",
       "        [-0.4759,  0.2545, -0.0000,  1.3534],\n",
       "        [ 1.1464,  0.1364, -0.0000, -0.2311],\n",
       "        [-0.8990, -0.0168,  0.0000,  0.7476],\n",
       "        [ 2.4038, -0.6903,  0.0000,  1.6140],\n",
       "        [ 0.7791,  0.9458, -0.0000,  1.1025],\n",
       "        [-0.2068,  1.5793,  0.0000,  0.4542],\n",
       "        [ 0.8139,  1.4241,  0.0000,  0.1900],\n",
       "        [-0.3797,  0.6635, -0.0000,  0.5699],\n",
       "        [-0.4034,  0.3180, -0.0000,  0.0553],\n",
       "        [-0.5739, -1.6743,  0.0000, -0.6367],\n",
       "        [ 1.0023,  0.1189, -0.0000,  0.1096],\n",
       "        [-0.1159,  2.0711,  0.0000,  0.0098],\n",
       "        [ 1.3507,  0.4255,  0.0000,  0.3144],\n",
       "        [ 0.8263, -0.9888, -0.0000,  0.6582],\n",
       "        [ 0.2092, -0.0820,  0.0000,  1.0729]], device='cuda:0')"
      ]
     },
     "execution_count": 57,
     "metadata": {},
     "output_type": "execute_result"
    }
   ],
   "source": [
    "m[-1]"
   ]
  },
  {
   "cell_type": "code",
   "execution_count": null,
   "id": "e5619132-f40a-4a40-8c17-33216fd7db48",
   "metadata": {},
   "outputs": [],
   "source": []
  },
  {
   "cell_type": "code",
   "execution_count": null,
   "id": "08fb5472-3699-4871-8bed-59309980dfc6",
   "metadata": {},
   "outputs": [],
   "source": [
    "\n",
    "to_mask = random.random() > 0.4\n",
    "if to_mask:\n",
    "\n",
    "    batch_randperm1 = torch.rand((b, n), device=device).argsort(dim=-1)\n",
    "    batch_randperm2 = torch.rand((b, d), device=device).argsort(dim=-1)\n",
    "\n",
    "    mask1 = ~(batch_randperm1 < rearrange(num_masked_n, \"b -> b 1\"))\n",
    "    mask2 = ~(batch_randperm2 < rearrange(num_masked_d, \"b -> b 1\"))\n",
    "\n",
    "    # motion = motion * mask1[:, :, None]\n",
    "    motion = motion * mask2[:, None, :]"
   ]
  },
  {
   "cell_type": "code",
   "execution_count": null,
   "id": "14d4c064-e3ff-4952-b890-1f249296a046",
   "metadata": {},
   "outputs": [],
   "source": []
  },
  {
   "cell_type": "code",
   "execution_count": null,
   "id": "906d1163-0cfe-47ab-88f7-00f2bffcc205",
   "metadata": {},
   "outputs": [],
   "source": []
  },
  {
   "cell_type": "code",
   "execution_count": null,
   "id": "3f1f041f-2041-4b83-8941-f0b24a15177a",
   "metadata": {},
   "outputs": [],
   "source": []
  },
  {
   "cell_type": "code",
   "execution_count": null,
   "id": "2820794d-3c34-4e9b-b5b6-a787951b0a36",
   "metadata": {},
   "outputs": [],
   "source": []
  },
  {
   "cell_type": "code",
   "execution_count": null,
   "id": "53b3acb7-1b27-47f9-96c8-eefb9a679c5e",
   "metadata": {},
   "outputs": [],
   "source": []
  },
  {
   "cell_type": "code",
   "execution_count": 72,
   "id": "0aae0c7c-6c3e-4cd5-b690-6f99b9e63cc2",
   "metadata": {},
   "outputs": [],
   "source": []
  },
  {
   "cell_type": "markdown",
   "id": "77ab000b-0630-4b52-ae63-bac0c6249313",
   "metadata": {
    "jp-MarkdownHeadingCollapsed": true
   },
   "source": [
    "## Translation transformer"
   ]
  },
  {
   "cell_type": "code",
   "execution_count": 11,
   "id": "328680a3-3569-425e-9ed0-ff9046a5a746",
   "metadata": {},
   "outputs": [],
   "source": [
    "from core.datasets.translation_dataset import TranslationDataset, load_dataset, simple_collate\n",
    "from core.datasets.conditioner import ConditionProvider\n",
    "import einops\n",
    "from configs.config_t2o import get_cfg_defaults as trans_get_cfg_defaults\n",
    "from core.models.utils import instantiate_from_config\n",
    "\n",
    "from utils.motion_processing.quaternion import qinv, qrot, quaternion_to_cont6d\n",
    "import utils.rotation_conversions as geometry\n",
    "\n",
    "from core.models.generation.translation_transformer import TranslationTransformer"
   ]
  },
  {
   "cell_type": "code",
   "execution_count": 7,
   "id": "e9ee8a0d-b4a2-48a1-a2d8-c03bbc766a9f",
   "metadata": {},
   "outputs": [],
   "source": [
    "def quaternion_to_angle_axis(q):\n",
    "    \"\"\"\n",
    "    Convert quaternion to angle-axis representation.\n",
    "    \"\"\"\n",
    "    q0, q1, q2, q3 = q\n",
    "    angle = 2 * np.arccos(q0)\n",
    "    axis = np.array([q1, q2]) / np.sqrt(1 - q0**2)\n",
    "    return angle, axis\n",
    "\n",
    "def visualize_orientations_2d(points, orientations):\n",
    "    plt.figure(figsize=(8, 6))\n",
    "\n",
    "    # Plot points\n",
    "    plt.scatter(points[:, 0], points[:, 1], c='b', marker='o', label='Points')\n",
    "\n",
    "    # Plot orientation vectors\n",
    "    for i in range(len(points)):\n",
    "        origin = points[i]\n",
    "        orientation_quaternion = orientations[i]\n",
    "        angle, axis = quaternion_to_angle_axis(orientation_quaternion)\n",
    "        dx, dy = axis * angle\n",
    "        plt.quiver(*origin, dx, dy, scale=1, color='r')\n",
    "\n",
    "    plt.xlabel('X')\n",
    "    plt.ylabel('Y')\n",
    "    plt.title('Orientation Visualization in 2D')\n",
    "    plt.legend()\n",
    "    plt.grid()\n",
    "    plt.axis('equal')\n",
    "    plt.show()"
   ]
  },
  {
   "cell_type": "code",
   "execution_count": 10,
   "id": "4719cd41-4fb9-49c9-9ec4-23bca94f9148",
   "metadata": {},
   "outputs": [],
   "source": [
    "t_cfg = trans_get_cfg_defaults()\n",
    "t_cfg.merge_from_file(\"/srv/hays-lab/scratch/sanisetty3/music_motion/ATCMG/checkpoints/simple_motion_translation/simple_motion_translation.yaml\")\n",
    "# t_cfg.freeze()\n",
    "\n",
    "tcn_config = t_cfg.vqvae\n",
    "dataset_args = t_cfg.dataset"
   ]
  },
  {
   "cell_type": "code",
   "execution_count": null,
   "id": "d1026609-9e97-40f0-822b-1ca17c8e08da",
   "metadata": {},
   "outputs": [],
   "source": []
  },
  {
   "cell_type": "code",
   "execution_count": 34,
   "id": "783f0f67-de63-46d7-99fd-a73216e0caa6",
   "metadata": {},
   "outputs": [],
   "source": [
    "from core.models.generation.translator import Traj2Orient\n"
   ]
  },
  {
   "cell_type": "code",
   "execution_count": 35,
   "id": "3bfb75fe-d85c-440c-b7d8-c717969aa9f7",
   "metadata": {},
   "outputs": [],
   "source": [
    "# from core.models.generation.translation_transformer import TranslationTransformer\n",
    "# trans_former = TranslationTransformer(tranformer_config, fuse_config).to(device)"
   ]
  },
  {
   "cell_type": "code",
   "execution_count": 85,
   "id": "30da0030-17ce-4836-b184-693d66531256",
   "metadata": {},
   "outputs": [],
   "source": [
    "# trans_former.load(\"/srv/hays-lab/scratch/sanisetty3/music_motion/ATCMG/checkpoints/motion_translation/translation_transformer.pt\")"
   ]
  },
  {
   "cell_type": "code",
   "execution_count": 47,
   "id": "a0238212-7d31-4c83-87a0-1e60da4f6f4c",
   "metadata": {},
   "outputs": [],
   "source": [
    "\n",
    "def recover_root_rot_pos(data):\n",
    "    rot_vel = data[..., 0]\n",
    "    r_rot_ang = torch.zeros_like(rot_vel).to(data.device)\n",
    "    \"\"\"Get Y-axis rotation from rotation velocity\"\"\"\n",
    "    r_rot_ang[..., 1:] = rot_vel[..., :-1]\n",
    "    r_rot_ang = torch.cumsum(r_rot_ang, dim=-1)\n",
    "\n",
    "    r_rot_quat = torch.zeros(data.shape[:-1] + (4,)).to(data.device)\n",
    "    r_rot_quat[..., 0] = torch.cos(r_rot_ang)\n",
    "    r_rot_quat[..., 2] = torch.sin(r_rot_ang)\n",
    "\n",
    "    r_pos = torch.zeros(data.shape[:-1] + (3,)).to(data.device)\n",
    "    data = data.to(torch.float)\n",
    "    r_pos[..., 1:, [0, 2]] = data[..., :-1, 1:3]\n",
    "    \"\"\"Add Y-axis rotation to root position\"\"\"\n",
    "    r_pos = qrot(qinv(r_rot_quat), r_pos)\n",
    "\n",
    "    r_pos = torch.cumsum(r_pos, dim=-2)\n",
    "\n",
    "    r_pos[..., 1] = data[..., 3]\n",
    "    return r_rot_quat, r_pos"
   ]
  },
  {
   "cell_type": "code",
   "execution_count": 9,
   "id": "7f485828-7d0e-4350-93ee-a2794469f7a7",
   "metadata": {},
   "outputs": [],
   "source": [
    "# # r_rot_quats= []\n",
    "# r_poss = []\n",
    "# all_mots = findAllFile(\"/srv/hays-lab/scratch/sanisetty3/motionx/motion_data/new_joint_vecs\")\n",
    "# for pth in tqdm(all_mots):\n",
    "#     root = np.load(pth)[: , :4]\n",
    "#     if root.shape[0] < 30:\n",
    "#         continue\n",
    "#     r_rot_quat, r_pos = recover_root_rot_pos(torch.Tensor(root))\n",
    "#     rel_pos = np.zeros_like(r_pos)\n",
    "#     rel_pos[..., 1:, [0, 2]] = r_pos[..., 1:, [0, 2]] - r_pos[..., :-1, [0, 2]]\n",
    "    \n",
    "#     # r_rot_quats.append(r_rot_quat.numpy())\n",
    "#     r_poss.append(rel_pos)\n",
    "# # concat_rot = np.concatenate(r_rot_quats , 0)\n",
    "# concat_r_pos = np.concatenate(r_poss , 0)\n",
    "# Mean = concat_r_pos.mean(axis=0)\n",
    "# Std = concat_r_pos.std(axis=0)\n",
    "# np.save(\"/srv/hays-lab/scratch/sanisetty3/motionx/motion_data/Mean_rel_pos.npy\" , Mean )\n",
    "# np.save(\"/srv/hays-lab/scratch/sanisetty3/motionx/motion_data/Std_rel_pos.npy\" , Std )   "
   ]
  },
  {
   "cell_type": "code",
   "execution_count": null,
   "id": "1afac74a-5755-4983-9c56-80445e223f04",
   "metadata": {},
   "outputs": [],
   "source": []
  },
  {
   "cell_type": "code",
   "execution_count": null,
   "id": "71cb6cab-0bfc-4c99-aca4-3d3fa4eca161",
   "metadata": {},
   "outputs": [],
   "source": []
  },
  {
   "cell_type": "code",
   "execution_count": null,
   "id": "b01ce45b-e13f-4a19-8663-79d94a6362aa",
   "metadata": {},
   "outputs": [],
   "source": []
  },
  {
   "cell_type": "code",
   "execution_count": 12,
   "id": "43cb1e06-b842-48ea-8694-128575b8dd13",
   "metadata": {},
   "outputs": [],
   "source": [
    "# condition_provider = ConditionProvider(\n",
    "#             text_conditioner_name = dataset_args.text_conditioner_name,\n",
    "#             motion_rep=MotionRep(dataset_args.motion_rep),\n",
    "#             audio_rep=AudioRep(dataset_args.audio_rep),\n",
    "#             text_rep=TextRep(dataset_args.text_rep),\n",
    "#             motion_padding=dataset_args.motion_padding,\n",
    "#             audio_padding=dataset_args.audio_padding,\n",
    "#             motion_max_length_s=dataset_args.motion_max_length_s,\n",
    "#             audio_max_length_s=dataset_args.audio_max_length_s,\n",
    "#             fps=30,\n",
    "#             # device = \"cpu\"\n",
    "#         )\n",
    "\n",
    "condition_provider = ConditionProvider(\n",
    "            # motion_rep=self.dataset_args.motion_rep,\n",
    "            # motion_padding=dataset_args.motion_padding,\n",
    "            # motion_max_length_s=dataset_args.motion_max_length_s,\n",
    "            only_motion=True,\n",
    "        )"
   ]
  },
  {
   "cell_type": "code",
   "execution_count": 13,
   "id": "e6801612-b3aa-4f1e-9798-cb50fb11daee",
   "metadata": {},
   "outputs": [],
   "source": [
    "# mean_rot = np.load(os.path.join(\"/srv/hays-lab/scratch/sanisetty3/motionx\", \"motion_data/Mean_rots.npy\"))\n",
    "# std_rot = np.load(os.path.join(\"/srv/hays-lab/scratch/sanisetty3/motionx\", \"motion_data/Std_rots.npy\"))"
   ]
  },
  {
   "cell_type": "code",
   "execution_count": 14,
   "id": "076d047e-ecb4-4d6d-920e-7dbcde33efe8",
   "metadata": {},
   "outputs": [
    {
     "name": "stdout",
     "output_type": "stream",
     "text": [
      "Total number of motions animation: 120\n",
      "Total number of motions choreomaster: 34\n"
     ]
    }
   ],
   "source": [
    "train_ds, sampler_train, weights_train  = load_dataset(dataset_names = [\"animation\" , \"choreomaster\"], dataset_args=dataset_args, split = \"train\")\n"
   ]
  },
  {
   "cell_type": "code",
   "execution_count": 15,
   "id": "0ad5b264-6ec0-4b50-be34-679f92a690e1",
   "metadata": {},
   "outputs": [],
   "source": [
    "train_loader = torch.utils.data.DataLoader(\n",
    "        train_ds,\n",
    "        4,\n",
    "        sampler=sampler_train,\n",
    "        # shuffle = False,\n",
    "        collate_fn=partial(simple_collate , conditioner = condition_provider),\n",
    "        # drop_last=True,\n",
    "    )"
   ]
  },
  {
   "cell_type": "code",
   "execution_count": 16,
   "id": "89e38118-175f-4db9-916c-9b76e187c41c",
   "metadata": {},
   "outputs": [],
   "source": [
    "for inputs in (train_loader):\n",
    "    break\n",
    "    "
   ]
  },
  {
   "cell_type": "code",
   "execution_count": 17,
   "id": "a47afe82-7fb3-46cb-9ed7-76e6f432a088",
   "metadata": {},
   "outputs": [
    {
     "data": {
      "text/plain": [
       "array(['choreomaster/5034.npy',\n",
       "       'animation/subset_0000/Ways_To_Enter_A_Room_Horror_Movie.npy',\n",
       "       'choreomaster/1090.npy', 'choreomaster/1033.npy'], dtype='<U59')"
      ]
     },
     "execution_count": 17,
     "metadata": {},
     "output_type": "execute_result"
    }
   ],
   "source": [
    "inputs[\"names\"]"
   ]
  },
  {
   "cell_type": "code",
   "execution_count": 55,
   "id": "3326c9fa-e2f5-4ee4-bc7b-fbf5b3fb957f",
   "metadata": {},
   "outputs": [],
   "source": [
    "# def standardize_along_seq(data):\n",
    "#     # Calculate mean and standard deviation along seq_len dimension\n",
    "#     mean = torch.mean(data, axis=1, keepdims=True)\n",
    "#     std_dev = torch.std(data, axis=1, keepdims=True)\n",
    "\n",
    "#     # Standardize the data\n",
    "#     standardized_data = (data - mean) / std_dev\n",
    "\n",
    "#     return standardized_data\n",
    "\n",
    "\n",
    "# fig = plt.figure(figsize=(4,4))\n",
    "# fig, axes = plt.subplots(nrows=1, ncols=2, figsize=(5, 3))\n",
    "# axes[0].plot(ln_pos[0 , :,0].numpy(), ln_pos[0,:,1].numpy())\n",
    "# axes[1].plot(ln_pos[2 , :,0].numpy(), ln_pos[2,:,1].numpy())\n",
    "# fig.tight_layout()"
   ]
  },
  {
   "cell_type": "code",
   "execution_count": 18,
   "id": "792e3fe2-5af6-4997-8f4c-03212ebbce68",
   "metadata": {},
   "outputs": [],
   "source": [
    "motion = inputs[\"motion\"][0]\n"
   ]
  },
  {
   "cell_type": "code",
   "execution_count": 19,
   "id": "e0ef6ce1-ef0d-441d-883a-9e098897fbef",
   "metadata": {},
   "outputs": [
    {
     "data": {
      "text/plain": [
       "torch.Size([4, 120, 7])"
      ]
     },
     "execution_count": 19,
     "metadata": {},
     "output_type": "execute_result"
    }
   ],
   "source": [
    "motion.shape"
   ]
  },
  {
   "cell_type": "code",
   "execution_count": 21,
   "id": "679a974e-dfba-430f-8a9c-d3b1ea5baec6",
   "metadata": {},
   "outputs": [],
   "source": [
    "model = instantiate_from_config(tcn_config)"
   ]
  },
  {
   "cell_type": "code",
   "execution_count": 24,
   "id": "6964dcab-9edf-445b-b2ab-6dc4564ca53c",
   "metadata": {},
   "outputs": [],
   "source": [
    "out = model(motion)"
   ]
  },
  {
   "cell_type": "code",
   "execution_count": null,
   "id": "dcb3299e-f8b9-4dd0-8e17-235425dfdc18",
   "metadata": {},
   "outputs": [],
   "source": []
  },
  {
   "cell_type": "code",
   "execution_count": null,
   "id": "336849b5-63fa-446d-ba96-4824ba998fac",
   "metadata": {},
   "outputs": [],
   "source": []
  },
  {
   "cell_type": "code",
   "execution_count": null,
   "id": "c1595ac8-f175-40cc-b84d-94105d84a914",
   "metadata": {},
   "outputs": [],
   "source": []
  },
  {
   "cell_type": "code",
   "execution_count": 54,
   "id": "bd846452-7e4c-470f-9ab5-665368b0d232",
   "metadata": {},
   "outputs": [],
   "source": [
    "motion = inputs[\"motion\"][0]\n",
    "mask = inputs[\"motion\"][1].to(torch.bool)\n",
    "r_rot = motion[..., :4]\n",
    "r_pos = motion[..., 4:]\n",
    "r_pos = r_pos[..., [0, 2]]\n",
    "rel_pos = torch.zeros_like(r_pos)\n",
    "rel_pos[:,1:] = r_pos[:,1:] - r_pos[:,:-1]"
   ]
  },
  {
   "cell_type": "code",
   "execution_count": 69,
   "id": "b514f6d6-daab-42f5-9ba0-78d5b3432fb9",
   "metadata": {},
   "outputs": [],
   "source": [
    "r_rot1 = geometry.quaternion_to_axis_angle(r_rot)[..., 1:2]\n",
    "r_rot6 = geometry.matrix_to_rotation_6d(geometry.quaternion_to_matrix(r_rot))"
   ]
  },
  {
   "cell_type": "code",
   "execution_count": 55,
   "id": "fa00bb92-f857-49ff-be0b-b57df81ef850",
   "metadata": {},
   "outputs": [],
   "source": [
    "r_rot2= geometry.quaternion_to_matrix(r_rot)[... , [0,0] , [0,2]]"
   ]
  },
  {
   "cell_type": "code",
   "execution_count": 65,
   "id": "92222c03-2cdc-42b7-b5a2-a98e0e4f3b58",
   "metadata": {},
   "outputs": [
    {
     "data": {
      "text/plain": [
       "torch.Size([4, 120, 2])"
      ]
     },
     "execution_count": 65,
     "metadata": {},
     "output_type": "execute_result"
    }
   ],
   "source": [
    "rel_pos.shape"
   ]
  },
  {
   "cell_type": "code",
   "execution_count": 57,
   "id": "ad1f9928-424d-434d-a26c-d809868f2e31",
   "metadata": {},
   "outputs": [
    {
     "data": {
      "text/plain": [
       "tensor([ 0.0000e+00,  6.3957e-04, -4.0751e-06,  1.0767e-03])"
      ]
     },
     "execution_count": 57,
     "metadata": {},
     "output_type": "execute_result"
    }
   ],
   "source": [
    "rel_pos.mean(dim = [1,2])"
   ]
  },
  {
   "cell_type": "code",
   "execution_count": 68,
   "id": "4f2514b0-ada4-4656-8022-dff298f0b3e3",
   "metadata": {},
   "outputs": [
    {
     "data": {
      "text/plain": [
       "tensor([0.0000, 0.0070, 0.0021, 0.0121])"
      ]
     },
     "execution_count": 68,
     "metadata": {},
     "output_type": "execute_result"
    }
   ],
   "source": [
    "rel_pos.std(dim = [1,2])"
   ]
  },
  {
   "cell_type": "code",
   "execution_count": 178,
   "id": "49486644-e391-4dd6-8170-d27fd91c6774",
   "metadata": {},
   "outputs": [],
   "source": [
    "mot = torch.cat([rel_pos , r_rot2 ] , -1).to(device)"
   ]
  },
  {
   "cell_type": "code",
   "execution_count": 75,
   "id": "8e2064b0-a7a3-4778-a7bc-2f3deea1a68f",
   "metadata": {},
   "outputs": [],
   "source": [
    "b , n , d = mot.shape"
   ]
  },
  {
   "cell_type": "code",
   "execution_count": 213,
   "id": "9651571b-2617-4a16-b0fd-bd241159dfe5",
   "metadata": {},
   "outputs": [],
   "source": [
    "import math\n",
    "import random\n",
    "rand_time = torch.zeros((b,), device=device).float().uniform_(1, 1)\n",
    "rand_mask_probs = torch.cos(rand_time * math.pi * 0.5)\n",
    "num_token_masked = (n * rand_mask_probs).round().clamp(min=1)\n",
    "num_attr_masked = torch.Tensor(np.random.choice([0,1,2] , b)).to(device)"
   ]
  },
  {
   "cell_type": "code",
   "execution_count": 214,
   "id": "b28bcc85-0585-4279-91b1-84c86579b750",
   "metadata": {},
   "outputs": [],
   "source": [
    "batch_randperm1 = torch.rand((b, n), device=device).argsort(dim=-1)\n",
    "batch_randperm2 = torch.rand((b, d), device=device).argsort(dim=-1)\n",
    "\n",
    "mask1 = ~(batch_randperm1 < rearrange(num_token_masked, \"b -> b 1\"))\n",
    "mask2 = ~(batch_randperm2 < rearrange(num_attr_masked, \"b -> b 1\"))\n"
   ]
  },
  {
   "cell_type": "code",
   "execution_count": 215,
   "id": "08b3e0dd-75b8-4b5e-bd45-15660b8b86f0",
   "metadata": {
    "scrolled": true
   },
   "outputs": [
    {
     "data": {
      "text/plain": [
       "tensor([1., 1., 1., 1.], device='cuda:0')"
      ]
     },
     "execution_count": 215,
     "metadata": {},
     "output_type": "execute_result"
    }
   ],
   "source": [
    "num_token_masked"
   ]
  },
  {
   "cell_type": "code",
   "execution_count": 201,
   "id": "94c49307-3083-4ba3-a01f-3a6a3729bf8c",
   "metadata": {},
   "outputs": [
    {
     "data": {
      "text/plain": [
       "torch.Size([120, 4])"
      ]
     },
     "execution_count": 201,
     "metadata": {},
     "output_type": "execute_result"
    }
   ],
   "source": [
    "mot[0].shape"
   ]
  },
  {
   "cell_type": "code",
   "execution_count": 207,
   "id": "d73b14c9-0417-45c1-81c9-79678c7bc909",
   "metadata": {},
   "outputs": [
    {
     "data": {
      "text/plain": [
       "tensor([[ 0.0000e+00,  0.0000e+00,  1.0000e+00,  0.0000e+00],\n",
       "        [-0.0000e+00, -1.6002e-03,  9.9995e-01,  9.5618e-03],\n",
       "        [-0.0000e+00, -1.6319e-03,  9.9982e-01,  1.9105e-02],\n",
       "        [-0.0000e+00, -1.4642e-03,  9.9959e-01,  2.8614e-02],\n",
       "        [-0.0000e+00, -1.5240e-03,  9.9928e-01,  3.8072e-02],\n",
       "        [-0.0000e+00, -1.4864e-03,  9.9887e-01,  4.7460e-02],\n",
       "        [-0.0000e+00, -1.3501e-03,  9.9839e-01,  5.6761e-02],\n",
       "        [-0.0000e+00, -1.1363e-03,  9.9782e-01,  6.5957e-02],\n",
       "        [-0.0000e+00, -1.1483e-03,  9.9718e-01,  7.5029e-02],\n",
       "        [-0.0000e+00, -1.1490e-03,  9.9647e-01,  8.3958e-02],\n",
       "        [-0.0000e+00, -1.1844e-03,  9.9569e-01,  9.2724e-02],\n",
       "        [-0.0000e+00, -1.2319e-03,  9.9486e-01,  1.0131e-01],\n",
       "        [-0.0000e+00, -1.2478e-03,  9.9397e-01,  1.0969e-01],\n",
       "        [-0.0000e+00, -1.2103e-03,  9.9303e-01,  1.1786e-01],\n",
       "        [-0.0000e+00, -1.2496e-03,  9.9206e-01,  1.2578e-01],\n",
       "        [-0.0000e+00, -1.2321e-03,  9.9106e-01,  1.3344e-01],\n",
       "        [-0.0000e+00, -1.2087e-03,  9.9003e-01,  1.4083e-01],\n",
       "        [-0.0000e+00, -1.2904e-03,  9.8900e-01,  1.4793e-01],\n",
       "        [-0.0000e+00, -1.3339e-03,  9.8796e-01,  1.5471e-01],\n",
       "        [-0.0000e+00, -1.2950e-03,  9.8693e-01,  1.6116e-01],\n",
       "        [-0.0000e+00, -1.3096e-03,  9.8591e-01,  1.6727e-01],\n",
       "        [-0.0000e+00, -1.3359e-03,  9.8492e-01,  1.7303e-01],\n",
       "        [-0.0000e+00, -1.2803e-03,  9.8396e-01,  1.7841e-01],\n",
       "        [-0.0000e+00, -1.3177e-03,  9.8304e-01,  1.8340e-01],\n",
       "        [-0.0000e+00, -1.2370e-03,  9.8217e-01,  1.8800e-01],\n",
       "        [-0.0000e+00, -1.0715e-03,  9.8136e-01,  1.9219e-01],\n",
       "        [-0.0000e+00, -8.1322e-04,  9.8061e-01,  1.9597e-01],\n",
       "        [-0.0000e+00, -4.1466e-04,  9.7993e-01,  1.9933e-01],\n",
       "        [-0.0000e+00, -2.2729e-04,  9.7933e-01,  2.0225e-01],\n",
       "        [-0.0000e+00, -2.5191e-04,  9.7881e-01,  2.0475e-01],\n",
       "        [-0.0000e+00, -2.3426e-04,  9.7838e-01,  2.0681e-01],\n",
       "        [-0.0000e+00, -2.3423e-04,  9.7804e-01,  2.0843e-01],\n",
       "        [-0.0000e+00, -3.9490e-04,  9.7778e-01,  2.0961e-01],\n",
       "        [-0.0000e+00, -3.5136e-04,  9.7762e-01,  2.1036e-01],\n",
       "        [-0.0000e+00, -3.5573e-04,  9.7756e-01,  2.1067e-01],\n",
       "        [-0.0000e+00, -3.4086e-04,  9.7758e-01,  2.1055e-01],\n",
       "        [-0.0000e+00, -3.6184e-04,  9.7770e-01,  2.1001e-01],\n",
       "        [-0.0000e+00, -5.3313e-04,  9.7790e-01,  2.0906e-01],\n",
       "        [-0.0000e+00, -3.0810e-04,  9.7819e-01,  2.0769e-01],\n",
       "        [-0.0000e+00, -3.8578e-04,  9.7857e-01,  2.0593e-01],\n",
       "        [-0.0000e+00, -2.3795e-04,  9.7902e-01,  2.0378e-01],\n",
       "        [-0.0000e+00,  9.8489e-05,  9.7954e-01,  2.0125e-01],\n",
       "        [ 0.0000e+00,  5.3313e-04,  9.8013e-01,  1.9836e-01],\n",
       "        [ 0.0000e+00, -4.4382e-03,  9.8078e-01,  1.9513e-01],\n",
       "        [ 0.0000e+00, -4.0828e-03,  9.8148e-01,  1.9156e-01],\n",
       "        [ 0.0000e+00, -2.0531e-03,  9.8223e-01,  1.8768e-01],\n",
       "        [ 0.0000e+00,  2.3674e-04,  9.8302e-01,  1.8350e-01],\n",
       "        [ 0.0000e+00,  7.7306e-04,  9.8384e-01,  1.7903e-01],\n",
       "        [ 0.0000e+00,  8.9780e-04,  9.8469e-01,  1.7431e-01],\n",
       "        [ 0.0000e+00,  2.7278e-03,  9.8556e-01,  1.6934e-01],\n",
       "        [ 0.0000e+00,  3.5603e-03,  9.8644e-01,  1.6415e-01],\n",
       "        [ 0.0000e+00,  3.6787e-03,  9.8732e-01,  1.5875e-01],\n",
       "        [ 0.0000e+00,  3.8911e-03,  9.8820e-01,  1.5317e-01],\n",
       "        [ 0.0000e+00,  4.2859e-03,  9.8907e-01,  1.4742e-01],\n",
       "        [ 0.0000e+00,  4.2572e-03,  9.8994e-01,  1.4152e-01],\n",
       "        [ 0.0000e+00,  4.3133e-03,  9.9078e-01,  1.3550e-01],\n",
       "        [ 0.0000e+00,  4.4309e-03,  9.9160e-01,  1.2936e-01],\n",
       "        [ 0.0000e+00,  4.5255e-03,  9.9239e-01,  1.2314e-01],\n",
       "        [ 0.0000e+00,  4.5885e-03,  9.9315e-01,  1.1684e-01],\n",
       "        [ 0.0000e+00,  4.4045e-03,  9.9388e-01,  1.1049e-01],\n",
       "        [ 0.0000e+00,  3.7007e-03,  9.9457e-01,  1.0410e-01],\n",
       "        [ 0.0000e+00,  2.9427e-03,  9.9522e-01,  9.7686e-02],\n",
       "        [ 0.0000e+00,  2.9427e-03,  9.9583e-01,  9.1267e-02],\n",
       "        [ 0.0000e+00,  3.0797e-03,  9.9639e-01,  8.4857e-02],\n",
       "        [ 0.0000e+00,  3.1291e-03,  9.9692e-01,  7.8470e-02],\n",
       "        [ 0.0000e+00,  3.2035e-03,  9.9740e-01,  7.2120e-02],\n",
       "        [ 0.0000e+00,  3.2380e-03,  9.9783e-01,  6.5820e-02],\n",
       "        [ 0.0000e+00,  3.1038e-03,  9.9822e-01,  5.9582e-02],\n",
       "        [ 0.0000e+00,  2.4270e-03,  9.9857e-01,  5.3420e-02],\n",
       "        [ 0.0000e+00,  1.9908e-03,  9.9888e-01,  4.7344e-02],\n",
       "        [ 0.0000e+00,  1.7281e-03,  9.9914e-01,  4.1368e-02],\n",
       "        [ 0.0000e+00,  1.6285e-03,  9.9937e-01,  3.5501e-02],\n",
       "        [ 0.0000e+00,  1.6758e-03,  9.9956e-01,  2.9757e-02],\n",
       "        [ 0.0000e+00,  1.9076e-03,  9.9971e-01,  2.4145e-02],\n",
       "        [ 0.0000e+00,  1.9997e-03,  9.9983e-01,  1.8678e-02],\n",
       "        [ 0.0000e+00,  1.8907e-03,  9.9991e-01,  1.3367e-02],\n",
       "        [ 0.0000e+00,  1.5996e-03,  9.9997e-01,  8.2225e-03],\n",
       "        [ 0.0000e+00,  1.1351e-03,  9.9999e-01,  3.2574e-03],\n",
       "        [ 0.0000e+00,  6.7733e-04,  1.0000e+00, -1.5164e-03],\n",
       "        [ 0.0000e+00,  5.5760e-04,  9.9998e-01, -6.0869e-03],\n",
       "        [ 0.0000e+00,  5.5527e-04,  9.9995e-01, -1.0442e-02],\n",
       "        [ 0.0000e+00,  6.0194e-04,  9.9989e-01, -1.4567e-02],\n",
       "        [ 0.0000e+00,  6.0194e-04,  9.9983e-01, -1.8451e-02],\n",
       "        [ 0.0000e+00,  9.3587e-04,  9.9976e-01, -2.2079e-02],\n",
       "        [ 0.0000e+00,  9.4768e-04,  9.9968e-01, -2.5437e-02],\n",
       "        [ 0.0000e+00,  9.7239e-04,  9.9959e-01, -2.8511e-02],\n",
       "        [ 0.0000e+00,  9.9430e-04,  9.9951e-01, -3.1286e-02],\n",
       "        [ 0.0000e+00,  9.5476e-04,  9.9943e-01, -3.3748e-02],\n",
       "        [ 0.0000e+00,  5.9023e-04,  9.9936e-01, -3.5881e-02],\n",
       "        [ 0.0000e+00,  2.9460e-04,  9.9929e-01, -3.7670e-02],\n",
       "        [ 0.0000e+00,  1.0597e-04,  9.9924e-01, -3.9099e-02],\n",
       "        [ 0.0000e+00, -6.4038e-06,  9.9919e-01, -4.0153e-02],\n",
       "        [ 0.0000e+00, -1.0830e-04,  9.9917e-01, -4.0817e-02],\n",
       "        [ 0.0000e+00, -1.0221e-04,  9.9916e-01, -4.1073e-02],\n",
       "        [-0.0000e+00, -9.5174e-05,  9.9916e-01, -4.0907e-02],\n",
       "        [-0.0000e+00,  2.6673e-06,  9.9919e-01, -4.0302e-02],\n",
       "        [-0.0000e+00, -3.6262e-05,  9.9923e-01, -3.9244e-02],\n",
       "        [ 0.0000e+00, -6.3066e-04,  9.9929e-01, -3.7716e-02],\n",
       "        [ 0.0000e+00, -6.0515e-04,  9.9936e-01, -3.5703e-02],\n",
       "        [ 0.0000e+00, -2.2717e-04,  9.9945e-01, -3.3189e-02],\n",
       "        [-0.0000e+00, -3.9823e-05,  9.9955e-01, -3.0160e-02],\n",
       "        [-0.0000e+00, -2.4389e-05,  9.9965e-01, -2.6599e-02],\n",
       "        [ 0.0000e+00, -1.0192e-04,  9.9975e-01, -2.2492e-02],\n",
       "        [ 0.0000e+00, -1.1411e-04,  9.9984e-01, -1.7825e-02],\n",
       "        [ 0.0000e+00, -2.2124e-05,  9.9992e-01, -1.2581e-02],\n",
       "        [-0.0000e+00,  5.1979e-05,  9.9998e-01, -6.7468e-03],\n",
       "        [-0.0000e+00,  8.6836e-04,  1.0000e+00, -3.0715e-04],\n",
       "        [-0.0000e+00,  3.8609e-03,  9.9998e-01,  6.7524e-03],\n",
       "        [-0.0000e+00,  5.6602e-03,  9.9990e-01,  1.4447e-02],\n",
       "        [-0.0000e+00,  2.9476e-03,  9.9974e-01,  2.2790e-02],\n",
       "        [-0.0000e+00,  6.8391e-04,  9.9949e-01,  3.1796e-02],\n",
       "        [-0.0000e+00, -1.4585e-03,  9.9914e-01,  4.1479e-02],\n",
       "        [-0.0000e+00, -4.6673e-03,  9.9865e-01,  5.1852e-02],\n",
       "        [-0.0000e+00, -8.1493e-03,  9.9802e-01,  6.2929e-02],\n",
       "        [-0.0000e+00, -1.0080e-02,  9.9720e-01,  7.4722e-02],\n",
       "        [-0.0000e+00, -1.1111e-02,  9.9619e-01,  8.7243e-02],\n",
       "        [-0.0000e+00, -1.1005e-02,  9.9494e-01,  1.0050e-01],\n",
       "        [-0.0000e+00, -9.2484e-03,  9.9342e-01,  1.1450e-01],\n",
       "        [-0.0000e+00, -5.7066e-03,  9.9161e-01,  1.2926e-01],\n",
       "        [ 0.0000e+00, -1.6761e-03,  9.8947e-01,  1.4477e-01]], device='cuda:0')"
      ]
     },
     "execution_count": 207,
     "metadata": {},
     "output_type": "execute_result"
    }
   ],
   "source": [
    "mot[2]*mask2[2][None, :]"
   ]
  },
  {
   "cell_type": "code",
   "execution_count": 209,
   "id": "9a7c22da-70ce-48f8-83ea-56935e37aacf",
   "metadata": {},
   "outputs": [
    {
     "data": {
      "text/plain": [
       "tensor([[ 0.0000e+00,  0.0000e+00,  1.0000e+00,  0.0000e+00],\n",
       "        [-1.7758e-04, -1.6002e-03,  9.9995e-01,  9.5618e-03],\n",
       "        [-1.8272e-04, -1.6319e-03,  9.9982e-01,  1.9105e-02],\n",
       "        [-2.7071e-04, -1.4642e-03,  9.9959e-01,  2.8614e-02],\n",
       "        [-3.7155e-04, -1.5240e-03,  9.9928e-01,  3.8072e-02],\n",
       "        [-3.8422e-04, -1.4864e-03,  9.9887e-01,  4.7460e-02],\n",
       "        [-3.5175e-04, -1.3501e-03,  9.9839e-01,  5.6761e-02],\n",
       "        [-3.6600e-04, -1.1363e-03,  9.9782e-01,  6.5957e-02],\n",
       "        [-2.9120e-04, -1.1483e-03,  9.9718e-01,  7.5029e-02],\n",
       "        [-2.8702e-04, -1.1490e-03,  9.9647e-01,  8.3958e-02],\n",
       "        [-2.9273e-04, -1.1844e-03,  9.9569e-01,  9.2724e-02],\n",
       "        [-3.0042e-04, -1.2319e-03,  9.9486e-01,  1.0131e-01],\n",
       "        [-3.0298e-04, -1.2478e-03,  9.9397e-01,  1.0969e-01],\n",
       "        [-2.9693e-04, -1.2103e-03,  9.9303e-01,  1.1786e-01],\n",
       "        [-3.0327e-04, -1.2496e-03,  9.9206e-01,  1.2578e-01],\n",
       "        [-3.0045e-04, -1.2321e-03,  9.9106e-01,  1.3344e-01],\n",
       "        [-2.9265e-04, -1.2087e-03,  9.9003e-01,  1.4083e-01],\n",
       "        [-2.8962e-04, -1.2904e-03,  9.8900e-01,  1.4793e-01],\n",
       "        [-2.5823e-04, -1.3339e-03,  9.8796e-01,  1.5471e-01],\n",
       "        [-2.4982e-04, -1.2950e-03,  9.8693e-01,  1.6116e-01],\n",
       "        [-2.7036e-04, -1.3096e-03,  9.8591e-01,  1.6727e-01],\n",
       "        [-2.8491e-04, -1.3359e-03,  9.8492e-01,  1.7303e-01],\n",
       "        [-2.2719e-04, -1.2803e-03,  9.8396e-01,  1.7841e-01],\n",
       "        [-2.3324e-04, -1.3177e-03,  9.8304e-01,  1.8340e-01],\n",
       "        [-2.2020e-04, -1.2370e-03,  9.8217e-01,  1.8800e-01],\n",
       "        [-2.2981e-04, -1.0715e-03,  9.8136e-01,  1.9219e-01],\n",
       "        [-2.1261e-04, -8.1322e-04,  9.8061e-01,  1.9597e-01],\n",
       "        [-6.7022e-05, -4.1466e-04,  9.7993e-01,  1.9933e-01],\n",
       "        [-3.6736e-05, -2.2729e-04,  9.7933e-01,  2.0225e-01],\n",
       "        [-8.3198e-05, -2.5191e-04,  9.7881e-01,  2.0475e-01],\n",
       "        [-8.0455e-05, -2.3426e-04,  9.7838e-01,  2.0681e-01],\n",
       "        [-5.4084e-05, -2.3423e-04,  9.7804e-01,  2.0843e-01],\n",
       "        [-6.3826e-05, -3.9490e-04,  9.7778e-01,  2.0961e-01],\n",
       "        [-9.5259e-05, -3.5136e-04,  9.7762e-01,  2.1036e-01],\n",
       "        [-5.5512e-05, -3.5573e-04,  9.7756e-01,  2.1067e-01],\n",
       "        [-3.4828e-05, -3.4086e-04,  9.7758e-01,  2.1055e-01],\n",
       "        [-4.2261e-05, -3.6184e-04,  9.7770e-01,  2.1001e-01],\n",
       "        [-8.6172e-05, -5.3313e-04,  9.7790e-01,  2.0906e-01],\n",
       "        [-4.9794e-05, -3.0810e-04,  9.7819e-01,  2.0769e-01],\n",
       "        [-1.9816e-05, -3.8578e-04,  9.7857e-01,  2.0593e-01],\n",
       "        [-3.2369e-05, -2.3795e-04,  9.7902e-01,  2.0378e-01],\n",
       "        [-3.2709e-05,  9.8489e-05,  9.7954e-01,  2.0125e-01],\n",
       "        [ 8.6170e-05,  5.3313e-04,  9.8013e-01,  1.9836e-01],\n",
       "        [ 5.9169e-04, -4.4382e-03,  9.8078e-01,  1.9513e-01],\n",
       "        [ 4.9089e-04, -4.0828e-03,  9.8148e-01,  1.9156e-01],\n",
       "        [ 5.7576e-04, -2.0531e-03,  9.8223e-01,  1.8768e-01],\n",
       "        [ 7.4331e-04,  2.3674e-04,  9.8302e-01,  1.8350e-01],\n",
       "        [ 7.3278e-04,  7.7306e-04,  9.8384e-01,  1.7903e-01],\n",
       "        [ 6.7591e-04,  8.9780e-04,  9.8469e-01,  1.7431e-01],\n",
       "        [ 8.9670e-04,  2.7278e-03,  9.8556e-01,  1.6934e-01],\n",
       "        [ 1.0009e-03,  3.5603e-03,  9.8644e-01,  1.6415e-01],\n",
       "        [ 9.8345e-04,  3.6787e-03,  9.8732e-01,  1.5875e-01],\n",
       "        [ 8.7204e-04,  3.8911e-03,  9.8820e-01,  1.5317e-01],\n",
       "        [ 1.0515e-03,  4.2859e-03,  9.8907e-01,  1.4742e-01],\n",
       "        [ 9.2495e-04,  4.2572e-03,  9.8994e-01,  1.4152e-01],\n",
       "        [ 8.4294e-04,  4.3133e-03,  9.9078e-01,  1.3550e-01],\n",
       "        [ 8.1745e-04,  4.4309e-03,  9.9160e-01,  1.2936e-01],\n",
       "        [ 8.3275e-04,  4.5255e-03,  9.9239e-01,  1.2314e-01],\n",
       "        [ 9.2003e-04,  4.5885e-03,  9.9315e-01,  1.1684e-01],\n",
       "        [ 8.5161e-04,  4.4045e-03,  9.9388e-01,  1.1049e-01],\n",
       "        [ 7.1970e-04,  3.7007e-03,  9.9457e-01,  1.0410e-01],\n",
       "        [ 5.9718e-04,  2.9427e-03,  9.9522e-01,  9.7686e-02],\n",
       "        [ 5.9718e-04,  2.9427e-03,  9.9583e-01,  9.1267e-02],\n",
       "        [ 4.6506e-04,  3.0797e-03,  9.9639e-01,  8.4857e-02],\n",
       "        [ 6.3589e-04,  3.1291e-03,  9.9692e-01,  7.8470e-02],\n",
       "        [ 7.0208e-04,  3.2035e-03,  9.9740e-01,  7.2120e-02],\n",
       "        [ 6.7315e-04,  3.2380e-03,  9.9783e-01,  6.5820e-02],\n",
       "        [ 6.0297e-04,  3.1038e-03,  9.9822e-01,  5.9582e-02],\n",
       "        [ 4.9357e-04,  2.4270e-03,  9.9857e-01,  5.3420e-02],\n",
       "        [ 4.2308e-04,  1.9908e-03,  9.9888e-01,  4.7344e-02],\n",
       "        [ 3.9896e-04,  1.7281e-03,  9.9914e-01,  4.1368e-02],\n",
       "        [ 4.0504e-04,  1.6285e-03,  9.9937e-01,  3.5501e-02],\n",
       "        [ 4.1268e-04,  1.6758e-03,  9.9956e-01,  2.9757e-02],\n",
       "        [ 4.1154e-04,  1.9076e-03,  9.9971e-01,  2.4145e-02],\n",
       "        [ 3.5332e-04,  1.9997e-03,  9.9983e-01,  1.8678e-02],\n",
       "        [ 3.0559e-04,  1.8907e-03,  9.9991e-01,  1.3367e-02],\n",
       "        [ 2.4620e-04,  1.5996e-03,  9.9997e-01,  8.2225e-03],\n",
       "        [ 1.2267e-04,  1.1351e-03,  9.9999e-01,  3.2574e-03],\n",
       "        [ 8.7317e-05,  6.7733e-04,  1.0000e+00, -1.5164e-03],\n",
       "        [ 6.9857e-05,  5.5760e-04,  9.9998e-01, -6.0869e-03],\n",
       "        [ 5.1122e-05,  5.5527e-04,  9.9995e-01, -1.0442e-02],\n",
       "        [ 3.6501e-05,  6.0194e-04,  9.9989e-01, -1.4567e-02],\n",
       "        [ 3.6506e-05,  6.0194e-04,  9.9983e-01, -1.8451e-02],\n",
       "        [ 3.6094e-04,  9.3587e-04,  9.9976e-01, -2.2079e-02],\n",
       "        [ 4.0456e-04,  9.4768e-04,  9.9968e-01, -2.5437e-02],\n",
       "        [ 3.6540e-04,  9.7239e-04,  9.9959e-01, -2.8511e-02],\n",
       "        [ 2.9015e-04,  9.9430e-04,  9.9951e-01, -3.1286e-02],\n",
       "        [ 2.3536e-04,  9.5476e-04,  9.9943e-01, -3.3748e-02],\n",
       "        [ 9.9136e-05,  5.9023e-04,  9.9936e-01, -3.5881e-02],\n",
       "        [ 4.7615e-05,  2.9460e-04,  9.9929e-01, -3.7670e-02],\n",
       "        [ 1.7127e-05,  1.0597e-04,  9.9924e-01, -3.9099e-02],\n",
       "        [ 1.1381e-05, -6.4038e-06,  9.9919e-01, -4.0153e-02],\n",
       "        [ 4.3277e-05, -1.0830e-04,  9.9917e-01, -4.0817e-02],\n",
       "        [ 5.5917e-06, -1.0221e-04,  9.9916e-01, -4.1073e-02],\n",
       "        [-3.7942e-05, -9.5174e-05,  9.9916e-01, -4.0907e-02],\n",
       "        [-1.8745e-04,  2.6673e-06,  9.9919e-01, -4.0302e-02],\n",
       "        [-2.4616e-04, -3.6262e-05,  9.9923e-01, -3.9244e-02],\n",
       "        [ 1.4120e-04, -6.3066e-04,  9.9929e-01, -3.7716e-02],\n",
       "        [ 2.2270e-04, -6.0515e-04,  9.9936e-01, -3.5703e-02],\n",
       "        [ 1.6114e-05, -2.2717e-04,  9.9945e-01, -3.3189e-02],\n",
       "        [-1.4097e-04, -3.9823e-05,  9.9955e-01, -3.0160e-02],\n",
       "        [-1.7695e-04, -2.4389e-05,  9.9965e-01, -2.6599e-02],\n",
       "        [ 3.7830e-06, -1.0192e-04,  9.9975e-01, -2.2492e-02],\n",
       "        [ 7.9231e-05, -1.1411e-04,  9.9984e-01, -1.7825e-02],\n",
       "        [ 4.0572e-05, -2.2124e-05,  9.9992e-01, -1.2581e-02],\n",
       "        [-8.2063e-05,  5.1979e-05,  9.9998e-01, -6.7468e-03],\n",
       "        [-2.8237e-04,  8.6836e-04,  1.0000e+00, -3.0715e-04],\n",
       "        [-5.7138e-04,  3.8609e-03,  9.9998e-01,  6.7524e-03],\n",
       "        [-2.0313e-04,  5.6602e-03,  9.9990e-01,  1.4447e-02],\n",
       "        [-1.1098e-03,  2.9476e-03,  9.9974e-01,  2.2790e-02],\n",
       "        [-1.2753e-03,  6.8391e-04,  9.9949e-01,  3.1796e-02],\n",
       "        [-1.1308e-03, -1.4585e-03,  9.9914e-01,  4.1479e-02],\n",
       "        [-1.5851e-03, -4.6673e-03,  9.9865e-01,  5.1852e-02],\n",
       "        [-1.9735e-03, -8.1493e-03,  9.9802e-01,  6.2929e-02],\n",
       "        [-2.1917e-03, -1.0080e-02,  9.9720e-01,  7.4722e-02],\n",
       "        [-2.2856e-03, -1.1111e-02,  9.9619e-01,  8.7243e-02],\n",
       "        [-2.1742e-03, -1.1005e-02,  9.9494e-01,  1.0050e-01],\n",
       "        [-1.6974e-03, -9.2484e-03,  9.9342e-01,  1.1450e-01],\n",
       "        [-9.5055e-04, -5.7066e-03,  9.9161e-01,  1.2926e-01],\n",
       "        [ 6.5366e-04, -1.6761e-03,  9.8947e-01,  1.4477e-01]], device='cuda:0')"
      ]
     },
     "execution_count": 209,
     "metadata": {},
     "output_type": "execute_result"
    }
   ],
   "source": [
    "mot[2]"
   ]
  },
  {
   "cell_type": "code",
   "execution_count": null,
   "id": "63e63392-1a19-4f43-805a-4fa2df4b6cb1",
   "metadata": {},
   "outputs": [],
   "source": []
  },
  {
   "cell_type": "code",
   "execution_count": 195,
   "id": "d0f46ba8-9a6d-40ef-9cf8-7381aa4c998e",
   "metadata": {},
   "outputs": [
    {
     "data": {
      "text/plain": [
       "tensor([[[ True,  True,  True,  True]],\n",
       "\n",
       "        [[ True,  True,  True, False]],\n",
       "\n",
       "        [[False,  True,  True,  True]],\n",
       "\n",
       "        [[ True,  True, False,  True]]], device='cuda:0')"
      ]
     },
     "execution_count": 195,
     "metadata": {},
     "output_type": "execute_result"
    }
   ],
   "source": [
    "~mask2[:, None , :]"
   ]
  },
  {
   "cell_type": "code",
   "execution_count": null,
   "id": "f0b2d068-e099-4e5f-94f3-ec07cdfabdd8",
   "metadata": {},
   "outputs": [],
   "source": []
  },
  {
   "cell_type": "code",
   "execution_count": 69,
   "id": "b92aba9b-f8e2-4ac9-a970-e244ce227009",
   "metadata": {},
   "outputs": [
    {
     "data": {
      "text/plain": [
       "tensor([0.5503, 0.5042, 0.5380, 0.4690])"
      ]
     },
     "execution_count": 69,
     "metadata": {},
     "output_type": "execute_result"
    }
   ],
   "source": [
    "r_rot2.mean(dim = [1,2])"
   ]
  },
  {
   "cell_type": "code",
   "execution_count": 70,
   "id": "0b18d591-2dcb-481d-b081-64d3616a6a0f",
   "metadata": {},
   "outputs": [
    {
     "data": {
      "text/plain": [
       "tensor([0.4450, 0.4968, 0.4598, 0.5303])"
      ]
     },
     "execution_count": 70,
     "metadata": {},
     "output_type": "execute_result"
    }
   ],
   "source": [
    "r_rot2.std(dim = [1,2])"
   ]
  },
  {
   "cell_type": "code",
   "execution_count": 100,
   "id": "119c9144-8481-44be-987b-435e6fdb265b",
   "metadata": {},
   "outputs": [],
   "source": [
    "traj2orient = Traj2Orient(tcn_config)"
   ]
  },
  {
   "cell_type": "code",
   "execution_count": 104,
   "id": "ccd6b643-4341-4ab9-a1d5-076c5aa2d866",
   "metadata": {},
   "outputs": [],
   "source": [
    "optim = torch.optim.Adam(traj2orient.parameters() , lr = 2e-4)"
   ]
  },
  {
   "cell_type": "code",
   "execution_count": 109,
   "id": "d08dd4ca-f3e9-4ae3-96a8-fff925ba7c95",
   "metadata": {},
   "outputs": [
    {
     "name": "stderr",
     "output_type": "stream",
     "text": [
      "  0%|                                                                                   | 1/20000 [02:48<933:35:28, 168.05s/it]"
     ]
    },
    {
     "name": "stdout",
     "output_type": "stream",
     "text": [
      "tensor(0.0784, grad_fn=<MseLossBackward0>)\n"
     ]
    },
    {
     "name": "stderr",
     "output_type": "stream",
     "text": [
      "  0%|                                                                                  | 1/20000 [03:37<1210:02:53, 217.82s/it]\n"
     ]
    },
    {
     "ename": "KeyboardInterrupt",
     "evalue": "",
     "output_type": "error",
     "traceback": [
      "\u001b[0;31m---------------------------------------------------------------------------\u001b[0m",
      "\u001b[0;31mKeyboardInterrupt\u001b[0m                         Traceback (most recent call last)",
      "Cell \u001b[0;32mIn[109], line 4\u001b[0m\n\u001b[1;32m      2\u001b[0m \u001b[38;5;28;01mfor\u001b[39;00m inputs \u001b[38;5;129;01min\u001b[39;00m (train_loader):\n\u001b[1;32m      3\u001b[0m     loss, pred_orient \u001b[38;5;241m=\u001b[39m traj2orient(inputs[\u001b[38;5;124m\"\u001b[39m\u001b[38;5;124mmotion\u001b[39m\u001b[38;5;124m\"\u001b[39m])\n\u001b[0;32m----> 4\u001b[0m     \u001b[43mloss\u001b[49m\u001b[38;5;241;43m.\u001b[39;49m\u001b[43mbackward\u001b[49m\u001b[43m(\u001b[49m\u001b[43m)\u001b[49m\n\u001b[1;32m      5\u001b[0m     optim\u001b[38;5;241m.\u001b[39mstep()\n\u001b[1;32m      6\u001b[0m     optim\u001b[38;5;241m.\u001b[39mzero_grad()\n",
      "File \u001b[0;32m/srv/hays-lab/flash5/sanisetty3/miniconda3/envs/tgm3d/lib/python3.9/site-packages/torch/_tensor.py:522\u001b[0m, in \u001b[0;36mTensor.backward\u001b[0;34m(self, gradient, retain_graph, create_graph, inputs)\u001b[0m\n\u001b[1;32m    512\u001b[0m \u001b[38;5;28;01mif\u001b[39;00m has_torch_function_unary(\u001b[38;5;28mself\u001b[39m):\n\u001b[1;32m    513\u001b[0m     \u001b[38;5;28;01mreturn\u001b[39;00m handle_torch_function(\n\u001b[1;32m    514\u001b[0m         Tensor\u001b[38;5;241m.\u001b[39mbackward,\n\u001b[1;32m    515\u001b[0m         (\u001b[38;5;28mself\u001b[39m,),\n\u001b[0;32m   (...)\u001b[0m\n\u001b[1;32m    520\u001b[0m         inputs\u001b[38;5;241m=\u001b[39minputs,\n\u001b[1;32m    521\u001b[0m     )\n\u001b[0;32m--> 522\u001b[0m \u001b[43mtorch\u001b[49m\u001b[38;5;241;43m.\u001b[39;49m\u001b[43mautograd\u001b[49m\u001b[38;5;241;43m.\u001b[39;49m\u001b[43mbackward\u001b[49m\u001b[43m(\u001b[49m\n\u001b[1;32m    523\u001b[0m \u001b[43m    \u001b[49m\u001b[38;5;28;43mself\u001b[39;49m\u001b[43m,\u001b[49m\u001b[43m \u001b[49m\u001b[43mgradient\u001b[49m\u001b[43m,\u001b[49m\u001b[43m \u001b[49m\u001b[43mretain_graph\u001b[49m\u001b[43m,\u001b[49m\u001b[43m \u001b[49m\u001b[43mcreate_graph\u001b[49m\u001b[43m,\u001b[49m\u001b[43m \u001b[49m\u001b[43minputs\u001b[49m\u001b[38;5;241;43m=\u001b[39;49m\u001b[43minputs\u001b[49m\n\u001b[1;32m    524\u001b[0m \u001b[43m\u001b[49m\u001b[43m)\u001b[49m\n",
      "File \u001b[0;32m/srv/hays-lab/flash5/sanisetty3/miniconda3/envs/tgm3d/lib/python3.9/site-packages/torch/autograd/__init__.py:266\u001b[0m, in \u001b[0;36mbackward\u001b[0;34m(tensors, grad_tensors, retain_graph, create_graph, grad_variables, inputs)\u001b[0m\n\u001b[1;32m    261\u001b[0m     retain_graph \u001b[38;5;241m=\u001b[39m create_graph\n\u001b[1;32m    263\u001b[0m \u001b[38;5;66;03m# The reason we repeat the same comment below is that\u001b[39;00m\n\u001b[1;32m    264\u001b[0m \u001b[38;5;66;03m# some Python versions print out the first line of a multi-line function\u001b[39;00m\n\u001b[1;32m    265\u001b[0m \u001b[38;5;66;03m# calls in the traceback and some print out the last line\u001b[39;00m\n\u001b[0;32m--> 266\u001b[0m \u001b[43mVariable\u001b[49m\u001b[38;5;241;43m.\u001b[39;49m\u001b[43m_execution_engine\u001b[49m\u001b[38;5;241;43m.\u001b[39;49m\u001b[43mrun_backward\u001b[49m\u001b[43m(\u001b[49m\u001b[43m  \u001b[49m\u001b[38;5;66;43;03m# Calls into the C++ engine to run the backward pass\u001b[39;49;00m\n\u001b[1;32m    267\u001b[0m \u001b[43m    \u001b[49m\u001b[43mtensors\u001b[49m\u001b[43m,\u001b[49m\n\u001b[1;32m    268\u001b[0m \u001b[43m    \u001b[49m\u001b[43mgrad_tensors_\u001b[49m\u001b[43m,\u001b[49m\n\u001b[1;32m    269\u001b[0m \u001b[43m    \u001b[49m\u001b[43mretain_graph\u001b[49m\u001b[43m,\u001b[49m\n\u001b[1;32m    270\u001b[0m \u001b[43m    \u001b[49m\u001b[43mcreate_graph\u001b[49m\u001b[43m,\u001b[49m\n\u001b[1;32m    271\u001b[0m \u001b[43m    \u001b[49m\u001b[43minputs\u001b[49m\u001b[43m,\u001b[49m\n\u001b[1;32m    272\u001b[0m \u001b[43m    \u001b[49m\u001b[43mallow_unreachable\u001b[49m\u001b[38;5;241;43m=\u001b[39;49m\u001b[38;5;28;43;01mTrue\u001b[39;49;00m\u001b[43m,\u001b[49m\n\u001b[1;32m    273\u001b[0m \u001b[43m    \u001b[49m\u001b[43maccumulate_grad\u001b[49m\u001b[38;5;241;43m=\u001b[39;49m\u001b[38;5;28;43;01mTrue\u001b[39;49;00m\u001b[43m,\u001b[49m\n\u001b[1;32m    274\u001b[0m \u001b[43m\u001b[49m\u001b[43m)\u001b[49m\n",
      "\u001b[0;31mKeyboardInterrupt\u001b[0m: "
     ]
    }
   ],
   "source": [
    "for _ in tqdm(range(20000)):\n",
    "    for inputs in (train_loader):\n",
    "        loss, pred_orient = traj2orient(inputs[\"motion\"])\n",
    "        loss.backward()\n",
    "        optim.step()\n",
    "        optim.zero_grad()\n",
    "\n",
    "    print(loss)\n",
    "\n",
    "    "
   ]
  },
  {
   "cell_type": "code",
   "execution_count": null,
   "id": "86818ca9-b5e2-4119-a474-26ec2f3092e8",
   "metadata": {},
   "outputs": [],
   "source": []
  },
  {
   "cell_type": "code",
   "execution_count": 101,
   "id": "76e272a9-72d8-44c1-a2e1-c74bc0d84fbf",
   "metadata": {
    "scrolled": true
   },
   "outputs": [],
   "source": [
    "loss, pred_orient = traj2orient(inputs[\"motion\"])\n",
    "# pred_rot = geometry.matrix_to_quaternion(geometry.rotation_6d_to_matrix(embed))"
   ]
  },
  {
   "cell_type": "code",
   "execution_count": null,
   "id": "a9c91468-9333-4b30-93b2-379f5b901fcc",
   "metadata": {},
   "outputs": [],
   "source": []
  },
  {
   "cell_type": "code",
   "execution_count": null,
   "id": "fd96a406-1211-4d27-81e1-ea079b4e22cf",
   "metadata": {},
   "outputs": [],
   "source": []
  },
  {
   "cell_type": "code",
   "execution_count": null,
   "id": "2b3d9b62-1114-446e-a529-727350113985",
   "metadata": {},
   "outputs": [],
   "source": [
    "Gama = np.zeros((len(Foot_contact), 5, 240))\n",
    "\n",
    "# Frequency and Step Duration\n",
    "for i in range(len(Foot_contact)):\n",
    "\n",
    "    # Compute Step Duration,Tau, for every four joints : Left heel,Left toe,Right heel,Right toe\n",
    "    Step_duration = np.zeros(np.shape(Foot_contact[i]))\n",
    "\n",
    "    for j in range(0, Foot_contact[i].shape[1]):\n",
    "        \n",
    "        #limit  calculation most recent frames\n",
    "        window = np.arange(max(j - 60, 0), min(j + 60, np.shape(Foot_contact[i])[1]))\n",
    "\n",
    "        # compute the ratio of foot joints are up to the ratio of frames foot joint are down\n",
    "        d = (Foot_contact[i, :, window] > 0).sum()  # count number of frames which Foot is on the floor\n",
    "        u = (Foot_contact[i, :, window] < 0).sum()  # count number of frames which Foot isn't on the floor\n",
    "        Step_duration[:, j] = ((np.pi * d) / (u + d))  # compute ratio\n",
    "        Tau = np.cos(((np.pi * d) / (u + d)))  # See section 6.3"
   ]
  },
  {
   "cell_type": "code",
   "execution_count": null,
   "id": "5ee20301-7d00-4855-95fb-0cd5c3b9f2d3",
   "metadata": {},
   "outputs": [],
   "source": []
  },
  {
   "cell_type": "code",
   "execution_count": 18,
   "id": "a009c7b4-64d3-4caf-b81d-217e8f5f262f",
   "metadata": {},
   "outputs": [],
   "source": [
    "r_rot, r_pos = trans_former.recover_root_rot_pos(inputs[\"motion\"][0])\n",
    "traj = r_pos[...,[0,2]]"
   ]
  },
  {
   "cell_type": "code",
   "execution_count": 44,
   "id": "6f908d4b-5509-441d-80a9-36505a426103",
   "metadata": {},
   "outputs": [],
   "source": []
  },
  {
   "cell_type": "code",
   "execution_count": 59,
   "id": "1d7ae008-ee88-481e-ae12-fa3f6e28d954",
   "metadata": {},
   "outputs": [],
   "source": [
    "class CausalConv1d(nn.Module):\n",
    "    def __init__(self, chan_in, chan_out, kernel_size, pad_mode = 'reflect', **kwargs):\n",
    "        super().__init__()\n",
    "        kernel_size = kernel_size\n",
    "        dilation = kwargs.get('dilation', 1)\n",
    "        stride = kwargs.get('stride', 1)\n",
    "        self.pad_mode = pad_mode\n",
    "        self.causal_padding = dilation * (kernel_size - 1) + (1 - stride)\n",
    "\n",
    "        self.conv = nn.Conv1d(chan_in, chan_out, kernel_size, **kwargs)\n",
    "\n",
    "    def forward(self, x):\n",
    "        x = F.pad(x, (self.causal_padding, 0), mode = self.pad_mode)\n",
    "        return self.conv(x)"
   ]
  },
  {
   "cell_type": "code",
   "execution_count": 61,
   "id": "c9446a45-21cc-48ca-9516-9134a13f0f11",
   "metadata": {},
   "outputs": [],
   "source": [
    "\n",
    "class ResidualUnit(nn.Module):\n",
    "    def __init__(self, chan_in, chan_out, dilation, kernel_size = 7, pad_mode = 'reflect'):\n",
    "        super().__init__()\n",
    "        self.net = nn.Sequential(\n",
    "        CausalConv1d(chan_in, chan_out, kernel_size, dilation = dilation, pad_mode = pad_mode),\n",
    "        nn.ELU(),\n",
    "        CausalConv1d(chan_out, chan_out, 1, pad_mode = pad_mode),\n",
    "        nn.ELU(),\n",
    "    )\n",
    "\n",
    "    def forward(self, x):\n",
    "        return self.net(x) + x"
   ]
  },
  {
   "cell_type": "code",
   "execution_count": null,
   "id": "f6ba285d-dd86-4099-ae02-44c5dc83fe9b",
   "metadata": {},
   "outputs": [],
   "source": []
  },
  {
   "cell_type": "code",
   "execution_count": 69,
   "id": "2fd26978-4198-4ac1-8e3e-0995c5be2596",
   "metadata": {},
   "outputs": [],
   "source": [
    "a = CausalConv1d(2,64,7)\n",
    "b= ResidualUnit(64,64,1 , 3)\n",
    "c = CausalConv1d(64,2,3)\n"
   ]
  },
  {
   "cell_type": "code",
   "execution_count": null,
   "id": "aac12377-cdc5-4dec-8872-22a641cacd9d",
   "metadata": {},
   "outputs": [],
   "source": []
  },
  {
   "cell_type": "code",
   "execution_count": 70,
   "id": "0d173c2a-23df-4342-b971-81978ac05443",
   "metadata": {},
   "outputs": [],
   "source": [
    "x = a(pos)\n",
    "x = b(x)\n",
    "x = c(x)"
   ]
  },
  {
   "cell_type": "code",
   "execution_count": 71,
   "id": "23be48ad-3495-47a6-bc93-389b5c56a72f",
   "metadata": {},
   "outputs": [
    {
     "data": {
      "text/plain": [
       "torch.Size([4, 2, 120])"
      ]
     },
     "execution_count": 71,
     "metadata": {},
     "output_type": "execute_result"
    }
   ],
   "source": [
    "x.shape"
   ]
  },
  {
   "cell_type": "code",
   "execution_count": 68,
   "id": "0a6836fd-d664-46c4-ac85-96c299c4704c",
   "metadata": {},
   "outputs": [],
   "source": [
    "\n",
    "# a = nn.Conv1d(2, 64, 5, 1, \"same\")\n",
    "# b = Resnet1D(64, 2, 3)\n",
    "# c = nn.Conv1d(64, 2, 3, 1, \"same\")\n",
    "\n",
    "\n"
   ]
  },
  {
   "cell_type": "code",
   "execution_count": 52,
   "id": "ec754df3-7e42-4fe2-b752-1f0f29e8ff43",
   "metadata": {},
   "outputs": [],
   "source": []
  },
  {
   "cell_type": "code",
   "execution_count": 53,
   "id": "3992e865-c0e0-4850-9b39-8ec7087d3bb7",
   "metadata": {},
   "outputs": [],
   "source": [
    "x = a(pos)\n",
    "x = b(x)\n",
    "x = c(x)"
   ]
  },
  {
   "cell_type": "code",
   "execution_count": 54,
   "id": "0095974d-f638-420f-b445-8534719d603f",
   "metadata": {},
   "outputs": [
    {
     "data": {
      "text/plain": [
       "torch.Size([4, 2, 120])"
      ]
     },
     "execution_count": 54,
     "metadata": {},
     "output_type": "execute_result"
    }
   ],
   "source": [
    "x.shape"
   ]
  },
  {
   "cell_type": "code",
   "execution_count": 19,
   "id": "8d2e4183-f417-4223-8573-31feb0cbbe77",
   "metadata": {},
   "outputs": [],
   "source": [
    "class Encoder(nn.Module):\n",
    "    def __init__(\n",
    "        self,\n",
    "        input_emb_width=2,\n",
    "        out_dim=2,\n",
    "        \n",
    "        width=None,\n",
    "        dilation_growth_rate=3,\n",
    "        activation=\"relu\",\n",
    "        norm=None,\n",
    "    ):\n",
    "        super().__init__()\n",
    "\n",
    "        blocks = []\n",
    "        # filter_t, pad_t = stride_t * 2, stride_t // 2\n",
    "        if width is None:\n",
    "            width = codebook_dim\n",
    "\n",
    "        blocks.append(nn.Conv1d(input_emb_width, width, 7, 1, 1))\n",
    "        blocks.append(nn.ReLU())\n",
    "        blocks.append(nn.Sequential(\n",
    "                nn.Conv1d(input_dim, width, filter_t, stride_t, pad_t),\n",
    "                Resnet1D(\n",
    "                    width, depth, dilation_growth_rate, activation=activation, norm=norm\n",
    "                ),\n",
    "            ))\n",
    "\n",
    "        \n",
    "        blocks.append(nn.Conv1d(width, out_dim, 3, 1, 1))\n",
    "        self.model = nn.Sequential(*blocks)\n",
    "\n",
    "    def forward(self, x):\n",
    "        return self.model(x)"
   ]
  },
  {
   "cell_type": "code",
   "execution_count": 80,
   "id": "6a37c1a6-293c-45ac-bf29-8fee3cec27d4",
   "metadata": {
    "scrolled": true
   },
   "outputs": [],
   "source": [
    "# r_rot[1]"
   ]
  },
  {
   "cell_type": "code",
   "execution_count": 81,
   "id": "45fe10c8-b77c-48fb-8a0d-7465f97e36d2",
   "metadata": {},
   "outputs": [],
   "source": [
    "# r_rot_pred[1]"
   ]
  },
  {
   "cell_type": "code",
   "execution_count": null,
   "id": "6160ec47-04f3-4aea-b5d2-863982cdce3a",
   "metadata": {
    "scrolled": true
   },
   "outputs": [],
   "source": []
  },
  {
   "cell_type": "code",
   "execution_count": 22,
   "id": "19d38691-a642-4650-9208-b64e41a82b7d",
   "metadata": {},
   "outputs": [
    {
     "name": "stderr",
     "output_type": "stream",
     "text": [
      "/srv/hays-lab/flash5/sanisetty3/miniconda3/envs/tgm3d/lib/python3.9/site-packages/torch/_tensor.py:945: RuntimeWarning: invalid value encountered in multiply\n",
      "  return self.reciprocal() * other\n"
     ]
    },
    {
     "data": {
      "image/png": "[encoded data removed]",
      "text/plain": [
       "<Figure size 800x600 with 1 Axes>"
      ]
     },
     "metadata": {},
     "output_type": "display_data"
    }
   ],
   "source": [
    "rp = r_pos[1 ,:30,[0,2]]\n",
    "rp[:,1] = -rp[:,1] \n",
    "visualize_orientations_2d(rp.cpu(), r_rot[1].cpu())"
   ]
  },
  {
   "cell_type": "code",
   "execution_count": 23,
   "id": "dbd7cdcb-314c-4747-ad35-a05197262dbb",
   "metadata": {},
   "outputs": [
    {
     "data": {
      "image/png": "[encoded data removed]",
      "text/plain": [
       "<Figure size 800x600 with 1 Axes>"
      ]
     },
     "metadata": {},
     "output_type": "display_data"
    }
   ],
   "source": [
    "# rp = r_pos[1 ,:30,[0,2]]\n",
    "# rp[:,1] = -rp[:,1] \n",
    "visualize_orientations_2d(rp.cpu(), r_rot_pred[1].cpu())"
   ]
  },
  {
   "cell_type": "code",
   "execution_count": null,
   "id": "13795ae5-b8a2-4277-94df-210fae34d481",
   "metadata": {},
   "outputs": [],
   "source": []
  },
  {
   "cell_type": "code",
   "execution_count": null,
   "id": "cca4630d-5d07-4dcf-8c1d-25a48a8fcc7a",
   "metadata": {},
   "outputs": [],
   "source": []
  },
  {
   "cell_type": "code",
   "execution_count": null,
   "id": "dfaa5bcc-a8ee-4ad8-a5e8-b6819ae5624a",
   "metadata": {},
   "outputs": [],
   "source": []
  },
  {
   "cell_type": "code",
   "execution_count": null,
   "id": "f91d446a-229f-4d45-8528-866ff79d8af6",
   "metadata": {},
   "outputs": [],
   "source": []
  },
  {
   "cell_type": "code",
   "execution_count": null,
   "id": "08a981dc-8000-469c-99d3-52ac12a0db03",
   "metadata": {},
   "outputs": [],
   "source": []
  },
  {
   "cell_type": "code",
   "execution_count": 82,
   "id": "4731f0d8-d2eb-4f42-b7da-609653f77d3a",
   "metadata": {},
   "outputs": [],
   "source": [
    "pose = torch.Tensor(np.load(\"/srv/hays-lab/scratch/sanisetty3/motionx/motion_data/smplx_322/idea400/subset_0056/Walking_And_Snapping_At_The_Same_Time.npy\"))"
   ]
  },
  {
   "cell_type": "code",
   "execution_count": 30,
   "id": "9d8978e5-9729-4d7c-afb6-d983f4872f8d",
   "metadata": {},
   "outputs": [],
   "source": [
    "mot = np.load(\"/srv/hays-lab/scratch/sanisetty3/motionx/motion_data/new_joint_vecs/idea400/subset_0056/Walking_And_Snapping_At_The_Same_Time.npy\")"
   ]
  },
  {
   "cell_type": "code",
   "execution_count": 124,
   "id": "b18c450b-1dcd-4a6d-8f09-66b5fb7532d7",
   "metadata": {},
   "outputs": [],
   "source": []
  },
  {
   "cell_type": "code",
   "execution_count": 132,
   "id": "bb2963f2-6634-43a6-b279-b54cbc67f72d",
   "metadata": {},
   "outputs": [
    {
     "data": {
      "text/plain": [
       "(239, 623)"
      ]
     },
     "execution_count": 132,
     "metadata": {},
     "output_type": "execute_result"
    }
   ],
   "source": [
    "mot.shape"
   ]
  },
  {
   "cell_type": "code",
   "execution_count": 133,
   "id": "4f787c8e-f4e1-4f62-8166-43190d36d5ff",
   "metadata": {},
   "outputs": [
    {
     "data": {
      "text/plain": [
       "236"
      ]
     },
     "execution_count": 133,
     "metadata": {},
     "output_type": "execute_result"
    }
   ],
   "source": [
    "59*4"
   ]
  },
  {
   "cell_type": "code",
   "execution_count": 134,
   "id": "22c96725-8cc2-4b5a-b59b-566ef6a0af42",
   "metadata": {},
   "outputs": [],
   "source": []
  },
  {
   "cell_type": "code",
   "execution_count": 135,
   "id": "b58c02d8-ae6a-4f59-a745-fd1f42e0cb40",
   "metadata": {},
   "outputs": [],
   "source": [
    "# trans = pose[:, 309 : 309 + 3]\n",
    "# root_pos_init = trans[0]\n",
    "# root_pose_init_xz = root_pos_init * np.array([1, 0, 1])\n",
    "# trans = trans - root_pose_init_xz\n",
    "# root_orient=pose[:, :3]\n",
    "# rq = geometry.axis_angle_to_quaternion(root_orient)"
   ]
  },
  {
   "cell_type": "code",
   "execution_count": 136,
   "id": "8faf89c5-eeb0-463e-8668-277855023b50",
   "metadata": {},
   "outputs": [],
   "source": []
  },
  {
   "cell_type": "code",
   "execution_count": 137,
   "id": "9048246e-b97b-4a54-acaa-993c126d35ce",
   "metadata": {
    "scrolled": true
   },
   "outputs": [
    {
     "data": {
      "text/plain": [
       "torch.Size([236, 4])"
      ]
     },
     "execution_count": 137,
     "metadata": {},
     "output_type": "execute_result"
    }
   ],
   "source": [
    "r_rot_quat.shape"
   ]
  },
  {
   "cell_type": "code",
   "execution_count": null,
   "id": "dfc5708c-5550-42a6-8fd1-3a9f80a107a4",
   "metadata": {
    "scrolled": true
   },
   "outputs": [],
   "source": []
  },
  {
   "cell_type": "code",
   "execution_count": 68,
   "id": "9e1ac226-9a3e-4ca3-bbc3-37879f3670ab",
   "metadata": {},
   "outputs": [],
   "source": [
    "from core.models.resnetVQ.encdec import Encoder, Decoder\n",
    "from core.models.generation.translation_transformer import TranslationTransformer, TransformerBlock\n",
    "from core.models.positional_embeddings import ScaledSinusoidalEmbedding\n",
    "from core import (\n",
    "    PositionalEmbeddingParams,\n",
    "    \n",
    ")"
   ]
  },
  {
   "cell_type": "code",
   "execution_count": null,
   "id": "f24688e9-3154-4bf2-9471-3167d1aad977",
   "metadata": {},
   "outputs": [],
   "source": []
  },
  {
   "cell_type": "code",
   "execution_count": 69,
   "id": "db44622d-21b1-4430-9a14-c353bbf33c4f",
   "metadata": {},
   "outputs": [],
   "source": [
    "transformer = TransformerBlock(512 , depth=2)\n",
    "pos_emb = ScaledSinusoidalEmbedding(\n",
    "            PositionalEmbeddingParams(dim=512)\n",
    "        )"
   ]
  },
  {
   "cell_type": "code",
   "execution_count": 73,
   "id": "525df3fd-23d6-48da-8809-c35fd89019d5",
   "metadata": {},
   "outputs": [],
   "source": [
    "enc = Encoder(2 , 512 , down_t = 2 , depth=1)\n",
    "dec = Decoder(6 , 512 , down_t = 2, depth=1)"
   ]
  },
  {
   "cell_type": "code",
   "execution_count": 74,
   "id": "95942700-e903-4faf-b5cf-edeca7c7405d",
   "metadata": {},
   "outputs": [
    {
     "data": {
      "text/plain": [
       "torch.Size([1, 2, 239])"
      ]
     },
     "execution_count": 74,
     "metadata": {},
     "output_type": "execute_result"
    }
   ],
   "source": []
  },
  {
   "cell_type": "code",
   "execution_count": 141,
   "id": "265ec803-49b9-40a8-a931-824d13192681",
   "metadata": {},
   "outputs": [],
   "source": [
    "r_rot_quat, r_pos = recover_root_rot_pos(torch.Tensor(mot)[:236])\n",
    "traj1 = r_pos[None , :, [0,2]].permute(0,2,1)"
   ]
  },
  {
   "cell_type": "code",
   "execution_count": null,
   "id": "09d5689e-be82-4fb1-8a7c-c9467a8ca916",
   "metadata": {},
   "outputs": [],
   "source": []
  },
  {
   "cell_type": "code",
   "execution_count": null,
   "id": "f4d9cdd8-300b-4a45-8df4-8354ee97486f",
   "metadata": {},
   "outputs": [],
   "source": []
  },
  {
   "cell_type": "code",
   "execution_count": 142,
   "id": "46e8e236-c21b-48a5-8461-8897c4e0fc0f",
   "metadata": {},
   "outputs": [],
   "source": [
    "x = enc(traj1)\n",
    "x = x.permute(0,2,1)\n",
    "x = x + pos_emb(x)\n",
    "x = transformer(x = x, context = x)\n",
    "x = x.permute(0,2,1)\n",
    "x = dec(x)\n",
    "x = x.permute(0,2,1)"
   ]
  },
  {
   "cell_type": "code",
   "execution_count": 143,
   "id": "5e281516-b9cf-463b-b232-591328e617db",
   "metadata": {},
   "outputs": [
    {
     "data": {
      "text/plain": [
       "torch.Size([1, 236, 6])"
      ]
     },
     "execution_count": 143,
     "metadata": {},
     "output_type": "execute_result"
    }
   ],
   "source": [
    "x.shape"
   ]
  },
  {
   "cell_type": "code",
   "execution_count": null,
   "id": "138136bc-6ba4-4e90-a2f0-2fb95558b8a6",
   "metadata": {},
   "outputs": [],
   "source": []
  },
  {
   "cell_type": "code",
   "execution_count": null,
   "id": "76499379-4c95-4fe8-a615-975625eb355d",
   "metadata": {},
   "outputs": [],
   "source": []
  },
  {
   "cell_type": "code",
   "execution_count": null,
   "id": "171637e6-cc8d-4080-9886-da1472aecf4e",
   "metadata": {},
   "outputs": [],
   "source": []
  },
  {
   "cell_type": "markdown",
   "id": "a67e015a-e23f-49bd-bed5-4ed074937598",
   "metadata": {},
   "source": [
    "## TODO:\n",
    "\n",
    "Go from trans to root orient"
   ]
  },
  {
   "cell_type": "code",
   "execution_count": 84,
   "id": "b97bdc03-f916-4ad1-b33e-27c4b270c29d",
   "metadata": {},
   "outputs": [],
   "source": []
  },
  {
   "cell_type": "code",
   "execution_count": 56,
   "id": "d9f072cf-5930-40d5-9fd8-fd9921eaca07",
   "metadata": {},
   "outputs": [],
   "source": [
    "motions = inputs[\"motion\"][0].to(torch.long)\n",
    "gt_motion = bkn_to_motion(motions[1:2], train_ds.datasets[0])\n",
    "train_ds.datasets[0].render_hml(\n",
    "                    gt_motion,\n",
    "                    \"/srv/hays-lab/scratch/sanisetty3/music_motion/ATCMG/render/idea400_ztoe.gif\",\n",
    "    zero_trans=True,\n",
    "    zero_orient=True,\n",
    "    translation_external = trans_ext\n",
    "    \n",
    "                    \n",
    "                )"
   ]
  },
  {
   "cell_type": "code",
   "execution_count": 50,
   "id": "7e6beda5-045b-4b67-be1f-d4e8d534a68a",
   "metadata": {},
   "outputs": [],
   "source": [
    "pose = torch.Tensor(np.load(\"/srv/hays-lab/scratch/sanisetty3/motionx/motion_data/smplx_322/idea400/subset_0056/Walking_And_Snapping_At_The_Same_Time.npy\"))\n",
    "trans = pose[:, 309 : 309 + 3]\n",
    "root_orient=pose[:, :3]\n",
    "trans_ext = trans[:120,[0,2]]\n"
   ]
  },
  {
   "cell_type": "code",
   "execution_count": 54,
   "id": "fb214ba4-fb69-4c1b-b0f1-b409c0b63cb4",
   "metadata": {},
   "outputs": [],
   "source": [
    "trans_ext = torch.zeros((120 , 2))\n",
    "trans_ext[:,0] = torch.linspace(0,5 , 120)"
   ]
  },
  {
   "cell_type": "code",
   "execution_count": 51,
   "id": "ef5308bd-8c27-4003-9adc-eb51a6fc1143",
   "metadata": {},
   "outputs": [
    {
     "data": {
      "text/plain": [
       "[<matplotlib.lines.Line2D at 0x7fa81089f400>]"
      ]
     },
     "execution_count": 51,
     "metadata": {},
     "output_type": "execute_result"
    },
    {
     "data": {
      "image/png": "[encoded data removed]",
      "text/plain": [
       "<Figure size 400x400 with 1 Axes>"
      ]
     },
     "metadata": {},
     "output_type": "display_data"
    }
   ],
   "source": [
    "fig = plt.figure(figsize=(4,4))\n",
    "plt.plot(trans_ext[:,0].numpy(), trans_ext[:,1].numpy())\n"
   ]
  },
  {
   "cell_type": "code",
   "execution_count": 55,
   "id": "a4fd6f42-c4d3-4259-967b-94f655572158",
   "metadata": {},
   "outputs": [
    {
     "data": {
      "text/plain": [
       "[<matplotlib.lines.Line2D at 0x7fa7f4297c70>]"
      ]
     },
     "execution_count": 55,
     "metadata": {},
     "output_type": "execute_result"
    },
    {
     "data": {
      "image/png": "[encoded data removed]",
      "text/plain": [
       "<Figure size 400x400 with 1 Axes>"
      ]
     },
     "metadata": {},
     "output_type": "display_data"
    }
   ],
   "source": [
    "fig = plt.figure(figsize=(4,4))\n",
    "plt.plot(trans_ext[:,0].numpy(), trans_ext[:,1].numpy())\n"
   ]
  },
  {
   "cell_type": "code",
   "execution_count": null,
   "id": "4e3bf8ff-eadc-42d1-82bb-c874f5823adc",
   "metadata": {},
   "outputs": [],
   "source": []
  },
  {
   "cell_type": "code",
   "execution_count": null,
   "id": "d1e80915-5b78-4a90-9876-8efb46b77b3c",
   "metadata": {},
   "outputs": [],
   "source": []
  },
  {
   "cell_type": "code",
   "execution_count": null,
   "id": "4c419ec8-1dc4-4ba5-9479-6557ca621ffc",
   "metadata": {},
   "outputs": [],
   "source": []
  },
  {
   "cell_type": "code",
   "execution_count": null,
   "id": "4bf853ff-0759-4173-b5bc-6527e9604ab5",
   "metadata": {},
   "outputs": [],
   "source": []
  },
  {
   "cell_type": "code",
   "execution_count": 31,
   "id": "d1a5c674-1437-4f6f-a6d9-05f66a31f79c",
   "metadata": {},
   "outputs": [
    {
     "name": "stdout",
     "output_type": "stream",
     "text": [
      "nn attention took 1.8568298816680908 seconds\n"
     ]
    }
   ],
   "source": [
    "import time\n",
    "start = time.time()\n",
    "for i in range(100):\n",
    "    loss , logits = motion_gen(inputs[\"motion\"] , conditions, return_logits=True)\n",
    "end = time.time()\n",
    "print('nn attention took {} seconds'.format(end - start))"
   ]
  },
  {
   "cell_type": "code",
   "execution_count": null,
   "id": "1dab054b-a216-437f-9655-1af9f85b6eec",
   "metadata": {},
   "outputs": [],
   "source": [
    "input_mask = inputs[\"motion\"][1]\n",
    "motions_ids = inputs[\"motion\"][0].cuda()\n",
    "B, K, T = motions_ids.shape"
   ]
  },
  {
   "cell_type": "code",
   "execution_count": null,
   "id": "cbead25f-851b-4bf9-99bb-515a561128c8",
   "metadata": {},
   "outputs": [],
   "source": [
    "motions_ids.shape"
   ]
  },
  {
   "cell_type": "code",
   "execution_count": null,
   "id": "f2656e53-4be5-4fe2-9ef4-cafe9709b30e",
   "metadata": {},
   "outputs": [],
   "source": []
  },
  {
   "cell_type": "code",
   "execution_count": null,
   "id": "48acab27-b494-4432-9330-76f9cfe41d66",
   "metadata": {},
   "outputs": [],
   "source": []
  },
  {
   "cell_type": "code",
   "execution_count": null,
   "id": "b4991fb6-4d68-4949-bf24-691701ac87d0",
   "metadata": {},
   "outputs": [],
   "source": []
  },
  {
   "cell_type": "code",
   "execution_count": 109,
   "id": "e0717e4b-ecfb-4d7c-9492-43cc2369a1c6",
   "metadata": {},
   "outputs": [
    {
     "ename": "NameError",
     "evalue": "name 'bkn_to_motion' is not defined",
     "output_type": "error",
     "traceback": [
      "\u001b[0;31m---------------------------------------------------------------------------\u001b[0m",
      "\u001b[0;31mNameError\u001b[0m                                 Traceback (most recent call last)",
      "Cell \u001b[0;32mIn[109], line 1\u001b[0m\n\u001b[0;32m----> 1\u001b[0m gen_motion \u001b[38;5;241m=\u001b[39m \u001b[43mbkn_to_motion\u001b[49m(motions_ids, train_ds\u001b[38;5;241m.\u001b[39mdatasets[\u001b[38;5;241m0\u001b[39m])\n",
      "\u001b[0;31mNameError\u001b[0m: name 'bkn_to_motion' is not defined"
     ]
    }
   ],
   "source": [
    "gen_motion = bkn_to_motion(motions_ids, train_ds.datasets[0])"
   ]
  },
  {
   "cell_type": "code",
   "execution_count": null,
   "id": "2dbfebef-75f2-43f6-b4cf-9a789beb7444",
   "metadata": {},
   "outputs": [],
   "source": [
    "train_ds.datasets[0].render_hml(\n",
    "                    gt_motion[1].detach().squeeze().cpu(),\n",
    "                    \"/srv/hays-lab/scratch/sanisetty3/music_motion/ATCMG/render/gt_motion_recon.gif\"\n",
    "                )"
   ]
  },
  {
   "cell_type": "code",
   "execution_count": null,
   "id": "ae877a70-ff5b-4017-b1d4-6c14ca9954dc",
   "metadata": {},
   "outputs": [],
   "source": []
  },
  {
   "cell_type": "code",
   "execution_count": null,
   "id": "a078f5e0-bf5e-402b-bdbc-4c5faf49d67a",
   "metadata": {},
   "outputs": [],
   "source": []
  },
  {
   "cell_type": "code",
   "execution_count": 82,
   "id": "aad6759d-cc9e-4cf5-8ce0-2febecf98ebb",
   "metadata": {},
   "outputs": [],
   "source": [
    "raw_audio = \"/srv/hays-lab/scratch/sanisetty3/motionx/audio/wav/beat/1_wayne_0_1_1.wav\"\n",
    "raw_audio2 = \"/srv/hays-lab/scratch/sanisetty3/motionx/audio/wav/choreomaster/0071.wav\""
   ]
  },
  {
   "cell_type": "code",
   "execution_count": 83,
   "id": "29fe7835-0963-46fd-be17-2e6f2b4746d4",
   "metadata": {},
   "outputs": [],
   "source": [
    "_, conditions = condition_provider(raw_audio= raw_audio, raw_text=\"a person speaking\")\n",
    "_, neg_conditions = condition_provider(raw_text=\"\")"
   ]
  },
  {
   "cell_type": "code",
   "execution_count": null,
   "id": "d32a5e9c-4e38-4dfc-a5ad-b8ad05261a1d",
   "metadata": {},
   "outputs": [],
   "source": []
  },
  {
   "cell_type": "code",
   "execution_count": null,
   "id": "5bef09f0-5c75-4070-bb44-b23a7c9e967d",
   "metadata": {},
   "outputs": [],
   "source": []
  },
  {
   "cell_type": "code",
   "execution_count": 84,
   "id": "cdc13298-cfc9-447a-9789-e8d01a4d0f17",
   "metadata": {},
   "outputs": [
    {
     "name": "stderr",
     "output_type": "stream",
     "text": [
      "100%|██████████████████████████████████████████████████████████████████████████████████████████| 18/18 [00:00<00:00, 42.96it/s]\n"
     ]
    }
   ],
   "source": [
    "\n",
    "gen_ids = motion_gen.generate(conditions = conditions, neg_conditions = None, duration_s = 4, temperature = 0.2 ,timesteps=18, cond_scale = 3)\n"
   ]
  },
  {
   "cell_type": "code",
   "execution_count": null,
   "id": "89416158-cb39-46f4-90b2-3f42b64f7b1a",
   "metadata": {},
   "outputs": [],
   "source": []
  },
  {
   "cell_type": "code",
   "execution_count": 85,
   "id": "3dfd4fd3-dc60-494c-b2b9-00979d0bdfc4",
   "metadata": {},
   "outputs": [],
   "source": [
    "# _, conditions = condition_provider(raw_audio= raw_audio2)\n",
    "gen_motion = bkn_to_motion(gen_ids, train_ds.datasets[0])\n",
    "train_ds.datasets[0].render_hml(\n",
    "                    gen_motion,\n",
    "                    \"/srv/hays-lab/scratch/sanisetty3/music_motion/ATCMG/render/gen_novel.gif\"\n",
    "                )"
   ]
  },
  {
   "cell_type": "code",
   "execution_count": null,
   "id": "210bf6d9-5383-4309-b01b-1ca954ba0e1a",
   "metadata": {},
   "outputs": [],
   "source": []
  },
  {
   "cell_type": "code",
   "execution_count": null,
   "id": "19f94269-6b28-4446-b540-2d9a7daebdf7",
   "metadata": {},
   "outputs": [],
   "source": []
  },
  {
   "cell_type": "code",
   "execution_count": 13,
   "id": "7a589255-5ba8-4088-837d-cf91adbcd217",
   "metadata": {},
   "outputs": [],
   "source": [
    "from utils.motion_processing.quaternion import qinv, qrot, quaternion_to_cont6d\n",
    "import utils.rotation_conversions as geometry"
   ]
  },
  {
   "cell_type": "code",
   "execution_count": 33,
   "id": "bea848fa-52b7-4bfb-8b88-beaa57acc991",
   "metadata": {},
   "outputs": [],
   "source": [
    "mot = np.load(\"/srv/hays-lab/scratch/sanisetty3/motionx/motion_data/new_joint_vecs/idea400/subset_0056/Walking_And_Snapping_At_The_Same_Time.npy\")"
   ]
  },
  {
   "cell_type": "code",
   "execution_count": 67,
   "id": "9fa77d4b-75d3-4ce5-b5de-d64339e050de",
   "metadata": {},
   "outputs": [],
   "source": [
    "pose = torch.Tensor(np.load(\"/srv/hays-lab/scratch/sanisetty3/motionx/motion_data/smplx_322/idea400/subset_0056/Walking_And_Snapping_At_The_Same_Time.npy\"))"
   ]
  },
  {
   "cell_type": "code",
   "execution_count": 34,
   "id": "28e381ff-09fa-4955-90e0-8a22a1c520dc",
   "metadata": {},
   "outputs": [],
   "source": [
    "\n",
    "def recover_root_rot_pos(data):\n",
    "    rot_vel = data[..., 0]\n",
    "    r_rot_ang = torch.zeros_like(rot_vel).to(data.device)\n",
    "    \"\"\"Get Y-axis rotation from rotation velocity\"\"\"\n",
    "    r_rot_ang[..., 1:] = rot_vel[..., :-1]\n",
    "    r_rot_ang = torch.cumsum(r_rot_ang, dim=-1)\n",
    "\n",
    "    r_rot_quat = torch.zeros(data.shape[:-1] + (4,)).to(data.device)\n",
    "    r_rot_quat[..., 0] = torch.cos(r_rot_ang)\n",
    "    r_rot_quat[..., 2] = torch.sin(r_rot_ang)\n",
    "\n",
    "    r_pos = torch.zeros(data.shape[:-1] + (3,)).to(data.device)\n",
    "    data = data.to(torch.float)\n",
    "    r_pos[..., 1:, [0, 2]] = data[..., :-1, 1:3]\n",
    "    \"\"\"Add Y-axis rotation to root position\"\"\"\n",
    "    r_pos = qrot(qinv(r_rot_quat), r_pos)\n",
    "\n",
    "    r_pos = torch.cumsum(r_pos, dim=-2)\n",
    "\n",
    "    r_pos[..., 1] = data[..., 3]\n",
    "    return r_rot_quat, r_pos"
   ]
  },
  {
   "cell_type": "code",
   "execution_count": 35,
   "id": "a76ba0e8-a22b-4ea3-b41b-bdc13cd76ae5",
   "metadata": {},
   "outputs": [],
   "source": [
    "r_rot_quat, r_pos = recover_root_rot_pos(torch.Tensor(mot))"
   ]
  },
  {
   "cell_type": "code",
   "execution_count": null,
   "id": "b2c6a6e6-a301-4b3f-9934-c614811e4670",
   "metadata": {},
   "outputs": [],
   "source": []
  },
  {
   "cell_type": "code",
   "execution_count": 70,
   "id": "cf061dc9-7f7e-4f3e-b861-5fb578865346",
   "metadata": {},
   "outputs": [
    {
     "ename": "NameError",
     "evalue": "name 'geometry' is not defined",
     "output_type": "error",
     "traceback": [
      "\u001b[0;31m---------------------------------------------------------------------------\u001b[0m",
      "\u001b[0;31mNameError\u001b[0m                                 Traceback (most recent call last)",
      "Cell \u001b[0;32mIn[70], line 2\u001b[0m\n\u001b[1;32m      1\u001b[0m root_orient\u001b[38;5;241m=\u001b[39mpose[:, :\u001b[38;5;241m3\u001b[39m]\n\u001b[0;32m----> 2\u001b[0m rq \u001b[38;5;241m=\u001b[39m \u001b[43mgeometry\u001b[49m\u001b[38;5;241m.\u001b[39maxis_angle_to_quaternion(root_orient)\n",
      "\u001b[0;31mNameError\u001b[0m: name 'geometry' is not defined"
     ]
    }
   ],
   "source": [
    "root_orient=pose[:, :3]\n",
    "rq = geometry.axis_angle_to_quaternion(root_orient)"
   ]
  },
  {
   "cell_type": "code",
   "execution_count": null,
   "id": "d80b5527-ab0e-4def-807f-91d8718812ef",
   "metadata": {},
   "outputs": [],
   "source": []
  },
  {
   "cell_type": "code",
   "execution_count": 20,
   "id": "045b8528-f387-4bd2-93e5-2602608652b8",
   "metadata": {},
   "outputs": [],
   "source": [
    "rm = geometry.quaternion_to_matrix(r_rot_quat)"
   ]
  },
  {
   "cell_type": "code",
   "execution_count": 21,
   "id": "3ff27b47-a4a2-462b-a753-9215b89fdd9b",
   "metadata": {},
   "outputs": [],
   "source": [
    "points = r_pos[:,[0,2]]\n",
    "orientations = rm"
   ]
  },
  {
   "cell_type": "code",
   "execution_count": 36,
   "id": "5017fb24-8fe2-41a5-8db9-04bdde6b970d",
   "metadata": {},
   "outputs": [],
   "source": [
    "def quaternion_to_angle_axis(q):\n",
    "    \"\"\"\n",
    "    Convert quaternion to angle-axis representation.\n",
    "    \"\"\"\n",
    "    q0, q1, q2, q3 = q\n",
    "    angle = 2 * np.arccos(q0)\n",
    "    axis = np.array([q1, q2]) / np.sqrt(1 - q0**2)\n",
    "    return angle, axis\n",
    "\n",
    "def visualize_orientations_2d(points, orientations):\n",
    "    plt.figure(figsize=(8, 6))\n",
    "\n",
    "    # Plot points\n",
    "    plt.scatter(points[:, 0], points[:, 1], c='b', marker='o', label='Points')\n",
    "\n",
    "    # Plot orientation vectors\n",
    "    for i in range(len(points)):\n",
    "        origin = points[i]\n",
    "        orientation_quaternion = orientations[i]\n",
    "        angle, axis = quaternion_to_angle_axis(orientation_quaternion)\n",
    "        dx, dy = axis * angle\n",
    "        plt.quiver(*origin, dx, dy, scale=1, width = 0.004, color='r')\n",
    "\n",
    "    plt.xlabel('X')\n",
    "    plt.ylabel('Y')\n",
    "    plt.title('Orientation Visualization in 2D')\n",
    "    plt.legend()\n",
    "    plt.grid()\n",
    "    plt.axis('equal')\n",
    "    plt.show()"
   ]
  },
  {
   "cell_type": "code",
   "execution_count": 37,
   "id": "d5de1d59-ee3c-41ce-a74f-50e7f86f230a",
   "metadata": {},
   "outputs": [],
   "source": [
    "rp = r_pos[0:30,[0,2]]\n",
    "rp[:,1] = -rp[:,1] "
   ]
  },
  {
   "cell_type": "code",
   "execution_count": 38,
   "id": "0650d2ac-bf99-44b5-b412-175cb6aae7fb",
   "metadata": {},
   "outputs": [
    {
     "data": {
      "text/plain": [
       "torch.Size([239, 4])"
      ]
     },
     "execution_count": 38,
     "metadata": {},
     "output_type": "execute_result"
    }
   ],
   "source": [
    "r_rot_quat.shape"
   ]
  },
  {
   "cell_type": "code",
   "execution_count": 39,
   "id": "c4d1e3f5-1108-4477-be68-cb6327a34f18",
   "metadata": {},
   "outputs": [
    {
     "data": {
      "image/png": "[encoded data removed]",
      "text/plain": [
       "<Figure size 800x600 with 1 Axes>"
      ]
     },
     "metadata": {},
     "output_type": "display_data"
    }
   ],
   "source": [
    "visualize_orientations_2d(rp, r_rot_quat)"
   ]
  },
  {
   "cell_type": "code",
   "execution_count": 36,
   "id": "9e06dff6-871a-4323-9576-1a08b6a5b27b",
   "metadata": {},
   "outputs": [
    {
     "data": {
      "text/plain": [
       "[<matplotlib.lines.Line2D at 0x7f7bec1d6d90>]"
      ]
     },
     "execution_count": 36,
     "metadata": {},
     "output_type": "execute_result"
    },
    {
     "data": {
      "image/png": "[encoded data removed]",
      "text/plain": [
       "<Figure size 640x480 with 1 Axes>"
      ]
     },
     "metadata": {},
     "output_type": "display_data"
    }
   ],
   "source": [
    "plt.plot(r_pos[:,0] , -r_pos[:,2]) "
   ]
  },
  {
   "cell_type": "code",
   "execution_count": null,
   "id": "0bc25e9a-e123-4189-b0eb-35ea5debb3c6",
   "metadata": {},
   "outputs": [],
   "source": []
  },
  {
   "cell_type": "code",
   "execution_count": null,
   "id": "5a610042-31b6-4079-be9d-4fdbe30eff6f",
   "metadata": {},
   "outputs": [],
   "source": []
  },
  {
   "cell_type": "code",
   "execution_count": null,
   "id": "9498e505-8e95-4cbf-9417-b3debf947c7c",
   "metadata": {},
   "outputs": [],
   "source": []
  },
  {
   "cell_type": "code",
   "execution_count": null,
   "id": "8fbb2a74-aa3f-44bd-90db-3d75fbfb91e3",
   "metadata": {},
   "outputs": [],
   "source": []
  },
  {
   "cell_type": "markdown",
   "id": "0972d0f4-824d-44ec-ba57-ee8b807a19d0",
   "metadata": {
    "jp-MarkdownHeadingCollapsed": true
   },
   "source": [
    "### Length Estimator"
   ]
  },
  {
   "cell_type": "code",
   "execution_count": 7,
   "id": "38a02dfc-0cf6-420d-849b-f2be04ac772a",
   "metadata": {},
   "outputs": [],
   "source": [
    "\n",
    "class LengthEstimator(nn.Module):\n",
    "    def __init__(self, input_size, output_size):\n",
    "        super(LengthEstimator, self).__init__()\n",
    "        nd = 512\n",
    "        self.output = nn.Sequential(\n",
    "            nn.Linear(input_size, nd),\n",
    "            nn.LayerNorm(nd),\n",
    "            nn.LeakyReLU(0.2, inplace=True),\n",
    "            nn.Dropout(0.2),\n",
    "            nn.Linear(nd, nd // 2),\n",
    "            nn.LayerNorm(nd // 2),\n",
    "            nn.LeakyReLU(0.2, inplace=True),\n",
    "            nn.Dropout(0.2),\n",
    "            nn.Linear(nd // 2, nd // 4),\n",
    "            nn.LayerNorm(nd // 4),\n",
    "            nn.LeakyReLU(0.2, inplace=True),\n",
    "            nn.Linear(nd // 4, output_size),\n",
    "        )\n",
    "\n",
    "        self.output.apply(self.__init_weights)\n",
    "\n",
    "    def __init_weights(self, module):\n",
    "        if isinstance(module, (nn.Linear, nn.Embedding)):\n",
    "            module.weight.data.normal_(mean=0.0, std=0.02)\n",
    "            if isinstance(module, nn.Linear) and module.bias is not None:\n",
    "                module.bias.data.zero_()\n",
    "        elif isinstance(module, nn.LayerNorm):\n",
    "            module.bias.data.zero_()\n",
    "            module.weight.data.fill_(1.0)\n",
    "\n",
    "    def forward(self, text_emb):\n",
    "        return self.output(text_emb)"
   ]
  },
  {
   "cell_type": "code",
   "execution_count": 43,
   "id": "9ad16a30-0291-43e7-a4e2-7b267d0fdfb5",
   "metadata": {},
   "outputs": [],
   "source": [
    "out_dir = \"/srv/hays-lab/scratch/sanisetty3/motionx/texts/semantic_labels_encoding/\""
   ]
  },
  {
   "cell_type": "code",
   "execution_count": 35,
   "id": "aa1eac93-49e7-4937-a232-89b507fb9367",
   "metadata": {},
   "outputs": [],
   "source": [
    "from core.datasets.text_encoders import ClipConditioner2\n",
    "import clip"
   ]
  },
  {
   "cell_type": "code",
   "execution_count": 36,
   "id": "5a8e8f2d-8115-47e1-9885-e5e134e2ba43",
   "metadata": {},
   "outputs": [],
   "source": [
    "clipL = ClipConditioner2()"
   ]
  },
  {
   "cell_type": "code",
   "execution_count": 41,
   "id": "f331d091-f0af-4ca8-a07c-bb23d4fe6291",
   "metadata": {},
   "outputs": [],
   "source": [
    "tk2 = clipL.tokenize([\"a man in a hat\"])\n",
    "with torch.no_grad():\n",
    "    embeds2, _= clipL.get_text_embedding(tk2)"
   ]
  },
  {
   "cell_type": "code",
   "execution_count": 42,
   "id": "2e30b910-fb9a-4d60-8652-0322d6111a1d",
   "metadata": {
    "scrolled": true
   },
   "outputs": [
    {
     "data": {
      "text/plain": [
       "torch.Size([1, 1, 768])"
      ]
     },
     "execution_count": 42,
     "metadata": {},
     "output_type": "execute_result"
    }
   ],
   "source": [
    "embeds2.shape"
   ]
  },
  {
   "cell_type": "code",
   "execution_count": null,
   "id": "6b0ad459-d191-4a9b-86e4-f8ad051132d9",
   "metadata": {
    "scrolled": true
   },
   "outputs": [],
   "source": []
  },
  {
   "cell_type": "code",
   "execution_count": 39,
   "id": "2aa14aaa-bf81-4e08-a6cd-b224e116f5b2",
   "metadata": {},
   "outputs": [
    {
     "data": {
      "text/plain": [
       "torch.Size([1, 768])"
      ]
     },
     "execution_count": 39,
     "metadata": {},
     "output_type": "execute_result"
    }
   ],
   "source": [
    "embeds.shape"
   ]
  },
  {
   "cell_type": "markdown",
   "id": "96faa279-cd67-4942-9f85-b1a3ed8bf2b1",
   "metadata": {},
   "source": [
    "## Motionx Cleanup"
   ]
  },
  {
   "cell_type": "code",
   "execution_count": 5,
   "id": "4804a438-8ee0-4cec-b595-240035a9bc44",
   "metadata": {},
   "outputs": [],
   "source": [
    "from glob import glob\n",
    "import random"
   ]
  },
  {
   "cell_type": "code",
   "execution_count": 6,
   "id": "864117d7-4304-4008-8bba-a7774192efd6",
   "metadata": {},
   "outputs": [],
   "source": [
    "aist = sorted(findAllFile(\"/srv/hays-lab/scratch/sanisetty3/motionx/texts/semantic_labels/aist/subset_0000/\"))"
   ]
  },
  {
   "cell_type": "code",
   "execution_count": 7,
   "id": "7227081d-22e8-455c-9c12-14fdf46322e4",
   "metadata": {},
   "outputs": [
    {
     "data": {
      "text/plain": [
       "'/srv/hays-lab/scratch/sanisetty3/motionx/texts/semantic_labels/aist/subset_0000/Dance_Break.txt'"
      ]
     },
     "execution_count": 7,
     "metadata": {},
     "output_type": "execute_result"
    }
   ],
   "source": [
    "aist[0]"
   ]
  },
  {
   "cell_type": "code",
   "execution_count": 22,
   "id": "00163fb8-e697-43c7-83b2-e82d0489ffcd",
   "metadata": {
    "scrolled": true
   },
   "outputs": [],
   "source": [
    "a = (sorted(glob(\"/srv/hays-lab/scratch/sanisetty3/music_motion/HumanMotion/AIST/texts/gBR*\")))"
   ]
  },
  {
   "cell_type": "code",
   "execution_count": 25,
   "id": "281bee39-12d1-42ee-b1ba-b523746c0f14",
   "metadata": {},
   "outputs": [
    {
     "data": {
      "text/plain": [
       "'/srv/hays-lab/scratch/sanisetty3/music_motion/HumanMotion/AIST/texts/gBR_sBM_cAll_d04_mBR0'"
      ]
     },
     "execution_count": 25,
     "metadata": {},
     "output_type": "execute_result"
    }
   ],
   "source": [
    "a[0]"
   ]
  },
  {
   "cell_type": "code",
   "execution_count": 28,
   "id": "3309a97d-411e-456f-82f0-3e4b0d11ef97",
   "metadata": {},
   "outputs": [],
   "source": [
    "seen = set()\n",
    "_ = [x for x in a if not ((prefix := x.rsplit(\"_\" , 1)[0]) in seen or seen.add(prefix))]\n"
   ]
  },
  {
   "cell_type": "code",
   "execution_count": 80,
   "id": "61ccfca9-115e-44a3-a3a6-2a17f36a28aa",
   "metadata": {},
   "outputs": [],
   "source": [
    "from glob import glob\n",
    "\n",
    "aa = (sorted(glob(\"/srv/hays-lab/scratch/sanisetty3/motionx/texts/semantic_labels/aist/*/*\")))\n",
    "seen2 = [mx.replace(\"texts/semantic_labels\" , \"motion_data/new_joint_vecs\").replace(\"txt\" , \"npy\") for mx in aa if \"clip\" not in mx ]\n"
   ]
  },
  {
   "cell_type": "code",
   "execution_count": 82,
   "id": "cdf48cef-139a-4c80-ba54-81183db1794a",
   "metadata": {
    "scrolled": true
   },
   "outputs": [
    {
     "data": {
      "text/plain": [
       "['/srv/hays-lab/scratch/sanisetty3/motionx/motion_data/new_joint_vecs/aist/subset_0000/Dance_Break.npy',\n",
       " '/srv/hays-lab/scratch/sanisetty3/motionx/motion_data/new_joint_vecs/aist/subset_0000/Dance_Break_3_Step.npy',\n",
       " '/srv/hays-lab/scratch/sanisetty3/motionx/motion_data/new_joint_vecs/aist/subset_0000/Dance_Break_6_Step.npy',\n",
       " '/srv/hays-lab/scratch/sanisetty3/motionx/motion_data/new_joint_vecs/aist/subset_0000/Dance_Break_Back_Cc.npy',\n",
       " '/srv/hays-lab/scratch/sanisetty3/motionx/motion_data/new_joint_vecs/aist/subset_0000/Dance_Break_Battle_Rock.npy',\n",
       " '/srv/hays-lab/scratch/sanisetty3/motionx/motion_data/new_joint_vecs/aist/subset_0000/Dance_Break_Cc.npy',\n",
       " '/srv/hays-lab/scratch/sanisetty3/motionx/motion_data/new_joint_vecs/aist/subset_0000/Dance_Break_Indian_Step.npy',\n",
       " '/srv/hays-lab/scratch/sanisetty3/motionx/motion_data/new_joint_vecs/aist/subset_0000/Dance_Break_Roll_Two_Step.npy',\n",
       " '/srv/hays-lab/scratch/sanisetty3/motionx/motion_data/new_joint_vecs/aist/subset_0000/Dance_Break_Twist.npy',\n",
       " '/srv/hays-lab/scratch/sanisetty3/motionx/motion_data/new_joint_vecs/aist/subset_0000/Dance_Break_Two_Step.npy',\n",
       " '/srv/hays-lab/scratch/sanisetty3/motionx/motion_data/new_joint_vecs/aist/subset_0000/Dance_Break_Up_Rock.npy',\n",
       " '/srv/hays-lab/scratch/sanisetty3/motionx/motion_data/new_joint_vecs/aist/subset_0001/Dance_Ballet_Jazz_Chaines.npy',\n",
       " '/srv/hays-lab/scratch/sanisetty3/motionx/motion_data/new_joint_vecs/aist/subset_0001/Dance_Ballet_Jazz_Fouette.npy',\n",
       " '/srv/hays-lab/scratch/sanisetty3/motionx/motion_data/new_joint_vecs/aist/subset_0001/Dance_Ballet_Jazz_Paddbre.npy',\n",
       " '/srv/hays-lab/scratch/sanisetty3/motionx/motion_data/new_joint_vecs/aist/subset_0001/Dance_Ballet_Jazz_Pique.npy',\n",
       " '/srv/hays-lab/scratch/sanisetty3/motionx/motion_data/new_joint_vecs/aist/subset_0001/Dance_Break.npy',\n",
       " '/srv/hays-lab/scratch/sanisetty3/motionx/motion_data/new_joint_vecs/aist/subset_0001/Dance_House_Back_Skip.npy',\n",
       " '/srv/hays-lab/scratch/sanisetty3/motionx/motion_data/new_joint_vecs/aist/subset_0001/Dance_House_Chase.npy',\n",
       " '/srv/hays-lab/scratch/sanisetty3/motionx/motion_data/new_joint_vecs/aist/subset_0001/Dance_House_Farmer.npy',\n",
       " '/srv/hays-lab/scratch/sanisetty3/motionx/motion_data/new_joint_vecs/aist/subset_0001/Dance_House_Heel_Step.npy',\n",
       " '/srv/hays-lab/scratch/sanisetty3/motionx/motion_data/new_joint_vecs/aist/subset_0001/Dance_House_Loose_Legs.npy',\n",
       " '/srv/hays-lab/scratch/sanisetty3/motionx/motion_data/new_joint_vecs/aist/subset_0001/Dance_House_Paddbre.npy',\n",
       " '/srv/hays-lab/scratch/sanisetty3/motionx/motion_data/new_joint_vecs/aist/subset_0001/Dance_House_Shuffle.npy',\n",
       " '/srv/hays-lab/scratch/sanisetty3/motionx/motion_data/new_joint_vecs/aist/subset_0001/Dance_House_Side_Kick.npy',\n",
       " '/srv/hays-lab/scratch/sanisetty3/motionx/motion_data/new_joint_vecs/aist/subset_0001/Dance_House_Swirl.npy',\n",
       " '/srv/hays-lab/scratch/sanisetty3/motionx/motion_data/new_joint_vecs/aist/subset_0001/Dance_House_Train.npy',\n",
       " '/srv/hays-lab/scratch/sanisetty3/motionx/motion_data/new_joint_vecs/aist/subset_0002/Dance_Ballet_Jazz.npy',\n",
       " '/srv/hays-lab/scratch/sanisetty3/motionx/motion_data/new_joint_vecs/aist/subset_0002/Dance_Ballet_Jazz_Airplane.npy',\n",
       " '/srv/hays-lab/scratch/sanisetty3/motionx/motion_data/new_joint_vecs/aist/subset_0002/Dance_Ballet_Jazz_Chaines.npy',\n",
       " '/srv/hays-lab/scratch/sanisetty3/motionx/motion_data/new_joint_vecs/aist/subset_0002/Dance_Ballet_Jazz_Entrelace.npy',\n",
       " '/srv/hays-lab/scratch/sanisetty3/motionx/motion_data/new_joint_vecs/aist/subset_0002/Dance_Ballet_Jazz_Fouette.npy',\n",
       " '/srv/hays-lab/scratch/sanisetty3/motionx/motion_data/new_joint_vecs/aist/subset_0002/Dance_Ballet_Jazz_Grand_Jete.npy',\n",
       " '/srv/hays-lab/scratch/sanisetty3/motionx/motion_data/new_joint_vecs/aist/subset_0002/Dance_Ballet_Jazz_Grand_Pas_De_Chat.npy',\n",
       " '/srv/hays-lab/scratch/sanisetty3/motionx/motion_data/new_joint_vecs/aist/subset_0002/Dance_Ballet_Jazz_Paddbre.npy',\n",
       " '/srv/hays-lab/scratch/sanisetty3/motionx/motion_data/new_joint_vecs/aist/subset_0002/Dance_Ballet_Jazz_Pas_De_Chat.npy',\n",
       " '/srv/hays-lab/scratch/sanisetty3/motionx/motion_data/new_joint_vecs/aist/subset_0002/Dance_Ballet_Jazz_Passe.npy',\n",
       " '/srv/hays-lab/scratch/sanisetty3/motionx/motion_data/new_joint_vecs/aist/subset_0002/Dance_Ballet_Jazz_Pique.npy',\n",
       " '/srv/hays-lab/scratch/sanisetty3/motionx/motion_data/new_joint_vecs/aist/subset_0003/Dance_Ballet_Jazz.npy',\n",
       " '/srv/hays-lab/scratch/sanisetty3/motionx/motion_data/new_joint_vecs/aist/subset_0003/Dance_Street_Jazz_Chaines.npy',\n",
       " '/srv/hays-lab/scratch/sanisetty3/motionx/motion_data/new_joint_vecs/aist/subset_0003/Dance_Street_Jazz_Chasse.npy',\n",
       " '/srv/hays-lab/scratch/sanisetty3/motionx/motion_data/new_joint_vecs/aist/subset_0003/Dance_Street_Jazz_Contraction.npy',\n",
       " '/srv/hays-lab/scratch/sanisetty3/motionx/motion_data/new_joint_vecs/aist/subset_0003/Dance_Street_Jazz_Jump.npy',\n",
       " '/srv/hays-lab/scratch/sanisetty3/motionx/motion_data/new_joint_vecs/aist/subset_0003/Dance_Street_Jazz_Paddbre.npy',\n",
       " '/srv/hays-lab/scratch/sanisetty3/motionx/motion_data/new_joint_vecs/aist/subset_0003/Dance_Street_Jazz_Passe_Balance.npy',\n",
       " '/srv/hays-lab/scratch/sanisetty3/motionx/motion_data/new_joint_vecs/aist/subset_0003/Dance_Street_Jazz_Plie.npy',\n",
       " '/srv/hays-lab/scratch/sanisetty3/motionx/motion_data/new_joint_vecs/aist/subset_0003/Dance_Street_Jazz_Positions_Des_Bras.npy',\n",
       " '/srv/hays-lab/scratch/sanisetty3/motionx/motion_data/new_joint_vecs/aist/subset_0003/Dance_Street_Jazz_Positions_Des_Pieds.npy',\n",
       " '/srv/hays-lab/scratch/sanisetty3/motionx/motion_data/new_joint_vecs/aist/subset_0003/Dance_Street_Jazz_Tendu.npy',\n",
       " '/srv/hays-lab/scratch/sanisetty3/motionx/motion_data/new_joint_vecs/aist/subset_0004/Dance_Krump_Arm_Swing.npy',\n",
       " '/srv/hays-lab/scratch/sanisetty3/motionx/motion_data/new_joint_vecs/aist/subset_0004/Dance_Krump_Bang_Outs.npy',\n",
       " '/srv/hays-lab/scratch/sanisetty3/motionx/motion_data/new_joint_vecs/aist/subset_0004/Dance_Krump_Buck_Hop.npy',\n",
       " '/srv/hays-lab/scratch/sanisetty3/motionx/motion_data/new_joint_vecs/aist/subset_0004/Dance_Krump_Chest_Pops.npy',\n",
       " '/srv/hays-lab/scratch/sanisetty3/motionx/motion_data/new_joint_vecs/aist/subset_0004/Dance_Krump_Focus.npy',\n",
       " '/srv/hays-lab/scratch/sanisetty3/motionx/motion_data/new_joint_vecs/aist/subset_0004/Dance_Krump_Jabs.npy',\n",
       " '/srv/hays-lab/scratch/sanisetty3/motionx/motion_data/new_joint_vecs/aist/subset_0004/Dance_Krump_Kick_Back.npy',\n",
       " '/srv/hays-lab/scratch/sanisetty3/motionx/motion_data/new_joint_vecs/aist/subset_0004/Dance_Krump_Stomp.npy',\n",
       " '/srv/hays-lab/scratch/sanisetty3/motionx/motion_data/new_joint_vecs/aist/subset_0004/Dance_Krump_Tick.npy',\n",
       " '/srv/hays-lab/scratch/sanisetty3/motionx/motion_data/new_joint_vecs/aist/subset_0004/Dance_Krump_Whip.npy',\n",
       " '/srv/hays-lab/scratch/sanisetty3/motionx/motion_data/new_joint_vecs/aist/subset_0004/Dance_Street_Jazz.npy',\n",
       " '/srv/hays-lab/scratch/sanisetty3/motionx/motion_data/new_joint_vecs/aist/subset_0004/Dance_Street_Jazz_Chasse.npy',\n",
       " '/srv/hays-lab/scratch/sanisetty3/motionx/motion_data/new_joint_vecs/aist/subset_0004/Dance_Street_Jazz_Contraction.npy',\n",
       " '/srv/hays-lab/scratch/sanisetty3/motionx/motion_data/new_joint_vecs/aist/subset_0004/Dance_Street_Jazz_Jump.npy',\n",
       " '/srv/hays-lab/scratch/sanisetty3/motionx/motion_data/new_joint_vecs/aist/subset_0004/Dance_Street_Jazz_Paddbre.npy',\n",
       " '/srv/hays-lab/scratch/sanisetty3/motionx/motion_data/new_joint_vecs/aist/subset_0004/Dance_Street_Jazz_Plie.npy',\n",
       " '/srv/hays-lab/scratch/sanisetty3/motionx/motion_data/new_joint_vecs/aist/subset_0004/Dance_Street_Jazz_Positions_Des_Bras.npy',\n",
       " '/srv/hays-lab/scratch/sanisetty3/motionx/motion_data/new_joint_vecs/aist/subset_0004/Dance_Street_Jazz_Positions_Des_Pieds.npy',\n",
       " '/srv/hays-lab/scratch/sanisetty3/motionx/motion_data/new_joint_vecs/aist/subset_0008/Dance_Middle_Hip-hop.npy',\n",
       " '/srv/hays-lab/scratch/sanisetty3/motionx/motion_data/new_joint_vecs/aist/subset_0008/Dance_Middle_Hip-hop_Box.npy',\n",
       " '/srv/hays-lab/scratch/sanisetty3/motionx/motion_data/new_joint_vecs/aist/subset_0008/Dance_Middle_Hip-hop_Brooklyn.npy',\n",
       " '/srv/hays-lab/scratch/sanisetty3/motionx/motion_data/new_joint_vecs/aist/subset_0008/Dance_Middle_Hip-hop_Broolklyn_Bounce.npy',\n",
       " '/srv/hays-lab/scratch/sanisetty3/motionx/motion_data/new_joint_vecs/aist/subset_0008/Dance_Middle_Hip-hop_Club.npy',\n",
       " '/srv/hays-lab/scratch/sanisetty3/motionx/motion_data/new_joint_vecs/aist/subset_0008/Dance_Middle_Hip-hop_Popcorn.npy',\n",
       " '/srv/hays-lab/scratch/sanisetty3/motionx/motion_data/new_joint_vecs/aist/subset_0008/Dance_Middle_Hip-hop_Rock_The_Board.npy',\n",
       " '/srv/hays-lab/scratch/sanisetty3/motionx/motion_data/new_joint_vecs/aist/subset_0008/Dance_Middle_Hip-hop_Roger_Rabbit.npy',\n",
       " '/srv/hays-lab/scratch/sanisetty3/motionx/motion_data/new_joint_vecs/aist/subset_0008/Dance_Middle_Hip-hop_Running_Man.npy',\n",
       " '/srv/hays-lab/scratch/sanisetty3/motionx/motion_data/new_joint_vecs/aist/subset_0008/Dance_Middle_Hip-hop_Slide.npy',\n",
       " '/srv/hays-lab/scratch/sanisetty3/motionx/motion_data/new_joint_vecs/aist/subset_0008/Dance_Pop_Body_Wave.npy',\n",
       " '/srv/hays-lab/scratch/sanisetty3/motionx/motion_data/new_joint_vecs/aist/subset_0008/Dance_Pop_Flex.npy',\n",
       " '/srv/hays-lab/scratch/sanisetty3/motionx/motion_data/new_joint_vecs/aist/subset_0008/Dance_Pop_Fresno.npy',\n",
       " '/srv/hays-lab/scratch/sanisetty3/motionx/motion_data/new_joint_vecs/aist/subset_0008/Dance_Pop_Hand_Wave.npy',\n",
       " '/srv/hays-lab/scratch/sanisetty3/motionx/motion_data/new_joint_vecs/aist/subset_0008/Dance_Pop_Loft.npy',\n",
       " '/srv/hays-lab/scratch/sanisetty3/motionx/motion_data/new_joint_vecs/aist/subset_0008/Dance_Pop_Neck-o-flex.npy',\n",
       " '/srv/hays-lab/scratch/sanisetty3/motionx/motion_data/new_joint_vecs/aist/subset_0008/Dance_Pop_Old_Man.npy',\n",
       " '/srv/hays-lab/scratch/sanisetty3/motionx/motion_data/new_joint_vecs/aist/subset_0008/Dance_Pop_Roll.npy',\n",
       " '/srv/hays-lab/scratch/sanisetty3/motionx/motion_data/new_joint_vecs/aist/subset_0008/Dance_Pop_Walk.npy',\n",
       " '/srv/hays-lab/scratch/sanisetty3/motionx/motion_data/new_joint_vecs/aist/subset_0008/Dance_Pop_Walk_Out.npy',\n",
       " '/srv/hays-lab/scratch/sanisetty3/motionx/motion_data/new_joint_vecs/aist/subset_0009/Dance_Pop.npy',\n",
       " '/srv/hays-lab/scratch/sanisetty3/motionx/motion_data/new_joint_vecs/aist/subset_0009/Dance_Pop_Body_Wave.npy',\n",
       " '/srv/hays-lab/scratch/sanisetty3/motionx/motion_data/new_joint_vecs/aist/subset_0009/Dance_Pop_Flex.npy',\n",
       " '/srv/hays-lab/scratch/sanisetty3/motionx/motion_data/new_joint_vecs/aist/subset_0009/Dance_Pop_Fresno.npy',\n",
       " '/srv/hays-lab/scratch/sanisetty3/motionx/motion_data/new_joint_vecs/aist/subset_0009/Dance_Pop_Hand_Wave.npy',\n",
       " '/srv/hays-lab/scratch/sanisetty3/motionx/motion_data/new_joint_vecs/aist/subset_0009/Dance_Pop_Loft.npy',\n",
       " '/srv/hays-lab/scratch/sanisetty3/motionx/motion_data/new_joint_vecs/aist/subset_0009/Dance_Pop_Neck-o-flex.npy',\n",
       " '/srv/hays-lab/scratch/sanisetty3/motionx/motion_data/new_joint_vecs/aist/subset_0009/Dance_Pop_Old_Man.npy',\n",
       " '/srv/hays-lab/scratch/sanisetty3/motionx/motion_data/new_joint_vecs/aist/subset_0009/Dance_Pop_Roll.npy',\n",
       " '/srv/hays-lab/scratch/sanisetty3/motionx/motion_data/new_joint_vecs/aist/subset_0009/Dance_Pop_Walk.npy',\n",
       " '/srv/hays-lab/scratch/sanisetty3/motionx/motion_data/new_joint_vecs/aist/subset_0009/Dance_Pop_Walk_Out.npy']"
      ]
     },
     "execution_count": 82,
     "metadata": {},
     "output_type": "execute_result"
    }
   ],
   "source": [
    "seen2"
   ]
  },
  {
   "cell_type": "code",
   "execution_count": 89,
   "id": "70ae0ece-6822-4fad-9b2e-ff1926e0f8f0",
   "metadata": {},
   "outputs": [],
   "source": [
    "from core.datasets.base_dataset import BaseMotionDataset\n",
    "base_dset = BaseMotionDataset()"
   ]
  },
  {
   "cell_type": "code",
   "execution_count": 76,
   "id": "e6b9cc14-f65e-4400-a94a-30846381d20a",
   "metadata": {},
   "outputs": [],
   "source": []
  },
  {
   "cell_type": "code",
   "execution_count": 87,
   "id": "27bbeb66-7d4d-468c-ba87-eb847895cbd1",
   "metadata": {},
   "outputs": [
    {
     "name": "stderr",
     "output_type": "stream",
     "text": [
      "100%|██████████████████████████████████████████████████████████████████████████████████████████| 97/97 [34:00<00:00, 21.03s/it]\n"
     ]
    }
   ],
   "source": [
    "for pth in tqdm(seen2):\n",
    "    mot = np.load(pth)\n",
    "    \n",
    "    base_dset.render_hml(mot , save_path = f\"/srv/hays-lab/scratch/sanisetty3/music_motion/ATCMG/render/aist/{os.path.basename(pth).replace('npy' , 'gif')}\")"
   ]
  },
  {
   "cell_type": "code",
   "execution_count": 83,
   "id": "c605b555-2cff-4563-997e-0abd4e7c1174",
   "metadata": {},
   "outputs": [],
   "source": []
  },
  {
   "cell_type": "code",
   "execution_count": null,
   "id": "de3abbe2-68bd-4ede-a1fd-60bac709ca0b",
   "metadata": {},
   "outputs": [],
   "source": []
  },
  {
   "cell_type": "code",
   "execution_count": null,
   "id": "3c55eadd-3bef-4797-b518-8c3293c633ce",
   "metadata": {},
   "outputs": [],
   "source": []
  },
  {
   "cell_type": "code",
   "execution_count": 90,
   "id": "833935d4-7543-419e-adab-896bd860f6c8",
   "metadata": {},
   "outputs": [],
   "source": [
    "a = (sorted(glob(\"/srv/hays-lab/scratch/sanisetty3/motionx/texts/semantic_labels/aist/subset_0001/*\")))"
   ]
  },
  {
   "cell_type": "code",
   "execution_count": 100,
   "id": "6dbf47b7-ca9f-4a06-91db-750b445dae50",
   "metadata": {},
   "outputs": [],
   "source": []
  },
  {
   "cell_type": "code",
   "execution_count": null,
   "id": "1ee3ba94-c43d-4c80-8249-a2c20e130010",
   "metadata": {},
   "outputs": [],
   "source": []
  },
  {
   "cell_type": "code",
   "execution_count": null,
   "id": "711991e1-88dc-4b7a-9ad5-ae3f8fc76238",
   "metadata": {},
   "outputs": [],
   "source": []
  },
  {
   "cell_type": "code",
   "execution_count": null,
   "id": "702f7b76-0e0c-4c71-b059-227a7d66fcd8",
   "metadata": {},
   "outputs": [],
   "source": []
  },
  {
   "cell_type": "code",
   "execution_count": 136,
   "id": "120b1550-df5b-45ad-b8df-7e60faa35280",
   "metadata": {},
   "outputs": [],
   "source": []
  },
  {
   "cell_type": "code",
   "execution_count": null,
   "id": "45deefd1-a2ad-4611-a3e8-e6f844418328",
   "metadata": {
    "scrolled": true
   },
   "outputs": [],
   "source": []
  },
  {
   "cell_type": "code",
   "execution_count": 269,
   "id": "6b9bccdb-eb9c-4026-9847-ce998b6e7ac7",
   "metadata": {},
   "outputs": [],
   "source": [
    "aa = (sorted(glob(\"/srv/hays-lab/scratch/sanisetty3/motionx/texts/semantic_labels/aist/subset_0004/*\")))\n",
    "seen2 = [os.path.basename(mx) for mx in aa if \"clip\" not in mx ]\n"
   ]
  },
  {
   "cell_type": "code",
   "execution_count": 270,
   "id": "6edefdce-29af-43d6-8a35-98400d42dfd3",
   "metadata": {},
   "outputs": [
    {
     "data": {
      "text/plain": [
       "['Dance_Krump_Arm_Swing.txt',\n",
       " 'Dance_Krump_Bang_Outs.txt',\n",
       " 'Dance_Krump_Buck_Hop.txt',\n",
       " 'Dance_Krump_Chest_Pops.txt',\n",
       " 'Dance_Krump_Focus.txt',\n",
       " 'Dance_Krump_Jabs.txt',\n",
       " 'Dance_Krump_Kick_Back.txt',\n",
       " 'Dance_Krump_Stomp.txt',\n",
       " 'Dance_Krump_Tick.txt',\n",
       " 'Dance_Krump_Whip.txt',\n",
       " 'Dance_Street_Jazz.txt',\n",
       " 'Dance_Street_Jazz_Chasse.txt',\n",
       " 'Dance_Street_Jazz_Contraction.txt',\n",
       " 'Dance_Street_Jazz_Jump.txt',\n",
       " 'Dance_Street_Jazz_Paddbre.txt',\n",
       " 'Dance_Street_Jazz_Plie.txt',\n",
       " 'Dance_Street_Jazz_Positions_Des_Bras.txt',\n",
       " 'Dance_Street_Jazz_Positions_Des_Pieds.txt']"
      ]
     },
     "execution_count": 270,
     "metadata": {},
     "output_type": "execute_result"
    }
   ],
   "source": [
    "seen2"
   ]
  },
  {
   "cell_type": "code",
   "execution_count": null,
   "id": "684a286f-3977-4945-8f63-2ae34eafe915",
   "metadata": {},
   "outputs": [],
   "source": []
  },
  {
   "cell_type": "code",
   "execution_count": 271,
   "id": "ca61facd-75ff-4427-aa61-6bf1d24f6b90",
   "metadata": {},
   "outputs": [
    {
     "name": "stdout",
     "output_type": "stream",
     "text": [
      "Dance_Krump_Arm_Swing.txt\n",
      "16\n"
     ]
    },
    {
     "data": {
      "text/plain": [
       "'/srv/hays-lab/scratch/sanisetty3/motionx/texts/semantic_labels/aist/subset_0004/Dance_Krump_Arm_Swing.txt'"
      ]
     },
     "execution_count": 271,
     "metadata": {},
     "output_type": "execute_result"
    }
   ],
   "source": [
    "dnce = seen2[0]\n",
    "print(dnce)\n",
    "aist1 = sorted(glob(f\"/srv/hays-lab/scratch/sanisetty3/motionx/texts/semantic_labels/aist/subset_0004/{dnce.split('.')[0]}*\"))\n",
    "print(len(aist1))\n",
    "aist1[0]\n"
   ]
  },
  {
   "cell_type": "code",
   "execution_count": 272,
   "id": "a6441d71-addf-402f-83e3-c4e83fafa6a3",
   "metadata": {},
   "outputs": [
    {
     "name": "stdout",
     "output_type": "stream",
     "text": [
      "A person performs a Dance Krump Arm Swing."
     ]
    }
   ],
   "source": [
    "cat '/srv/hays-lab/scratch/sanisetty3/motionx/texts/semantic_labels/aist/subset_0004/Dance_Krump_Arm_Swing.txt'"
   ]
  },
  {
   "cell_type": "code",
   "execution_count": null,
   "id": "fd5c5ba9-ce64-447e-9b94-7d61bb3a020b",
   "metadata": {},
   "outputs": [],
   "source": []
  },
  {
   "cell_type": "code",
   "execution_count": 268,
   "id": "2722dff0-0a42-41b6-b59e-5f92205ec2e2",
   "metadata": {},
   "outputs": [
    {
     "name": "stderr",
     "output_type": "stream",
     "text": [
      " 20%|██████████████████▏                                                                        | 4/20 [00:00<00:00, 37.08it/s]"
     ]
    },
    {
     "name": "stdout",
     "output_type": "stream",
     "text": [
      "A woman performs a Dance Street Jazz Tendu\n",
      "A woman is performing a Dance Street Jazz Tendu.\n",
      "A woman performs a Street Jazz Tendu dance move.\n",
      "The person performs a dance move called Street Jazz Tendu.\n",
      "A woman is performing a Street Jazz Tendu dance.\n",
      "A woman is performing a Street Jazz Tendu dance move.\n",
      "A woman is performing the Dance Street Jazz Tendu.\n",
      "The dancer performs the Street Jazz Tendu step.\n",
      "The guy is dancing a Street Jazz Tendu.\n"
     ]
    },
    {
     "name": "stderr",
     "output_type": "stream",
     "text": [
      " 75%|███████████████████████████████████████████████████████████████████▌                      | 15/20 [00:00<00:00, 47.59it/s]"
     ]
    },
    {
     "name": "stdout",
     "output_type": "stream",
     "text": [
      "A woman performs a Dance Street Jazz Tendu.\n",
      "A woman is performing a Dance Street Jazz Tendu.\n",
      "Someone is dancing a Street Jazz Tendu.\n",
      "A woman is performing a Street Jazz Tendu dance move.\n",
      "A woman performs a Street Jazz Tendu dance.\n",
      "A woman is doing the Street Jazz Tendu dance.\n",
      "The woman performs the Dance Street Jazz Tendu.\n",
      "A woman performs a Street Jazz Tendu dance move.\n",
      "Someone is performing the Dance Street Jazz Tendu.\n",
      "A woman is performing a Street Jazz Tendu dance move.\n",
      "A boy is performing a Street Jazz Tendu dance move.\n"
     ]
    },
    {
     "name": "stderr",
     "output_type": "stream",
     "text": [
      "100%|██████████████████████████████████████████████████████████████████████████████████████████| 20/20 [00:00<00:00, 46.94it/s]\n"
     ]
    }
   ],
   "source": [
    "mod = [\"doing Street Jazz dancing with ballet Tendu steps.\" , \\\n",
    "       \"performing a Street Jazz dance with the leg is extended to the front, side, or rear.\" , ]\n",
    "for pth in tqdm(aist1):\n",
    "    with open(pth , \"r+\") as f:\n",
    "        line = str(f.readline())\n",
    "        f.seek(0)\n",
    "        print(line)\n",
    "        if \"group\" in line.lower():\n",
    "            line = \"People are \" + random.choice(mod)\n",
    "        elif \"woman\" in line.lower() or \"girl\" in line.lower():\n",
    "            line = \"A women is \" + random.choice(mod)\n",
    "        elif \"man\" in line.lower() or \"guy\" in line.lower() or \"boy\" in line.lower():\n",
    "            line = \"A man is \" + random.choice(mod)\n",
    "        elif \"person\" in line.lower():\n",
    "            line = \"Someone is \" + random.choice(mod)\n",
    "        else:\n",
    "            line = \"A dancer is \" + random.choice(mod)\n",
    "    \n",
    "        f.write(line)\n",
    "        f.truncate()\n",
    "        f.close()\n",
    "\n",
    "    \n"
   ]
  },
  {
   "cell_type": "code",
   "execution_count": null,
   "id": "ed26ffb1-73cc-45ea-b006-1b45aa693717",
   "metadata": {},
   "outputs": [],
   "source": []
  },
  {
   "cell_type": "code",
   "execution_count": null,
   "id": "4b776c07-8cb8-44c0-b07b-f9cf64330786",
   "metadata": {},
   "outputs": [],
   "source": []
  },
  {
   "cell_type": "code",
   "execution_count": null,
   "id": "3f601b75-d429-4f43-96c4-21830a016170",
   "metadata": {},
   "outputs": [],
   "source": []
  },
  {
   "cell_type": "code",
   "execution_count": null,
   "id": "da7814e9-c79f-40d0-87d9-5a6a113be743",
   "metadata": {},
   "outputs": [],
   "source": []
  },
  {
   "cell_type": "code",
   "execution_count": null,
   "id": "0108f372-3213-499b-9b25-b051f5eebc87",
   "metadata": {},
   "outputs": [],
   "source": []
  },
  {
   "cell_type": "markdown",
   "id": "88a8e7ed-a9d6-4fb5-a45a-187c48ce1f72",
   "metadata": {
    "jp-MarkdownHeadingCollapsed": true
   },
   "source": [
    "## Streaming transformer"
   ]
  },
  {
   "cell_type": "code",
   "execution_count": null,
   "id": "7f1e61c8-9de6-4062-a444-aa0c41b2700f",
   "metadata": {},
   "outputs": [],
   "source": [
    "\n",
    "from core.param_dataclasses import pattern_providers\n",
    "from core.datasets.multimodal_dataset import MotionIndicesAudioTextDataset, load_dataset_gen, simple_collate\n",
    "from core.models.utils import instantiate_from_config, get_obj_from_str\n"
   ]
  },
  {
   "cell_type": "code",
   "execution_count": null,
   "id": "7c76b02d-2c79-45aa-a014-dd65ec93cbf2",
   "metadata": {},
   "outputs": [],
   "source": [
    "from core import MotionRep, AudioRep, TextRep\n",
    "from core.datasets.conditioner import ConditionProvider,ConditionFuserStreamer\n",
    "from core.models.generation.lm import LMModel, MotionGen\n",
    "import einops"
   ]
  },
  {
   "cell_type": "code",
   "execution_count": null,
   "id": "eb6d9572-d125-45c7-9892-9383fefc386f",
   "metadata": {},
   "outputs": [],
   "source": []
  },
  {
   "cell_type": "code",
   "execution_count": null,
   "id": "3dec2ab9-311e-46a7-ae4c-262399be4c46",
   "metadata": {},
   "outputs": [],
   "source": [
    "gen_cfg = strm_get_cfg_defaults()\n",
    "gen_cfg.merge_from_file(\"/srv/hays-lab/scratch/sanisetty3/music_motion/ATCMG/checkpoints/motion_streaming/motion_streaming.yaml\")\n",
    "gen_cfg.freeze()"
   ]
  },
  {
   "cell_type": "code",
   "execution_count": null,
   "id": "c3e7b5a3-d60d-4902-8e47-83797a5ed0ec",
   "metadata": {},
   "outputs": [],
   "source": [
    "lm_args = gen_cfg.transformer_lm\n",
    "target = lm_args.pop(\"target\")\n",
    "fuse_config = gen_cfg.fuser\n",
    "pattern_args = gen_cfg.codebooks_pattern\n",
    "dataset_args = gen_cfg.dataset"
   ]
  },
  {
   "cell_type": "code",
   "execution_count": null,
   "id": "00544a2c-cf08-4e84-a84a-8313866c9377",
   "metadata": {},
   "outputs": [],
   "source": [
    "model_gen= MotionGen(lm_args , fuse_config , pattern_args ).to(device)\n",
    "model_gen = model_gen.eval()"
   ]
  },
  {
   "cell_type": "code",
   "execution_count": null,
   "id": "bed1c75f-9eec-478b-8655-a031016e326a",
   "metadata": {},
   "outputs": [],
   "source": []
  },
  {
   "cell_type": "code",
   "execution_count": null,
   "id": "b3749c8e-0eca-48fd-ba1b-3046cb83b6ce",
   "metadata": {},
   "outputs": [],
   "source": [
    "modeling = pattern_args.pop(\"modeling\")\n",
    "pattern_provider = pattern_providers[modeling](lm_args.n_q, delays = pattern_args.delays , flatten_first = pattern_args.flatten_first , empty_initial = pattern_args.empty_initial )"
   ]
  },
  {
   "cell_type": "code",
   "execution_count": null,
   "id": "aabc42ef-4be4-4bd5-8618-6e6681e52706",
   "metadata": {},
   "outputs": [],
   "source": [
    "fuse_method = fuse_config.pop(\"fuse_method\")\n"
   ]
  },
  {
   "cell_type": "code",
   "execution_count": null,
   "id": "6604e8ba-0e24-4722-a13e-78409cd89b7c",
   "metadata": {},
   "outputs": [],
   "source": [
    "fuse_method = {'cross': ['text'], 'input_interpolate': ['audio']}"
   ]
  },
  {
   "cell_type": "code",
   "execution_count": null,
   "id": "33bb9d56-c713-404a-85e5-69c9b4b015a4",
   "metadata": {},
   "outputs": [],
   "source": [
    "if isinstance(fuse_method, list):\n",
    "    fuse_method = fuse_method[0]\n",
    "condition_fuser = ConditionFuserStreamer(fuse_method, **fuse_config)"
   ]
  },
  {
   "cell_type": "code",
   "execution_count": null,
   "id": "7e2a3f9f-3461-4c9d-bf4d-236287f1a6d4",
   "metadata": {},
   "outputs": [],
   "source": []
  },
  {
   "cell_type": "code",
   "execution_count": null,
   "id": "f861be10-8c39-4080-a103-855c3483316f",
   "metadata": {},
   "outputs": [],
   "source": [
    "model = LMModel(\n",
    "            pattern_provider=pattern_provider,\n",
    "            fuser=condition_fuser,\n",
    "            **lm_args\n",
    "        ).to(device)"
   ]
  },
  {
   "cell_type": "code",
   "execution_count": null,
   "id": "417a0493-4f58-478a-a699-02f62d0be73e",
   "metadata": {},
   "outputs": [],
   "source": []
  },
  {
   "cell_type": "code",
   "execution_count": null,
   "id": "c5a49bd9-1160-4181-8512-b6e4b3973a8d",
   "metadata": {},
   "outputs": [],
   "source": []
  },
  {
   "cell_type": "code",
   "execution_count": null,
   "id": "e3493b2d-800b-4c06-a117-c5a81b89ab73",
   "metadata": {},
   "outputs": [],
   "source": []
  },
  {
   "cell_type": "code",
   "execution_count": null,
   "id": "2b40dde6-abbd-41d5-82ec-2835fc4118e5",
   "metadata": {},
   "outputs": [],
   "source": [
    "condition_provider = ConditionProvider(\n",
    "            motion_rep=MotionRep(dataset_args.motion_rep),\n",
    "            audio_rep=AudioRep(dataset_args.audio_rep),\n",
    "            text_rep=TextRep(dataset_args.text_rep),\n",
    "            motion_padding=dataset_args.motion_padding,\n",
    "            audio_padding=dataset_args.audio_padding,\n",
    "            motion_max_length_s=10,\n",
    "            audio_max_length_s=10,\n",
    "            pad_id = model_gen.model.pad_token_id,\n",
    "            fps=30/4,\n",
    "            # device = \"cpu\"\n",
    "        )"
   ]
  },
  {
   "cell_type": "code",
   "execution_count": null,
   "id": "8dc8d1fa-a114-4d34-9deb-77f40e573f18",
   "metadata": {},
   "outputs": [],
   "source": [
    "from core.datasets.multimodal_dataset import MotionIndicesAudioTextDataset, load_dataset_gen, simple_collate\n",
    "# dset = MotionIndicesAudioTextDataset(\"beat\" , \"/srv/hays-lab/scratch/sanisetty3/motionx\" ,motion_rep = \"full\", split = \"render\" , fps = 30/4  )\n"
   ]
  },
  {
   "cell_type": "code",
   "execution_count": null,
   "id": "f678ef65-eb0b-4491-b383-3bc9af5a03ef",
   "metadata": {},
   "outputs": [],
   "source": [
    "train_ds, sampler_train, weights_train  = load_dataset_gen(dataset_names = [\"humanml\"] , dataset_args=dataset_args, split = \"test\")\n",
    "train_loader = torch.utils.data.DataLoader(\n",
    "        train_ds,\n",
    "        1,\n",
    "        # sampler=sampler_train,\n",
    "        # shuffle = False,\n",
    "        collate_fn=partial(simple_collate , conditioner = condition_provider , permute = True),\n",
    "        # drop_last=True,\n",
    "    )"
   ]
  },
  {
   "cell_type": "code",
   "execution_count": null,
   "id": "4cd33baa-e890-42a0-9f5e-2f470b5c9e13",
   "metadata": {},
   "outputs": [],
   "source": [
    "for inputs, conditions in train_loader:\n",
    "    break\n",
    "    "
   ]
  },
  {
   "cell_type": "code",
   "execution_count": null,
   "id": "6ab4620f-c0a6-4d5e-a075-1a097bc2a6bd",
   "metadata": {},
   "outputs": [],
   "source": [
    "train_ds.datasets[0].fps"
   ]
  },
  {
   "cell_type": "code",
   "execution_count": null,
   "id": "52109a38-0e3b-49a5-926b-3cbf7848f7b9",
   "metadata": {},
   "outputs": [],
   "source": []
  },
  {
   "cell_type": "code",
   "execution_count": null,
   "id": "41369c4f-4407-47a6-a9e2-bc0820798cc1",
   "metadata": {},
   "outputs": [],
   "source": []
  },
  {
   "cell_type": "code",
   "execution_count": null,
   "id": "fe674256-814a-44a7-8d56-bf6b243d2632",
   "metadata": {},
   "outputs": [],
   "source": [
    "for inputs, conditions in train_loader:\n",
    "    input_mask = inputs[\"motion\"][1]\n",
    "    motions_or_ids = inputs[\"motion\"][0]\n",
    "    if motions_or_ids.shape[-1] < 1: \n",
    "        print(input_mask.shape , motions_or_ids.shape )\n",
    "    "
   ]
  },
  {
   "cell_type": "code",
   "execution_count": null,
   "id": "05bc814c-aa4f-464e-9d76-471a18a2249e",
   "metadata": {},
   "outputs": [],
   "source": [
    "inputs[\"names\"]"
   ]
  },
  {
   "cell_type": "code",
   "execution_count": null,
   "id": "d2b78ff3-d6c7-423c-b991-8fdeb637d096",
   "metadata": {},
   "outputs": [],
   "source": []
  },
  {
   "cell_type": "code",
   "execution_count": null,
   "id": "8d3ae41f-e73e-4543-814f-a2ce73f0b415",
   "metadata": {},
   "outputs": [],
   "source": [
    "input_mask = inputs[\"motion\"][1]\n",
    "motions_or_ids = inputs[\"motion\"][0].cuda()\n",
    "B, K, T = motions_or_ids.shape"
   ]
  },
  {
   "cell_type": "code",
   "execution_count": null,
   "id": "cda20bc2-4cce-4928-adbb-e537934504e8",
   "metadata": {},
   "outputs": [],
   "source": [
    "motions = inputs[\"motion\"][0].squeeze().to(torch.long)\n",
    "motion_mask = inputs[\"motion\"][1]\n"
   ]
  },
  {
   "cell_type": "code",
   "execution_count": null,
   "id": "2e72a972-691e-4adb-9975-d9058cef37e2",
   "metadata": {},
   "outputs": [],
   "source": [
    "motions.shape"
   ]
  },
  {
   "cell_type": "code",
   "execution_count": null,
   "id": "65a619e0-8c14-4e64-acaa-de047244d59b",
   "metadata": {
    "scrolled": true
   },
   "outputs": [],
   "source": []
  },
  {
   "cell_type": "code",
   "execution_count": null,
   "id": "f33b546b-0225-4bf1-a579-af34eba142c0",
   "metadata": {},
   "outputs": [],
   "source": [
    "conditions[\"text\"][0].shape"
   ]
  },
  {
   "cell_type": "code",
   "execution_count": null,
   "id": "212a21a7-3d15-4cc8-8a51-e283c4edc36b",
   "metadata": {},
   "outputs": [],
   "source": [
    "conditions[\"audio\"][0].shape"
   ]
  },
  {
   "cell_type": "code",
   "execution_count": null,
   "id": "2d5f4c42-e0fb-4c14-88e6-c3b5998417c1",
   "metadata": {},
   "outputs": [],
   "source": [
    "conditions[\"audio\"][1]"
   ]
  },
  {
   "cell_type": "code",
   "execution_count": null,
   "id": "e16ea48a-12a1-4728-adfc-a8b9eaaa26f0",
   "metadata": {},
   "outputs": [],
   "source": []
  },
  {
   "cell_type": "code",
   "execution_count": null,
   "id": "2f0d8a60-d111-4f5b-8891-43893df1a558",
   "metadata": {},
   "outputs": [],
   "source": [
    "cond = conditions[\"audio\"][0]\n",
    "cond_mask = conditions[\"audio\"][1]\n",
    "cond = einops.rearrange(cond, \"b t d -> b d t\")\n",
    "cond = F.interpolate(cond, size=52)\n",
    "cond_mask = (\n",
    "    F.interpolate(\n",
    "        cond_mask.unsqueeze(1).to(torch.float),\n",
    "        size=52,\n",
    "    )\n",
    "    .squeeze(1)\n",
    "    .to(torch.bool)\n",
    ")"
   ]
  },
  {
   "cell_type": "code",
   "execution_count": null,
   "id": "d8cfdddd-0d8b-407e-a539-587692c88ea6",
   "metadata": {},
   "outputs": [],
   "source": []
  },
  {
   "cell_type": "code",
   "execution_count": null,
   "id": "0e1ae6d7-deb4-4e33-92ac-722d1dfd24ea",
   "metadata": {},
   "outputs": [],
   "source": []
  },
  {
   "cell_type": "code",
   "execution_count": null,
   "id": "c59afbaa-ec89-469c-9bc6-3ede8e91c6c9",
   "metadata": {},
   "outputs": [],
   "source": [
    "out = model_gen((motions, motion_mask), conditions)"
   ]
  },
  {
   "cell_type": "code",
   "execution_count": null,
   "id": "aab3354d-d97a-4921-a1bc-76a38edfec80",
   "metadata": {},
   "outputs": [],
   "source": []
  },
  {
   "cell_type": "code",
   "execution_count": null,
   "id": "bc6a4e90-37b9-453b-b7d9-7d1ca9fd9e4b",
   "metadata": {},
   "outputs": [],
   "source": []
  },
  {
   "cell_type": "code",
   "execution_count": null,
   "id": "71844ff0-ff1d-48d4-bac9-693e550e9a1d",
   "metadata": {},
   "outputs": [],
   "source": [
    "B , N , C = conditions[\"audio\"][0].shape"
   ]
  },
  {
   "cell_type": "code",
   "execution_count": null,
   "id": "11627b3c-0670-42d6-8cf7-339080aff996",
   "metadata": {},
   "outputs": [],
   "source": []
  },
  {
   "cell_type": "code",
   "execution_count": null,
   "id": "c5963313-f768-4695-b785-db59931e2451",
   "metadata": {},
   "outputs": [],
   "source": [
    "out = model.compute_predictions(inputs[\"motion\"] , conditions)"
   ]
  },
  {
   "cell_type": "code",
   "execution_count": null,
   "id": "716358b3-c74e-4c13-bf76-7856612b98cc",
   "metadata": {},
   "outputs": [],
   "source": []
  },
  {
   "cell_type": "code",
   "execution_count": null,
   "id": "13b3e160-dc04-412e-a0bc-2365e976cab1",
   "metadata": {},
   "outputs": [],
   "source": []
  },
  {
   "cell_type": "code",
   "execution_count": null,
   "id": "12f58033-d6e5-435f-9839-e0f2268c8292",
   "metadata": {},
   "outputs": [],
   "source": []
  },
  {
   "cell_type": "code",
   "execution_count": null,
   "id": "c38e5f84-95e6-45c6-b610-abd08cc6e9d6",
   "metadata": {},
   "outputs": [],
   "source": []
  },
  {
   "cell_type": "code",
   "execution_count": null,
   "id": "80ca3cc8-6c4a-4d17-910a-816df4dcdf08",
   "metadata": {},
   "outputs": [],
   "source": []
  },
  {
   "cell_type": "code",
   "execution_count": null,
   "id": "3f752773-ff68-4d72-84a2-a27a927d5bec",
   "metadata": {},
   "outputs": [],
   "source": []
  },
  {
   "cell_type": "code",
   "execution_count": null,
   "id": "d71bc5ef-1191-49b3-b4fc-2922d6e0578a",
   "metadata": {},
   "outputs": [],
   "source": [
    "audio_embed = model.project_audio(conditions[\"audio\"][0])\n",
    "text_embed = model.project_text(conditions[\"text\"][0])"
   ]
  },
  {
   "cell_type": "code",
   "execution_count": null,
   "id": "b770ec8b-fb3e-4501-b11f-2e6fca2db741",
   "metadata": {},
   "outputs": [],
   "source": [
    "audio_embed.shape"
   ]
  },
  {
   "cell_type": "code",
   "execution_count": null,
   "id": "13ffb358-c31e-48ac-a229-6bf2d976a712",
   "metadata": {},
   "outputs": [],
   "source": [
    "input_ = sum([model.emb[k](motions_or_ids[:, k]) for k in range(K)])"
   ]
  },
  {
   "cell_type": "code",
   "execution_count": null,
   "id": "5981829a-08da-4d6a-ac68-4c9d6ddb40cd",
   "metadata": {},
   "outputs": [],
   "source": [
    "motions.shape"
   ]
  },
  {
   "cell_type": "code",
   "execution_count": null,
   "id": "e04a5d55-dfb6-4635-a512-09636ab3c613",
   "metadata": {},
   "outputs": [],
   "source": []
  },
  {
   "cell_type": "code",
   "execution_count": null,
   "id": "83474047-5877-4996-aef8-2159b756ccb3",
   "metadata": {},
   "outputs": [],
   "source": []
  },
  {
   "cell_type": "code",
   "execution_count": null,
   "id": "aba86e5f-a77f-46df-80dd-49366cec791b",
   "metadata": {},
   "outputs": [],
   "source": []
  },
  {
   "cell_type": "code",
   "execution_count": null,
   "id": "f2ce92be-036b-4aa0-9024-4b90c4c8ca01",
   "metadata": {},
   "outputs": [],
   "source": []
  },
  {
   "cell_type": "code",
   "execution_count": null,
   "id": "b74f0d70-c2f3-4f7b-bbee-7e97aa6e04d6",
   "metadata": {},
   "outputs": [],
   "source": []
  },
  {
   "cell_type": "markdown",
   "id": "9b0a48f7-9970-454d-88d1-23fa31ae2af0",
   "metadata": {},
   "source": [
    "## VIusalise motions"
   ]
  },
  {
   "cell_type": "code",
   "execution_count": null,
   "id": "ea6f3a6d-60e0-40e7-898a-76d40432de5c",
   "metadata": {},
   "outputs": [],
   "source": [
    "def bkn_to_motion(codes, dset):\n",
    "        # codes b k n\n",
    "        body_inds = codes[:, 0]\n",
    "        left_inds = codes[:, 1]\n",
    "        right_inds = codes[:, 2]\n",
    "        body_motion = body_model.decode(body_inds[0:1]).detach().cpu()\n",
    "        left_motion = left_hand_model.decode(left_inds[0:1]).detach().cpu()\n",
    "        right_motion = right_hand_model.decode(right_inds[0:1]).detach().cpu()\n",
    "        body_M = dset.toMotion(\n",
    "            body_motion[0],\n",
    "            motion_rep=MotionRep(body_cfg.dataset.motion_rep),\n",
    "            hml_rep=body_cfg.dataset.hml_rep,\n",
    "        )\n",
    "        left_M = dset.toMotion(\n",
    "            left_motion[0],\n",
    "            motion_rep=MotionRep(left_cfg.dataset.motion_rep),\n",
    "            hml_rep=left_cfg.dataset.hml_rep,\n",
    "        )\n",
    "        right_M = dset.toMotion(\n",
    "            right_motion[0],\n",
    "            motion_rep=MotionRep(right_cfg.dataset.motion_rep),\n",
    "            hml_rep=right_cfg.dataset.hml_rep,\n",
    "        )\n",
    "        full_M = dset.to_full_joint_representation(body_M, left_M, right_M)\n",
    "\n",
    "        return full_M"
   ]
  },
  {
   "cell_type": "code",
   "execution_count": null,
   "id": "c7f886f9-98ab-4491-929f-134db0aad9eb",
   "metadata": {},
   "outputs": [],
   "source": [
    "for inputs, conditions in train_loader:\n",
    "    break\n",
    "    "
   ]
  },
  {
   "cell_type": "code",
   "execution_count": null,
   "id": "00f9a234-a968-4fa1-bee2-cee51940b89d",
   "metadata": {},
   "outputs": [],
   "source": []
  },
  {
   "cell_type": "code",
   "execution_count": null,
   "id": "d85d7c71-1288-41de-b3d6-aec9dadd3454",
   "metadata": {
    "scrolled": true
   },
   "outputs": [],
   "source": [
    "dset = train_ds.datasets[0]"
   ]
  },
  {
   "cell_type": "code",
   "execution_count": null,
   "id": "726932c6-5d92-4c81-a08a-93ba2dffb1ed",
   "metadata": {},
   "outputs": [],
   "source": []
  },
  {
   "cell_type": "code",
   "execution_count": null,
   "id": "aca365eb-b6bf-430a-a9e0-cf92afe27a2f",
   "metadata": {},
   "outputs": [],
   "source": []
  },
  {
   "cell_type": "code",
   "execution_count": null,
   "id": "37bd1a72-b2c5-4bd6-89fa-c9a78c8c7a7f",
   "metadata": {},
   "outputs": [],
   "source": []
  },
  {
   "cell_type": "code",
   "execution_count": null,
   "id": "b90c34dc-ddc3-4025-ae66-20e924d1c006",
   "metadata": {},
   "outputs": [],
   "source": [
    "body_inds = motions_or_ids[:,0]\n",
    "left_inds = motions_or_ids[:,1]\n",
    "right_inds = motions_or_ids[:,2]\n",
    "body_motion = body_model.decode(body_inds[0:1]).detach()\n",
    "left_motion = left_hand_model.decode(left_inds[0:1]).detach()\n",
    "right_motion = right_hand_model.decode(right_inds[0:1]).detach()\n",
    "body_M = dset.toMotion(body_motion[0] , motion_rep = MotionRep(body_cfg.dataset.motion_rep) , hml_rep = body_cfg.dataset.hml_rep , )\n",
    "left_M = dset.toMotion(left_motion[0] , motion_rep = MotionRep(left_cfg.dataset.motion_rep) , hml_rep = left_cfg.dataset.hml_rep , )\n",
    "right_M = dset.toMotion(right_motion[0] , motion_rep = MotionRep(right_cfg.dataset.motion_rep) , hml_rep = right_cfg.dataset.hml_rep , )\n",
    "full_M = dset.to_full_joint_representation(body_M , left_M , right_M )"
   ]
  },
  {
   "cell_type": "code",
   "execution_count": null,
   "id": "f1bd6e19-edbf-4b5e-ab64-831f4bc8657c",
   "metadata": {},
   "outputs": [],
   "source": []
  },
  {
   "cell_type": "code",
   "execution_count": null,
   "id": "033d957c-d3ec-4451-9610-0dde2e70e61e",
   "metadata": {},
   "outputs": [],
   "source": [
    "motion.device"
   ]
  },
  {
   "cell_type": "code",
   "execution_count": null,
   "id": "21a7657d-7d95-4398-9b05-2a84e4f861f2",
   "metadata": {},
   "outputs": [],
   "source": [
    "motion = inputs[\"motion\"][0]"
   ]
  },
  {
   "cell_type": "code",
   "execution_count": null,
   "id": "66b1ef0a-1f26-4a44-8fe3-fd4f6cdaafb6",
   "metadata": {},
   "outputs": [],
   "source": [
    "gt_motion = bkn_to_motion(motion, dset)"
   ]
  },
  {
   "cell_type": "code",
   "execution_count": null,
   "id": "f3e4c62e-118a-4095-96c2-8ec42b4ef252",
   "metadata": {},
   "outputs": [],
   "source": [
    "gt_motion.velocity.shape"
   ]
  },
  {
   "cell_type": "code",
   "execution_count": null,
   "id": "a603b399-f3c0-44d5-a131-7016920a7b60",
   "metadata": {},
   "outputs": [],
   "source": [
    "# dset.render_hml(gt_motion , \"/srv/hays-lab/scratch/sanisetty3/music_motion/ATCMG/render/full_joined.gif\", from_rotation = True)"
   ]
  },
  {
   "cell_type": "code",
   "execution_count": null,
   "id": "ca4d2846-aa37-4914-8fe1-93038119241b",
   "metadata": {},
   "outputs": [],
   "source": [
    "inputs[\"motion\"][0].shape"
   ]
  },
  {
   "cell_type": "code",
   "execution_count": null,
   "id": "bd95ad50-7c7d-46f2-a12c-97a6970d58d7",
   "metadata": {},
   "outputs": [],
   "source": [
    "body_inds = motions_or_ids[:,0]\n",
    "body_motion = body_model.decode(body_inds[0:1]).detach()\n",
    "body_M = dset.toMotion(body_motion[0] , motion_rep = MotionRep(body_cfg.dataset.motion_rep) , hml_rep = body_cfg.dataset.hml_rep , )\n"
   ]
  },
  {
   "cell_type": "code",
   "execution_count": null,
   "id": "1081399a-65ae-4747-a56d-3802a0e6c144",
   "metadata": {},
   "outputs": [],
   "source": [
    "for inputs, conditions in tqdm(train_loader):\n",
    "    # print(inputs[\"names\"][0])\n",
    "    \n",
    "    motion = inputs[\"motion\"][0][...,:300]\n",
    "    gt_motion = bkn_to_motion(motion, dset)\n",
    "    # body_inds = motion[:,0]\n",
    "    # with torch.no_grad():\n",
    "    #     body_motion = body_model.decode(body_inds[0:1]).cpu()\n",
    "    # body_M = dset.toMotion(body_motion[0] , motion_rep = MotionRep(body_cfg.dataset.motion_rep) , hml_rep = body_cfg.dataset.hml_rep , )\n",
    "\n",
    "    dset.render_hml(gt_motion , f\"/srv/hays-lab/scratch/sanisetty3/music_motion/ATCMG/render/all/{os.path.basename(inputs['names'][0])}.gif\", from_rotation = True)\n",
    "    \n"
   ]
  },
  {
   "cell_type": "code",
   "execution_count": null,
   "id": "5b06d3ea-6ea0-4aa0-a555-3908fad8c480",
   "metadata": {},
   "outputs": [],
   "source": [
    "body_M.hml_rep"
   ]
  },
  {
   "cell_type": "code",
   "execution_count": null,
   "id": "6973207f-d18e-4d3c-ab30-f42f726d3c03",
   "metadata": {},
   "outputs": [],
   "source": [
    "choreo = np.load(\"/srv/hays-lab/scratch/sanisetty3/motionx/motion_data/new_joint_vecs/choreomaster/1160.npy\")\n",
    "full_og = dset.toMotion(choreo , motion_rep = MotionRep(\"full\") , hml_rep = \"gprvc\" )\n",
    "xyz = dset.to_xyz(full_og, from_rotation=True).cpu()"
   ]
  },
  {
   "cell_type": "code",
   "execution_count": null,
   "id": "fcaf8a32-a788-4d08-bb6d-1bb311b4f0fa",
   "metadata": {},
   "outputs": [],
   "source": [
    "import utils.vis_utils.plot_3d_global as plot_3d\n",
    "plot_3d.render(\n",
    "            np.array(xyz)[:300],\n",
    "            \"/srv/hays-lab/scratch/sanisetty3/music_motion/ATCMG/render/full_og.gif\",\n",
    "        )"
   ]
  },
  {
   "cell_type": "code",
   "execution_count": null,
   "id": "1ebaf935-e899-4010-9dfb-7c28416c4f94",
   "metadata": {},
   "outputs": [],
   "source": [
    "choreo.shape"
   ]
  },
  {
   "cell_type": "code",
   "execution_count": null,
   "id": "4538193f-c369-4e1b-9d2a-5b4769cdf846",
   "metadata": {},
   "outputs": [],
   "source": [
    "full_M = dset.inv_transform(full_M)\n",
    "full_M.tensor()\n",
    "full_M.root_params = full_og.root_params[:full_M.rotations.shape[0]]\n",
    "xyz_ = dset.to_xyz(full_M, from_rotation=True).cpu()"
   ]
  },
  {
   "cell_type": "code",
   "execution_count": null,
   "id": "b7585ca9-6488-49a7-8335-8eed85e2ec06",
   "metadata": {},
   "outputs": [],
   "source": [
    "xyz_.shape"
   ]
  },
  {
   "cell_type": "code",
   "execution_count": null,
   "id": "ceec94b8-fadc-449c-97b8-4d8a617d3cdf",
   "metadata": {},
   "outputs": [],
   "source": [
    "\n",
    "plot_3d.render(\n",
    "            np.array(xyz_)[:300],\n",
    "            \"/srv/hays-lab/scratch/sanisetty3/music_motion/ATCMG/render/full_joined.gif\",\n",
    "        )"
   ]
  },
  {
   "cell_type": "code",
   "execution_count": null,
   "id": "9aabe69b-94cd-40fc-bd5f-e53f789116f2",
   "metadata": {},
   "outputs": [],
   "source": []
  },
  {
   "cell_type": "code",
   "execution_count": null,
   "id": "dc27527f-245e-4aa1-b13d-6b2b2bf06849",
   "metadata": {},
   "outputs": [],
   "source": []
  },
  {
   "cell_type": "code",
   "execution_count": null,
   "id": "8976409d-c462-4ee2-b659-7f6628691592",
   "metadata": {},
   "outputs": [],
   "source": [
    "null_conditions = model.cfg_dropout(conditions, 1.0)"
   ]
  },
  {
   "cell_type": "code",
   "execution_count": null,
   "id": "420f1487-6119-4c26-927a-aa2b00f2885d",
   "metadata": {},
   "outputs": [],
   "source": [
    "out = model.compute_predictions(inputs[\"motion\"] , conditions)"
   ]
  },
  {
   "cell_type": "code",
   "execution_count": null,
   "id": "7e0e834b-0d15-409b-a3b9-cea2fb0d50a7",
   "metadata": {
    "scrolled": true
   },
   "outputs": [],
   "source": [
    "model = model.eval()"
   ]
  },
  {
   "cell_type": "code",
   "execution_count": null,
   "id": "6f4568d9-bc05-497c-a1f6-acd5daac1ccc",
   "metadata": {},
   "outputs": [],
   "source": [
    "outt = model.generate(conditions = null_conditions , two_step_cfg =True)"
   ]
  },
  {
   "cell_type": "code",
   "execution_count": null,
   "id": "5bae0039-4a36-4130-ba7a-7974783611bf",
   "metadata": {},
   "outputs": [],
   "source": [
    "outt.shape"
   ]
  },
  {
   "cell_type": "code",
   "execution_count": null,
   "id": "341c369b-96c3-4378-8464-50e639fb022f",
   "metadata": {},
   "outputs": [],
   "source": []
  },
  {
   "cell_type": "code",
   "execution_count": null,
   "id": "16d1663e-84b2-4bac-83f2-c77eda12320e",
   "metadata": {},
   "outputs": [],
   "source": []
  },
  {
   "cell_type": "code",
   "execution_count": null,
   "id": "e9b9d584-1d77-4bac-9e50-6dbc8498e50a",
   "metadata": {},
   "outputs": [],
   "source": []
  },
  {
   "cell_type": "code",
   "execution_count": null,
   "id": "f8470b40-073a-4353-a651-99af8be59f3a",
   "metadata": {},
   "outputs": [],
   "source": [
    "import time\n",
    "start = time.time()\n",
    "for i in range(10):\n",
    "    outt = model.generate(conditions = conditions , two_step_cfg =True)\n",
    "end = time.time()\n",
    "print('custom attention took {} seconds'.format(end - start))"
   ]
  },
  {
   "cell_type": "code",
   "execution_count": null,
   "id": "2a3ff337-f1c2-4297-97e2-9a34bee74329",
   "metadata": {},
   "outputs": [],
   "source": [
    "import time\n",
    "start = time.time()\n",
    "for i in range(10):\n",
    "    outt = model.generate(conditions = conditions , two_step_cfg =True)\n",
    "end = time.time()\n",
    "print('custom attention without flash took {} seconds'.format(end - start))"
   ]
  },
  {
   "cell_type": "code",
   "execution_count": null,
   "id": "562b0f52-c008-408c-a191-222399b388f9",
   "metadata": {},
   "outputs": [],
   "source": []
  },
  {
   "cell_type": "code",
   "execution_count": null,
   "id": "8e66e0dc-d743-4da6-afbd-3aacd5d918d1",
   "metadata": {
    "scrolled": true
   },
   "outputs": [],
   "source": [
    "import time\n",
    "start = time.time()\n",
    "for i in range(10):\n",
    "    outt = model.generate(conditions = conditions , two_step_cfg =True)\n",
    "end = time.time()\n",
    "print('torch attention took {} seconds'.format(end - start))"
   ]
  },
  {
   "cell_type": "code",
   "execution_count": null,
   "id": "00118e07-384d-45b0-b8fc-ecfda0545d3d",
   "metadata": {
    "scrolled": true
   },
   "outputs": [],
   "source": []
  },
  {
   "cell_type": "code",
   "execution_count": null,
   "id": "f7ca6fa3-696e-44fa-a980-9d14e1564e5e",
   "metadata": {},
   "outputs": [],
   "source": []
  },
  {
   "cell_type": "code",
   "execution_count": null,
   "id": "72ecdff3-035e-4de1-a9c7-e071841ffc54",
   "metadata": {},
   "outputs": [],
   "source": []
  },
  {
   "cell_type": "code",
   "execution_count": null,
   "id": "f7b3f30e-3c3f-4c65-aa53-ffab3f9b032c",
   "metadata": {
    "scrolled": true
   },
   "outputs": [],
   "source": []
  },
  {
   "cell_type": "code",
   "execution_count": null,
   "id": "09223a9f-75d1-47d0-a5a8-e95f22bafbab",
   "metadata": {},
   "outputs": [],
   "source": []
  },
  {
   "cell_type": "code",
   "execution_count": null,
   "id": "a8f10cf3-7354-41a4-9387-2cbdc6e0311c",
   "metadata": {},
   "outputs": [],
   "source": []
  },
  {
   "cell_type": "code",
   "execution_count": null,
   "id": "8637bf6a-df0b-4cd8-a5df-93164ea093ba",
   "metadata": {},
   "outputs": [],
   "source": []
  },
  {
   "cell_type": "code",
   "execution_count": null,
   "id": "4feeba5d-cd88-4da8-b3b1-fa6aa37aed62",
   "metadata": {},
   "outputs": [],
   "source": [
    "model_cfg = cfg_s.transformer_lm"
   ]
  },
  {
   "cell_type": "code",
   "execution_count": null,
   "id": "e725d30c-b766-4f13-a77c-c9a6e1a8f56a",
   "metadata": {},
   "outputs": [],
   "source": [
    "params = MotionTokenizerParams(model_cfg.card)"
   ]
  },
  {
   "cell_type": "code",
   "execution_count": null,
   "id": "3de950ca-b389-492b-a5dd-442ffefc7ed5",
   "metadata": {},
   "outputs": [],
   "source": [
    "n_q = 3\n",
    "codes = inputs[\"motion\"][0].permute(0,2,1).to(torch.long)\n",
    "code_mask = inputs[\"motion\"][1]"
   ]
  },
  {
   "cell_type": "code",
   "execution_count": null,
   "id": "91b54732-8ba6-4285-9c9f-9b2f438329f2",
   "metadata": {},
   "outputs": [],
   "source": [
    "B, K, T = codes.shape\n",
    "codes = codes.contiguous()"
   ]
  },
  {
   "cell_type": "code",
   "execution_count": null,
   "id": "315e1a5f-4d3b-469a-be18-acdc7d3653d4",
   "metadata": {},
   "outputs": [],
   "source": [
    "codes.shape"
   ]
  },
  {
   "cell_type": "code",
   "execution_count": null,
   "id": "2bb884ad-ec84-4b05-8932-c879432c1efd",
   "metadata": {},
   "outputs": [],
   "source": [
    "pattern = pattern_provider.get_pattern(T)"
   ]
  },
  {
   "cell_type": "code",
   "execution_count": null,
   "id": "bd4a31af-5302-4ac8-b55f-37ce3d633d53",
   "metadata": {},
   "outputs": [],
   "source": [
    "pattern"
   ]
  },
  {
   "cell_type": "code",
   "execution_count": null,
   "id": "e2affa79-d5a2-4c1a-a109-c0c1a3fc8d42",
   "metadata": {},
   "outputs": [],
   "source": [
    "sequence_codes, sequence_indexes, sequence_mask = (\n",
    "            pattern.build_pattern_sequence(\n",
    "                codes,\n",
    "                1025,\n",
    "                keep_only_valid_steps=True,\n",
    "            )\n",
    ")"
   ]
  },
  {
   "cell_type": "code",
   "execution_count": null,
   "id": "fb69c415-f1c7-4344-bb23-8a71add2b544",
   "metadata": {},
   "outputs": [],
   "source": [
    "sequence_codes.shape"
   ]
  },
  {
   "cell_type": "code",
   "execution_count": null,
   "id": "66154dbc-7ca8-427a-9840-c09f2ea8f3b5",
   "metadata": {},
   "outputs": [],
   "source": [
    "code_mask.shape"
   ]
  },
  {
   "cell_type": "code",
   "execution_count": null,
   "id": "273247a6-8017-423d-8a25-1acd03285ce4",
   "metadata": {},
   "outputs": [],
   "source": [
    "sequence_mask.shape"
   ]
  },
  {
   "cell_type": "code",
   "execution_count": null,
   "id": "0e134f8e-af23-46e1-80f9-9505d5707e5b",
   "metadata": {},
   "outputs": [],
   "source": [
    "new_mask = torch.ones_like(sequence_mask).repeat(B , 1 , 1)\n",
    "for i in range(n_q):\n",
    "    new_mask[:,i,i+1:] = code_mask[:,0:T-i]"
   ]
  },
  {
   "cell_type": "code",
   "execution_count": null,
   "id": "099dd667-48bf-455c-9ead-a85f92113b29",
   "metadata": {},
   "outputs": [],
   "source": []
  },
  {
   "cell_type": "code",
   "execution_count": null,
   "id": "784fe530-6f4d-4dd2-8661-c97222c0da70",
   "metadata": {},
   "outputs": [],
   "source": [
    "new_mask.shape"
   ]
  },
  {
   "cell_type": "code",
   "execution_count": null,
   "id": "d67188e6-85eb-41e4-b513-2cfc605bed54",
   "metadata": {},
   "outputs": [],
   "source": []
  },
  {
   "cell_type": "code",
   "execution_count": null,
   "id": "5a02a6b4-f643-40ec-931c-27be67587d1b",
   "metadata": {},
   "outputs": [],
   "source": [
    "new_new_mask = (new_mask.sum(1) == new_mask.shape[1])"
   ]
  },
  {
   "cell_type": "code",
   "execution_count": null,
   "id": "e9728a38-64b0-4829-a2a9-de1a394e3b83",
   "metadata": {},
   "outputs": [],
   "source": [
    "new_new_mask[0]"
   ]
  },
  {
   "cell_type": "code",
   "execution_count": null,
   "id": "aba620f8-607f-4868-87d1-bdbd8bad7a2d",
   "metadata": {},
   "outputs": [],
   "source": []
  },
  {
   "cell_type": "code",
   "execution_count": null,
   "id": "140792f0-0b9c-435e-88da-375174357c0c",
   "metadata": {},
   "outputs": [],
   "source": [
    "from core.datasets.audio_encoders import EncodecConditioner"
   ]
  },
  {
   "cell_type": "code",
   "execution_count": null,
   "id": "dd45bec8-3c58-4545-9d18-2619f7a4bd94",
   "metadata": {},
   "outputs": [],
   "source": [
    "audio_list = findAllFile(\"/srv/hays-lab/scratch/sanisetty3/motionx/audio/wav/\")"
   ]
  },
  {
   "cell_type": "code",
   "execution_count": null,
   "id": "48afcbc2-375e-4d95-b97a-6ef27a397749",
   "metadata": {},
   "outputs": [],
   "source": [
    "audenc = EncodecConditioner(target_sr = 9600)\n",
    "# audlib = AudioConditionerLibrosa()"
   ]
  },
  {
   "cell_type": "code",
   "execution_count": null,
   "id": "ea049b53-c6df-4606-b859-6f34a96b1dbd",
   "metadata": {},
   "outputs": [],
   "source": [
    "for src in tqdm(audio_list):\n",
    "    embs = audenc(audio_list[0])\n",
    "    np.save(src.replace(\"/wav\" , \"/encodec\").replace(\".wav\" , \".npy\") , embs.detach().cpu().numpy())"
   ]
  },
  {
   "cell_type": "code",
   "execution_count": null,
   "id": "f37c7075-36f4-4f16-a3b5-8f4bcfa86b9b",
   "metadata": {},
   "outputs": [],
   "source": [
    "audio_list[0]"
   ]
  },
  {
   "cell_type": "code",
   "execution_count": null,
   "id": "1746469b-975c-4f4e-a86d-44ea4f646cd6",
   "metadata": {},
   "outputs": [],
   "source": [
    "emb = audenc(audio_list[0])"
   ]
  },
  {
   "cell_type": "code",
   "execution_count": null,
   "id": "4793e041-2272-42cd-92a1-7b708300f9a8",
   "metadata": {},
   "outputs": [],
   "source": [
    "emb.shape"
   ]
  },
  {
   "cell_type": "code",
   "execution_count": null,
   "id": "401c23e5-bbbf-4351-adeb-bc8cb1afe27d",
   "metadata": {},
   "outputs": [],
   "source": [
    "np.load(\"/srv/hays-lab/scratch/sanisetty3/motionx/audio/encodec/aist/mBR0.npy\").shape"
   ]
  },
  {
   "cell_type": "code",
   "execution_count": null,
   "id": "4c17c903-36ce-4813-9cb9-152a4981422e",
   "metadata": {},
   "outputs": [],
   "source": [
    "emb = audenc(\"/srv/hays-lab/scratch/sanisetty3/motionx/audio/wav/choreomaster/0071.wav\")"
   ]
  },
  {
   "cell_type": "code",
   "execution_count": null,
   "id": "19a7f591-a7e0-4722-8dcd-5d1c309e5495",
   "metadata": {
    "scrolled": true
   },
   "outputs": [],
   "source": [
    "emb2 = audlib(\"/srv/hays-lab/scratch/sanisetty3/motionx/audio/wav/choreomaster/0071.wav\")"
   ]
  },
  {
   "cell_type": "code",
   "execution_count": null,
   "id": "c3a77f68-dd04-467d-8c5c-dc32e5dd48cd",
   "metadata": {},
   "outputs": [],
   "source": [
    "emb2.shape"
   ]
  },
  {
   "cell_type": "code",
   "execution_count": null,
   "id": "ef4f8574-6d24-4b59-a0a6-89a98b931161",
   "metadata": {},
   "outputs": [],
   "source": [
    "emb.shape"
   ]
  },
  {
   "cell_type": "code",
   "execution_count": null,
   "id": "2e882bae-0397-4dfc-928e-c8b6573bed81",
   "metadata": {},
   "outputs": [],
   "source": [
    "emb1 = np.load(\"/srv/hays-lab/scratch/sanisetty3/motionx/audio/encodec/choreomaster/0071.npy\")"
   ]
  },
  {
   "cell_type": "code",
   "execution_count": null,
   "id": "a75f834f-ad5b-4cf5-96b0-255d87859e7e",
   "metadata": {},
   "outputs": [],
   "source": [
    "emb1.shape"
   ]
  }
 ],
 "metadata": {
  "kernelspec": {
   "display_name": "Python 3 (ipykernel)",
   "language": "python",
   "name": "python3"
  },
  "language_info": {
   "codemirror_mode": {
    "name": "ipython",
    "version": 3
   },
   "file_extension": ".py",
   "mimetype": "text/x-python",
   "name": "python",
   "nbconvert_exporter": "python",
   "pygments_lexer": "ipython3",
   "version": "3.9.18"
  }
 },
 "nbformat": 4,
 "nbformat_minor": 5
}
